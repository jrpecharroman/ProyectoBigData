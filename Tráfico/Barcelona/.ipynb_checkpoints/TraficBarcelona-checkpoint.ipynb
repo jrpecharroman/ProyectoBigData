{
 "cells": [
  {
   "cell_type": "markdown",
   "metadata": {},
   "source": [
    "### Analisis Datos Tráfico Barcelona"
   ]
  },
  {
   "cell_type": "markdown",
   "metadata": {},
   "source": [
    "Importamos librerías"
   ]
  },
  {
   "cell_type": "code",
   "execution_count": 2,
   "metadata": {},
   "outputs": [],
   "source": [
    "import numpy as np\n",
    "import pandas as pd\n",
    "import matplotlib.pyplot as plt"
   ]
  },
  {
   "cell_type": "markdown",
   "metadata": {},
   "source": [
    "### 2018"
   ]
  },
  {
   "cell_type": "markdown",
   "metadata": {},
   "source": [
    "### Junio"
   ]
  },
  {
   "cell_type": "markdown",
   "metadata": {},
   "source": [
    "Cargamos datos del csv desde url"
   ]
  },
  {
   "cell_type": "code",
   "execution_count": 3,
   "metadata": {},
   "outputs": [],
   "source": [
    "url_fichero = 'https://opendata-ajuntament.barcelona.cat/resources/auto/transit/2018_06_Juny_ITINERARIS_ITINERARIS.csv'\n",
    "dfTraficBarc = pd.read_csv(url_fichero)"
   ]
  },
  {
   "cell_type": "markdown",
   "metadata": {},
   "source": [
    "Mostramos columnas y valores del dataframe creado"
   ]
  },
  {
   "cell_type": "code",
   "execution_count": 4,
   "metadata": {},
   "outputs": [
    {
     "name": "stdout",
     "output_type": "stream",
     "text": [
      "Index(['idTram', 'infoDisponible', 'data', 'tempsActual', 'tempsPrevist',\n",
      "       'tempsRecorregutFutur', 'factorReferenciaActual', 'tendencia'],\n",
      "      dtype='object')\n"
     ]
    },
    {
     "data": {
      "text/html": [
       "<div>\n",
       "<style scoped>\n",
       "    .dataframe tbody tr th:only-of-type {\n",
       "        vertical-align: middle;\n",
       "    }\n",
       "\n",
       "    .dataframe tbody tr th {\n",
       "        vertical-align: top;\n",
       "    }\n",
       "\n",
       "    .dataframe thead th {\n",
       "        text-align: right;\n",
       "    }\n",
       "</style>\n",
       "<table border=\"1\" class=\"dataframe\">\n",
       "  <thead>\n",
       "    <tr style=\"text-align: right;\">\n",
       "      <th></th>\n",
       "      <th>idTram</th>\n",
       "      <th>infoDisponible</th>\n",
       "      <th>data</th>\n",
       "      <th>tempsActual</th>\n",
       "      <th>tempsPrevist</th>\n",
       "      <th>tempsRecorregutFutur</th>\n",
       "      <th>factorReferenciaActual</th>\n",
       "      <th>tendencia</th>\n",
       "    </tr>\n",
       "  </thead>\n",
       "  <tbody>\n",
       "    <tr>\n",
       "      <th>0</th>\n",
       "      <td>1</td>\n",
       "      <td>1</td>\n",
       "      <td>20180601002553</td>\n",
       "      <td>301</td>\n",
       "      <td>300</td>\n",
       "      <td>1</td>\n",
       "      <td>1</td>\n",
       "      <td>1</td>\n",
       "    </tr>\n",
       "    <tr>\n",
       "      <th>1</th>\n",
       "      <td>2</td>\n",
       "      <td>1</td>\n",
       "      <td>20180601002553</td>\n",
       "      <td>262</td>\n",
       "      <td>257</td>\n",
       "      <td>1</td>\n",
       "      <td>1</td>\n",
       "      <td>1</td>\n",
       "    </tr>\n",
       "    <tr>\n",
       "      <th>2</th>\n",
       "      <td>3</td>\n",
       "      <td>1</td>\n",
       "      <td>20180601002553</td>\n",
       "      <td>306</td>\n",
       "      <td>306</td>\n",
       "      <td>1</td>\n",
       "      <td>1</td>\n",
       "      <td>1</td>\n",
       "    </tr>\n",
       "    <tr>\n",
       "      <th>3</th>\n",
       "      <td>4</td>\n",
       "      <td>1</td>\n",
       "      <td>20180601002553</td>\n",
       "      <td>325</td>\n",
       "      <td>324</td>\n",
       "      <td>1</td>\n",
       "      <td>1</td>\n",
       "      <td>1</td>\n",
       "    </tr>\n",
       "    <tr>\n",
       "      <th>4</th>\n",
       "      <td>5</td>\n",
       "      <td>1</td>\n",
       "      <td>20180601002553</td>\n",
       "      <td>0</td>\n",
       "      <td>0</td>\n",
       "      <td>-1</td>\n",
       "      <td>-1</td>\n",
       "      <td>-1</td>\n",
       "    </tr>\n",
       "    <tr>\n",
       "      <th>...</th>\n",
       "      <td>...</td>\n",
       "      <td>...</td>\n",
       "      <td>...</td>\n",
       "      <td>...</td>\n",
       "      <td>...</td>\n",
       "      <td>...</td>\n",
       "      <td>...</td>\n",
       "      <td>...</td>\n",
       "    </tr>\n",
       "    <tr>\n",
       "      <th>123569</th>\n",
       "      <td>78</td>\n",
       "      <td>1</td>\n",
       "      <td>20180630235056</td>\n",
       "      <td>0</td>\n",
       "      <td>0</td>\n",
       "      <td>-1</td>\n",
       "      <td>-1</td>\n",
       "      <td>-1</td>\n",
       "    </tr>\n",
       "    <tr>\n",
       "      <th>123570</th>\n",
       "      <td>2001</td>\n",
       "      <td>1</td>\n",
       "      <td>20180630235056</td>\n",
       "      <td>0</td>\n",
       "      <td>0</td>\n",
       "      <td>-1</td>\n",
       "      <td>-1</td>\n",
       "      <td>-1</td>\n",
       "    </tr>\n",
       "    <tr>\n",
       "      <th>123571</th>\n",
       "      <td>2002</td>\n",
       "      <td>1</td>\n",
       "      <td>20180630235056</td>\n",
       "      <td>0</td>\n",
       "      <td>0</td>\n",
       "      <td>-1</td>\n",
       "      <td>-1</td>\n",
       "      <td>-1</td>\n",
       "    </tr>\n",
       "    <tr>\n",
       "      <th>123572</th>\n",
       "      <td>2003</td>\n",
       "      <td>1</td>\n",
       "      <td>20180630235056</td>\n",
       "      <td>0</td>\n",
       "      <td>0</td>\n",
       "      <td>-1</td>\n",
       "      <td>-1</td>\n",
       "      <td>-1</td>\n",
       "    </tr>\n",
       "    <tr>\n",
       "      <th>123573</th>\n",
       "      <td>2004</td>\n",
       "      <td>1</td>\n",
       "      <td>20180630235056</td>\n",
       "      <td>0</td>\n",
       "      <td>0</td>\n",
       "      <td>-1</td>\n",
       "      <td>-1</td>\n",
       "      <td>-1</td>\n",
       "    </tr>\n",
       "  </tbody>\n",
       "</table>\n",
       "<p>123574 rows × 8 columns</p>\n",
       "</div>"
      ],
      "text/plain": [
       "        idTram  infoDisponible            data  tempsActual  tempsPrevist  \\\n",
       "0            1               1  20180601002553          301           300   \n",
       "1            2               1  20180601002553          262           257   \n",
       "2            3               1  20180601002553          306           306   \n",
       "3            4               1  20180601002553          325           324   \n",
       "4            5               1  20180601002553            0             0   \n",
       "...        ...             ...             ...          ...           ...   \n",
       "123569      78               1  20180630235056            0             0   \n",
       "123570    2001               1  20180630235056            0             0   \n",
       "123571    2002               1  20180630235056            0             0   \n",
       "123572    2003               1  20180630235056            0             0   \n",
       "123573    2004               1  20180630235056            0             0   \n",
       "\n",
       "        tempsRecorregutFutur  factorReferenciaActual  tendencia  \n",
       "0                          1                       1          1  \n",
       "1                          1                       1          1  \n",
       "2                          1                       1          1  \n",
       "3                          1                       1          1  \n",
       "4                         -1                      -1         -1  \n",
       "...                      ...                     ...        ...  \n",
       "123569                    -1                      -1         -1  \n",
       "123570                    -1                      -1         -1  \n",
       "123571                    -1                      -1         -1  \n",
       "123572                    -1                      -1         -1  \n",
       "123573                    -1                      -1         -1  \n",
       "\n",
       "[123574 rows x 8 columns]"
      ]
     },
     "execution_count": 4,
     "metadata": {},
     "output_type": "execute_result"
    }
   ],
   "source": [
    "print(dfTraficBarc.columns)\n",
    "dfTraficBarc.head()\n",
    "dfTraficBarc"
   ]
  },
  {
   "cell_type": "markdown",
   "metadata": {},
   "source": [
    "#### Examinamos los datos"
   ]
  },
  {
   "cell_type": "markdown",
   "metadata": {},
   "source": [
    "Tipo"
   ]
  },
  {
   "cell_type": "code",
   "execution_count": 5,
   "metadata": {},
   "outputs": [
    {
     "name": "stdout",
     "output_type": "stream",
     "text": [
      "idTram                    int64\n",
      "infoDisponible            int64\n",
      "data                      int64\n",
      "tempsActual               int64\n",
      "tempsPrevist              int64\n",
      "tempsRecorregutFutur      int64\n",
      "factorReferenciaActual    int64\n",
      "tendencia                 int64\n",
      "dtype: object\n"
     ]
    }
   ],
   "source": [
    "print(dfTraficBarc.dtypes)"
   ]
  },
  {
   "cell_type": "markdown",
   "metadata": {},
   "source": [
    "Cantidad de nulos = 0"
   ]
  },
  {
   "cell_type": "code",
   "execution_count": 6,
   "metadata": {},
   "outputs": [
    {
     "data": {
      "text/plain": [
       "idTram                    0\n",
       "infoDisponible            0\n",
       "data                      0\n",
       "tempsActual               0\n",
       "tempsPrevist              0\n",
       "tempsRecorregutFutur      0\n",
       "factorReferenciaActual    0\n",
       "tendencia                 0\n",
       "dtype: int64"
      ]
     },
     "execution_count": 6,
     "metadata": {},
     "output_type": "execute_result"
    }
   ],
   "source": [
    "dfTraficBarc.isnull().sum()"
   ]
  },
  {
   "cell_type": "markdown",
   "metadata": {},
   "source": [
    "Examinamos los valores de tempsActual"
   ]
  },
  {
   "cell_type": "code",
   "execution_count": 7,
   "metadata": {},
   "outputs": [
    {
     "data": {
      "text/plain": [
       "0       46724\n",
       "164      2781\n",
       "260      2113\n",
       "104      1750\n",
       "1108     1498\n",
       "        ...  \n",
       "656         1\n",
       "528         1\n",
       "464         1\n",
       "1007        1\n",
       "1919        1\n",
       "Name: tempsActual, Length: 692, dtype: int64"
      ]
     },
     "execution_count": 7,
     "metadata": {},
     "output_type": "execute_result"
    }
   ],
   "source": [
    "dfTraficBarc['tempsActual'].value_counts()"
   ]
  },
  {
   "cell_type": "markdown",
   "metadata": {},
   "source": [
    "Eliminamos las filas con tempsActual 0. \n",
    "Ya que vamos a obtener la mediana de este campo"
   ]
  },
  {
   "cell_type": "code",
   "execution_count": 8,
   "metadata": {},
   "outputs": [
    {
     "data": {
      "text/html": [
       "<div>\n",
       "<style scoped>\n",
       "    .dataframe tbody tr th:only-of-type {\n",
       "        vertical-align: middle;\n",
       "    }\n",
       "\n",
       "    .dataframe tbody tr th {\n",
       "        vertical-align: top;\n",
       "    }\n",
       "\n",
       "    .dataframe thead th {\n",
       "        text-align: right;\n",
       "    }\n",
       "</style>\n",
       "<table border=\"1\" class=\"dataframe\">\n",
       "  <thead>\n",
       "    <tr style=\"text-align: right;\">\n",
       "      <th></th>\n",
       "      <th>idTram</th>\n",
       "      <th>infoDisponible</th>\n",
       "      <th>data</th>\n",
       "      <th>tempsActual</th>\n",
       "      <th>tempsPrevist</th>\n",
       "      <th>tempsRecorregutFutur</th>\n",
       "      <th>factorReferenciaActual</th>\n",
       "      <th>tendencia</th>\n",
       "    </tr>\n",
       "  </thead>\n",
       "  <tbody>\n",
       "    <tr>\n",
       "      <th>0</th>\n",
       "      <td>1</td>\n",
       "      <td>1</td>\n",
       "      <td>20180601002553</td>\n",
       "      <td>301</td>\n",
       "      <td>300</td>\n",
       "      <td>1</td>\n",
       "      <td>1</td>\n",
       "      <td>1</td>\n",
       "    </tr>\n",
       "    <tr>\n",
       "      <th>1</th>\n",
       "      <td>2</td>\n",
       "      <td>1</td>\n",
       "      <td>20180601002553</td>\n",
       "      <td>262</td>\n",
       "      <td>257</td>\n",
       "      <td>1</td>\n",
       "      <td>1</td>\n",
       "      <td>1</td>\n",
       "    </tr>\n",
       "    <tr>\n",
       "      <th>2</th>\n",
       "      <td>3</td>\n",
       "      <td>1</td>\n",
       "      <td>20180601002553</td>\n",
       "      <td>306</td>\n",
       "      <td>306</td>\n",
       "      <td>1</td>\n",
       "      <td>1</td>\n",
       "      <td>1</td>\n",
       "    </tr>\n",
       "    <tr>\n",
       "      <th>3</th>\n",
       "      <td>4</td>\n",
       "      <td>1</td>\n",
       "      <td>20180601002553</td>\n",
       "      <td>325</td>\n",
       "      <td>324</td>\n",
       "      <td>1</td>\n",
       "      <td>1</td>\n",
       "      <td>1</td>\n",
       "    </tr>\n",
       "    <tr>\n",
       "      <th>5</th>\n",
       "      <td>6</td>\n",
       "      <td>1</td>\n",
       "      <td>20180601002553</td>\n",
       "      <td>275</td>\n",
       "      <td>275</td>\n",
       "      <td>1</td>\n",
       "      <td>1</td>\n",
       "      <td>1</td>\n",
       "    </tr>\n",
       "    <tr>\n",
       "      <th>...</th>\n",
       "      <td>...</td>\n",
       "      <td>...</td>\n",
       "      <td>...</td>\n",
       "      <td>...</td>\n",
       "      <td>...</td>\n",
       "      <td>...</td>\n",
       "      <td>...</td>\n",
       "      <td>...</td>\n",
       "    </tr>\n",
       "    <tr>\n",
       "      <th>123563</th>\n",
       "      <td>72</td>\n",
       "      <td>0</td>\n",
       "      <td>20180630235056</td>\n",
       "      <td>179</td>\n",
       "      <td>0</td>\n",
       "      <td>1</td>\n",
       "      <td>-1</td>\n",
       "      <td>-1</td>\n",
       "    </tr>\n",
       "    <tr>\n",
       "      <th>123564</th>\n",
       "      <td>73</td>\n",
       "      <td>0</td>\n",
       "      <td>20180630235056</td>\n",
       "      <td>105</td>\n",
       "      <td>0</td>\n",
       "      <td>1</td>\n",
       "      <td>-1</td>\n",
       "      <td>-1</td>\n",
       "    </tr>\n",
       "    <tr>\n",
       "      <th>123566</th>\n",
       "      <td>75</td>\n",
       "      <td>0</td>\n",
       "      <td>20180630235056</td>\n",
       "      <td>219</td>\n",
       "      <td>0</td>\n",
       "      <td>1</td>\n",
       "      <td>-1</td>\n",
       "      <td>-1</td>\n",
       "    </tr>\n",
       "    <tr>\n",
       "      <th>123567</th>\n",
       "      <td>76</td>\n",
       "      <td>0</td>\n",
       "      <td>20180630235056</td>\n",
       "      <td>86</td>\n",
       "      <td>0</td>\n",
       "      <td>1</td>\n",
       "      <td>-1</td>\n",
       "      <td>-1</td>\n",
       "    </tr>\n",
       "    <tr>\n",
       "      <th>123568</th>\n",
       "      <td>77</td>\n",
       "      <td>1</td>\n",
       "      <td>20180630235056</td>\n",
       "      <td>431</td>\n",
       "      <td>0</td>\n",
       "      <td>1</td>\n",
       "      <td>-1</td>\n",
       "      <td>-1</td>\n",
       "    </tr>\n",
       "  </tbody>\n",
       "</table>\n",
       "<p>76850 rows × 8 columns</p>\n",
       "</div>"
      ],
      "text/plain": [
       "        idTram  infoDisponible            data  tempsActual  tempsPrevist  \\\n",
       "0            1               1  20180601002553          301           300   \n",
       "1            2               1  20180601002553          262           257   \n",
       "2            3               1  20180601002553          306           306   \n",
       "3            4               1  20180601002553          325           324   \n",
       "5            6               1  20180601002553          275           275   \n",
       "...        ...             ...             ...          ...           ...   \n",
       "123563      72               0  20180630235056          179             0   \n",
       "123564      73               0  20180630235056          105             0   \n",
       "123566      75               0  20180630235056          219             0   \n",
       "123567      76               0  20180630235056           86             0   \n",
       "123568      77               1  20180630235056          431             0   \n",
       "\n",
       "        tempsRecorregutFutur  factorReferenciaActual  tendencia  \n",
       "0                          1                       1          1  \n",
       "1                          1                       1          1  \n",
       "2                          1                       1          1  \n",
       "3                          1                       1          1  \n",
       "5                          1                       1          1  \n",
       "...                      ...                     ...        ...  \n",
       "123563                     1                      -1         -1  \n",
       "123564                     1                      -1         -1  \n",
       "123566                     1                      -1         -1  \n",
       "123567                     1                      -1         -1  \n",
       "123568                     1                      -1         -1  \n",
       "\n",
       "[76850 rows x 8 columns]"
      ]
     },
     "execution_count": 8,
     "metadata": {},
     "output_type": "execute_result"
    }
   ],
   "source": [
    "dfTraficBarc = dfTraficBarc.drop(dfTraficBarc[dfTraficBarc['tempsActual'] == 0].index)\n",
    "dfTraficBarc"
   ]
  },
  {
   "cell_type": "markdown",
   "metadata": {},
   "source": [
    "Eliminamos las columnas que no son de interes"
   ]
  },
  {
   "cell_type": "code",
   "execution_count": 9,
   "metadata": {},
   "outputs": [
    {
     "data": {
      "text/html": [
       "<div>\n",
       "<style scoped>\n",
       "    .dataframe tbody tr th:only-of-type {\n",
       "        vertical-align: middle;\n",
       "    }\n",
       "\n",
       "    .dataframe tbody tr th {\n",
       "        vertical-align: top;\n",
       "    }\n",
       "\n",
       "    .dataframe thead th {\n",
       "        text-align: right;\n",
       "    }\n",
       "</style>\n",
       "<table border=\"1\" class=\"dataframe\">\n",
       "  <thead>\n",
       "    <tr style=\"text-align: right;\">\n",
       "      <th></th>\n",
       "      <th>data</th>\n",
       "      <th>tempsActual</th>\n",
       "    </tr>\n",
       "  </thead>\n",
       "  <tbody>\n",
       "    <tr>\n",
       "      <th>0</th>\n",
       "      <td>20180601002553</td>\n",
       "      <td>301</td>\n",
       "    </tr>\n",
       "    <tr>\n",
       "      <th>1</th>\n",
       "      <td>20180601002553</td>\n",
       "      <td>262</td>\n",
       "    </tr>\n",
       "    <tr>\n",
       "      <th>2</th>\n",
       "      <td>20180601002553</td>\n",
       "      <td>306</td>\n",
       "    </tr>\n",
       "    <tr>\n",
       "      <th>3</th>\n",
       "      <td>20180601002553</td>\n",
       "      <td>325</td>\n",
       "    </tr>\n",
       "    <tr>\n",
       "      <th>5</th>\n",
       "      <td>20180601002553</td>\n",
       "      <td>275</td>\n",
       "    </tr>\n",
       "    <tr>\n",
       "      <th>...</th>\n",
       "      <td>...</td>\n",
       "      <td>...</td>\n",
       "    </tr>\n",
       "    <tr>\n",
       "      <th>123563</th>\n",
       "      <td>20180630235056</td>\n",
       "      <td>179</td>\n",
       "    </tr>\n",
       "    <tr>\n",
       "      <th>123564</th>\n",
       "      <td>20180630235056</td>\n",
       "      <td>105</td>\n",
       "    </tr>\n",
       "    <tr>\n",
       "      <th>123566</th>\n",
       "      <td>20180630235056</td>\n",
       "      <td>219</td>\n",
       "    </tr>\n",
       "    <tr>\n",
       "      <th>123567</th>\n",
       "      <td>20180630235056</td>\n",
       "      <td>86</td>\n",
       "    </tr>\n",
       "    <tr>\n",
       "      <th>123568</th>\n",
       "      <td>20180630235056</td>\n",
       "      <td>431</td>\n",
       "    </tr>\n",
       "  </tbody>\n",
       "</table>\n",
       "<p>76850 rows × 2 columns</p>\n",
       "</div>"
      ],
      "text/plain": [
       "                  data  tempsActual\n",
       "0       20180601002553          301\n",
       "1       20180601002553          262\n",
       "2       20180601002553          306\n",
       "3       20180601002553          325\n",
       "5       20180601002553          275\n",
       "...                ...          ...\n",
       "123563  20180630235056          179\n",
       "123564  20180630235056          105\n",
       "123566  20180630235056          219\n",
       "123567  20180630235056           86\n",
       "123568  20180630235056          431\n",
       "\n",
       "[76850 rows x 2 columns]"
      ]
     },
     "execution_count": 9,
     "metadata": {},
     "output_type": "execute_result"
    }
   ],
   "source": [
    "dfTraficBarc = dfTraficBarc.drop(columns = ['idTram','infoDisponible','tempsPrevist','tempsRecorregutFutur','factorReferenciaActual','tendencia'])\n",
    "dfTraficBarc"
   ]
  },
  {
   "cell_type": "markdown",
   "metadata": {},
   "source": [
    "Renombramos columnas de data por fecha"
   ]
  },
  {
   "cell_type": "code",
   "execution_count": 10,
   "metadata": {},
   "outputs": [],
   "source": [
    "dfTraficBarc = dfTraficBarc.rename(columns = {'data':'fecha'})"
   ]
  },
  {
   "cell_type": "markdown",
   "metadata": {},
   "source": [
    "#### Formateamos el campo fecha"
   ]
  },
  {
   "cell_type": "code",
   "execution_count": 11,
   "metadata": {},
   "outputs": [
    {
     "data": {
      "text/plain": [
       "0         20180601002553\n",
       "1         20180601002553\n",
       "2         20180601002553\n",
       "3         20180601002553\n",
       "5         20180601002553\n",
       "               ...      \n",
       "123563    20180630235056\n",
       "123564    20180630235056\n",
       "123566    20180630235056\n",
       "123567    20180630235056\n",
       "123568    20180630235056\n",
       "Name: fecha, Length: 76850, dtype: int64"
      ]
     },
     "execution_count": 11,
     "metadata": {},
     "output_type": "execute_result"
    }
   ],
   "source": [
    "dfTraficBarc['fecha']"
   ]
  },
  {
   "cell_type": "code",
   "execution_count": 12,
   "metadata": {},
   "outputs": [
    {
     "data": {
      "text/plain": [
       "0        2018-06-01 00:25:53\n",
       "1        2018-06-01 00:25:53\n",
       "2        2018-06-01 00:25:53\n",
       "3        2018-06-01 00:25:53\n",
       "5        2018-06-01 00:25:53\n",
       "                 ...        \n",
       "123563   2018-06-30 23:50:56\n",
       "123564   2018-06-30 23:50:56\n",
       "123566   2018-06-30 23:50:56\n",
       "123567   2018-06-30 23:50:56\n",
       "123568   2018-06-30 23:50:56\n",
       "Name: fecha, Length: 76850, dtype: datetime64[ns]"
      ]
     },
     "execution_count": 12,
     "metadata": {},
     "output_type": "execute_result"
    }
   ],
   "source": [
    "dfTraficBarc['fecha'] = pd.to_datetime(dfTraficBarc['fecha'], format='%Y%m%d%H%M%S')\n",
    "dfTraficBarc['fecha']"
   ]
  },
  {
   "cell_type": "markdown",
   "metadata": {},
   "source": [
    "#### Agrupamos"
   ]
  },
  {
   "cell_type": "markdown",
   "metadata": {},
   "source": [
    "Añadimos campo fecha como indice"
   ]
  },
  {
   "cell_type": "code",
   "execution_count": 13,
   "metadata": {},
   "outputs": [],
   "source": [
    "#dfTraficBarc.index = dfTraficBarc['data']\n",
    "#dfTraficBarc.head()"
   ]
  },
  {
   "cell_type": "code",
   "execution_count": 14,
   "metadata": {},
   "outputs": [
    {
     "data": {
      "text/html": [
       "<div>\n",
       "<style scoped>\n",
       "    .dataframe tbody tr th:only-of-type {\n",
       "        vertical-align: middle;\n",
       "    }\n",
       "\n",
       "    .dataframe tbody tr th {\n",
       "        vertical-align: top;\n",
       "    }\n",
       "\n",
       "    .dataframe thead th {\n",
       "        text-align: right;\n",
       "    }\n",
       "</style>\n",
       "<table border=\"1\" class=\"dataframe\">\n",
       "  <thead>\n",
       "    <tr style=\"text-align: right;\">\n",
       "      <th></th>\n",
       "      <th>tempsActual</th>\n",
       "    </tr>\n",
       "    <tr>\n",
       "      <th>fecha</th>\n",
       "      <th></th>\n",
       "    </tr>\n",
       "  </thead>\n",
       "  <tbody>\n",
       "    <tr>\n",
       "      <th>2018-06-01 00:25:53</th>\n",
       "      <td>301</td>\n",
       "    </tr>\n",
       "    <tr>\n",
       "      <th>2018-06-01 00:25:53</th>\n",
       "      <td>262</td>\n",
       "    </tr>\n",
       "    <tr>\n",
       "      <th>2018-06-01 00:25:53</th>\n",
       "      <td>306</td>\n",
       "    </tr>\n",
       "    <tr>\n",
       "      <th>2018-06-01 00:25:53</th>\n",
       "      <td>325</td>\n",
       "    </tr>\n",
       "    <tr>\n",
       "      <th>2018-06-01 00:25:53</th>\n",
       "      <td>275</td>\n",
       "    </tr>\n",
       "    <tr>\n",
       "      <th>...</th>\n",
       "      <td>...</td>\n",
       "    </tr>\n",
       "    <tr>\n",
       "      <th>2018-06-30 23:50:56</th>\n",
       "      <td>179</td>\n",
       "    </tr>\n",
       "    <tr>\n",
       "      <th>2018-06-30 23:50:56</th>\n",
       "      <td>105</td>\n",
       "    </tr>\n",
       "    <tr>\n",
       "      <th>2018-06-30 23:50:56</th>\n",
       "      <td>219</td>\n",
       "    </tr>\n",
       "    <tr>\n",
       "      <th>2018-06-30 23:50:56</th>\n",
       "      <td>86</td>\n",
       "    </tr>\n",
       "    <tr>\n",
       "      <th>2018-06-30 23:50:56</th>\n",
       "      <td>431</td>\n",
       "    </tr>\n",
       "  </tbody>\n",
       "</table>\n",
       "<p>76850 rows × 1 columns</p>\n",
       "</div>"
      ],
      "text/plain": [
       "                     tempsActual\n",
       "fecha                           \n",
       "2018-06-01 00:25:53          301\n",
       "2018-06-01 00:25:53          262\n",
       "2018-06-01 00:25:53          306\n",
       "2018-06-01 00:25:53          325\n",
       "2018-06-01 00:25:53          275\n",
       "...                          ...\n",
       "2018-06-30 23:50:56          179\n",
       "2018-06-30 23:50:56          105\n",
       "2018-06-30 23:50:56          219\n",
       "2018-06-30 23:50:56           86\n",
       "2018-06-30 23:50:56          431\n",
       "\n",
       "[76850 rows x 1 columns]"
      ]
     },
     "execution_count": 14,
     "metadata": {},
     "output_type": "execute_result"
    }
   ],
   "source": [
    "dfTraficBarc = dfTraficBarc.set_index('fecha')\n",
    "dfTraficBarc"
   ]
  },
  {
   "cell_type": "markdown",
   "metadata": {},
   "source": [
    "Agrupamos los registros por día y obtenemos la suma del tiempo en segundos por día"
   ]
  },
  {
   "cell_type": "code",
   "execution_count": 15,
   "metadata": {},
   "outputs": [
    {
     "data": {
      "text/html": [
       "<div>\n",
       "<style scoped>\n",
       "    .dataframe tbody tr th:only-of-type {\n",
       "        vertical-align: middle;\n",
       "    }\n",
       "\n",
       "    .dataframe tbody tr th {\n",
       "        vertical-align: top;\n",
       "    }\n",
       "\n",
       "    .dataframe thead th {\n",
       "        text-align: right;\n",
       "    }\n",
       "</style>\n",
       "<table border=\"1\" class=\"dataframe\">\n",
       "  <thead>\n",
       "    <tr style=\"text-align: right;\">\n",
       "      <th></th>\n",
       "      <th>tempsActual</th>\n",
       "    </tr>\n",
       "    <tr>\n",
       "      <th>fecha</th>\n",
       "      <th></th>\n",
       "    </tr>\n",
       "  </thead>\n",
       "  <tbody>\n",
       "    <tr>\n",
       "      <th>2018-06-01</th>\n",
       "      <td>219.0</td>\n",
       "    </tr>\n",
       "    <tr>\n",
       "      <th>2018-06-02</th>\n",
       "      <td>206.0</td>\n",
       "    </tr>\n",
       "    <tr>\n",
       "      <th>2018-06-03</th>\n",
       "      <td>206.0</td>\n",
       "    </tr>\n",
       "    <tr>\n",
       "      <th>2018-06-04</th>\n",
       "      <td>215.0</td>\n",
       "    </tr>\n",
       "    <tr>\n",
       "      <th>2018-06-05</th>\n",
       "      <td>209.0</td>\n",
       "    </tr>\n",
       "    <tr>\n",
       "      <th>2018-06-06</th>\n",
       "      <td>210.5</td>\n",
       "    </tr>\n",
       "    <tr>\n",
       "      <th>2018-06-07</th>\n",
       "      <td>208.0</td>\n",
       "    </tr>\n",
       "    <tr>\n",
       "      <th>2018-06-08</th>\n",
       "      <td>207.0</td>\n",
       "    </tr>\n",
       "    <tr>\n",
       "      <th>2018-06-09</th>\n",
       "      <td>207.0</td>\n",
       "    </tr>\n",
       "    <tr>\n",
       "      <th>2018-06-10</th>\n",
       "      <td>206.0</td>\n",
       "    </tr>\n",
       "    <tr>\n",
       "      <th>2018-06-11</th>\n",
       "      <td>219.0</td>\n",
       "    </tr>\n",
       "    <tr>\n",
       "      <th>2018-06-12</th>\n",
       "      <td>219.0</td>\n",
       "    </tr>\n",
       "    <tr>\n",
       "      <th>2018-06-13</th>\n",
       "      <td>215.0</td>\n",
       "    </tr>\n",
       "    <tr>\n",
       "      <th>2018-06-14</th>\n",
       "      <td>221.0</td>\n",
       "    </tr>\n",
       "    <tr>\n",
       "      <th>2018-06-15</th>\n",
       "      <td>228.0</td>\n",
       "    </tr>\n",
       "    <tr>\n",
       "      <th>2018-06-16</th>\n",
       "      <td>206.0</td>\n",
       "    </tr>\n",
       "    <tr>\n",
       "      <th>2018-06-17</th>\n",
       "      <td>206.0</td>\n",
       "    </tr>\n",
       "    <tr>\n",
       "      <th>2018-06-18</th>\n",
       "      <td>214.0</td>\n",
       "    </tr>\n",
       "    <tr>\n",
       "      <th>2018-06-19</th>\n",
       "      <td>215.0</td>\n",
       "    </tr>\n",
       "    <tr>\n",
       "      <th>2018-06-20</th>\n",
       "      <td>221.0</td>\n",
       "    </tr>\n",
       "    <tr>\n",
       "      <th>2018-06-21</th>\n",
       "      <td>220.0</td>\n",
       "    </tr>\n",
       "    <tr>\n",
       "      <th>2018-06-22</th>\n",
       "      <td>220.0</td>\n",
       "    </tr>\n",
       "    <tr>\n",
       "      <th>2018-06-23</th>\n",
       "      <td>206.0</td>\n",
       "    </tr>\n",
       "    <tr>\n",
       "      <th>2018-06-24</th>\n",
       "      <td>205.0</td>\n",
       "    </tr>\n",
       "    <tr>\n",
       "      <th>2018-06-25</th>\n",
       "      <td>219.0</td>\n",
       "    </tr>\n",
       "    <tr>\n",
       "      <th>2018-06-26</th>\n",
       "      <td>219.0</td>\n",
       "    </tr>\n",
       "    <tr>\n",
       "      <th>2018-06-27</th>\n",
       "      <td>220.0</td>\n",
       "    </tr>\n",
       "    <tr>\n",
       "      <th>2018-06-28</th>\n",
       "      <td>222.0</td>\n",
       "    </tr>\n",
       "    <tr>\n",
       "      <th>2018-06-29</th>\n",
       "      <td>222.0</td>\n",
       "    </tr>\n",
       "    <tr>\n",
       "      <th>2018-06-30</th>\n",
       "      <td>207.0</td>\n",
       "    </tr>\n",
       "  </tbody>\n",
       "</table>\n",
       "</div>"
      ],
      "text/plain": [
       "            tempsActual\n",
       "fecha                  \n",
       "2018-06-01        219.0\n",
       "2018-06-02        206.0\n",
       "2018-06-03        206.0\n",
       "2018-06-04        215.0\n",
       "2018-06-05        209.0\n",
       "2018-06-06        210.5\n",
       "2018-06-07        208.0\n",
       "2018-06-08        207.0\n",
       "2018-06-09        207.0\n",
       "2018-06-10        206.0\n",
       "2018-06-11        219.0\n",
       "2018-06-12        219.0\n",
       "2018-06-13        215.0\n",
       "2018-06-14        221.0\n",
       "2018-06-15        228.0\n",
       "2018-06-16        206.0\n",
       "2018-06-17        206.0\n",
       "2018-06-18        214.0\n",
       "2018-06-19        215.0\n",
       "2018-06-20        221.0\n",
       "2018-06-21        220.0\n",
       "2018-06-22        220.0\n",
       "2018-06-23        206.0\n",
       "2018-06-24        205.0\n",
       "2018-06-25        219.0\n",
       "2018-06-26        219.0\n",
       "2018-06-27        220.0\n",
       "2018-06-28        222.0\n",
       "2018-06-29        222.0\n",
       "2018-06-30        207.0"
      ]
     },
     "execution_count": 15,
     "metadata": {},
     "output_type": "execute_result"
    }
   ],
   "source": [
    "dfTraficBarcTempsActual = dfTraficBarc.resample('D').median()\n",
    "dfTraficBarcTempsActual"
   ]
  },
  {
   "cell_type": "code",
   "execution_count": 17,
   "metadata": {},
   "outputs": [
    {
     "data": {
      "text/plain": [
       "30"
      ]
     },
     "execution_count": 17,
     "metadata": {},
     "output_type": "execute_result"
    }
   ],
   "source": [
    "len(dfTraficBarcTempsActual)"
   ]
  },
  {
   "cell_type": "markdown",
   "metadata": {},
   "source": [
    "Gráfico de visualización"
   ]
  },
  {
   "cell_type": "code",
   "execution_count": 16,
   "metadata": {},
   "outputs": [
    {
     "data": {
      "image/png": "[encoded data removed]",
      "text/plain": [
       "<Figure size 432x288 with 1 Axes>"
      ]
     },
     "metadata": {
      "needs_background": "light"
     },
     "output_type": "display_data"
    }
   ],
   "source": [
    "plt.plot(dfTraficBarcTempsActual)\n",
    "plt.show()"
   ]
  },
  {
   "cell_type": "code",
   "execution_count": null,
   "metadata": {},
   "outputs": [],
   "source": []
  }
 ],
 "metadata": {
  "kernelspec": {
   "display_name": "Python 3",
   "language": "python",
   "name": "python3"
  },
  "language_info": {
   "codemirror_mode": {
    "name": "ipython",
    "version": 3
   },
   "file_extension": ".py",
   "mimetype": "text/x-python",
   "name": "python",
   "nbconvert_exporter": "python",
   "pygments_lexer": "ipython3",
   "version": "3.8.3"
  }
 },
 "nbformat": 4,
 "nbformat_minor": 4
}
