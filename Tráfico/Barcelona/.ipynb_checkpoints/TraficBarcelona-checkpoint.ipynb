{
 "cells": [
  {
   "cell_type": "markdown",
   "metadata": {},
   "source": [
    "### Limpieza datos Tráfico Barcelona"
   ]
  },
  {
   "cell_type": "markdown",
   "metadata": {},
   "source": [
    "Importamos librerías"
   ]
  },
  {
   "cell_type": "code",
   "execution_count": 317,
   "metadata": {},
   "outputs": [],
   "source": [
    "import numpy as np\n",
    "import pandas as pd\n",
    "import matplotlib.pyplot as plt"
   ]
  },
  {
   "cell_type": "markdown",
   "metadata": {},
   "source": [
    "Cargamos datos del csv desde url"
   ]
  },
  {
   "cell_type": "code",
   "execution_count": 318,
   "metadata": {},
   "outputs": [],
   "source": [
    "url_fichero = 'https://opendata-ajuntament.barcelona.cat/resources/auto/transit/2018_06_Juny_ITINERARIS_ITINERARIS.csv'\n",
    "dfTraficBarc = pd.read_csv(url_fichero)"
   ]
  },
  {
   "cell_type": "markdown",
   "metadata": {},
   "source": [
    "Mostramos columnas y valores del dataframe creado"
   ]
  },
  {
   "cell_type": "code",
   "execution_count": 319,
   "metadata": {},
   "outputs": [
    {
     "name": "stdout",
     "output_type": "stream",
     "text": [
      "Index(['idTram', 'infoDisponible', 'data', 'tempsActual', 'tempsPrevist',\n",
      "       'tempsRecorregutFutur', 'factorReferenciaActual', 'tendencia'],\n",
      "      dtype='object')\n"
     ]
    },
    {
     "data": {
      "text/html": [
       "<div>\n",
       "<style scoped>\n",
       "    .dataframe tbody tr th:only-of-type {\n",
       "        vertical-align: middle;\n",
       "    }\n",
       "\n",
       "    .dataframe tbody tr th {\n",
       "        vertical-align: top;\n",
       "    }\n",
       "\n",
       "    .dataframe thead th {\n",
       "        text-align: right;\n",
       "    }\n",
       "</style>\n",
       "<table border=\"1\" class=\"dataframe\">\n",
       "  <thead>\n",
       "    <tr style=\"text-align: right;\">\n",
       "      <th></th>\n",
       "      <th>idTram</th>\n",
       "      <th>infoDisponible</th>\n",
       "      <th>data</th>\n",
       "      <th>tempsActual</th>\n",
       "      <th>tempsPrevist</th>\n",
       "      <th>tempsRecorregutFutur</th>\n",
       "      <th>factorReferenciaActual</th>\n",
       "      <th>tendencia</th>\n",
       "    </tr>\n",
       "  </thead>\n",
       "  <tbody>\n",
       "    <tr>\n",
       "      <th>0</th>\n",
       "      <td>1</td>\n",
       "      <td>1</td>\n",
       "      <td>20180601002553</td>\n",
       "      <td>301</td>\n",
       "      <td>300</td>\n",
       "      <td>1</td>\n",
       "      <td>1</td>\n",
       "      <td>1</td>\n",
       "    </tr>\n",
       "    <tr>\n",
       "      <th>1</th>\n",
       "      <td>2</td>\n",
       "      <td>1</td>\n",
       "      <td>20180601002553</td>\n",
       "      <td>262</td>\n",
       "      <td>257</td>\n",
       "      <td>1</td>\n",
       "      <td>1</td>\n",
       "      <td>1</td>\n",
       "    </tr>\n",
       "    <tr>\n",
       "      <th>2</th>\n",
       "      <td>3</td>\n",
       "      <td>1</td>\n",
       "      <td>20180601002553</td>\n",
       "      <td>306</td>\n",
       "      <td>306</td>\n",
       "      <td>1</td>\n",
       "      <td>1</td>\n",
       "      <td>1</td>\n",
       "    </tr>\n",
       "    <tr>\n",
       "      <th>3</th>\n",
       "      <td>4</td>\n",
       "      <td>1</td>\n",
       "      <td>20180601002553</td>\n",
       "      <td>325</td>\n",
       "      <td>324</td>\n",
       "      <td>1</td>\n",
       "      <td>1</td>\n",
       "      <td>1</td>\n",
       "    </tr>\n",
       "    <tr>\n",
       "      <th>4</th>\n",
       "      <td>5</td>\n",
       "      <td>1</td>\n",
       "      <td>20180601002553</td>\n",
       "      <td>0</td>\n",
       "      <td>0</td>\n",
       "      <td>-1</td>\n",
       "      <td>-1</td>\n",
       "      <td>-1</td>\n",
       "    </tr>\n",
       "  </tbody>\n",
       "</table>\n",
       "</div>"
      ],
      "text/plain": [
       "   idTram  infoDisponible            data  tempsActual  tempsPrevist  \\\n",
       "0       1               1  20180601002553          301           300   \n",
       "1       2               1  20180601002553          262           257   \n",
       "2       3               1  20180601002553          306           306   \n",
       "3       4               1  20180601002553          325           324   \n",
       "4       5               1  20180601002553            0             0   \n",
       "\n",
       "   tempsRecorregutFutur  factorReferenciaActual  tendencia  \n",
       "0                     1                       1          1  \n",
       "1                     1                       1          1  \n",
       "2                     1                       1          1  \n",
       "3                     1                       1          1  \n",
       "4                    -1                      -1         -1  "
      ]
     },
     "execution_count": 319,
     "metadata": {},
     "output_type": "execute_result"
    }
   ],
   "source": [
    "print(dfTraficBarc.columns)\n",
    "dfTraficBarc.head()"
   ]
  },
  {
   "cell_type": "markdown",
   "metadata": {},
   "source": [
    "#### Examinamos los datos"
   ]
  },
  {
   "cell_type": "markdown",
   "metadata": {},
   "source": [
    "Tipo"
   ]
  },
  {
   "cell_type": "code",
   "execution_count": 320,
   "metadata": {},
   "outputs": [
    {
     "name": "stdout",
     "output_type": "stream",
     "text": [
      "idTram                    int64\n",
      "infoDisponible            int64\n",
      "data                      int64\n",
      "tempsActual               int64\n",
      "tempsPrevist              int64\n",
      "tempsRecorregutFutur      int64\n",
      "factorReferenciaActual    int64\n",
      "tendencia                 int64\n",
      "dtype: object\n"
     ]
    }
   ],
   "source": [
    "print(dfTraficBarc.dtypes)"
   ]
  },
  {
   "cell_type": "markdown",
   "metadata": {},
   "source": [
    "Cantidad de nulos = 0"
   ]
  },
  {
   "cell_type": "code",
   "execution_count": 321,
   "metadata": {},
   "outputs": [
    {
     "data": {
      "text/plain": [
       "idTram                    0\n",
       "infoDisponible            0\n",
       "data                      0\n",
       "tempsActual               0\n",
       "tempsPrevist              0\n",
       "tempsRecorregutFutur      0\n",
       "factorReferenciaActual    0\n",
       "tendencia                 0\n",
       "dtype: int64"
      ]
     },
     "execution_count": 321,
     "metadata": {},
     "output_type": "execute_result"
    }
   ],
   "source": [
    "dfTraficBarc.isnull().sum()"
   ]
  },
  {
   "cell_type": "markdown",
   "metadata": {},
   "source": [
    "Eliminamos las filas con tendencia 0 o -1\n",
    "Ya que estas tienen valores de medidad en 0 y no son útiles"
   ]
  },
  {
   "cell_type": "code",
   "execution_count": 322,
   "metadata": {},
   "outputs": [
    {
     "data": {
      "text/html": [
       "<div>\n",
       "<style scoped>\n",
       "    .dataframe tbody tr th:only-of-type {\n",
       "        vertical-align: middle;\n",
       "    }\n",
       "\n",
       "    .dataframe tbody tr th {\n",
       "        vertical-align: top;\n",
       "    }\n",
       "\n",
       "    .dataframe thead th {\n",
       "        text-align: right;\n",
       "    }\n",
       "</style>\n",
       "<table border=\"1\" class=\"dataframe\">\n",
       "  <thead>\n",
       "    <tr style=\"text-align: right;\">\n",
       "      <th></th>\n",
       "      <th>idTram</th>\n",
       "      <th>infoDisponible</th>\n",
       "      <th>data</th>\n",
       "      <th>tempsActual</th>\n",
       "      <th>tempsPrevist</th>\n",
       "      <th>tempsRecorregutFutur</th>\n",
       "      <th>factorReferenciaActual</th>\n",
       "      <th>tendencia</th>\n",
       "    </tr>\n",
       "  </thead>\n",
       "  <tbody>\n",
       "    <tr>\n",
       "      <th>0</th>\n",
       "      <td>1</td>\n",
       "      <td>1</td>\n",
       "      <td>20180601002553</td>\n",
       "      <td>301</td>\n",
       "      <td>300</td>\n",
       "      <td>1</td>\n",
       "      <td>1</td>\n",
       "      <td>1</td>\n",
       "    </tr>\n",
       "    <tr>\n",
       "      <th>1</th>\n",
       "      <td>2</td>\n",
       "      <td>1</td>\n",
       "      <td>20180601002553</td>\n",
       "      <td>262</td>\n",
       "      <td>257</td>\n",
       "      <td>1</td>\n",
       "      <td>1</td>\n",
       "      <td>1</td>\n",
       "    </tr>\n",
       "    <tr>\n",
       "      <th>2</th>\n",
       "      <td>3</td>\n",
       "      <td>1</td>\n",
       "      <td>20180601002553</td>\n",
       "      <td>306</td>\n",
       "      <td>306</td>\n",
       "      <td>1</td>\n",
       "      <td>1</td>\n",
       "      <td>1</td>\n",
       "    </tr>\n",
       "    <tr>\n",
       "      <th>3</th>\n",
       "      <td>4</td>\n",
       "      <td>1</td>\n",
       "      <td>20180601002553</td>\n",
       "      <td>325</td>\n",
       "      <td>324</td>\n",
       "      <td>1</td>\n",
       "      <td>1</td>\n",
       "      <td>1</td>\n",
       "    </tr>\n",
       "    <tr>\n",
       "      <th>5</th>\n",
       "      <td>6</td>\n",
       "      <td>1</td>\n",
       "      <td>20180601002553</td>\n",
       "      <td>275</td>\n",
       "      <td>275</td>\n",
       "      <td>1</td>\n",
       "      <td>1</td>\n",
       "      <td>1</td>\n",
       "    </tr>\n",
       "    <tr>\n",
       "      <th>...</th>\n",
       "      <td>...</td>\n",
       "      <td>...</td>\n",
       "      <td>...</td>\n",
       "      <td>...</td>\n",
       "      <td>...</td>\n",
       "      <td>...</td>\n",
       "      <td>...</td>\n",
       "      <td>...</td>\n",
       "    </tr>\n",
       "    <tr>\n",
       "      <th>123482</th>\n",
       "      <td>73</td>\n",
       "      <td>0</td>\n",
       "      <td>20180630232054</td>\n",
       "      <td>104</td>\n",
       "      <td>106</td>\n",
       "      <td>1</td>\n",
       "      <td>1</td>\n",
       "      <td>1</td>\n",
       "    </tr>\n",
       "    <tr>\n",
       "      <th>123483</th>\n",
       "      <td>74</td>\n",
       "      <td>0</td>\n",
       "      <td>20180630232054</td>\n",
       "      <td>75</td>\n",
       "      <td>86</td>\n",
       "      <td>1</td>\n",
       "      <td>1</td>\n",
       "      <td>1</td>\n",
       "    </tr>\n",
       "    <tr>\n",
       "      <th>123484</th>\n",
       "      <td>75</td>\n",
       "      <td>0</td>\n",
       "      <td>20180630232054</td>\n",
       "      <td>230</td>\n",
       "      <td>229</td>\n",
       "      <td>1</td>\n",
       "      <td>1</td>\n",
       "      <td>1</td>\n",
       "    </tr>\n",
       "    <tr>\n",
       "      <th>123485</th>\n",
       "      <td>76</td>\n",
       "      <td>0</td>\n",
       "      <td>20180630232054</td>\n",
       "      <td>89</td>\n",
       "      <td>88</td>\n",
       "      <td>1</td>\n",
       "      <td>1</td>\n",
       "      <td>1</td>\n",
       "    </tr>\n",
       "    <tr>\n",
       "      <th>123486</th>\n",
       "      <td>77</td>\n",
       "      <td>1</td>\n",
       "      <td>20180630232054</td>\n",
       "      <td>431</td>\n",
       "      <td>430</td>\n",
       "      <td>1</td>\n",
       "      <td>1</td>\n",
       "      <td>1</td>\n",
       "    </tr>\n",
       "  </tbody>\n",
       "</table>\n",
       "<p>74892 rows × 8 columns</p>\n",
       "</div>"
      ],
      "text/plain": [
       "        idTram  infoDisponible            data  tempsActual  tempsPrevist  \\\n",
       "0            1               1  20180601002553          301           300   \n",
       "1            2               1  20180601002553          262           257   \n",
       "2            3               1  20180601002553          306           306   \n",
       "3            4               1  20180601002553          325           324   \n",
       "5            6               1  20180601002553          275           275   \n",
       "...        ...             ...             ...          ...           ...   \n",
       "123482      73               0  20180630232054          104           106   \n",
       "123483      74               0  20180630232054           75            86   \n",
       "123484      75               0  20180630232054          230           229   \n",
       "123485      76               0  20180630232054           89            88   \n",
       "123486      77               1  20180630232054          431           430   \n",
       "\n",
       "        tempsRecorregutFutur  factorReferenciaActual  tendencia  \n",
       "0                          1                       1          1  \n",
       "1                          1                       1          1  \n",
       "2                          1                       1          1  \n",
       "3                          1                       1          1  \n",
       "5                          1                       1          1  \n",
       "...                      ...                     ...        ...  \n",
       "123482                     1                       1          1  \n",
       "123483                     1                       1          1  \n",
       "123484                     1                       1          1  \n",
       "123485                     1                       1          1  \n",
       "123486                     1                       1          1  \n",
       "\n",
       "[74892 rows x 8 columns]"
      ]
     },
     "execution_count": 322,
     "metadata": {},
     "output_type": "execute_result"
    }
   ],
   "source": [
    "dfTraficBarc = dfTraficBarc.drop(dfTraficBarc[dfTraficBarc['tendencia'] <= 0].index)\n",
    "dfTraficBarc"
   ]
  },
  {
   "cell_type": "markdown",
   "metadata": {},
   "source": [
    "Eliminamos las columnas que no son de interes"
   ]
  },
  {
   "cell_type": "code",
   "execution_count": 323,
   "metadata": {},
   "outputs": [
    {
     "data": {
      "text/html": [
       "<div>\n",
       "<style scoped>\n",
       "    .dataframe tbody tr th:only-of-type {\n",
       "        vertical-align: middle;\n",
       "    }\n",
       "\n",
       "    .dataframe tbody tr th {\n",
       "        vertical-align: top;\n",
       "    }\n",
       "\n",
       "    .dataframe thead th {\n",
       "        text-align: right;\n",
       "    }\n",
       "</style>\n",
       "<table border=\"1\" class=\"dataframe\">\n",
       "  <thead>\n",
       "    <tr style=\"text-align: right;\">\n",
       "      <th></th>\n",
       "      <th>data</th>\n",
       "      <th>tempsActual</th>\n",
       "    </tr>\n",
       "  </thead>\n",
       "  <tbody>\n",
       "    <tr>\n",
       "      <th>0</th>\n",
       "      <td>20180601002553</td>\n",
       "      <td>301</td>\n",
       "    </tr>\n",
       "    <tr>\n",
       "      <th>1</th>\n",
       "      <td>20180601002553</td>\n",
       "      <td>262</td>\n",
       "    </tr>\n",
       "    <tr>\n",
       "      <th>2</th>\n",
       "      <td>20180601002553</td>\n",
       "      <td>306</td>\n",
       "    </tr>\n",
       "    <tr>\n",
       "      <th>3</th>\n",
       "      <td>20180601002553</td>\n",
       "      <td>325</td>\n",
       "    </tr>\n",
       "    <tr>\n",
       "      <th>5</th>\n",
       "      <td>20180601002553</td>\n",
       "      <td>275</td>\n",
       "    </tr>\n",
       "    <tr>\n",
       "      <th>...</th>\n",
       "      <td>...</td>\n",
       "      <td>...</td>\n",
       "    </tr>\n",
       "    <tr>\n",
       "      <th>123482</th>\n",
       "      <td>20180630232054</td>\n",
       "      <td>104</td>\n",
       "    </tr>\n",
       "    <tr>\n",
       "      <th>123483</th>\n",
       "      <td>20180630232054</td>\n",
       "      <td>75</td>\n",
       "    </tr>\n",
       "    <tr>\n",
       "      <th>123484</th>\n",
       "      <td>20180630232054</td>\n",
       "      <td>230</td>\n",
       "    </tr>\n",
       "    <tr>\n",
       "      <th>123485</th>\n",
       "      <td>20180630232054</td>\n",
       "      <td>89</td>\n",
       "    </tr>\n",
       "    <tr>\n",
       "      <th>123486</th>\n",
       "      <td>20180630232054</td>\n",
       "      <td>431</td>\n",
       "    </tr>\n",
       "  </tbody>\n",
       "</table>\n",
       "<p>74892 rows × 2 columns</p>\n",
       "</div>"
      ],
      "text/plain": [
       "                  data  tempsActual\n",
       "0       20180601002553          301\n",
       "1       20180601002553          262\n",
       "2       20180601002553          306\n",
       "3       20180601002553          325\n",
       "5       20180601002553          275\n",
       "...                ...          ...\n",
       "123482  20180630232054          104\n",
       "123483  20180630232054           75\n",
       "123484  20180630232054          230\n",
       "123485  20180630232054           89\n",
       "123486  20180630232054          431\n",
       "\n",
       "[74892 rows x 2 columns]"
      ]
     },
     "execution_count": 323,
     "metadata": {},
     "output_type": "execute_result"
    }
   ],
   "source": [
    "dfTraficBarc = dfTraficBarc.drop(columns = ['idTram','infoDisponible','tempsPrevist','tempsRecorregutFutur','factorReferenciaActual','tendencia'])\n",
    "dfTraficBarc"
   ]
  },
  {
   "cell_type": "markdown",
   "metadata": {},
   "source": [
    "#### Formateamos el campo fecha"
   ]
  },
  {
   "cell_type": "code",
   "execution_count": 324,
   "metadata": {},
   "outputs": [
    {
     "data": {
      "text/plain": [
       "0         20180601002553\n",
       "1         20180601002553\n",
       "2         20180601002553\n",
       "3         20180601002553\n",
       "5         20180601002553\n",
       "               ...      \n",
       "123482    20180630232054\n",
       "123483    20180630232054\n",
       "123484    20180630232054\n",
       "123485    20180630232054\n",
       "123486    20180630232054\n",
       "Name: data, Length: 74892, dtype: int64"
      ]
     },
     "execution_count": 324,
     "metadata": {},
     "output_type": "execute_result"
    }
   ],
   "source": [
    "dfTraficBarc['data']"
   ]
  },
  {
   "cell_type": "code",
   "execution_count": 325,
   "metadata": {},
   "outputs": [
    {
     "data": {
      "text/plain": [
       "0        2018-06-01 00:25:53\n",
       "1        2018-06-01 00:25:53\n",
       "2        2018-06-01 00:25:53\n",
       "3        2018-06-01 00:25:53\n",
       "5        2018-06-01 00:25:53\n",
       "                 ...        \n",
       "123482   2018-06-30 23:20:54\n",
       "123483   2018-06-30 23:20:54\n",
       "123484   2018-06-30 23:20:54\n",
       "123485   2018-06-30 23:20:54\n",
       "123486   2018-06-30 23:20:54\n",
       "Name: data, Length: 74892, dtype: datetime64[ns]"
      ]
     },
     "execution_count": 325,
     "metadata": {},
     "output_type": "execute_result"
    }
   ],
   "source": [
    "dfTraficBarc['data'] = pd.to_datetime(dfTraficBarc['data'], format='%Y%m%d%H%M%S')\n",
    "dfTraficBarc['data']"
   ]
  },
  {
   "cell_type": "markdown",
   "metadata": {},
   "source": [
    "#### Agrupamos"
   ]
  },
  {
   "cell_type": "markdown",
   "metadata": {},
   "source": [
    "Añadimos campo fecha como indice"
   ]
  },
  {
   "cell_type": "code",
   "execution_count": 326,
   "metadata": {},
   "outputs": [
    {
     "data": {
      "text/html": [
       "<div>\n",
       "<style scoped>\n",
       "    .dataframe tbody tr th:only-of-type {\n",
       "        vertical-align: middle;\n",
       "    }\n",
       "\n",
       "    .dataframe tbody tr th {\n",
       "        vertical-align: top;\n",
       "    }\n",
       "\n",
       "    .dataframe thead th {\n",
       "        text-align: right;\n",
       "    }\n",
       "</style>\n",
       "<table border=\"1\" class=\"dataframe\">\n",
       "  <thead>\n",
       "    <tr style=\"text-align: right;\">\n",
       "      <th></th>\n",
       "      <th>data</th>\n",
       "      <th>tempsActual</th>\n",
       "    </tr>\n",
       "    <tr>\n",
       "      <th>data</th>\n",
       "      <th></th>\n",
       "      <th></th>\n",
       "    </tr>\n",
       "  </thead>\n",
       "  <tbody>\n",
       "    <tr>\n",
       "      <th>2018-06-01 00:25:53</th>\n",
       "      <td>2018-06-01 00:25:53</td>\n",
       "      <td>301</td>\n",
       "    </tr>\n",
       "    <tr>\n",
       "      <th>2018-06-01 00:25:53</th>\n",
       "      <td>2018-06-01 00:25:53</td>\n",
       "      <td>262</td>\n",
       "    </tr>\n",
       "    <tr>\n",
       "      <th>2018-06-01 00:25:53</th>\n",
       "      <td>2018-06-01 00:25:53</td>\n",
       "      <td>306</td>\n",
       "    </tr>\n",
       "    <tr>\n",
       "      <th>2018-06-01 00:25:53</th>\n",
       "      <td>2018-06-01 00:25:53</td>\n",
       "      <td>325</td>\n",
       "    </tr>\n",
       "    <tr>\n",
       "      <th>2018-06-01 00:25:53</th>\n",
       "      <td>2018-06-01 00:25:53</td>\n",
       "      <td>275</td>\n",
       "    </tr>\n",
       "  </tbody>\n",
       "</table>\n",
       "</div>"
      ],
      "text/plain": [
       "                                   data  tempsActual\n",
       "data                                                \n",
       "2018-06-01 00:25:53 2018-06-01 00:25:53          301\n",
       "2018-06-01 00:25:53 2018-06-01 00:25:53          262\n",
       "2018-06-01 00:25:53 2018-06-01 00:25:53          306\n",
       "2018-06-01 00:25:53 2018-06-01 00:25:53          325\n",
       "2018-06-01 00:25:53 2018-06-01 00:25:53          275"
      ]
     },
     "execution_count": 326,
     "metadata": {},
     "output_type": "execute_result"
    }
   ],
   "source": [
    "dfTraficBarc.index = dfTraficBarc['data']\n",
    "dfTraficBarc.head()"
   ]
  },
  {
   "cell_type": "markdown",
   "metadata": {},
   "source": [
    "Agrupamos los registros por día y obtenemos la suma del tiempo en segundos por día"
   ]
  },
  {
   "cell_type": "code",
   "execution_count": 328,
   "metadata": {},
   "outputs": [
    {
     "data": {
      "text/html": [
       "<div>\n",
       "<style scoped>\n",
       "    .dataframe tbody tr th:only-of-type {\n",
       "        vertical-align: middle;\n",
       "    }\n",
       "\n",
       "    .dataframe tbody tr th {\n",
       "        vertical-align: top;\n",
       "    }\n",
       "\n",
       "    .dataframe thead th {\n",
       "        text-align: right;\n",
       "    }\n",
       "</style>\n",
       "<table border=\"1\" class=\"dataframe\">\n",
       "  <thead>\n",
       "    <tr style=\"text-align: right;\">\n",
       "      <th></th>\n",
       "      <th>tempsActual</th>\n",
       "    </tr>\n",
       "    <tr>\n",
       "      <th>data</th>\n",
       "      <th></th>\n",
       "    </tr>\n",
       "  </thead>\n",
       "  <tbody>\n",
       "    <tr>\n",
       "      <th>2018-06-01</th>\n",
       "      <td>262.507256</td>\n",
       "    </tr>\n",
       "    <tr>\n",
       "      <th>2018-06-02</th>\n",
       "      <td>250.778614</td>\n",
       "    </tr>\n",
       "    <tr>\n",
       "      <th>2018-06-03</th>\n",
       "      <td>246.698329</td>\n",
       "    </tr>\n",
       "    <tr>\n",
       "      <th>2018-06-04</th>\n",
       "      <td>258.088453</td>\n",
       "    </tr>\n",
       "    <tr>\n",
       "      <th>2018-06-05</th>\n",
       "      <td>257.659761</td>\n",
       "    </tr>\n",
       "    <tr>\n",
       "      <th>2018-06-06</th>\n",
       "      <td>256.929101</td>\n",
       "    </tr>\n",
       "    <tr>\n",
       "      <th>2018-06-07</th>\n",
       "      <td>251.208897</td>\n",
       "    </tr>\n",
       "    <tr>\n",
       "      <th>2018-06-08</th>\n",
       "      <td>252.210735</td>\n",
       "    </tr>\n",
       "    <tr>\n",
       "      <th>2018-06-09</th>\n",
       "      <td>253.280954</td>\n",
       "    </tr>\n",
       "    <tr>\n",
       "      <th>2018-06-10</th>\n",
       "      <td>250.624628</td>\n",
       "    </tr>\n",
       "    <tr>\n",
       "      <th>2018-06-11</th>\n",
       "      <td>262.676534</td>\n",
       "    </tr>\n",
       "    <tr>\n",
       "      <th>2018-06-12</th>\n",
       "      <td>262.373293</td>\n",
       "    </tr>\n",
       "    <tr>\n",
       "      <th>2018-06-13</th>\n",
       "      <td>258.580827</td>\n",
       "    </tr>\n",
       "    <tr>\n",
       "      <th>2018-06-14</th>\n",
       "      <td>267.496415</td>\n",
       "    </tr>\n",
       "    <tr>\n",
       "      <th>2018-06-15</th>\n",
       "      <td>276.357606</td>\n",
       "    </tr>\n",
       "    <tr>\n",
       "      <th>2018-06-16</th>\n",
       "      <td>252.405245</td>\n",
       "    </tr>\n",
       "    <tr>\n",
       "      <th>2018-06-17</th>\n",
       "      <td>250.911535</td>\n",
       "    </tr>\n",
       "    <tr>\n",
       "      <th>2018-06-18</th>\n",
       "      <td>262.083333</td>\n",
       "    </tr>\n",
       "    <tr>\n",
       "      <th>2018-06-19</th>\n",
       "      <td>268.711032</td>\n",
       "    </tr>\n",
       "    <tr>\n",
       "      <th>2018-06-20</th>\n",
       "      <td>272.277662</td>\n",
       "    </tr>\n",
       "    <tr>\n",
       "      <th>2018-06-21</th>\n",
       "      <td>263.912127</td>\n",
       "    </tr>\n",
       "    <tr>\n",
       "      <th>2018-06-22</th>\n",
       "      <td>266.552474</td>\n",
       "    </tr>\n",
       "    <tr>\n",
       "      <th>2018-06-23</th>\n",
       "      <td>250.820433</td>\n",
       "    </tr>\n",
       "    <tr>\n",
       "      <th>2018-06-24</th>\n",
       "      <td>250.982294</td>\n",
       "    </tr>\n",
       "    <tr>\n",
       "      <th>2018-06-25</th>\n",
       "      <td>262.997044</td>\n",
       "    </tr>\n",
       "    <tr>\n",
       "      <th>2018-06-26</th>\n",
       "      <td>261.396632</td>\n",
       "    </tr>\n",
       "    <tr>\n",
       "      <th>2018-06-27</th>\n",
       "      <td>259.652961</td>\n",
       "    </tr>\n",
       "    <tr>\n",
       "      <th>2018-06-28</th>\n",
       "      <td>264.180690</td>\n",
       "    </tr>\n",
       "    <tr>\n",
       "      <th>2018-06-29</th>\n",
       "      <td>267.826983</td>\n",
       "    </tr>\n",
       "    <tr>\n",
       "      <th>2018-06-30</th>\n",
       "      <td>251.256865</td>\n",
       "    </tr>\n",
       "  </tbody>\n",
       "</table>\n",
       "</div>"
      ],
      "text/plain": [
       "            tempsActual\n",
       "data                   \n",
       "2018-06-01   262.507256\n",
       "2018-06-02   250.778614\n",
       "2018-06-03   246.698329\n",
       "2018-06-04   258.088453\n",
       "2018-06-05   257.659761\n",
       "2018-06-06   256.929101\n",
       "2018-06-07   251.208897\n",
       "2018-06-08   252.210735\n",
       "2018-06-09   253.280954\n",
       "2018-06-10   250.624628\n",
       "2018-06-11   262.676534\n",
       "2018-06-12   262.373293\n",
       "2018-06-13   258.580827\n",
       "2018-06-14   267.496415\n",
       "2018-06-15   276.357606\n",
       "2018-06-16   252.405245\n",
       "2018-06-17   250.911535\n",
       "2018-06-18   262.083333\n",
       "2018-06-19   268.711032\n",
       "2018-06-20   272.277662\n",
       "2018-06-21   263.912127\n",
       "2018-06-22   266.552474\n",
       "2018-06-23   250.820433\n",
       "2018-06-24   250.982294\n",
       "2018-06-25   262.997044\n",
       "2018-06-26   261.396632\n",
       "2018-06-27   259.652961\n",
       "2018-06-28   264.180690\n",
       "2018-06-29   267.826983\n",
       "2018-06-30   251.256865"
      ]
     },
     "execution_count": 328,
     "metadata": {},
     "output_type": "execute_result"
    }
   ],
   "source": [
    "dfTraficBarcTemp =       Barc.resample('D').mean()\n",
    "df"
   ]
  },
  {
   "cell_type": "code",
   "execution_count": 329,
   "metadata": {},
   "outputs": [
    {
     "data": {
      "image/png": "[encoded data removed]",
      "text/plain": [
       "<Figure size 432x288 with 1 Axes>"
      ]
     },
     "metadata": {
      "needs_background": "light"
     },
     "output_type": "display_data"
    }
   ],
   "source": [
    "plt.plot(df)\n",
    "plt.show()"
   ]
  },
  {
   "cell_type": "code",
   "execution_count": null,
   "metadata": {},
   "outputs": [],
   "source": []
  },
  {
   "cell_type": "code",
   "execution_count": null,
   "metadata": {},
   "outputs": [],
   "source": []
  }
 ],
 "metadata": {
  "kernelspec": {
   "display_name": "Python 3",
   "language": "python",
   "name": "python3"
  },
  "language_info": {
   "codemirror_mode": {
    "name": "ipython",
    "version": 3
   },
   "file_extension": ".py",
   "mimetype": "text/x-python",
   "name": "python",
   "nbconvert_exporter": "python",
   "pygments_lexer": "ipython3",
   "version": "3.8.3"
  }
 },
 "nbformat": 4,
 "nbformat_minor": 4
}
