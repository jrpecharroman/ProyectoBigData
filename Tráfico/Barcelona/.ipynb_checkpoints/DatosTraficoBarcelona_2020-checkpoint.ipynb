{
 "cells": [
  {
   "cell_type": "markdown",
   "metadata": {},
   "source": [
    "# Datos de Tráfico en Barcelona\n",
    "## -Descargaremos los datos disponibles para el 2020¶\n",
    "## -Descartaremos los datos no relevantes para medir la intensidad de trafico de las calles de la ciudad de Barcelona.\n",
    "## -Analizamos el estado del tráfico por horas, por franjas del día, por fines de semana\n",
    "## -Agruparemos los datos a medias por dia\n",
    "## -Sacaremos un csv resultado a mergear con las otras ramas (meteo y calidad del aire)"
   ]
  },
  {
   "cell_type": "code",
   "execution_count": 1,
   "metadata": {},
   "outputs": [
    {
     "name": "stdout",
     "output_type": "stream",
     "text": [
      "Index(['idTram', 'data', 'estatActual', 'estatPrevist'], dtype='object')\n",
      "         idTram            data  estatActual  estatPrevist\n",
      "0             1  20200101000051            0             0\n",
      "1             2  20200101000051            0             0\n",
      "2             3  20200101000051            0             0\n",
      "3             4  20200101000051            0             0\n",
      "4             5  20200101000051            0             0\n",
      "...         ...             ...          ...           ...\n",
      "4654459     530  20201231235552            1             0\n",
      "4654460     531  20201231235552            1             0\n",
      "4654461     532  20201231235552            0             0\n",
      "4654462     533  20201231235552            1             0\n",
      "4654463     534  20201231235552            1             0\n",
      "\n",
      "[54772691 rows x 4 columns]\n"
     ]
    }
   ],
   "source": [
    "import numpy as np\n",
    "import pandas as pd\n",
    "#Visualización\n",
    "from pandas.plotting import scatter_matrix\n",
    "import matplotlib.pyplot as plt\n",
    "import seaborn as sns\n",
    "\n",
    "#Obtenemos las URLs de los 12 ficheros mensuales de datos\n",
    "\n",
    "url_fichero_ene20 = 'https://opendata-ajuntament.barcelona.cat/data/dataset/8319c2b1-4c21-4962-9acd-6db4c5ff1148/resource/79900963-aa0c-4894-8ad1-512556d02f86/download'\n",
    "url_fichero_feb20 = 'https://opendata-ajuntament.barcelona.cat/data/dataset/8319c2b1-4c21-4962-9acd-6db4c5ff1148/resource/ca5ad178-39eb-4244-a162-9f025900f00f/download'\n",
    "url_fichero_mar20 = 'https://opendata-ajuntament.barcelona.cat/data/dataset/8319c2b1-4c21-4962-9acd-6db4c5ff1148/resource/8d9c2810-36cd-4334-ad8d-6c502af5982e/download'\n",
    "url_fichero_abr20 = 'https://opendata-ajuntament.barcelona.cat/data/dataset/8319c2b1-4c21-4962-9acd-6db4c5ff1148/resource/4eb2aef0-b8b3-4c13-89f6-2b1bea5ba77e/download'\n",
    "url_fichero_may20 = 'https://opendata-ajuntament.barcelona.cat/data/dataset/8319c2b1-4c21-4962-9acd-6db4c5ff1148/resource/e6a8061a-a963-422a-bc4e-14c9eddd38e9/download'\n",
    "url_fichero_jun20 = 'https://opendata-ajuntament.barcelona.cat/data/dataset/8319c2b1-4c21-4962-9acd-6db4c5ff1148/resource/b2f98828-cc16-4ccd-958f-09b368c32628/download'\n",
    "url_fichero_jul20 = 'https://opendata-ajuntament.barcelona.cat/data/dataset/8319c2b1-4c21-4962-9acd-6db4c5ff1148/resource/b6b699cb-e2c5-48de-a6ce-e776417f046d/download'\n",
    "url_fichero_ago20 = 'https://opendata-ajuntament.barcelona.cat/data/dataset/8319c2b1-4c21-4962-9acd-6db4c5ff1148/resource/3322309a-9efd-44c7-a8b1-7f8d1bb6cda6/download'\n",
    "url_fichero_sep20 = 'https://opendata-ajuntament.barcelona.cat/data/dataset/8319c2b1-4c21-4962-9acd-6db4c5ff1148/resource/a78fde10-a479-48ce-b5ef-7db489a3e8fd/download'\n",
    "url_fichero_oct20 = 'https://opendata-ajuntament.barcelona.cat/data/dataset/8319c2b1-4c21-4962-9acd-6db4c5ff1148/resource/47fafc9b-615e-4597-b5a4-2128626a29bb/download'\n",
    "url_fichero_nov20 = 'https://opendata-ajuntament.barcelona.cat/data/dataset/8319c2b1-4c21-4962-9acd-6db4c5ff1148/resource/d39a2570-de88-495a-b69a-14f712e57e33/download'\n",
    "url_fichero_dic20 = 'https://opendata-ajuntament.barcelona.cat/data/dataset/8319c2b1-4c21-4962-9acd-6db4c5ff1148/resource/58ce6905-86e9-45bf-8787-9cd43658cdc7/download'\n",
    "\n",
    "#Generamos 12 dataframes, uno por cada mes\n",
    "\n",
    "dfTrafEne20 = pd.read_csv(url_fichero_ene20)\n",
    "dfTrafFeb20 = pd.read_csv(url_fichero_feb20)\n",
    "dfTrafMar20 = pd.read_csv(url_fichero_mar20)\n",
    "dfTrafAbr20 = pd.read_csv(url_fichero_abr20)\n",
    "dfTrafMay20 = pd.read_csv(url_fichero_may20)\n",
    "dfTrafJun20 = pd.read_csv(url_fichero_jun20)\n",
    "dfTrafJul20 = pd.read_csv(url_fichero_jul20)\n",
    "dfTrafAgo20 = pd.read_csv(url_fichero_ago20)\n",
    "dfTrafSep20 = pd.read_csv(url_fichero_sep20)\n",
    "dfTrafOct20 = pd.read_csv(url_fichero_oct20)\n",
    "dfTrafNov20 = pd.read_csv(url_fichero_nov20)\n",
    "dfTrafDic20 = pd.read_csv(url_fichero_dic20)\n",
    "\n",
    "\n",
    "#Concatenamos los 12 ficheros\n",
    "\n",
    "dfTrafBarcelona20 = pd.concat([dfTrafEne20,dfTrafFeb20,dfTrafMar20,dfTrafAbr20,dfTrafMay20,dfTrafJun20,dfTrafJul20,dfTrafAgo20,dfTrafSep20,dfTrafOct20,dfTrafNov20,dfTrafDic20])\n",
    "\n",
    "print(dfTrafBarcelona20.columns)\n",
    "print(dfTrafBarcelona20)"
   ]
  },
  {
   "cell_type": "markdown",
   "metadata": {},
   "source": [
    "El dataframe completo contiene unos 54,8 Mill de registros"
   ]
  },
  {
   "cell_type": "code",
   "execution_count": 2,
   "metadata": {},
   "outputs": [
    {
     "name": "stdout",
     "output_type": "stream",
     "text": [
      "dfTrafEne20:  (4639708, 4)\n",
      "dfTrafFeb20:  (4358817, 4)\n",
      "dfTrafMar20:  (4676071, 4)\n",
      "dfTrafAbr20:  (4545902, 4)\n",
      "dfTrafMay20:  (4501107, 4)\n",
      "dfTrafJun20:  (4526403, 4)\n",
      "dfTrafJul20:  (4524295, 4)\n",
      "dfTrafAgo20:  (4691354, 4)\n",
      "dfTrafSep20:  (4467379, 4)\n",
      "dfTrafOct20:  (4678706, 4)\n",
      "dfTrafNov20:  (4508485, 4)\n",
      "dfTrafDic20:  (4654464, 4)\n"
     ]
    }
   ],
   "source": [
    "#Obtenemos el nº de registros que contiene cada dataframe mensual\n",
    "\n",
    "print('dfTrafEne20: ',dfTrafEne20.shape)\n",
    "print('dfTrafFeb20: ',dfTrafFeb20.shape)\n",
    "print('dfTrafMar20: ',dfTrafMar20.shape)\n",
    "print('dfTrafAbr20: ',dfTrafAbr20.shape)\n",
    "print('dfTrafMay20: ',dfTrafMay20.shape)\n",
    "print('dfTrafJun20: ',dfTrafJun20.shape)\n",
    "print('dfTrafJul20: ',dfTrafJul20.shape)\n",
    "print('dfTrafAgo20: ',dfTrafAgo20.shape)\n",
    "print('dfTrafSep20: ',dfTrafSep20.shape)\n",
    "print('dfTrafOct20: ',dfTrafOct20.shape)\n",
    "print('dfTrafNov20: ',dfTrafNov20.shape)\n",
    "print('dfTrafDic20: ',dfTrafDic20.shape)"
   ]
  },
  {
   "cell_type": "code",
   "execution_count": 3,
   "metadata": {},
   "outputs": [
    {
     "data": {
      "text/plain": [
       "idTram          int64\n",
       "data            int64\n",
       "estatActual     int64\n",
       "estatPrevist    int64\n",
       "dtype: object"
      ]
     },
     "execution_count": 3,
     "metadata": {},
     "output_type": "execute_result"
    }
   ],
   "source": [
    "#Miramos los tipos de los campos recogidos\n",
    "dfTrafBarcelona20.dtypes"
   ]
  },
  {
   "cell_type": "code",
   "execution_count": 4,
   "metadata": {},
   "outputs": [
    {
     "data": {
      "text/plain": [
       "idTram          0\n",
       "data            0\n",
       "estatActual     0\n",
       "estatPrevist    0\n",
       "dtype: int64"
      ]
     },
     "execution_count": 4,
     "metadata": {},
     "output_type": "execute_result"
    }
   ],
   "source": [
    "#Miramos ahora si los datos traen datos faltantes NaN\n",
    "dfTrafBarcelona20.isnull().sum()"
   ]
  },
  {
   "cell_type": "markdown",
   "metadata": {},
   "source": [
    "Observamos que el dataset no trae datos faltantes"
   ]
  },
  {
   "cell_type": "code",
   "execution_count": 5,
   "metadata": {},
   "outputs": [
    {
     "data": {
      "text/html": [
       "<div>\n",
       "<style scoped>\n",
       "    .dataframe tbody tr th:only-of-type {\n",
       "        vertical-align: middle;\n",
       "    }\n",
       "\n",
       "    .dataframe tbody tr th {\n",
       "        vertical-align: top;\n",
       "    }\n",
       "\n",
       "    .dataframe thead th {\n",
       "        text-align: right;\n",
       "    }\n",
       "</style>\n",
       "<table border=\"1\" class=\"dataframe\">\n",
       "  <thead>\n",
       "    <tr style=\"text-align: right;\">\n",
       "      <th></th>\n",
       "      <th>idTram</th>\n",
       "      <th>data</th>\n",
       "      <th>estatActual</th>\n",
       "      <th>estatPrevist</th>\n",
       "    </tr>\n",
       "  </thead>\n",
       "  <tbody>\n",
       "    <tr>\n",
       "      <th>count</th>\n",
       "      <td>5.477269e+07</td>\n",
       "      <td>5.477269e+07</td>\n",
       "      <td>5.477269e+07</td>\n",
       "      <td>5.477269e+07</td>\n",
       "    </tr>\n",
       "    <tr>\n",
       "      <th>mean</th>\n",
       "      <td>2.646300e+02</td>\n",
       "      <td>2.020067e+13</td>\n",
       "      <td>7.294595e-01</td>\n",
       "      <td>7.701821e-01</td>\n",
       "    </tr>\n",
       "    <tr>\n",
       "      <th>std</th>\n",
       "      <td>1.530839e+02</td>\n",
       "      <td>3.458577e+08</td>\n",
       "      <td>1.003844e+00</td>\n",
       "      <td>1.037608e+00</td>\n",
       "    </tr>\n",
       "    <tr>\n",
       "      <th>min</th>\n",
       "      <td>1.000000e+00</td>\n",
       "      <td>2.020010e+13</td>\n",
       "      <td>0.000000e+00</td>\n",
       "      <td>0.000000e+00</td>\n",
       "    </tr>\n",
       "    <tr>\n",
       "      <th>25%</th>\n",
       "      <td>1.320000e+02</td>\n",
       "      <td>2.020040e+13</td>\n",
       "      <td>0.000000e+00</td>\n",
       "      <td>0.000000e+00</td>\n",
       "    </tr>\n",
       "    <tr>\n",
       "      <th>50%</th>\n",
       "      <td>2.640000e+02</td>\n",
       "      <td>2.020070e+13</td>\n",
       "      <td>0.000000e+00</td>\n",
       "      <td>0.000000e+00</td>\n",
       "    </tr>\n",
       "    <tr>\n",
       "      <th>75%</th>\n",
       "      <td>3.960000e+02</td>\n",
       "      <td>2.020100e+13</td>\n",
       "      <td>2.000000e+00</td>\n",
       "      <td>1.000000e+00</td>\n",
       "    </tr>\n",
       "    <tr>\n",
       "      <th>max</th>\n",
       "      <td>5.340000e+02</td>\n",
       "      <td>2.020123e+13</td>\n",
       "      <td>6.000000e+00</td>\n",
       "      <td>6.000000e+00</td>\n",
       "    </tr>\n",
       "  </tbody>\n",
       "</table>\n",
       "</div>"
      ],
      "text/plain": [
       "             idTram          data   estatActual  estatPrevist\n",
       "count  5.477269e+07  5.477269e+07  5.477269e+07  5.477269e+07\n",
       "mean   2.646300e+02  2.020067e+13  7.294595e-01  7.701821e-01\n",
       "std    1.530839e+02  3.458577e+08  1.003844e+00  1.037608e+00\n",
       "min    1.000000e+00  2.020010e+13  0.000000e+00  0.000000e+00\n",
       "25%    1.320000e+02  2.020040e+13  0.000000e+00  0.000000e+00\n",
       "50%    2.640000e+02  2.020070e+13  0.000000e+00  0.000000e+00\n",
       "75%    3.960000e+02  2.020100e+13  2.000000e+00  1.000000e+00\n",
       "max    5.340000e+02  2.020123e+13  6.000000e+00  6.000000e+00"
      ]
     },
     "execution_count": 5,
     "metadata": {},
     "output_type": "execute_result"
    }
   ],
   "source": [
    "dfTrafBarcelona20.describe()"
   ]
  },
  {
   "cell_type": "markdown",
   "metadata": {},
   "source": [
    "El campo 'estatActual' (Estado actual) es el campo clave para nuestro análisis. Es el campo que da la medida del estado del tráfico en cada tramo de la ciudad y en cada tiempo. Los estados pueden ser: \n",
    "\n",
    "0 = sin datos / 1 = muy fluido / 2 = fluido / 3 = denso / 4 = muy denso / 5 = congestión / 6 = cortado \n",
    "\n",
    "Por tanto, se trata de una medida cualitativa (clasificada de 1 a 6). \n",
    "\n",
    "El 0 es falta de dato, por lo que necesitamos averiguar cuántos registros contienen 0 en este campo, y habrá que quitarlos."
   ]
  },
  {
   "cell_type": "code",
   "execution_count": 6,
   "metadata": {},
   "outputs": [
    {
     "data": {
      "text/plain": [
       "0    31942058\n",
       "2    11435065\n",
       "1     9129311\n",
       "3     1503606\n",
       "4      465532\n",
       "5      200641\n",
       "6       96478\n",
       "Name: estatActual, dtype: int64"
      ]
     },
     "execution_count": 6,
     "metadata": {},
     "output_type": "execute_result"
    }
   ],
   "source": [
    "dfTrafBarcelona20['estatActual'].value_counts()"
   ]
  },
  {
   "cell_type": "code",
   "execution_count": 7,
   "metadata": {},
   "outputs": [
    {
     "data": {
      "image/png": "[encoded data removed]",
      "text/plain": [
       "<Figure size 432x288 with 1 Axes>"
      ]
     },
     "metadata": {
      "needs_background": "light"
     },
     "output_type": "display_data"
    }
   ],
   "source": [
    "dfTrafBarcelona20['estatActual'].plot.hist();"
   ]
  },
  {
   "cell_type": "markdown",
   "metadata": {},
   "source": [
    "De los 54,8 Mill de registros, unos 32 Mill no tienen medida del tráfico (tienen valor 0). \n",
    "Vamos a quitarlos."
   ]
  },
  {
   "cell_type": "code",
   "execution_count": 8,
   "metadata": {},
   "outputs": [
    {
     "name": "stdout",
     "output_type": "stream",
     "text": [
      "            index  idTram            data  estatActual  estatPrevist\n",
      "0               0       1  20200101000051            0             0\n",
      "1               1       2  20200101000051            0             0\n",
      "2               2       3  20200101000051            0             0\n",
      "3               3       4  20200101000051            0             0\n",
      "4               4       5  20200101000051            0             0\n",
      "...           ...     ...             ...          ...           ...\n",
      "54772686  4654459     530  20201231235552            1             0\n",
      "54772687  4654460     531  20201231235552            1             0\n",
      "54772688  4654461     532  20201231235552            0             0\n",
      "54772689  4654462     533  20201231235552            1             0\n",
      "54772690  4654463     534  20201231235552            1             0\n",
      "\n",
      "[54772691 rows x 5 columns]\n"
     ]
    }
   ],
   "source": [
    "#Reseteamos el índice para que sea un número correlativo desde 0 hasta el último nº de fila.\n",
    "dfTrafBarcelona20 = dfTrafBarcelona20.reset_index()\n",
    "print(dfTrafBarcelona20)"
   ]
  },
  {
   "cell_type": "code",
   "execution_count": 9,
   "metadata": {},
   "outputs": [
    {
     "name": "stdout",
     "output_type": "stream",
     "text": [
      "            index  idTram            data  estatActual  estatPrevist\n",
      "16             16      17  20200101000051            1             0\n",
      "18             18      19  20200101000051            1             0\n",
      "64             64      65  20200101000051            1             0\n",
      "90             90      91  20200101000051            1             0\n",
      "92             92      93  20200101000051            5             0\n",
      "...           ...     ...             ...          ...           ...\n",
      "54772682  4654455     526  20201231235552            1             0\n",
      "54772686  4654459     530  20201231235552            1             0\n",
      "54772687  4654460     531  20201231235552            1             0\n",
      "54772689  4654462     533  20201231235552            1             0\n",
      "54772690  4654463     534  20201231235552            1             0\n",
      "\n",
      "[22830633 rows x 5 columns]\n"
     ]
    }
   ],
   "source": [
    "#Eliminamos las filas que tienen 0 en el campo Estado Actual. Nos quedan por tanto unos 22,8 Mill de registros\n",
    "dfTrafBarcelona20 = dfTrafBarcelona20.drop(dfTrafBarcelona20[dfTrafBarcelona20['estatActual']==0].index)\n",
    "print(dfTrafBarcelona20)"
   ]
  },
  {
   "cell_type": "code",
   "execution_count": 10,
   "metadata": {},
   "outputs": [
    {
     "data": {
      "image/png": "[encoded data removed]",
      "text/plain": [
       "<Figure size 432x288 with 1 Axes>"
      ]
     },
     "metadata": {
      "needs_background": "light"
     },
     "output_type": "display_data"
    }
   ],
   "source": [
    "#Volvemos a pintar el histograma habiendo quitado los registros sin dato medido\n",
    "dfTrafBarcelona20['estatActual'].plot.hist();"
   ]
  },
  {
   "cell_type": "markdown",
   "metadata": {},
   "source": [
    "Eliminamos las columnas que no nos interesan para nuestro análisis: el antiguo index y el estado previsto"
   ]
  },
  {
   "cell_type": "code",
   "execution_count": 11,
   "metadata": {},
   "outputs": [
    {
     "name": "stdout",
     "output_type": "stream",
     "text": [
      "          idTram            data  estatActual\n",
      "16            17  20200101000051            1\n",
      "18            19  20200101000051            1\n",
      "64            65  20200101000051            1\n",
      "90            91  20200101000051            1\n",
      "92            93  20200101000051            5\n",
      "...          ...             ...          ...\n",
      "54772682     526  20201231235552            1\n",
      "54772686     530  20201231235552            1\n",
      "54772687     531  20201231235552            1\n",
      "54772689     533  20201231235552            1\n",
      "54772690     534  20201231235552            1\n",
      "\n",
      "[22830633 rows x 3 columns]\n"
     ]
    }
   ],
   "source": [
    "dfTrafBarcelona20 = dfTrafBarcelona20.drop(columns=['index','estatPrevist'])\n",
    "print(dfTrafBarcelona20)"
   ]
  },
  {
   "cell_type": "markdown",
   "metadata": {},
   "source": [
    "Ahora vamos a convertir el campo 'data' en formato Fecha para convertirlo en Indice"
   ]
  },
  {
   "cell_type": "code",
   "execution_count": 12,
   "metadata": {},
   "outputs": [
    {
     "name": "stdout",
     "output_type": "stream",
     "text": [
      "          idTram                data  estatActual\n",
      "16            17 2020-01-01 00:00:51            1\n",
      "18            19 2020-01-01 00:00:51            1\n",
      "64            65 2020-01-01 00:00:51            1\n",
      "90            91 2020-01-01 00:00:51            1\n",
      "92            93 2020-01-01 00:00:51            5\n",
      "...          ...                 ...          ...\n",
      "54772682     526 2020-12-31 23:55:52            1\n",
      "54772686     530 2020-12-31 23:55:52            1\n",
      "54772687     531 2020-12-31 23:55:52            1\n",
      "54772689     533 2020-12-31 23:55:52            1\n",
      "54772690     534 2020-12-31 23:55:52            1\n",
      "\n",
      "[22830633 rows x 3 columns]\n"
     ]
    }
   ],
   "source": [
    "#Convertimos el campo 'data' en formato fecha\n",
    "dfTrafBarcelona20['data'] = pd.to_datetime(dfTrafBarcelona20['data'], format='%Y%m%d%H%M%S')\n",
    "print(dfTrafBarcelona20)"
   ]
  },
  {
   "cell_type": "code",
   "execution_count": 13,
   "metadata": {},
   "outputs": [
    {
     "name": "stdout",
     "output_type": "stream",
     "text": [
      "          idTram               Fecha  Estado_Actual\n",
      "16            17 2020-01-01 00:00:51              1\n",
      "18            19 2020-01-01 00:00:51              1\n",
      "64            65 2020-01-01 00:00:51              1\n",
      "90            91 2020-01-01 00:00:51              1\n",
      "92            93 2020-01-01 00:00:51              5\n",
      "...          ...                 ...            ...\n",
      "54772682     526 2020-12-31 23:55:52              1\n",
      "54772686     530 2020-12-31 23:55:52              1\n",
      "54772687     531 2020-12-31 23:55:52              1\n",
      "54772689     533 2020-12-31 23:55:52              1\n",
      "54772690     534 2020-12-31 23:55:52              1\n",
      "\n",
      "[22830633 rows x 3 columns]\n"
     ]
    }
   ],
   "source": [
    "#Renombramos los campos\n",
    "dfTrafBarcelona20.rename(columns = {'data': 'Fecha', 'estatActual': 'Estado_Actual'}, inplace = True)\n",
    "print(dfTrafBarcelona20)"
   ]
  },
  {
   "cell_type": "code",
   "execution_count": 14,
   "metadata": {},
   "outputs": [
    {
     "name": "stdout",
     "output_type": "stream",
     "text": [
      "                     idTram  Estado_Actual\n",
      "Fecha                                     \n",
      "2020-01-01 00:00:51      17              1\n",
      "2020-01-01 00:00:51      19              1\n",
      "2020-01-01 00:00:51      65              1\n",
      "2020-01-01 00:00:51      91              1\n",
      "2020-01-01 00:00:51      93              5\n",
      "...                     ...            ...\n",
      "2020-12-31 23:55:52     526              1\n",
      "2020-12-31 23:55:52     530              1\n",
      "2020-12-31 23:55:52     531              1\n",
      "2020-12-31 23:55:52     533              1\n",
      "2020-12-31 23:55:52     534              1\n",
      "\n",
      "[22830633 rows x 2 columns]\n"
     ]
    }
   ],
   "source": [
    "#Convertimos la fecha en el índice\n",
    "dfTrafBarcelona20 = dfTrafBarcelona20.set_index('Fecha')\n",
    "print(dfTrafBarcelona20)"
   ]
  },
  {
   "cell_type": "markdown",
   "metadata": {},
   "source": [
    "Y ahora agrupamos todos los datos por día calculando las medias por día. Recordamos que todos los valores dados para un día son en los diferentes tramos y en los diferentes minutos. Estamos así obteniendo el estado medio del tráfico por día en toda la ciudad. \n",
    "\n",
    "Al agrupar por la media estamos convirtiendo el campo Estado en una medida continua, no clasificada. Lo preferimos así para obtener un rango mayor de medidas, pues si usásemos la mediana sólo obtendríamos dos valores diferentes en todo el dataframe: '1' y '2', muchísimo más frecuentes que el resto de valores."
   ]
  },
  {
   "cell_type": "code",
   "execution_count": 15,
   "metadata": {},
   "outputs": [
    {
     "name": "stdout",
     "output_type": "stream",
     "text": [
      "                idTram  Estado_Actual\n",
      "Fecha                                \n",
      "2020-01-01  259.210773       1.471831\n",
      "2020-01-02  259.202226       1.804764\n",
      "2020-01-03  262.357220       1.835039\n",
      "2020-01-04  262.822200       1.656703\n",
      "2020-01-05  264.643464       1.595707\n",
      "...                ...            ...\n",
      "2020-12-27  268.312216       1.485779\n",
      "2020-12-28  262.355045       1.829776\n",
      "2020-12-29  262.108150       1.828526\n",
      "2020-12-30  261.698511       1.855909\n",
      "2020-12-31  263.028131       1.728937\n",
      "\n",
      "[366 rows x 2 columns]\n"
     ]
    }
   ],
   "source": [
    "dfTrafBarcelona20_pordias = dfTrafBarcelona20.resample('D').mean()\n",
    "print(dfTrafBarcelona20_pordias)"
   ]
  },
  {
   "cell_type": "code",
   "execution_count": 16,
   "metadata": {},
   "outputs": [
    {
     "data": {
      "text/plain": [
       "idTram           78\n",
       "Estado_Actual    78\n",
       "dtype: int64"
      ]
     },
     "execution_count": 16,
     "metadata": {},
     "output_type": "execute_result"
    }
   ],
   "source": [
    "#Comprobamos si ha quedado algún día sin dato (la función resample('D') lo habrá registrado con un NaN )\n",
    "\n",
    "dfTrafBarcelona20_pordias.isnull().sum()"
   ]
  },
  {
   "cell_type": "markdown",
   "metadata": {},
   "source": [
    "Eliminamos el campo idtram que ahora no tiene sentido"
   ]
  },
  {
   "cell_type": "code",
   "execution_count": 17,
   "metadata": {},
   "outputs": [],
   "source": [
    "dfTrafBarcelona20_pordias = dfTrafBarcelona20_pordias.drop(columns=['idTram'])"
   ]
  },
  {
   "cell_type": "markdown",
   "metadata": {},
   "source": [
    "Han quedado 78 días sin dato medio de tráfico. Vamos a rellenarlos con medianas"
   ]
  },
  {
   "cell_type": "code",
   "execution_count": 18,
   "metadata": {},
   "outputs": [
    {
     "name": "stdout",
     "output_type": "stream",
     "text": [
      "            Estado_Actual\n",
      "Fecha                    \n",
      "2020-01-01       1.471831\n",
      "2020-01-02       1.804764\n",
      "2020-01-03       1.835039\n",
      "2020-01-04       1.656703\n",
      "2020-01-05       1.595707\n",
      "...                   ...\n",
      "2020-12-27       1.485779\n",
      "2020-12-28       1.829776\n",
      "2020-12-29       1.828526\n",
      "2020-12-30       1.855909\n",
      "2020-12-31       1.728937\n",
      "\n",
      "[366 rows x 1 columns]\n",
      "Estado_Actual    0\n",
      "dtype: int64\n"
     ]
    }
   ],
   "source": [
    "#Primero creamos la copia para rellenar\n",
    "dfTrafBarcelona20_pordias_rellenado = dfTrafBarcelona20_pordias.copy()\n",
    "\n",
    "#Importamos la función SimpleImputer del módulo sklearn.impute\n",
    "from sklearn.impute import SimpleImputer\n",
    "\n",
    "#Instanciamos el imputador de estrategia media\n",
    "imp_median = SimpleImputer(missing_values=np.nan, strategy='median')\n",
    "\n",
    "#Ahora rellenamos los valores faltantes de ambos contaminantes con los valores medios.\n",
    "dfTrafBarcelona20_pordias_rellenado['Estado_Actual'] = imp_median.fit_transform(dfTrafBarcelona20_pordias['Estado_Actual'].values.reshape(-1,1))\n",
    "\n",
    "print(dfTrafBarcelona20_pordias_rellenado)\n",
    "print(dfTrafBarcelona20_pordias_rellenado.isnull().sum())"
   ]
  },
  {
   "cell_type": "code",
   "execution_count": 19,
   "metadata": {},
   "outputs": [
    {
     "data": {
      "text/html": [
       "<div>\n",
       "<style scoped>\n",
       "    .dataframe tbody tr th:only-of-type {\n",
       "        vertical-align: middle;\n",
       "    }\n",
       "\n",
       "    .dataframe tbody tr th {\n",
       "        vertical-align: top;\n",
       "    }\n",
       "\n",
       "    .dataframe thead th {\n",
       "        text-align: right;\n",
       "    }\n",
       "</style>\n",
       "<table border=\"1\" class=\"dataframe\">\n",
       "  <thead>\n",
       "    <tr style=\"text-align: right;\">\n",
       "      <th></th>\n",
       "      <th>Estado_Actual</th>\n",
       "    </tr>\n",
       "  </thead>\n",
       "  <tbody>\n",
       "    <tr>\n",
       "      <th>count</th>\n",
       "      <td>366.000000</td>\n",
       "    </tr>\n",
       "    <tr>\n",
       "      <th>mean</th>\n",
       "      <td>1.749045</td>\n",
       "    </tr>\n",
       "    <tr>\n",
       "      <th>std</th>\n",
       "      <td>0.178307</td>\n",
       "    </tr>\n",
       "    <tr>\n",
       "      <th>min</th>\n",
       "      <td>1.236776</td>\n",
       "    </tr>\n",
       "    <tr>\n",
       "      <th>25%</th>\n",
       "      <td>1.644832</td>\n",
       "    </tr>\n",
       "    <tr>\n",
       "      <th>50%</th>\n",
       "      <td>1.793602</td>\n",
       "    </tr>\n",
       "    <tr>\n",
       "      <th>75%</th>\n",
       "      <td>1.857053</td>\n",
       "    </tr>\n",
       "    <tr>\n",
       "      <th>max</th>\n",
       "      <td>2.140558</td>\n",
       "    </tr>\n",
       "  </tbody>\n",
       "</table>\n",
       "</div>"
      ],
      "text/plain": [
       "       Estado_Actual\n",
       "count     366.000000\n",
       "mean        1.749045\n",
       "std         0.178307\n",
       "min         1.236776\n",
       "25%         1.644832\n",
       "50%         1.793602\n",
       "75%         1.857053\n",
       "max         2.140558"
      ]
     },
     "execution_count": 19,
     "metadata": {},
     "output_type": "execute_result"
    }
   ],
   "source": [
    "dfTrafBarcelona20_pordias_rellenado.describe()"
   ]
  },
  {
   "cell_type": "markdown",
   "metadata": {},
   "source": [
    "Exportamos a un fichero csv el dataframe trabajado resultante"
   ]
  },
  {
   "cell_type": "code",
   "execution_count": 20,
   "metadata": {},
   "outputs": [],
   "source": [
    "dfTrafBarcelona20_pordias_rellenado.to_csv('DatosEstadoTraficoBarcelona_2020.csv')"
   ]
  },
  {
   "cell_type": "markdown",
   "metadata": {},
   "source": [
    "El problema es que nos quedan tan solo valores de Estado de entre 1.237 y 2.14, como medias de cada día. Esto se debe a:\n",
    "\n",
    "- que muchos tramos de la ciudad son de tráfico fluido y al hacer media con los tramos más congestionados invisibilizan dicha congestión. \n",
    "- que la cantidad de horas en que el tráfico está más congestionado es pequeña en relación a las 24 h del día. La mayor parte de esas 24 h, el tráfico se mantiene fluido. \n",
    "- y que están incluidos los fines de semana, en los que se supone que el tráfico es más fluido.\n",
    "\n",
    "Para intentar dar más relevancia al tráfico que sucede durante el día, vamos a segmentar nuestro dataframe en tres franjas: madrugada (de 23 h a 6 h), mañana (de 6 h a 14 h) y tarde (de 14 h a 23 h), para ver sus histogramas por separado, y decidir si quitamos los datos correspondientes a la madrugada.\n",
    "\n",
    "También vamos a analizar la diferencia que se pueda notar entre fines de semana y días laborables.\n",
    "\n",
    "Por último analizaremos las diferencias entre tramos de la ciudad"
   ]
  },
  {
   "cell_type": "code",
   "execution_count": 21,
   "metadata": {},
   "outputs": [
    {
     "name": "stdout",
     "output_type": "stream",
     "text": [
      "                     idTram  Estado_Actual  hora     franja  diadelasemana  \\\n",
      "Fecha                                                                        \n",
      "2020-01-01 00:00:51      17              1     0  Madrugada              2   \n",
      "2020-01-01 00:00:51      19              1     0  Madrugada              2   \n",
      "2020-01-01 00:00:51      65              1     0  Madrugada              2   \n",
      "2020-01-01 00:00:51      91              1     0  Madrugada              2   \n",
      "2020-01-01 00:00:51      93              5     0  Madrugada              2   \n",
      "...                     ...            ...   ...        ...            ...   \n",
      "2020-12-31 23:55:52     526              1    23  Madrugada              3   \n",
      "2020-12-31 23:55:52     530              1    23  Madrugada              3   \n",
      "2020-12-31 23:55:52     531              1    23  Madrugada              3   \n",
      "2020-12-31 23:55:52     533              1    23  Madrugada              3   \n",
      "2020-12-31 23:55:52     534              1    23  Madrugada              3   \n",
      "\n",
      "                     findesemana  \n",
      "Fecha                             \n",
      "2020-01-01 00:00:51            0  \n",
      "2020-01-01 00:00:51            0  \n",
      "2020-01-01 00:00:51            0  \n",
      "2020-01-01 00:00:51            0  \n",
      "2020-01-01 00:00:51            0  \n",
      "...                          ...  \n",
      "2020-12-31 23:55:52            0  \n",
      "2020-12-31 23:55:52            0  \n",
      "2020-12-31 23:55:52            0  \n",
      "2020-12-31 23:55:52            0  \n",
      "2020-12-31 23:55:52            0  \n",
      "\n",
      "[22830633 rows x 6 columns]\n"
     ]
    }
   ],
   "source": [
    "dfTrafBarcelona20['hora'] = dfTrafBarcelona20.index.hour\n",
    "franjas = {\n",
    "             0: 'Madrugada',\n",
    "             1: 'Madrugada',\n",
    "             2: 'Madrugada',\n",
    "             3: 'Madrugada',\n",
    "             4: 'Madrugada',\n",
    "             5: 'Madrugada',\n",
    "             6: 'Mañana',\n",
    "             7: 'Mañana',\n",
    "             8: 'Mañana',\n",
    "             9: 'Mañana',\n",
    "             10: 'Mañana',\n",
    "             11: 'Mañana',\n",
    "             12: 'Mañana',\n",
    "             13: 'Mañana',\n",
    "             14: 'Tarde',\n",
    "             15: 'Tarde',\n",
    "             16: 'Tarde',\n",
    "             17: 'Tarde',\n",
    "             18: 'Tarde',\n",
    "             19: 'Tarde',\n",
    "             20: 'Tarde',\n",
    "             21: 'Tarde',\n",
    "             22: 'Tarde',\n",
    "             23: 'Madrugada'\n",
    "}\n",
    "dfTrafBarcelona20['franja'] = dfTrafBarcelona20['hora'].map(franjas)\n",
    "dfTrafBarcelona20['diadelasemana'] = dfTrafBarcelona20.index.dayofweek\n",
    "dfTrafBarcelona20['findesemana'] = (dfTrafBarcelona20.index.dayofweek // 5 == 1).astype(int)\n",
    "print(dfTrafBarcelona20)"
   ]
  },
  {
   "cell_type": "code",
   "execution_count": 22,
   "metadata": {},
   "outputs": [
    {
     "data": {
      "text/plain": [
       "Tarde        11161266\n",
       "Mañana        9098317\n",
       "Madrugada     2571050\n",
       "Name: franja, dtype: int64"
      ]
     },
     "execution_count": 22,
     "metadata": {},
     "output_type": "execute_result"
    }
   ],
   "source": [
    "dfTrafBarcelona20.franja.value_counts()"
   ]
  },
  {
   "cell_type": "code",
   "execution_count": 23,
   "metadata": {},
   "outputs": [
    {
     "data": {
      "text/plain": [
       "3    3524910\n",
       "4    3468084\n",
       "2    3388637\n",
       "1    3287043\n",
       "0    3228794\n",
       "5    3109798\n",
       "6    2823367\n",
       "Name: diadelasemana, dtype: int64"
      ]
     },
     "execution_count": 23,
     "metadata": {},
     "output_type": "execute_result"
    }
   ],
   "source": [
    "dfTrafBarcelona20.diadelasemana.value_counts()"
   ]
  },
  {
   "cell_type": "markdown",
   "metadata": {},
   "source": [
    "Los días de la semana van de 0=Lunes a 6=Domingo"
   ]
  },
  {
   "cell_type": "code",
   "execution_count": 24,
   "metadata": {},
   "outputs": [
    {
     "data": {
      "text/plain": [
       "0    16897468\n",
       "1     5933165\n",
       "Name: findesemana, dtype: int64"
      ]
     },
     "execution_count": 24,
     "metadata": {},
     "output_type": "execute_result"
    }
   ],
   "source": [
    "dfTrafBarcelona20.findesemana.value_counts()"
   ]
  },
  {
   "cell_type": "markdown",
   "metadata": {},
   "source": [
    "El campo findesemana vale 1 cuando se trata de fin de semana y 0 cuando es día laborable"
   ]
  },
  {
   "cell_type": "markdown",
   "metadata": {},
   "source": [
    "Comprobamos la distribución del tráfico a lo largo de las 24 horas del día"
   ]
  },
  {
   "cell_type": "code",
   "execution_count": 25,
   "metadata": {},
   "outputs": [
    {
     "data": {
      "image/png": "[encoded data removed]",
      "text/plain": [
       "<Figure size 1080x576 with 1 Axes>"
      ]
     },
     "metadata": {
      "needs_background": "light"
     },
     "output_type": "display_data"
    }
   ],
   "source": [
    "plt.figure(figsize=(15,8))\n",
    "sns.histplot(data=dfTrafBarcelona20, x='hora', hue='Estado_Actual', binwidth=1, multiple=\"stack\");"
   ]
  },
  {
   "cell_type": "markdown",
   "metadata": {},
   "source": [
    "Vemos que en realidad a cualquier hora, el tráfico es mucho más frecuentemente fluido que congestionado. Las medias seguirán dándonos valores bajos de tráfico, pero de todas formas continuamos."
   ]
  },
  {
   "cell_type": "markdown",
   "metadata": {},
   "source": [
    "Vamos a visualizar en histograma la distribución del tráfico en las 3 franjas"
   ]
  },
  {
   "cell_type": "code",
   "execution_count": 26,
   "metadata": {},
   "outputs": [
    {
     "data": {
      "image/png": "[encoded data removed]",
      "text/plain": [
       "<Figure size 432x288 with 1 Axes>"
      ]
     },
     "metadata": {
      "needs_background": "light"
     },
     "output_type": "display_data"
    }
   ],
   "source": [
    "#Juntos en un único gráfico\n",
    "sns.histplot(data=dfTrafBarcelona20, x='Estado_Actual', hue='franja', binwidth=1, multiple=\"stack\");"
   ]
  },
  {
   "cell_type": "markdown",
   "metadata": {},
   "source": [
    "Comprobamos que efectivamente durante la madrugada no hay casi tráfico, y vamos a mirarlo en un gráfico propio."
   ]
  },
  {
   "cell_type": "code",
   "execution_count": 27,
   "metadata": {},
   "outputs": [
    {
     "data": {
      "image/png": "[encoded data removed]",
      "text/plain": [
       "<Figure size 432x288 with 1 Axes>"
      ]
     },
     "metadata": {
      "needs_background": "light"
     },
     "output_type": "display_data"
    }
   ],
   "source": [
    "dfTrafBarcelona20['Estado_Actual'].loc[dfTrafBarcelona20['franja']=='Madrugada'].plot.hist();"
   ]
  },
  {
   "cell_type": "markdown",
   "metadata": {},
   "source": [
    "Vamos a quitar por tanto los registros de las horas de madrugada, para así centrar nuestro análisis en la influencia de las horas del día."
   ]
  },
  {
   "cell_type": "code",
   "execution_count": 28,
   "metadata": {},
   "outputs": [
    {
     "name": "stdout",
     "output_type": "stream",
     "text": [
      "                     idTram  Estado_Actual  hora  franja  diadelasemana  \\\n",
      "Fecha                                                                     \n",
      "2020-01-01 06:00:52       2              1     6  Mañana              2   \n",
      "2020-01-01 06:00:52       4              1     6  Mañana              2   \n",
      "2020-01-01 06:00:52       6              1     6  Mañana              2   \n",
      "2020-01-01 06:00:52       8              1     6  Mañana              2   \n",
      "2020-01-01 06:00:52      16              2     6  Mañana              2   \n",
      "...                     ...            ...   ...     ...            ...   \n",
      "2020-12-31 22:55:51     530              1    22   Tarde              3   \n",
      "2020-12-31 22:55:51     531              1    22   Tarde              3   \n",
      "2020-12-31 22:55:51     532              1    22   Tarde              3   \n",
      "2020-12-31 22:55:51     533              1    22   Tarde              3   \n",
      "2020-12-31 22:55:51     534              1    22   Tarde              3   \n",
      "\n",
      "                     findesemana  \n",
      "Fecha                             \n",
      "2020-01-01 06:00:52            0  \n",
      "2020-01-01 06:00:52            0  \n",
      "2020-01-01 06:00:52            0  \n",
      "2020-01-01 06:00:52            0  \n",
      "2020-01-01 06:00:52            0  \n",
      "...                          ...  \n",
      "2020-12-31 22:55:51            0  \n",
      "2020-12-31 22:55:51            0  \n",
      "2020-12-31 22:55:51            0  \n",
      "2020-12-31 22:55:51            0  \n",
      "2020-12-31 22:55:51            0  \n",
      "\n",
      "[20259583 rows x 6 columns]\n"
     ]
    }
   ],
   "source": [
    "dfTrafBarcelona20_sinmadrugadas = dfTrafBarcelona20.loc[dfTrafBarcelona20['franja']!='Madrugada']\n",
    "print(dfTrafBarcelona20_sinmadrugadas)"
   ]
  },
  {
   "cell_type": "markdown",
   "metadata": {},
   "source": [
    "Vamos ahora a mirar las posibles diferencias entre fines de semana (valor 'findesemana' = 1) y días laborables (valor 'findesemana' = 0)"
   ]
  },
  {
   "cell_type": "code",
   "execution_count": 29,
   "metadata": {},
   "outputs": [
    {
     "data": {
      "image/png": "[encoded data removed]",
      "text/plain": [
       "<Figure size 433x360 with 1 Axes>"
      ]
     },
     "metadata": {
      "needs_background": "light"
     },
     "output_type": "display_data"
    }
   ],
   "source": [
    "sns.displot(data=dfTrafBarcelona20_sinmadrugadas, x='Estado_Actual', hue='findesemana', binwidth=1, stat=\"density\", common_norm=False, multiple=\"dodge\");"
   ]
  },
  {
   "cell_type": "markdown",
   "metadata": {},
   "source": [
    "Se percibe que en fines de semana (valor 1, color naranja) es mayor la proporción de tiempo en tráfico fluido (suma de estados 1 y 2 es aproximadamente 0,94) que en días laborables (misma suma en torno a 0,88)"
   ]
  },
  {
   "cell_type": "code",
   "execution_count": 30,
   "metadata": {},
   "outputs": [
    {
     "data": {
      "text/plain": [
       "504    56959\n",
       "503    56958\n",
       "534    56957\n",
       "531    56956\n",
       "154    56956\n",
       "       ...  \n",
       "288       20\n",
       "448       12\n",
       "52         6\n",
       "345        2\n",
       "48         1\n",
       "Name: idTram, Length: 456, dtype: int64"
      ]
     },
     "execution_count": 30,
     "metadata": {},
     "output_type": "execute_result"
    }
   ],
   "source": [
    "dfTrafBarcelona20_sinmadrugadas.idTram.value_counts()"
   ]
  },
  {
   "cell_type": "code",
   "execution_count": 31,
   "metadata": {},
   "outputs": [
    {
     "data": {
      "text/html": [
       "<div>\n",
       "<style scoped>\n",
       "    .dataframe tbody tr th:only-of-type {\n",
       "        vertical-align: middle;\n",
       "    }\n",
       "\n",
       "    .dataframe tbody tr th {\n",
       "        vertical-align: top;\n",
       "    }\n",
       "\n",
       "    .dataframe thead th {\n",
       "        text-align: right;\n",
       "    }\n",
       "</style>\n",
       "<table border=\"1\" class=\"dataframe\">\n",
       "  <thead>\n",
       "    <tr style=\"text-align: right;\">\n",
       "      <th></th>\n",
       "      <th>Estado_Actual</th>\n",
       "      <th>hora</th>\n",
       "      <th>diadelasemana</th>\n",
       "      <th>findesemana</th>\n",
       "    </tr>\n",
       "    <tr>\n",
       "      <th>idTram</th>\n",
       "      <th></th>\n",
       "      <th></th>\n",
       "      <th></th>\n",
       "      <th></th>\n",
       "    </tr>\n",
       "  </thead>\n",
       "  <tbody>\n",
       "    <tr>\n",
       "      <th>424</th>\n",
       "      <td>1.030806</td>\n",
       "      <td>14.335754</td>\n",
       "      <td>2.798630</td>\n",
       "      <td>0.224036</td>\n",
       "    </tr>\n",
       "    <tr>\n",
       "      <th>95</th>\n",
       "      <td>1.040560</td>\n",
       "      <td>14.239811</td>\n",
       "      <td>2.824695</td>\n",
       "      <td>0.229190</td>\n",
       "    </tr>\n",
       "    <tr>\n",
       "      <th>423</th>\n",
       "      <td>1.062976</td>\n",
       "      <td>14.672113</td>\n",
       "      <td>2.914205</td>\n",
       "      <td>0.258670</td>\n",
       "    </tr>\n",
       "    <tr>\n",
       "      <th>209</th>\n",
       "      <td>1.074445</td>\n",
       "      <td>14.553928</td>\n",
       "      <td>2.921656</td>\n",
       "      <td>0.258502</td>\n",
       "    </tr>\n",
       "    <tr>\n",
       "      <th>314</th>\n",
       "      <td>1.080641</td>\n",
       "      <td>14.153291</td>\n",
       "      <td>2.873187</td>\n",
       "      <td>0.244722</td>\n",
       "    </tr>\n",
       "    <tr>\n",
       "      <th>...</th>\n",
       "      <td>...</td>\n",
       "      <td>...</td>\n",
       "      <td>...</td>\n",
       "      <td>...</td>\n",
       "    </tr>\n",
       "    <tr>\n",
       "      <th>351</th>\n",
       "      <td>6.000000</td>\n",
       "      <td>9.416667</td>\n",
       "      <td>6.000000</td>\n",
       "      <td>1.000000</td>\n",
       "    </tr>\n",
       "    <tr>\n",
       "      <th>361</th>\n",
       "      <td>6.000000</td>\n",
       "      <td>13.582418</td>\n",
       "      <td>4.516484</td>\n",
       "      <td>0.505495</td>\n",
       "    </tr>\n",
       "    <tr>\n",
       "      <th>135</th>\n",
       "      <td>6.000000</td>\n",
       "      <td>14.914209</td>\n",
       "      <td>5.197051</td>\n",
       "      <td>0.900134</td>\n",
       "    </tr>\n",
       "    <tr>\n",
       "      <th>136</th>\n",
       "      <td>6.000000</td>\n",
       "      <td>14.914209</td>\n",
       "      <td>5.197051</td>\n",
       "      <td>0.900134</td>\n",
       "    </tr>\n",
       "    <tr>\n",
       "      <th>191</th>\n",
       "      <td>6.000000</td>\n",
       "      <td>14.784173</td>\n",
       "      <td>4.990408</td>\n",
       "      <td>0.827338</td>\n",
       "    </tr>\n",
       "  </tbody>\n",
       "</table>\n",
       "<p>456 rows × 4 columns</p>\n",
       "</div>"
      ],
      "text/plain": [
       "        Estado_Actual       hora  diadelasemana  findesemana\n",
       "idTram                                                      \n",
       "424          1.030806  14.335754       2.798630     0.224036\n",
       "95           1.040560  14.239811       2.824695     0.229190\n",
       "423          1.062976  14.672113       2.914205     0.258670\n",
       "209          1.074445  14.553928       2.921656     0.258502\n",
       "314          1.080641  14.153291       2.873187     0.244722\n",
       "...               ...        ...            ...          ...\n",
       "351          6.000000   9.416667       6.000000     1.000000\n",
       "361          6.000000  13.582418       4.516484     0.505495\n",
       "135          6.000000  14.914209       5.197051     0.900134\n",
       "136          6.000000  14.914209       5.197051     0.900134\n",
       "191          6.000000  14.784173       4.990408     0.827338\n",
       "\n",
       "[456 rows x 4 columns]"
      ]
     },
     "execution_count": 31,
     "metadata": {},
     "output_type": "execute_result"
    }
   ],
   "source": [
    "dfTrafBarcelona20_sinmadrugadas.groupby('idTram').mean().sort_values(by='Estado_Actual')"
   ]
  },
  {
   "cell_type": "markdown",
   "metadata": {},
   "source": [
    "Volvemos a agrupar todos los datos por día calculando las medias por día"
   ]
  },
  {
   "cell_type": "code",
   "execution_count": 32,
   "metadata": {},
   "outputs": [
    {
     "name": "stdout",
     "output_type": "stream",
     "text": [
      "            Estado_Actual  diadelasemana  findesemana\n",
      "Fecha                                                \n",
      "2020-01-01       1.492451            2.0          0.0\n",
      "2020-01-02       1.886083            3.0          0.0\n",
      "2020-01-03       1.932909            4.0          0.0\n",
      "2020-01-04       1.752340            5.0          1.0\n",
      "2020-01-05       1.669879            6.0          1.0\n",
      "...                   ...            ...          ...\n",
      "2020-12-27       1.476650            6.0          1.0\n",
      "2020-12-28       1.848261            0.0          0.0\n",
      "2020-12-29       1.848335            1.0          0.0\n",
      "2020-12-30       1.878244            2.0          0.0\n",
      "2020-12-31       1.748744            3.0          0.0\n",
      "\n",
      "[366 rows x 3 columns]\n"
     ]
    }
   ],
   "source": [
    "dfTrafBarcelona20_pordias_sinmadrugadas = dfTrafBarcelona20_sinmadrugadas.resample('D').mean()\n",
    "dfTrafBarcelona20_pordias_sinmadrugadas = dfTrafBarcelona20_pordias_sinmadrugadas.drop(columns=['hora','idTram'])\n",
    "#dfTrafBarcelona20_pordias_sinmadrugadas['diadelasemana']=dfTrafBarcelona20_pordias_sinmadrugadas['diadelasemana'].astype(int)\n",
    "print(dfTrafBarcelona20_pordias_sinmadrugadas)"
   ]
  },
  {
   "cell_type": "code",
   "execution_count": 33,
   "metadata": {},
   "outputs": [
    {
     "data": {
      "text/plain": [
       "Estado_Actual    78\n",
       "diadelasemana    78\n",
       "findesemana      78\n",
       "dtype: int64"
      ]
     },
     "execution_count": 33,
     "metadata": {},
     "output_type": "execute_result"
    }
   ],
   "source": [
    "#Comprobamos si ha quedado algún día sin dato (la función resample('D') lo habrá registrado con un NaN )\n",
    "\n",
    "dfTrafBarcelona20_pordias_sinmadrugadas.isnull().sum()"
   ]
  },
  {
   "cell_type": "markdown",
   "metadata": {},
   "source": [
    "De nuevo han quedado 78 días sin dato medio. Los datos de Estado_Actual los rellenamos con medianas"
   ]
  },
  {
   "cell_type": "code",
   "execution_count": 34,
   "metadata": {},
   "outputs": [],
   "source": [
    "#Primero creamos la copia para rellenar\n",
    "dfTrafBarcelona20_pordias_sinmadrugadas_rellenado = dfTrafBarcelona20_pordias_sinmadrugadas.copy()\n",
    "\n",
    "#Importamos la función SimpleImputer del módulo sklearn.impute\n",
    "from sklearn.impute import SimpleImputer\n",
    "\n",
    "#Instanciamos el imputador de estrategia media\n",
    "imp_median = SimpleImputer(missing_values=np.nan, strategy='median')\n",
    "\n",
    "#Ahora rellenamos los valores faltantes de ambos contaminantes con los valores medios.\n",
    "dfTrafBarcelona20_pordias_sinmadrugadas_rellenado['Estado_Actual'] = imp_median.fit_transform(dfTrafBarcelona20_pordias_sinmadrugadas['Estado_Actual'].values.reshape(-1,1))"
   ]
  },
  {
   "cell_type": "markdown",
   "metadata": {},
   "source": [
    "Los datos de diadelasemana y de findesemana los volvemos a generar para rellenar los que han quedado nulos"
   ]
  },
  {
   "cell_type": "code",
   "execution_count": 35,
   "metadata": {},
   "outputs": [
    {
     "name": "stdout",
     "output_type": "stream",
     "text": [
      "            Estado_Actual  diadelasemana  findesemana\n",
      "Fecha                                                \n",
      "2020-01-01       1.492451              2            0\n",
      "2020-01-02       1.886083              3            0\n",
      "2020-01-03       1.932909              4            0\n",
      "2020-01-04       1.752340              5            1\n",
      "2020-01-05       1.669879              6            1\n",
      "...                   ...            ...          ...\n",
      "2020-12-27       1.476650              6            1\n",
      "2020-12-28       1.848261              0            0\n",
      "2020-12-29       1.848335              1            0\n",
      "2020-12-30       1.878244              2            0\n",
      "2020-12-31       1.748744              3            0\n",
      "\n",
      "[366 rows x 3 columns]\n",
      "Estado_Actual    0\n",
      "diadelasemana    0\n",
      "findesemana      0\n",
      "dtype: int64\n"
     ]
    }
   ],
   "source": [
    "dfTrafBarcelona20_pordias_sinmadrugadas_rellenado['diadelasemana'] = dfTrafBarcelona20_pordias_sinmadrugadas_rellenado.index.dayofweek\n",
    "dfTrafBarcelona20_pordias_sinmadrugadas_rellenado['findesemana'] = (dfTrafBarcelona20_pordias_sinmadrugadas_rellenado.index.dayofweek // 5 == 1).astype(int)\n",
    "\n",
    "print(dfTrafBarcelona20_pordias_sinmadrugadas_rellenado)\n",
    "print(dfTrafBarcelona20_pordias_sinmadrugadas_rellenado.isnull().sum())"
   ]
  },
  {
   "cell_type": "code",
   "execution_count": 36,
   "metadata": {},
   "outputs": [
    {
     "data": {
      "text/html": [
       "<div>\n",
       "<style scoped>\n",
       "    .dataframe tbody tr th:only-of-type {\n",
       "        vertical-align: middle;\n",
       "    }\n",
       "\n",
       "    .dataframe tbody tr th {\n",
       "        vertical-align: top;\n",
       "    }\n",
       "\n",
       "    .dataframe thead th {\n",
       "        text-align: right;\n",
       "    }\n",
       "</style>\n",
       "<table border=\"1\" class=\"dataframe\">\n",
       "  <thead>\n",
       "    <tr style=\"text-align: right;\">\n",
       "      <th></th>\n",
       "      <th>Estado_Actual</th>\n",
       "      <th>diadelasemana</th>\n",
       "      <th>findesemana</th>\n",
       "    </tr>\n",
       "  </thead>\n",
       "  <tbody>\n",
       "    <tr>\n",
       "      <th>count</th>\n",
       "      <td>366.000000</td>\n",
       "      <td>366.000000</td>\n",
       "      <td>366.000000</td>\n",
       "    </tr>\n",
       "    <tr>\n",
       "      <th>mean</th>\n",
       "      <td>1.811468</td>\n",
       "      <td>2.997268</td>\n",
       "      <td>0.284153</td>\n",
       "    </tr>\n",
       "    <tr>\n",
       "      <th>std</th>\n",
       "      <td>0.192060</td>\n",
       "      <td>1.997942</td>\n",
       "      <td>0.451627</td>\n",
       "    </tr>\n",
       "    <tr>\n",
       "      <th>min</th>\n",
       "      <td>1.239236</td>\n",
       "      <td>0.000000</td>\n",
       "      <td>0.000000</td>\n",
       "    </tr>\n",
       "    <tr>\n",
       "      <th>25%</th>\n",
       "      <td>1.712738</td>\n",
       "      <td>1.000000</td>\n",
       "      <td>0.000000</td>\n",
       "    </tr>\n",
       "    <tr>\n",
       "      <th>50%</th>\n",
       "      <td>1.858583</td>\n",
       "      <td>3.000000</td>\n",
       "      <td>0.000000</td>\n",
       "    </tr>\n",
       "    <tr>\n",
       "      <th>75%</th>\n",
       "      <td>1.931912</td>\n",
       "      <td>5.000000</td>\n",
       "      <td>1.000000</td>\n",
       "    </tr>\n",
       "    <tr>\n",
       "      <th>max</th>\n",
       "      <td>2.181718</td>\n",
       "      <td>6.000000</td>\n",
       "      <td>1.000000</td>\n",
       "    </tr>\n",
       "  </tbody>\n",
       "</table>\n",
       "</div>"
      ],
      "text/plain": [
       "       Estado_Actual  diadelasemana  findesemana\n",
       "count     366.000000     366.000000   366.000000\n",
       "mean        1.811468       2.997268     0.284153\n",
       "std         0.192060       1.997942     0.451627\n",
       "min         1.239236       0.000000     0.000000\n",
       "25%         1.712738       1.000000     0.000000\n",
       "50%         1.858583       3.000000     0.000000\n",
       "75%         1.931912       5.000000     1.000000\n",
       "max         2.181718       6.000000     1.000000"
      ]
     },
     "execution_count": 36,
     "metadata": {},
     "output_type": "execute_result"
    }
   ],
   "source": [
    "dfTrafBarcelona20_pordias_sinmadrugadas_rellenado.describe()"
   ]
  },
  {
   "cell_type": "markdown",
   "metadata": {},
   "source": [
    "Vemos que no hemos conseguido prácticamente ninguna mejora. Los valores del Estado Actual están ahora en el rango de entre 1.239 y 2.18\n",
    "\n",
    "Lo pasamos igualmente a un CSV."
   ]
  },
  {
   "cell_type": "code",
   "execution_count": 37,
   "metadata": {},
   "outputs": [],
   "source": [
    "dfTrafBarcelona20_pordias_sinmadrugadas_rellenado.to_csv('DatosEstadoTraficoBarcelona_SinMadrugadas_2020.csv')"
   ]
  }
 ],
 "metadata": {
  "kernelspec": {
   "display_name": "Python 3",
   "language": "python",
   "name": "python3"
  },
  "language_info": {
   "codemirror_mode": {
    "name": "ipython",
    "version": 3
   },
   "file_extension": ".py",
   "mimetype": "text/x-python",
   "name": "python",
   "nbconvert_exporter": "python",
   "pygments_lexer": "ipython3",
   "version": "3.8.5"
  }
 },
 "nbformat": 4,
 "nbformat_minor": 4
}
