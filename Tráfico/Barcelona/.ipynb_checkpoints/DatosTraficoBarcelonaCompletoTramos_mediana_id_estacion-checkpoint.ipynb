{
 "cells": [
  {
   "cell_type": "markdown",
   "metadata": {},
   "source": [
    "# Datos de Tráfico en Barcelona\n",
    "## -Descargaremos los datos disponibles para los años 2018 , 2019 y 2020\n",
    "## -Descartaremos los datos no relevantes para medir la intensidad de trafico de las calles de la ciudad de Barcelona.\n",
    "## -Analizamos el estado del tráfico por horas, por franjas del día, por fines de semana\n",
    "## -Agruparemos los datos a medias por dia y id estacion\n",
    "## -Sacaremos un csv resultado a integrar con qlik sense\n",
    "## -Agruparemos los datos a medias por dia\n",
    "## -Sacaremos un csv resultado a mergear con las otras ramas (meteo y calidad del aire)\n"
   ]
  },
  {
   "cell_type": "code",
   "execution_count": 11,
   "metadata": {},
   "outputs": [],
   "source": [
    "import numpy as np\n",
    "import pandas as pd\n",
    "import requests as requests\n",
    "#Visualización\n",
    "from pandas.plotting import scatter_matrix\n",
    "import matplotlib.pyplot as plt\n",
    "import seaborn as sns"
   ]
  },
  {
   "cell_type": "code",
   "execution_count": 12,
   "metadata": {},
   "outputs": [],
   "source": [
    "#Obtenemos las URLs de los ficheros identificador de tramos\n",
    "transit_relacio_trams_format_long='https://opendata-ajuntament.barcelona.cat/data/dataset/1090983a-1c40-4609-8620-14ad49aae3ab/resource/c97072a3-3619-4547-84dd-f1999d2a3fec/download/transit_relacio_trams_format_long.csv'\n",
    "TRANSIT_RELACIO_TRAMS='https://opendata-ajuntament.barcelona.cat/data/dataset/1090983a-1c40-4609-8620-14ad49aae3ab/resource/1d6c814c-70ef-4147-aa16-a49ddb952f72/download/transit_relacio_trams.csv'"
   ]
  },
  {
   "cell_type": "code",
   "execution_count": 13,
   "metadata": {},
   "outputs": [],
   "source": [
    "#Descargamos sendos ficheros para graficar los tramos en un mapa en la parte de visualizacion\n",
    "response = requests.get(transit_relacio_trams_format_long, allow_redirects=True) \n",
    "file = open('transit_relacio_trams_format_long.csv', 'wb').write(response.content)\n",
    "\n",
    "response = requests.get(TRANSIT_RELACIO_TRAMS, allow_redirects=True) \n",
    "file = open('TRANSIT_RELACIO_TRAMS.csv', 'wb').write(response.content)"
   ]
  },
  {
   "cell_type": "code",
   "execution_count": 14,
   "metadata": {},
   "outputs": [
    {
     "name": "stdout",
     "output_type": "stream",
     "text": [
      "Index(['idTram', 'data', 'estatActual', 'estatPrevist'], dtype='object')\n",
      "         idTram            data  estatActual  estatPrevist\n",
      "0             1  20180101000554            0             0\n",
      "1             2  20180101000554            0             0\n",
      "2             3  20180101000554            0             0\n",
      "3             4  20180101000554            0             0\n",
      "4             5  20180101000554            0             0\n",
      "...         ...             ...          ...           ...\n",
      "4654459     530  20201231235552            1             0\n",
      "4654460     531  20201231235552            1             0\n",
      "4654461     532  20201231235552            0             0\n",
      "4654462     533  20201231235552            1             0\n",
      "4654463     534  20201231235552            1             0\n",
      "\n",
      "[109931905 rows x 4 columns]\n"
     ]
    }
   ],
   "source": [
    "\n",
    "#Obtenemos las URLs de los 36 ficheros mensuales de datos\n",
    "\n",
    "url_fichero_ene18 = 'https://opendata-ajuntament.barcelona.cat/data/dataset/8319c2b1-4c21-4962-9acd-6db4c5ff1148/resource/106e94c9-3e95-4d1e-be4e-917137845cc0/download'\n",
    "url_fichero_feb18 = 'https://opendata-ajuntament.barcelona.cat/data/dataset/8319c2b1-4c21-4962-9acd-6db4c5ff1148/resource/2df09282-d7aa-48c5-b616-964b4ef97a1e/download'\n",
    "url_fichero_mar18 = 'https://opendata-ajuntament.barcelona.cat/data/dataset/8319c2b1-4c21-4962-9acd-6db4c5ff1148/resource/0e2506ae-37a3-4a9d-98b0-18750628bdc9/download'\n",
    "url_fichero_abr18 = 'https://opendata-ajuntament.barcelona.cat/data/dataset/8319c2b1-4c21-4962-9acd-6db4c5ff1148/resource/298ec97f-b2d6-4c61-b6b7-b464d1c090df/download'\n",
    "url_fichero_may18 = 'https://opendata-ajuntament.barcelona.cat/data/dataset/8319c2b1-4c21-4962-9acd-6db4c5ff1148/resource/c9e18685-1ce7-48c2-9c78-50aa578e1c69/download'\n",
    "url_fichero_jun18 = 'https://opendata-ajuntament.barcelona.cat/data/dataset/8319c2b1-4c21-4962-9acd-6db4c5ff1148/resource/4c6f2bf0-bac6-4626-ace1-010d353d21a0/download'\n",
    "url_fichero_jul18 = 'https://opendata-ajuntament.barcelona.cat/data/dataset/8319c2b1-4c21-4962-9acd-6db4c5ff1148/resource/d017ba9d-13df-4403-8ba6-e5f1854ddff0/download'\n",
    "url_fichero_ago18 = 'https://opendata-ajuntament.barcelona.cat/data/dataset/8319c2b1-4c21-4962-9acd-6db4c5ff1148/resource/93009385-a4b4-47f6-b353-2326cafc9d91/download'\n",
    "url_fichero_sep18 = 'https://opendata-ajuntament.barcelona.cat/data/dataset/8319c2b1-4c21-4962-9acd-6db4c5ff1148/resource/b04fa564-5e34-4b9c-98b8-032ceab110c5/download'\n",
    "url_fichero_oct18 = 'https://opendata-ajuntament.barcelona.cat/data/dataset/8319c2b1-4c21-4962-9acd-6db4c5ff1148/resource/cf0679d1-746e-4486-931b-a8a1b3d6ed8d/download'\n",
    "url_fichero_nov18 = 'https://opendata-ajuntament.barcelona.cat/data/dataset/8319c2b1-4c21-4962-9acd-6db4c5ff1148/resource/690ad8d0-c83e-45d4-b412-29feb45a6963/download'\n",
    "url_fichero_dic18 = 'https://opendata-ajuntament.barcelona.cat/data/dataset/8319c2b1-4c21-4962-9acd-6db4c5ff1148/resource/2e92ddcb-587c-4f38-93d6-92429b885a59/download'\n",
    "url_fichero_ene19 = 'https://opendata-ajuntament.barcelona.cat/data/dataset/8319c2b1-4c21-4962-9acd-6db4c5ff1148/resource/f5186a0b-7903-40eb-b07b-f8f487e3134c/download'\n",
    "url_fichero_feb19 = 'https://opendata-ajuntament.barcelona.cat/data/dataset/8319c2b1-4c21-4962-9acd-6db4c5ff1148/resource/f071dd67-0e70-4295-8637-42ce91e978a1/download'\n",
    "url_fichero_mar19 = 'https://opendata-ajuntament.barcelona.cat/data/dataset/8319c2b1-4c21-4962-9acd-6db4c5ff1148/resource/934096c7-3c39-448a-b3df-dbd7a4f3643a/download'\n",
    "url_fichero_abr19 = 'https://opendata-ajuntament.barcelona.cat/data/dataset/8319c2b1-4c21-4962-9acd-6db4c5ff1148/resource/07d0bb21-59c9-47a5-b171-0a363137f331/download'\n",
    "url_fichero_may19 = 'https://opendata-ajuntament.barcelona.cat/data/dataset/8319c2b1-4c21-4962-9acd-6db4c5ff1148/resource/d335dd1a-4cd0-4eac-acb7-5ae943bcd978/download'\n",
    "url_fichero_jun19 = 'https://opendata-ajuntament.barcelona.cat/data/dataset/8319c2b1-4c21-4962-9acd-6db4c5ff1148/resource/c6fd68b4-7bc1-4a75-978e-8ae86719ccfb/download'\n",
    "url_fichero_jul19 = 'https://opendata-ajuntament.barcelona.cat/data/dataset/8319c2b1-4c21-4962-9acd-6db4c5ff1148/resource/472171fd-18b8-4eb5-a47a-e3c50af2d053/download'\n",
    "url_fichero_ago19 = 'https://opendata-ajuntament.barcelona.cat/data/dataset/8319c2b1-4c21-4962-9acd-6db4c5ff1148/resource/d94e693b-8f9e-4557-b7f2-d64366e66321/download'\n",
    "url_fichero_sep19 = 'https://opendata-ajuntament.barcelona.cat/data/dataset/8319c2b1-4c21-4962-9acd-6db4c5ff1148/resource/94849c87-a5dc-42de-b684-66bc8248cdfa/download'\n",
    "url_fichero_oct19 = 'https://opendata-ajuntament.barcelona.cat/data/dataset/8319c2b1-4c21-4962-9acd-6db4c5ff1148/resource/f9875fd1-0b07-49e7-aae9-eab3a230d450/download'\n",
    "url_fichero_nov19 = 'https://opendata-ajuntament.barcelona.cat/data/dataset/8319c2b1-4c21-4962-9acd-6db4c5ff1148/resource/179f4829-0975-4b62-acea-364dc10c9e4d/download'\n",
    "url_fichero_dic19 = 'https://opendata-ajuntament.barcelona.cat/data/dataset/8319c2b1-4c21-4962-9acd-6db4c5ff1148/resource/32716fbe-bf60-4089-9b21-2bd61cafa094/download'\n",
    "\n",
    "url_fichero_ene20 = 'https://opendata-ajuntament.barcelona.cat/data/dataset/8319c2b1-4c21-4962-9acd-6db4c5ff1148/resource/79900963-aa0c-4894-8ad1-512556d02f86/download'\n",
    "url_fichero_feb20 = 'https://opendata-ajuntament.barcelona.cat/data/dataset/8319c2b1-4c21-4962-9acd-6db4c5ff1148/resource/ca5ad178-39eb-4244-a162-9f025900f00f/download'\n",
    "url_fichero_mar20 = 'https://opendata-ajuntament.barcelona.cat/data/dataset/8319c2b1-4c21-4962-9acd-6db4c5ff1148/resource/8d9c2810-36cd-4334-ad8d-6c502af5982e/download'\n",
    "url_fichero_abr20 = 'https://opendata-ajuntament.barcelona.cat/data/dataset/8319c2b1-4c21-4962-9acd-6db4c5ff1148/resource/4eb2aef0-b8b3-4c13-89f6-2b1bea5ba77e/download'\n",
    "url_fichero_may20 = 'https://opendata-ajuntament.barcelona.cat/data/dataset/8319c2b1-4c21-4962-9acd-6db4c5ff1148/resource/e6a8061a-a963-422a-bc4e-14c9eddd38e9/download'\n",
    "url_fichero_jun20 = 'https://opendata-ajuntament.barcelona.cat/data/dataset/8319c2b1-4c21-4962-9acd-6db4c5ff1148/resource/b2f98828-cc16-4ccd-958f-09b368c32628/download'\n",
    "url_fichero_jul20 = 'https://opendata-ajuntament.barcelona.cat/data/dataset/8319c2b1-4c21-4962-9acd-6db4c5ff1148/resource/b6b699cb-e2c5-48de-a6ce-e776417f046d/download'\n",
    "url_fichero_ago20 = 'https://opendata-ajuntament.barcelona.cat/data/dataset/8319c2b1-4c21-4962-9acd-6db4c5ff1148/resource/3322309a-9efd-44c7-a8b1-7f8d1bb6cda6/download'\n",
    "url_fichero_sep20 = 'https://opendata-ajuntament.barcelona.cat/data/dataset/8319c2b1-4c21-4962-9acd-6db4c5ff1148/resource/a78fde10-a479-48ce-b5ef-7db489a3e8fd/download'\n",
    "url_fichero_oct20 = 'https://opendata-ajuntament.barcelona.cat/data/dataset/8319c2b1-4c21-4962-9acd-6db4c5ff1148/resource/47fafc9b-615e-4597-b5a4-2128626a29bb/download'\n",
    "url_fichero_nov20 = 'https://opendata-ajuntament.barcelona.cat/data/dataset/8319c2b1-4c21-4962-9acd-6db4c5ff1148/resource/d39a2570-de88-495a-b69a-14f712e57e33/download'\n",
    "url_fichero_dic20 = 'https://opendata-ajuntament.barcelona.cat/data/dataset/8319c2b1-4c21-4962-9acd-6db4c5ff1148/resource/58ce6905-86e9-45bf-8787-9cd43658cdc7/download'\n",
    "\n",
    "#Generamos 36 dataframes, uno por cada mes\n",
    "\n",
    "dfTrafEne18 = pd.read_csv(url_fichero_ene18)\n",
    "dfTrafFeb18 = pd.read_csv(url_fichero_feb18)\n",
    "dfTrafMar18 = pd.read_csv(url_fichero_mar18)\n",
    "dfTrafAbr18 = pd.read_csv(url_fichero_abr18)\n",
    "dfTrafMay18 = pd.read_csv(url_fichero_may18)\n",
    "dfTrafJun18 = pd.read_csv(url_fichero_jun18)\n",
    "dfTrafJul18 = pd.read_csv(url_fichero_jul18)\n",
    "dfTrafAgo18 = pd.read_csv(url_fichero_ago18)\n",
    "dfTrafSep18 = pd.read_csv(url_fichero_sep18)\n",
    "dfTrafOct18 = pd.read_csv(url_fichero_oct18)\n",
    "dfTrafNov18 = pd.read_csv(url_fichero_nov18)\n",
    "dfTrafDic18 = pd.read_csv(url_fichero_dic18)\n",
    "dfTrafEne19 = pd.read_csv(url_fichero_ene19)\n",
    "dfTrafFeb19 = pd.read_csv(url_fichero_feb19)\n",
    "dfTrafMar19 = pd.read_csv(url_fichero_mar19)\n",
    "dfTrafAbr19 = pd.read_csv(url_fichero_abr19)\n",
    "dfTrafMay19 = pd.read_csv(url_fichero_may19)\n",
    "dfTrafJun19 = pd.read_csv(url_fichero_jun19)\n",
    "dfTrafJul19 = pd.read_csv(url_fichero_jul19)\n",
    "dfTrafAgo19 = pd.read_csv(url_fichero_ago19)\n",
    "dfTrafSep19 = pd.read_csv(url_fichero_sep19)\n",
    "dfTrafOct19 = pd.read_csv(url_fichero_oct19)\n",
    "dfTrafNov19 = pd.read_csv(url_fichero_nov19)\n",
    "dfTrafDic19 = pd.read_csv(url_fichero_dic19)\n",
    "dfTrafEne20 = pd.read_csv(url_fichero_ene20)\n",
    "dfTrafFeb20 = pd.read_csv(url_fichero_feb20)\n",
    "dfTrafMar20 = pd.read_csv(url_fichero_mar20)\n",
    "dfTrafAbr20 = pd.read_csv(url_fichero_abr20)\n",
    "dfTrafMay20 = pd.read_csv(url_fichero_may20)\n",
    "dfTrafJun20 = pd.read_csv(url_fichero_jun20)\n",
    "dfTrafJul20 = pd.read_csv(url_fichero_jul20)\n",
    "dfTrafAgo20 = pd.read_csv(url_fichero_ago20)\n",
    "dfTrafSep20 = pd.read_csv(url_fichero_sep20)\n",
    "dfTrafOct20 = pd.read_csv(url_fichero_oct20)\n",
    "dfTrafNov20 = pd.read_csv(url_fichero_nov20)\n",
    "dfTrafDic20 = pd.read_csv(url_fichero_dic20)\n",
    "\n",
    "#Concatenamos los 12 ficheros del 2018 en un dataframe , los 12 ficheros del 2019 en otro dataframe y los 12 ficheros del 2020 en otro dataframe\n",
    "\n",
    "dfTrafBarcelona18 = pd.concat([dfTrafEne18,dfTrafFeb18,dfTrafMar18,dfTrafAbr18,dfTrafMay18,dfTrafJun18,dfTrafJul18,dfTrafAgo18,dfTrafSep18,dfTrafOct18,dfTrafNov18,dfTrafDic18])\n",
    "dfTrafBarcelona19 = pd.concat([dfTrafEne19,dfTrafFeb19,dfTrafMar19,dfTrafAbr19,dfTrafMay19,dfTrafJun19,dfTrafJul19,dfTrafAgo19,dfTrafSep19,dfTrafOct19,dfTrafNov19,dfTrafDic19])\n",
    "dfTrafBarcelona20 = pd.concat([dfTrafEne20,dfTrafFeb20,dfTrafMar20,dfTrafAbr20,dfTrafMay20,dfTrafJun20,dfTrafJul20,dfTrafAgo20,dfTrafSep20,dfTrafOct20,dfTrafNov20,dfTrafDic20])\n",
    "\n",
    "#Finalmente concatenamos los 2 dataframes anuales en un solo dataframe con ambos años\n",
    "\n",
    "dfTrafBarcelona18_19_20 = pd.concat([dfTrafBarcelona18,dfTrafBarcelona19,dfTrafBarcelona20 ])\n",
    "\n",
    "print(dfTrafBarcelona18_19_20.columns)\n",
    "print(dfTrafBarcelona18_19_20)"
   ]
  },
  {
   "cell_type": "markdown",
   "metadata": {},
   "source": [
    "El dataframe completo contiene unos 55 Mill de registros"
   ]
  },
  {
   "cell_type": "code",
   "execution_count": 15,
   "metadata": {},
   "outputs": [
    {
     "name": "stdout",
     "output_type": "stream",
     "text": [
      "dfTrafEne18:  (827166, 4)\n",
      "dfTrafFeb18:  (742260, 4)\n",
      "dfTrafMar18:  (807942, 4)\n",
      "dfTrafAbr18:  (792456, 4)\n",
      "dfTrafMay18:  (780174, 4)\n",
      "dfTrafJun18:  (846924, 4)\n",
      "dfTrafJul18:  (920616, 4)\n",
      "dfTrafAgo18:  (927096, 4)\n",
      "dfTrafSep18:  (909298, 4)\n",
      "dfTrafOct18:  (1019629, 4)\n",
      "dfTrafNov18:  (929019, 4)\n",
      "dfTrafDic18:  (990847, 4)\n",
      "dfTrafEne19:  (951405, 4)\n",
      "dfTrafFeb19:  (752063, 4)\n",
      "dfTrafMar19:  (1516918, 4)\n",
      "dfTrafAbr19:  (4540627, 4)\n",
      "dfTrafMay19:  (4637618, 4)\n",
      "dfTrafJun19:  (4537470, 4)\n",
      "dfTrafJul19:  (4681868, 4)\n",
      "dfTrafAgo19:  (4695043, 4)\n",
      "dfTrafSep19:  (4543267, 4)\n",
      "dfTrafOct19:  (4677652, 4)\n",
      "dfTrafNov19:  (4493729, 4)\n",
      "dfTrafDic19:  (4638127, 4)\n",
      "dfTrafEne19:  (4639708, 4)\n",
      "dfTrafFeb19:  (4358817, 4)\n",
      "dfTrafMar19:  (4676071, 4)\n",
      "dfTrafAbr19:  (4545902, 4)\n",
      "dfTrafMay19:  (4501107, 4)\n",
      "dfTrafJun19:  (4526403, 4)\n",
      "dfTrafJul19:  (4524295, 4)\n",
      "dfTrafAgo19:  (4691354, 4)\n",
      "dfTrafSep19:  (4467379, 4)\n",
      "dfTrafOct19:  (4678706, 4)\n",
      "dfTrafNov19:  (4508485, 4)\n",
      "dfTrafDic19:  (4654464, 4)\n"
     ]
    }
   ],
   "source": [
    "#Obtenemos el nº de registros que contiene cada dataframe mensual\n",
    "\n",
    "print('dfTrafEne18: ',dfTrafEne18.shape)\n",
    "print('dfTrafFeb18: ',dfTrafFeb18.shape)\n",
    "print('dfTrafMar18: ',dfTrafMar18.shape)\n",
    "print('dfTrafAbr18: ',dfTrafAbr18.shape)\n",
    "print('dfTrafMay18: ',dfTrafMay18.shape)\n",
    "print('dfTrafJun18: ',dfTrafJun18.shape)\n",
    "print('dfTrafJul18: ',dfTrafJul18.shape)\n",
    "print('dfTrafAgo18: ',dfTrafAgo18.shape)\n",
    "print('dfTrafSep18: ',dfTrafSep18.shape)\n",
    "print('dfTrafOct18: ',dfTrafOct18.shape)\n",
    "print('dfTrafNov18: ',dfTrafNov18.shape)\n",
    "print('dfTrafDic18: ',dfTrafDic18.shape)\n",
    "print('dfTrafEne19: ',dfTrafEne19.shape)\n",
    "print('dfTrafFeb19: ',dfTrafFeb19.shape)\n",
    "print('dfTrafMar19: ',dfTrafMar19.shape)\n",
    "print('dfTrafAbr19: ',dfTrafAbr19.shape)\n",
    "print('dfTrafMay19: ',dfTrafMay19.shape)\n",
    "print('dfTrafJun19: ',dfTrafJun19.shape)\n",
    "print('dfTrafJul19: ',dfTrafJul19.shape)\n",
    "print('dfTrafAgo19: ',dfTrafAgo19.shape)\n",
    "print('dfTrafSep19: ',dfTrafSep19.shape)\n",
    "print('dfTrafOct19: ',dfTrafOct19.shape)\n",
    "print('dfTrafNov19: ',dfTrafNov19.shape)\n",
    "print('dfTrafDic19: ',dfTrafDic19.shape)\n",
    "print('dfTrafEne19: ',dfTrafEne20.shape)\n",
    "print('dfTrafFeb19: ',dfTrafFeb20.shape)\n",
    "print('dfTrafMar19: ',dfTrafMar20.shape)\n",
    "print('dfTrafAbr19: ',dfTrafAbr20.shape)\n",
    "print('dfTrafMay19: ',dfTrafMay20.shape)\n",
    "print('dfTrafJun19: ',dfTrafJun20.shape)\n",
    "print('dfTrafJul19: ',dfTrafJul20.shape)\n",
    "print('dfTrafAgo19: ',dfTrafAgo20.shape)\n",
    "print('dfTrafSep19: ',dfTrafSep20.shape)\n",
    "print('dfTrafOct19: ',dfTrafOct20.shape)\n",
    "print('dfTrafNov19: ',dfTrafNov20.shape)\n",
    "print('dfTrafDic19: ',dfTrafDic20.shape)"
   ]
  },
  {
   "cell_type": "code",
   "execution_count": 16,
   "metadata": {},
   "outputs": [
    {
     "data": {
      "text/html": [
       "<div>\n",
       "<style scoped>\n",
       "    .dataframe tbody tr th:only-of-type {\n",
       "        vertical-align: middle;\n",
       "    }\n",
       "\n",
       "    .dataframe tbody tr th {\n",
       "        vertical-align: top;\n",
       "    }\n",
       "\n",
       "    .dataframe thead th {\n",
       "        text-align: right;\n",
       "    }\n",
       "</style>\n",
       "<table border=\"1\" class=\"dataframe\">\n",
       "  <thead>\n",
       "    <tr style=\"text-align: right;\">\n",
       "      <th></th>\n",
       "      <th>idTram</th>\n",
       "      <th>data</th>\n",
       "      <th>estatActual</th>\n",
       "      <th>estatPrevist</th>\n",
       "    </tr>\n",
       "  </thead>\n",
       "  <tbody>\n",
       "    <tr>\n",
       "      <th>0</th>\n",
       "      <td>1</td>\n",
       "      <td>20180101000554</td>\n",
       "      <td>0</td>\n",
       "      <td>0</td>\n",
       "    </tr>\n",
       "    <tr>\n",
       "      <th>1</th>\n",
       "      <td>2</td>\n",
       "      <td>20180101000554</td>\n",
       "      <td>0</td>\n",
       "      <td>0</td>\n",
       "    </tr>\n",
       "    <tr>\n",
       "      <th>2</th>\n",
       "      <td>3</td>\n",
       "      <td>20180101000554</td>\n",
       "      <td>0</td>\n",
       "      <td>0</td>\n",
       "    </tr>\n",
       "    <tr>\n",
       "      <th>3</th>\n",
       "      <td>4</td>\n",
       "      <td>20180101000554</td>\n",
       "      <td>0</td>\n",
       "      <td>0</td>\n",
       "    </tr>\n",
       "    <tr>\n",
       "      <th>4</th>\n",
       "      <td>5</td>\n",
       "      <td>20180101000554</td>\n",
       "      <td>0</td>\n",
       "      <td>0</td>\n",
       "    </tr>\n",
       "    <tr>\n",
       "      <th>...</th>\n",
       "      <td>...</td>\n",
       "      <td>...</td>\n",
       "      <td>...</td>\n",
       "      <td>...</td>\n",
       "    </tr>\n",
       "    <tr>\n",
       "      <th>990842</th>\n",
       "      <td>602</td>\n",
       "      <td>20181231234051</td>\n",
       "      <td>0</td>\n",
       "      <td>0</td>\n",
       "    </tr>\n",
       "    <tr>\n",
       "      <th>990843</th>\n",
       "      <td>604</td>\n",
       "      <td>20181231234051</td>\n",
       "      <td>0</td>\n",
       "      <td>0</td>\n",
       "    </tr>\n",
       "    <tr>\n",
       "      <th>990844</th>\n",
       "      <td>2001</td>\n",
       "      <td>20181231234051</td>\n",
       "      <td>0</td>\n",
       "      <td>0</td>\n",
       "    </tr>\n",
       "    <tr>\n",
       "      <th>990845</th>\n",
       "      <td>2002</td>\n",
       "      <td>20181231234051</td>\n",
       "      <td>0</td>\n",
       "      <td>0</td>\n",
       "    </tr>\n",
       "    <tr>\n",
       "      <th>990846</th>\n",
       "      <td>2003</td>\n",
       "      <td>20181231234051</td>\n",
       "      <td>0</td>\n",
       "      <td>0</td>\n",
       "    </tr>\n",
       "  </tbody>\n",
       "</table>\n",
       "<p>10493427 rows × 4 columns</p>\n",
       "</div>"
      ],
      "text/plain": [
       "        idTram            data  estatActual  estatPrevist\n",
       "0            1  20180101000554            0             0\n",
       "1            2  20180101000554            0             0\n",
       "2            3  20180101000554            0             0\n",
       "3            4  20180101000554            0             0\n",
       "4            5  20180101000554            0             0\n",
       "...        ...             ...          ...           ...\n",
       "990842     602  20181231234051            0             0\n",
       "990843     604  20181231234051            0             0\n",
       "990844    2001  20181231234051            0             0\n",
       "990845    2002  20181231234051            0             0\n",
       "990846    2003  20181231234051            0             0\n",
       "\n",
       "[10493427 rows x 4 columns]"
      ]
     },
     "execution_count": 16,
     "metadata": {},
     "output_type": "execute_result"
    }
   ],
   "source": [
    "#Observamos el dataframe del año 2018 y vemos que contiene 10 Mill y medio de registros \n",
    "dfTrafBarcelona18"
   ]
  },
  {
   "cell_type": "code",
   "execution_count": 17,
   "metadata": {},
   "outputs": [
    {
     "data": {
      "text/html": [
       "<div>\n",
       "<style scoped>\n",
       "    .dataframe tbody tr th:only-of-type {\n",
       "        vertical-align: middle;\n",
       "    }\n",
       "\n",
       "    .dataframe tbody tr th {\n",
       "        vertical-align: top;\n",
       "    }\n",
       "\n",
       "    .dataframe thead th {\n",
       "        text-align: right;\n",
       "    }\n",
       "</style>\n",
       "<table border=\"1\" class=\"dataframe\">\n",
       "  <thead>\n",
       "    <tr style=\"text-align: right;\">\n",
       "      <th></th>\n",
       "      <th>idTram</th>\n",
       "      <th>data</th>\n",
       "      <th>estatActual</th>\n",
       "      <th>estatPrevist</th>\n",
       "    </tr>\n",
       "  </thead>\n",
       "  <tbody>\n",
       "    <tr>\n",
       "      <th>0</th>\n",
       "      <td>1</td>\n",
       "      <td>20190101000551</td>\n",
       "      <td>0</td>\n",
       "      <td>0</td>\n",
       "    </tr>\n",
       "    <tr>\n",
       "      <th>1</th>\n",
       "      <td>2</td>\n",
       "      <td>20190101000551</td>\n",
       "      <td>0</td>\n",
       "      <td>0</td>\n",
       "    </tr>\n",
       "    <tr>\n",
       "      <th>2</th>\n",
       "      <td>3</td>\n",
       "      <td>20190101000551</td>\n",
       "      <td>0</td>\n",
       "      <td>0</td>\n",
       "    </tr>\n",
       "    <tr>\n",
       "      <th>3</th>\n",
       "      <td>4</td>\n",
       "      <td>20190101000551</td>\n",
       "      <td>0</td>\n",
       "      <td>0</td>\n",
       "    </tr>\n",
       "    <tr>\n",
       "      <th>4</th>\n",
       "      <td>5</td>\n",
       "      <td>20190101000551</td>\n",
       "      <td>0</td>\n",
       "      <td>0</td>\n",
       "    </tr>\n",
       "    <tr>\n",
       "      <th>...</th>\n",
       "      <td>...</td>\n",
       "      <td>...</td>\n",
       "      <td>...</td>\n",
       "      <td>...</td>\n",
       "    </tr>\n",
       "    <tr>\n",
       "      <th>4638122</th>\n",
       "      <td>530</td>\n",
       "      <td>20191231235553</td>\n",
       "      <td>1</td>\n",
       "      <td>0</td>\n",
       "    </tr>\n",
       "    <tr>\n",
       "      <th>4638123</th>\n",
       "      <td>531</td>\n",
       "      <td>20191231235553</td>\n",
       "      <td>1</td>\n",
       "      <td>0</td>\n",
       "    </tr>\n",
       "    <tr>\n",
       "      <th>4638124</th>\n",
       "      <td>532</td>\n",
       "      <td>20191231235553</td>\n",
       "      <td>1</td>\n",
       "      <td>0</td>\n",
       "    </tr>\n",
       "    <tr>\n",
       "      <th>4638125</th>\n",
       "      <td>533</td>\n",
       "      <td>20191231235553</td>\n",
       "      <td>1</td>\n",
       "      <td>5</td>\n",
       "    </tr>\n",
       "    <tr>\n",
       "      <th>4638126</th>\n",
       "      <td>534</td>\n",
       "      <td>20191231235553</td>\n",
       "      <td>1</td>\n",
       "      <td>0</td>\n",
       "    </tr>\n",
       "  </tbody>\n",
       "</table>\n",
       "<p>44665787 rows × 4 columns</p>\n",
       "</div>"
      ],
      "text/plain": [
       "         idTram            data  estatActual  estatPrevist\n",
       "0             1  20190101000551            0             0\n",
       "1             2  20190101000551            0             0\n",
       "2             3  20190101000551            0             0\n",
       "3             4  20190101000551            0             0\n",
       "4             5  20190101000551            0             0\n",
       "...         ...             ...          ...           ...\n",
       "4638122     530  20191231235553            1             0\n",
       "4638123     531  20191231235553            1             0\n",
       "4638124     532  20191231235553            1             0\n",
       "4638125     533  20191231235553            1             5\n",
       "4638126     534  20191231235553            1             0\n",
       "\n",
       "[44665787 rows x 4 columns]"
      ]
     },
     "execution_count": 17,
     "metadata": {},
     "output_type": "execute_result"
    }
   ],
   "source": [
    "#Observamos el del año 2019 y vemos que contiene los restantes 44 Mill y medio\n",
    "dfTrafBarcelona19"
   ]
  },
  {
   "cell_type": "code",
   "execution_count": 18,
   "metadata": {},
   "outputs": [
    {
     "data": {
      "text/plain": [
       "idTram          int64\n",
       "data            int64\n",
       "estatActual     int64\n",
       "estatPrevist    int64\n",
       "dtype: object"
      ]
     },
     "execution_count": 18,
     "metadata": {},
     "output_type": "execute_result"
    }
   ],
   "source": [
    "#Miramos los tipos de los campos recogidos\n",
    "dfTrafBarcelona18_19_20.dtypes"
   ]
  },
  {
   "cell_type": "code",
   "execution_count": 19,
   "metadata": {},
   "outputs": [
    {
     "data": {
      "text/plain": [
       "idTram          0\n",
       "data            0\n",
       "estatActual     0\n",
       "estatPrevist    0\n",
       "dtype: int64"
      ]
     },
     "execution_count": 19,
     "metadata": {},
     "output_type": "execute_result"
    }
   ],
   "source": [
    "#Miramos ahora si los datos traen datos faltantes NaN\n",
    "dfTrafBarcelona18_19_20.isnull().sum()"
   ]
  },
  {
   "cell_type": "markdown",
   "metadata": {},
   "source": [
    "Observamos que el dataset no trae datos faltantes"
   ]
  },
  {
   "cell_type": "code",
   "execution_count": 20,
   "metadata": {},
   "outputs": [
    {
     "data": {
      "text/html": [
       "<div>\n",
       "<style scoped>\n",
       "    .dataframe tbody tr th:only-of-type {\n",
       "        vertical-align: middle;\n",
       "    }\n",
       "\n",
       "    .dataframe tbody tr th {\n",
       "        vertical-align: top;\n",
       "    }\n",
       "\n",
       "    .dataframe thead th {\n",
       "        text-align: right;\n",
       "    }\n",
       "</style>\n",
       "<table border=\"1\" class=\"dataframe\">\n",
       "  <thead>\n",
       "    <tr style=\"text-align: right;\">\n",
       "      <th></th>\n",
       "      <th>idTram</th>\n",
       "      <th>data</th>\n",
       "      <th>estatActual</th>\n",
       "      <th>estatPrevist</th>\n",
       "    </tr>\n",
       "  </thead>\n",
       "  <tbody>\n",
       "    <tr>\n",
       "      <th>count</th>\n",
       "      <td>1.099319e+08</td>\n",
       "      <td>1.099319e+08</td>\n",
       "      <td>1.099319e+08</td>\n",
       "      <td>1.099319e+08</td>\n",
       "    </tr>\n",
       "    <tr>\n",
       "      <th>mean</th>\n",
       "      <td>2.670778e+02</td>\n",
       "      <td>2.019474e+13</td>\n",
       "      <td>8.656766e-01</td>\n",
       "      <td>8.418845e-01</td>\n",
       "    </tr>\n",
       "    <tr>\n",
       "      <th>std</th>\n",
       "      <td>1.646568e+02</td>\n",
       "      <td>6.544541e+09</td>\n",
       "      <td>1.063947e+00</td>\n",
       "      <td>1.090526e+00</td>\n",
       "    </tr>\n",
       "    <tr>\n",
       "      <th>min</th>\n",
       "      <td>1.000000e+00</td>\n",
       "      <td>2.018010e+13</td>\n",
       "      <td>0.000000e+00</td>\n",
       "      <td>0.000000e+00</td>\n",
       "    </tr>\n",
       "    <tr>\n",
       "      <th>25%</th>\n",
       "      <td>1.330000e+02</td>\n",
       "      <td>2.019070e+13</td>\n",
       "      <td>0.000000e+00</td>\n",
       "      <td>0.000000e+00</td>\n",
       "    </tr>\n",
       "    <tr>\n",
       "      <th>50%</th>\n",
       "      <td>2.650000e+02</td>\n",
       "      <td>2.019123e+13</td>\n",
       "      <td>0.000000e+00</td>\n",
       "      <td>0.000000e+00</td>\n",
       "    </tr>\n",
       "    <tr>\n",
       "      <th>75%</th>\n",
       "      <td>3.970000e+02</td>\n",
       "      <td>2.020070e+13</td>\n",
       "      <td>2.000000e+00</td>\n",
       "      <td>2.000000e+00</td>\n",
       "    </tr>\n",
       "    <tr>\n",
       "      <th>max</th>\n",
       "      <td>2.004000e+03</td>\n",
       "      <td>2.020123e+13</td>\n",
       "      <td>6.000000e+00</td>\n",
       "      <td>6.000000e+00</td>\n",
       "    </tr>\n",
       "  </tbody>\n",
       "</table>\n",
       "</div>"
      ],
      "text/plain": [
       "             idTram          data   estatActual  estatPrevist\n",
       "count  1.099319e+08  1.099319e+08  1.099319e+08  1.099319e+08\n",
       "mean   2.670778e+02  2.019474e+13  8.656766e-01  8.418845e-01\n",
       "std    1.646568e+02  6.544541e+09  1.063947e+00  1.090526e+00\n",
       "min    1.000000e+00  2.018010e+13  0.000000e+00  0.000000e+00\n",
       "25%    1.330000e+02  2.019070e+13  0.000000e+00  0.000000e+00\n",
       "50%    2.650000e+02  2.019123e+13  0.000000e+00  0.000000e+00\n",
       "75%    3.970000e+02  2.020070e+13  2.000000e+00  2.000000e+00\n",
       "max    2.004000e+03  2.020123e+13  6.000000e+00  6.000000e+00"
      ]
     },
     "execution_count": 20,
     "metadata": {},
     "output_type": "execute_result"
    }
   ],
   "source": [
    "dfTrafBarcelona18_19_20.describe()"
   ]
  },
  {
   "cell_type": "markdown",
   "metadata": {},
   "source": [
    "El campo 'estatActual' (Estado actual) es el campo clave para nuestro análisis. Es el campo que da la medida del estado del tráfico en cada tramo de la ciudad y en cada tiempo. Los estados pueden ser: \n",
    "\n",
    "0 = sin datos / 1 = muy fluido / 2 = fluido / 3 = denso / 4 = muy denso / 5 = congestión / 6 = cortado \n",
    "\n",
    "Por tanto, se trata de una medida cualitativa (clasificada de 1 a 6). \n",
    "\n",
    "El 0 es falta de dato, por lo que necesitamos averiguar cuántos registros contienen 0 en este campo, y habrá que quitarlos."
   ]
  },
  {
   "cell_type": "code",
   "execution_count": 21,
   "metadata": {},
   "outputs": [
    {
     "data": {
      "text/plain": [
       "0    57032028\n",
       "2    27077159\n",
       "1    19809299\n",
       "3     3878911\n",
       "4     1307204\n",
       "5      627512\n",
       "6      199792\n",
       "Name: estatActual, dtype: int64"
      ]
     },
     "execution_count": 21,
     "metadata": {},
     "output_type": "execute_result"
    }
   ],
   "source": [
    "dfTrafBarcelona18_19_20['estatActual'].value_counts()"
   ]
  },
  {
   "cell_type": "code",
   "execution_count": 22,
   "metadata": {},
   "outputs": [
    {
     "data": {
      "image/png": "[encoded data removed]",
      "text/plain": [
       "<Figure size 432x288 with 1 Axes>"
      ]
     },
     "metadata": {
      "needs_background": "light"
     },
     "output_type": "display_data"
    }
   ],
   "source": [
    "dfTrafBarcelona18_19_20['estatActual'].plot.hist();"
   ]
  },
  {
   "cell_type": "markdown",
   "metadata": {},
   "source": [
    "De los 55 Mill de registros, unos 25 Mill no tienen medida del tráfico (tienen valor 0). \n",
    "Vamos a quitarlos."
   ]
  },
  {
   "cell_type": "code",
   "execution_count": 23,
   "metadata": {},
   "outputs": [
    {
     "name": "stdout",
     "output_type": "stream",
     "text": [
      "             index  idTram            data  estatActual  estatPrevist\n",
      "0                0       1  20180101000554            0             0\n",
      "1                1       2  20180101000554            0             0\n",
      "2                2       3  20180101000554            0             0\n",
      "3                3       4  20180101000554            0             0\n",
      "4                4       5  20180101000554            0             0\n",
      "...            ...     ...             ...          ...           ...\n",
      "109931900  4654459     530  20201231235552            1             0\n",
      "109931901  4654460     531  20201231235552            1             0\n",
      "109931902  4654461     532  20201231235552            0             0\n",
      "109931903  4654462     533  20201231235552            1             0\n",
      "109931904  4654463     534  20201231235552            1             0\n",
      "\n",
      "[109931905 rows x 5 columns]\n"
     ]
    }
   ],
   "source": [
    "#Reseteamos el índice para que sea un número correlativo desde 0 hasta el último nº de fila.\n",
    "dfTrafBarcelona18_19_20 = dfTrafBarcelona18_19_20.reset_index()\n",
    "print(dfTrafBarcelona18_19_20)"
   ]
  },
  {
   "cell_type": "code",
   "execution_count": 24,
   "metadata": {},
   "outputs": [
    {
     "name": "stdout",
     "output_type": "stream",
     "text": [
      "             index  idTram            data  estatActual  estatPrevist\n",
      "7                7       8  20180101000554            2             0\n",
      "36              36      37  20180101000554            1             5\n",
      "82              82      83  20180101000554            1             0\n",
      "96              96      97  20180101000554            1             0\n",
      "98              98      99  20180101000554            4             0\n",
      "...            ...     ...             ...          ...           ...\n",
      "109931896  4654455     526  20201231235552            1             0\n",
      "109931900  4654459     530  20201231235552            1             0\n",
      "109931901  4654460     531  20201231235552            1             0\n",
      "109931903  4654462     533  20201231235552            1             0\n",
      "109931904  4654463     534  20201231235552            1             0\n",
      "\n",
      "[52899877 rows x 5 columns]\n"
     ]
    }
   ],
   "source": [
    "#Eliminamos las filas que tienen 0 en el campo Estado Actual. Nos quedan por tanto unos 30 Mill de registros\n",
    "dfTrafBarcelona18_19_20 = dfTrafBarcelona18_19_20.drop(dfTrafBarcelona18_19_20[dfTrafBarcelona18_19_20['estatActual']==0].index)\n",
    "print(dfTrafBarcelona18_19_20)"
   ]
  },
  {
   "cell_type": "code",
   "execution_count": 25,
   "metadata": {},
   "outputs": [
    {
     "data": {
      "image/png": "[encoded data removed]",
      "text/plain": [
       "<Figure size 432x288 with 1 Axes>"
      ]
     },
     "metadata": {
      "needs_background": "light"
     },
     "output_type": "display_data"
    }
   ],
   "source": [
    "#Volvemos a pintar el histograma habiendo quitado los registros sin dato medido\n",
    "dfTrafBarcelona18_19_20['estatActual'].plot.hist();"
   ]
  },
  {
   "cell_type": "markdown",
   "metadata": {},
   "source": [
    "Eliminamos las columnas que no nos interesan para nuestro análisis: el antiguo index y el estado previsto"
   ]
  },
  {
   "cell_type": "code",
   "execution_count": 26,
   "metadata": {},
   "outputs": [
    {
     "name": "stdout",
     "output_type": "stream",
     "text": [
      "           idTram            data  estatActual\n",
      "7               8  20180101000554            2\n",
      "36             37  20180101000554            1\n",
      "82             83  20180101000554            1\n",
      "96             97  20180101000554            1\n",
      "98             99  20180101000554            4\n",
      "...           ...             ...          ...\n",
      "109931896     526  20201231235552            1\n",
      "109931900     530  20201231235552            1\n",
      "109931901     531  20201231235552            1\n",
      "109931903     533  20201231235552            1\n",
      "109931904     534  20201231235552            1\n",
      "\n",
      "[52899877 rows x 3 columns]\n"
     ]
    }
   ],
   "source": [
    "dfTrafBarcelona18_19_20 = dfTrafBarcelona18_19_20.drop(columns=['index','estatPrevist'])\n",
    "print(dfTrafBarcelona18_19_20)"
   ]
  },
  {
   "cell_type": "code",
   "execution_count": 27,
   "metadata": {},
   "outputs": [
    {
     "name": "stdout",
     "output_type": "stream",
     "text": [
      "           idTram           Fecha  Estado_Actual\n",
      "7               8  20180101000554              2\n",
      "36             37  20180101000554              1\n",
      "82             83  20180101000554              1\n",
      "96             97  20180101000554              1\n",
      "98             99  20180101000554              4\n",
      "...           ...             ...            ...\n",
      "109931896     526  20201231235552              1\n",
      "109931900     530  20201231235552              1\n",
      "109931901     531  20201231235552              1\n",
      "109931903     533  20201231235552              1\n",
      "109931904     534  20201231235552              1\n",
      "\n",
      "[52899877 rows x 3 columns]\n"
     ]
    }
   ],
   "source": [
    "#Renombramos los campos\n",
    "dfTrafBarcelona18_19_20.rename(columns = {'data': 'Fecha', 'estatActual': 'Estado_Actual'}, inplace = True)\n",
    "print(dfTrafBarcelona18_19_20)"
   ]
  },
  {
   "cell_type": "markdown",
   "metadata": {},
   "source": [
    "Continuamos con el data frame dfTrafBarcelona18_19_20. Ahora vamos a convertir el campo 'data' en formato Fecha para convertirlo en Indice"
   ]
  },
  {
   "cell_type": "code",
   "execution_count": 29,
   "metadata": {},
   "outputs": [
    {
     "name": "stdout",
     "output_type": "stream",
     "text": [
      "           idTram               Fecha  Estado_Actual\n",
      "7               8 2018-01-01 00:05:54              2\n",
      "36             37 2018-01-01 00:05:54              1\n",
      "82             83 2018-01-01 00:05:54              1\n",
      "96             97 2018-01-01 00:05:54              1\n",
      "98             99 2018-01-01 00:05:54              4\n",
      "...           ...                 ...            ...\n",
      "109931896     526 2020-12-31 23:55:52              1\n",
      "109931900     530 2020-12-31 23:55:52              1\n",
      "109931901     531 2020-12-31 23:55:52              1\n",
      "109931903     533 2020-12-31 23:55:52              1\n",
      "109931904     534 2020-12-31 23:55:52              1\n",
      "\n",
      "[52899877 rows x 3 columns]\n"
     ]
    }
   ],
   "source": [
    "#Convertimos el campo 'fecha' en formato fecha y hora\n",
    "dfTrafBarcelona18_19_20['Fecha'] = pd.to_datetime(dfTrafBarcelona18_19_20['Fecha'], format='%Y%m%d%H%M%S')\n",
    "print(dfTrafBarcelona18_19_20)"
   ]
  },
  {
   "cell_type": "code",
   "execution_count": 31,
   "metadata": {},
   "outputs": [],
   "source": [
    "dfTrafBarcelona18_19_20_idTram=dfTrafBarcelona18_19_20\n",
    "#Convertimos el campo 'fecha' en formato fecha y generamos el frame que utilizaremos para exportar medias por id y fecha\n",
    "dfTrafBarcelona18_19_20_idTram[\"Fecha\"] = dfTrafBarcelona18_19_20[\"Fecha\"].dt.normalize()\n"
   ]
  },
  {
   "cell_type": "code",
   "execution_count": 32,
   "metadata": {},
   "outputs": [
    {
     "data": {
      "text/html": [
       "<div>\n",
       "<style scoped>\n",
       "    .dataframe tbody tr th:only-of-type {\n",
       "        vertical-align: middle;\n",
       "    }\n",
       "\n",
       "    .dataframe tbody tr th {\n",
       "        vertical-align: top;\n",
       "    }\n",
       "\n",
       "    .dataframe thead th {\n",
       "        text-align: right;\n",
       "    }\n",
       "</style>\n",
       "<table border=\"1\" class=\"dataframe\">\n",
       "  <thead>\n",
       "    <tr style=\"text-align: right;\">\n",
       "      <th></th>\n",
       "      <th>idTram</th>\n",
       "      <th>Fecha</th>\n",
       "      <th>Estado_Actual</th>\n",
       "    </tr>\n",
       "  </thead>\n",
       "  <tbody>\n",
       "    <tr>\n",
       "      <th>7</th>\n",
       "      <td>8</td>\n",
       "      <td>2018-01-01</td>\n",
       "      <td>2</td>\n",
       "    </tr>\n",
       "    <tr>\n",
       "      <th>36</th>\n",
       "      <td>37</td>\n",
       "      <td>2018-01-01</td>\n",
       "      <td>1</td>\n",
       "    </tr>\n",
       "    <tr>\n",
       "      <th>82</th>\n",
       "      <td>83</td>\n",
       "      <td>2018-01-01</td>\n",
       "      <td>1</td>\n",
       "    </tr>\n",
       "    <tr>\n",
       "      <th>96</th>\n",
       "      <td>97</td>\n",
       "      <td>2018-01-01</td>\n",
       "      <td>1</td>\n",
       "    </tr>\n",
       "    <tr>\n",
       "      <th>98</th>\n",
       "      <td>99</td>\n",
       "      <td>2018-01-01</td>\n",
       "      <td>4</td>\n",
       "    </tr>\n",
       "  </tbody>\n",
       "</table>\n",
       "</div>"
      ],
      "text/plain": [
       "    idTram      Fecha  Estado_Actual\n",
       "7        8 2018-01-01              2\n",
       "36      37 2018-01-01              1\n",
       "82      83 2018-01-01              1\n",
       "96      97 2018-01-01              1\n",
       "98      99 2018-01-01              4"
      ]
     },
     "execution_count": 32,
     "metadata": {},
     "output_type": "execute_result"
    }
   ],
   "source": [
    "dfTrafBarcelona18_19_20_idTram.head()"
   ]
  },
  {
   "cell_type": "code",
   "execution_count": 33,
   "metadata": {},
   "outputs": [
    {
     "data": {
      "text/plain": [
       "(395852,)"
      ]
     },
     "execution_count": 33,
     "metadata": {},
     "output_type": "execute_result"
    }
   ],
   "source": [
    "# agruparemos cada valor de las cada tramo a 1 valor mediana por fecha, asi calculamos valores por fecha para la ciudad de bcn\n",
    "dfTrafBarcelona18_19_20_idTram= dfTrafBarcelona18_19_20_idTram.groupby(['Fecha','idTram'])['Estado_Actual'].median()\n",
    "dfTrafBarcelona18_19_20_idTram.shape"
   ]
  },
  {
   "cell_type": "code",
   "execution_count": 34,
   "metadata": {},
   "outputs": [
    {
     "data": {
      "text/plain": [
       "Fecha       idTram\n",
       "2018-01-01  1         2.0\n",
       "            2         1.0\n",
       "            3         2.0\n",
       "            4         1.0\n",
       "            5         1.0\n",
       "Name: Estado_Actual, dtype: float64"
      ]
     },
     "execution_count": 34,
     "metadata": {},
     "output_type": "execute_result"
    }
   ],
   "source": [
    "dfTrafBarcelona18_19_20_idTram.head()"
   ]
  },
  {
   "cell_type": "code",
   "execution_count": 57,
   "metadata": {},
   "outputs": [],
   "source": [
    "#exportaremos los datos a nivel de mediana por estacion y dia a un csv:\n",
    "dfTrafBarcelona18_19_20_idTram.to_csv('DatosEstadoTraficoBarcelona_mediana_idtram_dia_18_19_20.csv') "
   ]
  },
  {
   "cell_type": "code",
   "execution_count": 63,
   "metadata": {},
   "outputs": [],
   "source": [
    "#Volvemos al dataframe original para trabajar los datos por horas:\n",
    "dfTrafBarcelona18_19_20 = pd.concat([dfTrafBarcelona18,dfTrafBarcelona19,dfTrafBarcelona20 ])"
   ]
  },
  {
   "cell_type": "code",
   "execution_count": 64,
   "metadata": {},
   "outputs": [
    {
     "name": "stdout",
     "output_type": "stream",
     "text": [
      "           idTram               Fecha  Estado_Actual\n",
      "7               8 2018-01-01 00:05:54              2\n",
      "36             37 2018-01-01 00:05:54              1\n",
      "82             83 2018-01-01 00:05:54              1\n",
      "96             97 2018-01-01 00:05:54              1\n",
      "98             99 2018-01-01 00:05:54              4\n",
      "...           ...                 ...            ...\n",
      "109931896     526 2020-12-31 23:55:52              1\n",
      "109931900     530 2020-12-31 23:55:52              1\n",
      "109931901     531 2020-12-31 23:55:52              1\n",
      "109931903     533 2020-12-31 23:55:52              1\n",
      "109931904     534 2020-12-31 23:55:52              1\n",
      "\n",
      "[52899877 rows x 3 columns]\n"
     ]
    }
   ],
   "source": [
    "#Reseteamos el índice para que sea un número correlativo desde 0 hasta el último nº de fila.\n",
    "dfTrafBarcelona18_19_20 = dfTrafBarcelona18_19_20.reset_index()\n",
    "#Eliminamos las filas que tienen 0 en el campo Estado Actual. Nos quedan por tanto unos 30 Mill de registros\n",
    "dfTrafBarcelona18_19_20 = dfTrafBarcelona18_19_20.drop(dfTrafBarcelona18_19_20[dfTrafBarcelona18_19_20['estatActual']==0].index)\n",
    "dfTrafBarcelona18_19_20 = dfTrafBarcelona18_19_20.drop(columns=['index','estatPrevist'])\n",
    "#Renombramos los campos\n",
    "dfTrafBarcelona18_19_20.rename(columns = {'data': 'Fecha', 'estatActual': 'Estado_Actual'}, inplace = True)\n",
    "dfTrafBarcelona18_19_20['Fecha'] = pd.to_datetime(dfTrafBarcelona18_19_20['Fecha'], format='%Y%m%d%H%M%S')\n",
    "print(dfTrafBarcelona18_19_20)"
   ]
  },
  {
   "cell_type": "code",
   "execution_count": 65,
   "metadata": {},
   "outputs": [
    {
     "name": "stdout",
     "output_type": "stream",
     "text": [
      "                     idTram  Estado_Actual\n",
      "Fecha                                     \n",
      "2018-01-01 00:05:54       8              2\n",
      "2018-01-01 00:05:54      37              1\n",
      "2018-01-01 00:05:54      83              1\n",
      "2018-01-01 00:05:54      97              1\n",
      "2018-01-01 00:05:54      99              4\n",
      "...                     ...            ...\n",
      "2020-12-31 23:55:52     526              1\n",
      "2020-12-31 23:55:52     530              1\n",
      "2020-12-31 23:55:52     531              1\n",
      "2020-12-31 23:55:52     533              1\n",
      "2020-12-31 23:55:52     534              1\n",
      "\n",
      "[52899877 rows x 2 columns]\n"
     ]
    }
   ],
   "source": [
    "#Convertimos la fecha en el índice\n",
    "dfTrafBarcelona18_19_20 = dfTrafBarcelona18_19_20.set_index('Fecha')\n",
    "print(dfTrafBarcelona18_19_20)"
   ]
  },
  {
   "cell_type": "markdown",
   "metadata": {},
   "source": [
    "Y ahora agrupamos todos los datos por día calculando las medias por día. Recordamos que todos los valores dados para un día son en los diferentes tramos y en los diferentes minutos. Estamos así obteniendo el estado medio del tráfico por día en toda la ciudad. \n",
    "\n",
    "Al agrupar por la media estamos convirtiendo el campo Estado en una medida continua, no clasificada. Lo preferimos así para obtener un rango mayor de medidas, pues si usásemos la mediana sólo obtendríamos dos valores diferentes en todo el dataframe: '1' y '2', muchísimo más frecuentes que el resto de valores."
   ]
  },
  {
   "cell_type": "code",
   "execution_count": 66,
   "metadata": {},
   "outputs": [
    {
     "name": "stdout",
     "output_type": "stream",
     "text": [
      "                idTram  Estado_Actual\n",
      "Fecha                                \n",
      "2018-01-01  253.798995       1.476337\n",
      "2018-01-02  257.556842       1.783059\n",
      "2018-01-03  258.452151       1.831938\n",
      "2018-01-04  255.930703       1.826063\n",
      "2018-01-05  256.203031       1.827071\n",
      "...                ...            ...\n",
      "2020-12-27  268.312216       1.485779\n",
      "2020-12-28  262.355045       1.829776\n",
      "2020-12-29  262.108150       1.828526\n",
      "2020-12-30  261.698511       1.855909\n",
      "2020-12-31  263.028131       1.728937\n",
      "\n",
      "[1096 rows x 2 columns]\n"
     ]
    }
   ],
   "source": [
    "dfTrafBarcelona18_19_20_pordias = dfTrafBarcelona18_19_20.resample('D').mean()\n",
    "print(dfTrafBarcelona18_19_20_pordias)"
   ]
  },
  {
   "cell_type": "code",
   "execution_count": 67,
   "metadata": {},
   "outputs": [
    {
     "data": {
      "text/plain": [
       "idTram           78\n",
       "Estado_Actual    78\n",
       "dtype: int64"
      ]
     },
     "execution_count": 67,
     "metadata": {},
     "output_type": "execute_result"
    }
   ],
   "source": [
    "#Comprobamos si ha quedado algún día sin dato (la función resample('D') lo habrá registrado con un NaN )\n",
    "\n",
    "dfTrafBarcelona18_19_20_pordias.isnull().sum()"
   ]
  },
  {
   "cell_type": "markdown",
   "metadata": {},
   "source": [
    "Eliminamos el campo idtram que ahora no tiene sentido"
   ]
  },
  {
   "cell_type": "code",
   "execution_count": 68,
   "metadata": {},
   "outputs": [],
   "source": [
    "dfTrafBarcelona18_19_20_pordias = dfTrafBarcelona18_19_20_pordias.drop(columns=['idTram'])"
   ]
  },
  {
   "cell_type": "markdown",
   "metadata": {},
   "source": [
    "No ha quedado ningún día sin dato medio de tráfico, pese a que ha habido días con pocos datos."
   ]
  },
  {
   "cell_type": "code",
   "execution_count": 69,
   "metadata": {},
   "outputs": [
    {
     "data": {
      "text/html": [
       "<div>\n",
       "<style scoped>\n",
       "    .dataframe tbody tr th:only-of-type {\n",
       "        vertical-align: middle;\n",
       "    }\n",
       "\n",
       "    .dataframe tbody tr th {\n",
       "        vertical-align: top;\n",
       "    }\n",
       "\n",
       "    .dataframe thead th {\n",
       "        text-align: right;\n",
       "    }\n",
       "</style>\n",
       "<table border=\"1\" class=\"dataframe\">\n",
       "  <thead>\n",
       "    <tr style=\"text-align: right;\">\n",
       "      <th></th>\n",
       "      <th>Estado_Actual</th>\n",
       "    </tr>\n",
       "  </thead>\n",
       "  <tbody>\n",
       "    <tr>\n",
       "      <th>count</th>\n",
       "      <td>1018.000000</td>\n",
       "    </tr>\n",
       "    <tr>\n",
       "      <th>mean</th>\n",
       "      <td>1.812838</td>\n",
       "    </tr>\n",
       "    <tr>\n",
       "      <th>std</th>\n",
       "      <td>0.192870</td>\n",
       "    </tr>\n",
       "    <tr>\n",
       "      <th>min</th>\n",
       "      <td>1.236776</td>\n",
       "    </tr>\n",
       "    <tr>\n",
       "      <th>25%</th>\n",
       "      <td>1.649448</td>\n",
       "    </tr>\n",
       "    <tr>\n",
       "      <th>50%</th>\n",
       "      <td>1.865156</td>\n",
       "    </tr>\n",
       "    <tr>\n",
       "      <th>75%</th>\n",
       "      <td>1.969682</td>\n",
       "    </tr>\n",
       "    <tr>\n",
       "      <th>max</th>\n",
       "      <td>2.199561</td>\n",
       "    </tr>\n",
       "  </tbody>\n",
       "</table>\n",
       "</div>"
      ],
      "text/plain": [
       "       Estado_Actual\n",
       "count    1018.000000\n",
       "mean        1.812838\n",
       "std         0.192870\n",
       "min         1.236776\n",
       "25%         1.649448\n",
       "50%         1.865156\n",
       "75%         1.969682\n",
       "max         2.199561"
      ]
     },
     "execution_count": 69,
     "metadata": {},
     "output_type": "execute_result"
    }
   ],
   "source": [
    "dfTrafBarcelona18_19_20_pordias.describe()"
   ]
  },
  {
   "cell_type": "markdown",
   "metadata": {},
   "source": [
    "Exportamos a un fichero csv el dataframe trabajado resultante"
   ]
  },
  {
   "cell_type": "code",
   "execution_count": 70,
   "metadata": {},
   "outputs": [],
   "source": [
    "dfTrafBarcelona18_19_20_pordias.to_csv('DatosEstadoTraficoBarcelona18_19_20.csv')"
   ]
  },
  {
   "cell_type": "markdown",
   "metadata": {},
   "source": [
    "El problema es que nos quedan tan solo valores de Estado de entre 1.397 y 2.2, como medias de cada día. Esto se debe a:\n",
    "\n",
    "- que muchos tramos de la ciudad son de tráfico fluido y al hacer media con los tramos más congestionados invisibilizan dicha congestión. \n",
    "- que la cantidad de horas en que el tráfico está más congestionado es pequeña en relación a las 24 h del día. La mayor parte de esas 24 h, el tráfico se mantiene fluido. \n",
    "- y que están incluidos los fines de semana, en los que se supone que el tráfico es más fluido.\n",
    "\n",
    "Para intentar dar más relevancia al tráfico que sucede durante el día, vamos a segmentar nuestro dataframe en tres franjas: madrugada (de 23 h a 6 h), mañana (de 6 h a 14 h) y tarde (de 14 h a 23 h), para ver sus histogramas por separado, y decidir si quitamos los datos correspondientes a la madrugada.\n",
    "\n",
    "También vamos a analizar la diferencia que se pueda notar entre fines de semana y días laborables.\n",
    "\n",
    "Por último analizaremos las diferencias entre tramos de la ciudad"
   ]
  },
  {
   "cell_type": "code",
   "execution_count": 71,
   "metadata": {},
   "outputs": [
    {
     "name": "stdout",
     "output_type": "stream",
     "text": [
      "                     idTram  Estado_Actual  hora     franja  diadelasemana  \\\n",
      "Fecha                                                                        \n",
      "2018-01-01 00:05:54       8              2     0  Madrugada              0   \n",
      "2018-01-01 00:05:54      37              1     0  Madrugada              0   \n",
      "2018-01-01 00:05:54      83              1     0  Madrugada              0   \n",
      "2018-01-01 00:05:54      97              1     0  Madrugada              0   \n",
      "2018-01-01 00:05:54      99              4     0  Madrugada              0   \n",
      "...                     ...            ...   ...        ...            ...   \n",
      "2020-12-31 23:55:52     526              1    23  Madrugada              3   \n",
      "2020-12-31 23:55:52     530              1    23  Madrugada              3   \n",
      "2020-12-31 23:55:52     531              1    23  Madrugada              3   \n",
      "2020-12-31 23:55:52     533              1    23  Madrugada              3   \n",
      "2020-12-31 23:55:52     534              1    23  Madrugada              3   \n",
      "\n",
      "                     findesemana  \n",
      "Fecha                             \n",
      "2018-01-01 00:05:54            0  \n",
      "2018-01-01 00:05:54            0  \n",
      "2018-01-01 00:05:54            0  \n",
      "2018-01-01 00:05:54            0  \n",
      "2018-01-01 00:05:54            0  \n",
      "...                          ...  \n",
      "2020-12-31 23:55:52            0  \n",
      "2020-12-31 23:55:52            0  \n",
      "2020-12-31 23:55:52            0  \n",
      "2020-12-31 23:55:52            0  \n",
      "2020-12-31 23:55:52            0  \n",
      "\n",
      "[52899877 rows x 6 columns]\n"
     ]
    }
   ],
   "source": [
    "dfTrafBarcelona18_19_20['hora'] = dfTrafBarcelona18_19_20.index.hour\n",
    "franjas = {\n",
    "             0: 'Madrugada',\n",
    "             1: 'Madrugada',\n",
    "             2: 'Madrugada',\n",
    "             3: 'Madrugada',\n",
    "             4: 'Madrugada',\n",
    "             5: 'Madrugada',\n",
    "             6: 'Mañana',\n",
    "             7: 'Mañana',\n",
    "             8: 'Mañana',\n",
    "             9: 'Mañana',\n",
    "             10: 'Mañana',\n",
    "             11: 'Mañana',\n",
    "             12: 'Mañana',\n",
    "             13: 'Mañana',\n",
    "             14: 'Tarde',\n",
    "             15: 'Tarde',\n",
    "             16: 'Tarde',\n",
    "             17: 'Tarde',\n",
    "             18: 'Tarde',\n",
    "             19: 'Tarde',\n",
    "             20: 'Tarde',\n",
    "             21: 'Tarde',\n",
    "             22: 'Tarde',\n",
    "             23: 'Madrugada'\n",
    "}\n",
    "dfTrafBarcelona18_19_20['franja'] = dfTrafBarcelona18_19_20['hora'].map(franjas)\n",
    "dfTrafBarcelona18_19_20['diadelasemana'] = dfTrafBarcelona18_19_20.index.dayofweek\n",
    "dfTrafBarcelona18_19_20['findesemana'] = (dfTrafBarcelona18_19_20.index.dayofweek // 5 == 1).astype(int)\n",
    "print(dfTrafBarcelona18_19_20)"
   ]
  },
  {
   "cell_type": "code",
   "execution_count": 72,
   "metadata": {},
   "outputs": [
    {
     "data": {
      "text/plain": [
       "Tarde        25220713\n",
       "Mañana       20517815\n",
       "Madrugada     7161349\n",
       "Name: franja, dtype: int64"
      ]
     },
     "execution_count": 72,
     "metadata": {},
     "output_type": "execute_result"
    }
   ],
   "source": [
    "dfTrafBarcelona18_19_20.franja.value_counts()"
   ]
  },
  {
   "cell_type": "code",
   "execution_count": 73,
   "metadata": {},
   "outputs": [
    {
     "data": {
      "text/plain": [
       "4    7967978\n",
       "3    7895979\n",
       "2    7631664\n",
       "1    7580640\n",
       "0    7523100\n",
       "5    7440464\n",
       "6    6860052\n",
       "Name: diadelasemana, dtype: int64"
      ]
     },
     "execution_count": 73,
     "metadata": {},
     "output_type": "execute_result"
    }
   ],
   "source": [
    "dfTrafBarcelona18_19_20.diadelasemana.value_counts()"
   ]
  },
  {
   "cell_type": "markdown",
   "metadata": {},
   "source": [
    "Los días de la semana van de 0=Lunes a 6=Domingo"
   ]
  },
  {
   "cell_type": "code",
   "execution_count": 74,
   "metadata": {},
   "outputs": [
    {
     "data": {
      "text/plain": [
       "0    38599361\n",
       "1    14300516\n",
       "Name: findesemana, dtype: int64"
      ]
     },
     "execution_count": 74,
     "metadata": {},
     "output_type": "execute_result"
    }
   ],
   "source": [
    "dfTrafBarcelona18_19_20.findesemana.value_counts()"
   ]
  },
  {
   "cell_type": "markdown",
   "metadata": {},
   "source": [
    "El campo findesemana vale 1 cuando se trata de fin de semana y 0 cuando es día laborable"
   ]
  },
  {
   "cell_type": "markdown",
   "metadata": {},
   "source": [
    "Comprobamos la distribución del tráfico a lo largo de las 24 horas del día"
   ]
  },
  {
   "cell_type": "code",
   "execution_count": 75,
   "metadata": {},
   "outputs": [
    {
     "data": {
      "image/png": "[encoded data removed]",
      "text/plain": [
       "<Figure size 1080x576 with 1 Axes>"
      ]
     },
     "metadata": {
      "needs_background": "light"
     },
     "output_type": "display_data"
    }
   ],
   "source": [
    "plt.figure(figsize=(15,8))\n",
    "sns.histplot(data=dfTrafBarcelona18_19_20, x='hora', hue='Estado_Actual', binwidth=1, multiple=\"stack\");"
   ]
  },
  {
   "cell_type": "markdown",
   "metadata": {},
   "source": [
    "Vemos que en realidad a cualquier hora, el tráfico es mucho más frecuentemente fluido que congestionado. Las medias seguirán dándonos valores bajos de tráfico, pero de todas formas continuamos."
   ]
  },
  {
   "cell_type": "markdown",
   "metadata": {},
   "source": [
    "Vamos a visualizar en histograma la distribución del tráfico en las 3 franjas"
   ]
  },
  {
   "cell_type": "code",
   "execution_count": 76,
   "metadata": {},
   "outputs": [
    {
     "data": {
      "image/png": "[encoded data removed]",
      "text/plain": [
       "<Figure size 432x288 with 1 Axes>"
      ]
     },
     "metadata": {
      "needs_background": "light"
     },
     "output_type": "display_data"
    }
   ],
   "source": [
    "#Juntos en un único gráfico\n",
    "sns.histplot(data=dfTrafBarcelona18_19_20, x='Estado_Actual', hue='franja', binwidth=1, multiple=\"stack\");"
   ]
  },
  {
   "cell_type": "markdown",
   "metadata": {},
   "source": [
    "Comprobamos que efectivamente durante la madrugada no hay casi tráfico, y vamos a mirarlo en un gráfico propio."
   ]
  },
  {
   "cell_type": "code",
   "execution_count": 77,
   "metadata": {},
   "outputs": [
    {
     "data": {
      "image/png": "[encoded data removed]",
      "text/plain": [
       "<Figure size 432x288 with 1 Axes>"
      ]
     },
     "metadata": {
      "needs_background": "light"
     },
     "output_type": "display_data"
    }
   ],
   "source": [
    "dfTrafBarcelona18_19_20['Estado_Actual'].loc[dfTrafBarcelona18_19_20['franja']=='Madrugada'].plot.hist();"
   ]
  },
  {
   "cell_type": "markdown",
   "metadata": {},
   "source": [
    "Vamos a quitar por tanto los registros de las horas de madrugada, para así centrar nuestro análisis en la influencia de las horas del día."
   ]
  },
  {
   "cell_type": "code",
   "execution_count": 78,
   "metadata": {},
   "outputs": [
    {
     "name": "stdout",
     "output_type": "stream",
     "text": [
      "                     idTram  Estado_Actual  hora  franja  diadelasemana  \\\n",
      "Fecha                                                                     \n",
      "2018-01-01 06:00:55       2              1     6  Mañana              0   \n",
      "2018-01-01 06:00:55       4              1     6  Mañana              0   \n",
      "2018-01-01 06:00:55       6              1     6  Mañana              0   \n",
      "2018-01-01 06:00:55       8              1     6  Mañana              0   \n",
      "2018-01-01 06:00:55      37              3     6  Mañana              0   \n",
      "...                     ...            ...   ...     ...            ...   \n",
      "2020-12-31 22:55:51     530              1    22   Tarde              3   \n",
      "2020-12-31 22:55:51     531              1    22   Tarde              3   \n",
      "2020-12-31 22:55:51     532              1    22   Tarde              3   \n",
      "2020-12-31 22:55:51     533              1    22   Tarde              3   \n",
      "2020-12-31 22:55:51     534              1    22   Tarde              3   \n",
      "\n",
      "                     findesemana  \n",
      "Fecha                             \n",
      "2018-01-01 06:00:55            0  \n",
      "2018-01-01 06:00:55            0  \n",
      "2018-01-01 06:00:55            0  \n",
      "2018-01-01 06:00:55            0  \n",
      "2018-01-01 06:00:55            0  \n",
      "...                          ...  \n",
      "2020-12-31 22:55:51            0  \n",
      "2020-12-31 22:55:51            0  \n",
      "2020-12-31 22:55:51            0  \n",
      "2020-12-31 22:55:51            0  \n",
      "2020-12-31 22:55:51            0  \n",
      "\n",
      "[45738528 rows x 6 columns]\n"
     ]
    }
   ],
   "source": [
    "dfTrafBarcelona18_19_20_sinmadrugadas = dfTrafBarcelona18_19_20.loc[dfTrafBarcelona18_19_20['franja']!='Madrugada']\n",
    "print(dfTrafBarcelona18_19_20_sinmadrugadas)"
   ]
  },
  {
   "cell_type": "markdown",
   "metadata": {},
   "source": [
    "Vamos ahora a mirar las posibles diferencias entre fines de semana (valor 'findesemana' = 1) y días laborables (valor 'findesemana' = 0)"
   ]
  },
  {
   "cell_type": "code",
   "execution_count": 79,
   "metadata": {},
   "outputs": [
    {
     "data": {
      "image/png": "[encoded data removed]",
      "text/plain": [
       "<Figure size 433x360 with 1 Axes>"
      ]
     },
     "metadata": {
      "needs_background": "light"
     },
     "output_type": "display_data"
    }
   ],
   "source": [
    "sns.displot(data=dfTrafBarcelona18_19_20_sinmadrugadas, x='Estado_Actual', hue='findesemana', binwidth=1, stat=\"density\", common_norm=False, multiple=\"dodge\");"
   ]
  },
  {
   "cell_type": "markdown",
   "metadata": {},
   "source": [
    "Se percibe que en fines de semana (valor 1, color naranja) es mayor la proporción de tiempo en tráfico fluido (suma de estados 1 y 2 es aproximadamente 0,93) que en días laborables (misma suma en torno a 0,83)"
   ]
  },
  {
   "cell_type": "code",
   "execution_count": 80,
   "metadata": {},
   "outputs": [
    {
     "data": {
      "text/plain": [
       "531    130512\n",
       "532    130509\n",
       "504    130506\n",
       "518    130496\n",
       "508    130485\n",
       "        ...  \n",
       "335         4\n",
       "284         3\n",
       "383         2\n",
       "32          2\n",
       "190         1\n",
       "Name: idTram, Length: 486, dtype: int64"
      ]
     },
     "execution_count": 80,
     "metadata": {},
     "output_type": "execute_result"
    }
   ],
   "source": [
    "dfTrafBarcelona18_19_20_sinmadrugadas.idTram.value_counts()"
   ]
  },
  {
   "cell_type": "code",
   "execution_count": 81,
   "metadata": {},
   "outputs": [
    {
     "data": {
      "text/html": [
       "<div>\n",
       "<style scoped>\n",
       "    .dataframe tbody tr th:only-of-type {\n",
       "        vertical-align: middle;\n",
       "    }\n",
       "\n",
       "    .dataframe tbody tr th {\n",
       "        vertical-align: top;\n",
       "    }\n",
       "\n",
       "    .dataframe thead th {\n",
       "        text-align: right;\n",
       "    }\n",
       "</style>\n",
       "<table border=\"1\" class=\"dataframe\">\n",
       "  <thead>\n",
       "    <tr style=\"text-align: right;\">\n",
       "      <th></th>\n",
       "      <th>Estado_Actual</th>\n",
       "      <th>hora</th>\n",
       "      <th>diadelasemana</th>\n",
       "      <th>findesemana</th>\n",
       "    </tr>\n",
       "    <tr>\n",
       "      <th>idTram</th>\n",
       "      <th></th>\n",
       "      <th></th>\n",
       "      <th></th>\n",
       "      <th></th>\n",
       "    </tr>\n",
       "  </thead>\n",
       "  <tbody>\n",
       "    <tr>\n",
       "      <th>424</th>\n",
       "      <td>1.055870</td>\n",
       "      <td>14.419308</td>\n",
       "      <td>2.867674</td>\n",
       "      <td>0.244948</td>\n",
       "    </tr>\n",
       "    <tr>\n",
       "      <th>95</th>\n",
       "      <td>1.075620</td>\n",
       "      <td>14.282413</td>\n",
       "      <td>2.885453</td>\n",
       "      <td>0.251238</td>\n",
       "    </tr>\n",
       "    <tr>\n",
       "      <th>422</th>\n",
       "      <td>1.081405</td>\n",
       "      <td>14.177700</td>\n",
       "      <td>2.795324</td>\n",
       "      <td>0.217027</td>\n",
       "    </tr>\n",
       "    <tr>\n",
       "      <th>198</th>\n",
       "      <td>1.088439</td>\n",
       "      <td>14.481462</td>\n",
       "      <td>2.909886</td>\n",
       "      <td>0.258427</td>\n",
       "    </tr>\n",
       "    <tr>\n",
       "      <th>339</th>\n",
       "      <td>1.104454</td>\n",
       "      <td>14.262960</td>\n",
       "      <td>2.888274</td>\n",
       "      <td>0.251685</td>\n",
       "    </tr>\n",
       "    <tr>\n",
       "      <th>...</th>\n",
       "      <td>...</td>\n",
       "      <td>...</td>\n",
       "      <td>...</td>\n",
       "      <td>...</td>\n",
       "    </tr>\n",
       "    <tr>\n",
       "      <th>335</th>\n",
       "      <td>6.000000</td>\n",
       "      <td>9.250000</td>\n",
       "      <td>6.000000</td>\n",
       "      <td>1.000000</td>\n",
       "    </tr>\n",
       "    <tr>\n",
       "      <th>317</th>\n",
       "      <td>6.000000</td>\n",
       "      <td>10.823529</td>\n",
       "      <td>6.000000</td>\n",
       "      <td>1.000000</td>\n",
       "    </tr>\n",
       "    <tr>\n",
       "      <th>299</th>\n",
       "      <td>6.000000</td>\n",
       "      <td>17.600000</td>\n",
       "      <td>3.000000</td>\n",
       "      <td>0.000000</td>\n",
       "    </tr>\n",
       "    <tr>\n",
       "      <th>284</th>\n",
       "      <td>6.000000</td>\n",
       "      <td>13.666667</td>\n",
       "      <td>5.666667</td>\n",
       "      <td>1.000000</td>\n",
       "    </tr>\n",
       "    <tr>\n",
       "      <th>249</th>\n",
       "      <td>6.000000</td>\n",
       "      <td>9.153846</td>\n",
       "      <td>6.000000</td>\n",
       "      <td>1.000000</td>\n",
       "    </tr>\n",
       "  </tbody>\n",
       "</table>\n",
       "<p>486 rows × 4 columns</p>\n",
       "</div>"
      ],
      "text/plain": [
       "        Estado_Actual       hora  diadelasemana  findesemana\n",
       "idTram                                                      \n",
       "424          1.055870  14.419308       2.867674     0.244948\n",
       "95           1.075620  14.282413       2.885453     0.251238\n",
       "422          1.081405  14.177700       2.795324     0.217027\n",
       "198          1.088439  14.481462       2.909886     0.258427\n",
       "339          1.104454  14.262960       2.888274     0.251685\n",
       "...               ...        ...            ...          ...\n",
       "335          6.000000   9.250000       6.000000     1.000000\n",
       "317          6.000000  10.823529       6.000000     1.000000\n",
       "299          6.000000  17.600000       3.000000     0.000000\n",
       "284          6.000000  13.666667       5.666667     1.000000\n",
       "249          6.000000   9.153846       6.000000     1.000000\n",
       "\n",
       "[486 rows x 4 columns]"
      ]
     },
     "execution_count": 81,
     "metadata": {},
     "output_type": "execute_result"
    }
   ],
   "source": [
    "dfTrafBarcelona18_19_20_sinmadrugadas.groupby('idTram').mean().sort_values(by='Estado_Actual')"
   ]
  },
  {
   "cell_type": "markdown",
   "metadata": {},
   "source": [
    "Volvemos a agrupar todos los datos por día calculando las medias por día"
   ]
  },
  {
   "cell_type": "code",
   "execution_count": 82,
   "metadata": {},
   "outputs": [
    {
     "ename": "ValueError",
     "evalue": "Cannot convert non-finite values (NA or inf) to integer",
     "output_type": "error",
     "traceback": [
      "\u001b[1;31m---------------------------------------------------------------------------\u001b[0m",
      "\u001b[1;31mValueError\u001b[0m                                Traceback (most recent call last)",
      "\u001b[1;32m<ipython-input-82-1c23f78ed47f>\u001b[0m in \u001b[0;36m<module>\u001b[1;34m\u001b[0m\n\u001b[0;32m      1\u001b[0m \u001b[0mdfTrafBarcelona18_19_20_pordias_sinmadrugadas\u001b[0m \u001b[1;33m=\u001b[0m \u001b[0mdfTrafBarcelona18_19_20_sinmadrugadas\u001b[0m\u001b[1;33m.\u001b[0m\u001b[0mresample\u001b[0m\u001b[1;33m(\u001b[0m\u001b[1;34m'D'\u001b[0m\u001b[1;33m)\u001b[0m\u001b[1;33m.\u001b[0m\u001b[0mmean\u001b[0m\u001b[1;33m(\u001b[0m\u001b[1;33m)\u001b[0m\u001b[1;33m\u001b[0m\u001b[1;33m\u001b[0m\u001b[0m\n\u001b[0;32m      2\u001b[0m \u001b[0mdfTrafBarcelona18_19_20_pordias_sinmadrugadas\u001b[0m \u001b[1;33m=\u001b[0m \u001b[0mdfTrafBarcelona18_19_20_pordias_sinmadrugadas\u001b[0m\u001b[1;33m.\u001b[0m\u001b[0mdrop\u001b[0m\u001b[1;33m(\u001b[0m\u001b[0mcolumns\u001b[0m\u001b[1;33m=\u001b[0m\u001b[1;33m[\u001b[0m\u001b[1;34m'hora'\u001b[0m\u001b[1;33m,\u001b[0m\u001b[1;34m'idTram'\u001b[0m\u001b[1;33m]\u001b[0m\u001b[1;33m)\u001b[0m\u001b[1;33m\u001b[0m\u001b[1;33m\u001b[0m\u001b[0m\n\u001b[1;32m----> 3\u001b[1;33m \u001b[0mdfTrafBarcelona18_19_20_pordias_sinmadrugadas\u001b[0m\u001b[1;33m[\u001b[0m\u001b[1;34m'diadelasemana'\u001b[0m\u001b[1;33m]\u001b[0m\u001b[1;33m=\u001b[0m\u001b[0mdfTrafBarcelona18_19_20_pordias_sinmadrugadas\u001b[0m\u001b[1;33m[\u001b[0m\u001b[1;34m'diadelasemana'\u001b[0m\u001b[1;33m]\u001b[0m\u001b[1;33m.\u001b[0m\u001b[0mastype\u001b[0m\u001b[1;33m(\u001b[0m\u001b[0mint\u001b[0m\u001b[1;33m)\u001b[0m\u001b[1;33m\u001b[0m\u001b[1;33m\u001b[0m\u001b[0m\n\u001b[0m\u001b[0;32m      4\u001b[0m \u001b[0mprint\u001b[0m\u001b[1;33m(\u001b[0m\u001b[0mdfTrafBarcelona18_19_20_pordias_sinmadrugadas\u001b[0m\u001b[1;33m)\u001b[0m\u001b[1;33m\u001b[0m\u001b[1;33m\u001b[0m\u001b[0m\n",
      "\u001b[1;32m~\\anaconda3\\envs\\BIGDATA\\lib\\site-packages\\pandas\\core\\generic.py\u001b[0m in \u001b[0;36mastype\u001b[1;34m(self, dtype, copy, errors)\u001b[0m\n\u001b[0;32m   5544\u001b[0m         \u001b[1;32melse\u001b[0m\u001b[1;33m:\u001b[0m\u001b[1;33m\u001b[0m\u001b[1;33m\u001b[0m\u001b[0m\n\u001b[0;32m   5545\u001b[0m             \u001b[1;31m# else, only a single dtype is given\u001b[0m\u001b[1;33m\u001b[0m\u001b[1;33m\u001b[0m\u001b[1;33m\u001b[0m\u001b[0m\n\u001b[1;32m-> 5546\u001b[1;33m             \u001b[0mnew_data\u001b[0m \u001b[1;33m=\u001b[0m \u001b[0mself\u001b[0m\u001b[1;33m.\u001b[0m\u001b[0m_mgr\u001b[0m\u001b[1;33m.\u001b[0m\u001b[0mastype\u001b[0m\u001b[1;33m(\u001b[0m\u001b[0mdtype\u001b[0m\u001b[1;33m=\u001b[0m\u001b[0mdtype\u001b[0m\u001b[1;33m,\u001b[0m \u001b[0mcopy\u001b[0m\u001b[1;33m=\u001b[0m\u001b[0mcopy\u001b[0m\u001b[1;33m,\u001b[0m \u001b[0merrors\u001b[0m\u001b[1;33m=\u001b[0m\u001b[0merrors\u001b[0m\u001b[1;33m,\u001b[0m\u001b[1;33m)\u001b[0m\u001b[1;33m\u001b[0m\u001b[1;33m\u001b[0m\u001b[0m\n\u001b[0m\u001b[0;32m   5547\u001b[0m             \u001b[1;32mreturn\u001b[0m \u001b[0mself\u001b[0m\u001b[1;33m.\u001b[0m\u001b[0m_constructor\u001b[0m\u001b[1;33m(\u001b[0m\u001b[0mnew_data\u001b[0m\u001b[1;33m)\u001b[0m\u001b[1;33m.\u001b[0m\u001b[0m__finalize__\u001b[0m\u001b[1;33m(\u001b[0m\u001b[0mself\u001b[0m\u001b[1;33m,\u001b[0m \u001b[0mmethod\u001b[0m\u001b[1;33m=\u001b[0m\u001b[1;34m\"astype\"\u001b[0m\u001b[1;33m)\u001b[0m\u001b[1;33m\u001b[0m\u001b[1;33m\u001b[0m\u001b[0m\n\u001b[0;32m   5548\u001b[0m \u001b[1;33m\u001b[0m\u001b[0m\n",
      "\u001b[1;32m~\\anaconda3\\envs\\BIGDATA\\lib\\site-packages\\pandas\\core\\internals\\managers.py\u001b[0m in \u001b[0;36mastype\u001b[1;34m(self, dtype, copy, errors)\u001b[0m\n\u001b[0;32m    593\u001b[0m         \u001b[0mself\u001b[0m\u001b[1;33m,\u001b[0m \u001b[0mdtype\u001b[0m\u001b[1;33m,\u001b[0m \u001b[0mcopy\u001b[0m\u001b[1;33m:\u001b[0m \u001b[0mbool\u001b[0m \u001b[1;33m=\u001b[0m \u001b[1;32mFalse\u001b[0m\u001b[1;33m,\u001b[0m \u001b[0merrors\u001b[0m\u001b[1;33m:\u001b[0m \u001b[0mstr\u001b[0m \u001b[1;33m=\u001b[0m \u001b[1;34m\"raise\"\u001b[0m\u001b[1;33m\u001b[0m\u001b[1;33m\u001b[0m\u001b[0m\n\u001b[0;32m    594\u001b[0m     ) -> \"BlockManager\":\n\u001b[1;32m--> 595\u001b[1;33m         \u001b[1;32mreturn\u001b[0m \u001b[0mself\u001b[0m\u001b[1;33m.\u001b[0m\u001b[0mapply\u001b[0m\u001b[1;33m(\u001b[0m\u001b[1;34m\"astype\"\u001b[0m\u001b[1;33m,\u001b[0m \u001b[0mdtype\u001b[0m\u001b[1;33m=\u001b[0m\u001b[0mdtype\u001b[0m\u001b[1;33m,\u001b[0m \u001b[0mcopy\u001b[0m\u001b[1;33m=\u001b[0m\u001b[0mcopy\u001b[0m\u001b[1;33m,\u001b[0m \u001b[0merrors\u001b[0m\u001b[1;33m=\u001b[0m\u001b[0merrors\u001b[0m\u001b[1;33m)\u001b[0m\u001b[1;33m\u001b[0m\u001b[1;33m\u001b[0m\u001b[0m\n\u001b[0m\u001b[0;32m    596\u001b[0m \u001b[1;33m\u001b[0m\u001b[0m\n\u001b[0;32m    597\u001b[0m     def convert(\n",
      "\u001b[1;32m~\\anaconda3\\envs\\BIGDATA\\lib\\site-packages\\pandas\\core\\internals\\managers.py\u001b[0m in \u001b[0;36mapply\u001b[1;34m(self, f, align_keys, **kwargs)\u001b[0m\n\u001b[0;32m    404\u001b[0m                 \u001b[0mapplied\u001b[0m \u001b[1;33m=\u001b[0m \u001b[0mb\u001b[0m\u001b[1;33m.\u001b[0m\u001b[0mapply\u001b[0m\u001b[1;33m(\u001b[0m\u001b[0mf\u001b[0m\u001b[1;33m,\u001b[0m \u001b[1;33m**\u001b[0m\u001b[0mkwargs\u001b[0m\u001b[1;33m)\u001b[0m\u001b[1;33m\u001b[0m\u001b[1;33m\u001b[0m\u001b[0m\n\u001b[0;32m    405\u001b[0m             \u001b[1;32melse\u001b[0m\u001b[1;33m:\u001b[0m\u001b[1;33m\u001b[0m\u001b[1;33m\u001b[0m\u001b[0m\n\u001b[1;32m--> 406\u001b[1;33m                 \u001b[0mapplied\u001b[0m \u001b[1;33m=\u001b[0m \u001b[0mgetattr\u001b[0m\u001b[1;33m(\u001b[0m\u001b[0mb\u001b[0m\u001b[1;33m,\u001b[0m \u001b[0mf\u001b[0m\u001b[1;33m)\u001b[0m\u001b[1;33m(\u001b[0m\u001b[1;33m**\u001b[0m\u001b[0mkwargs\u001b[0m\u001b[1;33m)\u001b[0m\u001b[1;33m\u001b[0m\u001b[1;33m\u001b[0m\u001b[0m\n\u001b[0m\u001b[0;32m    407\u001b[0m             \u001b[0mresult_blocks\u001b[0m \u001b[1;33m=\u001b[0m \u001b[0m_extend_blocks\u001b[0m\u001b[1;33m(\u001b[0m\u001b[0mapplied\u001b[0m\u001b[1;33m,\u001b[0m \u001b[0mresult_blocks\u001b[0m\u001b[1;33m)\u001b[0m\u001b[1;33m\u001b[0m\u001b[1;33m\u001b[0m\u001b[0m\n\u001b[0;32m    408\u001b[0m \u001b[1;33m\u001b[0m\u001b[0m\n",
      "\u001b[1;32m~\\anaconda3\\envs\\BIGDATA\\lib\\site-packages\\pandas\\core\\internals\\blocks.py\u001b[0m in \u001b[0;36mastype\u001b[1;34m(self, dtype, copy, errors)\u001b[0m\n\u001b[0;32m    593\u001b[0m             \u001b[0mvals1d\u001b[0m \u001b[1;33m=\u001b[0m \u001b[0mvalues\u001b[0m\u001b[1;33m.\u001b[0m\u001b[0mravel\u001b[0m\u001b[1;33m(\u001b[0m\u001b[1;33m)\u001b[0m\u001b[1;33m\u001b[0m\u001b[1;33m\u001b[0m\u001b[0m\n\u001b[0;32m    594\u001b[0m             \u001b[1;32mtry\u001b[0m\u001b[1;33m:\u001b[0m\u001b[1;33m\u001b[0m\u001b[1;33m\u001b[0m\u001b[0m\n\u001b[1;32m--> 595\u001b[1;33m                 \u001b[0mvalues\u001b[0m \u001b[1;33m=\u001b[0m \u001b[0mastype_nansafe\u001b[0m\u001b[1;33m(\u001b[0m\u001b[0mvals1d\u001b[0m\u001b[1;33m,\u001b[0m \u001b[0mdtype\u001b[0m\u001b[1;33m,\u001b[0m \u001b[0mcopy\u001b[0m\u001b[1;33m=\u001b[0m\u001b[1;32mTrue\u001b[0m\u001b[1;33m)\u001b[0m\u001b[1;33m\u001b[0m\u001b[1;33m\u001b[0m\u001b[0m\n\u001b[0m\u001b[0;32m    596\u001b[0m             \u001b[1;32mexcept\u001b[0m \u001b[1;33m(\u001b[0m\u001b[0mValueError\u001b[0m\u001b[1;33m,\u001b[0m \u001b[0mTypeError\u001b[0m\u001b[1;33m)\u001b[0m\u001b[1;33m:\u001b[0m\u001b[1;33m\u001b[0m\u001b[1;33m\u001b[0m\u001b[0m\n\u001b[0;32m    597\u001b[0m                 \u001b[1;31m# e.g. astype_nansafe can fail on object-dtype of strings\u001b[0m\u001b[1;33m\u001b[0m\u001b[1;33m\u001b[0m\u001b[1;33m\u001b[0m\u001b[0m\n",
      "\u001b[1;32m~\\anaconda3\\envs\\BIGDATA\\lib\\site-packages\\pandas\\core\\dtypes\\cast.py\u001b[0m in \u001b[0;36mastype_nansafe\u001b[1;34m(arr, dtype, copy, skipna)\u001b[0m\n\u001b[0;32m    964\u001b[0m \u001b[1;33m\u001b[0m\u001b[0m\n\u001b[0;32m    965\u001b[0m         \u001b[1;32mif\u001b[0m \u001b[1;32mnot\u001b[0m \u001b[0mnp\u001b[0m\u001b[1;33m.\u001b[0m\u001b[0misfinite\u001b[0m\u001b[1;33m(\u001b[0m\u001b[0marr\u001b[0m\u001b[1;33m)\u001b[0m\u001b[1;33m.\u001b[0m\u001b[0mall\u001b[0m\u001b[1;33m(\u001b[0m\u001b[1;33m)\u001b[0m\u001b[1;33m:\u001b[0m\u001b[1;33m\u001b[0m\u001b[1;33m\u001b[0m\u001b[0m\n\u001b[1;32m--> 966\u001b[1;33m             \u001b[1;32mraise\u001b[0m \u001b[0mValueError\u001b[0m\u001b[1;33m(\u001b[0m\u001b[1;34m\"Cannot convert non-finite values (NA or inf) to integer\"\u001b[0m\u001b[1;33m)\u001b[0m\u001b[1;33m\u001b[0m\u001b[1;33m\u001b[0m\u001b[0m\n\u001b[0m\u001b[0;32m    967\u001b[0m \u001b[1;33m\u001b[0m\u001b[0m\n\u001b[0;32m    968\u001b[0m     \u001b[1;32melif\u001b[0m \u001b[0mis_object_dtype\u001b[0m\u001b[1;33m(\u001b[0m\u001b[0marr\u001b[0m\u001b[1;33m)\u001b[0m\u001b[1;33m:\u001b[0m\u001b[1;33m\u001b[0m\u001b[1;33m\u001b[0m\u001b[0m\n",
      "\u001b[1;31mValueError\u001b[0m: Cannot convert non-finite values (NA or inf) to integer"
     ]
    }
   ],
   "source": [
    "dfTrafBarcelona18_19_20_pordias_sinmadrugadas = dfTrafBarcelona18_19_20_sinmadrugadas.resample('D').mean()\n",
    "dfTrafBarcelona18_19_20_pordias_sinmadrugadas = dfTrafBarcelona18_19_20_pordias_sinmadrugadas.drop(columns=['hora','idTram'])\n",
    "dfTrafBarcelona18_19_20_pordias_sinmadrugadas['diadelasemana']=dfTrafBarcelona18_19_20_pordias_sinmadrugadas['diadelasemana'].astype(int)\n",
    "print(dfTrafBarcelona18_19_20_pordias_sinmadrugadas)"
   ]
  },
  {
   "cell_type": "code",
   "execution_count": null,
   "metadata": {},
   "outputs": [],
   "source": [
    "#Comprobamos si ha quedado algún día sin dato (la función resample('D') lo habrá registrado con un NaN )\n",
    "\n",
    "dfTrafBarcelona18_19_20_pordias_sinmadrugadas.isnull().sum()"
   ]
  },
  {
   "cell_type": "markdown",
   "metadata": {},
   "source": [
    "De nuevo no ha quedado ningún día sin dato medio"
   ]
  },
  {
   "cell_type": "code",
   "execution_count": null,
   "metadata": {},
   "outputs": [],
   "source": [
    "dfTrafBarcelona18_19_20_pordias_sinmadrugadas.describe()"
   ]
  },
  {
   "cell_type": "markdown",
   "metadata": {},
   "source": [
    "Vemos que no hemos conseguido una gran mejora. Los valores del Estado Actual están ahora en el rango de entre 1.446 y 2.333\n",
    "\n",
    "Lo pasamos igualmente a un CSV."
   ]
  },
  {
   "cell_type": "code",
   "execution_count": null,
   "metadata": {},
   "outputs": [],
   "source": [
    "dfTrafBarcelona18_19_20_pordias_sinmadrugadas.to_csv('DatosEstadoTraficoBarcelona_SinMadrugadas_18_19_20.csv')"
   ]
  }
 ],
 "metadata": {
  "kernelspec": {
   "display_name": "Python 3",
   "language": "python",
   "name": "python3"
  },
  "language_info": {
   "codemirror_mode": {
    "name": "ipython",
    "version": 3
   },
   "file_extension": ".py",
   "mimetype": "text/x-python",
   "name": "python",
   "nbconvert_exporter": "python",
   "pygments_lexer": "ipython3",
   "version": "3.8.5"
  }
 },
 "nbformat": 4,
 "nbformat_minor": 4
}
