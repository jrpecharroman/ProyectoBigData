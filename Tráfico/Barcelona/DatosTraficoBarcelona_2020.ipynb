{
 "cells": [
  {
   "cell_type": "markdown",
   "metadata": {},
   "source": [
    "# Datos de Tráfico en Barcelona\n",
    "## -Descargaremos los datos disponibles para el 2020¶\n",
    "## -Descartaremos los datos no relevantes para medir la intensidad de trafico de las calles de la ciudad de Barcelona.\n",
    "## -Analizamos el estado del tráfico por horas, por franjas del día, por fines de semana\n",
    "## -Agruparemos los datos a medias por dia\n",
    "## -Sacaremos un csv resultado a mergear con las otras ramas (meteo y calidad del aire)"
   ]
  },
  {
   "cell_type": "code",
   "execution_count": 1,
   "metadata": {},
   "outputs": [
    {
     "name": "stdout",
     "output_type": "stream",
     "text": [
      "Index(['idTram', 'data', 'estatActual', 'estatPrevist'], dtype='object')\n",
      "         idTram            data  estatActual  estatPrevist\n",
      "0             1  20200101000051            0             0\n",
      "1             2  20200101000051            0             0\n",
      "2             3  20200101000051            0             0\n",
      "3             4  20200101000051            0             0\n",
      "4             5  20200101000051            0             0\n",
      "...         ...             ...          ...           ...\n",
      "4654459     530  20201231235552            1             0\n",
      "4654460     531  20201231235552            1             0\n",
      "4654461     532  20201231235552            0             0\n",
      "4654462     533  20201231235552            1             0\n",
      "4654463     534  20201231235552            1             0\n",
      "\n",
      "[54772691 rows x 4 columns]\n"
     ]
    }
   ],
   "source": [
    "import numpy as np\n",
    "import pandas as pd\n",
    "#Visualización\n",
    "from pandas.plotting import scatter_matrix\n",
    "import matplotlib.pyplot as plt\n",
    "import seaborn as sns\n",
    "\n",
    "#Obtenemos las URLs de los 12 ficheros mensuales de datos\n",
    "\n",
    "url_fichero_ene20 = 'https://opendata-ajuntament.barcelona.cat/data/dataset/8319c2b1-4c21-4962-9acd-6db4c5ff1148/resource/79900963-aa0c-4894-8ad1-512556d02f86/download'\n",
    "url_fichero_feb20 = 'https://opendata-ajuntament.barcelona.cat/data/dataset/8319c2b1-4c21-4962-9acd-6db4c5ff1148/resource/ca5ad178-39eb-4244-a162-9f025900f00f/download'\n",
    "url_fichero_mar20 = 'https://opendata-ajuntament.barcelona.cat/data/dataset/8319c2b1-4c21-4962-9acd-6db4c5ff1148/resource/8d9c2810-36cd-4334-ad8d-6c502af5982e/download'\n",
    "url_fichero_abr20 = 'https://opendata-ajuntament.barcelona.cat/data/dataset/8319c2b1-4c21-4962-9acd-6db4c5ff1148/resource/4eb2aef0-b8b3-4c13-89f6-2b1bea5ba77e/download'\n",
    "url_fichero_may20 = 'https://opendata-ajuntament.barcelona.cat/data/dataset/8319c2b1-4c21-4962-9acd-6db4c5ff1148/resource/e6a8061a-a963-422a-bc4e-14c9eddd38e9/download'\n",
    "url_fichero_jun20 = 'https://opendata-ajuntament.barcelona.cat/data/dataset/8319c2b1-4c21-4962-9acd-6db4c5ff1148/resource/b2f98828-cc16-4ccd-958f-09b368c32628/download'\n",
    "url_fichero_jul20 = 'https://opendata-ajuntament.barcelona.cat/data/dataset/8319c2b1-4c21-4962-9acd-6db4c5ff1148/resource/b6b699cb-e2c5-48de-a6ce-e776417f046d/download'\n",
    "url_fichero_ago20 = 'https://opendata-ajuntament.barcelona.cat/data/dataset/8319c2b1-4c21-4962-9acd-6db4c5ff1148/resource/3322309a-9efd-44c7-a8b1-7f8d1bb6cda6/download'\n",
    "url_fichero_sep20 = 'https://opendata-ajuntament.barcelona.cat/data/dataset/8319c2b1-4c21-4962-9acd-6db4c5ff1148/resource/a78fde10-a479-48ce-b5ef-7db489a3e8fd/download'\n",
    "url_fichero_oct20 = 'https://opendata-ajuntament.barcelona.cat/data/dataset/8319c2b1-4c21-4962-9acd-6db4c5ff1148/resource/47fafc9b-615e-4597-b5a4-2128626a29bb/download'\n",
    "url_fichero_nov20 = 'https://opendata-ajuntament.barcelona.cat/data/dataset/8319c2b1-4c21-4962-9acd-6db4c5ff1148/resource/d39a2570-de88-495a-b69a-14f712e57e33/download'\n",
    "url_fichero_dic20 = 'https://opendata-ajuntament.barcelona.cat/data/dataset/8319c2b1-4c21-4962-9acd-6db4c5ff1148/resource/58ce6905-86e9-45bf-8787-9cd43658cdc7/download'\n",
    "\n",
    "#Generamos 12 dataframes, uno por cada mes\n",
    "\n",
    "dfTrafEne20 = pd.read_csv(url_fichero_ene20)\n",
    "dfTrafFeb20 = pd.read_csv(url_fichero_feb20)\n",
    "dfTrafMar20 = pd.read_csv(url_fichero_mar20)\n",
    "dfTrafAbr20 = pd.read_csv(url_fichero_abr20)\n",
    "dfTrafMay20 = pd.read_csv(url_fichero_may20)\n",
    "dfTrafJun20 = pd.read_csv(url_fichero_jun20)\n",
    "dfTrafJul20 = pd.read_csv(url_fichero_jul20)\n",
    "dfTrafAgo20 = pd.read_csv(url_fichero_ago20)\n",
    "dfTrafSep20 = pd.read_csv(url_fichero_sep20)\n",
    "dfTrafOct20 = pd.read_csv(url_fichero_oct20)\n",
    "dfTrafNov20 = pd.read_csv(url_fichero_nov20)\n",
    "dfTrafDic20 = pd.read_csv(url_fichero_dic20)\n",
    "\n",
    "\n",
    "#Concatenamos los 12 ficheros\n",
    "\n",
    "dfTrafBarcelona20 = pd.concat([dfTrafEne20,dfTrafFeb20,dfTrafMar20,dfTrafAbr20,dfTrafMay20,dfTrafJun20,dfTrafJul20,dfTrafAgo20,dfTrafSep20,dfTrafOct20,dfTrafNov20,dfTrafDic20])\n",
    "\n",
    "print(dfTrafBarcelona20.columns)\n",
    "print(dfTrafBarcelona20)"
   ]
  },
  {
   "cell_type": "markdown",
   "metadata": {},
   "source": [
    "El dataframe completo contiene unos 54,8 Mill de registros"
   ]
  },
  {
   "cell_type": "code",
   "execution_count": 2,
   "metadata": {},
   "outputs": [
    {
     "name": "stdout",
     "output_type": "stream",
     "text": [
      "dfTrafEne20:  (4639708, 4)\n",
      "dfTrafFeb20:  (4358817, 4)\n",
      "dfTrafMar20:  (4676071, 4)\n",
      "dfTrafAbr20:  (4545902, 4)\n",
      "dfTrafMay20:  (4501107, 4)\n",
      "dfTrafJun20:  (4526403, 4)\n",
      "dfTrafJul20:  (4524295, 4)\n",
      "dfTrafAgo20:  (4691354, 4)\n",
      "dfTrafSep20:  (4467379, 4)\n",
      "dfTrafOct20:  (4678706, 4)\n",
      "dfTrafNov20:  (4508485, 4)\n",
      "dfTrafDic20:  (4654464, 4)\n"
     ]
    }
   ],
   "source": [
    "#Obtenemos el nº de registros que contiene cada dataframe mensual\n",
    "\n",
    "print('dfTrafEne20: ',dfTrafEne20.shape)\n",
    "print('dfTrafFeb20: ',dfTrafFeb20.shape)\n",
    "print('dfTrafMar20: ',dfTrafMar20.shape)\n",
    "print('dfTrafAbr20: ',dfTrafAbr20.shape)\n",
    "print('dfTrafMay20: ',dfTrafMay20.shape)\n",
    "print('dfTrafJun20: ',dfTrafJun20.shape)\n",
    "print('dfTrafJul20: ',dfTrafJul20.shape)\n",
    "print('dfTrafAgo20: ',dfTrafAgo20.shape)\n",
    "print('dfTrafSep20: ',dfTrafSep20.shape)\n",
    "print('dfTrafOct20: ',dfTrafOct20.shape)\n",
    "print('dfTrafNov20: ',dfTrafNov20.shape)\n",
    "print('dfTrafDic20: ',dfTrafDic20.shape)"
   ]
  },
  {
   "cell_type": "code",
   "execution_count": 3,
   "metadata": {},
   "outputs": [
    {
     "data": {
      "text/html": [
       "<div>\n",
       "<style scoped>\n",
       "    .dataframe tbody tr th:only-of-type {\n",
       "        vertical-align: middle;\n",
       "    }\n",
       "\n",
       "    .dataframe tbody tr th {\n",
       "        vertical-align: top;\n",
       "    }\n",
       "\n",
       "    .dataframe thead th {\n",
       "        text-align: right;\n",
       "    }\n",
       "</style>\n",
       "<table border=\"1\" class=\"dataframe\">\n",
       "  <thead>\n",
       "    <tr style=\"text-align: right;\">\n",
       "      <th></th>\n",
       "      <th>idTram</th>\n",
       "      <th>data</th>\n",
       "      <th>estatActual</th>\n",
       "      <th>estatPrevist</th>\n",
       "    </tr>\n",
       "  </thead>\n",
       "  <tbody>\n",
       "    <tr>\n",
       "      <th>0</th>\n",
       "      <td>1</td>\n",
       "      <td>20180101000554</td>\n",
       "      <td>0</td>\n",
       "      <td>0</td>\n",
       "    </tr>\n",
       "    <tr>\n",
       "      <th>1</th>\n",
       "      <td>2</td>\n",
       "      <td>20180101000554</td>\n",
       "      <td>0</td>\n",
       "      <td>0</td>\n",
       "    </tr>\n",
       "    <tr>\n",
       "      <th>2</th>\n",
       "      <td>3</td>\n",
       "      <td>20180101000554</td>\n",
       "      <td>0</td>\n",
       "      <td>0</td>\n",
       "    </tr>\n",
       "    <tr>\n",
       "      <th>3</th>\n",
       "      <td>4</td>\n",
       "      <td>20180101000554</td>\n",
       "      <td>0</td>\n",
       "      <td>0</td>\n",
       "    </tr>\n",
       "    <tr>\n",
       "      <th>4</th>\n",
       "      <td>5</td>\n",
       "      <td>20180101000554</td>\n",
       "      <td>0</td>\n",
       "      <td>0</td>\n",
       "    </tr>\n",
       "    <tr>\n",
       "      <th>...</th>\n",
       "      <td>...</td>\n",
       "      <td>...</td>\n",
       "      <td>...</td>\n",
       "      <td>...</td>\n",
       "    </tr>\n",
       "    <tr>\n",
       "      <th>990842</th>\n",
       "      <td>602</td>\n",
       "      <td>20181231234051</td>\n",
       "      <td>0</td>\n",
       "      <td>0</td>\n",
       "    </tr>\n",
       "    <tr>\n",
       "      <th>990843</th>\n",
       "      <td>604</td>\n",
       "      <td>20181231234051</td>\n",
       "      <td>0</td>\n",
       "      <td>0</td>\n",
       "    </tr>\n",
       "    <tr>\n",
       "      <th>990844</th>\n",
       "      <td>2001</td>\n",
       "      <td>20181231234051</td>\n",
       "      <td>0</td>\n",
       "      <td>0</td>\n",
       "    </tr>\n",
       "    <tr>\n",
       "      <th>990845</th>\n",
       "      <td>2002</td>\n",
       "      <td>20181231234051</td>\n",
       "      <td>0</td>\n",
       "      <td>0</td>\n",
       "    </tr>\n",
       "    <tr>\n",
       "      <th>990846</th>\n",
       "      <td>2003</td>\n",
       "      <td>20181231234051</td>\n",
       "      <td>0</td>\n",
       "      <td>0</td>\n",
       "    </tr>\n",
       "  </tbody>\n",
       "</table>\n",
       "<p>10493427 rows × 4 columns</p>\n",
       "</div>"
      ],
      "text/plain": [
       "        idTram            data  estatActual  estatPrevist\n",
       "0            1  20180101000554            0             0\n",
       "1            2  20180101000554            0             0\n",
       "2            3  20180101000554            0             0\n",
       "3            4  20180101000554            0             0\n",
       "4            5  20180101000554            0             0\n",
       "...        ...             ...          ...           ...\n",
       "990842     602  20181231234051            0             0\n",
       "990843     604  20181231234051            0             0\n",
       "990844    2001  20181231234051            0             0\n",
       "990845    2002  20181231234051            0             0\n",
       "990846    2003  20181231234051            0             0\n",
       "\n",
       "[10493427 rows x 4 columns]"
      ]
     },
     "execution_count": 3,
     "metadata": {},
     "output_type": "execute_result"
    }
   ],
   "source": [
    "#Observamos el dataframe del año 2018 y vemos que contiene 10 Mill y medio de registros \n",
    "dfTrafBarcelona18"
   ]
  },
  {
   "cell_type": "code",
   "execution_count": 4,
   "metadata": {},
   "outputs": [
    {
     "data": {
      "text/html": [
       "<div>\n",
       "<style scoped>\n",
       "    .dataframe tbody tr th:only-of-type {\n",
       "        vertical-align: middle;\n",
       "    }\n",
       "\n",
       "    .dataframe tbody tr th {\n",
       "        vertical-align: top;\n",
       "    }\n",
       "\n",
       "    .dataframe thead th {\n",
       "        text-align: right;\n",
       "    }\n",
       "</style>\n",
       "<table border=\"1\" class=\"dataframe\">\n",
       "  <thead>\n",
       "    <tr style=\"text-align: right;\">\n",
       "      <th></th>\n",
       "      <th>idTram</th>\n",
       "      <th>data</th>\n",
       "      <th>estatActual</th>\n",
       "      <th>estatPrevist</th>\n",
       "    </tr>\n",
       "  </thead>\n",
       "  <tbody>\n",
       "    <tr>\n",
       "      <th>0</th>\n",
       "      <td>1</td>\n",
       "      <td>20190101000551</td>\n",
       "      <td>0</td>\n",
       "      <td>0</td>\n",
       "    </tr>\n",
       "    <tr>\n",
       "      <th>1</th>\n",
       "      <td>2</td>\n",
       "      <td>20190101000551</td>\n",
       "      <td>0</td>\n",
       "      <td>0</td>\n",
       "    </tr>\n",
       "    <tr>\n",
       "      <th>2</th>\n",
       "      <td>3</td>\n",
       "      <td>20190101000551</td>\n",
       "      <td>0</td>\n",
       "      <td>0</td>\n",
       "    </tr>\n",
       "    <tr>\n",
       "      <th>3</th>\n",
       "      <td>4</td>\n",
       "      <td>20190101000551</td>\n",
       "      <td>0</td>\n",
       "      <td>0</td>\n",
       "    </tr>\n",
       "    <tr>\n",
       "      <th>4</th>\n",
       "      <td>5</td>\n",
       "      <td>20190101000551</td>\n",
       "      <td>0</td>\n",
       "      <td>0</td>\n",
       "    </tr>\n",
       "    <tr>\n",
       "      <th>...</th>\n",
       "      <td>...</td>\n",
       "      <td>...</td>\n",
       "      <td>...</td>\n",
       "      <td>...</td>\n",
       "    </tr>\n",
       "    <tr>\n",
       "      <th>4638122</th>\n",
       "      <td>530</td>\n",
       "      <td>20191231235553</td>\n",
       "      <td>1</td>\n",
       "      <td>0</td>\n",
       "    </tr>\n",
       "    <tr>\n",
       "      <th>4638123</th>\n",
       "      <td>531</td>\n",
       "      <td>20191231235553</td>\n",
       "      <td>1</td>\n",
       "      <td>0</td>\n",
       "    </tr>\n",
       "    <tr>\n",
       "      <th>4638124</th>\n",
       "      <td>532</td>\n",
       "      <td>20191231235553</td>\n",
       "      <td>1</td>\n",
       "      <td>0</td>\n",
       "    </tr>\n",
       "    <tr>\n",
       "      <th>4638125</th>\n",
       "      <td>533</td>\n",
       "      <td>20191231235553</td>\n",
       "      <td>1</td>\n",
       "      <td>5</td>\n",
       "    </tr>\n",
       "    <tr>\n",
       "      <th>4638126</th>\n",
       "      <td>534</td>\n",
       "      <td>20191231235553</td>\n",
       "      <td>1</td>\n",
       "      <td>0</td>\n",
       "    </tr>\n",
       "  </tbody>\n",
       "</table>\n",
       "<p>44665787 rows × 4 columns</p>\n",
       "</div>"
      ],
      "text/plain": [
       "         idTram            data  estatActual  estatPrevist\n",
       "0             1  20190101000551            0             0\n",
       "1             2  20190101000551            0             0\n",
       "2             3  20190101000551            0             0\n",
       "3             4  20190101000551            0             0\n",
       "4             5  20190101000551            0             0\n",
       "...         ...             ...          ...           ...\n",
       "4638122     530  20191231235553            1             0\n",
       "4638123     531  20191231235553            1             0\n",
       "4638124     532  20191231235553            1             0\n",
       "4638125     533  20191231235553            1             5\n",
       "4638126     534  20191231235553            1             0\n",
       "\n",
       "[44665787 rows x 4 columns]"
      ]
     },
     "execution_count": 4,
     "metadata": {},
     "output_type": "execute_result"
    }
   ],
   "source": [
    "#Observamos el del año 2019 y vemos que contiene los restantes 44 Mill y medio\n",
    "dfTrafBarcelona19"
   ]
  },
  {
   "cell_type": "code",
   "execution_count": 5,
   "metadata": {},
   "outputs": [
    {
     "data": {
      "text/plain": [
       "idTram          int64\n",
       "data            int64\n",
       "estatActual     int64\n",
       "estatPrevist    int64\n",
       "dtype: object"
      ]
     },
     "execution_count": 5,
     "metadata": {},
     "output_type": "execute_result"
    }
   ],
   "source": [
    "#Miramos los tipos de los campos recogidos\n",
    "dfTrafBarcelona18_19.dtypes"
   ]
  },
  {
   "cell_type": "code",
   "execution_count": 6,
   "metadata": {},
   "outputs": [
    {
     "data": {
      "text/plain": [
       "idTram          0\n",
       "data            0\n",
       "estatActual     0\n",
       "estatPrevist    0\n",
       "dtype: int64"
      ]
     },
     "execution_count": 6,
     "metadata": {},
     "output_type": "execute_result"
    }
   ],
   "source": [
    "#Miramos ahora si los datos traen datos faltantes NaN\n",
    "dfTrafBarcelona18_19.isnull().sum()"
   ]
  },
  {
   "cell_type": "markdown",
   "metadata": {},
   "source": [
    "Observamos que el dataset no trae datos faltantes"
   ]
  },
  {
   "cell_type": "code",
   "execution_count": 7,
   "metadata": {},
   "outputs": [
    {
     "data": {
      "text/html": [
       "<div>\n",
       "<style scoped>\n",
       "    .dataframe tbody tr th:only-of-type {\n",
       "        vertical-align: middle;\n",
       "    }\n",
       "\n",
       "    .dataframe tbody tr th {\n",
       "        vertical-align: top;\n",
       "    }\n",
       "\n",
       "    .dataframe thead th {\n",
       "        text-align: right;\n",
       "    }\n",
       "</style>\n",
       "<table border=\"1\" class=\"dataframe\">\n",
       "  <thead>\n",
       "    <tr style=\"text-align: right;\">\n",
       "      <th></th>\n",
       "      <th>idTram</th>\n",
       "      <th>data</th>\n",
       "      <th>estatActual</th>\n",
       "      <th>estatPrevist</th>\n",
       "    </tr>\n",
       "  </thead>\n",
       "  <tbody>\n",
       "    <tr>\n",
       "      <th>count</th>\n",
       "      <td>5.515921e+07</td>\n",
       "      <td>5.515921e+07</td>\n",
       "      <td>5.515921e+07</td>\n",
       "      <td>5.515921e+07</td>\n",
       "    </tr>\n",
       "    <tr>\n",
       "      <th>mean</th>\n",
       "      <td>2.695084e+02</td>\n",
       "      <td>2.018886e+13</td>\n",
       "      <td>1.000939e+00</td>\n",
       "      <td>9.130845e-01</td>\n",
       "    </tr>\n",
       "    <tr>\n",
       "      <th>std</th>\n",
       "      <td>1.753607e+02</td>\n",
       "      <td>3.967633e+09</td>\n",
       "      <td>1.103935e+00</td>\n",
       "      <td>1.136178e+00</td>\n",
       "    </tr>\n",
       "    <tr>\n",
       "      <th>min</th>\n",
       "      <td>1.000000e+00</td>\n",
       "      <td>2.018010e+13</td>\n",
       "      <td>0.000000e+00</td>\n",
       "      <td>0.000000e+00</td>\n",
       "    </tr>\n",
       "    <tr>\n",
       "      <th>25%</th>\n",
       "      <td>1.330000e+02</td>\n",
       "      <td>2.019040e+13</td>\n",
       "      <td>0.000000e+00</td>\n",
       "      <td>0.000000e+00</td>\n",
       "    </tr>\n",
       "    <tr>\n",
       "      <th>50%</th>\n",
       "      <td>2.650000e+02</td>\n",
       "      <td>2.019070e+13</td>\n",
       "      <td>1.000000e+00</td>\n",
       "      <td>0.000000e+00</td>\n",
       "    </tr>\n",
       "    <tr>\n",
       "      <th>75%</th>\n",
       "      <td>3.980000e+02</td>\n",
       "      <td>2.019100e+13</td>\n",
       "      <td>2.000000e+00</td>\n",
       "      <td>2.000000e+00</td>\n",
       "    </tr>\n",
       "    <tr>\n",
       "      <th>max</th>\n",
       "      <td>2.004000e+03</td>\n",
       "      <td>2.019123e+13</td>\n",
       "      <td>6.000000e+00</td>\n",
       "      <td>6.000000e+00</td>\n",
       "    </tr>\n",
       "  </tbody>\n",
       "</table>\n",
       "</div>"
      ],
      "text/plain": [
       "             idTram          data   estatActual  estatPrevist\n",
       "count  5.515921e+07  5.515921e+07  5.515921e+07  5.515921e+07\n",
       "mean   2.695084e+02  2.018886e+13  1.000939e+00  9.130845e-01\n",
       "std    1.753607e+02  3.967633e+09  1.103935e+00  1.136178e+00\n",
       "min    1.000000e+00  2.018010e+13  0.000000e+00  0.000000e+00\n",
       "25%    1.330000e+02  2.019040e+13  0.000000e+00  0.000000e+00\n",
       "50%    2.650000e+02  2.019070e+13  1.000000e+00  0.000000e+00\n",
       "75%    3.980000e+02  2.019100e+13  2.000000e+00  2.000000e+00\n",
       "max    2.004000e+03  2.019123e+13  6.000000e+00  6.000000e+00"
      ]
     },
     "execution_count": 7,
     "metadata": {},
     "output_type": "execute_result"
    }
   ],
   "source": [
    "dfTrafBarcelona18_19.describe()"
   ]
  },
  {
   "cell_type": "markdown",
   "metadata": {},
   "source": [
    "El campo 'estatActual' (Estado actual) es el campo clave para nuestro análisis. Es el campo que da la medida del estado del tráfico en cada tramo de la ciudad y en cada tiempo. Los estados pueden ser: \n",
    "\n",
    "0 = sin datos / 1 = muy fluido / 2 = fluido / 3 = denso / 4 = muy denso / 5 = congestión / 6 = cortado \n",
    "\n",
    "Por tanto, se trata de una medida cualitativa (clasificada de 1 a 6). \n",
    "\n",
    "El 0 es falta de dato, por lo que necesitamos averiguar cuántos registros contienen 0 en este campo, y habrá que quitarlos."
   ]
  },
  {
   "cell_type": "code",
   "execution_count": 8,
   "metadata": {},
   "outputs": [
    {
     "data": {
      "text/plain": [
       "0    25089970\n",
       "2    15642094\n",
       "1    10679988\n",
       "3     2375305\n",
       "4      841672\n",
       "5      426871\n",
       "6      103314\n",
       "Name: estatActual, dtype: int64"
      ]
     },
     "execution_count": 8,
     "metadata": {},
     "output_type": "execute_result"
    }
   ],
   "source": [
    "dfTrafBarcelona18_19['estatActual'].value_counts()"
   ]
  },
  {
   "cell_type": "code",
   "execution_count": 9,
   "metadata": {},
   "outputs": [
    {
     "data": {
      "image/png": "[encoded data removed]",
      "text/plain": [
       "<Figure size 432x288 with 1 Axes>"
      ]
     },
     "metadata": {
      "needs_background": "light"
     },
     "output_type": "display_data"
    }
   ],
   "source": [
    "dfTrafBarcelona18_19['estatActual'].plot.hist();"
   ]
  },
  {
   "cell_type": "markdown",
   "metadata": {},
   "source": [
    "De los 55 Mill de registros, unos 25 Mill no tienen medida del tráfico (tienen valor 0). \n",
    "Vamos a quitarlos."
   ]
  },
  {
   "cell_type": "code",
   "execution_count": 10,
   "metadata": {},
   "outputs": [
    {
     "name": "stdout",
     "output_type": "stream",
     "text": [
      "            index  idTram            data  estatActual  estatPrevist\n",
      "0               0       1  20180101000554            0             0\n",
      "1               1       2  20180101000554            0             0\n",
      "2               2       3  20180101000554            0             0\n",
      "3               3       4  20180101000554            0             0\n",
      "4               4       5  20180101000554            0             0\n",
      "...           ...     ...             ...          ...           ...\n",
      "55159209  4638122     530  20191231235553            1             0\n",
      "55159210  4638123     531  20191231235553            1             0\n",
      "55159211  4638124     532  20191231235553            1             0\n",
      "55159212  4638125     533  20191231235553            1             5\n",
      "55159213  4638126     534  20191231235553            1             0\n",
      "\n",
      "[55159214 rows x 5 columns]\n"
     ]
    }
   ],
   "source": [
    "#Reseteamos el índice para que sea un número correlativo desde 0 hasta el último nº de fila.\n",
    "dfTrafBarcelona18_19 = dfTrafBarcelona18_19.reset_index()\n",
    "print(dfTrafBarcelona18_19)"
   ]
  },
  {
   "cell_type": "code",
   "execution_count": 11,
   "metadata": {},
   "outputs": [
    {
     "name": "stdout",
     "output_type": "stream",
     "text": [
      "            index  idTram            data  estatActual  estatPrevist\n",
      "7               7       8  20180101000554            2             0\n",
      "36             36      37  20180101000554            1             5\n",
      "82             82      83  20180101000554            1             0\n",
      "96             96      97  20180101000554            1             0\n",
      "98             98      99  20180101000554            4             0\n",
      "...           ...     ...             ...          ...           ...\n",
      "55159209  4638122     530  20191231235553            1             0\n",
      "55159210  4638123     531  20191231235553            1             0\n",
      "55159211  4638124     532  20191231235553            1             0\n",
      "55159212  4638125     533  20191231235553            1             5\n",
      "55159213  4638126     534  20191231235553            1             0\n",
      "\n",
      "[30069244 rows x 5 columns]\n"
     ]
    }
   ],
   "source": [
    "#Eliminamos las filas que tienen 0 en el campo Estado Actual. Nos quedan por tanto unos 30 Mill de registros\n",
    "dfTrafBarcelona18_19 = dfTrafBarcelona18_19.drop(dfTrafBarcelona18_19[dfTrafBarcelona18_19['estatActual']==0].index)\n",
    "print(dfTrafBarcelona18_19)"
   ]
  },
  {
   "cell_type": "code",
   "execution_count": 12,
   "metadata": {},
   "outputs": [
    {
     "data": {
      "image/png": "[encoded data removed]",
      "text/plain": [
       "<Figure size 432x288 with 1 Axes>"
      ]
     },
     "metadata": {
      "needs_background": "light"
     },
     "output_type": "display_data"
    }
   ],
   "source": [
    "#Volvemos a pintar el histograma habiendo quitado los registros sin dato medido\n",
    "dfTrafBarcelona18_19['estatActual'].plot.hist();"
   ]
  },
  {
   "cell_type": "markdown",
   "metadata": {},
   "source": [
    "Eliminamos las columnas que no nos interesan para nuestro análisis: el antiguo index y el estado previsto"
   ]
  },
  {
   "cell_type": "code",
   "execution_count": 13,
   "metadata": {},
   "outputs": [
    {
     "name": "stdout",
     "output_type": "stream",
     "text": [
      "          idTram            data  estatActual\n",
      "7              8  20180101000554            2\n",
      "36            37  20180101000554            1\n",
      "82            83  20180101000554            1\n",
      "96            97  20180101000554            1\n",
      "98            99  20180101000554            4\n",
      "...          ...             ...          ...\n",
      "55159209     530  20191231235553            1\n",
      "55159210     531  20191231235553            1\n",
      "55159211     532  20191231235553            1\n",
      "55159212     533  20191231235553            1\n",
      "55159213     534  20191231235553            1\n",
      "\n",
      "[30069244 rows x 3 columns]\n"
     ]
    }
   ],
   "source": [
    "dfTrafBarcelona18_19 = dfTrafBarcelona18_19.drop(columns=['index','estatPrevist'])\n",
    "print(dfTrafBarcelona18_19)"
   ]
  },
  {
   "cell_type": "markdown",
   "metadata": {},
   "source": [
    "Ahora vamos a convertir el campo 'data' en formato Fecha para convertirlo en Indice"
   ]
  },
  {
   "cell_type": "code",
   "execution_count": 14,
   "metadata": {},
   "outputs": [
    {
     "name": "stdout",
     "output_type": "stream",
     "text": [
      "          idTram                data  estatActual\n",
      "7              8 2018-01-01 00:05:54            2\n",
      "36            37 2018-01-01 00:05:54            1\n",
      "82            83 2018-01-01 00:05:54            1\n",
      "96            97 2018-01-01 00:05:54            1\n",
      "98            99 2018-01-01 00:05:54            4\n",
      "...          ...                 ...          ...\n",
      "55159209     530 2019-12-31 23:55:53            1\n",
      "55159210     531 2019-12-31 23:55:53            1\n",
      "55159211     532 2019-12-31 23:55:53            1\n",
      "55159212     533 2019-12-31 23:55:53            1\n",
      "55159213     534 2019-12-31 23:55:53            1\n",
      "\n",
      "[30069244 rows x 3 columns]\n"
     ]
    }
   ],
   "source": [
    "#Convertimos el campo 'data' en formato fecha\n",
    "dfTrafBarcelona18_19['data'] = pd.to_datetime(dfTrafBarcelona18_19['data'], format='%Y%m%d%H%M%S')\n",
    "print(dfTrafBarcelona18_19)"
   ]
  },
  {
   "cell_type": "code",
   "execution_count": 15,
   "metadata": {},
   "outputs": [
    {
     "name": "stdout",
     "output_type": "stream",
     "text": [
      "          idTram               Fecha  Estado_Actual\n",
      "7              8 2018-01-01 00:05:54              2\n",
      "36            37 2018-01-01 00:05:54              1\n",
      "82            83 2018-01-01 00:05:54              1\n",
      "96            97 2018-01-01 00:05:54              1\n",
      "98            99 2018-01-01 00:05:54              4\n",
      "...          ...                 ...            ...\n",
      "55159209     530 2019-12-31 23:55:53              1\n",
      "55159210     531 2019-12-31 23:55:53              1\n",
      "55159211     532 2019-12-31 23:55:53              1\n",
      "55159212     533 2019-12-31 23:55:53              1\n",
      "55159213     534 2019-12-31 23:55:53              1\n",
      "\n",
      "[30069244 rows x 3 columns]\n"
     ]
    }
   ],
   "source": [
    "#Renombramos los campos\n",
    "dfTrafBarcelona18_19.rename(columns = {'data': 'Fecha', 'estatActual': 'Estado_Actual'}, inplace = True)\n",
    "print(dfTrafBarcelona18_19)"
   ]
  },
  {
   "cell_type": "code",
   "execution_count": 16,
   "metadata": {},
   "outputs": [
    {
     "name": "stdout",
     "output_type": "stream",
     "text": [
      "                     idTram  Estado_Actual\n",
      "Fecha                                     \n",
      "2018-01-01 00:05:54       8              2\n",
      "2018-01-01 00:05:54      37              1\n",
      "2018-01-01 00:05:54      83              1\n",
      "2018-01-01 00:05:54      97              1\n",
      "2018-01-01 00:05:54      99              4\n",
      "...                     ...            ...\n",
      "2019-12-31 23:55:53     530              1\n",
      "2019-12-31 23:55:53     531              1\n",
      "2019-12-31 23:55:53     532              1\n",
      "2019-12-31 23:55:53     533              1\n",
      "2019-12-31 23:55:53     534              1\n",
      "\n",
      "[30069244 rows x 2 columns]\n"
     ]
    }
   ],
   "source": [
    "#Convertimos la fecha en el índice\n",
    "dfTrafBarcelona18_19 = dfTrafBarcelona18_19.set_index('Fecha')\n",
    "print(dfTrafBarcelona18_19)"
   ]
  },
  {
   "cell_type": "markdown",
   "metadata": {},
   "source": [
    "Y ahora agrupamos todos los datos por día calculando las medias por día. Recordamos que todos los valores dados para un día son en los diferentes tramos y en los diferentes minutos. Estamos así obteniendo el estado medio del tráfico por día en toda la ciudad. \n",
    "\n",
    "Al agrupar por la media estamos convirtiendo el campo Estado en una medida continua, no clasificada. Lo preferimos así para obtener un rango mayor de medidas, pues si usásemos la mediana sólo obtendríamos dos valores diferentes en todo el dataframe: '1' y '2', muchísimo más frecuentes que el resto de valores."
   ]
  },
  {
   "cell_type": "code",
   "execution_count": 17,
   "metadata": {},
   "outputs": [
    {
     "name": "stdout",
     "output_type": "stream",
     "text": [
      "                idTram  Estado_Actual\n",
      "Fecha                                \n",
      "2018-01-01  253.798995       1.476337\n",
      "2018-01-02  257.556842       1.783059\n",
      "2018-01-03  258.452151       1.831938\n",
      "2018-01-04  255.930703       1.826063\n",
      "2018-01-05  256.203031       1.827071\n",
      "...                ...            ...\n",
      "2019-12-27  259.123580       1.793782\n",
      "2019-12-28  262.458555       1.595028\n",
      "2019-12-29  263.415308       1.497768\n",
      "2019-12-30  258.533968       1.812790\n",
      "2019-12-31  259.982932       1.735513\n",
      "\n",
      "[730 rows x 2 columns]\n"
     ]
    }
   ],
   "source": [
    "dfTrafBarcelona18_19_pordias = dfTrafBarcelona18_19.resample('D').mean()\n",
    "print(dfTrafBarcelona18_19_pordias)"
   ]
  },
  {
   "cell_type": "code",
   "execution_count": 18,
   "metadata": {},
   "outputs": [
    {
     "data": {
      "text/plain": [
       "idTram           0\n",
       "Estado_Actual    0\n",
       "dtype: int64"
      ]
     },
     "execution_count": 18,
     "metadata": {},
     "output_type": "execute_result"
    }
   ],
   "source": [
    "#Comprobamos si ha quedado algún día sin dato (la función resample('D') lo habrá registrado con un NaN )\n",
    "\n",
    "dfTrafBarcelona18_19_pordias.isnull().sum()"
   ]
  },
  {
   "cell_type": "markdown",
   "metadata": {},
   "source": [
    "Eliminamos el campo idtram que ahora no tiene sentido"
   ]
  },
  {
   "cell_type": "code",
   "execution_count": 19,
   "metadata": {},
   "outputs": [],
   "source": [
    "dfTrafBarcelona18_19_pordias = dfTrafBarcelona18_19_pordias.drop(columns=['idTram'])"
   ]
  },
  {
   "cell_type": "markdown",
   "metadata": {},
   "source": [
    "No ha quedado ningún día sin dato medio de tráfico, pese a que ha habido días con pocos datos."
   ]
  },
  {
   "cell_type": "code",
   "execution_count": 20,
   "metadata": {},
   "outputs": [
    {
     "data": {
      "text/html": [
       "<div>\n",
       "<style scoped>\n",
       "    .dataframe tbody tr th:only-of-type {\n",
       "        vertical-align: middle;\n",
       "    }\n",
       "\n",
       "    .dataframe tbody tr th {\n",
       "        vertical-align: top;\n",
       "    }\n",
       "\n",
       "    .dataframe thead th {\n",
       "        text-align: right;\n",
       "    }\n",
       "</style>\n",
       "<table border=\"1\" class=\"dataframe\">\n",
       "  <thead>\n",
       "    <tr style=\"text-align: right;\">\n",
       "      <th></th>\n",
       "      <th>Estado_Actual</th>\n",
       "    </tr>\n",
       "  </thead>\n",
       "  <tbody>\n",
       "    <tr>\n",
       "      <th>count</th>\n",
       "      <td>730.000000</td>\n",
       "    </tr>\n",
       "    <tr>\n",
       "      <th>mean</th>\n",
       "      <td>1.842766</td>\n",
       "    </tr>\n",
       "    <tr>\n",
       "      <th>std</th>\n",
       "      <td>0.181867</td>\n",
       "    </tr>\n",
       "    <tr>\n",
       "      <th>min</th>\n",
       "      <td>1.397158</td>\n",
       "    </tr>\n",
       "    <tr>\n",
       "      <th>25%</th>\n",
       "      <td>1.671607</td>\n",
       "    </tr>\n",
       "    <tr>\n",
       "      <th>50%</th>\n",
       "      <td>1.922874</td>\n",
       "    </tr>\n",
       "    <tr>\n",
       "      <th>75%</th>\n",
       "      <td>1.989925</td>\n",
       "    </tr>\n",
       "    <tr>\n",
       "      <th>max</th>\n",
       "      <td>2.199561</td>\n",
       "    </tr>\n",
       "  </tbody>\n",
       "</table>\n",
       "</div>"
      ],
      "text/plain": [
       "       Estado_Actual\n",
       "count     730.000000\n",
       "mean        1.842766\n",
       "std         0.181867\n",
       "min         1.397158\n",
       "25%         1.671607\n",
       "50%         1.922874\n",
       "75%         1.989925\n",
       "max         2.199561"
      ]
     },
     "execution_count": 20,
     "metadata": {},
     "output_type": "execute_result"
    }
   ],
   "source": [
    "dfTrafBarcelona18_19_pordias.describe()"
   ]
  },
  {
   "cell_type": "markdown",
   "metadata": {},
   "source": [
    "Exportamos a un fichero csv el dataframe trabajado resultante"
   ]
  },
  {
   "cell_type": "code",
   "execution_count": 21,
   "metadata": {},
   "outputs": [],
   "source": [
    "dfTrafBarcelona18_19_pordias.to_csv('DatosEstadoTraficoBarcelona_2020.csv')"
   ]
  },
  {
   "cell_type": "markdown",
   "metadata": {},
   "source": [
    "El problema es que nos quedan tan solo valores de Estado de entre 1.397 y 2.2, como medias de cada día. Esto se debe a:\n",
    "\n",
    "- que muchos tramos de la ciudad son de tráfico fluido y al hacer media con los tramos más congestionados invisibilizan dicha congestión. \n",
    "- que la cantidad de horas en que el tráfico está más congestionado es pequeña en relación a las 24 h del día. La mayor parte de esas 24 h, el tráfico se mantiene fluido. \n",
    "- y que están incluidos los fines de semana, en los que se supone que el tráfico es más fluido.\n",
    "\n",
    "Para intentar dar más relevancia al tráfico que sucede durante el día, vamos a segmentar nuestro dataframe en tres franjas: madrugada (de 23 h a 6 h), mañana (de 6 h a 14 h) y tarde (de 14 h a 23 h), para ver sus histogramas por separado, y decidir si quitamos los datos correspondientes a la madrugada.\n",
    "\n",
    "También vamos a analizar la diferencia que se pueda notar entre fines de semana y días laborables.\n",
    "\n",
    "Por último analizaremos las diferencias entre tramos de la ciudad"
   ]
  },
  {
   "cell_type": "code",
   "execution_count": 22,
   "metadata": {},
   "outputs": [
    {
     "name": "stdout",
     "output_type": "stream",
     "text": [
      "                     idTram  Estado_Actual  hora     franja  diadelasemana  \\\n",
      "Fecha                                                                        \n",
      "2018-01-01 00:05:54       8              2     0  Madrugada              0   \n",
      "2018-01-01 00:05:54      37              1     0  Madrugada              0   \n",
      "2018-01-01 00:05:54      83              1     0  Madrugada              0   \n",
      "2018-01-01 00:05:54      97              1     0  Madrugada              0   \n",
      "2018-01-01 00:05:54      99              4     0  Madrugada              0   \n",
      "...                     ...            ...   ...        ...            ...   \n",
      "2019-12-31 23:55:53     530              1    23  Madrugada              1   \n",
      "2019-12-31 23:55:53     531              1    23  Madrugada              1   \n",
      "2019-12-31 23:55:53     532              1    23  Madrugada              1   \n",
      "2019-12-31 23:55:53     533              1    23  Madrugada              1   \n",
      "2019-12-31 23:55:53     534              1    23  Madrugada              1   \n",
      "\n",
      "                     findesemana  \n",
      "Fecha                             \n",
      "2018-01-01 00:05:54            0  \n",
      "2018-01-01 00:05:54            0  \n",
      "2018-01-01 00:05:54            0  \n",
      "2018-01-01 00:05:54            0  \n",
      "2018-01-01 00:05:54            0  \n",
      "...                          ...  \n",
      "2019-12-31 23:55:53            0  \n",
      "2019-12-31 23:55:53            0  \n",
      "2019-12-31 23:55:53            0  \n",
      "2019-12-31 23:55:53            0  \n",
      "2019-12-31 23:55:53            0  \n",
      "\n",
      "[30069244 rows x 6 columns]\n"
     ]
    }
   ],
   "source": [
    "dfTrafBarcelona18_19['hora'] = dfTrafBarcelona18_19.index.hour\n",
    "franjas = {\n",
    "             0: 'Madrugada',\n",
    "             1: 'Madrugada',\n",
    "             2: 'Madrugada',\n",
    "             3: 'Madrugada',\n",
    "             4: 'Madrugada',\n",
    "             5: 'Madrugada',\n",
    "             6: 'Mañana',\n",
    "             7: 'Mañana',\n",
    "             8: 'Mañana',\n",
    "             9: 'Mañana',\n",
    "             10: 'Mañana',\n",
    "             11: 'Mañana',\n",
    "             12: 'Mañana',\n",
    "             13: 'Mañana',\n",
    "             14: 'Tarde',\n",
    "             15: 'Tarde',\n",
    "             16: 'Tarde',\n",
    "             17: 'Tarde',\n",
    "             18: 'Tarde',\n",
    "             19: 'Tarde',\n",
    "             20: 'Tarde',\n",
    "             21: 'Tarde',\n",
    "             22: 'Tarde',\n",
    "             23: 'Madrugada'\n",
    "}\n",
    "dfTrafBarcelona18_19['franja'] = dfTrafBarcelona18_19['hora'].map(franjas)\n",
    "dfTrafBarcelona18_19['diadelasemana'] = dfTrafBarcelona18_19.index.dayofweek\n",
    "dfTrafBarcelona18_19['findesemana'] = (dfTrafBarcelona18_19.index.dayofweek // 5 == 1).astype(int)\n",
    "print(dfTrafBarcelona18_19)"
   ]
  },
  {
   "cell_type": "code",
   "execution_count": 23,
   "metadata": {},
   "outputs": [
    {
     "data": {
      "text/plain": [
       "Tarde        14059447\n",
       "Mañana       11419498\n",
       "Madrugada     4590299\n",
       "Name: franja, dtype: int64"
      ]
     },
     "execution_count": 23,
     "metadata": {},
     "output_type": "execute_result"
    }
   ],
   "source": [
    "dfTrafBarcelona18_19.franja.value_counts()"
   ]
  },
  {
   "cell_type": "code",
   "execution_count": 24,
   "metadata": {},
   "outputs": [
    {
     "data": {
      "text/plain": [
       "4    4499894\n",
       "3    4371069\n",
       "5    4330666\n",
       "0    4294306\n",
       "1    4293597\n",
       "2    4243027\n",
       "6    4036685\n",
       "Name: diadelasemana, dtype: int64"
      ]
     },
     "execution_count": 24,
     "metadata": {},
     "output_type": "execute_result"
    }
   ],
   "source": [
    "dfTrafBarcelona18_19.diadelasemana.value_counts()"
   ]
  },
  {
   "cell_type": "markdown",
   "metadata": {},
   "source": [
    "Los días de la semana van de 0=Lunes a 6=Domingo"
   ]
  },
  {
   "cell_type": "code",
   "execution_count": 25,
   "metadata": {},
   "outputs": [
    {
     "data": {
      "text/plain": [
       "0    21701893\n",
       "1     8367351\n",
       "Name: findesemana, dtype: int64"
      ]
     },
     "execution_count": 25,
     "metadata": {},
     "output_type": "execute_result"
    }
   ],
   "source": [
    "dfTrafBarcelona18_19.findesemana.value_counts()"
   ]
  },
  {
   "cell_type": "markdown",
   "metadata": {},
   "source": [
    "El campo findesemana vale 1 cuando se trata de fin de semana y 0 cuando es día laborable"
   ]
  },
  {
   "cell_type": "markdown",
   "metadata": {},
   "source": [
    "Comprobamos la distribución del tráfico a lo largo de las 24 horas del día"
   ]
  },
  {
   "cell_type": "code",
   "execution_count": 26,
   "metadata": {},
   "outputs": [
    {
     "data": {
      "image/png": "[encoded data removed]",
      "text/plain": [
       "<Figure size 1080x576 with 1 Axes>"
      ]
     },
     "metadata": {
      "needs_background": "light"
     },
     "output_type": "display_data"
    }
   ],
   "source": [
    "plt.figure(figsize=(15,8))\n",
    "sns.histplot(data=dfTrafBarcelona18_19, x='hora', hue='Estado_Actual', binwidth=1, multiple=\"stack\");"
   ]
  },
  {
   "cell_type": "markdown",
   "metadata": {},
   "source": [
    "Vemos que en realidad a cualquier hora, el tráfico es mucho más frecuentemente fluido que congestionado. Las medias seguirán dándonos valores bajos de tráfico, pero de todas formas continuamos."
   ]
  },
  {
   "cell_type": "markdown",
   "metadata": {},
   "source": [
    "Vamos a visualizar en histograma la distribución del tráfico en las 3 franjas"
   ]
  },
  {
   "cell_type": "code",
   "execution_count": 27,
   "metadata": {},
   "outputs": [
    {
     "data": {
      "image/png": "[encoded data removed]",
      "text/plain": [
       "<Figure size 432x288 with 1 Axes>"
      ]
     },
     "metadata": {
      "needs_background": "light"
     },
     "output_type": "display_data"
    }
   ],
   "source": [
    "#Juntos en un único gráfico\n",
    "sns.histplot(data=dfTrafBarcelona18_19, x='Estado_Actual', hue='franja', binwidth=1, multiple=\"stack\");"
   ]
  },
  {
   "cell_type": "markdown",
   "metadata": {},
   "source": [
    "Comprobamos que efectivamente durante la madrugada no hay casi tráfico, y vamos a mirarlo en un gráfico propio."
   ]
  },
  {
   "cell_type": "code",
   "execution_count": 28,
   "metadata": {},
   "outputs": [
    {
     "data": {
      "image/png": "[encoded data removed]",
      "text/plain": [
       "<Figure size 432x288 with 1 Axes>"
      ]
     },
     "metadata": {
      "needs_background": "light"
     },
     "output_type": "display_data"
    }
   ],
   "source": [
    "dfTrafBarcelona18_19['Estado_Actual'].loc[dfTrafBarcelona18_19['franja']=='Madrugada'].plot.hist();"
   ]
  },
  {
   "cell_type": "markdown",
   "metadata": {},
   "source": [
    "Vamos a quitar por tanto los registros de las horas de madrugada, para así centrar nuestro análisis en la influencia de las horas del día."
   ]
  },
  {
   "cell_type": "code",
   "execution_count": 29,
   "metadata": {},
   "outputs": [
    {
     "name": "stdout",
     "output_type": "stream",
     "text": [
      "                     idTram  Estado_Actual  hora  franja  diadelasemana  \\\n",
      "Fecha                                                                     \n",
      "2018-01-01 06:00:55       2              1     6  Mañana              0   \n",
      "2018-01-01 06:00:55       4              1     6  Mañana              0   \n",
      "2018-01-01 06:00:55       6              1     6  Mañana              0   \n",
      "2018-01-01 06:00:55       8              1     6  Mañana              0   \n",
      "2018-01-01 06:00:55      37              3     6  Mañana              0   \n",
      "...                     ...            ...   ...     ...            ...   \n",
      "2019-12-31 22:55:52     530              1    22   Tarde              1   \n",
      "2019-12-31 22:55:52     531              1    22   Tarde              1   \n",
      "2019-12-31 22:55:52     532              1    22   Tarde              1   \n",
      "2019-12-31 22:55:52     533              1    22   Tarde              1   \n",
      "2019-12-31 22:55:52     534              1    22   Tarde              1   \n",
      "\n",
      "                     findesemana  \n",
      "Fecha                             \n",
      "2018-01-01 06:00:55            0  \n",
      "2018-01-01 06:00:55            0  \n",
      "2018-01-01 06:00:55            0  \n",
      "2018-01-01 06:00:55            0  \n",
      "2018-01-01 06:00:55            0  \n",
      "...                          ...  \n",
      "2019-12-31 22:55:52            0  \n",
      "2019-12-31 22:55:52            0  \n",
      "2019-12-31 22:55:52            0  \n",
      "2019-12-31 22:55:52            0  \n",
      "2019-12-31 22:55:52            0  \n",
      "\n",
      "[25478945 rows x 6 columns]\n"
     ]
    }
   ],
   "source": [
    "dfTrafBarcelona18_19_sinmadrugadas = dfTrafBarcelona18_19.loc[dfTrafBarcelona18_19['franja']!='Madrugada']\n",
    "print(dfTrafBarcelona18_19_sinmadrugadas)"
   ]
  },
  {
   "cell_type": "markdown",
   "metadata": {},
   "source": [
    "Vamos ahora a mirar las posibles diferencias entre fines de semana (valor 'findesemana' = 1) y días laborables (valor 'findesemana' = 0)"
   ]
  },
  {
   "cell_type": "code",
   "execution_count": 30,
   "metadata": {},
   "outputs": [
    {
     "data": {
      "image/png": "[encoded data removed]",
      "text/plain": [
       "<Figure size 433x360 with 1 Axes>"
      ]
     },
     "metadata": {
      "needs_background": "light"
     },
     "output_type": "display_data"
    }
   ],
   "source": [
    "sns.displot(data=dfTrafBarcelona18_19_sinmadrugadas, x='Estado_Actual', hue='findesemana', binwidth=1, stat=\"density\", common_norm=False, multiple=\"dodge\");"
   ]
  },
  {
   "cell_type": "markdown",
   "metadata": {},
   "source": [
    "Se percibe que en fines de semana (valor 1, color naranja) es mayor la proporción de tiempo en tráfico fluido (suma de estados 1 y 2 es aproximadamente 0,93) que en días laborables (misma suma en torno a 0,83)"
   ]
  },
  {
   "cell_type": "code",
   "execution_count": 31,
   "metadata": {},
   "outputs": [
    {
     "data": {
      "text/plain": [
       "532    73559\n",
       "531    73556\n",
       "518    73553\n",
       "504    73547\n",
       "525    73545\n",
       "       ...  \n",
       "335        4\n",
       "284        3\n",
       "383        2\n",
       "32         2\n",
       "190        1\n",
       "Name: idTram, Length: 483, dtype: int64"
      ]
     },
     "execution_count": 31,
     "metadata": {},
     "output_type": "execute_result"
    }
   ],
   "source": [
    "dfTrafBarcelona18_19_sinmadrugadas.idTram.value_counts()"
   ]
  },
  {
   "cell_type": "code",
   "execution_count": 32,
   "metadata": {},
   "outputs": [
    {
     "data": {
      "text/html": [
       "<div>\n",
       "<style scoped>\n",
       "    .dataframe tbody tr th:only-of-type {\n",
       "        vertical-align: middle;\n",
       "    }\n",
       "\n",
       "    .dataframe tbody tr th {\n",
       "        vertical-align: top;\n",
       "    }\n",
       "\n",
       "    .dataframe thead th {\n",
       "        text-align: right;\n",
       "    }\n",
       "</style>\n",
       "<table border=\"1\" class=\"dataframe\">\n",
       "  <thead>\n",
       "    <tr style=\"text-align: right;\">\n",
       "      <th></th>\n",
       "      <th>Estado_Actual</th>\n",
       "      <th>hora</th>\n",
       "      <th>diadelasemana</th>\n",
       "      <th>findesemana</th>\n",
       "    </tr>\n",
       "    <tr>\n",
       "      <th>idTram</th>\n",
       "      <th></th>\n",
       "      <th></th>\n",
       "      <th></th>\n",
       "      <th></th>\n",
       "    </tr>\n",
       "  </thead>\n",
       "  <tbody>\n",
       "    <tr>\n",
       "      <th>233</th>\n",
       "      <td>1.036854</td>\n",
       "      <td>14.731084</td>\n",
       "      <td>2.915612</td>\n",
       "      <td>0.261093</td>\n",
       "    </tr>\n",
       "    <tr>\n",
       "      <th>198</th>\n",
       "      <td>1.039999</td>\n",
       "      <td>14.473366</td>\n",
       "      <td>2.923187</td>\n",
       "      <td>0.264633</td>\n",
       "    </tr>\n",
       "    <tr>\n",
       "      <th>315</th>\n",
       "      <td>1.048355</td>\n",
       "      <td>14.093337</td>\n",
       "      <td>2.993763</td>\n",
       "      <td>0.283646</td>\n",
       "    </tr>\n",
       "    <tr>\n",
       "      <th>422</th>\n",
       "      <td>1.059650</td>\n",
       "      <td>14.231987</td>\n",
       "      <td>2.827703</td>\n",
       "      <td>0.225766</td>\n",
       "    </tr>\n",
       "    <tr>\n",
       "      <th>424</th>\n",
       "      <td>1.073362</td>\n",
       "      <td>14.477617</td>\n",
       "      <td>2.915857</td>\n",
       "      <td>0.259542</td>\n",
       "    </tr>\n",
       "    <tr>\n",
       "      <th>...</th>\n",
       "      <td>...</td>\n",
       "      <td>...</td>\n",
       "      <td>...</td>\n",
       "      <td>...</td>\n",
       "    </tr>\n",
       "    <tr>\n",
       "      <th>337</th>\n",
       "      <td>6.000000</td>\n",
       "      <td>9.804348</td>\n",
       "      <td>6.000000</td>\n",
       "      <td>1.000000</td>\n",
       "    </tr>\n",
       "    <tr>\n",
       "      <th>335</th>\n",
       "      <td>6.000000</td>\n",
       "      <td>9.250000</td>\n",
       "      <td>6.000000</td>\n",
       "      <td>1.000000</td>\n",
       "    </tr>\n",
       "    <tr>\n",
       "      <th>317</th>\n",
       "      <td>6.000000</td>\n",
       "      <td>10.823529</td>\n",
       "      <td>6.000000</td>\n",
       "      <td>1.000000</td>\n",
       "    </tr>\n",
       "    <tr>\n",
       "      <th>492</th>\n",
       "      <td>6.000000</td>\n",
       "      <td>9.833333</td>\n",
       "      <td>6.000000</td>\n",
       "      <td>1.000000</td>\n",
       "    </tr>\n",
       "    <tr>\n",
       "      <th>249</th>\n",
       "      <td>6.000000</td>\n",
       "      <td>9.153846</td>\n",
       "      <td>6.000000</td>\n",
       "      <td>1.000000</td>\n",
       "    </tr>\n",
       "  </tbody>\n",
       "</table>\n",
       "<p>483 rows × 4 columns</p>\n",
       "</div>"
      ],
      "text/plain": [
       "        Estado_Actual       hora  diadelasemana  findesemana\n",
       "idTram                                                      \n",
       "233          1.036854  14.731084       2.915612     0.261093\n",
       "198          1.039999  14.473366       2.923187     0.264633\n",
       "315          1.048355  14.093337       2.993763     0.283646\n",
       "422          1.059650  14.231987       2.827703     0.225766\n",
       "424          1.073362  14.477617       2.915857     0.259542\n",
       "...               ...        ...            ...          ...\n",
       "337          6.000000   9.804348       6.000000     1.000000\n",
       "335          6.000000   9.250000       6.000000     1.000000\n",
       "317          6.000000  10.823529       6.000000     1.000000\n",
       "492          6.000000   9.833333       6.000000     1.000000\n",
       "249          6.000000   9.153846       6.000000     1.000000\n",
       "\n",
       "[483 rows x 4 columns]"
      ]
     },
     "execution_count": 32,
     "metadata": {},
     "output_type": "execute_result"
    }
   ],
   "source": [
    "dfTrafBarcelona18_19_sinmadrugadas.groupby('idTram').mean().sort_values(by='Estado_Actual')"
   ]
  },
  {
   "cell_type": "markdown",
   "metadata": {},
   "source": [
    "Volvemos a agrupar todos los datos por día calculando las medias por día"
   ]
  },
  {
   "cell_type": "code",
   "execution_count": 33,
   "metadata": {},
   "outputs": [
    {
     "name": "stdout",
     "output_type": "stream",
     "text": [
      "            Estado_Actual  diadelasemana  findesemana\n",
      "Fecha                                                \n",
      "2018-01-01       1.501611              0            0\n",
      "2018-01-02       1.855361              1            0\n",
      "2018-01-03       1.914663              2            0\n",
      "2018-01-04       1.917587              3            0\n",
      "2018-01-05       1.933171              4            0\n",
      "...                   ...            ...          ...\n",
      "2019-12-27       1.879245              4            0\n",
      "2019-12-28       1.677568              5            1\n",
      "2019-12-29       1.567480              6            1\n",
      "2019-12-30       1.895104              0            0\n",
      "2019-12-31       1.804372              1            0\n",
      "\n",
      "[730 rows x 3 columns]\n"
     ]
    }
   ],
   "source": [
    "dfTrafBarcelona18_19_pordias_sinmadrugadas = dfTrafBarcelona18_19_sinmadrugadas.resample('D').mean()\n",
    "dfTrafBarcelona18_19_pordias_sinmadrugadas = dfTrafBarcelona18_19_pordias_sinmadrugadas.drop(columns=['hora','idTram'])\n",
    "dfTrafBarcelona18_19_pordias_sinmadrugadas['diadelasemana']=dfTrafBarcelona18_19_pordias_sinmadrugadas['diadelasemana'].astype(int)\n",
    "print(dfTrafBarcelona18_19_pordias_sinmadrugadas)"
   ]
  },
  {
   "cell_type": "code",
   "execution_count": 34,
   "metadata": {},
   "outputs": [
    {
     "data": {
      "text/plain": [
       "Estado_Actual    0\n",
       "diadelasemana    0\n",
       "findesemana      0\n",
       "dtype: int64"
      ]
     },
     "execution_count": 34,
     "metadata": {},
     "output_type": "execute_result"
    }
   ],
   "source": [
    "#Comprobamos si ha quedado algún día sin dato (la función resample('D') lo habrá registrado con un NaN )\n",
    "\n",
    "dfTrafBarcelona18_19_pordias_sinmadrugadas.isnull().sum()"
   ]
  },
  {
   "cell_type": "markdown",
   "metadata": {},
   "source": [
    "De nuevo no ha quedado ningún día sin dato medio"
   ]
  },
  {
   "cell_type": "code",
   "execution_count": 35,
   "metadata": {},
   "outputs": [
    {
     "data": {
      "text/html": [
       "<div>\n",
       "<style scoped>\n",
       "    .dataframe tbody tr th:only-of-type {\n",
       "        vertical-align: middle;\n",
       "    }\n",
       "\n",
       "    .dataframe tbody tr th {\n",
       "        vertical-align: top;\n",
       "    }\n",
       "\n",
       "    .dataframe thead th {\n",
       "        text-align: right;\n",
       "    }\n",
       "</style>\n",
       "<table border=\"1\" class=\"dataframe\">\n",
       "  <thead>\n",
       "    <tr style=\"text-align: right;\">\n",
       "      <th></th>\n",
       "      <th>Estado_Actual</th>\n",
       "      <th>diadelasemana</th>\n",
       "      <th>findesemana</th>\n",
       "    </tr>\n",
       "  </thead>\n",
       "  <tbody>\n",
       "    <tr>\n",
       "      <th>count</th>\n",
       "      <td>730.000000</td>\n",
       "      <td>730.000000</td>\n",
       "      <td>730.000000</td>\n",
       "    </tr>\n",
       "    <tr>\n",
       "      <th>mean</th>\n",
       "      <td>1.939048</td>\n",
       "      <td>2.993151</td>\n",
       "      <td>0.284932</td>\n",
       "    </tr>\n",
       "    <tr>\n",
       "      <th>std</th>\n",
       "      <td>0.197816</td>\n",
       "      <td>2.003072</td>\n",
       "      <td>0.451691</td>\n",
       "    </tr>\n",
       "    <tr>\n",
       "      <th>min</th>\n",
       "      <td>1.446474</td>\n",
       "      <td>0.000000</td>\n",
       "      <td>0.000000</td>\n",
       "    </tr>\n",
       "    <tr>\n",
       "      <th>25%</th>\n",
       "      <td>1.765103</td>\n",
       "      <td>1.000000</td>\n",
       "      <td>0.000000</td>\n",
       "    </tr>\n",
       "    <tr>\n",
       "      <th>50%</th>\n",
       "      <td>2.016668</td>\n",
       "      <td>3.000000</td>\n",
       "      <td>0.000000</td>\n",
       "    </tr>\n",
       "    <tr>\n",
       "      <th>75%</th>\n",
       "      <td>2.097403</td>\n",
       "      <td>5.000000</td>\n",
       "      <td>1.000000</td>\n",
       "    </tr>\n",
       "    <tr>\n",
       "      <th>max</th>\n",
       "      <td>2.333111</td>\n",
       "      <td>6.000000</td>\n",
       "      <td>1.000000</td>\n",
       "    </tr>\n",
       "  </tbody>\n",
       "</table>\n",
       "</div>"
      ],
      "text/plain": [
       "       Estado_Actual  diadelasemana  findesemana\n",
       "count     730.000000     730.000000   730.000000\n",
       "mean        1.939048       2.993151     0.284932\n",
       "std         0.197816       2.003072     0.451691\n",
       "min         1.446474       0.000000     0.000000\n",
       "25%         1.765103       1.000000     0.000000\n",
       "50%         2.016668       3.000000     0.000000\n",
       "75%         2.097403       5.000000     1.000000\n",
       "max         2.333111       6.000000     1.000000"
      ]
     },
     "execution_count": 35,
     "metadata": {},
     "output_type": "execute_result"
    }
   ],
   "source": [
    "dfTrafBarcelona18_19_pordias_sinmadrugadas.describe()"
   ]
  },
  {
   "cell_type": "markdown",
   "metadata": {},
   "source": [
    "Vemos que no hemos conseguido una gran mejora. Los valores del Estado Actual están ahora en el rango de entre 1.446 y 2.333\n",
    "\n",
    "Lo pasamos igualmente a un CSV."
   ]
  },
  {
   "cell_type": "code",
   "execution_count": 36,
   "metadata": {},
   "outputs": [],
   "source": [
    "dfTrafBarcelona18_19_pordias_sinmadrugadas.to_csv('DatosEstadoTraficoBarcelona_SinMadrugadas_2020.csv')"
   ]
  }
 ],
 "metadata": {
  "kernelspec": {
   "display_name": "Python 3",
   "language": "python",
   "name": "python3"
  },
  "language_info": {
   "codemirror_mode": {
    "name": "ipython",
    "version": 3
   },
   "file_extension": ".py",
   "mimetype": "text/x-python",
   "name": "python",
   "nbconvert_exporter": "python",
   "pygments_lexer": "ipython3",
   "version": "3.8.5"
  }
 },
 "nbformat": 4,
 "nbformat_minor": 4
}
