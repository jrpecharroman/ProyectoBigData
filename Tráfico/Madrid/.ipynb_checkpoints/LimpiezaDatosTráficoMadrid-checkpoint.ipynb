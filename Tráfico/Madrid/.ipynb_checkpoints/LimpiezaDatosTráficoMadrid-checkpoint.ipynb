{
 "cells": [
  {
   "cell_type": "markdown",
   "metadata": {},
   "source": [
    "# Limpieza de Datos de Tráfico en Madrid"
   ]
  },
  {
   "cell_type": "code",
   "execution_count": 4,
   "metadata": {},
   "outputs": [],
   "source": [
    "#importamos librerías\n",
    "import pandas as pd"
   ]
  },
  {
   "cell_type": "code",
   "execution_count": null,
   "metadata": {},
   "outputs": [],
   "source": [
    "#carga de datos de trafico para filtrar\n",
    "trafico = pd.read_csv('/Users/jessicasuse/Desktop/BigData/Proyecto/Git/ProyectoBigData/Tráfico/Madrid/trafico_06_2018.csv', header=None, encoding = 'unicode_escape', sep=\";\", engine = 'python', index_col = None)"
   ]
  },
  {
   "cell_type": "code",
   "execution_count": null,
   "metadata": {},
   "outputs": [],
   "source": [
    "#carga de datos de ubicacion para filtrar\n",
    "ubicacion = pd.read_csv('/Users/jessicasuse/Downloads/pmed_ubicacion_06-2018.csv', sep=\";\", engine = 'python', index_col = None)"
   ]
  },
  {
   "cell_type": "code",
   "execution_count": null,
   "metadata": {},
   "outputs": [],
   "source": [
    "trafico.head()"
   ]
  },
  {
   "cell_type": "code",
   "execution_count": null,
   "metadata": {},
   "outputs": [],
   "source": [
    "ubicacion.head()"
   ]
  },
  {
   "cell_type": "code",
   "execution_count": 47,
   "metadata": {},
   "outputs": [
    {
     "data": {
      "text/html": [
       "<div>\n",
       "<style scoped>\n",
       "    .dataframe tbody tr th:only-of-type {\n",
       "        vertical-align: middle;\n",
       "    }\n",
       "\n",
       "    .dataframe tbody tr th {\n",
       "        vertical-align: top;\n",
       "    }\n",
       "\n",
       "    .dataframe thead th {\n",
       "        text-align: right;\n",
       "    }\n",
       "</style>\n",
       "<table border=\"1\" class=\"dataframe\">\n",
       "  <thead>\n",
       "    <tr style=\"text-align: right;\">\n",
       "      <th></th>\n",
       "      <th>0</th>\n",
       "      <th>1</th>\n",
       "      <th>2</th>\n",
       "      <th>3</th>\n",
       "      <th>4</th>\n",
       "      <th>5</th>\n",
       "      <th>6</th>\n",
       "      <th>7</th>\n",
       "      <th>8</th>\n",
       "    </tr>\n",
       "  </thead>\n",
       "  <tbody>\n",
       "    <tr>\n",
       "      <th>count</th>\n",
       "      <td>11202245</td>\n",
       "      <td>11202245</td>\n",
       "      <td>11202245</td>\n",
       "      <td>11202245</td>\n",
       "      <td>11202245</td>\n",
       "      <td>11202245</td>\n",
       "      <td>11202245</td>\n",
       "      <td>11202245</td>\n",
       "      <td>11202245</td>\n",
       "    </tr>\n",
       "    <tr>\n",
       "      <th>unique</th>\n",
       "      <td>4023</td>\n",
       "      <td>2881</td>\n",
       "      <td>3</td>\n",
       "      <td>7216</td>\n",
       "      <td>103</td>\n",
       "      <td>102</td>\n",
       "      <td>134</td>\n",
       "      <td>2</td>\n",
       "      <td>17</td>\n",
       "    </tr>\n",
       "    <tr>\n",
       "      <th>top</th>\n",
       "      <td>4115</td>\n",
       "      <td>2018-06-05 12:15:00</td>\n",
       "      <td>URB</td>\n",
       "      <td>0</td>\n",
       "      <td>0</td>\n",
       "      <td>0</td>\n",
       "      <td>0</td>\n",
       "      <td>N</td>\n",
       "      <td>15</td>\n",
       "    </tr>\n",
       "    <tr>\n",
       "      <th>freq</th>\n",
       "      <td>2880</td>\n",
       "      <td>3954</td>\n",
       "      <td>10047881</td>\n",
       "      <td>134563</td>\n",
       "      <td>2115556</td>\n",
       "      <td>693779</td>\n",
       "      <td>10062133</td>\n",
       "      <td>11202244</td>\n",
       "      <td>9411953</td>\n",
       "    </tr>\n",
       "  </tbody>\n",
       "</table>\n",
       "</div>"
      ],
      "text/plain": [
       "               0                    1         2         3         4         5  \\\n",
       "count   11202245             11202245  11202245  11202245  11202245  11202245   \n",
       "unique      4023                 2881         3      7216       103       102   \n",
       "top         4115  2018-06-05 12:15:00       URB         0         0         0   \n",
       "freq        2880                 3954  10047881    134563   2115556    693779   \n",
       "\n",
       "               6         7         8  \n",
       "count   11202245  11202245  11202245  \n",
       "unique       134         2        17  \n",
       "top            0         N        15  \n",
       "freq    10062133  11202244   9411953  "
      ]
     },
     "execution_count": 47,
     "metadata": {},
     "output_type": "execute_result"
    }
   ],
   "source": [
    "trafico.describe()"
   ]
  },
  {
   "cell_type": "code",
   "execution_count": 51,
   "metadata": {},
   "outputs": [
    {
     "data": {
      "text/html": [
       "<div>\n",
       "<style scoped>\n",
       "    .dataframe tbody tr th:only-of-type {\n",
       "        vertical-align: middle;\n",
       "    }\n",
       "\n",
       "    .dataframe tbody tr th {\n",
       "        vertical-align: top;\n",
       "    }\n",
       "\n",
       "    .dataframe thead th {\n",
       "        text-align: right;\n",
       "    }\n",
       "</style>\n",
       "<table border=\"1\" class=\"dataframe\">\n",
       "  <thead>\n",
       "    <tr style=\"text-align: right;\">\n",
       "      <th></th>\n",
       "      <th>0</th>\n",
       "      <th>1</th>\n",
       "      <th>2</th>\n",
       "      <th>3</th>\n",
       "      <th>4</th>\n",
       "      <th>5</th>\n",
       "      <th>6</th>\n",
       "      <th>7</th>\n",
       "      <th>8</th>\n",
       "    </tr>\n",
       "  </thead>\n",
       "  <tbody>\n",
       "    <tr>\n",
       "      <th>count</th>\n",
       "      <td>11202245</td>\n",
       "      <td>11202245</td>\n",
       "      <td>11202245</td>\n",
       "      <td>11202245</td>\n",
       "      <td>11202245</td>\n",
       "      <td>11202245</td>\n",
       "      <td>11202245</td>\n",
       "      <td>11202245</td>\n",
       "      <td>11202245</td>\n",
       "    </tr>\n",
       "    <tr>\n",
       "      <th>unique</th>\n",
       "      <td>4023</td>\n",
       "      <td>2881</td>\n",
       "      <td>3</td>\n",
       "      <td>7216</td>\n",
       "      <td>103</td>\n",
       "      <td>102</td>\n",
       "      <td>134</td>\n",
       "      <td>2</td>\n",
       "      <td>17</td>\n",
       "    </tr>\n",
       "    <tr>\n",
       "      <th>top</th>\n",
       "      <td>4115</td>\n",
       "      <td>2018-06-05 12:15:00</td>\n",
       "      <td>URB</td>\n",
       "      <td>0</td>\n",
       "      <td>0</td>\n",
       "      <td>0</td>\n",
       "      <td>0</td>\n",
       "      <td>N</td>\n",
       "      <td>15</td>\n",
       "    </tr>\n",
       "    <tr>\n",
       "      <th>freq</th>\n",
       "      <td>2880</td>\n",
       "      <td>3954</td>\n",
       "      <td>10047881</td>\n",
       "      <td>134563</td>\n",
       "      <td>2115556</td>\n",
       "      <td>693779</td>\n",
       "      <td>10062133</td>\n",
       "      <td>11202244</td>\n",
       "      <td>9411953</td>\n",
       "    </tr>\n",
       "  </tbody>\n",
       "</table>\n",
       "</div>"
      ],
      "text/plain": [
       "               0                    1         2         3         4         5  \\\n",
       "count   11202245             11202245  11202245  11202245  11202245  11202245   \n",
       "unique      4023                 2881         3      7216       103       102   \n",
       "top         4115  2018-06-05 12:15:00       URB         0         0         0   \n",
       "freq        2880                 3954  10047881    134563   2115556    693779   \n",
       "\n",
       "               6         7         8  \n",
       "count   11202245  11202245  11202245  \n",
       "unique       134         2        17  \n",
       "top            0         N        15  \n",
       "freq    10062133  11202244   9411953  "
      ]
     },
     "execution_count": 51,
     "metadata": {},
     "output_type": "execute_result"
    }
   ],
   "source": [
    "trafico.describe(include = 'all')"
   ]
  },
  {
   "cell_type": "code",
   "execution_count": 54,
   "metadata": {},
   "outputs": [
    {
     "data": {
      "text/plain": [
       "0    object\n",
       "1    object\n",
       "2    object\n",
       "3    object\n",
       "4    object\n",
       "5    object\n",
       "6    object\n",
       "7    object\n",
       "8    object\n",
       "dtype: object"
      ]
     },
     "execution_count": 54,
     "metadata": {},
     "output_type": "execute_result"
    }
   ],
   "source": [
    "trafico.dtypes"
   ]
  },
  {
   "cell_type": "code",
   "execution_count": 58,
   "metadata": {},
   "outputs": [
    {
     "name": "stdout",
     "output_type": "stream",
     "text": [
      "0\n",
      "False    11202245\n",
      "Name: 0, dtype: int64\n",
      "\n",
      "1\n",
      "False    11202245\n",
      "Name: 1, dtype: int64\n",
      "\n",
      "2\n",
      "False    11202245\n",
      "Name: 2, dtype: int64\n",
      "\n",
      "3\n",
      "False    11202245\n",
      "Name: 3, dtype: int64\n",
      "\n",
      "4\n",
      "False    11202245\n",
      "Name: 4, dtype: int64\n",
      "\n",
      "5\n",
      "False    11202245\n",
      "Name: 5, dtype: int64\n",
      "\n",
      "6\n",
      "False    11202245\n",
      "Name: 6, dtype: int64\n",
      "\n",
      "7\n",
      "False    11202245\n",
      "Name: 7, dtype: int64\n",
      "\n",
      "8\n",
      "False    11202245\n",
      "Name: 8, dtype: int64\n",
      "\n"
     ]
    }
   ],
   "source": [
    "missing_data = trafico.isnull()\n",
    "for column in missing_data.columns.values.tolist():\n",
    "    print(column)\n",
    "    print(missing_data[column].value_counts())\n",
    "    print('')"
   ]
  },
  {
   "cell_type": "code",
   "execution_count": null,
   "metadata": {},
   "outputs": [],
   "source": []
  },
  {
   "cell_type": "code",
   "execution_count": null,
   "metadata": {},
   "outputs": [],
   "source": []
  },
  {
   "cell_type": "code",
   "execution_count": null,
   "metadata": {},
   "outputs": [],
   "source": []
  },
  {
   "cell_type": "code",
   "execution_count": null,
   "metadata": {},
   "outputs": [],
   "source": []
  }
 ],
 "metadata": {
  "kernelspec": {
   "display_name": "Python 3",
   "language": "python",
   "name": "python3"
  },
  "language_info": {
   "codemirror_mode": {
    "name": "ipython",
    "version": 3
   },
   "file_extension": ".py",
   "mimetype": "text/x-python",
   "name": "python",
   "nbconvert_exporter": "python",
   "pygments_lexer": "ipython3",
   "version": "3.8.3"
  }
 },
 "nbformat": 4,
 "nbformat_minor": 4
}
