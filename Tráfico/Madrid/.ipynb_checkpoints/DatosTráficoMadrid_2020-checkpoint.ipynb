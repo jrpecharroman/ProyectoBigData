{
 "cells": [
  {
   "cell_type": "markdown",
   "metadata": {},
   "source": [
    "# Datos de Tráfico en Madrid\n",
    "### -Descargaremos los datos disponibles para el 2020 , año en el que la pandemia de COVID-19 hizo que muchos goviernos aplicasen restricciones de movilidad para asi compararlos con años anteriores.\n",
    "### -Descartaremos los datos no relevantes para medir la intensidad de trafico de las calles de la ciudad de Madrid. \n",
    "### -Agruparemos los datos a medianas por dia\n",
    "### -Sacaremos un csv resultado a mergear con las otras ramas (meteo y calidad del aire)\n",
    "### -eliminaremos los archivos utilizados en el proceso para que estos no suban al repositorio (por eficiencia y limitacion 500mb github)"
   ]
  },
  {
   "cell_type": "code",
   "execution_count": 2,
   "metadata": {},
   "outputs": [],
   "source": [
    "#importamos librerías\n",
    "import pandas as pd\n",
    "import requests as requests\n",
    "import datetime\n",
    "import os"
   ]
  },
  {
   "cell_type": "code",
   "execution_count": 2,
   "metadata": {},
   "outputs": [],
   "source": [
    "# definimos variables para cada zip que necesitamos cada url https://datos.madrid.es/portal/site/egob/menuitem.c05c1f754a33a9fbe4b2e4b284f1a5a0/?vgnextoid=33cb30c367e78410VgnVCM1000000b205a0aRCRD&vgnextchannel=374512b9ace9f310VgnVCM100000171f5a0aRCRD&vgnextfmt=default\n",
    "\n",
    "datos_trafico_2001=\"https://datos.madrid.es/egob/catalogo/208627-80-transporte-ptomedida-historico.zip\"\n",
    "datos_trafico_2002=\"https://datos.madrid.es/egob/catalogo/208627-81-transporte-ptomedida-historico.zip\"\n",
    "datos_trafico_2003=\"https://datos.madrid.es/egob/catalogo/208627-82-transporte-ptomedida-historico.zip\"\n",
    "datos_trafico_2004=\"https://datos.madrid.es/egob/catalogo/208627-83-transporte-ptomedida-historico.zip\"\n",
    "datos_trafico_2005=\"https://datos.madrid.es/egob/catalogo/208627-84-transporte-ptomedida-historico.zip\"\n",
    "datos_trafico_2006=\"https://datos.madrid.es/egob/catalogo/208627-85-transporte-ptomedida-historico.zip\"\n",
    "datos_trafico_2007=\"https://datos.madrid.es/egob/catalogo/208627-86-transporte-ptomedida-historico.zip\"\n",
    "datos_trafico_2008=\"https://datos.madrid.es/egob/catalogo/208627-87-transporte-ptomedida-historico.zip\"\n",
    "datos_trafico_2009=\"https://datos.madrid.es/egob/catalogo/208627-88-transporte-ptomedida-historico.zip\"\n",
    "datos_trafico_2010=\"https://datos.madrid.es/egob/catalogo/208627-89-transporte-ptomedida-historico.zip\"\n",
    "datos_trafico_2011=\"https://datos.madrid.es/egob/catalogo/208627-90-transporte-ptomedida-historico.zip\"\n",
    "datos_trafico_2012=\"https://datos.madrid.es/egob/catalogo/208627-91-transporte-ptomedida-historico.zip\"\n",
    "\n",
    "\n",
    "#utilizamos la libreria requests para descargar cada zip. Urllib da error 403 y 302 mientras que con la libreria requests estos errores se resuelven\n",
    "#Tener en cuenta que cada zip pesa unos 80mb y hay 24. Pues necesita descargarse unos 2gb\n",
    "#Una vez recorridos los archivos , agrupados por dia y concatenados en un dataframe debemos eliminarlos, ya que no subiran al repositorio github donde tenemos limitacion de 500mb. para ello utilizaremos remove\n",
    "\n",
    "response = requests.get(datos_trafico_2001, allow_redirects=True) \n",
    "file = open('datos_trafico_2001.zip', 'wb').write(response.content)\n",
    "\n",
    "response = requests.get(datos_trafico_2002, allow_redirects=True) \n",
    "file = open('datos_trafico_2002.zip', 'wb').write(response.content)\n",
    "\n",
    "response = requests.get(datos_trafico_2003, allow_redirects=True) \n",
    "file = open('datos_trafico_2003.zip', 'wb').write(response.content)\n",
    "\n",
    "response = requests.get(datos_trafico_2004, allow_redirects=True) \n",
    "file = open('datos_trafico_2004.zip', 'wb').write(response.content)\n",
    "\n",
    "response = requests.get(datos_trafico_2005, allow_redirects=True) \n",
    "file = open('datos_trafico_2005.zip', 'wb').write(response.content)\n",
    "\n",
    "response = requests.get(datos_trafico_2006, allow_redirects=True) \n",
    "file = open('datos_trafico_2006.zip', 'wb').write(response.content)\n",
    "\n",
    "response = requests.get(datos_trafico_2007, allow_redirects=True) \n",
    "file = open('datos_trafico_2007.zip', 'wb').write(response.content)\n",
    "\n",
    "response = requests.get(datos_trafico_2008, allow_redirects=True) \n",
    "file = open('datos_trafico_2008.zip', 'wb').write(response.content)\n",
    "\n",
    "response = requests.get(datos_trafico_2009, allow_redirects=True) \n",
    "file = open('datos_trafico_2009.zip', 'wb').write(response.content)\n",
    "\n",
    "response = requests.get(datos_trafico_2010, allow_redirects=True) \n",
    "file = open('datos_trafico_2010.zip', 'wb').write(response.content)\n",
    "\n",
    "response = requests.get(datos_trafico_2011, allow_redirects=True) \n",
    "file = open('datos_trafico_2011.zip', 'wb').write(response.content)\n",
    "\n",
    "response = requests.get(datos_trafico_2012, allow_redirects=True) \n",
    "file = open('datos_trafico_2012.zip', 'wb').write(response.content)\n"
   ]
  },
  {
   "cell_type": "markdown",
   "metadata": {},
   "source": [
    "    Mientras descargamos todos los datos podemos entender su contenido de la documentacion\n",
    "\n",
    "## Contenido CSV\n",
    "#### Los diversos sistemas de control de tráfico de la ciudad de Madrid proporcionan periódicamente y de forma automática datos de todos los detectores de vehículos de los puntos de medida que controlan. La base de datos SICTRAM los registra e integra sobre periodos de 15 minutos.\n",
    "#### Si el sensor no proporciona información de una de las muestras del periodo, no se contabilizará esa información; no obstante, si el sensor proporciona información pero los parámetros de calidad de la misma no son óptimos la información se integra, pero se reporta como posible error. El error puede deberse porque el sensor detecta parámetros fuera de los rangos establecidos o porque alguno de los sensores que componen el punto de medida no esté operativo (por ejemplo, en un punto de medida de 4 carriles uno de los carriles no está funcionando).\n",
    "#### Los históricos de Puntos de Medida se exportan en un archivo CSV con los siguientes campos:\n",
    "#### Nombre / Tipo / Descripción\n",
    "    * idelem / Entero / Identificación única del Punto de Medida en los sistemas de control del tráfico del Ayuntamiento de Madrid.\n",
    "    \n",
    "    * fecha / Fecha / Fecha y hora oficiales de Madrid con formato yyyy-mm-dd hh:mi:ss\n",
    "    \n",
    "    * identif / Texto / Identificador del Punto de Medida en los Sistemas de Tráfico (se proporciona por compatibilidad hacia atrás).\n",
    "    \n",
    "    * tipo_elem / Texto / Nombre del Tipo de Punto de Medida: Urbano o M30.\n",
    "    \n",
    "    * Intensidad / Entero /Intensidad del Punto de Medida en el periodo de 15 minutos (vehículos/hora). Un valor negativo implica la ausencia de datos.\n",
    "    \n",
    "    * ocupacion / Entero / Tiempo de Ocupación del Punto de Medida en el periodo de 15 minutos (%). Un valor negativo implica la ausencia de datos.\n",
    "    \n",
    "    * carga / Entero / Carga de vehículos en el periodo de 15 minutos. Parámetro que tiene en cuenta intensidad, ocupación y capacidad de la vía y establece el grado de uso de la vía de 0 a 100. Un valor negativo implica la ausencia de datos.\n",
    "    \n",
    "    *vmed / Entero / Velocidad media de los vehículos en el periodo de 15 minutos (Km./h). Sólo para puntos de medida interurbanos M30. Un valor negativo implica la ausencia de datos.\n",
    "    \n",
    "    * error / Texto / Indicación de si ha habido al menos una muestra errónea o sustituida en el periodo de 15 minutos.\n",
    "        N: no ha habido errores ni sustituciones\n",
    "        E: los parámetros de calidad de alguna de las muestras integradas no son óptimos.\n",
    "        S: alguna de las muestras recibidas era totalmente errónea y no se ha integrado.\n",
    "        \n",
    "    * periodo_integracion / Entero / Número de muestras recibidas y consideradas para el periodo de integración."
   ]
  },
  {
   "cell_type": "code",
   "execution_count": 55,
   "metadata": {},
   "outputs": [],
   "source": [
    "# agregaremos todos los pasos en una funcion para facilitar la extraccion \n",
    "\n",
    "def tratamiento_datos_csv_trafico_madrid(actuality):\n",
    "    #cargar el zip a un df\n",
    "    trafico = pd.read_csv('datos_trafico_'+str(actuality)+'.zip', compression='zip', header=0, sep=';', quotechar='\"')\n",
    "    #seleccionar solo los datos tipo urbanos sin errores\n",
    "    trafico = trafico.loc[trafico.tipo_elem.str.contains('URB')]\n",
    "    trafico = trafico.loc[trafico.error =='N']\n",
    "    #hacer drop a las columnas inecesarias\n",
    "    trafico=trafico.drop(columns=['tipo_elem','vmed','error','periodo_integracion','id'])\n",
    "    #convertir la fechahora a fecha\n",
    "    trafico[\"fecha\"]=pd.to_datetime(trafico[\"fecha\"], format='%Y-%m-%d', errors='coerce')\n",
    "    trafico['fecha']=pd.DatetimeIndex(trafico['fecha']).date\n",
    "    #agrupar valores a mediana por cada fecha para conseguir 1 valor/dia.\n",
    "    trafico_intensidad= trafico.groupby('fecha')['intensidad'].median()\n",
    "    trafico_ocupacion= trafico.groupby('fecha')['ocupacion'].median()\n",
    "    trafico_carga= trafico.groupby('fecha')['carga'].median()\n",
    "    trafico_intensidad = pd.merge(trafico_intensidad, trafico_ocupacion,left_index=True, right_index=True)\n",
    "    trafico= pd.merge(trafico_intensidad, trafico_carga,left_index=True, right_index=True)\n",
    "    trafico.reset_index(level=0, inplace=True)\n",
    "    return trafico\n",
    "\n"
   ]
  },
  {
   "cell_type": "code",
   "execution_count": 56,
   "metadata": {},
   "outputs": [],
   "source": [
    "#ejecutamos la funcion para cada actuality y guardamos su resultado en una variable que contendra el dataframe a concatenar.\n",
    "# va a tardar un poco ademas de consumir recursos.\n",
    "\n",
    "trafico_2001=tratamiento_datos_csv_trafico_madrid(2001)\n",
    "trafico_2002=tratamiento_datos_csv_trafico_madrid(2002)\n",
    "trafico_2003=tratamiento_datos_csv_trafico_madrid(2003)\n",
    "trafico_2004=tratamiento_datos_csv_trafico_madrid(2004)\n",
    "trafico_2005=tratamiento_datos_csv_trafico_madrid(2005)\n",
    "trafico_2006=tratamiento_datos_csv_trafico_madrid(2006)\n",
    "trafico_2007=tratamiento_datos_csv_trafico_madrid(2007)\n",
    "trafico_2008=tratamiento_datos_csv_trafico_madrid(2008)\n",
    "trafico_2009=tratamiento_datos_csv_trafico_madrid(2009)\n",
    "trafico_2010=tratamiento_datos_csv_trafico_madrid(2010)\n",
    "trafico_2011=tratamiento_datos_csv_trafico_madrid(2011)\n",
    "trafico_2012=tratamiento_datos_csv_trafico_madrid(2012)"
   ]
  },
  {
   "cell_type": "code",
   "execution_count": 57,
   "metadata": {},
   "outputs": [],
   "source": [
    "#concatenamos los dataframes en 1\n",
    "trafico_mad=pd.concat([\n",
    "trafico_2001,\n",
    "trafico_2002,\n",
    "trafico_2003,\n",
    "trafico_2004,\n",
    "trafico_2005,\n",
    "trafico_2006,\n",
    "trafico_2007,\n",
    "trafico_2008,\n",
    "trafico_2009,\n",
    "trafico_2010,\n",
    "trafico_2011,\n",
    "trafico_2012,\n",
    "]) "
   ]
  },
  {
   "cell_type": "code",
   "execution_count": 58,
   "metadata": {},
   "outputs": [
    {
     "data": {
      "text/plain": [
       "(730, 4)"
      ]
     },
     "execution_count": 58,
     "metadata": {},
     "output_type": "execute_result"
    }
   ],
   "source": [
    "trafico_mad.shape"
   ]
  },
  {
   "cell_type": "code",
   "execution_count": 61,
   "metadata": {},
   "outputs": [
    {
     "data": {
      "text/html": [
       "<div>\n",
       "<style scoped>\n",
       "    .dataframe tbody tr th:only-of-type {\n",
       "        vertical-align: middle;\n",
       "    }\n",
       "\n",
       "    .dataframe tbody tr th {\n",
       "        vertical-align: top;\n",
       "    }\n",
       "\n",
       "    .dataframe thead th {\n",
       "        text-align: right;\n",
       "    }\n",
       "</style>\n",
       "<table border=\"1\" class=\"dataframe\">\n",
       "  <thead>\n",
       "    <tr style=\"text-align: right;\">\n",
       "      <th></th>\n",
       "      <th>intensidad</th>\n",
       "      <th>ocupacion</th>\n",
       "      <th>carga</th>\n",
       "    </tr>\n",
       "  </thead>\n",
       "  <tbody>\n",
       "    <tr>\n",
       "      <th>count</th>\n",
       "      <td>730.000000</td>\n",
       "      <td>730.000000</td>\n",
       "      <td>730.000000</td>\n",
       "    </tr>\n",
       "    <tr>\n",
       "      <th>mean</th>\n",
       "      <td>185.502740</td>\n",
       "      <td>3.073973</td>\n",
       "      <td>15.135616</td>\n",
       "    </tr>\n",
       "    <tr>\n",
       "      <th>std</th>\n",
       "      <td>35.789134</td>\n",
       "      <td>1.077266</td>\n",
       "      <td>3.606421</td>\n",
       "    </tr>\n",
       "    <tr>\n",
       "      <th>min</th>\n",
       "      <td>90.000000</td>\n",
       "      <td>1.000000</td>\n",
       "      <td>6.000000</td>\n",
       "    </tr>\n",
       "    <tr>\n",
       "      <th>25%</th>\n",
       "      <td>153.000000</td>\n",
       "      <td>2.000000</td>\n",
       "      <td>12.000000</td>\n",
       "    </tr>\n",
       "    <tr>\n",
       "      <th>50%</th>\n",
       "      <td>199.000000</td>\n",
       "      <td>3.000000</td>\n",
       "      <td>17.000000</td>\n",
       "    </tr>\n",
       "    <tr>\n",
       "      <th>75%</th>\n",
       "      <td>213.000000</td>\n",
       "      <td>4.000000</td>\n",
       "      <td>18.000000</td>\n",
       "    </tr>\n",
       "    <tr>\n",
       "      <th>max</th>\n",
       "      <td>253.000000</td>\n",
       "      <td>6.000000</td>\n",
       "      <td>21.000000</td>\n",
       "    </tr>\n",
       "  </tbody>\n",
       "</table>\n",
       "</div>"
      ],
      "text/plain": [
       "       intensidad   ocupacion       carga\n",
       "count  730.000000  730.000000  730.000000\n",
       "mean   185.502740    3.073973   15.135616\n",
       "std     35.789134    1.077266    3.606421\n",
       "min     90.000000    1.000000    6.000000\n",
       "25%    153.000000    2.000000   12.000000\n",
       "50%    199.000000    3.000000   17.000000\n",
       "75%    213.000000    4.000000   18.000000\n",
       "max    253.000000    6.000000   21.000000"
      ]
     },
     "execution_count": 61,
     "metadata": {},
     "output_type": "execute_result"
    }
   ],
   "source": [
    "trafico_mad.describe()"
   ]
  },
  {
   "cell_type": "code",
   "execution_count": 62,
   "metadata": {},
   "outputs": [],
   "source": [
    "#exportaremos los datos trafico_mad a csv:\n",
    "trafico_mad.to_csv('trafico_mad_2020.csv', index=False) "
   ]
  },
  {
   "cell_type": "code",
   "execution_count": 63,
   "metadata": {},
   "outputs": [],
   "source": [
    "# una vez todo procesado no necesitamos los zip originales\n",
    "os.remove(\"datos_trafico_2001.zip\")\n",
    "os.remove(\"datos_trafico_2002.zip\")\n",
    "os.remove(\"datos_trafico_2003.zip\")\n",
    "os.remove(\"datos_trafico_2004.zip\")\n",
    "os.remove(\"datos_trafico_2005.zip\")\n",
    "os.remove(\"datos_trafico_2006.zip\")\n",
    "os.remove(\"datos_trafico_2007.zip\")\n",
    "os.remove(\"datos_trafico_2008.zip\")\n",
    "os.remove(\"datos_trafico_2009.zip\")\n",
    "os.remove(\"datos_trafico_2010.zip\")\n",
    "os.remove(\"datos_trafico_2011.zip\")\n",
    "os.remove(\"datos_trafico_2012.zip\")"
   ]
  },
  {
   "cell_type": "code",
   "execution_count": null,
   "metadata": {},
   "outputs": [],
   "source": []
  }
 ],
 "metadata": {
  "kernelspec": {
   "display_name": "Python 3",
   "language": "python",
   "name": "python3"
  },
  "language_info": {
   "codemirror_mode": {
    "name": "ipython",
    "version": 3
   },
   "file_extension": ".py",
   "mimetype": "text/x-python",
   "name": "python",
   "nbconvert_exporter": "python",
   "pygments_lexer": "ipython3",
   "version": "3.8.5"
  }
 },
 "nbformat": 4,
 "nbformat_minor": 4
}
