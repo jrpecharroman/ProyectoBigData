{
 "cells": [
  {
   "cell_type": "markdown",
   "metadata": {},
   "source": [
    "# Limpieza de Datos de Tráfico en Madrid"
   ]
  },
  {
   "cell_type": "code",
   "execution_count": 15,
   "metadata": {},
   "outputs": [],
   "source": [
    "#importamos librerías\n",
    "import csv\n",
    "import pandas as pd"
   ]
  },
  {
   "cell_type": "code",
   "execution_count": 16,
   "metadata": {},
   "outputs": [
    {
     "data": {
      "text/html": [
       "<div>\n",
       "<style scoped>\n",
       "    .dataframe tbody tr th:only-of-type {\n",
       "        vertical-align: middle;\n",
       "    }\n",
       "\n",
       "    .dataframe tbody tr th {\n",
       "        vertical-align: top;\n",
       "    }\n",
       "\n",
       "    .dataframe thead th {\n",
       "        text-align: right;\n",
       "    }\n",
       "</style>\n",
       "<table border=\"1\" class=\"dataframe\">\n",
       "  <thead>\n",
       "    <tr style=\"text-align: right;\">\n",
       "      <th></th>\n",
       "      <th>id;\"fecha\";\"tipo_elem\";\"intensidad\";\"ocupacion\";\"carga\";\"vmed\";\"error\";\"periodo_integracion\"</th>\n",
       "    </tr>\n",
       "  </thead>\n",
       "  <tbody>\n",
       "    <tr>\n",
       "      <th>0</th>\n",
       "      <td>1001;\"2018-06-01 00:00:00\";\"M30\";804;2;0;61;\"N\";5</td>\n",
       "    </tr>\n",
       "    <tr>\n",
       "      <th>1</th>\n",
       "      <td>1002;\"2018-06-01 00:00:00\";\"M30\";816;4;0;72;\"N\";5</td>\n",
       "    </tr>\n",
       "    <tr>\n",
       "      <th>2</th>\n",
       "      <td>1003;\"2018-06-01 00:00:00\";\"M30\";900;4;0;74;\"N\";5</td>\n",
       "    </tr>\n",
       "    <tr>\n",
       "      <th>3</th>\n",
       "      <td>1006;\"2018-06-01 00:00:00\";\"M30\";1020;3;0;68;\"...</td>\n",
       "    </tr>\n",
       "    <tr>\n",
       "      <th>4</th>\n",
       "      <td>1009;\"2018-06-01 00:00:00\";\"M30\";984;2;0;72;\"N\";5</td>\n",
       "    </tr>\n",
       "  </tbody>\n",
       "</table>\n",
       "</div>"
      ],
      "text/plain": [
       "  id;\"fecha\";\"tipo_elem\";\"intensidad\";\"ocupacion\";\"carga\";\"vmed\";\"error\";\"periodo_integracion\"\n",
       "0  1001;\"2018-06-01 00:00:00\";\"M30\";804;2;0;61;\"N\";5                                          \n",
       "1  1002;\"2018-06-01 00:00:00\";\"M30\";816;4;0;72;\"N\";5                                          \n",
       "2  1003;\"2018-06-01 00:00:00\";\"M30\";900;4;0;74;\"N\";5                                          \n",
       "3  1006;\"2018-06-01 00:00:00\";\"M30\";1020;3;0;68;\"...                                          \n",
       "4  1009;\"2018-06-01 00:00:00\";\"M30\";984;2;0;72;\"N\";5                                          "
      ]
     },
     "execution_count": 16,
     "metadata": {},
     "output_type": "execute_result"
    }
   ],
   "source": [
    "trafico_06_2018 = pd.read_csv('/Users/jessicasuse/Desktop/BigData/Proyecto/Git/ProyectoBigData/Tráfico/Madrid/trafico_06_2018.csv')\n",
    "trafico_06_2018.head()"
   ]
  },
  {
   "cell_type": "code",
   "execution_count": 7,
   "metadata": {},
   "outputs": [
    {
     "ename": "SyntaxError",
     "evalue": "invalid syntax (<ipython-input-7-76326ec6986b>, line 2)",
     "output_type": "error",
     "traceback": [
      "\u001b[0;36m  File \u001b[0;32m\"<ipython-input-7-76326ec6986b>\"\u001b[0;36m, line \u001b[0;32m2\u001b[0m\n\u001b[0;31m    def getDataFrameFromCsv('Users/jessicasuse/Desktop/BigData/Proyecto/Git/ProyectoBigData/Tráfico/Madrid/trafico_06_2018.csv'):\u001b[0m\n\u001b[0m                            ^\u001b[0m\n\u001b[0;31mSyntaxError\u001b[0m\u001b[0;31m:\u001b[0m invalid syntax\n"
     ]
    }
   ],
   "source": [
    "def getDataFrameFromCsv('Users/jessicasuse/Desktop/BigData/Proyecto/Git/ProyectoBigData/Tráfico/Madrid/trafico_06_2018.csv'):\n",
    "    with open('Users/jessicasuse/Desktop/BigData/Proyecto/Git/ProyectoBigData/Tráfico/Madrid/trafico_06_2018.csv') as auxCsv:\n",
    "        dataCsv = csv.reader(auxCsv, delimiter = ';', quotechar = '\"')\n",
    "        dataList = list(dataCsv)\n",
    "        dataDF = pd.DataFrame(dataList[1:], columns = dataList[0])\n",
    "        return dataDF"
   ]
  },
  {
   "cell_type": "code",
   "execution_count": 12,
   "metadata": {},
   "outputs": [
    {
     "ename": "SyntaxError",
     "evalue": "invalid syntax (<ipython-input-12-b4c14e1225f9>, line 2)",
     "output_type": "error",
     "traceback": [
      "\u001b[0;36m  File \u001b[0;32m\"<ipython-input-12-b4c14e1225f9>\"\u001b[0;36m, line \u001b[0;32m2\u001b[0m\n\u001b[0;31m    def getDataFrameFromCsv(\"trafico_06_2018.csv\"):\u001b[0m\n\u001b[0m                            ^\u001b[0m\n\u001b[0;31mSyntaxError\u001b[0m\u001b[0;31m:\u001b[0m invalid syntax\n"
     ]
    }
   ],
   "source": [
    "#carga de datos de trafico para filtrar\n",
    "def getDataFrameFromCsv(\"trafico_06_2018.csv\"):\n",
    "    with open(\"trafico_06_2018.csv\") as auxCsv:\n",
    "        dataCsv = csv.reader(auxCsv, delimiter = ';', quotechar = '\"')\n",
    "        dataList = list(dataCsv)\n",
    "        dataDF = pd.DataFrame(dataList[1:], columns = dataList[0])\n",
    "        return dataDF"
   ]
  },
  {
   "cell_type": "code",
   "execution_count": null,
   "metadata": {},
   "outputs": [],
   "source": [
    "with sys.stdin as flowFile:\n",
    "    #carga del dataframe con los datos del fichero recibido por stdin\n",
    "    df = pd.read_csv(flowFile)\n",
    "    \n",
    "    #datos correctos\n",
    "    columnas_ok = ['id', 'fecha', 'tipo_elem', 'intensidad', 'ocupacion', 'cargra', 'vmed', 'error', 'periodo_integracion']\n",
    "\n",
    "    if all([item in df.columns for item in columnas_ok]) & (len(df.columns) == 9):\n",
    "        #eliminamos columna innecesaria\n",
    "        df = df.drop(columns=['periodo_integracion'])\n",
    "        \n",
    "        #eliminamos datos de tráfico no útiles\n",
    "        df =[df.trafico.isin(trafico_06_2018)]\n",
    "        \n",
    "        #transferimos los datos limpios al siguiente procesador por stdout\n",
    "        df.to_csv(sys.stdout, index = False)"
   ]
  },
  {
   "cell_type": "code",
   "execution_count": null,
   "metadata": {},
   "outputs": [],
   "source": []
  },
  {
   "cell_type": "code",
   "execution_count": null,
   "metadata": {},
   "outputs": [],
   "source": []
  },
  {
   "cell_type": "code",
   "execution_count": null,
   "metadata": {},
   "outputs": [],
   "source": []
  },
  {
   "cell_type": "code",
   "execution_count": null,
   "metadata": {},
   "outputs": [],
   "source": []
  },
  {
   "cell_type": "code",
   "execution_count": null,
   "metadata": {},
   "outputs": [],
   "source": []
  }
 ],
 "metadata": {
  "kernelspec": {
   "display_name": "Python 3",
   "language": "python",
   "name": "python3"
  },
  "language_info": {
   "codemirror_mode": {
    "name": "ipython",
    "version": 3
   },
   "file_extension": ".py",
   "mimetype": "text/x-python",
   "name": "python",
   "nbconvert_exporter": "python",
   "pygments_lexer": "ipython3",
   "version": "3.8.3"
  }
 },
 "nbformat": 4,
 "nbformat_minor": 4
}
