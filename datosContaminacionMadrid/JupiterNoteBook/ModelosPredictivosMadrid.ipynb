{
 "cells": [
  {
   "cell_type": "code",
   "execution_count": 1,
   "metadata": {},
   "outputs": [
    {
     "name": "stdout",
     "output_type": "stream",
     "text": [
      "(1934, 11)\n",
      "Nulos del df --> Unnamed: 0     0\n",
      "date           0\n",
      "pm10           9\n",
      "velmedia       0\n",
      "racha          0\n",
      "sol            0\n",
      "presmax        0\n",
      "presmin        0\n",
      "season_name    0\n",
      "dtype: int64\n",
      "Nulos del df --> Unnamed: 0     0\n",
      "date           0\n",
      "pm10           0\n",
      "velmedia       0\n",
      "racha          0\n",
      "sol            0\n",
      "presmax        0\n",
      "presmin        0\n",
      "season_name    0\n",
      "dtype: int64\n"
     ]
    },
    {
     "data": {
      "image/png": "[encoded data removed]",
      "text/plain": [
       "<Figure size 432x288 with 2 Axes>"
      ]
     },
     "metadata": {
      "needs_background": "light"
     },
     "output_type": "display_data"
    }
   ],
   "source": [
    "import numpy\n",
    "import pandas as pd\n",
    "from numpy import arange\n",
    "from matplotlib import pyplot\n",
    "from pandas import read_csv\n",
    "from pandas import set_option\n",
    "from pandas.plotting import scatter_matrix\n",
    "from sklearn.preprocessing import StandardScaler\n",
    "from sklearn.model_selection import train_test_split\n",
    "from sklearn.model_selection import KFold\n",
    "from sklearn.model_selection import cross_val_score\n",
    "from sklearn.model_selection import GridSearchCV\n",
    "from sklearn.linear_model import LinearRegression\n",
    "from sklearn.linear_model import Lasso\n",
    "from sklearn.linear_model import ElasticNet\n",
    "from sklearn.tree import DecisionTreeRegressor\n",
    "from sklearn.neighbors import KNeighborsRegressor\n",
    "from sklearn.svm import SVR\n",
    "from sklearn.pipeline import Pipeline\n",
    "from sklearn.ensemble import RandomForestRegressor\n",
    "from sklearn.ensemble import GradientBoostingRegressor\n",
    "from sklearn.ensemble import ExtraTreesRegressor\n",
    "from sklearn.ensemble import AdaBoostRegressor\n",
    "from sklearn.metrics import mean_squared_error\n",
    "from sklearn.impute import SimpleImputer\n",
    "\n",
    "\n",
    "\n",
    "dfMergeMadrid = pd.read_csv('~/Proyectos/Python/ProyectoFinal/ProyectoBigData/datosContaminacionMadrid/JupiterNoteBook/merge.csv' , delimiter=';', na_values='?')\n",
    "\n",
    "print(dfMergeMadrid.shape)\n",
    "dfMergeMadrid.drop('indicativo', axis='columns', inplace=True)\n",
    "dfMergeMadrid.drop('fecha', axis='columns', inplace=True)\n",
    "\n",
    "\n",
    "#print(\"Las columnas del df son: --> \",dfMergeMadrid.columns)\n",
    "#print(\"Este es el encabezado -->\",dfMergeMadrid.head())\n",
    "print(\"Nulos del df -->\",dfMergeMadrid.isnull().sum())\n",
    "\n",
    "\n",
    "imputerNanValuesToMean = SimpleImputer(missing_values=numpy.nan, strategy='mean')\n",
    "#imputerNanValuesToMean.fit_transform(dfMergeMadrid['pm10'].values.reshape(-1,1))\n",
    "dfMergeMadrid['pm10'] = imputerNanValuesToMean.fit_transform(dfMergeMadrid['pm10'].values.reshape(-1,1))\n",
    "\n",
    "\n",
    "\n",
    "print(\"Nulos del df -->\",dfMergeMadrid.isnull().sum())\n",
    "\n",
    "\n",
    "\n",
    "\n",
    "# descripciones, cambia la precisión a 2 sitios\n",
    "#set_option('precision', 1)\n",
    "#print(dfMergeMadrid.describe())\n",
    "\n",
    "#dfMergeMadrid ['date'] = pd.to_numeric(dfMergeMadrid['date'], errors='coerce')\n",
    "\n",
    "#print(dfMergeMadrid.dtypes)\n",
    "\n",
    "\n",
    "\n",
    "### matriz de correlación\n",
    "fig = pyplot.figure()\n",
    "ax = fig.add_subplot(111)\n",
    "cax = ax.matshow(dfMergeMadrid.corr(), vmin=-1, vmax=1, interpolation='none')\n",
    "fig.colorbar(cax)\n",
    "ticks = arange(0,6,1)\n",
    "ax.set_xticks(ticks)\n",
    "ax.set_yticks(ticks)\n",
    "pyplot.show()"
   ]
  },
  {
   "cell_type": "markdown",
   "metadata": {},
   "source": [
    "Test puntual de algoritmos: Línea base\n",
    "\n",
    "En primera instancia, no tenemos idea de qué algoritmos funcionarán bien en este problema. Una intuición inicial sugiere que los algoritmos de regresión como Regresión lineal y ElasticNet pueden funcionar bien. También es posible que los árboles de decisión e incluso SVM lo hagan bien. No tengo idea. Diseñemos nuestra selección de prueba.\n",
    "\n",
    "Vamos a utilizar 10 veces la validación cruzada. El conjunto de datos no es demasiado pequeño y esta es una buena configuración para la selección de la prueba estándar. Evaluaremos los algoritmos utilizando la métrica de error cuadrático medio (MSE). MSE dará una idea general de cuán equivocadas son todas las predicciones (0 es perfecto).\n",
    "\n",
    "Creamos una línea de base de rendimiento en este problema y revisamos una serie de algoritmos diferentes. Seleccionaremos un conjunto de algoritmos diferentes capaces de trabajar en este problema de regresión. Los seis algoritmos seleccionados son:\n",
    "\n",
    "    Algoritmos lineales: Regresión lineal (LR), Regresión de lasso (LASSO) y ElasticNet (EN).\n",
    "    Algoritmos no lineales: árboles de clasificación y regresión (CART), Regresión de vectores de soporte (SVR) y k-vecinos más cercanos (KNN).\n",
    "\n"
   ]
  },
  {
   "cell_type": "markdown",
   "metadata": {},
   "source": [
    "# Evaluación de los algoritmos\n",
    "Dataset de validación de división (Split-out)\n",
    "\n",
    "Dejaremos 80-20, preparado para CV de 10-folds"
   ]
  },
  {
   "cell_type": "code",
   "execution_count": 2,
   "metadata": {},
   "outputs": [],
   "source": [
    "X = dfMergeMadrid.iloc[:,3:8]\n",
    "Y = dfMergeMadrid['pm10']\n",
    "validation_size = 0.20\n",
    "seed = 7\n",
    "X_train, X_validation, Y_train, Y_validation = train_test_split(X, Y, test_size=validation_size, random_state=seed)"
   ]
  },
  {
   "cell_type": "markdown",
   "metadata": {},
   "source": [
    "### Test puntual de algoritmos: Línea base\n",
    "Vamos a utilizar 10 veces la validación cruzada. El conjunto de datos no es demasiado pequeño y esta es una buena configuración para la selección de la prueba estándar. Evaluaremos los algoritmos utilizando la métrica de **error cuadrático medio (MSE)**. MSE dará una idea general de cuán equivocadas son todas las predicciones (0 es perfecto)."
   ]
  },
  {
   "cell_type": "code",
   "execution_count": 3,
   "metadata": {},
   "outputs": [],
   "source": [
    "num_folds = 10\n",
    "seed = 7\n",
    "scoring = 'neg_mean_squared_error'\n",
    "\n",
    "## c) Algoritmos de control/Test puntual. Usaremos 6 tipos:\n",
    "models = []\n",
    "models.append(('LR', LinearRegression()))\n",
    "models.append(('LASSO', Lasso()))\n",
    "models.append(('EN', ElasticNet()))\n",
    "models.append(('KNN', KNeighborsRegressor()))\n",
    "models.append(('CART', DecisionTreeRegressor()))\n",
    "models.append(('SVR', SVR(gamma='scale')))"
   ]
  },
  {
   "cell_type": "code",
   "execution_count": 4,
   "metadata": {},
   "outputs": [
    {
     "name": "stderr",
     "output_type": "stream",
     "text": [
      "/home/carlos/anaconda3/envs/ITT_BigData/lib/python3.8/site-packages/sklearn/model_selection/_split.py:293: FutureWarning: Setting a random_state has no effect since shuffle is False. This will raise an error in 0.24. You should leave random_state to its default (None), or set shuffle=True.\n",
      "  warnings.warn(\n",
      "/home/carlos/anaconda3/envs/ITT_BigData/lib/python3.8/site-packages/sklearn/model_selection/_split.py:293: FutureWarning: Setting a random_state has no effect since shuffle is False. This will raise an error in 0.24. You should leave random_state to its default (None), or set shuffle=True.\n",
      "  warnings.warn(\n",
      "/home/carlos/anaconda3/envs/ITT_BigData/lib/python3.8/site-packages/sklearn/model_selection/_split.py:293: FutureWarning: Setting a random_state has no effect since shuffle is False. This will raise an error in 0.24. You should leave random_state to its default (None), or set shuffle=True.\n",
      "  warnings.warn(\n",
      "/home/carlos/anaconda3/envs/ITT_BigData/lib/python3.8/site-packages/sklearn/model_selection/_split.py:293: FutureWarning: Setting a random_state has no effect since shuffle is False. This will raise an error in 0.24. You should leave random_state to its default (None), or set shuffle=True.\n",
      "  warnings.warn(\n"
     ]
    },
    {
     "name": "stdout",
     "output_type": "stream",
     "text": [
      "LR: -104.991415 (18.914181)\n",
      "LASSO: -105.934702 (19.696342)\n",
      "EN: -105.394574 (19.419579)\n",
      "KNN: -98.635063 (18.347026)\n"
     ]
    },
    {
     "name": "stderr",
     "output_type": "stream",
     "text": [
      "/home/carlos/anaconda3/envs/ITT_BigData/lib/python3.8/site-packages/sklearn/model_selection/_split.py:293: FutureWarning: Setting a random_state has no effect since shuffle is False. This will raise an error in 0.24. You should leave random_state to its default (None), or set shuffle=True.\n",
      "  warnings.warn(\n",
      "/home/carlos/anaconda3/envs/ITT_BigData/lib/python3.8/site-packages/sklearn/model_selection/_split.py:293: FutureWarning: Setting a random_state has no effect since shuffle is False. This will raise an error in 0.24. You should leave random_state to its default (None), or set shuffle=True.\n",
      "  warnings.warn(\n"
     ]
    },
    {
     "name": "stdout",
     "output_type": "stream",
     "text": [
      "CART: -155.287685 (31.146922)\n",
      "SVR: -153.805348 (20.486080)\n"
     ]
    }
   ],
   "source": [
    "### evaluamos cada modelo por turnos\n",
    "results = []\n",
    "names = []\n",
    "for name, model in models:\n",
    "\tkfold = KFold(n_splits=num_folds, random_state=seed)\n",
    "\tcv_results = cross_val_score(model, X_train, Y_train, cv=kfold, scoring=scoring)\n",
    "\tresults.append(cv_results)\n",
    "\tnames.append(name)\n",
    "\tmsg = \"%s: %f (%f)\" % (name, cv_results.mean(), cv_results.std())\n",
    "\tprint(msg)"
   ]
  },
  {
   "cell_type": "markdown",
   "metadata": {},
   "source": [
    "### - Comparación los algoritmos\n",
    "Habrá que mirar la distribución de puntajes en todos los *folds* de validación cruzada por cada algoritmo."
   ]
  },
  {
   "cell_type": "code",
   "execution_count": 5,
   "metadata": {},
   "outputs": [
    {
     "data": {
      "image/png": "[encoded data removed]",
      "text/plain": [
       "<Figure size 432x288 with 1 Axes>"
      ]
     },
     "metadata": {
      "needs_background": "light"
     },
     "output_type": "display_data"
    }
   ],
   "source": [
    "## d) Comparación los algoritmos, y escogemos el más preciso, que en este caso será SVR\n",
    "fig = pyplot.figure()\n",
    "fig.suptitle('Comparación de Algoritmos')\n",
    "ax = fig.add_subplot(111)\n",
    "pyplot.boxplot(results)\n",
    "ax.set_xticklabels(names)\n",
    "pyplot.show()"
   ]
  },
  {
   "cell_type": "markdown",
   "metadata": {},
   "source": [
    "\n",
    "### Estandarización del dataset\n",
    "Con la sospecha de que las diferentes escalas de los datos en bruto pueden afectar negativamente la capacidad de predicción de algunos de los algoritmos, evaluamos estos mismos algoritmos con una copia estandarizada del conjunto de datos. \n",
    "\n",
    "Es en este punto en donde los datos se transforman de tal manera que cada atributo tiene un **valor medio de 0 y una desviación estándar de 1**. \n",
    "\n",
    "También debemos evitar que se nos escapen datos cuando hacemos transformaciones. Una buena manera de evitarlo es usar **pipelines (tuberías)** que estandaricen los datos y construyan el modelo para cada *fold* en nuestra selección de prueba de validación cruzada. De esa manera podemos obtener una estimación justa de cómo podría funcionar cada modelo con datos estandarizados en datos no visibles."
   ]
  },
  {
   "cell_type": "code",
   "execution_count": 6,
   "metadata": {},
   "outputs": [
    {
     "name": "stderr",
     "output_type": "stream",
     "text": [
      "/home/carlos/anaconda3/envs/ITT_BigData/lib/python3.8/site-packages/sklearn/model_selection/_split.py:293: FutureWarning: Setting a random_state has no effect since shuffle is False. This will raise an error in 0.24. You should leave random_state to its default (None), or set shuffle=True.\n",
      "  warnings.warn(\n",
      "/home/carlos/anaconda3/envs/ITT_BigData/lib/python3.8/site-packages/sklearn/model_selection/_split.py:293: FutureWarning: Setting a random_state has no effect since shuffle is False. This will raise an error in 0.24. You should leave random_state to its default (None), or set shuffle=True.\n",
      "  warnings.warn(\n",
      "/home/carlos/anaconda3/envs/ITT_BigData/lib/python3.8/site-packages/sklearn/model_selection/_split.py:293: FutureWarning: Setting a random_state has no effect since shuffle is False. This will raise an error in 0.24. You should leave random_state to its default (None), or set shuffle=True.\n",
      "  warnings.warn(\n"
     ]
    },
    {
     "name": "stdout",
     "output_type": "stream",
     "text": [
      "ScLR: -104.991415 (18.914181)\n",
      "ScLASSO: -107.434237 (19.181499)\n",
      "ScEN: -108.894060 (18.721850)\n"
     ]
    },
    {
     "name": "stderr",
     "output_type": "stream",
     "text": [
      "/home/carlos/anaconda3/envs/ITT_BigData/lib/python3.8/site-packages/sklearn/model_selection/_split.py:293: FutureWarning: Setting a random_state has no effect since shuffle is False. This will raise an error in 0.24. You should leave random_state to its default (None), or set shuffle=True.\n",
      "  warnings.warn(\n",
      "/home/carlos/anaconda3/envs/ITT_BigData/lib/python3.8/site-packages/sklearn/model_selection/_split.py:293: FutureWarning: Setting a random_state has no effect since shuffle is False. This will raise an error in 0.24. You should leave random_state to its default (None), or set shuffle=True.\n",
      "  warnings.warn(\n",
      "/home/carlos/anaconda3/envs/ITT_BigData/lib/python3.8/site-packages/sklearn/model_selection/_split.py:293: FutureWarning: Setting a random_state has no effect since shuffle is False. This will raise an error in 0.24. You should leave random_state to its default (None), or set shuffle=True.\n",
      "  warnings.warn(\n"
     ]
    },
    {
     "name": "stdout",
     "output_type": "stream",
     "text": [
      "ScKNN: -95.958399 (15.611357)\n",
      "ScCART: -148.121754 (21.180488)\n",
      "ScSVR: -99.912951 (19.755263)\n"
     ]
    }
   ],
   "source": [
    "# Estandarización del dataset\n",
    "pipelines = []\n",
    "pipelines.append(('ScLR', Pipeline([('Scaler', StandardScaler()),('LR', LinearRegression())])))\n",
    "pipelines.append(('ScLASSO', Pipeline([('Scaler', StandardScaler()),('LASSO', Lasso())])))\n",
    "pipelines.append(('ScEN', Pipeline([('Scaler', StandardScaler()),('EN', ElasticNet())])))\n",
    "pipelines.append(('ScKNN', Pipeline([('Scaler', StandardScaler()),('KNN', KNeighborsRegressor())])))\n",
    "pipelines.append(('ScCART', Pipeline([('Scaler', StandardScaler()),('CART', DecisionTreeRegressor())])))\n",
    "pipelines.append(('ScSVR', Pipeline([('Scaler', StandardScaler()),('SVR', SVR(gamma='scale'))])))\n",
    "results = []\n",
    "names = []\n",
    "for name, model in pipelines:\n",
    "\tkfold = KFold(n_splits=num_folds, random_state=seed)\n",
    "\tcv_results = cross_val_score(model, X_train, Y_train, cv=kfold, scoring=scoring)\n",
    "\tresults.append(cv_results)\n",
    "\tnames.append(name)\n",
    "\tmsg = \"%s: %f (%f)\" % (name, cv_results.mean(), cv_results.std())\n",
    "\tprint(msg)"
   ]
  },
  {
   "cell_type": "code",
   "execution_count": 7,
   "metadata": {},
   "outputs": [
    {
     "data": {
      "image/png": "[encoded data removed]",
      "text/plain": [
       "<Figure size 432x288 with 1 Axes>"
      ]
     },
     "metadata": {
      "needs_background": "light"
     },
     "output_type": "display_data"
    }
   ],
   "source": [
    "## d) Comparación los algoritmos, y escogemos el más preciso\n",
    "fig = pyplot.figure()\n",
    "fig.suptitle('Comparación de escala de Algoritmos')\n",
    "ax = fig.add_subplot(111)\n",
    "pyplot.boxplot(results)\n",
    "ax.set_xticklabels(names)\n",
    "pyplot.show()"
   ]
  },
  {
   "cell_type": "markdown",
   "metadata": {},
   "source": [
    "# Mejorar la precisión del algoritmo KNN\n",
    "\n",
    "## a) Ajuste (tuning) del algoritmo\n",
    "Sabemos por los resultados del paso previo que **KNN** logra buenos resultados en una versión escalada del conjunto de datos; lo que tenemos es que mejorarlo. \n",
    "\n",
    "El valor predeterminado para el número de vecinos en **KNN es 7**. En este caso podemos usar una **grid search** (búsqueda de cuadrícula) para probar un conjunto de diferentes números de vecinos y ver si podemos mejorar la puntuación (hiper-parámetros). \n",
    "\n",
    "El siguiente ejemplo prueba valores *k* impares de 1 a 21, un rango arbitrario que cubre un valor bueno conocido de 7. Cada valor *k* (**n_neighbors**) se evalúa utilizando una validación cruzada de 10 veces en una copia estandarizada del conjunto de datos de entrenamiento. \n",
    "\n",
    "Vamos a ver cómo el valos de *k=3* es el mejor de lejos (menor MSE)."
   ]
  },
  {
   "cell_type": "code",
   "execution_count": 8,
   "metadata": {},
   "outputs": [
    {
     "name": "stderr",
     "output_type": "stream",
     "text": [
      "/home/carlos/anaconda3/envs/ITT_BigData/lib/python3.8/site-packages/sklearn/model_selection/_split.py:293: FutureWarning: Setting a random_state has no effect since shuffle is False. This will raise an error in 0.24. You should leave random_state to its default (None), or set shuffle=True.\n",
      "  warnings.warn(\n"
     ]
    },
    {
     "name": "stdout",
     "output_type": "stream",
     "text": [
      "Mejor: -93.209124 usando {'n_neighbors': 9}\n",
      "-155.157676 (24.883452) with: {'n_neighbors': 1}\n",
      "-106.221013 (18.287041) with: {'n_neighbors': 3}\n",
      "-96.138162 (15.303753) with: {'n_neighbors': 5}\n",
      "-94.185773 (17.578078) with: {'n_neighbors': 7}\n",
      "-93.209124 (17.369838) with: {'n_neighbors': 9}\n",
      "-93.741621 (18.934847) with: {'n_neighbors': 11}\n",
      "-93.435922 (18.912644) with: {'n_neighbors': 13}\n",
      "-94.050137 (17.878925) with: {'n_neighbors': 15}\n",
      "-94.175893 (17.698442) with: {'n_neighbors': 17}\n",
      "-94.437196 (18.344935) with: {'n_neighbors': 19}\n",
      "-94.898270 (18.693295) with: {'n_neighbors': 21}\n"
     ]
    },
    {
     "name": "stderr",
     "output_type": "stream",
     "text": [
      "/home/carlos/anaconda3/envs/ITT_BigData/lib/python3.8/site-packages/sklearn/model_selection/_search.py:847: FutureWarning: The parameter 'iid' is deprecated in 0.22 and will be removed in 0.24.\n",
      "  warnings.warn(\n"
     ]
    }
   ],
   "source": [
    "scaler = StandardScaler().fit(X_train)\n",
    "rescaledX = scaler.transform(X_train)\n",
    "k_values = numpy.array([1,3,5,7,9,11,13,15,17,19,21])\n",
    "param_grid = dict(n_neighbors=k_values)\n",
    "model = KNeighborsRegressor()\n",
    "kfold = KFold(n_splits=num_folds, random_state=seed)\n",
    "grid = GridSearchCV(estimator=model, param_grid=param_grid, scoring=scoring, iid=False, cv=kfold)\n",
    "grid_result = grid.fit(rescaledX, Y_train)\n",
    "\n",
    "print(\"Mejor: %f usando %s\" % (grid_result.best_score_, grid_result.best_params_))\n",
    "means = grid_result.cv_results_['mean_test_score']\n",
    "stds = grid_result.cv_results_['std_test_score']\n",
    "params = grid_result.cv_results_['params']\n",
    "for mean, stdev, param in zip(means, stds, params):\n",
    "    print(\"%f (%f) with: %r\" % (mean, stdev, param))"
   ]
  },
  {
   "cell_type": "markdown",
   "metadata": {},
   "source": [
    "Como podemos observar el mejor resultado lo obtenemos para k=9."
   ]
  },
  {
   "cell_type": "markdown",
   "metadata": {},
   "source": [
    "## b) Ensembles (Conjuntos)\n",
    "\n",
    "Recordamos de nuevo que otra forma para mejorar el rendimiento de los algoritmos es mediante el uso de métodos conjuntos o *ensembles*. Para ello vamos a evaluar 4 algoritmos de ML por conjuntos, 2 métodos de *boosting* o impulso y 2 de *bagging* o embolsado:\n",
    "\n",
    "- **Métodos de *boosting* (impulso)**: AdaBoost (AB) y Gradient Boosting (GBM).\n",
    "- **Métodos de *bagging* (embolsado)**: bosques aleatorios (RF) y árboles adicionales (ET).\n",
    "\n",
    "Usaremos la misma selección de prueba que antes, 10-fold la validación cruzada y las pipelines que estandarizan los datos de entrenamiento para cada pliegue."
   ]
  },
  {
   "cell_type": "code",
   "execution_count": 9,
   "metadata": {},
   "outputs": [
    {
     "name": "stderr",
     "output_type": "stream",
     "text": [
      "/home/carlos/anaconda3/envs/ITT_BigData/lib/python3.8/site-packages/sklearn/model_selection/_split.py:293: FutureWarning: Setting a random_state has no effect since shuffle is False. This will raise an error in 0.24. You should leave random_state to its default (None), or set shuffle=True.\n",
      "  warnings.warn(\n"
     ]
    },
    {
     "name": "stdout",
     "output_type": "stream",
     "text": [
      "ScaledAB: -106.252729 (18.713181)\n"
     ]
    },
    {
     "name": "stderr",
     "output_type": "stream",
     "text": [
      "/home/carlos/anaconda3/envs/ITT_BigData/lib/python3.8/site-packages/sklearn/model_selection/_split.py:293: FutureWarning: Setting a random_state has no effect since shuffle is False. This will raise an error in 0.24. You should leave random_state to its default (None), or set shuffle=True.\n",
      "  warnings.warn(\n"
     ]
    },
    {
     "name": "stdout",
     "output_type": "stream",
     "text": [
      "ScaledGBM: -85.683521 (19.504565)\n"
     ]
    },
    {
     "name": "stderr",
     "output_type": "stream",
     "text": [
      "/home/carlos/anaconda3/envs/ITT_BigData/lib/python3.8/site-packages/sklearn/model_selection/_split.py:293: FutureWarning: Setting a random_state has no effect since shuffle is False. This will raise an error in 0.24. You should leave random_state to its default (None), or set shuffle=True.\n",
      "  warnings.warn(\n"
     ]
    },
    {
     "name": "stdout",
     "output_type": "stream",
     "text": [
      "ScaledRF: -86.041758 (18.360555)\n"
     ]
    },
    {
     "name": "stderr",
     "output_type": "stream",
     "text": [
      "/home/carlos/anaconda3/envs/ITT_BigData/lib/python3.8/site-packages/sklearn/model_selection/_split.py:293: FutureWarning: Setting a random_state has no effect since shuffle is False. This will raise an error in 0.24. You should leave random_state to its default (None), or set shuffle=True.\n",
      "  warnings.warn(\n"
     ]
    },
    {
     "name": "stdout",
     "output_type": "stream",
     "text": [
      "ScaledET: -85.235937 (17.926888)\n"
     ]
    }
   ],
   "source": [
    "ensembles = []\n",
    "ensembles.append(('ScaledAB', Pipeline([('Scaler', StandardScaler()),('AB', AdaBoostRegressor())])))\n",
    "ensembles.append(('ScaledGBM', Pipeline([('Scaler', StandardScaler()),('GBM', GradientBoostingRegressor())])))\n",
    "ensembles.append(('ScaledRF', Pipeline([('Scaler', StandardScaler()),('RF', RandomForestRegressor(n_estimators=100))])))\n",
    "ensembles.append(('ScaledET', Pipeline([('Scaler', StandardScaler()),('ET', ExtraTreesRegressor(n_estimators=100))])))\n",
    "results = []\n",
    "names = []\n",
    "for name, model in ensembles:\n",
    "\tkfold = KFold(n_splits=num_folds, random_state=seed)\n",
    "\tcv_results = cross_val_score(model, X_train, Y_train, cv=kfold, scoring=scoring)\n",
    "\tresults.append(cv_results)\n",
    "\tnames.append(name)\n",
    "\tmsg = \"%s: %f (%f)\" % (name, cv_results.mean(), cv_results.std())\n",
    "\tprint(msg)"
   ]
  },
  {
   "cell_type": "markdown",
   "metadata": {},
   "source": [
    "### Ajuste del GBM escalado\n",
    "\n",
    "El número que viene por defecto de etapas de *boosting* a realizar (n_estimators) es de 100. Este es un buen parámetro candidato para el RF. Sin embargo, en muchas ocasiones, **cuanto mayor sea el número de etapas, mejor será el rendimiento pero mayor será el tiempo de entrenamiento**. \n",
    "\n",
    "Hemos realizado un *grid search* sobre **n_estimators** de 50 a 400 con incrementos de 50 y verificamos cada configuración utilizando una validación cruzada de 10-folds."
   ]
  },
  {
   "cell_type": "code",
   "execution_count": 10,
   "metadata": {},
   "outputs": [
    {
     "name": "stderr",
     "output_type": "stream",
     "text": [
      "/home/carlos/anaconda3/envs/ITT_BigData/lib/python3.8/site-packages/sklearn/model_selection/_split.py:293: FutureWarning: Setting a random_state has no effect since shuffle is False. This will raise an error in 0.24. You should leave random_state to its default (None), or set shuffle=True.\n",
      "  warnings.warn(\n",
      "/home/carlos/anaconda3/envs/ITT_BigData/lib/python3.8/site-packages/sklearn/model_selection/_search.py:847: FutureWarning: The parameter 'iid' is deprecated in 0.22 and will be removed in 0.24.\n",
      "  warnings.warn(\n"
     ]
    },
    {
     "name": "stdout",
     "output_type": "stream",
     "text": [
      "Mejor: -84.962589 usando {'n_estimators': 150}\n",
      "-86.722760 (17.899343) with: {'n_estimators': 50}\n",
      "-85.413835 (17.875861) with: {'n_estimators': 100}\n",
      "-84.962589 (18.044237) with: {'n_estimators': 150}\n",
      "-85.379350 (18.470804) with: {'n_estimators': 200}\n",
      "-85.423552 (18.748669) with: {'n_estimators': 250}\n",
      "-85.463935 (18.574728) with: {'n_estimators': 300}\n",
      "-85.291024 (18.423261) with: {'n_estimators': 350}\n",
      "-85.217003 (18.373059) with: {'n_estimators': 400}\n"
     ]
    }
   ],
   "source": [
    "scaler = StandardScaler().fit(X_train)\n",
    "rescaledX = scaler.transform(X_train)\n",
    "param_grid = dict(n_estimators=numpy.array([50,100,150,200,250,300,350,400]))\n",
    "model = RandomForestRegressor(random_state=seed)\n",
    "kfold = KFold(n_splits=num_folds, random_state=seed)\n",
    "grid = GridSearchCV(estimator=model, param_grid=param_grid, scoring=scoring, iid=False, cv=kfold)\n",
    "grid_result = grid.fit(rescaledX, Y_train)\n",
    "\n",
    "print(\"Mejor: %f usando %s\" % (grid_result.best_score_, grid_result.best_params_))\n",
    "means = grid_result.cv_results_['mean_test_score']\n",
    "stds = grid_result.cv_results_['std_test_score']\n",
    "params = grid_result.cv_results_['params']\n",
    "for mean, stdev, param in zip(means, stds, params):\n",
    "    print(\"%f (%f) with: %r\" % (mean, stdev, param))"
   ]
  },
  {
   "cell_type": "markdown",
   "metadata": {},
   "source": [
    "**Podemos ver que la mejor configuración es con n_estimators=150, que nos da un MSE de -84.962589**."
   ]
  },
  {
   "cell_type": "markdown",
   "metadata": {},
   "source": [
    "# 6. Finalizar el modelo\n",
    "## a) Predicciones sobre el conjunto de datos de validación\n"
   ]
  },
  {
   "cell_type": "code",
   "execution_count": 11,
   "metadata": {},
   "outputs": [
    {
     "data": {
      "text/plain": [
       "GradientBoostingRegressor(n_estimators=400, random_state=7)"
      ]
     },
     "execution_count": 11,
     "metadata": {},
     "output_type": "execute_result"
    }
   ],
   "source": [
    "## Preparamos el modelo y lo entrenamos sobre el dataset completo de entrenamiento\n",
    "scaler = StandardScaler().fit(X_train)\n",
    "rescaledX = scaler.transform(X_train)\n",
    "model = GradientBoostingRegressor(random_state=seed, n_estimators=400)\n",
    "model.fit(rescaledX, Y_train)"
   ]
  },
  {
   "cell_type": "code",
   "execution_count": 12,
   "metadata": {},
   "outputs": [
    {
     "name": "stdout",
     "output_type": "stream",
     "text": [
      "86.91754579286382\n"
     ]
    }
   ],
   "source": [
    "### Transformamos el dataset de validación, con el escalado que trabajamos\n",
    "rescaledValidationX = scaler.transform(X_validation)\n",
    "predicciones = model.predict(rescaledValidationX)\n",
    "print(mean_squared_error(Y_validation, predicciones))"
   ]
  },
  {
   "cell_type": "code",
   "execution_count": null,
   "metadata": {},
   "outputs": [],
   "source": [
    "**Nos sale un MSE cercano a nuestra estimación de -9.33**"
   ]
  }
 ],
 "metadata": {
  "kernelspec": {
   "display_name": "Python 3",
   "language": "python",
   "name": "python3"
  },
  "language_info": {
   "codemirror_mode": {
    "name": "ipython",
    "version": 3
   },
   "file_extension": ".py",
   "mimetype": "text/x-python",
   "name": "python",
   "nbconvert_exporter": "python",
   "pygments_lexer": "ipython3",
   "version": "3.8.2"
  }
 },
 "nbformat": 4,
 "nbformat_minor": 4
}
