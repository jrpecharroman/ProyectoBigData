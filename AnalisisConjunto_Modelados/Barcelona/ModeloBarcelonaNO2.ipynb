{
 "cells": [
  {
   "cell_type": "markdown",
   "metadata": {},
   "source": [
    "# Modelo para predicción NO2 en Barcelona"
   ]
  },
  {
   "cell_type": "markdown",
   "metadata": {},
   "source": [
    "## Preprocesamiento, evaluación de algoritmos, construcción de modelo de predicción"
   ]
  },
  {
   "cell_type": "markdown",
   "metadata": {},
   "source": [
    "Realizamos primero un estudio completo cargando el dataset mergeado trabajado con selección de 5 características, y después lo repetiremos con los datos sin selección de características para comparar."
   ]
  },
  {
   "cell_type": "code",
   "execution_count": 1,
   "metadata": {},
   "outputs": [],
   "source": [
    "#Importamos las librerías que vamos a usar para los distintos pasos del problema\n",
    "\n",
    "import numpy as np\n",
    "import pandas as pd\n",
    "from numpy import set_printoptions\n",
    "#Visualización\n",
    "from pandas.plotting import scatter_matrix\n",
    "import matplotlib.pyplot as plt\n",
    "import seaborn as sns\n",
    "#Preprocesamiento\n",
    "from sklearn.preprocessing import MinMaxScaler\n",
    "from sklearn.preprocessing import StandardScaler\n",
    "from sklearn.preprocessing import Normalizer\n",
    "from sklearn.preprocessing import Binarizer\n",
    "#Remuestreo\n",
    "from sklearn.model_selection import train_test_split;\n",
    "from sklearn.model_selection import KFold\n",
    "from sklearn.model_selection import cross_val_score\n",
    "#Algoritmos de Regresión Lineal\n",
    "from sklearn.linear_model import LinearRegression\n",
    "from sklearn.linear_model import Lasso\n",
    "from sklearn.linear_model import Ridge\n",
    "from sklearn.linear_model import ElasticNet\n",
    "#Algoritmos de Regresión No Lineal\n",
    "from sklearn.tree import DecisionTreeRegressor\n",
    "from sklearn.neighbors import KNeighborsRegressor\n",
    "from sklearn.svm import SVR\n",
    "#Métricas de evaluación de algoritmos\n",
    "from sklearn import metrics\n",
    "from sklearn.metrics import confusion_matrix\n",
    "from sklearn.metrics import classification_report\n",
    "#Ensamblamiento Regresión\n",
    "from sklearn.ensemble import AdaBoostRegressor\n",
    "from sklearn.ensemble import GradientBoostingRegressor\n",
    "from sklearn.ensemble import RandomForestRegressor\n",
    "from sklearn.ensemble import ExtraTreesRegressor\n",
    "#Tuning\n",
    "from sklearn.model_selection import GridSearchCV\n",
    "from sklearn.model_selection import RandomizedSearchCV\n",
    "#Pipelines\n",
    "from sklearn.pipeline import Pipeline\n",
    "#Metricas\n",
    "from sklearn.metrics import mean_squared_error\n",
    "#Serializar (guardar y cerrar modelo)\n",
    "from joblib import dump\n"
   ]
  },
  {
   "cell_type": "markdown",
   "metadata": {},
   "source": [
    "## 1) Carga del dataset mergeado trabajado CON selección de características para NO2"
   ]
  },
  {
   "cell_type": "code",
   "execution_count": 2,
   "metadata": {},
   "outputs": [
    {
     "name": "stdout",
     "output_type": "stream",
     "text": [
      "Index(['no2', 'year', 'month', 'day', 'tmed', 'velmedia', 'racha', 'presmax',\n",
      "       'week', 'season', 'season_name', 'estado_trafico', 'diadelasemana',\n",
      "       'findesemana'],\n",
      "      dtype='object')\n",
      "                  no2  year  month  day  tmed  velmedia  racha  presmax  week  \\\n",
      "date                                                                            \n",
      "2018-01-01  24.000000  2018      1    1  12.8       4.2   18.1   1027.2     1   \n",
      "2018-01-02  10.000000  2018      1    2  14.6       3.3   10.3   1025.4     1   \n",
      "2018-01-03   7.000000  2018      1    3  17.9       3.9   18.3   1023.0     1   \n",
      "2018-01-04  14.000000  2018      1    4  19.2       5.0   20.0   1019.0     1   \n",
      "2018-01-05  20.000000  2018      1    5  16.4       3.3   13.3   1015.2     1   \n",
      "...               ...   ...    ...  ...   ...       ...    ...      ...   ...   \n",
      "2019-12-27  18.000000  2019     12   27  12.0       1.9    8.1   1030.0    52   \n",
      "2019-12-28  16.000000  2019     12   28  11.0       2.5    5.8   1032.1    52   \n",
      "2019-12-29  17.641379  2019     12   29  12.3       1.9    4.2   1033.1    52   \n",
      "2019-12-30  17.641379  2019     12   30  11.6       1.9    6.1   1033.9     1   \n",
      "2019-12-31  15.000000  2019     12   31  10.8       2.5    6.7   1033.8     1   \n",
      "\n",
      "            season season_name  estado_trafico  diadelasemana  findesemana  \n",
      "date                                                                        \n",
      "2018-01-01       1      Winter        1.501611              0            0  \n",
      "2018-01-02       1      Winter        1.855361              1            0  \n",
      "2018-01-03       1      Winter        1.914663              2            0  \n",
      "2018-01-04       1      Winter        1.917587              3            0  \n",
      "2018-01-05       1      Winter        1.933171              4            0  \n",
      "...            ...         ...             ...            ...          ...  \n",
      "2019-12-27       1      Winter        1.879245              4            0  \n",
      "2019-12-28       1      Winter        1.677568              5            1  \n",
      "2019-12-29       1      Winter        1.567480              6            1  \n",
      "2019-12-30       1      Winter        1.895104              0            0  \n",
      "2019-12-31       1      Winter        1.804372              1            0  \n",
      "\n",
      "[730 rows x 14 columns]\n"
     ]
    }
   ],
   "source": [
    "#cogemos el dataset trabajado anteriormente con los datos mergeados y habiendo hecho una reducción de variables\n",
    "url_fichero_mercscno2 = './DatosMergeadosBarcelona_ConSeleccionCaract_ParaNO2.csv'\n",
    "dfMergeadoSelCaractNO2 = pd.read_csv(url_fichero_mercscno2)\n",
    "dfMergeadoSelCaractNO2 = dfMergeadoSelCaractNO2.set_index('date')\n",
    "print(dfMergeadoSelCaractNO2.columns)\n",
    "print(dfMergeadoSelCaractNO2)"
   ]
  },
  {
   "cell_type": "code",
   "execution_count": 3,
   "metadata": {},
   "outputs": [
    {
     "name": "stdout",
     "output_type": "stream",
     "text": [
      "Index(['no2', 'tmed', 'velmedia', 'racha', 'presmax', 'estado_trafico'], dtype='object')\n"
     ]
    }
   ],
   "source": [
    "#Eliminamos todos los campos que no son de meteorología o de tráfico (los que son de fechas)\n",
    "dfMergeadoSelCaractNO2 = dfMergeadoSelCaractNO2.drop(columns=['year','month','day','week','season','season_name','diadelasemana',\n",
    "       'findesemana'])\n",
    "print(dfMergeadoSelCaractNO2.columns)"
   ]
  },
  {
   "cell_type": "markdown",
   "metadata": {},
   "source": [
    "## 1.1- Evaluación de los algoritmos\n",
    "### Dataset de validación de división (Split-out)\n",
    "**Dejaremos 80-20, preparado para CV de 10-folds** \n",
    "\n",
    "Vamos a separar el dataset en un 80 (train) - 20 (validation). Con el de 80 (train) haremos validación cruzada, y con el de 20 haremos la validación final.\n"
   ]
  },
  {
   "cell_type": "code",
   "execution_count": 4,
   "metadata": {},
   "outputs": [
    {
     "name": "stdout",
     "output_type": "stream",
     "text": [
      "X_Train_1:  (584, 5)\n",
      "X_Validation_1:  (146, 5)\n"
     ]
    }
   ],
   "source": [
    "array1 = dfMergeadoSelCaractNO2.values\n",
    "X_1 = array1[:,1:]\n",
    "y = array1[:,0]\n",
    "validation_size = 0.20\n",
    "seed = 7\n",
    "X_train_1, X_validation_1, y_train_1, y_validation_1 = train_test_split(X_1, y, test_size=validation_size, random_state=seed)\n",
    "print('X_Train_1: ', X_train_1.shape)\n",
    "print('X_Validation_1: ', X_validation_1.shape)"
   ]
  },
  {
   "cell_type": "markdown",
   "metadata": {},
   "source": [
    "Vamos a probar los siguientes algoritmos de clasificación:\n",
    "\n",
    "- Regresión lineal (LR)\n",
    "- Regularización de Regresión Lasso (L1)(LASSO)\n",
    "- Regularización de Regresión ElasticNet (EN)\n",
    "- k-vecinos más cercanos (KNN)\n",
    "- Árboles de decisión de regresión (CART)\n",
    "- Regresión de vectores de soporte (SVR)\n",
    "\n",
    "Usaremos una validación cruzada probando con diversos nº de folds entre 3 y 10 (la cantidad de datos que tenemos no es muy grande, y no sabemos bien con cuántos tendremos más precisión) y mediremos la precisión de los algoritmos mediante la métrica 'neg_mean_squared_error'"
   ]
  },
  {
   "cell_type": "markdown",
   "metadata": {},
   "source": [
    "**Inicialmente vamos a probar los algoritmos sobre los datos sin ningún preprocesamiento: no les hemos estandarizado ni reescalado.**"
   ]
  },
  {
   "cell_type": "code",
   "execution_count": 5,
   "metadata": {},
   "outputs": [
    {
     "name": "stdout",
     "output_type": "stream",
     "text": [
      "\u001b[1mPrecisiones con 3 splits\u001b[0m\n",
      "LR: -30.779535 (2.527162)\n",
      "LASSO: -32.992471 (1.738480)\n",
      "EN: -32.805915 (1.676302)\n",
      "KNN: -38.887478 (1.082396)\n",
      "CART: -59.713752 (3.535806)\n",
      "SVR: -38.357296 (2.991149)\n",
      "--------------------------\n",
      "\u001b[1mPrecisiones con 5 splits\u001b[0m\n",
      "LR: -30.784922 (3.910747)\n",
      "LASSO: -33.204535 (2.987693)\n",
      "EN: -33.004160 (2.985346)\n",
      "KNN: -38.155778 (4.227903)\n",
      "CART: -57.374441 (4.984103)\n",
      "SVR: -38.284341 (3.365732)\n",
      "--------------------------\n",
      "\u001b[1mPrecisiones con 7 splits\u001b[0m\n",
      "LR: -30.488973 (5.367795)\n",
      "LASSO: -32.964898 (4.594451)\n",
      "EN: -32.735846 (4.437180)\n",
      "KNN: -37.630550 (6.058388)\n",
      "CART: -62.350614 (12.248959)\n",
      "SVR: -38.397057 (6.976811)\n",
      "--------------------------\n",
      "\u001b[1mPrecisiones con 10 splits\u001b[0m\n",
      "LR: -30.764054 (6.105466)\n",
      "LASSO: -33.090919 (4.920338)\n",
      "EN: -32.913036 (4.963290)\n",
      "KNN: -37.680894 (7.469929)\n",
      "CART: -55.201350 (9.512154)\n",
      "SVR: -38.279233 (5.492201)\n",
      "--------------------------\n"
     ]
    }
   ],
   "source": [
    "## Algoritmos de control/Test puntual. Usaremos 6 tipos:\n",
    "models = []\n",
    "models.append(('LR', LinearRegression()))\n",
    "models.append(('LASSO', Lasso()))\n",
    "models.append(('EN', ElasticNet()))\n",
    "models.append(('KNN', KNeighborsRegressor()))\n",
    "models.append(('CART', DecisionTreeRegressor()))\n",
    "models.append(('SVR', SVR(gamma='scale')))\n",
    "\n",
    "#En un diccionario 'allresults' vamos guardando los resultados de los modelos para los diversos cv con 3,5,7 y 10 folds\n",
    "\n",
    "allresults = {}\n",
    "names = []\n",
    "for nsplits in (3,5,7,10):\n",
    "    print('\\033[1m' + 'Precisiones con %d splits' % nsplits + '\\033[0m')\n",
    "    results = []\n",
    "    for name, model in models:\n",
    "        kfold = KFold(n_splits=nsplits, shuffle=True, random_state=seed)\n",
    "        cv_results = cross_val_score(model, X_train_1, y_train_1, cv=kfold, scoring='neg_mean_squared_error')\n",
    "        results.append(cv_results)\n",
    "        names.append(name)\n",
    "        msg = \"%s: %f (%f)\" % (name, cv_results.mean(), cv_results.std())\n",
    "        print(msg)\n",
    "    print('--------------------------')\n",
    "    allresults[nsplits] = results"
   ]
  },
  {
   "cell_type": "code",
   "execution_count": 6,
   "metadata": {},
   "outputs": [
    {
     "data": {
      "image/png": "[encoded data removed]",
      "text/plain": [
       "<Figure size 432x288 with 1 Axes>"
      ]
     },
     "metadata": {
      "needs_background": "light"
     },
     "output_type": "display_data"
    }
   ],
   "source": [
    "fig = plt.figure()\n",
    "fig.suptitle('Comparación de Algoritmos con 7 folds')\n",
    "ax = fig.add_subplot(111)\n",
    "plt.boxplot(allresults[7])\n",
    "ax.set_xticklabels(names)\n",
    "plt.show()"
   ]
  },
  {
   "cell_type": "markdown",
   "metadata": {},
   "source": [
    "El mejor algoritmo de momento es el LR con 7 folds para el CV"
   ]
  },
  {
   "cell_type": "markdown",
   "metadata": {},
   "source": [
    "**Trabajemos ahora con una estandarización para revisar su capacidad utilizando una copia estandarizada de los datos**.\n",
    "\n",
    "### Estandarización del dataset\n",
    "Con la sospecha de que las diferentes escalas de los datos en bruto pueden afectar negativamente la capacidad de predicción de algunos de los algoritmos, evaluamos estos mismos algoritmos con una copia estandarizada del conjunto de datos. \n",
    "\n",
    "Es en este punto en donde los datos se transforman de tal manera que cada atributo tiene un **valor medio de 0 y una desviación estándar de 1**. \n",
    "\n",
    "También debemos evitar que se nos escapen datos cuando hacemos transformaciones. Una buena manera de evitarlo es usar **pipelines (tuberías)** que estandaricen los datos y construyan el modelo para cada *fold* en nuestra selección de prueba de validación cruzada. De esa manera podemos obtener una estimación justa de cómo podría funcionar cada modelo con datos estandarizados en datos no visibles."
   ]
  },
  {
   "cell_type": "code",
   "execution_count": 7,
   "metadata": {},
   "outputs": [
    {
     "name": "stdout",
     "output_type": "stream",
     "text": [
      "\u001b[1mPrecisiones con 3 splits\u001b[0m\n",
      "ScLR: -30.779535 (2.527162)\n",
      "ScLASSO: -34.231844 (3.061862)\n",
      "ScEN: -32.469413 (2.595273)\n",
      "ScKNN: -34.449918 (3.316046)\n",
      "ScCART: -58.073207 (5.216288)\n",
      "ScSVR: -31.814246 (2.305146)\n",
      "--------------------------\n",
      "\u001b[1mPrecisiones con 5 splits\u001b[0m\n",
      "ScLR: -30.784922 (3.910747)\n",
      "ScLASSO: -34.260591 (3.262282)\n",
      "ScEN: -32.582769 (3.198942)\n",
      "ScKNN: -33.458248 (5.556773)\n",
      "ScCART: -56.471556 (3.586327)\n",
      "ScSVR: -31.473907 (3.435215)\n",
      "--------------------------\n",
      "\u001b[1mPrecisiones con 7 splits\u001b[0m\n",
      "ScLR: -30.488973 (5.367795)\n",
      "ScLASSO: -34.005533 (6.235281)\n",
      "ScEN: -32.396821 (5.800784)\n",
      "ScKNN: -32.987069 (7.680175)\n",
      "ScCART: -62.195656 (10.174175)\n",
      "ScSVR: -31.296792 (5.947563)\n",
      "--------------------------\n",
      "\u001b[1mPrecisiones con 10 splits\u001b[0m\n",
      "ScLR: -30.764054 (6.105466)\n",
      "ScLASSO: -34.287192 (5.035405)\n",
      "ScEN: -32.552521 (5.162949)\n",
      "ScKNN: -32.349421 (7.147831)\n",
      "ScCART: -55.345977 (11.682323)\n",
      "ScSVR: -31.440974 (6.064686)\n",
      "--------------------------\n"
     ]
    }
   ],
   "source": [
    "# Estandarización del dataset\n",
    "pipelines = []\n",
    "pipelines.append(('ScLR', Pipeline([('Scaler', StandardScaler()),('LR', LinearRegression())])))\n",
    "pipelines.append(('ScLASSO', Pipeline([('Scaler', StandardScaler()),('LASSO', Lasso())])))\n",
    "pipelines.append(('ScEN', Pipeline([('Scaler', StandardScaler()),('EN', ElasticNet())])))\n",
    "pipelines.append(('ScKNN', Pipeline([('Scaler', StandardScaler()),('KNN', KNeighborsRegressor())])))\n",
    "pipelines.append(('ScCART', Pipeline([('Scaler', StandardScaler()),('CART', DecisionTreeRegressor())])))\n",
    "pipelines.append(('ScSVR', Pipeline([('Scaler', StandardScaler()),('SVR', SVR(gamma='scale'))])))\n",
    "\n",
    "allresults = {}\n",
    "names = []\n",
    "for nsplits in (3,5,7,10):\n",
    "    print('\\033[1m' + 'Precisiones con %d splits' % nsplits + '\\033[0m')\n",
    "    results = []\n",
    "    for name, model in pipelines:\n",
    "        kfold = KFold(n_splits=nsplits, shuffle=True, random_state=seed)\n",
    "        cv_results = cross_val_score(model, X_train_1, y_train_1, cv=kfold, scoring='neg_mean_squared_error')\n",
    "        results.append(cv_results)\n",
    "        names.append(name)\n",
    "        msg = \"%s: %f (%f)\" % (name, cv_results.mean(), cv_results.std())\n",
    "        print(msg)\n",
    "    print('--------------------------')\n",
    "    allresults[nsplits] = results"
   ]
  },
  {
   "cell_type": "markdown",
   "metadata": {},
   "source": [
    "No obtenemos resultados mejores"
   ]
  },
  {
   "cell_type": "markdown",
   "metadata": {},
   "source": [
    "**Ahora revisamos cómo funciona si usamos una copia de los datos reescalados**\n",
    "\n",
    "### Reescalado del dataset (entre 0 y 1)\n",
    "Evaluaremos ahora los algoritmos habiendo reescalado los datos entre 0 y 1. Cuando los datos se componen de atributos con diferentes escalas, muchos algoritmos de aprendizaje automático pueden beneficiarse de volver a escalar los atributos para que todos tengan la misma escala\n",
    "\n",
    "Usaremos igualmente pipelines (tuberías) que reescalen los datos y construyan el modelo para cada fold en nuestra selección de prueba de validación cruzada."
   ]
  },
  {
   "cell_type": "code",
   "execution_count": 8,
   "metadata": {},
   "outputs": [
    {
     "name": "stdout",
     "output_type": "stream",
     "text": [
      "\u001b[1mPrecisiones con 3 splits\u001b[0m\n",
      "mMLR: -30.779535 (2.527162)\n",
      "mMLASSO: -38.218334 (3.175546)\n",
      "mMEN: -38.218334 (3.175546)\n",
      "mMKNN: -34.336146 (3.278634)\n",
      "mMCART: -58.358861 (6.756808)\n",
      "mMSVR: -31.522929 (2.480197)\n",
      "--------------------------\n",
      "\u001b[1mPrecisiones con 5 splits\u001b[0m\n",
      "mMLR: -30.784922 (3.910747)\n",
      "mMLASSO: -38.176349 (3.322022)\n",
      "mMEN: -38.176349 (3.322022)\n",
      "mMKNN: -33.132179 (5.066969)\n",
      "mMCART: -55.616823 (1.812351)\n",
      "mMSVR: -31.036212 (3.729429)\n",
      "--------------------------\n",
      "\u001b[1mPrecisiones con 7 splits\u001b[0m\n",
      "mMLR: -30.488973 (5.367795)\n",
      "mMLASSO: -38.184250 (6.463941)\n",
      "mMEN: -38.184250 (6.463941)\n",
      "mMKNN: -32.791205 (6.996671)\n",
      "mMCART: -63.176333 (12.265684)\n",
      "mMSVR: -30.903019 (5.972852)\n",
      "--------------------------\n",
      "\u001b[1mPrecisiones con 10 splits\u001b[0m\n",
      "mMLR: -30.764054 (6.105466)\n",
      "mMLASSO: -38.180183 (4.940528)\n",
      "mMEN: -38.180183 (4.940528)\n",
      "mMKNN: -32.573670 (6.484197)\n",
      "mMCART: -53.555151 (10.158713)\n",
      "mMSVR: -30.998492 (6.070115)\n",
      "--------------------------\n"
     ]
    }
   ],
   "source": [
    "# Reescalado del dataset\n",
    "pipelines = []\n",
    "pipelines.append(('mMLR', Pipeline([('Scaler', MinMaxScaler()),('LR', LinearRegression())])))\n",
    "pipelines.append(('mMLASSO', Pipeline([('Scaler', MinMaxScaler()),('LASSO', Lasso())])))\n",
    "pipelines.append(('mMEN', Pipeline([('Scaler', MinMaxScaler()),('EN', ElasticNet())])))\n",
    "pipelines.append(('mMKNN', Pipeline([('Scaler', MinMaxScaler()),('KNN', KNeighborsRegressor())])))\n",
    "pipelines.append(('mMCART', Pipeline([('Scaler', MinMaxScaler()),('CART', DecisionTreeRegressor())])))\n",
    "pipelines.append(('mMSVR', Pipeline([('Scaler', MinMaxScaler()),('SVR', SVR(gamma='scale'))])))\n",
    "\n",
    "allresults = {}\n",
    "names = []\n",
    "for nsplits in (3,5,7,10):\n",
    "    print('\\033[1m' + 'Precisiones con %d splits' % nsplits + '\\033[0m')\n",
    "    results = []\n",
    "    for name, model in pipelines:\n",
    "        kfold = KFold(n_splits=nsplits, shuffle=True, random_state=seed)\n",
    "        cv_results = cross_val_score(model, X_train_1, y_train_1, cv=kfold, scoring='neg_mean_squared_error')\n",
    "        results.append(cv_results)\n",
    "        names.append(name)\n",
    "        msg = \"%s: %f (%f)\" % (name, cv_results.mean(), cv_results.std())\n",
    "        print(msg)\n",
    "    print('--------------------------')\n",
    "    allresults[nsplits] = results"
   ]
  },
  {
   "cell_type": "markdown",
   "metadata": {},
   "source": [
    "No obtenemos mejores resultados que en el caso anterior.\n",
    "\n",
    "**CONCLUSIÓN: de momento el mejor modelo a usar es el algortimo LR con 7 folds y con los datos sin escalar ni estandarizar**, obteniendo un error cuadrático medio negativo de -30,489"
   ]
  },
  {
   "cell_type": "markdown",
   "metadata": {},
   "source": [
    "## 1.2- Ensembles (Conjuntos)\n",
    "\n",
    "Vamos ahora a tratar de mejorar el rendimiento de los algoritmos mediante el uso de métodos conjuntos o *ensembles*. Para ello vamos a evaluar 4 algoritmos de ML por conjuntos, 2 métodos de *boosting* o impulso y 2 de *bagging* o embolsado:\n",
    "\n",
    "- **Métodos de *boosting* (impulso)**: AdaBoost (AB) y Gradient Boosting (GBM).\n",
    "- **Métodos de *bagging* (embolsado)**: bosques aleatorios (RF) y árboles adicionales (ET).\n",
    "\n",
    "Usaremos la misma selección de prueba que antes, validación cruzada iterando el nº de folds entre 3 y 10 , y probaremos primero sin escalar y después escalando los datos."
   ]
  },
  {
   "cell_type": "code",
   "execution_count": 10,
   "metadata": {},
   "outputs": [
    {
     "name": "stdout",
     "output_type": "stream",
     "text": [
      "\u001b[1mPrecisiones con 3 splits\u001b[0m\n",
      "AB: -31.401649 (1.327150)\n",
      "GBM: -32.262860 (3.001450)\n",
      "RF: -32.032044 (3.049860)\n",
      "ET: -32.067740 (3.477602)\n",
      "--------------------------\n",
      "\u001b[1mPrecisiones con 5 splits\u001b[0m\n",
      "AB: -32.701367 (2.905002)\n",
      "GBM: -29.927790 (3.165867)\n",
      "RF: -30.958979 (3.851065)\n",
      "ET: -30.869209 (3.905056)\n",
      "--------------------------\n",
      "\u001b[1mPrecisiones con 7 splits\u001b[0m\n",
      "AB: -32.251647 (4.242367)\n",
      "GBM: -29.837985 (4.417977)\n",
      "RF: -30.953827 (5.610929)\n",
      "ET: -30.201504 (5.487496)\n",
      "--------------------------\n",
      "\u001b[1mPrecisiones con 10 splits\u001b[0m\n",
      "AB: -32.185720 (5.020248)\n",
      "GBM: -29.737363 (5.805503)\n",
      "RF: -31.017869 (6.268347)\n",
      "ET: -30.173789 (6.362879)\n",
      "--------------------------\n"
     ]
    }
   ],
   "source": [
    "#inicialmente probamos con los datos sin escalar\n",
    "\n",
    "ensembles = []\n",
    "ensembles.append(('AB', AdaBoostRegressor()))\n",
    "ensembles.append(('GBM', GradientBoostingRegressor()))\n",
    "ensembles.append(('RF', RandomForestRegressor(n_estimators=100)))\n",
    "ensembles.append(('ET', ExtraTreesRegressor(n_estimators=100)))\n",
    "\n",
    "allresults = {}\n",
    "names = []\n",
    "for nsplits in (3,5,7,10):\n",
    "    print('\\033[1m' + 'Precisiones con %d splits' % nsplits + '\\033[0m')\n",
    "    results = []\n",
    "    for name, model in ensembles:\n",
    "        kfold = KFold(n_splits=nsplits, shuffle=True, random_state=seed)\n",
    "        cv_results = cross_val_score(model, X_train_1, y_train_1, cv=kfold, scoring='neg_mean_squared_error')\n",
    "        results.append(cv_results)\n",
    "        names.append(name)\n",
    "        msg = \"%s: %f (%f)\" % (name, cv_results.mean(), cv_results.std())\n",
    "        print(msg)\n",
    "    print('--------------------------')\n",
    "    allresults[nsplits] = results"
   ]
  },
  {
   "cell_type": "code",
   "execution_count": 11,
   "metadata": {},
   "outputs": [
    {
     "data": {
      "image/png": "[encoded data removed]",
      "text/plain": [
       "<Figure size 432x288 with 1 Axes>"
      ]
     },
     "metadata": {
      "needs_background": "light"
     },
     "output_type": "display_data"
    }
   ],
   "source": [
    "fig = plt.figure()\n",
    "fig.suptitle('Comparación de Algoritmos con 10 folds')\n",
    "ax = fig.add_subplot(111)\n",
    "plt.boxplot(allresults[10])\n",
    "ax.set_xticklabels(names)\n",
    "plt.show()"
   ]
  },
  {
   "cell_type": "markdown",
   "metadata": {},
   "source": [
    "#### Obtenemos mejores valores que con el LR solo. En concreto **el mejor valor nos lo da GradientBoostingRegressor (GBM)**, con 10 folds, teniendo un error de **-29.737**"
   ]
  },
  {
   "cell_type": "code",
   "execution_count": 12,
   "metadata": {},
   "outputs": [
    {
     "name": "stdout",
     "output_type": "stream",
     "text": [
      "\u001b[1mPrecisiones con 3 splits\u001b[0m\n",
      "ScaledAB: -32.236346 (2.649786)\n",
      "ScaledGBM: -32.506338 (3.306041)\n",
      "ScaledRF: -31.478753 (2.897797)\n",
      "ScaledET: -31.843961 (3.524068)\n",
      "--------------------------\n",
      "\u001b[1mPrecisiones con 5 splits\u001b[0m\n",
      "ScaledAB: -31.952094 (3.368598)\n",
      "ScaledGBM: -30.154933 (3.242725)\n",
      "ScaledRF: -31.418602 (4.563249)\n",
      "ScaledET: -30.837282 (3.925465)\n",
      "--------------------------\n",
      "\u001b[1mPrecisiones con 7 splits\u001b[0m\n",
      "ScaledAB: -32.656659 (4.894224)\n",
      "ScaledGBM: -29.784728 (4.468678)\n",
      "ScaledRF: -31.440803 (5.071596)\n",
      "ScaledET: -29.957650 (5.282013)\n",
      "--------------------------\n",
      "\u001b[1mPrecisiones con 10 splits\u001b[0m\n",
      "ScaledAB: -32.337904 (5.239070)\n",
      "ScaledGBM: -29.807682 (5.935873)\n",
      "ScaledRF: -30.981558 (6.087941)\n",
      "ScaledET: -30.356712 (6.588348)\n",
      "--------------------------\n"
     ]
    }
   ],
   "source": [
    "#Ahora probamos estandarizando los datos\n",
    "\n",
    "ensembles = []\n",
    "ensembles.append(('ScaledAB', Pipeline([('Scaler', StandardScaler()),('AB', AdaBoostRegressor())])))\n",
    "ensembles.append(('ScaledGBM', Pipeline([('Scaler', StandardScaler()),('GBM', GradientBoostingRegressor())])))\n",
    "ensembles.append(('ScaledRF', Pipeline([('Scaler', StandardScaler()),('RF', RandomForestRegressor(n_estimators=100))])))\n",
    "ensembles.append(('ScaledET', Pipeline([('Scaler', StandardScaler()),('ET', ExtraTreesRegressor(n_estimators=100))])))\n",
    "\n",
    "allresults = {}\n",
    "names = []\n",
    "for nsplits in (3,5,7,10):\n",
    "    print('\\033[1m' + 'Precisiones con %d splits' % nsplits + '\\033[0m')\n",
    "    results = []\n",
    "    for name, model in ensembles:\n",
    "        kfold = KFold(n_splits=nsplits, shuffle=True, random_state=seed)\n",
    "        cv_results = cross_val_score(model, X_train_1, y_train_1, cv=kfold, scoring='neg_mean_squared_error')\n",
    "        results.append(cv_results)\n",
    "        names.append(name)\n",
    "        msg = \"%s: %f (%f)\" % (name, cv_results.mean(), cv_results.std())\n",
    "        print(msg)\n",
    "    print('--------------------------')\n",
    "    allresults[nsplits] = results"
   ]
  },
  {
   "cell_type": "code",
   "execution_count": 13,
   "metadata": {},
   "outputs": [
    {
     "name": "stdout",
     "output_type": "stream",
     "text": [
      "\u001b[1mPrecisiones con 3 splits\u001b[0m\n",
      "ScaledAB: -32.190639 (1.365306)\n",
      "ScaledGBM: -32.128736 (3.146807)\n",
      "ScaledRF: -30.988036 (2.261074)\n",
      "ScaledET: -32.097651 (3.967357)\n",
      "--------------------------\n",
      "\u001b[1mPrecisiones con 5 splits\u001b[0m\n",
      "ScaledAB: -32.094173 (2.608818)\n",
      "ScaledGBM: -30.155323 (3.285362)\n",
      "ScaledRF: -31.297504 (4.208727)\n",
      "ScaledET: -30.965862 (4.228829)\n",
      "--------------------------\n",
      "\u001b[1mPrecisiones con 7 splits\u001b[0m\n",
      "ScaledAB: -31.741610 (4.588213)\n",
      "ScaledGBM: -29.653566 (4.294439)\n",
      "ScaledRF: -30.904061 (5.479067)\n",
      "ScaledET: -30.653357 (5.173060)\n",
      "--------------------------\n",
      "\u001b[1mPrecisiones con 10 splits\u001b[0m\n",
      "ScaledAB: -31.990396 (5.679825)\n",
      "ScaledGBM: -29.651785 (5.915373)\n",
      "ScaledRF: -30.578473 (6.067837)\n",
      "ScaledET: -30.172819 (6.707073)\n",
      "--------------------------\n"
     ]
    }
   ],
   "source": [
    "#Y probamos finalmente reescalando los datos entre 0 y 1\n",
    "\n",
    "ensembles = []\n",
    "ensembles.append(('ScaledAB', Pipeline([('Scaler', MinMaxScaler()),('AB', AdaBoostRegressor())])))\n",
    "ensembles.append(('ScaledGBM', Pipeline([('Scaler', MinMaxScaler()),('GBM', GradientBoostingRegressor())])))\n",
    "ensembles.append(('ScaledRF', Pipeline([('Scaler', MinMaxScaler()),('RF', RandomForestRegressor(n_estimators=100))])))\n",
    "ensembles.append(('ScaledET', Pipeline([('Scaler', MinMaxScaler()),('ET', ExtraTreesRegressor(n_estimators=100))])))\n",
    "\n",
    "allresults = {}\n",
    "names = []\n",
    "for nsplits in (3,5,7,10):\n",
    "    print('\\033[1m' + 'Precisiones con %d splits' % nsplits + '\\033[0m')\n",
    "    results = []\n",
    "    for name, model in ensembles:\n",
    "        kfold = KFold(n_splits=nsplits, shuffle=True, random_state=seed)\n",
    "        cv_results = cross_val_score(model, X_train_1, y_train_1, cv=kfold, scoring='neg_mean_squared_error')\n",
    "        results.append(cv_results)\n",
    "        names.append(name)\n",
    "        msg = \"%s: %f (%f)\" % (name, cv_results.mean(), cv_results.std())\n",
    "        print(msg)\n",
    "    print('--------------------------')\n",
    "    allresults[nsplits] = results"
   ]
  },
  {
   "cell_type": "markdown",
   "metadata": {},
   "source": [
    "Observamos que obtenemos mejores resultados con los datos reescalados, con el GBM con 10 folds, por lo que:\n",
    "\n",
    "#### **CONCLUSIÓN: el mejor modelo obtenido finalmente en el caso 1 (con seleccion de 5 características para NO2) es el ensemble GradientBoostingRegressor (GBM) con 10 folds y con los datos reescalados, obteniendo un error cuadrático medio negativo de -29.652**"
   ]
  },
  {
   "cell_type": "markdown",
   "metadata": {},
   "source": [
    "---------------------------------------------------------------------------------------------------------------------\n",
    "\n",
    "\n",
    "## 2) Carga del dataset mergeado trabajado CON selección de características PCA\n",
    "\n",
    "Ahora vamos a realizar el mismo estudio pero cogiendo el dataset trabajado con selección de características mediante PCA, para comprobar si los resultados son mejores o peores\n"
   ]
  },
  {
   "cell_type": "code",
   "execution_count": 14,
   "metadata": {},
   "outputs": [
    {
     "name": "stdout",
     "output_type": "stream",
     "text": [
      "Index(['pm10', 'no2', 'year', 'month', 'day', 'week', 'season', 'season_name',\n",
      "       'diadelasemana', 'findesemana', 'PCA1', 'PCA2', 'PCA3', 'PCA4', 'PCA5'],\n",
      "      dtype='object')\n",
      "                 pm10        no2  year  month  day  week  season season_name  \\\n",
      "date                                                                           \n",
      "2018-01-01  10.000000  24.000000  2018      1    1     1       1      Winter   \n",
      "2018-01-02  11.000000  10.000000  2018      1    2     1       1      Winter   \n",
      "2018-01-03  10.000000   7.000000  2018      1    3     1       1      Winter   \n",
      "2018-01-04  11.000000  14.000000  2018      1    4     1       1      Winter   \n",
      "2018-01-05  10.000000  20.000000  2018      1    5     1       1      Winter   \n",
      "...               ...        ...   ...    ...  ...   ...     ...         ...   \n",
      "2019-12-27  16.000000  18.000000  2019     12   27    52       1      Winter   \n",
      "2019-12-28  19.000000  16.000000  2019     12   28    52       1      Winter   \n",
      "2019-12-29  23.000000  17.641379  2019     12   29    52       1      Winter   \n",
      "2019-12-30  23.712692  17.641379  2019     12   30     1       1      Winter   \n",
      "2019-12-31  23.712692  15.000000  2019     12   31     1       1      Winter   \n",
      "\n",
      "            diadelasemana  findesemana       PCA1       PCA2      PCA3  \\\n",
      "date                                                                     \n",
      "2018-01-01              0            0   7.005026  -7.604518  2.983877   \n",
      "2018-01-02              1            0   6.181327 -10.888738  2.874374   \n",
      "2018-01-03              2            0   6.784890  -5.473226  1.930779   \n",
      "2018-01-04              3            0   6.546627  -0.564400 -0.337102   \n",
      "2018-01-05              4            0   5.535733   8.138664 -3.315162   \n",
      "...                   ...          ...        ...        ...       ...   \n",
      "2019-12-27              4            0  11.482208 -16.988137  4.702992   \n",
      "2019-12-28              5            1 -10.330017 -20.684481  4.911319   \n",
      "2019-12-29              6            1  12.694137 -21.900263  6.648917   \n",
      "2019-12-30              0            0  11.707351 -22.781833  7.116705   \n",
      "2019-12-31              1            0   2.717529 -22.733547  6.791452   \n",
      "\n",
      "                PCA4       PCA5  \n",
      "date                             \n",
      "2018-01-01 -6.094242   9.566149  \n",
      "2018-01-02 -4.333692   2.991142  \n",
      "2018-01-03 -2.179050  10.559993  \n",
      "2018-01-04  0.542702  10.658898  \n",
      "2018-01-05 -1.744504   2.732664  \n",
      "...              ...        ...  \n",
      "2019-12-27 -5.918299   0.853851  \n",
      "2019-12-28 -7.548369  -1.161545  \n",
      "2019-12-29 -7.247959  -0.491891  \n",
      "2019-12-30 -7.835533   1.038368  \n",
      "2019-12-31 -8.519201   1.077157  \n",
      "\n",
      "[730 rows x 15 columns]\n"
     ]
    }
   ],
   "source": [
    "#cogemos el dataset trabajado anteriormente con los datos mergeados y habiendo hecho una reducción de variables\n",
    "url_fichero_mercscpca = './DatosMergeadosBarcelona_ConSeleccionCaract_PCA.csv'\n",
    "dfMergeadoSelCaractPCA = pd.read_csv(url_fichero_mercscpca)\n",
    "dfMergeadoSelCaractPCA = dfMergeadoSelCaractPCA.set_index('date')\n",
    "print(dfMergeadoSelCaractPCA.columns)\n",
    "print(dfMergeadoSelCaractPCA)"
   ]
  },
  {
   "cell_type": "code",
   "execution_count": 15,
   "metadata": {},
   "outputs": [
    {
     "name": "stdout",
     "output_type": "stream",
     "text": [
      "Index(['pm10', 'no2', 'PCA1', 'PCA2', 'PCA3', 'PCA4', 'PCA5'], dtype='object')\n"
     ]
    }
   ],
   "source": [
    "#Eliminamos todos los campos que no son de meteorología o de tráfico (los que son de fechas)\n",
    "dfMergeadoSelCaractPCA = dfMergeadoSelCaractPCA.drop(columns=['year','month','day','week','season','season_name','diadelasemana',\n",
    "       'findesemana'])\n",
    "print(dfMergeadoSelCaractPCA.columns)"
   ]
  },
  {
   "cell_type": "markdown",
   "metadata": {},
   "source": [
    "## 2.1- Evaluación de los algoritmos\n",
    "### Dataset de validación de división (Split-out)\n",
    "**Dejaremos 80-20, preparado para CV de 10-folds** \n",
    "\n",
    "Vamos a separar el dataset en un 80 (train) - 20 (validation). Con el de 80 (train) haremos validación cruzada, y con el de 20 haremos la validación final.\n"
   ]
  },
  {
   "cell_type": "code",
   "execution_count": 17,
   "metadata": {},
   "outputs": [
    {
     "name": "stdout",
     "output_type": "stream",
     "text": [
      "X_Train_2:  (584, 5)\n",
      "X_Validation_2:  (146, 5)\n"
     ]
    }
   ],
   "source": [
    "array2 = dfMergeadoSelCaractPCA.values\n",
    "X_2 = array2[:,2:]\n",
    "y = array2[:,1]\n",
    "validation_size = 0.20\n",
    "seed = 7\n",
    "X_train_2, X_validation_2, y_train_2, y_validation_2 = train_test_split(X_2, y, test_size=validation_size, random_state=seed)\n",
    "print('X_Train_2: ', X_train_2.shape)\n",
    "print('X_Validation_2: ', X_validation_2.shape)"
   ]
  },
  {
   "cell_type": "markdown",
   "metadata": {},
   "source": [
    "Igualmente vamos a probar los siguientes algoritmos de clasificación:\n",
    "\n",
    "- Regresión lineal (LR)\n",
    "- Regularización de Regresión Lasso (L1)(LASSO)\n",
    "- Regularización de Regresión ElasticNet (EN)\n",
    "- k-vecinos más cercanos (KNN)\n",
    "- Árboles de decisión de regresión (CART)\n",
    "- Regresión de vectores de soporte (SVR)\n",
    "\n",
    "Usaremos la validación cruzada de nuevo probando con diversos nº de folds entre 3 y 10 y mediremos la precisión de los algoritmos mediante la métrica 'neg_mean_squared_error'\n",
    "\n",
    "**Inicialmente vamos a probar los algoritmos sobre los datos sin ningún preprocesamiento: no les hemos estandarizado ni reescalado.**"
   ]
  },
  {
   "cell_type": "code",
   "execution_count": 18,
   "metadata": {},
   "outputs": [
    {
     "name": "stdout",
     "output_type": "stream",
     "text": [
      "\u001b[1mPrecisiones con 3 splits\u001b[0m\n",
      "LR: -32.968542 (1.879084)\n",
      "LASSO: -33.037678 (1.946317)\n",
      "EN: -32.976754 (1.885081)\n",
      "KNN: -37.391182 (0.909715)\n",
      "CART: -67.264670 (6.059491)\n",
      "SVR: -33.254805 (1.565960)\n",
      "--------------------------\n",
      "\u001b[1mPrecisiones con 5 splits\u001b[0m\n",
      "LR: -33.206282 (2.772036)\n",
      "LASSO: -33.284872 (2.728132)\n",
      "EN: -33.212434 (2.743736)\n",
      "KNN: -37.487933 (2.147921)\n",
      "CART: -61.911813 (10.420077)\n",
      "SVR: -33.707674 (2.069732)\n",
      "--------------------------\n",
      "\u001b[1mPrecisiones con 7 splits\u001b[0m\n",
      "LR: -32.804662 (4.212112)\n",
      "LASSO: -32.918460 (4.476565)\n",
      "EN: -32.842521 (4.390876)\n",
      "KNN: -36.719983 (4.399487)\n",
      "CART: -64.119244 (10.233572)\n",
      "SVR: -33.369949 (5.192667)\n",
      "--------------------------\n",
      "\u001b[1mPrecisiones con 10 splits\u001b[0m\n",
      "LR: -32.934381 (5.039883)\n",
      "LASSO: -33.054292 (4.842167)\n",
      "EN: -32.969938 (4.920993)\n",
      "KNN: -37.349894 (6.039831)\n",
      "CART: -68.894932 (12.454204)\n",
      "SVR: -33.128739 (4.873216)\n",
      "--------------------------\n"
     ]
    }
   ],
   "source": [
    "## Algoritmos de control/Test puntual. Usaremos 6 tipos:\n",
    "models = []\n",
    "models.append(('LR', LinearRegression()))\n",
    "models.append(('LASSO', Lasso()))\n",
    "models.append(('EN', ElasticNet()))\n",
    "models.append(('KNN', KNeighborsRegressor()))\n",
    "models.append(('CART', DecisionTreeRegressor()))\n",
    "models.append(('SVR', SVR(gamma='scale')))\n",
    "\n",
    "#En un diccionario 'allresults' vamos guardando los resultados de los modelos para los diversos cv con 3,5,7 y 10 folds\n",
    "\n",
    "allresults = {}\n",
    "names = []\n",
    "for nsplits in (3,5,7,10):\n",
    "    print('\\033[1m' + 'Precisiones con %d splits' % nsplits + '\\033[0m')\n",
    "    results = []\n",
    "    for name, model in models:\n",
    "        kfold = KFold(n_splits=nsplits, shuffle=True, random_state=seed)\n",
    "        cv_results = cross_val_score(model, X_train_2, y_train_2, cv=kfold, scoring='neg_mean_squared_error')\n",
    "        results.append(cv_results)\n",
    "        names.append(name)\n",
    "        msg = \"%s: %f (%f)\" % (name, cv_results.mean(), cv_results.std())\n",
    "        print(msg)\n",
    "    print('--------------------------')\n",
    "    allresults[nsplits] = results"
   ]
  },
  {
   "cell_type": "markdown",
   "metadata": {},
   "source": [
    "**Trabajemos ahora con una estandarización para revisar su capacidad utilizando una copia estandarizada de los datos.**\n",
    "\n",
    "### Estandarización del dataset"
   ]
  },
  {
   "cell_type": "code",
   "execution_count": 19,
   "metadata": {},
   "outputs": [
    {
     "name": "stdout",
     "output_type": "stream",
     "text": [
      "\u001b[1mPrecisiones con 3 splits\u001b[0m\n",
      "ScLR: -32.968542 (1.879084)\n",
      "ScLASSO: -36.098912 (3.160829)\n",
      "ScEN: -34.655051 (2.731907)\n",
      "ScKNN: -35.448754 (1.985013)\n",
      "ScCART: -67.379770 (8.341734)\n",
      "ScSVR: -33.244498 (1.976517)\n",
      "--------------------------\n",
      "\u001b[1mPrecisiones con 5 splits\u001b[0m\n",
      "ScLR: -33.206282 (2.772036)\n",
      "ScLASSO: -36.098650 (3.113716)\n",
      "ScEN: -34.832459 (2.859580)\n",
      "ScKNN: -36.165546 (2.243864)\n",
      "ScCART: -61.643213 (8.951438)\n",
      "ScSVR: -33.626336 (2.322141)\n",
      "--------------------------\n",
      "\u001b[1mPrecisiones con 7 splits\u001b[0m\n",
      "ScLR: -32.804662 (4.212112)\n",
      "ScLASSO: -36.001357 (5.956920)\n",
      "ScEN: -34.675817 (5.437499)\n",
      "ScKNN: -35.309749 (4.311212)\n",
      "ScCART: -62.663628 (8.792635)\n",
      "ScSVR: -33.527985 (5.277134)\n",
      "--------------------------\n",
      "\u001b[1mPrecisiones con 10 splits\u001b[0m\n",
      "ScLR: -32.934381 (5.039883)\n",
      "ScLASSO: -36.073917 (4.754207)\n",
      "ScEN: -34.752667 (4.617366)\n",
      "ScKNN: -36.972757 (7.110481)\n",
      "ScCART: -67.697097 (13.348153)\n",
      "ScSVR: -33.432634 (5.143130)\n",
      "--------------------------\n"
     ]
    }
   ],
   "source": [
    "# Estandarización del dataset\n",
    "pipelines = []\n",
    "pipelines.append(('ScLR', Pipeline([('Scaler', StandardScaler()),('LR', LinearRegression())])))\n",
    "pipelines.append(('ScLASSO', Pipeline([('Scaler', StandardScaler()),('LASSO', Lasso())])))\n",
    "pipelines.append(('ScEN', Pipeline([('Scaler', StandardScaler()),('EN', ElasticNet())])))\n",
    "pipelines.append(('ScKNN', Pipeline([('Scaler', StandardScaler()),('KNN', KNeighborsRegressor())])))\n",
    "pipelines.append(('ScCART', Pipeline([('Scaler', StandardScaler()),('CART', DecisionTreeRegressor())])))\n",
    "pipelines.append(('ScSVR', Pipeline([('Scaler', StandardScaler()),('SVR', SVR(gamma='scale'))])))\n",
    "\n",
    "allresults = {}\n",
    "names = []\n",
    "for nsplits in (3,5,7,10):\n",
    "    print('\\033[1m' + 'Precisiones con %d splits' % nsplits + '\\033[0m')\n",
    "    results = []\n",
    "    for name, model in pipelines:\n",
    "        kfold = KFold(n_splits=nsplits, shuffle=True, random_state=seed)\n",
    "        cv_results = cross_val_score(model, X_train_2, y_train_2, cv=kfold, scoring='neg_mean_squared_error')\n",
    "        results.append(cv_results)\n",
    "        names.append(name)\n",
    "        msg = \"%s: %f (%f)\" % (name, cv_results.mean(), cv_results.std())\n",
    "        print(msg)\n",
    "    print('--------------------------')\n",
    "    allresults[nsplits] = results"
   ]
  },
  {
   "cell_type": "markdown",
   "metadata": {},
   "source": [
    "**Finalmente revisamos cómo funciona si usamos una copia de los datos reescalados**\n",
    "\n",
    "### Reescalado del dataset (entre 0 y 1)"
   ]
  },
  {
   "cell_type": "code",
   "execution_count": 20,
   "metadata": {},
   "outputs": [
    {
     "name": "stdout",
     "output_type": "stream",
     "text": [
      "\u001b[1mPrecisiones con 3 splits\u001b[0m\n",
      "mMLR: -32.968542 (1.879084)\n",
      "mMLASSO: -38.218334 (3.175546)\n",
      "mMEN: -38.218334 (3.175546)\n",
      "mMKNN: -35.396585 (0.831898)\n",
      "mMCART: -67.616117 (5.923016)\n",
      "mMSVR: -33.102964 (1.857530)\n",
      "--------------------------\n",
      "\u001b[1mPrecisiones con 5 splits\u001b[0m\n",
      "mMLR: -33.206282 (2.772036)\n",
      "mMLASSO: -38.176349 (3.322022)\n",
      "mMEN: -38.176349 (3.322022)\n",
      "mMKNN: -35.810660 (2.781379)\n",
      "mMCART: -64.133283 (9.655820)\n",
      "mMSVR: -33.483572 (2.317882)\n",
      "--------------------------\n",
      "\u001b[1mPrecisiones con 7 splits\u001b[0m\n",
      "mMLR: -32.804662 (4.212112)\n",
      "mMLASSO: -38.184250 (6.463941)\n",
      "mMEN: -38.184250 (6.463941)\n",
      "mMKNN: -34.446300 (3.706507)\n",
      "mMCART: -61.019732 (7.587375)\n",
      "mMSVR: -33.383832 (5.176387)\n",
      "--------------------------\n",
      "\u001b[1mPrecisiones con 10 splits\u001b[0m\n",
      "mMLR: -32.934381 (5.039883)\n",
      "mMLASSO: -38.180183 (4.940528)\n",
      "mMEN: -38.180183 (4.940528)\n",
      "mMKNN: -36.105397 (6.723954)\n",
      "mMCART: -67.340244 (12.630542)\n",
      "mMSVR: -33.353786 (5.003523)\n",
      "--------------------------\n"
     ]
    }
   ],
   "source": [
    "# Reescalado del dataset\n",
    "pipelines = []\n",
    "pipelines.append(('mMLR', Pipeline([('Scaler', MinMaxScaler()),('LR', LinearRegression())])))\n",
    "pipelines.append(('mMLASSO', Pipeline([('Scaler', MinMaxScaler()),('LASSO', Lasso())])))\n",
    "pipelines.append(('mMEN', Pipeline([('Scaler', MinMaxScaler()),('EN', ElasticNet())])))\n",
    "pipelines.append(('mMKNN', Pipeline([('Scaler', MinMaxScaler()),('KNN', KNeighborsRegressor())])))\n",
    "pipelines.append(('mMCART', Pipeline([('Scaler', MinMaxScaler()),('CART', DecisionTreeRegressor())])))\n",
    "pipelines.append(('mMSVR', Pipeline([('Scaler', MinMaxScaler()),('SVR', SVR(gamma='scale'))])))\n",
    "\n",
    "allresults = {}\n",
    "names = []\n",
    "for nsplits in (3,5,7,10):\n",
    "    print('\\033[1m' + 'Precisiones con %d splits' % nsplits + '\\033[0m')\n",
    "    results = []\n",
    "    for name, model in pipelines:\n",
    "        kfold = KFold(n_splits=nsplits, shuffle=True, random_state=seed)\n",
    "        cv_results = cross_val_score(model, X_train_2, y_train_2, cv=kfold, scoring='neg_mean_squared_error')\n",
    "        results.append(cv_results)\n",
    "        names.append(name)\n",
    "        msg = \"%s: %f (%f)\" % (name, cv_results.mean(), cv_results.std())\n",
    "        print(msg)\n",
    "    print('--------------------------')\n",
    "    allresults[nsplits] = results"
   ]
  },
  {
   "cell_type": "markdown",
   "metadata": {},
   "source": [
    "**Ninguno de todos estos valores es mejor que los obtenidos con los datos con la selección de variables para NO2**"
   ]
  },
  {
   "cell_type": "markdown",
   "metadata": {},
   "source": [
    "## 2.2- Ensembles (Conjuntos)\n",
    "\n",
    "Podemos probar los mismos ensembles de antes, aunque ya imaginamos que no obtendremos resultados mejores"
   ]
  },
  {
   "cell_type": "code",
   "execution_count": 21,
   "metadata": {},
   "outputs": [
    {
     "name": "stdout",
     "output_type": "stream",
     "text": [
      "\u001b[1mPrecisiones con 3 splits\u001b[0m\n",
      "AB: -34.420650 (0.741016)\n",
      "GBM: -34.405699 (1.455274)\n",
      "RF: -33.940522 (0.715037)\n",
      "ET: -35.323599 (0.657719)\n",
      "--------------------------\n",
      "\u001b[1mPrecisiones con 5 splits\u001b[0m\n",
      "AB: -33.236744 (1.830777)\n",
      "GBM: -34.757396 (2.528374)\n",
      "RF: -33.995980 (2.004488)\n",
      "ET: -35.753466 (3.219441)\n",
      "--------------------------\n",
      "\u001b[1mPrecisiones con 7 splits\u001b[0m\n",
      "AB: -33.558501 (4.538780)\n",
      "GBM: -33.684995 (3.719457)\n",
      "RF: -33.611951 (3.919432)\n",
      "ET: -34.961290 (3.899344)\n",
      "--------------------------\n",
      "\u001b[1mPrecisiones con 10 splits\u001b[0m\n",
      "AB: -33.490058 (5.063512)\n",
      "GBM: -34.419995 (6.420231)\n",
      "RF: -34.497742 (6.368410)\n",
      "ET: -35.156033 (7.120828)\n",
      "--------------------------\n"
     ]
    }
   ],
   "source": [
    "#inicialmente probamos con los datos sin escalar\n",
    "\n",
    "ensembles = []\n",
    "ensembles.append(('AB', AdaBoostRegressor()))\n",
    "ensembles.append(('GBM', GradientBoostingRegressor()))\n",
    "ensembles.append(('RF', RandomForestRegressor(n_estimators=100)))\n",
    "ensembles.append(('ET', ExtraTreesRegressor(n_estimators=100)))\n",
    "\n",
    "allresults = {}\n",
    "names = []\n",
    "for nsplits in (3,5,7,10):\n",
    "    print('\\033[1m' + 'Precisiones con %d splits' % nsplits + '\\033[0m')\n",
    "    results = []\n",
    "    for name, model in ensembles:\n",
    "        kfold = KFold(n_splits=nsplits, shuffle=True, random_state=seed)\n",
    "        cv_results = cross_val_score(model, X_train_2, y_train_2, cv=kfold, scoring='neg_mean_squared_error')\n",
    "        results.append(cv_results)\n",
    "        names.append(name)\n",
    "        msg = \"%s: %f (%f)\" % (name, cv_results.mean(), cv_results.std())\n",
    "        print(msg)\n",
    "    print('--------------------------')\n",
    "    allresults[nsplits] = results"
   ]
  },
  {
   "cell_type": "code",
   "execution_count": 22,
   "metadata": {},
   "outputs": [
    {
     "name": "stdout",
     "output_type": "stream",
     "text": [
      "\u001b[1mPrecisiones con 3 splits\u001b[0m\n",
      "ScaledAB: -34.415184 (1.059335)\n",
      "ScaledGBM: -34.145136 (1.365256)\n",
      "ScaledRF: -33.749428 (0.547628)\n",
      "ScaledET: -36.208042 (0.949637)\n",
      "--------------------------\n",
      "\u001b[1mPrecisiones con 5 splits\u001b[0m\n",
      "ScaledAB: -34.307027 (1.706717)\n",
      "ScaledGBM: -34.628863 (2.470766)\n",
      "ScaledRF: -34.551174 (1.653311)\n",
      "ScaledET: -35.333317 (2.405425)\n",
      "--------------------------\n",
      "\u001b[1mPrecisiones con 7 splits\u001b[0m\n",
      "ScaledAB: -33.759816 (4.607318)\n",
      "ScaledGBM: -33.711719 (3.769649)\n",
      "ScaledRF: -33.566425 (4.169349)\n",
      "ScaledET: -34.758925 (4.264812)\n",
      "--------------------------\n",
      "\u001b[1mPrecisiones con 10 splits\u001b[0m\n",
      "ScaledAB: -33.960670 (5.381946)\n",
      "ScaledGBM: -34.369928 (6.313592)\n",
      "ScaledRF: -33.775723 (6.026115)\n",
      "ScaledET: -34.844889 (6.912646)\n",
      "--------------------------\n"
     ]
    }
   ],
   "source": [
    "#Ahora probamos estandarizando los datos\n",
    "\n",
    "ensembles = []\n",
    "ensembles.append(('ScaledAB', Pipeline([('Scaler', StandardScaler()),('AB', AdaBoostRegressor())])))\n",
    "ensembles.append(('ScaledGBM', Pipeline([('Scaler', StandardScaler()),('GBM', GradientBoostingRegressor())])))\n",
    "ensembles.append(('ScaledRF', Pipeline([('Scaler', StandardScaler()),('RF', RandomForestRegressor(n_estimators=100))])))\n",
    "ensembles.append(('ScaledET', Pipeline([('Scaler', StandardScaler()),('ET', ExtraTreesRegressor(n_estimators=100))])))\n",
    "\n",
    "allresults = {}\n",
    "names = []\n",
    "for nsplits in (3,5,7,10):\n",
    "    print('\\033[1m' + 'Precisiones con %d splits' % nsplits + '\\033[0m')\n",
    "    results = []\n",
    "    for name, model in ensembles:\n",
    "        kfold = KFold(n_splits=nsplits, shuffle=True, random_state=seed)\n",
    "        cv_results = cross_val_score(model, X_train_2, y_train_2, cv=kfold, scoring='neg_mean_squared_error')\n",
    "        results.append(cv_results)\n",
    "        names.append(name)\n",
    "        msg = \"%s: %f (%f)\" % (name, cv_results.mean(), cv_results.std())\n",
    "        print(msg)\n",
    "    print('--------------------------')\n",
    "    allresults[nsplits] = results"
   ]
  },
  {
   "cell_type": "markdown",
   "metadata": {},
   "source": [
    "Efectivamente no conseguimos mejores resultados que con la anterior selección de características. Por tanto:\n",
    "\n",
    "## Conclusión:\n",
    "**El mejor modelo obtenido sigue siendo el ensemble GradientBoostingRegressor (GBM) con validación cruzada de 10 folds, habiendo realizado una selección de 5 características y con los datos reescalados, obteniendo un error cuadrático medio negativo de -29.652**"
   ]
  },
  {
   "cell_type": "markdown",
   "metadata": {},
   "source": [
    "---------------------------------------------------------------------------------------------------------------------\n",
    "\n",
    "\n",
    "## 3) Carga del dataset mergeado trabajado SIN selección de características para NO2\n",
    "\n",
    "Ahora vamos a realizar el mismo estudio pero cogiendo el dataset trabajado sin selección de características, para comprobar si los resultados son mejores o peores\n"
   ]
  },
  {
   "cell_type": "code",
   "execution_count": 23,
   "metadata": {},
   "outputs": [
    {
     "name": "stdout",
     "output_type": "stream",
     "text": [
      "Index(['pm10', 'no2', 'year', 'month', 'day', 'tmed', 'prec', 'tmin', 'tmax',\n",
      "       'dir', 'velmedia', 'racha', 'sol', 'presmax', 'presmin', 'week',\n",
      "       'season', 'season_name', 'estado_trafico', 'diadelasemana',\n",
      "       'findesemana'],\n",
      "      dtype='object')\n",
      "                 pm10        no2  year  month  day  tmed  prec  tmin  tmax  \\\n",
      "date                                                                         \n",
      "2018-01-01  10.000000  24.000000  2018      1    1  12.8   0.0  10.2  10.2   \n",
      "2018-01-02  11.000000  10.000000  2018      1    2  14.6   0.0  11.4  11.4   \n",
      "2018-01-03  10.000000   7.000000  2018      1    3  17.9   0.0  14.0  14.0   \n",
      "2018-01-04  11.000000  14.000000  2018      1    4  19.2   0.0  16.4  16.4   \n",
      "2018-01-05  10.000000  20.000000  2018      1    5  16.4   0.0  13.7  13.7   \n",
      "...               ...        ...   ...    ...  ...   ...   ...   ...   ...   \n",
      "2019-12-27  16.000000  18.000000  2019     12   27  12.0   0.0   8.5   8.5   \n",
      "2019-12-28  19.000000  16.000000  2019     12   28  11.0   0.0   6.6   6.6   \n",
      "2019-12-29  23.000000  17.641379  2019     12   29  12.3   0.0  10.2  10.2   \n",
      "2019-12-30  23.712692  17.641379  2019     12   30  11.6   0.0   8.8   8.8   \n",
      "2019-12-31  23.712692  15.000000  2019     12   31  10.8   0.0   7.6   7.6   \n",
      "\n",
      "             dir  ...  racha  sol  presmax  presmin  week  season  \\\n",
      "date              ...                                               \n",
      "2018-01-01  31.0  ...   18.1  5.1   1027.2   1017.9     1       1   \n",
      "2018-01-02  30.0  ...   10.3  3.1   1025.4   1022.2     1       1   \n",
      "2018-01-03  31.0  ...   18.3  1.9   1023.0   1018.7     1       1   \n",
      "2018-01-04  31.0  ...   20.0  5.9   1019.0   1015.1     1       1   \n",
      "2018-01-05  30.0  ...   13.3  6.4   1015.2   1004.6     1       1   \n",
      "...          ...  ...    ...  ...      ...      ...   ...     ...   \n",
      "2019-12-27  35.0  ...    8.1  5.1   1030.0   1026.3    52       1   \n",
      "2019-12-28  13.0  ...    5.8  5.2   1032.1   1028.0    52       1   \n",
      "2019-12-29  36.0  ...    4.2  0.1   1033.1   1030.3    52       1   \n",
      "2019-12-30  35.0  ...    6.1  0.7   1033.9   1031.2     1       1   \n",
      "2019-12-31  26.0  ...    6.7  1.8   1033.8   1030.8     1       1   \n",
      "\n",
      "            season_name estado_trafico  diadelasemana  findesemana  \n",
      "date                                                                \n",
      "2018-01-01       Winter       1.501611              0            0  \n",
      "2018-01-02       Winter       1.855361              1            0  \n",
      "2018-01-03       Winter       1.914663              2            0  \n",
      "2018-01-04       Winter       1.917587              3            0  \n",
      "2018-01-05       Winter       1.933171              4            0  \n",
      "...                 ...            ...            ...          ...  \n",
      "2019-12-27       Winter       1.879245              4            0  \n",
      "2019-12-28       Winter       1.677568              5            1  \n",
      "2019-12-29       Winter       1.567480              6            1  \n",
      "2019-12-30       Winter       1.895104              0            0  \n",
      "2019-12-31       Winter       1.804372              1            0  \n",
      "\n",
      "[730 rows x 21 columns]\n"
     ]
    }
   ],
   "source": [
    "#cogemos el dataset trabajado anteriormente con los datos mergeados sin haber hecho una reducción de variables\n",
    "url_fichero_merssc = './DatosMergeadosBarcelona.csv'\n",
    "dfMergeado = pd.read_csv(url_fichero_merssc)\n",
    "dfMergeado = dfMergeado.set_index('date')\n",
    "print(dfMergeado.columns)\n",
    "print(dfMergeado)"
   ]
  },
  {
   "cell_type": "code",
   "execution_count": 24,
   "metadata": {},
   "outputs": [
    {
     "name": "stdout",
     "output_type": "stream",
     "text": [
      "Index(['pm10', 'no2', 'tmed', 'prec', 'tmin', 'tmax', 'dir', 'velmedia',\n",
      "       'racha', 'sol', 'presmax', 'presmin', 'estado_trafico'],\n",
      "      dtype='object')\n"
     ]
    }
   ],
   "source": [
    "#Eliminamos todos los campos que no son de meteorología o de tráfico (los que son de fechas)\n",
    "dfMergeado = dfMergeado.drop(columns=['year','month','day','week','season','season_name','diadelasemana',\n",
    "       'findesemana'])\n",
    "print(dfMergeado.columns)"
   ]
  },
  {
   "cell_type": "markdown",
   "metadata": {},
   "source": [
    "## 3.1- Evaluación de los algoritmos\n",
    "### Dataset de validación de división (Split-out)\n",
    "**Dejaremos 80-20, preparado para CV de 10-folds** \n",
    "\n",
    "Vamos a separar el dataset en un 80 (train) - 20 (validation). Con el de 80 (train) haremos validación cruzada, y con el de 20 haremos la validación final.\n"
   ]
  },
  {
   "cell_type": "code",
   "execution_count": 25,
   "metadata": {},
   "outputs": [
    {
     "name": "stdout",
     "output_type": "stream",
     "text": [
      "X_Train_3:  (584, 11)\n",
      "X_Validation_3:  (146, 11)\n"
     ]
    }
   ],
   "source": [
    "array3 = dfMergeado.values\n",
    "X_3 = array3[:,2:]\n",
    "y = array3[:,1]\n",
    "validation_size = 0.20\n",
    "seed = 7\n",
    "X_train_3, X_validation_3, y_train_3, y_validation_3 = train_test_split(X_3, y, test_size=validation_size, random_state=seed)\n",
    "print('X_Train_3: ', X_train_3.shape)\n",
    "print('X_Validation_3: ', X_validation_3.shape)"
   ]
  },
  {
   "cell_type": "markdown",
   "metadata": {},
   "source": [
    "Igualmente vamos a probar los siguientes algoritmos de clasificación:\n",
    "\n",
    "- Regresión lineal (LR)\n",
    "- Regularización de Regresión Lasso (L1)(LASSO)\n",
    "- Regularización de Regresión ElasticNet (EN)\n",
    "- k-vecinos más cercanos (KNN)\n",
    "- Árboles de decisión de regresión (CART)\n",
    "- Regresión de vectores de soporte (SVR)\n",
    "\n",
    "Usaremos la validación cruzada de nuevo probando con diversos nº de folds entre 3 y 10 y mediremos la precisión de los algoritmos mediante la métrica 'neg_mean_squared_error'\n",
    "\n",
    "**Inicialmente vamos a probar los algoritmos sobre los datos sin ningún preprocesamiento: no les hemos estandarizado ni reescalado.**"
   ]
  },
  {
   "cell_type": "code",
   "execution_count": 26,
   "metadata": {},
   "outputs": [
    {
     "name": "stdout",
     "output_type": "stream",
     "text": [
      "\u001b[1mPrecisiones con 3 splits\u001b[0m\n",
      "LR: -30.341336 (3.290981)\n",
      "LASSO: -32.285523 (1.806967)\n",
      "EN: -32.168451 (1.803811)\n",
      "KNN: -35.084229 (1.700378)\n",
      "CART: -60.459497 (0.855999)\n",
      "SVR: -38.333008 (2.981362)\n",
      "--------------------------\n",
      "\u001b[1mPrecisiones con 5 splits\u001b[0m\n",
      "LR: -30.538431 (3.599254)\n",
      "LASSO: -32.602406 (2.825201)\n",
      "EN: -32.441872 (2.632521)\n",
      "KNN: -35.493400 (4.177003)\n",
      "CART: -57.873026 (2.935296)\n",
      "SVR: -38.270435 (3.360004)\n",
      "--------------------------\n",
      "\u001b[1mPrecisiones con 7 splits\u001b[0m\n",
      "LR: -29.990089 (5.671678)\n",
      "LASSO: -32.245376 (4.568467)\n",
      "EN: -32.022553 (4.327241)\n",
      "KNN: -34.791413 (6.029833)\n",
      "CART: -56.433274 (6.301331)\n",
      "SVR: -38.377589 (6.977450)\n",
      "--------------------------\n",
      "\u001b[1mPrecisiones con 10 splits\u001b[0m\n",
      "LR: -30.095427 (5.626259)\n",
      "LASSO: -32.291902 (4.628354)\n",
      "EN: -32.124972 (4.619121)\n",
      "KNN: -35.040076 (6.815377)\n",
      "CART: -66.155045 (10.704065)\n",
      "SVR: -38.289293 (5.514200)\n",
      "--------------------------\n"
     ]
    }
   ],
   "source": [
    "## Algoritmos de control/Test puntual. Usaremos 6 tipos:\n",
    "models = []\n",
    "models.append(('LR', LinearRegression()))\n",
    "models.append(('LASSO', Lasso()))\n",
    "models.append(('EN', ElasticNet()))\n",
    "models.append(('KNN', KNeighborsRegressor()))\n",
    "models.append(('CART', DecisionTreeRegressor()))\n",
    "models.append(('SVR', SVR(gamma='scale')))\n",
    "\n",
    "#En un diccionario 'allresults' vamos guardando los resultados de los modelos para los diversos cv con 3,5,7 y 10 folds\n",
    "\n",
    "allresults = {}\n",
    "names = []\n",
    "for nsplits in (3,5,7,10):\n",
    "    print('\\033[1m' + 'Precisiones con %d splits' % nsplits + '\\033[0m')\n",
    "    results = []\n",
    "    for name, model in models:\n",
    "        kfold = KFold(n_splits=nsplits, shuffle=True, random_state=seed)\n",
    "        cv_results = cross_val_score(model, X_train_3, y_train_3, cv=kfold, scoring='neg_mean_squared_error')\n",
    "        results.append(cv_results)\n",
    "        names.append(name)\n",
    "        msg = \"%s: %f (%f)\" % (name, cv_results.mean(), cv_results.std())\n",
    "        print(msg)\n",
    "    print('--------------------------')\n",
    "    allresults[nsplits] = results"
   ]
  },
  {
   "cell_type": "markdown",
   "metadata": {},
   "source": [
    "**Trabajemos ahora con una estandarización para revisar su capacidad utilizando una copia estandarizada de los datos**.\n",
    "\n",
    "### Estandarización del dataset"
   ]
  },
  {
   "cell_type": "code",
   "execution_count": 27,
   "metadata": {},
   "outputs": [
    {
     "name": "stdout",
     "output_type": "stream",
     "text": [
      "\u001b[1mPrecisiones con 3 splits\u001b[0m\n",
      "ScLR: -30.341336 (3.290981)\n",
      "ScLASSO: -33.807702 (2.962139)\n",
      "ScEN: -31.888402 (2.479627)\n",
      "ScKNN: -32.837768 (2.982163)\n",
      "ScCART: -56.655587 (3.797580)\n",
      "ScSVR: -30.669460 (1.981478)\n",
      "--------------------------\n",
      "\u001b[1mPrecisiones con 5 splits\u001b[0m\n",
      "ScLR: -30.538431 (3.599254)\n",
      "ScLASSO: -33.950611 (3.320366)\n",
      "ScEN: -32.091908 (3.324794)\n",
      "ScKNN: -33.617472 (2.655968)\n",
      "ScCART: -56.971457 (3.297314)\n",
      "ScSVR: -31.049841 (2.700430)\n",
      "--------------------------\n",
      "\u001b[1mPrecisiones con 7 splits\u001b[0m\n",
      "ScLR: -29.990089 (5.671678)\n",
      "ScLASSO: -33.653898 (6.274859)\n",
      "ScEN: -31.903649 (5.782606)\n",
      "ScKNN: -31.895454 (6.250493)\n",
      "ScCART: -57.342376 (8.332564)\n",
      "ScSVR: -30.774451 (5.840736)\n",
      "--------------------------\n",
      "\u001b[1mPrecisiones con 10 splits\u001b[0m\n",
      "ScLR: -30.095427 (5.626259)\n",
      "ScLASSO: -33.903404 (5.028003)\n",
      "ScEN: -32.041005 (5.209035)\n",
      "ScKNN: -32.211487 (7.138386)\n",
      "ScCART: -65.595063 (13.129110)\n",
      "ScSVR: -30.668673 (5.607727)\n",
      "--------------------------\n"
     ]
    }
   ],
   "source": [
    "# Estandarización del dataset\n",
    "pipelines = []\n",
    "pipelines.append(('ScLR', Pipeline([('Scaler', StandardScaler()),('LR', LinearRegression())])))\n",
    "pipelines.append(('ScLASSO', Pipeline([('Scaler', StandardScaler()),('LASSO', Lasso())])))\n",
    "pipelines.append(('ScEN', Pipeline([('Scaler', StandardScaler()),('EN', ElasticNet())])))\n",
    "pipelines.append(('ScKNN', Pipeline([('Scaler', StandardScaler()),('KNN', KNeighborsRegressor())])))\n",
    "pipelines.append(('ScCART', Pipeline([('Scaler', StandardScaler()),('CART', DecisionTreeRegressor())])))\n",
    "pipelines.append(('ScSVR', Pipeline([('Scaler', StandardScaler()),('SVR', SVR(gamma='scale'))])))\n",
    "\n",
    "allresults = {}\n",
    "names = []\n",
    "for nsplits in (3,5,7,10):\n",
    "    print('\\033[1m' + 'Precisiones con %d splits' % nsplits + '\\033[0m')\n",
    "    results = []\n",
    "    for name, model in pipelines:\n",
    "        kfold = KFold(n_splits=nsplits, shuffle=True, random_state=seed)\n",
    "        cv_results = cross_val_score(model, X_train_3, y_train_3, cv=kfold, scoring='neg_mean_squared_error')\n",
    "        results.append(cv_results)\n",
    "        names.append(name)\n",
    "        msg = \"%s: %f (%f)\" % (name, cv_results.mean(), cv_results.std())\n",
    "        print(msg)\n",
    "    print('--------------------------')\n",
    "    allresults[nsplits] = results"
   ]
  },
  {
   "cell_type": "markdown",
   "metadata": {},
   "source": [
    "**Finalmente revisamos cómo funciona si usamos una copia de los datos reescalados**\n",
    "\n",
    "### Reescalado del dataset (entre 0 y 1)"
   ]
  },
  {
   "cell_type": "code",
   "execution_count": 28,
   "metadata": {},
   "outputs": [
    {
     "name": "stdout",
     "output_type": "stream",
     "text": [
      "\u001b[1mPrecisiones con 3 splits\u001b[0m\n",
      "mMLR: -30.341336 (3.290981)\n",
      "mMLASSO: -38.218334 (3.175546)\n",
      "mMEN: -38.218334 (3.175546)\n",
      "mMKNN: -32.657866 (2.645055)\n",
      "mMCART: -59.113809 (1.703948)\n",
      "mMSVR: -30.689464 (2.144534)\n",
      "--------------------------\n",
      "\u001b[1mPrecisiones con 5 splits\u001b[0m\n",
      "mMLR: -30.538431 (3.599254)\n",
      "mMLASSO: -38.176349 (3.322022)\n",
      "mMEN: -38.176349 (3.322022)\n",
      "mMKNN: -33.439794 (4.373502)\n",
      "mMCART: -55.099840 (4.286241)\n",
      "mMSVR: -31.118857 (3.242354)\n",
      "--------------------------\n",
      "\u001b[1mPrecisiones con 7 splits\u001b[0m\n",
      "mMLR: -29.990089 (5.671678)\n",
      "mMLASSO: -38.184250 (6.463941)\n",
      "mMEN: -38.184250 (6.463941)\n",
      "mMKNN: -32.535983 (7.519647)\n",
      "mMCART: -55.450711 (8.345408)\n",
      "mMSVR: -30.908069 (6.289142)\n",
      "--------------------------\n",
      "\u001b[1mPrecisiones con 10 splits\u001b[0m\n",
      "mMLR: -30.095427 (5.626259)\n",
      "mMLASSO: -38.180183 (4.940528)\n",
      "mMEN: -38.180183 (4.940528)\n",
      "mMKNN: -33.155643 (7.980772)\n",
      "mMCART: -64.603970 (12.982818)\n",
      "mMSVR: -30.732908 (5.529195)\n",
      "--------------------------\n"
     ]
    }
   ],
   "source": [
    "# Reescalado del dataset\n",
    "pipelines = []\n",
    "pipelines.append(('mMLR', Pipeline([('Scaler', MinMaxScaler()),('LR', LinearRegression())])))\n",
    "pipelines.append(('mMLASSO', Pipeline([('Scaler', MinMaxScaler()),('LASSO', Lasso())])))\n",
    "pipelines.append(('mMEN', Pipeline([('Scaler', MinMaxScaler()),('EN', ElasticNet())])))\n",
    "pipelines.append(('mMKNN', Pipeline([('Scaler', MinMaxScaler()),('KNN', KNeighborsRegressor())])))\n",
    "pipelines.append(('mMCART', Pipeline([('Scaler', MinMaxScaler()),('CART', DecisionTreeRegressor())])))\n",
    "pipelines.append(('mMSVR', Pipeline([('Scaler', MinMaxScaler()),('SVR', SVR(gamma='scale'))])))\n",
    "\n",
    "allresults = {}\n",
    "names = []\n",
    "for nsplits in (3,5,7,10):\n",
    "    print('\\033[1m' + 'Precisiones con %d splits' % nsplits + '\\033[0m')\n",
    "    results = []\n",
    "    for name, model in pipelines:\n",
    "        kfold = KFold(n_splits=nsplits, shuffle=True, random_state=seed)\n",
    "        cv_results = cross_val_score(model, X_train_3, y_train_3, cv=kfold, scoring='neg_mean_squared_error')\n",
    "        results.append(cv_results)\n",
    "        names.append(name)\n",
    "        msg = \"%s: %f (%f)\" % (name, cv_results.mean(), cv_results.std())\n",
    "        print(msg)\n",
    "    print('--------------------------')\n",
    "    allresults[nsplits] = results"
   ]
  },
  {
   "cell_type": "markdown",
   "metadata": {},
   "source": [
    "**Ninguno de todos estos valores es mejor que los obtenidos en el primer caso**"
   ]
  },
  {
   "cell_type": "markdown",
   "metadata": {},
   "source": [
    "## 3.2- Ensembles (Conjuntos)\n",
    "\n",
    "Podemos probar los mismos ensembles de antes."
   ]
  },
  {
   "cell_type": "code",
   "execution_count": 29,
   "metadata": {},
   "outputs": [
    {
     "name": "stdout",
     "output_type": "stream",
     "text": [
      "\u001b[1mPrecisiones con 3 splits\u001b[0m\n",
      "AB: -30.552563 (1.681326)\n",
      "GBM: -32.215168 (0.982507)\n",
      "RF: -30.920280 (2.022447)\n",
      "ET: -29.879461 (2.956388)\n",
      "--------------------------\n",
      "\u001b[1mPrecisiones con 5 splits\u001b[0m\n",
      "AB: -32.358948 (3.849457)\n",
      "GBM: -30.421322 (2.231318)\n",
      "RF: -30.275198 (3.978965)\n",
      "ET: -30.345797 (3.505337)\n",
      "--------------------------\n",
      "\u001b[1mPrecisiones con 7 splits\u001b[0m\n",
      "AB: -31.067891 (4.938095)\n",
      "GBM: -30.271654 (3.895651)\n",
      "RF: -29.559337 (4.838741)\n",
      "ET: -29.289769 (5.084663)\n",
      "--------------------------\n",
      "\u001b[1mPrecisiones con 10 splits\u001b[0m\n",
      "AB: -31.585140 (6.062872)\n",
      "GBM: -29.360865 (6.106911)\n",
      "RF: -29.883951 (5.916195)\n",
      "ET: -29.605763 (5.604723)\n",
      "--------------------------\n"
     ]
    }
   ],
   "source": [
    "#inicialmente probamos con los datos sin escalar\n",
    "\n",
    "ensembles = []\n",
    "ensembles.append(('AB', AdaBoostRegressor()))\n",
    "ensembles.append(('GBM', GradientBoostingRegressor()))\n",
    "ensembles.append(('RF', RandomForestRegressor(n_estimators=100)))\n",
    "ensembles.append(('ET', ExtraTreesRegressor(n_estimators=100)))\n",
    "\n",
    "allresults = {}\n",
    "names = []\n",
    "for nsplits in (3,5,7,10):\n",
    "    print('\\033[1m' + 'Precisiones con %d splits' % nsplits + '\\033[0m')\n",
    "    results = []\n",
    "    for name, model in ensembles:\n",
    "        kfold = KFold(n_splits=nsplits, shuffle=True, random_state=seed)\n",
    "        cv_results = cross_val_score(model, X_train_3, y_train_3, cv=kfold, scoring='neg_mean_squared_error')\n",
    "        results.append(cv_results)\n",
    "        names.append(name)\n",
    "        msg = \"%s: %f (%f)\" % (name, cv_results.mean(), cv_results.std())\n",
    "        print(msg)\n",
    "    print('--------------------------')\n",
    "    allresults[nsplits] = results"
   ]
  },
  {
   "cell_type": "code",
   "execution_count": 30,
   "metadata": {},
   "outputs": [
    {
     "name": "stdout",
     "output_type": "stream",
     "text": [
      "\u001b[1mPrecisiones con 3 splits\u001b[0m\n",
      "ScaledAB: -31.996093 (2.045901)\n",
      "ScaledGBM: -32.112500 (1.030264)\n",
      "ScaledRF: -31.467439 (1.769176)\n",
      "ScaledET: -30.553310 (2.727274)\n",
      "--------------------------\n",
      "\u001b[1mPrecisiones con 5 splits\u001b[0m\n",
      "ScaledAB: -31.987030 (2.638307)\n",
      "ScaledGBM: -30.420131 (2.305778)\n",
      "ScaledRF: -30.924397 (3.436547)\n",
      "ScaledET: -30.058119 (3.112675)\n",
      "--------------------------\n",
      "\u001b[1mPrecisiones con 7 splits\u001b[0m\n",
      "ScaledAB: -32.011100 (5.238032)\n",
      "ScaledGBM: -30.274637 (3.823123)\n",
      "ScaledRF: -29.815928 (4.511272)\n",
      "ScaledET: -28.901358 (5.369499)\n",
      "--------------------------\n",
      "\u001b[1mPrecisiones con 10 splits\u001b[0m\n",
      "ScaledAB: -31.853445 (6.056951)\n",
      "ScaledGBM: -29.279941 (6.056855)\n",
      "ScaledRF: -29.943707 (6.467730)\n",
      "ScaledET: -29.311172 (5.908387)\n",
      "--------------------------\n"
     ]
    }
   ],
   "source": [
    "#Ahora probamos estandarizando los datos\n",
    "\n",
    "ensembles = []\n",
    "ensembles.append(('ScaledAB', Pipeline([('Scaler', StandardScaler()),('AB', AdaBoostRegressor())])))\n",
    "ensembles.append(('ScaledGBM', Pipeline([('Scaler', StandardScaler()),('GBM', GradientBoostingRegressor())])))\n",
    "ensembles.append(('ScaledRF', Pipeline([('Scaler', StandardScaler()),('RF', RandomForestRegressor(n_estimators=100))])))\n",
    "ensembles.append(('ScaledET', Pipeline([('Scaler', StandardScaler()),('ET', ExtraTreesRegressor(n_estimators=100))])))\n",
    "\n",
    "allresults = {}\n",
    "names = []\n",
    "for nsplits in (3,5,7,10):\n",
    "    print('\\033[1m' + 'Precisiones con %d splits' % nsplits + '\\033[0m')\n",
    "    results = []\n",
    "    for name, model in ensembles:\n",
    "        kfold = KFold(n_splits=nsplits, shuffle=True, random_state=seed)\n",
    "        cv_results = cross_val_score(model, X_train_3, y_train_3, cv=kfold, scoring='neg_mean_squared_error')\n",
    "        results.append(cv_results)\n",
    "        names.append(name)\n",
    "        msg = \"%s: %f (%f)\" % (name, cv_results.mean(), cv_results.std())\n",
    "        print(msg)\n",
    "    print('--------------------------')\n",
    "    allresults[nsplits] = results"
   ]
  },
  {
   "cell_type": "code",
   "execution_count": 31,
   "metadata": {},
   "outputs": [
    {
     "name": "stdout",
     "output_type": "stream",
     "text": [
      "\u001b[1mPrecisiones con 3 splits\u001b[0m\n",
      "ScaledAB: -31.773228 (1.249348)\n",
      "ScaledGBM: -32.083717 (1.175042)\n",
      "ScaledRF: -30.416676 (2.330039)\n",
      "ScaledET: -29.810521 (3.454755)\n",
      "--------------------------\n",
      "\u001b[1mPrecisiones con 5 splits\u001b[0m\n",
      "ScaledAB: -31.716579 (3.311365)\n",
      "ScaledGBM: -30.209462 (2.336992)\n",
      "ScaledRF: -30.594336 (3.675830)\n",
      "ScaledET: -30.059222 (2.730079)\n",
      "--------------------------\n",
      "\u001b[1mPrecisiones con 7 splits\u001b[0m\n",
      "ScaledAB: -31.114270 (5.469521)\n",
      "ScaledGBM: -30.350896 (3.915681)\n",
      "ScaledRF: -29.809279 (5.041035)\n",
      "ScaledET: -29.280431 (5.245424)\n",
      "--------------------------\n",
      "\u001b[1mPrecisiones con 10 splits\u001b[0m\n",
      "ScaledAB: -32.030397 (5.927186)\n",
      "ScaledGBM: -29.264438 (6.118589)\n",
      "ScaledRF: -29.500202 (5.722423)\n",
      "ScaledET: -28.991327 (5.688172)\n",
      "--------------------------\n"
     ]
    }
   ],
   "source": [
    "#Y probamos finalmente reescalando los datos entre 0 y 1\n",
    "\n",
    "ensembles = []\n",
    "ensembles.append(('ScaledAB', Pipeline([('Scaler', MinMaxScaler()),('AB', AdaBoostRegressor())])))\n",
    "ensembles.append(('ScaledGBM', Pipeline([('Scaler', MinMaxScaler()),('GBM', GradientBoostingRegressor())])))\n",
    "ensembles.append(('ScaledRF', Pipeline([('Scaler', MinMaxScaler()),('RF', RandomForestRegressor(n_estimators=100))])))\n",
    "ensembles.append(('ScaledET', Pipeline([('Scaler', MinMaxScaler()),('ET', ExtraTreesRegressor(n_estimators=100))])))\n",
    "\n",
    "allresults = {}\n",
    "names = []\n",
    "for nsplits in (3,5,7,10):\n",
    "    print('\\033[1m' + 'Precisiones con %d splits' % nsplits + '\\033[0m')\n",
    "    results = []\n",
    "    for name, model in ensembles:\n",
    "        kfold = KFold(n_splits=nsplits, shuffle=True, random_state=seed)\n",
    "        cv_results = cross_val_score(model, X_train_3, y_train_3, cv=kfold, scoring='neg_mean_squared_error')\n",
    "        results.append(cv_results)\n",
    "        names.append(name)\n",
    "        msg = \"%s: %f (%f)\" % (name, cv_results.mean(), cv_results.std())\n",
    "        print(msg)\n",
    "    print('--------------------------')\n",
    "    allresults[nsplits] = results"
   ]
  },
  {
   "cell_type": "markdown",
   "metadata": {},
   "source": [
    "Obtenemos **un mejor valor** con el ET con 10 folds **con los datos reescalados sin selección de características** que con selección de características. \n",
    "\n",
    "## Resumen:\n",
    "- Con Seleccion Caracteristicas NO2\n",
    "    - Sin escalado: LR 7 folds (30.489)\n",
    "    - Estandarizando: no mejora\n",
    "    - Reescalando: no mejora\n",
    "\n",
    "    Ensembles:\n",
    "    - Sin escalado: GBM 10 folds (29.737)\n",
    "    - Estandarizando: no mejora\n",
    "    - Reescalando: GBM 10 folds (29.652)\n",
    "\n",
    "- Con Seleccion Caracteristicas PCA\n",
    "\n",
    "    Nada mejora\n",
    "\n",
    "- Sin Seleccion Caracteristicas\n",
    "    - Sin escalado: no mejora\n",
    "    - Estandarizando: no mejora\n",
    "    - Reescalando: no mejora\n",
    "\n",
    "    Ensembles:\n",
    "    - Sin escalado: ET 7 folds (29.29)\n",
    "    - Estandarizando: GBM 10 folds (29.28)\n",
    "    - Reescalando: ET 10 folds (28.991)\n",
    "\n",
    "## Conclusión:\n",
    "#### **El mejor modelo obtenido es el ensemble ExtraTreesRegressor (ET) con validación cruzada de 10 folds, sin reducción de características y con los datos reescalados entre 0 y 1, obteniendo un error cuadrático medio negativo de -28.991**"
   ]
  },
  {
   "cell_type": "markdown",
   "metadata": {},
   "source": [
    "## 3.3- Tunning del ExtraTreeRegressor\n",
    "Cogiendo de nuevo el dataset sin selección de características, y el modelo ExtraTreesRegressor (ET) con los datos reescalados, vamos a probar a mejorarlo ajustando su número de Estimadores, para ver si obtenemos mejor puntuación con algún número distinto de 100."
   ]
  },
  {
   "cell_type": "code",
   "execution_count": 32,
   "metadata": {},
   "outputs": [
    {
     "name": "stdout",
     "output_type": "stream",
     "text": [
      "-29.149809 (5.484566) with n_estimators: 50\n",
      "-28.993648 (5.368289) with n_estimators: 100\n",
      "-28.905066 (5.636153) with n_estimators: 150\n",
      "-28.739953 (5.206112) with n_estimators: 200\n",
      "-28.660213 (5.199614) with n_estimators: 250\n",
      "-28.887963 (5.517956) with n_estimators: 300\n",
      "-28.869632 (5.414241) with n_estimators: 350\n",
      "-28.622275 (5.568562) with n_estimators: 400\n"
     ]
    }
   ],
   "source": [
    "for num_estimators in (50,100,150,200,250,300,350,400):\n",
    "    model=Pipeline([('Scaler', MinMaxScaler()),('ET', ExtraTreesRegressor(n_estimators=num_estimators))])\n",
    "    kfold = KFold(n_splits=10, shuffle=True, random_state=seed)\n",
    "    cv_results = cross_val_score(model, X_train_3, y_train_3, cv=kfold, scoring='neg_mean_squared_error')\n",
    "    print(\"%f (%f) with n_estimators: %r\" % (cv_results.mean(), cv_results.std(), num_estimators))"
   ]
  },
  {
   "cell_type": "markdown",
   "metadata": {},
   "source": [
    "### Mejoramos el modelo con 400 estimadores."
   ]
  },
  {
   "cell_type": "markdown",
   "metadata": {},
   "source": [
    "# 4) Finalizar el modelo\n",
    "## Predicciones sobre el conjunto de datos de validación"
   ]
  },
  {
   "cell_type": "code",
   "execution_count": 33,
   "metadata": {},
   "outputs": [
    {
     "data": {
      "text/plain": [
       "Pipeline(steps=[('Scaler', MinMaxScaler()),\n",
       "                ('ET', ExtraTreesRegressor(n_estimators=400))])"
      ]
     },
     "execution_count": 33,
     "metadata": {},
     "output_type": "execute_result"
    }
   ],
   "source": [
    "## Preparamos el modelo y lo entrenamos sobre el dataset de entrenamiento\n",
    "## cogiendo el dataset sin selección de características\n",
    "\n",
    "array = dfMergeado.values\n",
    "X = array[:,2:]\n",
    "y = array[:,1]\n",
    "validation_size = 0.20\n",
    "seed = 7\n",
    "X_train, X_validation, y_train, y_validation = train_test_split(X, y, test_size=validation_size, random_state=seed)\n",
    "\n",
    "model=Pipeline([('Scaler', MinMaxScaler()),('ET', ExtraTreesRegressor(n_estimators=400))])\n",
    "model.fit(X_train, y_train)"
   ]
  },
  {
   "cell_type": "code",
   "execution_count": 34,
   "metadata": {},
   "outputs": [
    {
     "name": "stdout",
     "output_type": "stream",
     "text": [
      "32.02154830740475\n"
     ]
    }
   ],
   "source": [
    "### Aplicamos predicciones sobre el dataset de validación y obtenemos su error cuadrático medio\n",
    "\n",
    "predicciones = model.predict(X_validation)\n",
    "print(mean_squared_error(y_validation, predicciones))"
   ]
  },
  {
   "cell_type": "markdown",
   "metadata": {},
   "source": [
    "Vamos a pintar los datos NO2 de validación junto a las predicciones realizadas por nuestro algoritmo"
   ]
  },
  {
   "cell_type": "code",
   "execution_count": 35,
   "metadata": {},
   "outputs": [
    {
     "data": {
      "image/png": "[encoded data removed]",
      "text/plain": [
       "<Figure size 1512x576 with 1 Axes>"
      ]
     },
     "metadata": {
      "needs_background": "light"
     },
     "output_type": "display_data"
    }
   ],
   "source": [
    "plt.figure(figsize=(21, 8))\n",
    "\n",
    "grafica = plt.plot(y_validation,'--r',predicciones,'-og')\n",
    "plt.legend(('Valores validación NO2', 'Predicciones NO2'),\n",
    "           loc='upper right')\n",
    "plt.show;"
   ]
  },
  {
   "cell_type": "markdown",
   "metadata": {},
   "source": [
    "## 5) Guardado del modelo"
   ]
  },
  {
   "cell_type": "code",
   "execution_count": 36,
   "metadata": {},
   "outputs": [
    {
     "data": {
      "text/plain": [
       "Pipeline(steps=[('Scaler', MinMaxScaler()),\n",
       "                ('ET', ExtraTreesRegressor(n_estimators=400))])"
      ]
     },
     "execution_count": 36,
     "metadata": {},
     "output_type": "execute_result"
    }
   ],
   "source": [
    "#Entrenamos el modelo con el dataset completo\n",
    "\n",
    "array = dfMergeado.values\n",
    "X = array[:,2:]\n",
    "y = array[:,1]\n",
    "\n",
    "model=Pipeline([('Scaler', MinMaxScaler()),('ET', ExtraTreesRegressor(n_estimators=400))])\n",
    "model.fit(X, y)"
   ]
  },
  {
   "cell_type": "code",
   "execution_count": 37,
   "metadata": {},
   "outputs": [
    {
     "data": {
      "text/plain": [
       "['Modelo_finalizado_BarcelonaNO2.sav']"
      ]
     },
     "execution_count": 37,
     "metadata": {},
     "output_type": "execute_result"
    }
   ],
   "source": [
    "#Guardamos el modelo usando la biblioteca Joblib\n",
    "\n",
    "fichero_modeloJoblib = 'Modelo_finalizado_BarcelonaNO2.sav'\n",
    "dump(model, fichero_modeloJoblib)"
   ]
  },
  {
   "cell_type": "code",
   "execution_count": null,
   "metadata": {},
   "outputs": [],
   "source": []
  }
 ],
 "metadata": {
  "kernelspec": {
   "display_name": "Python 3",
   "language": "python",
   "name": "python3"
  },
  "language_info": {
   "codemirror_mode": {
    "name": "ipython",
    "version": 3
   },
   "file_extension": ".py",
   "mimetype": "text/x-python",
   "name": "python",
   "nbconvert_exporter": "python",
   "pygments_lexer": "ipython3",
   "version": "3.8.5"
  }
 },
 "nbformat": 4,
 "nbformat_minor": 4
}
