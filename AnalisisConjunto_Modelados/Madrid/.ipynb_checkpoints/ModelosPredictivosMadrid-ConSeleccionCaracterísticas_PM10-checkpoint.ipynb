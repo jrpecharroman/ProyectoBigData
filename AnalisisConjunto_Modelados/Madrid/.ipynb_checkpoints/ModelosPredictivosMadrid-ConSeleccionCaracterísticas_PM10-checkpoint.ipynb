{
 "cells": [
  {
   "cell_type": "code",
   "execution_count": 1,
   "metadata": {
    "scrolled": true
   },
   "outputs": [
    {
     "name": "stdout",
     "output_type": "stream",
     "text": [
      "shape del df --> (729, 8)\n",
      "columnas del df --> Index(['fecha', 'pm10', 'no2', 'tmed', 'velmedia', 'racha', 'presmax',\n",
      "       'intensidad'],\n",
      "      dtype='object')\n",
      "Nulos del df --> fecha         0\n",
      "pm10          0\n",
      "no2           0\n",
      "tmed          0\n",
      "velmedia      0\n",
      "racha         0\n",
      "presmax       0\n",
      "intensidad    0\n",
      "dtype: int64\n",
      "Nulos del df --> fecha         0\n",
      "pm10          0\n",
      "no2           0\n",
      "tmed          0\n",
      "velmedia      0\n",
      "racha         0\n",
      "presmax       0\n",
      "intensidad    0\n",
      "dtype: int64\n"
     ]
    },
    {
     "data": {
      "image/png": "[encoded data removed]",
      "text/plain": [
       "<Figure size 432x288 with 2 Axes>"
      ]
     },
     "metadata": {
      "needs_background": "light"
     },
     "output_type": "display_data"
    }
   ],
   "source": [
    "import numpy\n",
    "import pandas as pd\n",
    "from numpy import arange\n",
    "from matplotlib import pyplot\n",
    "from pandas import read_csv\n",
    "from pandas import set_option\n",
    "from pandas.plotting import scatter_matrix\n",
    "from sklearn.preprocessing import StandardScaler\n",
    "from sklearn.model_selection import train_test_split\n",
    "from sklearn.model_selection import KFold\n",
    "from sklearn.model_selection import cross_val_score\n",
    "from sklearn.model_selection import GridSearchCV\n",
    "from sklearn.linear_model import LinearRegression\n",
    "from sklearn.linear_model import Lasso\n",
    "from sklearn.linear_model import ElasticNet\n",
    "from sklearn.tree import DecisionTreeRegressor\n",
    "from sklearn.neighbors import KNeighborsRegressor\n",
    "from sklearn.svm import SVR\n",
    "from sklearn.pipeline import Pipeline\n",
    "from sklearn.ensemble import RandomForestRegressor\n",
    "from sklearn.ensemble import GradientBoostingRegressor\n",
    "from sklearn.ensemble import ExtraTreesRegressor\n",
    "from sklearn.ensemble import AdaBoostRegressor\n",
    "from sklearn.metrics import mean_squared_error\n",
    "from sklearn.impute import SimpleImputer\n",
    "\n",
    "\n",
    "\n",
    "dfMergeMadrid = pd.read_csv('./DatosMergeadosMadrid_ConSeleccionCaract.csv' , delimiter=',', na_values='?')\n",
    "\n",
    "print(\"shape del df -->\",dfMergeMadrid.shape)\n",
    "print(\"columnas del df -->\",dfMergeMadrid.columns)\n",
    "\n",
    "#dfMergeMadrid.drop('indicativo', axis='columns', inplace=True)\n",
    "#dfMergeMadrid.drop('fecha', axis='columns', inplace=True)\n",
    "\n",
    "\n",
    "#print(\"Las columnas del df son: --> \",dfMergeMadrid.columns)\n",
    "#print(\"Este es el encabezado -->\",dfMergeMadrid.head())\n",
    "print(\"Nulos del df -->\",dfMergeMadrid.isnull().sum())\n",
    "\n",
    "print(\"Nulos del df -->\",dfMergeMadrid.isnull().sum())\n",
    "\n",
    "\n",
    "\n",
    "### matriz de correlación\n",
    "fig = pyplot.figure()\n",
    "ax = fig.add_subplot(111)\n",
    "cax = ax.matshow(dfMergeMadrid.corr(), vmin=-1, vmax=1, interpolation='none')\n",
    "fig.colorbar(cax)\n",
    "ticks = arange(0,6,1)\n",
    "ax.set_xticks(ticks)\n",
    "ax.set_yticks(ticks)\n",
    "pyplot.show()"
   ]
  },
  {
   "cell_type": "markdown",
   "metadata": {},
   "source": [
    "Test puntual de algoritmos: Línea base\n",
    "\n",
    "En primera instancia, no tenemos idea de qué algoritmos funcionarán bien en este problema. Una intuición inicial sugiere que los algoritmos de regresión como Regresión lineal y ElasticNet pueden funcionar bien. También es posible que los árboles de decisión e incluso SVM lo hagan bien. No tengo idea. Diseñemos nuestra selección de prueba.\n",
    "\n",
    "Vamos a utilizar 10 veces la validación cruzada. El conjunto de datos no es demasiado pequeño y esta es una buena configuración para la selección de la prueba estándar. Evaluaremos los algoritmos utilizando la métrica de error cuadrático medio (MSE). MSE dará una idea general de cuán equivocadas son todas las predicciones (0 es perfecto).\n",
    "\n",
    "Creamos una línea de base de rendimiento en este problema y revisamos una serie de algoritmos diferentes. Seleccionaremos un conjunto de algoritmos diferentes capaces de trabajar en este problema de regresión. Los seis algoritmos seleccionados son:\n",
    "\n",
    "    Algoritmos lineales: Regresión lineal (LR), Regresión de lasso (LASSO) y ElasticNet (EN).\n",
    "    Algoritmos no lineales: árboles de clasificación y regresión (CART), Regresión de vectores de soporte (SVR) y k-vecinos más cercanos (KNN).\n",
    "\n"
   ]
  },
  {
   "cell_type": "markdown",
   "metadata": {},
   "source": [
    "# Evaluación de los algoritmos\n",
    "Dataset de validación de división (Split-out)\n",
    "\n",
    "Dejaremos 80-20, preparado para CV de 10-folds"
   ]
  },
  {
   "cell_type": "code",
   "execution_count": 2,
   "metadata": {},
   "outputs": [],
   "source": [
    "X = dfMergeMadrid.iloc[:,2:7]\n",
    "Y = dfMergeMadrid['pm10']\n",
    "validation_size = 0.20\n",
    "seed = 7\n",
    "X_train, X_validation, Y_train, Y_validation = train_test_split(X, Y, test_size=validation_size, random_state=seed)"
   ]
  },
  {
   "cell_type": "markdown",
   "metadata": {},
   "source": [
    "### Test puntual de algoritmos: Línea base\n",
    "Vamos a utilizar 10 veces la validación cruzada. El conjunto de datos no es demasiado pequeño y esta es una buena configuración para la selección de la prueba estándar. Evaluaremos los algoritmos utilizando la métrica de **error cuadrático medio (MSE)**. MSE dará una idea general de cuán equivocadas son todas las predicciones (0 es perfecto)."
   ]
  },
  {
   "cell_type": "code",
   "execution_count": 3,
   "metadata": {},
   "outputs": [],
   "source": [
    "num_folds = 10\n",
    "seed = 7\n",
    "scoring = 'neg_mean_squared_error'\n",
    "\n",
    "## c) Algoritmos de control/Test puntual. Usaremos 6 tipos:\n",
    "models = []\n",
    "models.append(('LR', LinearRegression()))\n",
    "models.append(('LASSO', Lasso()))\n",
    "models.append(('EN', ElasticNet()))\n",
    "models.append(('KNN', KNeighborsRegressor()))\n",
    "models.append(('CART', DecisionTreeRegressor()))\n",
    "models.append(('SVR', SVR(gamma='scale')))"
   ]
  },
  {
   "cell_type": "code",
   "execution_count": 4,
   "metadata": {},
   "outputs": [
    {
     "name": "stdout",
     "output_type": "stream",
     "text": [
      "LR: -45.654630 (6.863450)\n",
      "LASSO: -45.988504 (7.572141)\n",
      "EN: -45.853609 (7.502898)\n",
      "KNN: -37.490098 (7.003564)\n",
      "CART: -58.131940 (12.077356)\n",
      "SVR: -102.264255 (19.830496)\n"
     ]
    }
   ],
   "source": [
    "### evaluamos cada modelo por turnos\n",
    "results = []\n",
    "names = []\n",
    "for name, model in models:\n",
    "\tkfold = KFold(n_splits=num_folds, random_state=seed, shuffle=True)\n",
    "\tcv_results = cross_val_score(model, X_train, Y_train, cv=kfold, scoring=scoring)\n",
    "\tresults.append(cv_results)\n",
    "\tnames.append(name)\n",
    "\tmsg = \"%s: %f (%f)\" % (name, cv_results.mean(), cv_results.std())\n",
    "\tprint(msg)"
   ]
  },
  {
   "cell_type": "markdown",
   "metadata": {},
   "source": [
    "### - Comparación los algoritmos\n",
    "Habrá que mirar la distribución de puntajes en todos los *folds* de validación cruzada por cada algoritmo."
   ]
  },
  {
   "cell_type": "code",
   "execution_count": 5,
   "metadata": {},
   "outputs": [
    {
     "data": {
      "image/png": "[encoded data removed]",
      "text/plain": [
       "<Figure size 432x288 with 1 Axes>"
      ]
     },
     "metadata": {
      "needs_background": "light"
     },
     "output_type": "display_data"
    }
   ],
   "source": [
    "## d) Comparación los algoritmos, y escogemos el más preciso, que en este caso será SVR\n",
    "fig = pyplot.figure()\n",
    "fig.suptitle('Comparación de Algoritmos')\n",
    "ax = fig.add_subplot(111)\n",
    "pyplot.boxplot(results)\n",
    "ax.set_xticklabels(names)\n",
    "pyplot.show()"
   ]
  },
  {
   "cell_type": "markdown",
   "metadata": {},
   "source": [
    "\n",
    "### Estandarización del dataset\n",
    "Con la sospecha de que las diferentes escalas de los datos en bruto pueden afectar negativamente la capacidad de predicción de algunos de los algoritmos, evaluamos estos mismos algoritmos con una copia estandarizada del conjunto de datos. \n",
    "\n",
    "Es en este punto en donde los datos se transforman de tal manera que cada atributo tiene un **valor medio de 0 y una desviación estándar de 1**. \n",
    "\n",
    "También debemos evitar que se nos escapen datos cuando hacemos transformaciones. Una buena manera de evitarlo es usar **pipelines (tuberías)** que estandaricen los datos y construyan el modelo para cada *fold* en nuestra selección de prueba de validación cruzada. De esa manera podemos obtener una estimación justa de cómo podría funcionar cada modelo con datos estandarizados en datos no visibles."
   ]
  },
  {
   "cell_type": "code",
   "execution_count": 6,
   "metadata": {},
   "outputs": [
    {
     "name": "stdout",
     "output_type": "stream",
     "text": [
      "ScLR: -45.654630 (6.863450)\n",
      "ScLASSO: -49.071576 (9.716429)\n",
      "ScEN: -54.663693 (12.306918)\n",
      "ScKNN: -39.484455 (7.027288)\n",
      "ScCART: -59.457605 (7.193680)\n",
      "ScSVR: -44.166472 (8.117567)\n"
     ]
    }
   ],
   "source": [
    "# Estandarización del dataset\n",
    "pipelines = []\n",
    "pipelines.append(('ScLR', Pipeline([('Scaler', StandardScaler()),('LR', LinearRegression())])))\n",
    "pipelines.append(('ScLASSO', Pipeline([('Scaler', StandardScaler()),('LASSO', Lasso())])))\n",
    "pipelines.append(('ScEN', Pipeline([('Scaler', StandardScaler()),('EN', ElasticNet())])))\n",
    "pipelines.append(('ScKNN', Pipeline([('Scaler', StandardScaler()),('KNN', KNeighborsRegressor())])))\n",
    "pipelines.append(('ScCART', Pipeline([('Scaler', StandardScaler()),('CART', DecisionTreeRegressor())])))\n",
    "pipelines.append(('ScSVR', Pipeline([('Scaler', StandardScaler()),('SVR', SVR(gamma='scale'))])))\n",
    "results = []\n",
    "names = []\n",
    "for name, model in pipelines:\n",
    "\tkfold = KFold(n_splits=num_folds, random_state=seed, shuffle=True)\n",
    "\tcv_results = cross_val_score(model, X_train, Y_train, cv=kfold, scoring=scoring)\n",
    "\tresults.append(cv_results)\n",
    "\tnames.append(name)\n",
    "\tmsg = \"%s: %f (%f)\" % (name, cv_results.mean(), cv_results.std())\n",
    "\tprint(msg)"
   ]
  },
  {
   "cell_type": "code",
   "execution_count": 7,
   "metadata": {},
   "outputs": [
    {
     "data": {
      "image/png": "[encoded data removed]",
      "text/plain": [
       "<Figure size 432x288 with 1 Axes>"
      ]
     },
     "metadata": {
      "needs_background": "light"
     },
     "output_type": "display_data"
    }
   ],
   "source": [
    "## d) Comparación los algoritmos, y escogemos el más preciso\n",
    "fig = pyplot.figure()\n",
    "fig.suptitle('Comparación de escala de Algoritmos')\n",
    "ax = fig.add_subplot(111)\n",
    "pyplot.boxplot(results)\n",
    "ax.set_xticklabels(names)\n",
    "pyplot.show()"
   ]
  },
  {
   "cell_type": "markdown",
   "metadata": {},
   "source": [
    "# Mejorar la precisión del algoritmo KNN\n",
    "\n",
    "## a) Ajuste (tuning) del algoritmo\n",
    "Sabemos por los resultados del paso previo que **KNN** logra buenos resultados en una versión escalada del conjunto de datos; lo que tenemos es que mejorarlo. \n",
    "\n",
    "El valor predeterminado para el número de vecinos en **KNN es 7**. En este caso podemos usar una **grid search** (búsqueda de cuadrícula) para probar un conjunto de diferentes números de vecinos y ver si podemos mejorar la puntuación (hiper-parámetros). \n",
    "\n",
    "El siguiente ejemplo prueba valores *k* impares de 1 a 21, un rango arbitrario que cubre un valor bueno conocido de 7. Cada valor *k* (**n_neighbors**) se evalúa utilizando una validación cruzada de 10 veces en una copia estandarizada del conjunto de datos de entrenamiento. \n",
    "\n",
    "Vamos a ver cómo el valos de *k=13* es el mejor de lejos (menor MSE)."
   ]
  },
  {
   "cell_type": "code",
   "execution_count": 8,
   "metadata": {},
   "outputs": [
    {
     "name": "stdout",
     "output_type": "stream",
     "text": [
      "Mejor: -36.066849 usando {'n_neighbors': 13}\n",
      "-65.599269 (17.752235) with: {'n_neighbors': 1}\n",
      "-45.721391 (9.245629) with: {'n_neighbors': 3}\n",
      "-39.736146 (7.226264) with: {'n_neighbors': 5}\n",
      "-36.177631 (6.000901) with: {'n_neighbors': 7}\n",
      "-36.309402 (6.141019) with: {'n_neighbors': 9}\n",
      "-36.089022 (5.598028) with: {'n_neighbors': 11}\n",
      "-36.066849 (5.845637) with: {'n_neighbors': 13}\n",
      "-36.248097 (5.509121) with: {'n_neighbors': 15}\n",
      "-36.734874 (5.651360) with: {'n_neighbors': 17}\n",
      "-36.852305 (5.564987) with: {'n_neighbors': 19}\n",
      "-37.030564 (5.327189) with: {'n_neighbors': 21}\n"
     ]
    }
   ],
   "source": [
    "scaler = StandardScaler().fit(X_train)\n",
    "rescaledX = scaler.transform(X_train)\n",
    "k_values = numpy.array([1,3,5,7,9,11,13,15,17,19,21])\n",
    "param_grid = dict(n_neighbors=k_values)\n",
    "model = KNeighborsRegressor()\n",
    "kfold = KFold(n_splits=num_folds, random_state=seed, shuffle=True)\n",
    "grid = GridSearchCV(estimator=model, param_grid=param_grid, scoring=scoring, cv=kfold)\n",
    "grid_result = grid.fit(rescaledX, Y_train)\n",
    "\n",
    "print(\"Mejor: %f usando %s\" % (grid_result.best_score_, grid_result.best_params_))\n",
    "means = grid_result.cv_results_['mean_test_score']\n",
    "stds = grid_result.cv_results_['std_test_score']\n",
    "params = grid_result.cv_results_['params']\n",
    "for mean, stdev, param in zip(means, stds, params):\n",
    "    print(\"%f (%f) with: %r\" % (mean, stdev, param))"
   ]
  },
  {
   "cell_type": "markdown",
   "metadata": {},
   "source": [
    "Como podemos observar el mejor resultado lo obtenemos para k=13."
   ]
  },
  {
   "cell_type": "markdown",
   "metadata": {},
   "source": [
    "## b) Ensembles (Conjuntos)\n",
    "\n",
    "Recordamos de nuevo que otra forma para mejorar el rendimiento de los algoritmos es mediante el uso de métodos conjuntos o *ensembles*. Para ello vamos a evaluar 4 algoritmos de ML por conjuntos, 2 métodos de *boosting* o impulso y 2 de *bagging* o embolsado:\n",
    "\n",
    "- **Métodos de *boosting* (impulso)**: AdaBoost (AB) y Gradient Boosting (GBM).\n",
    "- **Métodos de *bagging* (embolsado)**: bosques aleatorios (RF) y árboles adicionales (ET).\n",
    "\n",
    "Usaremos la misma selección de prueba que antes, 10-fold la validación cruzada y las pipelines que estandarizan los datos de entrenamiento para cada pliegue."
   ]
  },
  {
   "cell_type": "code",
   "execution_count": 9,
   "metadata": {},
   "outputs": [
    {
     "name": "stdout",
     "output_type": "stream",
     "text": [
      "ScaledAB: -41.159119 (4.606960)\n",
      "ScaledGBM: -34.532486 (6.518559)\n",
      "ScaledRF: -33.990469 (5.099651)\n",
      "ScaledET: -35.002154 (5.237524)\n"
     ]
    }
   ],
   "source": [
    "ensembles = []\n",
    "ensembles.append(('ScaledAB', Pipeline([('Scaler', StandardScaler()),('AB', AdaBoostRegressor())])))\n",
    "ensembles.append(('ScaledGBM', Pipeline([('Scaler', StandardScaler()),('GBM', GradientBoostingRegressor())])))\n",
    "ensembles.append(('ScaledRF', Pipeline([('Scaler', StandardScaler()),('RF', RandomForestRegressor(n_estimators=100))])))\n",
    "ensembles.append(('ScaledET', Pipeline([('Scaler', StandardScaler()),('ET', ExtraTreesRegressor(n_estimators=100))])))\n",
    "results = []\n",
    "names = []\n",
    "for name, model in ensembles:\n",
    "\tkfold = KFold(n_splits=num_folds, random_state=seed, shuffle=True)\n",
    "\tcv_results = cross_val_score(model, X_train, Y_train, cv=kfold, scoring=scoring)\n",
    "\tresults.append(cv_results)\n",
    "\tnames.append(name)\n",
    "\tmsg = \"%s: %f (%f)\" % (name, cv_results.mean(), cv_results.std())\n",
    "\tprint(msg)"
   ]
  },
  {
   "cell_type": "markdown",
   "metadata": {},
   "source": [
    "### Ajuste del RF escalado\n",
    "\n",
    "El número que viene por defecto de etapas de *boosting* a realizar (n_estimators) es de 100. Este es un buen parámetro candidato para el RF. Sin embargo, en muchas ocasiones, **cuanto mayor sea el número de etapas, mejor será el rendimiento pero mayor será el tiempo de entrenamiento**. \n",
    "\n",
    "Hemos realizado un *grid search* sobre **n_estimators** de 50 a 400 con incrementos de 50 y verificamos cada configuración utilizando una validación cruzada de 10-folds."
   ]
  },
  {
   "cell_type": "code",
   "execution_count": 10,
   "metadata": {},
   "outputs": [
    {
     "name": "stdout",
     "output_type": "stream",
     "text": [
      "Mejor: -34.268051 usando {'n_estimators': 400}\n",
      "-34.850078 (5.054629) with: {'n_estimators': 50}\n",
      "-34.284346 (5.005982) with: {'n_estimators': 100}\n",
      "-34.311766 (4.801567) with: {'n_estimators': 150}\n",
      "-34.318814 (4.819788) with: {'n_estimators': 200}\n",
      "-34.385210 (4.737672) with: {'n_estimators': 250}\n",
      "-34.452347 (4.852746) with: {'n_estimators': 300}\n",
      "-34.372913 (4.981281) with: {'n_estimators': 350}\n",
      "-34.268051 (5.043116) with: {'n_estimators': 400}\n"
     ]
    }
   ],
   "source": [
    "scaler = StandardScaler().fit(X_train)\n",
    "rescaledX = scaler.transform(X_train)\n",
    "param_grid = dict(n_estimators=numpy.array([50,100,150,200,250,300,350,400]))\n",
    "model = RandomForestRegressor(random_state=seed)\n",
    "kfold = KFold(n_splits=num_folds, random_state=seed, shuffle=True)\n",
    "grid = GridSearchCV(estimator=model, param_grid=param_grid, scoring=scoring, cv=kfold)\n",
    "grid_result = grid.fit(rescaledX, Y_train)\n",
    "\n",
    "print(\"Mejor: %f usando %s\" % (grid_result.best_score_, grid_result.best_params_))\n",
    "means = grid_result.cv_results_['mean_test_score']\n",
    "stds = grid_result.cv_results_['std_test_score']\n",
    "params = grid_result.cv_results_['params']\n",
    "for mean, stdev, param in zip(means, stds, params):\n",
    "    print(\"%f (%f) with: %r\" % (mean, stdev, param))"
   ]
  },
  {
   "cell_type": "markdown",
   "metadata": {},
   "source": [
    "**Podemos ver que la mejor configuración es con n_estimators=400, que nos da un MSE de -34.268051**."
   ]
  },
  {
   "cell_type": "markdown",
   "metadata": {},
   "source": [
    "# Finalizar el modelo\n",
    "##  Predicciones sobre el conjunto de datos de validación\n"
   ]
  },
  {
   "cell_type": "code",
   "execution_count": 11,
   "metadata": {},
   "outputs": [
    {
     "data": {
      "text/plain": [
       "RandomForestRegressor(n_estimators=400, random_state=7)"
      ]
     },
     "execution_count": 11,
     "metadata": {},
     "output_type": "execute_result"
    }
   ],
   "source": [
    "## Preparamos el modelo y lo entrenamos sobre el dataset completo de entrenamiento\n",
    "scaler = StandardScaler().fit(X_train)\n",
    "rescaledX = scaler.transform(X_train)\n",
    "model = RandomForestRegressor(random_state=seed, n_estimators=400)\n",
    "model.fit(rescaledX, Y_train)"
   ]
  },
  {
   "cell_type": "code",
   "execution_count": 12,
   "metadata": {},
   "outputs": [
    {
     "name": "stdout",
     "output_type": "stream",
     "text": [
      "27.278697634845894\n"
     ]
    }
   ],
   "source": [
    "### Transformamos el dataset de validación, con el escalado que trabajamos\n",
    "rescaledValidationX = scaler.transform(X_validation)\n",
    "predicciones = model.predict(rescaledValidationX)\n",
    "print(mean_squared_error(Y_validation, predicciones))"
   ]
  },
  {
   "cell_type": "markdown",
   "metadata": {},
   "source": [
    "**Nos sale un MSE cercano a nuestra estimación de -34.268051.**"
   ]
  },
  {
   "cell_type": "code",
   "execution_count": null,
   "metadata": {},
   "outputs": [],
   "source": []
  }
 ],
 "metadata": {
  "kernelspec": {
   "display_name": "Python 3",
   "language": "python",
   "name": "python3"
  },
  "language_info": {
   "codemirror_mode": {
    "name": "ipython",
    "version": 3
   },
   "file_extension": ".py",
   "mimetype": "text/x-python",
   "name": "python",
   "nbconvert_exporter": "python",
   "pygments_lexer": "ipython3",
   "version": "3.8.5"
  }
 },
 "nbformat": 4,
 "nbformat_minor": 4
}
