{
 "cells": [
  {
   "cell_type": "markdown",
   "metadata": {},
   "source": [
    "# Modelo para predicción PM10 en Barcelona"
   ]
  },
  {
   "cell_type": "markdown",
   "metadata": {},
   "source": [
    "## Preprocesamiento, evaluación de algoritmos, construcción de modelo de predicción"
   ]
  },
  {
   "cell_type": "markdown",
   "metadata": {},
   "source": [
    "Realizamos primero un estudio completo cargando el dataset mergeado trabajado con selección de 4 características de Meteorología, y después lo repetiremo con los datos sin selección de características para comparar."
   ]
  },
  {
   "cell_type": "code",
<<<<<<< HEAD
<<<<<<< HEAD
   "execution_count": null,
   "metadata": {},
   "outputs": [],
   "source": []
=======
=======
>>>>>>> dev
   "execution_count": 1,
   "metadata": {},
   "outputs": [],
   "source": [
    "#Importamos las librerías que vamos a usar para los distintos pasos del problema\n",
    "\n",
    "import numpy as np\n",
    "import pandas as pd\n",
    "from numpy import set_printoptions\n",
    "#Visualización\n",
    "from pandas.plotting import scatter_matrix\n",
    "import matplotlib.pyplot as plt\n",
    "import seaborn as sns\n",
    "#Preprocesamiento\n",
    "from sklearn.preprocessing import MinMaxScaler\n",
    "from sklearn.preprocessing import StandardScaler\n",
    "from sklearn.preprocessing import Normalizer\n",
    "from sklearn.preprocessing import Binarizer\n",
    "#Remuestreo\n",
    "from sklearn.model_selection import train_test_split;\n",
    "from sklearn.model_selection import KFold\n",
    "from sklearn.model_selection import cross_val_score\n",
    "#Algoritmos de Regresión Lineal\n",
    "from sklearn.linear_model import LinearRegression\n",
    "from sklearn.linear_model import Lasso\n",
    "from sklearn.linear_model import Ridge\n",
    "from sklearn.linear_model import ElasticNet\n",
    "#Algoritmos de Regresión No Lineal\n",
    "from sklearn.tree import DecisionTreeRegressor\n",
    "from sklearn.neighbors import KNeighborsRegressor\n",
    "from sklearn.svm import SVR\n",
    "#Métricas de evaluación de algoritmos\n",
    "from sklearn import metrics\n",
    "from sklearn.metrics import confusion_matrix\n",
    "from sklearn.metrics import classification_report\n",
    "#Ensamblamiento Regresión\n",
    "from sklearn.ensemble import AdaBoostRegressor\n",
    "from sklearn.ensemble import GradientBoostingRegressor\n",
    "from sklearn.ensemble import RandomForestRegressor\n",
    "from sklearn.ensemble import ExtraTreesRegressor\n",
    "#Tuning\n",
    "from sklearn.model_selection import GridSearchCV\n",
    "from sklearn.model_selection import RandomizedSearchCV\n",
    "#Pipelines\n",
    "from sklearn.pipeline import Pipeline\n",
    "#Metricas\n",
    "from sklearn.metrics import mean_squared_error\n",
    "#Serializar (guardar y cerrar modelo)\n",
    "from joblib import dump\n"
   ]
  },
  {
   "cell_type": "markdown",
   "metadata": {},
   "source": [
    "## 1) Carga del dataset mergeado trabajado CON selección de características para PM10"
   ]
  },
  {
   "cell_type": "code",
   "execution_count": 2,
   "metadata": {},
   "outputs": [
    {
     "name": "stdout",
     "output_type": "stream",
     "text": [
      "Index(['pm10', 'year', 'month', 'day', 'tmed', 'racha', 'sol', 'presmin',\n",
      "       'week', 'season', 'season_name', 'estado_trafico', 'diadelasemana',\n",
      "       'findesemana'],\n",
      "      dtype='object')\n",
      "                 pm10  year  month  day  tmed  racha  sol  presmin  week  \\\n",
      "date                                                                       \n",
      "2018-01-01  10.000000  2018      1    1  12.8   18.1  5.1   1017.9     1   \n",
      "2018-01-02  11.000000  2018      1    2  14.6   10.3  3.1   1022.2     1   \n",
      "2018-01-03  10.000000  2018      1    3  17.9   18.3  1.9   1018.7     1   \n",
      "2018-01-04  11.000000  2018      1    4  19.2   20.0  5.9   1015.1     1   \n",
      "2018-01-05  10.000000  2018      1    5  16.4   13.3  6.4   1004.6     1   \n",
      "...               ...   ...    ...  ...   ...    ...  ...      ...   ...   \n",
      "2019-12-27  16.000000  2019     12   27  12.0    8.1  5.1   1026.3    52   \n",
      "2019-12-28  19.000000  2019     12   28  11.0    5.8  5.2   1028.0    52   \n",
      "2019-12-29  23.000000  2019     12   29  12.3    4.2  0.1   1030.3    52   \n",
      "2019-12-30  23.712692  2019     12   30  11.6    6.1  0.7   1031.2     1   \n",
      "2019-12-31  23.712692  2019     12   31  10.8    6.7  1.8   1030.8     1   \n",
      "\n",
      "            season season_name  estado_trafico  diadelasemana  findesemana  \n",
      "date                                                                        \n",
      "2018-01-01       1      Winter        1.501611              0            0  \n",
      "2018-01-02       1      Winter        1.855361              1            0  \n",
      "2018-01-03       1      Winter        1.914663              2            0  \n",
      "2018-01-04       1      Winter        1.917587              3            0  \n",
      "2018-01-05       1      Winter        1.933171              4            0  \n",
      "...            ...         ...             ...            ...          ...  \n",
      "2019-12-27       1      Winter        1.879245              4            0  \n",
      "2019-12-28       1      Winter        1.677568              5            1  \n",
      "2019-12-29       1      Winter        1.567480              6            1  \n",
      "2019-12-30       1      Winter        1.895104              0            0  \n",
      "2019-12-31       1      Winter        1.804372              1            0  \n",
      "\n",
      "[730 rows x 14 columns]\n"
     ]
    }
   ],
   "source": [
    "#cogemos el dataset trabajado anteriormente con los datos mergeados y habiendo hecho una reducción de variables\n",
    "url_fichero_mercscpm10 = './DatosMergeadosBarcelona_ConSeleccionCaract_ParaPM10.csv'\n",
    "dfMergeadoSelCaractPM10 = pd.read_csv(url_fichero_mercscpm10)\n",
    "dfMergeadoSelCaractPM10 = dfMergeadoSelCaractPM10.set_index('date')\n",
    "print(dfMergeadoSelCaractPM10.columns)\n",
    "print(dfMergeadoSelCaractPM10)"
   ]
  },
  {
   "cell_type": "markdown",
   "metadata": {},
   "source": [
    "## 1.1- Evaluación de los algoritmos\n",
    "### Dataset de validación de división (Split-out)\n",
    "**Dejaremos 80-20, preparado para CV de 10-folds** \n",
    "\n",
    "Vamos a separar el dataset en un 80 (train) - 20 (validation). Con el de 80 (train) haremos validación cruzada, y con el de 20 haremos la validación final.\n"
   ]
  },
  {
   "cell_type": "code",
   "execution_count": 3,
   "metadata": {},
   "outputs": [
    {
     "name": "stdout",
     "output_type": "stream",
     "text": [
      "X_Train_1:  (584, 12)\n",
      "X_Validation_1:  (146, 12)\n"
     ]
    }
   ],
   "source": [
    "array1 = dfMergeadoSelCaractPM10.drop(columns=['season_name']).values\n",
    "X_1 = array1[:,1:]\n",
    "y = array1[:,0]\n",
    "validation_size = 0.20\n",
    "seed = 7\n",
    "X_train_1, X_validation_1, y_train_1, y_validation_1 = train_test_split(X_1, y, test_size=validation_size, random_state=seed)\n",
    "print('X_Train_1: ', X_train_1.shape)\n",
    "print('X_Validation_1: ', X_validation_1.shape)"
   ]
  },
  {
   "cell_type": "markdown",
   "metadata": {},
   "source": [
    "Vamos a probar los siguientes algoritmos de clasificación:\n",
    "\n",
    "- Regresión lineal (LR)\n",
    "- Regularización de Regresión Lasso (L1)(LASSO)\n",
    "- Regularización de Regresión ElasticNet (EN)\n",
    "- k-vecinos más cercanos (KNN)\n",
    "- Árboles de decisión de regresión (CART)\n",
    "- Regresión de vectores de soporte (SVR)\n",
    "\n",
    "Usaremos una validación cruzada probando con diversos nº de folds entre 3 y 10 (la cantidad de datos que tenemos no es muy grande, y no sabemos bien con cuántos tendremos más precisión) y mediremos la precisión de los algoritmos mediante la métrica 'neg_mean_squared_error'"
   ]
  },
  {
   "cell_type": "markdown",
   "metadata": {},
   "source": [
    "**Inicialmente vamos a probar los algoritmos sobre los datos sin ningún preprocesamiento: no les hemos estandarizado ni reescalado.**"
   ]
  },
  {
   "cell_type": "code",
   "execution_count": 4,
   "metadata": {},
   "outputs": [
    {
     "name": "stdout",
     "output_type": "stream",
     "text": [
      "\u001b[1mPrecisiones con 3 splits\u001b[0m\n",
      "LR: -78.607484 (9.174554)\n",
      "LASSO: -85.345696 (6.512250)\n",
      "EN: -85.119668 (6.166794)\n",
      "KNN: -75.872737 (7.775086)\n",
      "CART: -179.689869 (44.887362)\n",
      "SVR: -98.935453 (6.807381)\n",
      "--------------------------\n",
      "\u001b[1mPrecisiones con 5 splits\u001b[0m\n",
      "LR: -78.305011 (17.382433)\n",
      "LASSO: -84.769873 (17.175359)\n",
      "EN: -84.622020 (17.405756)\n",
      "KNN: -71.850562 (12.256165)\n",
      "CART: -148.111851 (25.505626)\n",
      "SVR: -98.968683 (17.927207)\n",
      "--------------------------\n",
      "\u001b[1mPrecisiones con 7 splits\u001b[0m\n",
      "LR: -78.682679 (25.156950)\n",
      "LASSO: -84.798637 (24.485431)\n",
      "EN: -84.570337 (24.872268)\n",
      "KNN: -72.001861 (18.080615)\n",
      "CART: -129.074835 (19.946477)\n",
      "SVR: -98.920464 (26.325807)\n",
      "--------------------------\n",
      "\u001b[1mPrecisiones con 10 splits\u001b[0m\n",
      "LR: -78.377317 (22.886359)\n",
      "LASSO: -84.375458 (25.563897)\n",
      "EN: -83.933971 (25.620755)\n",
      "KNN: -68.914821 (14.850001)\n",
      "CART: -132.598589 (48.105580)\n",
      "SVR: -98.930931 (27.604987)\n",
      "--------------------------\n"
     ]
    }
   ],
   "source": [
    "## Algoritmos de control/Test puntual. Usaremos 6 tipos:\n",
    "models = []\n",
    "models.append(('LR', LinearRegression()))\n",
    "models.append(('LASSO', Lasso()))\n",
    "models.append(('EN', ElasticNet()))\n",
    "models.append(('KNN', KNeighborsRegressor()))\n",
    "models.append(('CART', DecisionTreeRegressor()))\n",
    "models.append(('SVR', SVR(gamma='scale')))\n",
    "\n",
    "#En un diccionario 'allresults' vamos guardando los resultados de los modelos para los diversos cv con 3,5,7 y 10 folds\n",
    "\n",
    "allresults = {}\n",
    "names = []\n",
    "for nsplits in (3,5,7,10):\n",
    "    print('\\033[1m' + 'Precisiones con %d splits' % nsplits + '\\033[0m')\n",
    "    results = []\n",
    "    for name, model in models:\n",
    "        kfold = KFold(n_splits=nsplits, shuffle=True, random_state=seed)\n",
    "        cv_results = cross_val_score(model, X_train_1, y_train_1, cv=kfold, scoring='neg_mean_squared_error')\n",
    "        results.append(cv_results)\n",
    "        names.append(name)\n",
    "        msg = \"%s: %f (%f)\" % (name, cv_results.mean(), cv_results.std())\n",
    "        print(msg)\n",
    "    print('--------------------------')\n",
    "    allresults[nsplits] = results"
   ]
  },
  {
   "cell_type": "code",
   "execution_count": 5,
   "metadata": {},
   "outputs": [
    {
     "data": {
      "image/png": "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\n",
      "text/plain": [
       "<Figure size 432x288 with 1 Axes>"
      ]
     },
     "metadata": {
      "needs_background": "light"
     },
     "output_type": "display_data"
    }
   ],
   "source": [
    "fig = plt.figure()\n",
    "fig.suptitle('Comparación de Algoritmos con 10 folds')\n",
    "ax = fig.add_subplot(111)\n",
    "plt.boxplot(allresults[10])\n",
    "ax.set_xticklabels(names)\n",
    "plt.show()"
   ]
  },
  {
   "cell_type": "markdown",
   "metadata": {},
   "source": [
    "Claramente, el mejor algoritmo de momento es el KNN con 10 folds para el CV"
   ]
  },
  {
   "cell_type": "markdown",
   "metadata": {},
   "source": [
    "**Trabajemos ahora con una estandarización para revisar su capacidad utilizando una copia estandarizada de los datos**.\n",
    "\n",
    "### Estandarización del dataset\n",
    "Con la sospecha de que las diferentes escalas de los datos en bruto pueden afectar negativamente la capacidad de predicción de algunos de los algoritmos, evaluamos estos mismos algoritmos con una copia estandarizada del conjunto de datos. \n",
    "\n",
    "Es en este punto en donde los datos se transforman de tal manera que cada atributo tiene un **valor medio de 0 y una desviación estándar de 1**. \n",
    "\n",
    "También debemos evitar que se nos escapen datos cuando hacemos transformaciones. Una buena manera de evitarlo es usar **pipelines (tuberías)** que estandaricen los datos y construyan el modelo para cada *fold* en nuestra selección de prueba de validación cruzada. De esa manera podemos obtener una estimación justa de cómo podría funcionar cada modelo con datos estandarizados en datos no visibles."
   ]
  },
  {
   "cell_type": "code",
   "execution_count": 6,
   "metadata": {},
   "outputs": [
    {
     "name": "stdout",
     "output_type": "stream",
     "text": [
      "\u001b[1mPrecisiones con 3 splits\u001b[0m\n",
      "ScLR: -78.607484 (9.174554)\n",
      "ScLASSO: -85.255750 (5.703640)\n",
      "ScEN: -83.936127 (6.403992)\n",
      "ScKNN: -84.190048 (9.071378)\n",
      "ScCART: -146.529060 (7.744533)\n",
      "ScSVR: -83.551187 (7.358538)\n",
      "--------------------------\n",
      "\u001b[1mPrecisiones con 5 splits\u001b[0m\n",
      "ScLR: -78.305011 (17.382433)\n",
      "ScLASSO: -84.731033 (16.515359)\n",
      "ScEN: -83.614488 (16.532458)\n",
      "ScKNN: -82.053599 (13.931684)\n",
      "ScCART: -127.963735 (17.256555)\n",
      "ScSVR: -82.622639 (17.875907)\n",
      "--------------------------\n",
      "\u001b[1mPrecisiones con 7 splits\u001b[0m\n",
      "ScLR: -78.682679 (25.156950)\n",
      "ScLASSO: -84.762925 (23.335770)\n",
      "ScEN: -83.519850 (23.954920)\n",
      "ScKNN: -82.221256 (23.046619)\n",
      "ScCART: -125.420170 (15.492138)\n",
      "ScSVR: -81.666386 (26.008113)\n",
      "--------------------------\n",
      "\u001b[1mPrecisiones con 10 splits\u001b[0m\n",
      "ScLR: -78.377317 (22.886359)\n",
      "ScLASSO: -84.751995 (25.020687)\n",
      "ScEN: -83.574113 (24.150389)\n",
      "ScKNN: -80.854403 (20.794414)\n",
      "ScCART: -147.150826 (42.494655)\n",
      "ScSVR: -81.101814 (25.611428)\n",
      "--------------------------\n"
     ]
    }
   ],
   "source": [
    "# Estandarización del dataset\n",
    "pipelines = []\n",
    "pipelines.append(('ScLR', Pipeline([('Scaler', StandardScaler()),('LR', LinearRegression())])))\n",
    "pipelines.append(('ScLASSO', Pipeline([('Scaler', StandardScaler()),('LASSO', Lasso())])))\n",
    "pipelines.append(('ScEN', Pipeline([('Scaler', StandardScaler()),('EN', ElasticNet())])))\n",
    "pipelines.append(('ScKNN', Pipeline([('Scaler', StandardScaler()),('KNN', KNeighborsRegressor())])))\n",
    "pipelines.append(('ScCART', Pipeline([('Scaler', StandardScaler()),('CART', DecisionTreeRegressor())])))\n",
    "pipelines.append(('ScSVR', Pipeline([('Scaler', StandardScaler()),('SVR', SVR(gamma='scale'))])))\n",
    "\n",
    "allresults = {}\n",
    "names = []\n",
    "for nsplits in (3,5,7,10):\n",
    "    print('\\033[1m' + 'Precisiones con %d splits' % nsplits + '\\033[0m')\n",
    "    results = []\n",
    "    for name, model in pipelines:\n",
    "        kfold = KFold(n_splits=nsplits, shuffle=True, random_state=seed)\n",
    "        cv_results = cross_val_score(model, X_train_1, y_train_1, cv=kfold, scoring='neg_mean_squared_error')\n",
    "        results.append(cv_results)\n",
    "        names.append(name)\n",
    "        msg = \"%s: %f (%f)\" % (name, cv_results.mean(), cv_results.std())\n",
    "        print(msg)\n",
    "    print('--------------------------')\n",
    "    allresults[nsplits] = results"
   ]
  },
  {
   "cell_type": "markdown",
   "metadata": {},
   "source": [
    "En este caso observamos que el LR es el algoritmo de menor error cuando los datos han sido estandarizados. Pero su error es mayor que el del KNN con datos no preprocesados. Por lo que de momento nos quedaríamos con el KNN y datos sin estandarizar."
   ]
  },
  {
   "cell_type": "markdown",
   "metadata": {},
   "source": [
    "**Ahora revisamos cómo funciona si usamos una copia de los datos reescalados**\n",
    "\n",
    "### Reescalado del dataset (entre 0 y 1)\n",
    "Evaluaremos ahora los algoritmos habiendo reescalado los datos entre 0 y 1. Cuando los datos se componen de atributos con diferentes escalas, muchos algoritmos de aprendizaje automático pueden beneficiarse de volver a escalar los atributos para que todos tengan la misma escala\n",
    "\n",
    "Usaremos igualmente pipelines (tuberías) que reescalen los datos y construyan el modelo para cada fold en nuestra selección de prueba de validación cruzada."
   ]
  },
  {
   "cell_type": "code",
   "execution_count": 7,
   "metadata": {},
   "outputs": [
    {
     "name": "stdout",
     "output_type": "stream",
     "text": [
      "\u001b[1mPrecisiones con 3 splits\u001b[0m\n",
      "mMLR: -78.607484 (9.174554)\n",
      "mMLASSO: -98.465173 (6.990435)\n",
      "mMEN: -97.053979 (6.953456)\n",
      "mMKNN: -90.991604 (12.529242)\n",
      "mMCART: -150.394348 (14.411458)\n",
      "mMSVR: -86.246778 (7.171145)\n",
      "--------------------------\n",
      "\u001b[1mPrecisiones con 5 splits\u001b[0m\n",
      "mMLR: -78.305011 (17.382433)\n",
      "mMLASSO: -98.241174 (17.811118)\n",
      "mMEN: -96.842595 (17.717024)\n",
      "mMKNN: -87.510717 (15.694080)\n",
      "mMCART: -140.633880 (27.245306)\n",
      "mMSVR: -85.039041 (17.868373)\n",
      "--------------------------\n",
      "\u001b[1mPrecisiones con 7 splits\u001b[0m\n",
      "mMLR: -78.682679 (25.156950)\n",
      "mMLASSO: -98.267631 (26.395707)\n",
      "mMEN: -96.806101 (26.338080)\n",
      "mMKNN: -88.403610 (23.726904)\n",
      "mMCART: -124.706308 (27.080222)\n",
      "mMSVR: -84.167784 (26.266131)\n",
      "--------------------------\n",
      "\u001b[1mPrecisiones con 10 splits\u001b[0m\n",
      "mMLR: -78.377317 (22.886359)\n",
      "mMLASSO: -98.419851 (26.489797)\n",
      "mMEN: -97.016110 (26.402050)\n",
      "mMKNN: -84.745257 (19.186944)\n",
      "mMCART: -154.301554 (73.059750)\n",
      "mMSVR: -83.678199 (25.774630)\n",
      "--------------------------\n"
     ]
    }
   ],
   "source": [
    "# Reescalado del dataset\n",
    "pipelines = []\n",
    "pipelines.append(('mMLR', Pipeline([('Scaler', MinMaxScaler()),('LR', LinearRegression())])))\n",
    "pipelines.append(('mMLASSO', Pipeline([('Scaler', MinMaxScaler()),('LASSO', Lasso())])))\n",
    "pipelines.append(('mMEN', Pipeline([('Scaler', MinMaxScaler()),('EN', ElasticNet())])))\n",
    "pipelines.append(('mMKNN', Pipeline([('Scaler', MinMaxScaler()),('KNN', KNeighborsRegressor())])))\n",
    "pipelines.append(('mMCART', Pipeline([('Scaler', MinMaxScaler()),('CART', DecisionTreeRegressor())])))\n",
    "pipelines.append(('mMSVR', Pipeline([('Scaler', MinMaxScaler()),('SVR', SVR(gamma='scale'))])))\n",
    "\n",
    "allresults = {}\n",
    "names = []\n",
    "for nsplits in (3,5,7,10):\n",
    "    print('\\033[1m' + 'Precisiones con %d splits' % nsplits + '\\033[0m')\n",
    "    results = []\n",
    "    for name, model in pipelines:\n",
    "        kfold = KFold(n_splits=nsplits, shuffle=True, random_state=seed)\n",
    "        cv_results = cross_val_score(model, X_train_1, y_train_1, cv=kfold, scoring='neg_mean_squared_error')\n",
    "        results.append(cv_results)\n",
    "        names.append(name)\n",
    "        msg = \"%s: %f (%f)\" % (name, cv_results.mean(), cv_results.std())\n",
    "        print(msg)\n",
    "    print('--------------------------')\n",
    "    allresults[nsplits] = results"
   ]
  },
  {
   "cell_type": "markdown",
   "metadata": {},
   "source": [
    "No obtenemos mejores resultados que al inicio.\n",
    "\n",
    "**CONCLUSIÓN: de momento el mejor modelo a usar es el algortimo KNN con 10 folds y con los datos sin escalar ni estandarizar**, obteniendo un error cuadrático medio negativo de -68,915 "
   ]
  },
  {
   "cell_type": "markdown",
   "metadata": {},
   "source": [
    "### Ajuste (Tunning) del Algoritmo KNN\n",
    "Antes de pasar mirar los ensembles, vamos a tratar de mejorar el KNN obtenido. \n",
    "\n",
    "En este caso podemos usar una grid search (búsqueda de cuadrícula) para probar un conjunto de diferentes números de vecinos para el KNN y ver si podemos mejorar la puntuación.\n",
    "\n",
    "Vamos a probar valores k impares de 1 a 21, un rango arbitrario que cubre un valor bueno conocido de 7. Cada valor k (n_neighbors) se evalúa utilizando una validación cruzada de 10 veces en el conjunto de datos de entrenamiento."
   ]
  },
  {
   "cell_type": "code",
   "execution_count": 8,
   "metadata": {},
   "outputs": [
    {
     "name": "stdout",
     "output_type": "stream",
     "text": [
      "Mejor: -68.914821 usando {'n_neighbors': 5}\n",
      "-93.798050 (18.289001) with: {'n_neighbors': 1}\n",
      "-70.700411 (18.565125) with: {'n_neighbors': 3}\n",
      "-68.914821 (14.850001) with: {'n_neighbors': 5}\n",
      "-72.542946 (16.680042) with: {'n_neighbors': 7}\n",
      "-72.483936 (18.514244) with: {'n_neighbors': 9}\n",
      "-73.236459 (19.818261) with: {'n_neighbors': 11}\n",
      "-73.709471 (20.328259) with: {'n_neighbors': 13}\n",
      "-75.412536 (19.352857) with: {'n_neighbors': 15}\n",
      "-75.892285 (20.195490) with: {'n_neighbors': 17}\n",
      "-76.804980 (21.043521) with: {'n_neighbors': 19}\n",
      "-77.683745 (21.491851) with: {'n_neighbors': 21}\n"
     ]
    }
   ],
   "source": [
    "k_values = np.array([1,3,5,7,9,11,13,15,17,19,21])\n",
    "param_grid = dict(n_neighbors=k_values)\n",
    "model = KNeighborsRegressor()\n",
    "kfold = KFold(n_splits=10, shuffle=True, random_state=seed)\n",
    "grid = GridSearchCV(estimator=model, param_grid=param_grid, scoring='neg_mean_squared_error', cv=kfold)\n",
    "grid_result = grid.fit(X_train_1, y_train_1)\n",
    "\n",
    "print(\"Mejor: %f usando %s\" % (grid_result.best_score_, grid_result.best_params_))\n",
    "means = grid_result.cv_results_['mean_test_score']\n",
    "stds = grid_result.cv_results_['std_test_score']\n",
    "params = grid_result.cv_results_['params']\n",
    "for mean, stdev, param in zip(means, stds, params):\n",
    "    print(\"%f (%f) with: %r\" % (mean, stdev, param))"
   ]
  },
  {
   "cell_type": "markdown",
   "metadata": {},
   "source": [
    "Observamos que el mejor valor obtenido es el que ya obtuvimos inicialmente, siendo su nº de k vecinos = 5 . No conseguimos mejorarlo."
   ]
  },
  {
   "cell_type": "markdown",
   "metadata": {},
   "source": [
    "## 1.2- Ensembles (Conjuntos)\n",
    "\n",
    "Vamos ahora a tratar de mejorar el rendimiento de los algoritmos mediante el uso de métodos conjuntos o *ensembles*. Para ello vamos a evaluar 4 algoritmos de ML por conjuntos, 2 métodos de *boosting* o impulso y 2 de *bagging* o embolsado:\n",
    "\n",
    "- **Métodos de *boosting* (impulso)**: AdaBoost (AB) y Gradient Boosting (GBM).\n",
    "- **Métodos de *bagging* (embolsado)**: bosques aleatorios (RF) y árboles adicionales (ET).\n",
    "\n",
    "Usaremos la misma selección de prueba que antes, validación cruzada iterando el nº de folds entre 3 y 10 , y probaremos primero sin escalar y después escalando los datos."
   ]
  },
  {
   "cell_type": "code",
   "execution_count": 9,
   "metadata": {},
   "outputs": [
    {
     "name": "stdout",
     "output_type": "stream",
     "text": [
      "\u001b[1mPrecisiones con 3 splits\u001b[0m\n",
      "AB: -79.072582 (5.290548)\n",
      "GBM: -71.478690 (7.393451)\n",
      "RF: -76.792809 (12.630955)\n",
      "ET: -61.794701 (7.391285)\n",
      "--------------------------\n",
      "\u001b[1mPrecisiones con 5 splits\u001b[0m\n",
      "AB: -78.380970 (10.168787)\n",
      "GBM: -64.458238 (10.172499)\n",
      "RF: -66.319376 (11.480712)\n",
      "ET: -59.180148 (12.316664)\n",
      "--------------------------\n",
      "\u001b[1mPrecisiones con 7 splits\u001b[0m\n",
      "AB: -79.894878 (16.567798)\n",
      "GBM: -65.462182 (17.397255)\n",
      "RF: -67.928044 (20.306608)\n",
      "ET: -60.544765 (20.164272)\n",
      "--------------------------\n",
      "\u001b[1mPrecisiones con 10 splits\u001b[0m\n",
      "AB: -76.522252 (19.378357)\n",
      "GBM: -64.770299 (20.841786)\n",
      "RF: -65.853565 (16.638813)\n",
      "ET: -56.968395 (12.536449)\n",
      "--------------------------\n"
     ]
    }
   ],
   "source": [
    "#inicialmente probamos con los datos sin escalar\n",
    "\n",
    "ensembles = []\n",
    "ensembles.append(('AB', AdaBoostRegressor()))\n",
    "ensembles.append(('GBM', GradientBoostingRegressor()))\n",
    "ensembles.append(('RF', RandomForestRegressor(n_estimators=100)))\n",
    "ensembles.append(('ET', ExtraTreesRegressor(n_estimators=100)))\n",
    "\n",
    "allresults = {}\n",
    "names = []\n",
    "for nsplits in (3,5,7,10):\n",
    "    print('\\033[1m' + 'Precisiones con %d splits' % nsplits + '\\033[0m')\n",
    "    results = []\n",
    "    for name, model in ensembles:\n",
    "        kfold = KFold(n_splits=nsplits, shuffle=True, random_state=seed)\n",
    "        cv_results = cross_val_score(model, X_train_1, y_train_1, cv=kfold, scoring='neg_mean_squared_error')\n",
    "        results.append(cv_results)\n",
    "        names.append(name)\n",
    "        msg = \"%s: %f (%f)\" % (name, cv_results.mean(), cv_results.std())\n",
    "        print(msg)\n",
    "    print('--------------------------')\n",
    "    allresults[nsplits] = results"
   ]
  },
  {
   "cell_type": "code",
   "execution_count": 10,
   "metadata": {},
   "outputs": [
    {
     "data": {
      "image/png": "iVBORw0KGgoAAAANSUhEUgAAAX8AAAEVCAYAAAAIK+VbAAAABHNCSVQICAgIfAhkiAAAAAlwSFlzAAALEgAACxIB0t1+/AAAADh0RVh0U29mdHdhcmUAbWF0cGxvdGxpYiB2ZXJzaW9uMy4yLjIsIGh0dHA6Ly9tYXRwbG90bGliLm9yZy+WH4yJAAAbyklEQVR4nO3de7wdZX3v8c+XEG5KMCFBIBeCQDQkAge2VGw4TSQKxUoApSaHQjnmNC0n0uOxiGLsIVRy5PBS8Zh6OZEo5UVNSFsLsRSweQnFFGjcwSC5GA0FTAjQcAfLNf7OH/NsMllZ+5LsNXuttZ/v+/Varz3zzKyZZz1r1nfPembWjCICMzPLy17NroCZmQ08h7+ZWYYc/mZmGXL4m5llyOFvZpYhh7+ZWYYc/rbHJJ0v6Yd1yo+R9ICkIxq4rpB0dKOWV1ru+LTsvRu97LT8dZKmVrHsnEg6R9JmSS9J+k+9zHu9pKt6mF7JttRuHP4NJOm/SOpMG+jjkm6TNKXZ9apKRPx1RHywXCbpIODbwEcj4tHm1GxXkqamD/1lA7neiJgUEXelOsyXdONArr9ZJO0j6W8lPZLafWrNdEn6P5KeTo9rJKmHRX4J+EREvDUiflpp5TPh8G8QSZ8Cvgr8b+DtwDjgG8CMZtarN43e442I5yNiakT8spHLbYA/BJ5JfytX1TeJNrMS+APgiTrT5gBnA8cDxwG/B/xxD8s6AljX6ApmLSL86OcDOAh4CTivh3n2pfjnsDU9vgrsm6ZNBbYAlwH/DjxO8cE4E/gFRWh9rrSs+cDfAjcBLwL3A8eXpn8WeChNWw+cU5p2EfAvwLVpuVcBRwE/Ap4GngL+Gnhb6Tljge8D29I8f1la1srSfO8DfgI8n/6+rzTtLuALad0vAj8ERvbQXp9O7bAV+DgQwNGltvwS8CvgSeBbwP49LOuAtM6ZwGtAR2na+LTsvdP4kcDdaf4VwNeBG0vzn0URQs+l1zSxNO0R4DPAz4BXgb1T2XTgjLTu19O28kCpXa4C7knlPwAOTu/BC6kdx/exjS8C/i3V/WHg/G7aYwjwudI2shoY2+j3sPS8LcDUmrJ7gDml8dnAfd18bl5K79GvgYdS+cRUn+fS+3FW6TnXA1f1cVs6k+Iz8iLwGHBps/NkoB5Nr8BgeKQP9htdAdLNPH8B3AccAoxKG/8X0rSp6fn/CxgK/BFF0H4POBCYBLwCvCPNPz+FyEfT/JemD/vQNP084HCKb3YfSx+aw9K0i9K6LqEIp/2Bo4EPpA/aKIrw+2qafwjwAMU/i7cA+wFTSstamYZHAM8CF6TlzkrjB6fpd1GEzYS0zruAq3tozyeByWmd36v5wH4VWJ7WeSBFYH6xh7a/IH34h6R5v1aaNp6dw/9ein8s+wBTKAL4xjRtQmrLD6R2vwzYBOyTpj8CrKH4Z7l/qWx66X27saZud6VlHEWxE7Ge4h/+9NSONwDf7a2NUzu9ALwzzXsYMKmb9vg08CDwTkAUe98HN/I9rFlfvfB/Hvit0ngH8GIPyyi//0NTm30uvU/vpwjvrtd+PSn8+7AtPQ6cmoaHAyc2O08GLLeaXYHB8ADOB57oZZ6HgDNL46cDj6ThqcDLwJA0fmDaQMsfjtXA2Wl4PqW9JIqQf3MjrrPuNcCMNHwR8Kte6no28NM0fArFP6Jd/rGxc/hfAKyqmX4vcFEavgv4fGnafwdu72b93ymHSgqboPgnJYoAPqo0/RTg4R5ezwp2/DOblV5P1z/K8WnZe1N01b0BHFB67o3sCP8/B5bVtPtjpGCjCPqP16z7EXoP/3ml8S8Dt5XGPwys6a2NKYLtOeAj9PAtKD1nY9f2UFPesPewZhn1wn878K7S+DHpfVA3yygH9qkUXUl7laYvAean4evZEf7dbktp/FcU3U3Densdg+3hPv/GeBoY2Us/7+FA+QDoo6nszWVExPY0/HL6+2Rp+svAW0vjm7sGIuI3FB+wwwEkXShpjaTnJD1Hsdczst5z0/yHSFoq6TFJL1AEXtf8Y4FHI+KNHl5bvdfX9RpHl8bLfb//UfN6apdVrmN5uaMounFWl17f7al8F5LGAtMoulEAbqH49vKhbtb7TET8R6lsc830N+uS2n0zO7/Gndq2j2rf5+7e927bOCJ+TfEt70+AxyXdKuld3axvLMXOSK1Gvoe9eQkYVhofBrwUKZF7cTiwObV/d/Xcad6a+co+QtH186ikf5Z0Sh/WPyg4/BvjXopumbN7mGcrxUGrLuNS2Z4a2zUgaS9gDLA1nV75beATFF/X3waspdhj7lL7AftiKjsuIoZRHKTrmn8zMK4PBzBrXx8Ur/GxPr+iHR6n9PrScro8RRGIkyLibelxUER0F0IXUGznP5D0BEWf+H7Ahd2sd4SkA0pl5Xrs9BrT2Slj2fk19hRefQm2nvTYxhFxR0R8gKLL5+cU20E9mym6mXZr+Q22jqK7qcvx9P2A7lZgbNruu3RXz562JSLiJxExg6I79mZgWR/r0PYc/g0QEc9T9Nd/XdLZkg6QNFTS70q6Js22BPi8pFGSRqb5+3Pa30mSzk2h/EmKA4z3UXz9D4quDST9V4o9/54cSLEn9pyk0RR9wl1WUXyArpb0Fkn7SfrtOsv4R2BCOt11b0kfA44F/mEPXtsy4CJJx6YgvqJrQtrb+zZwraRD0mscLen0bpZ1IXAlcELp8RHgQ5IOLs8YxampncD8dKriKRTdLuV6fUjSaZKGAn9G0e739PF1PQmMrwmt3dFtG0t6u6SzJL0l1ekliq6Veq4DvpB+jyFJx6W2aOR7iKR9Je2XRvdJ207XTsUNwKfSe3c4RVte38dF/ytF199l6XM2leJ9Wlpn3m63pfQeny/poIh4neKYSXdtNug4/BskIr4CfAr4PEXwbqbY+745zXIVRbD8jOJg2/2pbE/dQvE1v+sA3bkR8XpErKfoN76XImzeTXF2Rk+uBE6kOAh3K8WZPV2vazvFB+toiv7RLWm9O4mIpylO1/szim6wy4Dfi4indveFRcRtFAd1f0RxYO9HNbN8JpXfl7qpVlAcvNyJpPdS9Ol/PSKeKD2Wp+fPqrP68ymOITxN8f7cRBGmRMRGim9FCym+gXwY+HBEvNbHl/Y36e/Tku7v43Pe1Esb75XKt1KcxfU7FH3y9XyFIhR/SBF4iymOEzTsPUw2UnxLGw3ckYa7vln8P4qD7w9SfDO9NZX1KrX3WcDvUrwP3wAujIif15m3t23pAuCRtB39CcX7mwX1rYvNWomk+RQHrLLZUJtF0k3AzyPiil5nNmsj3vM3K5H0HklHSdpL0hkUP9K7ubfnmbUb/wrRbGeHUnR7HUzRxXVx+HICNgi528fMLEPu9jEzy5DD38wsQw5/M7MMOfzNzDLk8Dczy5DD38wsQw5/M7MMOfzNzDLk8Dczy5DD38wsQw5/M7MMOfzNzDLk8Dczy5DD38wsQ21zPf+RI0fG+PHjm10NM7O2snr16qciYlRteduE//jx4+ns7Gx2NczM2oqkR+uVu9vHzCxDDn8zsww5/M3MMuTwNzPLkMPfzCxDDn8zsww5/M3MMuTwNzPLUOXhL+lSSSFpZKnsckmbJG2UdHrVdTAz6ytJDX20qkp/4StpLPAB4FelsmOBmcAk4HBghaQJEbG9yrqYmfVFRPRpPkl9nrcVVb3nfy1wGVBuoRnA0oh4NSIeBjYBJ1dcDzMzK6ks/CWdBTwWEQ/UTBoNbC6Nb0llZmY2QPrV7SNpBXBonUnzgM8BH6z3tDpldb87SZoDzAEYN27cHtbSzMxq9Sv8I2J6vXJJ7waOBB5IBzzGAPdLOpliT39safYxwNZulr8IWATQ0dHRvp1rZmYtppJun4h4MCIOiYjxETGeIvBPjIgngOXATEn7SjoSOAZYVUU9zMysvgG/nn9ErJO0DFgPvAHM9Zk+ZmYDa0DCP+39l8cXAAsGYt3Wmhp9/nM7n3Jn1gxtcycvG1z6Etbtfh61WSvz5R3MzDLk8Dczy5DD38wsQw5/M7MMOfzNzDLk8Dczy5DD38wsQw5/M7MMOfzNzDLk8Dczy5DD38wsQw5/M7MMOfzNzDLk8DezbIwYMQJJDXkADVnOiBEjmtIWvqSzmWXj2WefbbnLhDf63hZ95T1/M7MMVRb+kuZLekzSmvQ4szTtckmbJG2UdHpVdTAzs/qq7va5NiK+VC6QdCwwE5gEHA6skDTB9/E1Mxs4zej2mQEsjYhXI+JhYBNwchPqYWaWrarD/xOSfibpO5KGp7LRwObSPFtSmQ0CrXg2RTPPqBgojWqnZh18tIHXr24fSSuAQ+tMmgd8E/gCEOnvl4GPA/W2rrqH3yXNAeYAjBs3rj9VtQHSimdTQPPOqBgofWlzSS353lhz9Cv8I2J6X+aT9G3gH9LoFmBsafIYYGs3y18ELALo6OjwVmtm1iBVnu1zWGn0HGBtGl4OzJS0r6QjgWOAVVXVw8zMdlXl2T7XSDqBokvnEeCPASJinaRlwHrgDWBuO5zp0+huA3/9NrNmqiz8I+KCHqYtABZUte4q9DWs3a9qZu3Av/A1M8uQw9/MLEMOfzOzDDn8zcwy5Es6m7WwESNG8OyzzzZseY06a2348OE888wzDVmWNYfD36yF+RfTVhV3+5iZZcjhb2aWIYe/mVmGHP5mZhly+JuZZcjhb2aWIZ/qaWbZiCuGwfyDml2NncQVw5qyXoe/mWVDV77Qcr+bkETMH/j1utvHzCxDDn8zsww5/M3MMuQ+f2uoVjygBs07qGbWqioNf0mXAJ+guFfvrRFxWSq/HJgNbAf+NCLuqLIeNnBa8YAaNO+gmlmrqiz8JU0DZgDHRcSrkg5J5ccCM4FJwOHACkkT2uEm7mZmg0WVff4XA1dHxKsAEfHvqXwGsDQiXo2Ih4FNwMkV1sPMzGpUGf4TgFMl/aukf5b0nlQ+Gthcmm9LKtuFpDmSOiV1btu2rcKqmpnlpV/dPpJWAIfWmTQvLXs48F7gPcAySe8A6t0Fom4ncUQsAhYBdHR0tF5HsplZm+pX+EfE9O6mSboY+H4UR/9WSfoNMJJiT39sadYxwNb+1MPMzHZPld0+NwPvB5A0AdgHeApYDsyUtK+kI4FjgFUV1sPMzGpUearnd4DvSFoLvAb8YfoWsE7SMmA9xSmgc5t9pk8r3iTbN8g2sypVFv4R8RrwB91MWwAsqGrdu6sVb5LtG2SbWZV8eQczswz58g5mLcyXy7CqOPzNWpgvl2FVcbePmVmGHP5mZhly+JuZZcjhb2aWIYe/mVmGHP5mZhnyqZ5mlpVW+/X88OHDm7Jeh7+ZZaORv5mQ1JK/wegrd/uYmWXI4W9mliGHv5lZhhz+ZmYZcvibmWXI4W9mlqHKwl/STZLWpMcjktaUpl0uaZOkjZJOr6oOZmZWX5W3cfxY17CkLwPPp+FjgZnAJOBwYIWkCc2+j6+ZWU4q7/ZR8XO63weWpKIZwNKIeDUiHgY2ASdXXQ8zM9thIPr8TwWejIhfpvHRwObS9C2pbBeS5kjqlNS5bdu2iqtpZpaPfnX7SFoBHFpn0ryIuCUNz2LHXj9AvQtr1P2NdEQsAhYBdHR0tO/vqM3MWky/wj8ipvc0XdLewLnASaXiLcDY0vgYYGt/6mFmZrun6gu7TQd+HhFbSmXLge9J+grFAd9jgFUV18MGUKtdNRGad+XERnB7WhWqDv+Z7NzlQ0Ssk7QMWA+8Acz1mT6Dh6+a2FhuT6tKpeEfERd1U74AWFDlus3MrHv+ha+ZWYZ8MxezQaCvxwX6Mp+7hvLg8DcbBBzYtrvc7WNmliGHv5lZhhz+ZmYZcvibmWXIB3yBuGIYzD+o2dXYSVwxrNlVMLNBzOEP6MoXWu5sCUnE/GbXwswGK3f7mJllyOFvZpYhh7+ZWYYc/mZmGXL4m5llyOFvZpYhh7+ZWYYc/mZmGaos/CWdIOk+SWskdUo6uTTtckmbJG2UdHpVdTAzs/qq/IXvNcCVEXGbpDPT+FRJx1Lc23cSxQ3cV0ia4Pv4mpkNnCq7fQLoukDNQcDWNDwDWBoRr0bEw8Am4OQ6zzczs4pUuef/SeAOSV+i+CfzvlQ+GrivNN+WVLYLSXOAOQDjxo2rrqZmZpnpV/hLWgEcWmfSPOA04H9GxN9J+n1gMTAdqHcT0bpXVYuIRcAigI6Ojta68pqZWRvrV/hHxPTupkm6AfgfafRvgOvS8BZgbGnWMezoEjIzswFQZZ//VuB30vD7gV+m4eXATEn7SjoSOAZYVWE9zMysRpV9/n8E/F9JewOvkPruI2KdpGXAeuANYK7P9DEzG1iVhX9ErARO6mbaAmBBVes2M9tTUr3Dkns+b6vdKKqL7+RlZlbSqmHdaL68g5lZhhz+ZmYZcvibmWXI4W9mliGHv5lZhhz+ZmYZcvibmWXI4W9mliGHv5lZhhz+ZmYZcvibmWXI4W9mliFf2C3ZnSv5DYThw4c3uwpmNog5/GnsVfwkZXNVQDNrX+72MTPLkMPfzCxDlYW/pOMl3SvpQUk/kDSsNO1ySZskbZR0elV1MDOz+qrc878O+GxEvBv4e+DTAJKOBWYCk4AzgG9IGlJhPczMrEaV4f9O4O40/E/AR9LwDGBpRLwaEQ8Dm4CTK6yHmZnVqDL81wJnpeHzgLFpeDSwuTTfllS2C0lzJHVK6ty2bVtlFTUzy02/wl/SCklr6zxmAB8H5kpaDRwIvNb1tDqLqntuZEQsioiOiOgYNWpUf6pqZmYl/TrPPyKm9zLLBwEkTQA+lMq2sONbAMAYYGt/6mFmZrunyrN9Dkl/9wI+D3wrTVoOzJS0r6QjgWOAVVXVw1qTpF4ffZ2v1X6dbdYOqvyF7yxJc9Pw94HvAkTEOknLgPXAG8DciNheYT2sBflX0GbNpXb5EHZ0dERnZ2ezq9ErX97BzFqJpNUR0VFb7l/4mpllyOFvZpYhh7+ZWYYc/mZmGXL4m5llyOFvZpYhh7+ZWYYc/mZmGXL4m5llyOFvZpYhh7+ZWYYc/mZmGXL4m5llyOFvZpYhh7+ZWYYc/mZmGXL4m5llqF/hL+k8Sesk/UZSR820yyVtkrRR0uml8pMkPZimfU2+AauZ2YDr757/WuBc4O5yoaRjgZnAJOAM4BuShqTJ3wTmUNy4/Zg03czMBlC/wj8iNkTExjqTZgBLI+LViHgY2AScLOkwYFhE3BvFjW5vAM7uTx3MzGz3VdXnPxrYXBrfkspGp+Ha8rokzZHUKalz27ZtlVTUzCxHe/c2g6QVwKF1Js2LiFu6e1qdsuihvK6IWAQsAujo6Oh2PjMz2z29hn9ETN+D5W4BxpbGxwBbU/mYOuVmZjaAqur2WQ7MlLSvpCMpDuyuiojHgRclvTed5XMh0N23BzMzq0h/T/U8R9IW4BTgVkl3AETEOmAZsB64HZgbEdvT0y4GrqM4CPwQcFt/6mBmZrtPxUk3ra+joyM6OzubXY1eSaJd2tTMBj9JqyOio7bcv/A1M8uQw9/MLEMOfzOzDDn8zcwy5PA3M8uQw9/MLEMOfzOzDDn8zcwy5PA3M8uQw9/MLEMOfzOzDDn8zcwy5PA3M8uQw9/MLEMOfzOzDDn8zcwy5PA3G+SWLFnC5MmTGTJkCJMnT2bJkiXNrpK1gP7exvE8Sesk/UZSR6n8YEl3SnpJ0l/WPOckSQ9K2iTpa+levmZWgSVLljBv3jwWLlzIK6+8wsKFC5k3b57/AVi/9/zXAucCd9eUvwL8OXBpned8E5hDcVP3Y4Az+lkHM+vGggULWLx4MdOmTWPo0KFMmzaNxYsXs2DBgmZXzZqsX+EfERsiYmOd8l9HxEqKfwJvknQYMCwi7o3iRrc3AGf3pw5m1r0NGzYwZcqUncqmTJnChg0bmlQjaxUD3ec/GthSGt+SyuqSNEdSp6TObdu2VV45s8Fm4sSJrFy5cqeylStXMnHixCbVyFpFr+EvaYWktXUeM/ZgffX696O7mSNiUUR0RETHqFGj9mB1ZnmbN28es2fP5s477+T111/nzjvvZPbs2cybN6/ZVbMm27u3GSJiegPXtwUYUxofA2xt4PLNrGTWrFkAXHLJJWzYsIGJEyeyYMGCN8stXwPa7RMRjwMvSnpvOsvnQuCWgayDtT6fmthYs2bNYu3atWzfvp21a9c6+A3ow55/TySdAywERgG3SloTEaenaY8Aw4B9JJ0NfDAi1gMXA9cD+wO3pYcZsOPUxMWLFzNlyhRWrlzJ7NmzARxaZg2k4qSb1tfR0RGdnZ3NrkavJNEubdqKJk+ezMKFC5k2bdqbZXfeeSeXXHIJa9eubWLNzNqTpNUR0bFLebsElcM/D0OGDOGVV15h6NChb5a9/vrr7Lfffmzfvr2JNTNrT92Fvy/vYC3FpyaaDQyHv7UUn5poNjD6dcDXrNF8aqLZwHCff4O5z9/MWon7/M3M7E3u9umj3bnydF/m9bcDM2smh38fOazNbDBxt4+ZWYYc/mZmGXL4m5llyOFvZpYhh7+ZWYYc/mZmGXL4m5llyOFvZpahtrm2j6RtwKPNrkcfjASeanYlBgm3ZWO5PRurXdrziIgYVVvYNuHfLiR11ruIku0+t2VjuT0bq93b090+ZmYZcvibmWXI4d94i5pdgUHEbdlYbs/Gauv2dJ+/mVmGvOdvZpYhh38/SDpHUkh6VxofL+llSWskPSDpHknvbHY9W42kt0v6nqR/k7Ra0r2pLadKej61388krZB0SHrORamtTystp6v9P9q8V9OaJG1P7bhW0g8kvS2Vl7fRrsc+za5vqyu1Z9fjs5L+Pg1vKm23ayS9r9n17QuHf//MAlYCM0tlD0XECRFxPPBXwOeaUrMWpeI2ZzcDd0fEOyLiJIr2G5Nm+XFqv+OAnwBzS09/kKLNu8wEHhiAarejl1M7TgaeYed27NpGux6vNamO7eTlmja7OiLOiYgTgP/Gju32hIi4p9mV7QuH/x6S9Fbgt4HZ7Bz+ZcOAZwesUu3h/cBrEfGtroKIeDQiFpZnSv8kDmTn9vsxcLKkoan9jwbWDECd2929wOhmV8Jai2/juOfOBm6PiF9IekbSiRR7WEdJWkMRXAcAv9XMSragScD9PUw/NbXfwcCv2fmbUwArgNOBg4DlwJEV1XNQkDQEOA1YXCru2kYB/iUi5u76TKuxf6nNAL4YETc1rTYN4D3/PTcLWJqGl7KjO6LrK/VRwCdp89PBqibp6+n4yE9SUdfX57HAd4Frap6ylOKb1kxgyQBWtd10hdXTwAjgn0rTyt0+Dv6+qe32aevgB4f/HpF0MEX3xXWSHgE+DXwMUM2sy4H/PLC1a3nrgBO7RlL4nAbscu0R6rRfRKwCJgMjI+IXFdaz3b2c+qOPAPZh5z5/M4f/HvoocENEHBER49Ne6sPsOGjZZQrw0IDXrrX9CNhP0sWlsgO6mbe79rscH0jvk4h4HvhT4FJJQ5tdH2sd7vPfM7OAq2vK/o4ikLr6UwW8RnEmgCUREZLOBq6VdBmwjaJv/zNpllNL7fc8ddovIm4bqPoOBhHxU0kPUHSV/bjZ9WlTtX3+t0fEZ5tWmwbwL3zNzDLkbh8zsww5/M3MMuTwNzPLkMPfzCxDDn8zsww5/M3MMuTwNzPLkMPfzCxD/x8pMg689iRurwAAAABJRU5ErkJggg==\n",
      "text/plain": [
       "<Figure size 432x288 with 1 Axes>"
      ]
     },
     "metadata": {
      "needs_background": "light"
     },
     "output_type": "display_data"
    }
   ],
   "source": [
    "fig = plt.figure()\n",
    "fig.suptitle('Comparación de Algoritmos con 10 folds')\n",
    "ax = fig.add_subplot(111)\n",
    "plt.boxplot(allresults[10])\n",
    "ax.set_xticklabels(names)\n",
    "plt.show()"
   ]
  },
  {
   "cell_type": "markdown",
   "metadata": {},
   "source": [
    "#### Obtenemos mejores valores que con el KNN solo. En concreto **el mejor valor nos lo da ExtraTreesRegressor (ET)**, de nuevo con 10 folds, teniendo un error de **-56,968**"
   ]
  },
  {
   "cell_type": "code",
   "execution_count": 11,
   "metadata": {},
   "outputs": [
    {
     "name": "stdout",
     "output_type": "stream",
     "text": [
      "\u001b[1mPrecisiones con 3 splits\u001b[0m\n",
      "ScaledAB: -79.747085 (5.482513)\n",
      "ScaledGBM: -70.465696 (6.371178)\n",
      "ScaledRF: -74.336996 (10.329152)\n",
      "ScaledET: -63.382963 (7.240425)\n",
      "--------------------------\n",
      "\u001b[1mPrecisiones con 5 splits\u001b[0m\n",
      "ScaledAB: -79.245726 (10.566322)\n",
      "ScaledGBM: -64.628816 (10.368518)\n",
      "ScaledRF: -68.045153 (11.095554)\n",
      "ScaledET: -58.296122 (8.772179)\n",
      "--------------------------\n",
      "\u001b[1mPrecisiones con 7 splits\u001b[0m\n",
      "ScaledAB: -80.631045 (18.427308)\n",
      "ScaledGBM: -64.970833 (17.871743)\n",
      "ScaledRF: -68.419797 (17.968523)\n",
      "ScaledET: -58.730940 (20.320364)\n",
      "--------------------------\n",
      "\u001b[1mPrecisiones con 10 splits\u001b[0m\n",
      "ScaledAB: -78.260426 (20.876227)\n",
      "ScaledGBM: -65.008660 (21.023245)\n",
      "ScaledRF: -65.427109 (18.100957)\n",
      "ScaledET: -57.043496 (14.481706)\n",
      "--------------------------\n"
     ]
    }
   ],
   "source": [
    "#Ahora probamos estandarizando los datos\n",
    "\n",
    "ensembles = []\n",
    "ensembles.append(('ScaledAB', Pipeline([('Scaler', StandardScaler()),('AB', AdaBoostRegressor())])))\n",
    "ensembles.append(('ScaledGBM', Pipeline([('Scaler', StandardScaler()),('GBM', GradientBoostingRegressor())])))\n",
    "ensembles.append(('ScaledRF', Pipeline([('Scaler', StandardScaler()),('RF', RandomForestRegressor(n_estimators=100))])))\n",
    "ensembles.append(('ScaledET', Pipeline([('Scaler', StandardScaler()),('ET', ExtraTreesRegressor(n_estimators=100))])))\n",
    "\n",
    "allresults = {}\n",
    "names = []\n",
    "for nsplits in (3,5,7,10):\n",
    "    print('\\033[1m' + 'Precisiones con %d splits' % nsplits + '\\033[0m')\n",
    "    results = []\n",
    "    for name, model in ensembles:\n",
    "        kfold = KFold(n_splits=nsplits, shuffle=True, random_state=seed)\n",
    "        cv_results = cross_val_score(model, X_train_1, y_train_1, cv=kfold, scoring='neg_mean_squared_error')\n",
    "        results.append(cv_results)\n",
    "        names.append(name)\n",
    "        msg = \"%s: %f (%f)\" % (name, cv_results.mean(), cv_results.std())\n",
    "        print(msg)\n",
    "    print('--------------------------')\n",
    "    allresults[nsplits] = results"
   ]
  },
  {
   "cell_type": "code",
   "execution_count": 12,
   "metadata": {},
   "outputs": [
    {
     "name": "stdout",
     "output_type": "stream",
     "text": [
      "\u001b[1mPrecisiones con 3 splits\u001b[0m\n",
      "ScaledAB: -79.286727 (5.799952)\n",
      "ScaledGBM: -70.510401 (6.385973)\n",
      "ScaledRF: -75.198431 (10.670033)\n",
      "ScaledET: -62.719432 (8.630621)\n",
      "--------------------------\n",
      "\u001b[1mPrecisiones con 5 splits\u001b[0m\n",
      "ScaledAB: -77.059741 (11.545224)\n",
      "ScaledGBM: -63.631932 (10.927901)\n",
      "ScaledRF: -65.953322 (10.634193)\n",
      "ScaledET: -59.893922 (10.084125)\n",
      "--------------------------\n",
      "\u001b[1mPrecisiones con 7 splits\u001b[0m\n",
      "ScaledAB: -80.555619 (19.130787)\n",
      "ScaledGBM: -65.570126 (17.571935)\n",
      "ScaledRF: -67.263120 (17.927437)\n",
      "ScaledET: -58.969636 (19.919231)\n",
      "--------------------------\n",
      "\u001b[1mPrecisiones con 10 splits\u001b[0m\n",
      "ScaledAB: -79.600017 (20.908939)\n",
      "ScaledGBM: -65.091819 (20.761671)\n",
      "ScaledRF: -66.171618 (17.954876)\n",
      "ScaledET: -57.383770 (14.656257)\n",
      "--------------------------\n"
     ]
    }
   ],
   "source": [
    "#Y probamos finalmente reescalando los datos entre 0 y 1\n",
    "\n",
    "ensembles = []\n",
    "ensembles.append(('ScaledAB', Pipeline([('Scaler', MinMaxScaler()),('AB', AdaBoostRegressor())])))\n",
    "ensembles.append(('ScaledGBM', Pipeline([('Scaler', MinMaxScaler()),('GBM', GradientBoostingRegressor())])))\n",
    "ensembles.append(('ScaledRF', Pipeline([('Scaler', MinMaxScaler()),('RF', RandomForestRegressor(n_estimators=100))])))\n",
    "ensembles.append(('ScaledET', Pipeline([('Scaler', MinMaxScaler()),('ET', ExtraTreesRegressor(n_estimators=100))])))\n",
    "\n",
    "allresults = {}\n",
    "names = []\n",
    "for nsplits in (3,5,7,10):\n",
    "    print('\\033[1m' + 'Precisiones con %d splits' % nsplits + '\\033[0m')\n",
    "    results = []\n",
    "    for name, model in ensembles:\n",
    "        kfold = KFold(n_splits=nsplits, shuffle=True, random_state=seed)\n",
    "        cv_results = cross_val_score(model, X_train_1, y_train_1, cv=kfold, scoring='neg_mean_squared_error')\n",
    "        results.append(cv_results)\n",
    "        names.append(name)\n",
    "        msg = \"%s: %f (%f)\" % (name, cv_results.mean(), cv_results.std())\n",
    "        print(msg)\n",
    "    print('--------------------------')\n",
    "    allresults[nsplits] = results"
   ]
  },
  {
   "cell_type": "markdown",
   "metadata": {},
   "source": [
    "Y observamos que no obtenemos mejores resultados, por lo que:\n",
    "\n",
    "#### **CONCLUSIÓN: el mejor modelo obtenido finalmente es el ensemble ExtraTreesRegressor (ET) con 10 folds y con los datos sin escalar ni estandarizar, obteniendo un error cuadrático medio negativo de -56,968**"
   ]
  },
  {
   "cell_type": "markdown",
   "metadata": {},
   "source": [
    "---------------------------------------------------------------------------------------------------------------------\n",
    "\n",
    "\n",
    "## 2) Carga del dataset mergeado trabajado CON selección de características PCA\n",
    "\n",
    "Ahora vamos a realizar el mismo estudio pero cogiendo el dataset trabajado con selección de características mediante PCA, para comprobar si los resultados son mejores o peores\n"
   ]
  },
  {
   "cell_type": "code",
   "execution_count": 13,
   "metadata": {},
   "outputs": [
    {
     "name": "stdout",
     "output_type": "stream",
     "text": [
      "Index(['pm10', 'no2', 'year', 'month', 'day', 'week', 'season', 'season_name',\n",
      "       'estado_trafico', 'diadelasemana', 'findesemana', 'PCA1', 'PCA2',\n",
      "       'PCA3', 'PCA4'],\n",
      "      dtype='object')\n",
      "                 pm10        no2  year  month  day  week  season season_name  \\\n",
      "date                                                                           \n",
      "2018-01-01  10.000000  24.000000  2018      1    1     1       1      Winter   \n",
      "2018-01-02  11.000000  10.000000  2018      1    2     1       1      Winter   \n",
      "2018-01-03  10.000000   7.000000  2018      1    3     1       1      Winter   \n",
      "2018-01-04  11.000000  14.000000  2018      1    4     1       1      Winter   \n",
      "2018-01-05  10.000000  20.000000  2018      1    5     1       1      Winter   \n",
      "...               ...        ...   ...    ...  ...   ...     ...         ...   \n",
      "2019-12-27  16.000000  18.000000  2019     12   27    52       1      Winter   \n",
      "2019-12-28  19.000000  16.000000  2019     12   28    52       1      Winter   \n",
      "2019-12-29  23.000000  17.641379  2019     12   29    52       1      Winter   \n",
      "2019-12-30  23.712692  17.641379  2019     12   30     1       1      Winter   \n",
      "2019-12-31  23.712692  15.000000  2019     12   31     1       1      Winter   \n",
      "\n",
      "            estado_trafico  diadelasemana  findesemana       PCA1       PCA2  \\\n",
      "date                                                                           \n",
      "2018-01-01        1.501611              0            0   7.005353  -7.603868   \n",
      "2018-01-02        1.855361              1            0   6.181395 -10.888625   \n",
      "2018-01-03        1.914663              2            0   6.784913  -5.473179   \n",
      "2018-01-04        1.917587              3            0   6.546647  -0.564344   \n",
      "2018-01-05        1.933171              4            0   5.535736   8.138699   \n",
      "...                    ...            ...          ...        ...        ...   \n",
      "2019-12-27        1.879245              4            0  11.482261 -16.988071   \n",
      "2019-12-28        1.677568              5            1 -10.329821 -20.684155   \n",
      "2019-12-29        1.567480              6            1  12.694422 -21.899737   \n",
      "2019-12-30        1.895104              0            0  11.707394 -22.781803   \n",
      "2019-12-31        1.804372              1            0   2.717637 -22.733396   \n",
      "\n",
      "                PCA3      PCA4  \n",
      "date                            \n",
      "2018-01-01  2.984528 -6.095298  \n",
      "2018-01-02  2.874446 -4.333908  \n",
      "2018-01-03  1.930820 -2.179197  \n",
      "2018-01-04 -0.337029  0.542584  \n",
      "2018-01-05 -3.315116 -1.744549  \n",
      "...              ...       ...  \n",
      "2019-12-27  4.702981 -5.918441  \n",
      "2019-12-28  4.911564 -7.548898  \n",
      "2019-12-29  6.649382 -7.248819  \n",
      "2019-12-30  7.116637 -7.835662  \n",
      "2019-12-31  6.791508 -8.519509  \n",
      "\n",
      "[730 rows x 15 columns]\n"
     ]
    }
   ],
   "source": [
    "#cogemos el dataset trabajado anteriormente con los datos mergeados y habiendo hecho una reducción de variables\n",
    "url_fichero_mercscpca = './DatosMergeadosBarcelona_ConSeleccionCaract_PCA.csv'\n",
    "dfMergeadoSelCaractPCA = pd.read_csv(url_fichero_mercscpca)\n",
    "dfMergeadoSelCaractPCA = dfMergeadoSelCaractPCA.set_index('date')\n",
    "print(dfMergeadoSelCaractPCA.columns)\n",
    "print(dfMergeadoSelCaractPCA)"
   ]
  },
  {
   "cell_type": "markdown",
   "metadata": {},
   "source": [
    "## 2.1- Evaluación de los algoritmos\n",
    "### Dataset de validación de división (Split-out)\n",
    "**Dejaremos 80-20, preparado para CV de 10-folds** \n",
    "\n",
    "Vamos a separar el dataset en un 80 (train) - 20 (validation). Con el de 80 (train) haremos validación cruzada, y con el de 20 haremos la validación final.\n"
   ]
  },
  {
   "cell_type": "code",
   "execution_count": 14,
   "metadata": {},
   "outputs": [
    {
     "name": "stdout",
     "output_type": "stream",
     "text": [
      "X_Train_2:  (584, 12)\n",
      "X_Validation_2:  (146, 12)\n"
     ]
    }
   ],
   "source": [
    "array2 = dfMergeadoSelCaractPCA.drop(columns='season_name').values\n",
    "X_2 = array2[:,2:]\n",
    "y = array2[:,0]\n",
    "validation_size = 0.20\n",
    "seed = 7\n",
    "X_train_2, X_validation_2, y_train_2, y_validation_2 = train_test_split(X_2, y, test_size=validation_size, random_state=seed)\n",
    "print('X_Train_2: ', X_train_2.shape)\n",
    "print('X_Validation_2: ', X_validation_2.shape)"
   ]
  },
  {
   "cell_type": "markdown",
   "metadata": {},
   "source": [
    "Igualmente vamos a probar los siguientes algoritmos de clasificación:\n",
    "\n",
    "- Regresión lineal (LR)\n",
    "- Regularización de Regresión Lasso (L1)(LASSO)\n",
    "- Regularización de Regresión ElasticNet (EN)\n",
    "- k-vecinos más cercanos (KNN)\n",
    "- Árboles de decisión de regresión (CART)\n",
    "- Regresión de vectores de soporte (SVR)\n",
    "\n",
    "Usaremos la validación cruzada de nuevo probando con diversos nº de folds entre 3 y 10 y mediremos la precisión de los algoritmos mediante la métrica 'neg_mean_squared_error'\n",
    "\n",
    "**Inicialmente vamos a probar los algoritmos sobre los datos sin ningún preprocesamiento: no les hemos estandarizado ni reescalado.**"
   ]
  },
  {
   "cell_type": "code",
   "execution_count": 15,
   "metadata": {},
   "outputs": [
    {
     "name": "stdout",
     "output_type": "stream",
     "text": [
      "\u001b[1mPrecisiones con 3 splits\u001b[0m\n",
      "LR: -79.433327 (9.451128)\n",
      "LASSO: -85.396172 (6.545757)\n",
      "EN: -85.429286 (6.114543)\n",
      "KNN: -87.227187 (4.108864)\n",
      "CART: -153.635173 (51.768723)\n",
      "SVR: -98.929159 (6.808944)\n",
      "--------------------------\n",
      "\u001b[1mPrecisiones con 5 splits\u001b[0m\n",
      "LR: -78.754434 (16.686116)\n",
      "LASSO: -84.747451 (16.507560)\n",
      "EN: -84.816982 (16.633673)\n",
      "KNN: -85.924313 (13.440486)\n",
      "CART: -145.321270 (36.835058)\n",
      "SVR: -98.955691 (17.924501)\n",
      "--------------------------\n",
      "\u001b[1mPrecisiones con 7 splits\u001b[0m\n",
      "LR: -78.890073 (24.605007)\n",
      "LASSO: -84.704590 (23.816734)\n",
      "EN: -84.654543 (24.133267)\n",
      "KNN: -86.044603 (23.407225)\n",
      "CART: -128.490635 (17.543538)\n",
      "SVR: -98.912865 (26.322880)\n",
      "--------------------------\n",
      "\u001b[1mPrecisiones con 10 splits\u001b[0m\n",
      "LR: -78.549669 (21.987614)\n",
      "LASSO: -84.381153 (24.967949)\n",
      "EN: -84.097848 (25.001694)\n",
      "KNN: -84.647476 (22.762952)\n",
      "CART: -118.472769 (32.818694)\n",
      "SVR: -98.923560 (27.606556)\n",
      "--------------------------\n"
     ]
    }
   ],
   "source": [
    "## Algoritmos de control/Test puntual. Usaremos 6 tipos:\n",
    "models = []\n",
    "models.append(('LR', LinearRegression()))\n",
    "models.append(('LASSO', Lasso()))\n",
    "models.append(('EN', ElasticNet()))\n",
    "models.append(('KNN', KNeighborsRegressor()))\n",
    "models.append(('CART', DecisionTreeRegressor()))\n",
    "models.append(('SVR', SVR(gamma='scale')))\n",
    "\n",
    "#En un diccionario 'allresults' vamos guardando los resultados de los modelos para los diversos cv con 3,5,7 y 10 folds\n",
    "\n",
    "allresults = {}\n",
    "names = []\n",
    "for nsplits in (3,5,7,10):\n",
    "    print('\\033[1m' + 'Precisiones con %d splits' % nsplits + '\\033[0m')\n",
    "    results = []\n",
    "    for name, model in models:\n",
    "        kfold = KFold(n_splits=nsplits, shuffle=True, random_state=seed)\n",
    "        cv_results = cross_val_score(model, X_train_2, y_train_2, cv=kfold, scoring='neg_mean_squared_error')\n",
    "        results.append(cv_results)\n",
    "        names.append(name)\n",
    "        msg = \"%s: %f (%f)\" % (name, cv_results.mean(), cv_results.std())\n",
    "        print(msg)\n",
    "    print('--------------------------')\n",
    "    allresults[nsplits] = results"
   ]
  },
  {
   "cell_type": "markdown",
   "metadata": {},
   "source": [
    "**Trabajemos ahora con una estandarización para revisar su capacidad utilizando una copia estandarizada de los datos**.\n",
    "\n",
    "### Estandarización del dataset"
   ]
  },
  {
   "cell_type": "code",
   "execution_count": 16,
   "metadata": {},
   "outputs": [
    {
     "name": "stdout",
     "output_type": "stream",
     "text": [
      "\u001b[1mPrecisiones con 3 splits\u001b[0m\n",
      "ScLR: -79.433327 (9.451128)\n",
      "ScLASSO: -86.495599 (5.606270)\n",
      "ScEN: -85.025915 (6.403270)\n",
      "ScKNN: -87.289115 (16.493252)\n",
      "ScCART: -138.229492 (46.138154)\n",
      "ScSVR: -84.965079 (7.145684)\n",
      "--------------------------\n",
      "\u001b[1mPrecisiones con 5 splits\u001b[0m\n",
      "ScLR: -78.754434 (16.686116)\n",
      "ScLASSO: -85.859305 (16.102880)\n",
      "ScEN: -84.871878 (16.138393)\n",
      "ScKNN: -86.492313 (20.342937)\n",
      "ScCART: -135.886648 (37.164769)\n",
      "ScSVR: -83.631693 (17.537074)\n",
      "--------------------------\n",
      "\u001b[1mPrecisiones con 7 splits\u001b[0m\n",
      "ScLR: -78.890073 (24.605007)\n",
      "ScLASSO: -85.757461 (24.141203)\n",
      "ScEN: -84.667443 (24.072440)\n",
      "ScKNN: -85.287650 (27.481276)\n",
      "ScCART: -128.509882 (21.536486)\n",
      "ScSVR: -83.196722 (26.065215)\n",
      "--------------------------\n",
      "\u001b[1mPrecisiones con 10 splits\u001b[0m\n",
      "ScLR: -78.549669 (21.987614)\n",
      "ScLASSO: -85.989303 (24.916537)\n",
      "ScEN: -84.787890 (24.144746)\n",
      "ScKNN: -83.226779 (27.675730)\n",
      "ScCART: -125.231886 (30.872949)\n",
      "ScSVR: -82.335993 (25.307322)\n",
      "--------------------------\n"
     ]
    }
   ],
   "source": [
    "# Estandarización del dataset\n",
    "pipelines = []\n",
    "pipelines.append(('ScLR', Pipeline([('Scaler', StandardScaler()),('LR', LinearRegression())])))\n",
    "pipelines.append(('ScLASSO', Pipeline([('Scaler', StandardScaler()),('LASSO', Lasso())])))\n",
    "pipelines.append(('ScEN', Pipeline([('Scaler', StandardScaler()),('EN', ElasticNet())])))\n",
    "pipelines.append(('ScKNN', Pipeline([('Scaler', StandardScaler()),('KNN', KNeighborsRegressor())])))\n",
    "pipelines.append(('ScCART', Pipeline([('Scaler', StandardScaler()),('CART', DecisionTreeRegressor())])))\n",
    "pipelines.append(('ScSVR', Pipeline([('Scaler', StandardScaler()),('SVR', SVR(gamma='scale'))])))\n",
    "\n",
    "allresults = {}\n",
    "names = []\n",
    "for nsplits in (3,5,7,10):\n",
    "    print('\\033[1m' + 'Precisiones con %d splits' % nsplits + '\\033[0m')\n",
    "    results = []\n",
    "    for name, model in pipelines:\n",
    "        kfold = KFold(n_splits=nsplits, shuffle=True, random_state=seed)\n",
    "        cv_results = cross_val_score(model, X_train_2, y_train_2, cv=kfold, scoring='neg_mean_squared_error')\n",
    "        results.append(cv_results)\n",
    "        names.append(name)\n",
    "        msg = \"%s: %f (%f)\" % (name, cv_results.mean(), cv_results.std())\n",
    "        print(msg)\n",
    "    print('--------------------------')\n",
    "    allresults[nsplits] = results"
   ]
  },
  {
   "cell_type": "markdown",
   "metadata": {},
   "source": [
    "**Finalmente revisamos cómo funciona si usamos una copia de los datos reescalados**\n",
    "\n",
    "### Reescalado del dataset (entre 0 y 1)"
   ]
  },
  {
   "cell_type": "code",
   "execution_count": 17,
   "metadata": {},
   "outputs": [
    {
     "name": "stdout",
     "output_type": "stream",
     "text": [
      "\u001b[1mPrecisiones con 3 splits\u001b[0m\n",
      "mMLR: -79.433327 (9.451128)\n",
      "mMLASSO: -98.465173 (6.990435)\n",
      "mMEN: -98.056608 (7.004074)\n",
      "mMKNN: -95.333436 (13.260266)\n",
      "mMCART: -139.819852 (33.641760)\n",
      "mMSVR: -88.972362 (7.752197)\n",
      "--------------------------\n",
      "\u001b[1mPrecisiones con 5 splits\u001b[0m\n",
      "mMLR: -78.754434 (16.686116)\n",
      "mMLASSO: -98.241174 (17.811118)\n",
      "mMEN: -97.894401 (17.815210)\n",
      "mMKNN: -91.842817 (21.376373)\n",
      "mMCART: -126.689411 (21.868586)\n",
      "mMSVR: -87.681911 (18.291982)\n",
      "--------------------------\n",
      "\u001b[1mPrecisiones con 7 splits\u001b[0m\n",
      "mMLR: -78.890073 (24.605007)\n",
      "mMLASSO: -98.267631 (26.395707)\n",
      "mMEN: -97.876603 (26.428620)\n",
      "mMKNN: -91.933501 (27.013030)\n",
      "mMCART: -127.904588 (21.728701)\n",
      "mMSVR: -87.034197 (26.885305)\n",
      "--------------------------\n",
      "\u001b[1mPrecisiones con 10 splits\u001b[0m\n",
      "mMLR: -78.549669 (21.987614)\n",
      "mMLASSO: -98.419851 (26.489797)\n",
      "mMEN: -98.128612 (26.506506)\n",
      "mMKNN: -88.981946 (24.277317)\n",
      "mMCART: -131.033478 (45.688235)\n",
      "mMSVR: -86.648654 (26.712163)\n",
      "--------------------------\n"
     ]
    }
   ],
   "source": [
    "# Reescalado del dataset\n",
    "pipelines = []\n",
    "pipelines.append(('mMLR', Pipeline([('Scaler', MinMaxScaler()),('LR', LinearRegression())])))\n",
    "pipelines.append(('mMLASSO', Pipeline([('Scaler', MinMaxScaler()),('LASSO', Lasso())])))\n",
    "pipelines.append(('mMEN', Pipeline([('Scaler', MinMaxScaler()),('EN', ElasticNet())])))\n",
    "pipelines.append(('mMKNN', Pipeline([('Scaler', MinMaxScaler()),('KNN', KNeighborsRegressor())])))\n",
    "pipelines.append(('mMCART', Pipeline([('Scaler', MinMaxScaler()),('CART', DecisionTreeRegressor())])))\n",
    "pipelines.append(('mMSVR', Pipeline([('Scaler', MinMaxScaler()),('SVR', SVR(gamma='scale'))])))\n",
    "\n",
    "allresults = {}\n",
    "names = []\n",
    "for nsplits in (3,5,7,10):\n",
    "    print('\\033[1m' + 'Precisiones con %d splits' % nsplits + '\\033[0m')\n",
    "    results = []\n",
    "    for name, model in pipelines:\n",
    "        kfold = KFold(n_splits=nsplits, shuffle=True, random_state=seed)\n",
    "        cv_results = cross_val_score(model, X_train_2, y_train_2, cv=kfold, scoring='neg_mean_squared_error')\n",
    "        results.append(cv_results)\n",
    "        names.append(name)\n",
    "        msg = \"%s: %f (%f)\" % (name, cv_results.mean(), cv_results.std())\n",
    "        print(msg)\n",
    "    print('--------------------------')\n",
    "    allresults[nsplits] = results"
   ]
  },
  {
   "cell_type": "markdown",
   "metadata": {},
   "source": [
    "**Ninguno de todos estos valores es mejor que los obtenidos con los datos con la reducción de variables para PM10**"
   ]
  },
  {
   "cell_type": "markdown",
   "metadata": {},
   "source": [
    "## 2.2- Ensembles (Conjuntos)\n",
    "\n",
    "Podemos probar los mismos ensembles de antes, aunque ya imaginamos que no obtendremos resultados mejores"
   ]
  },
  {
   "cell_type": "code",
   "execution_count": 18,
   "metadata": {},
   "outputs": [
    {
     "name": "stdout",
     "output_type": "stream",
     "text": [
      "\u001b[1mPrecisiones con 3 splits\u001b[0m\n",
      "AB: -78.717810 (0.529580)\n",
      "GBM: -75.707350 (6.227951)\n",
      "RF: -71.263517 (6.608279)\n",
      "ET: -62.142714 (5.840927)\n",
      "--------------------------\n",
      "\u001b[1mPrecisiones con 5 splits\u001b[0m\n",
      "AB: -77.856661 (8.588814)\n",
      "GBM: -66.805197 (6.891612)\n",
      "RF: -68.510011 (9.092483)\n",
      "ET: -59.737205 (12.821739)\n",
      "--------------------------\n",
      "\u001b[1mPrecisiones con 7 splits\u001b[0m\n",
      "AB: -77.392468 (18.500987)\n",
      "GBM: -67.263763 (15.328273)\n",
      "RF: -68.589179 (19.817545)\n",
      "ET: -60.564082 (20.954833)\n",
      "--------------------------\n",
      "\u001b[1mPrecisiones con 10 splits\u001b[0m\n",
      "AB: -76.888580 (20.761181)\n",
      "GBM: -65.778573 (17.259231)\n",
      "RF: -67.811186 (19.876710)\n",
      "ET: -58.521000 (17.957033)\n",
      "--------------------------\n"
     ]
    }
   ],
   "source": [
    "#inicialmente probamos con los datos sin escalar\n",
    "\n",
    "ensembles = []\n",
    "ensembles.append(('AB', AdaBoostRegressor()))\n",
    "ensembles.append(('GBM', GradientBoostingRegressor()))\n",
    "ensembles.append(('RF', RandomForestRegressor(n_estimators=100)))\n",
    "ensembles.append(('ET', ExtraTreesRegressor(n_estimators=100)))\n",
    "\n",
    "allresults = {}\n",
    "names = []\n",
    "for nsplits in (3,5,7,10):\n",
    "    print('\\033[1m' + 'Precisiones con %d splits' % nsplits + '\\033[0m')\n",
    "    results = []\n",
    "    for name, model in ensembles:\n",
    "        kfold = KFold(n_splits=nsplits, shuffle=True, random_state=seed)\n",
    "        cv_results = cross_val_score(model, X_train_2, y_train_2, cv=kfold, scoring='neg_mean_squared_error')\n",
    "        results.append(cv_results)\n",
    "        names.append(name)\n",
    "        msg = \"%s: %f (%f)\" % (name, cv_results.mean(), cv_results.std())\n",
    "        print(msg)\n",
    "    print('--------------------------')\n",
    "    allresults[nsplits] = results"
   ]
  },
  {
   "cell_type": "code",
   "execution_count": 19,
   "metadata": {},
   "outputs": [
    {
     "name": "stdout",
     "output_type": "stream",
     "text": [
      "\u001b[1mPrecisiones con 3 splits\u001b[0m\n",
      "ScaledAB: -80.769069 (0.436086)\n",
      "ScaledGBM: -75.416657 (7.034202)\n",
      "ScaledRF: -72.836203 (5.477758)\n",
      "ScaledET: -63.486134 (7.466251)\n",
      "--------------------------\n",
      "\u001b[1mPrecisiones con 5 splits\u001b[0m\n",
      "ScaledAB: -80.451683 (9.418416)\n",
      "ScaledGBM: -66.258333 (5.635558)\n",
      "ScaledRF: -69.064526 (9.836310)\n",
      "ScaledET: -62.425950 (12.271099)\n",
      "--------------------------\n",
      "\u001b[1mPrecisiones con 7 splits\u001b[0m\n",
      "ScaledAB: -81.219499 (17.394392)\n",
      "ScaledGBM: -67.231640 (15.514729)\n",
      "ScaledRF: -69.414782 (18.194409)\n",
      "ScaledET: -59.277340 (20.109552)\n",
      "--------------------------\n",
      "\u001b[1mPrecisiones con 10 splits\u001b[0m\n",
      "ScaledAB: -77.939608 (17.496083)\n",
      "ScaledGBM: -65.320427 (16.159155)\n",
      "ScaledRF: -68.157723 (19.565462)\n",
      "ScaledET: -59.014456 (18.664367)\n",
      "--------------------------\n"
     ]
    }
   ],
   "source": [
    "#Ahora probamos estandarizando los datos\n",
    "\n",
    "ensembles = []\n",
    "ensembles.append(('ScaledAB', Pipeline([('Scaler', StandardScaler()),('AB', AdaBoostRegressor())])))\n",
    "ensembles.append(('ScaledGBM', Pipeline([('Scaler', StandardScaler()),('GBM', GradientBoostingRegressor())])))\n",
    "ensembles.append(('ScaledRF', Pipeline([('Scaler', StandardScaler()),('RF', RandomForestRegressor(n_estimators=100))])))\n",
    "ensembles.append(('ScaledET', Pipeline([('Scaler', StandardScaler()),('ET', ExtraTreesRegressor(n_estimators=100))])))\n",
    "\n",
    "allresults = {}\n",
    "names = []\n",
    "for nsplits in (3,5,7,10):\n",
    "    print('\\033[1m' + 'Precisiones con %d splits' % nsplits + '\\033[0m')\n",
    "    results = []\n",
    "    for name, model in ensembles:\n",
    "        kfold = KFold(n_splits=nsplits, shuffle=True, random_state=seed)\n",
    "        cv_results = cross_val_score(model, X_train_2, y_train_2, cv=kfold, scoring='neg_mean_squared_error')\n",
    "        results.append(cv_results)\n",
    "        names.append(name)\n",
    "        msg = \"%s: %f (%f)\" % (name, cv_results.mean(), cv_results.std())\n",
    "        print(msg)\n",
    "    print('--------------------------')\n",
    "    allresults[nsplits] = results"
   ]
  },
  {
   "cell_type": "markdown",
   "metadata": {},
   "source": [
    "Efectivamente no conseguimos mejores resultados que con la anterior selección de características. Por tanto:\n",
    "\n",
    "#### **Conclusión:**\n",
    "#### El mejor modelo obtenido sigue siendo el **ensemble ExtraTreesRegressor (ET)** con validación cruzada de **10 folds**, habiendo realizado una **selección de 4 características** y con los **datos sin escalar ni estandarizar**, obteniendo un error cuadrático medio negativo de **-56,968**"
   ]
  },
  {
   "cell_type": "markdown",
   "metadata": {},
   "source": [
    "---------------------------------------------------------------------------------------------------------------------\n",
    "\n",
    "\n",
    "## 3) Carga del dataset mergeado trabajado SIN selección de características para PM10\n",
    "\n",
    "Ahora vamos a realizar el mismo estudio pero cogiendo el dataset trabajado sin selección de características, para comprobar si los resultados son mejores o peores\n"
   ]
  },
  {
   "cell_type": "code",
   "execution_count": 20,
   "metadata": {},
   "outputs": [
    {
     "name": "stdout",
     "output_type": "stream",
     "text": [
      "Index(['pm10', 'no2', 'year', 'month', 'day', 'tmed', 'prec', 'tmin', 'tmax',\n",
      "       'dir', 'velmedia', 'racha', 'sol', 'presmax', 'presmin', 'week',\n",
      "       'season', 'season_name', 'estado_trafico', 'diadelasemana',\n",
      "       'findesemana'],\n",
      "      dtype='object')\n",
      "                 pm10        no2  year  month  day  tmed  prec  tmin  tmax  \\\n",
      "date                                                                         \n",
      "2018-01-01  10.000000  24.000000  2018      1    1  12.8   0.0  10.2  10.2   \n",
      "2018-01-02  11.000000  10.000000  2018      1    2  14.6   0.0  11.4  11.4   \n",
      "2018-01-03  10.000000   7.000000  2018      1    3  17.9   0.0  14.0  14.0   \n",
      "2018-01-04  11.000000  14.000000  2018      1    4  19.2   0.0  16.4  16.4   \n",
      "2018-01-05  10.000000  20.000000  2018      1    5  16.4   0.0  13.7  13.7   \n",
      "...               ...        ...   ...    ...  ...   ...   ...   ...   ...   \n",
      "2019-12-27  16.000000  18.000000  2019     12   27  12.0   0.0   8.5   8.5   \n",
      "2019-12-28  19.000000  16.000000  2019     12   28  11.0   0.0   6.6   6.6   \n",
      "2019-12-29  23.000000  17.641379  2019     12   29  12.3   0.0  10.2  10.2   \n",
      "2019-12-30  23.712692  17.641379  2019     12   30  11.6   0.0   8.8   8.8   \n",
      "2019-12-31  23.712692  15.000000  2019     12   31  10.8   0.0   7.6   7.6   \n",
      "\n",
      "             dir  ...  racha  sol  presmax  presmin  week  season  \\\n",
      "date              ...                                               \n",
      "2018-01-01  31.0  ...   18.1  5.1   1027.2   1017.9     1       1   \n",
      "2018-01-02  30.0  ...   10.3  3.1   1025.4   1022.2     1       1   \n",
      "2018-01-03  31.0  ...   18.3  1.9   1023.0   1018.7     1       1   \n",
      "2018-01-04  31.0  ...   20.0  5.9   1019.0   1015.1     1       1   \n",
      "2018-01-05  30.0  ...   13.3  6.4   1015.2   1004.6     1       1   \n",
      "...          ...  ...    ...  ...      ...      ...   ...     ...   \n",
      "2019-12-27  35.0  ...    8.1  5.1   1030.0   1026.3    52       1   \n",
      "2019-12-28  13.0  ...    5.8  5.2   1032.1   1028.0    52       1   \n",
      "2019-12-29  36.0  ...    4.2  0.1   1033.1   1030.3    52       1   \n",
      "2019-12-30  35.0  ...    6.1  0.7   1033.9   1031.2     1       1   \n",
      "2019-12-31  26.0  ...    6.7  1.8   1033.8   1030.8     1       1   \n",
      "\n",
      "            season_name estado_trafico  diadelasemana  findesemana  \n",
      "date                                                                \n",
      "2018-01-01       Winter       1.501611              0            0  \n",
      "2018-01-02       Winter       1.855361              1            0  \n",
      "2018-01-03       Winter       1.914663              2            0  \n",
      "2018-01-04       Winter       1.917587              3            0  \n",
      "2018-01-05       Winter       1.933171              4            0  \n",
      "...                 ...            ...            ...          ...  \n",
      "2019-12-27       Winter       1.879245              4            0  \n",
      "2019-12-28       Winter       1.677568              5            1  \n",
      "2019-12-29       Winter       1.567480              6            1  \n",
      "2019-12-30       Winter       1.895104              0            0  \n",
      "2019-12-31       Winter       1.804372              1            0  \n",
      "\n",
      "[730 rows x 21 columns]\n"
     ]
    }
   ],
   "source": [
    "#cogemos el dataset trabajado anteriormente con los datos mergeados sin haber hecho una reducción de variables\n",
    "url_fichero_merssc = './DatosMergeadosBarcelona.csv'\n",
    "dfMergeado = pd.read_csv(url_fichero_merssc)\n",
    "dfMergeado = dfMergeado.set_index('date')\n",
    "print(dfMergeado.columns)\n",
    "print(dfMergeado)"
   ]
  },
  {
   "cell_type": "markdown",
   "metadata": {},
   "source": [
    "## 3.1- Evaluación de los algoritmos\n",
    "### Dataset de validación de división (Split-out)\n",
    "**Dejaremos 80-20, preparado para CV de 10-folds** \n",
    "\n",
    "Vamos a separar el dataset en un 80 (train) - 20 (validation). Con el de 80 (train) haremos validación cruzada, y con el de 20 haremos la validación final.\n"
   ]
  },
  {
   "cell_type": "code",
   "execution_count": 21,
   "metadata": {},
   "outputs": [
    {
     "name": "stdout",
     "output_type": "stream",
     "text": [
      "X_Train_3:  (584, 18)\n",
      "X_Validation_3:  (146, 18)\n"
     ]
    }
   ],
   "source": [
    "array3 = dfMergeado.drop(columns='season_name').values\n",
    "X_3 = array3[:,2:]\n",
    "y = array3[:,0]\n",
    "validation_size = 0.20\n",
    "seed = 7\n",
    "X_train_3, X_validation_3, y_train_3, y_validation_3 = train_test_split(X_3, y, test_size=validation_size, random_state=seed)\n",
    "print('X_Train_3: ', X_train_3.shape)\n",
    "print('X_Validation_3: ', X_validation_3.shape)"
   ]
  },
  {
   "cell_type": "markdown",
   "metadata": {},
   "source": [
    "Igualmente vamos a probar los siguientes algoritmos de clasificación:\n",
    "\n",
    "- Regresión lineal (LR)\n",
    "- Regularización de Regresión Lasso (L1)(LASSO)\n",
    "- Regularización de Regresión ElasticNet (EN)\n",
    "- k-vecinos más cercanos (KNN)\n",
    "- Árboles de decisión de regresión (CART)\n",
    "- Regresión de vectores de soporte (SVR)\n",
    "\n",
    "Usaremos la validación cruzada de nuevo probando con diversos nº de folds entre 3 y 10 y mediremos la precisión de los algoritmos mediante la métrica 'neg_mean_squared_error'\n",
    "\n",
    "**Inicialmente vamos a probar los algoritmos sobre los datos sin ningún preprocesamiento: no les hemos estandarizado ni reescalado.**"
   ]
  },
  {
   "cell_type": "code",
   "execution_count": 22,
   "metadata": {},
   "outputs": [
    {
     "name": "stdout",
     "output_type": "stream",
     "text": [
      "\u001b[1mPrecisiones con 3 splits\u001b[0m\n",
      "LR: -80.121124 (9.758865)\n",
      "LASSO: -85.418728 (6.588399)\n",
      "EN: -85.292455 (6.165643)\n",
      "KNN: -83.843571 (7.682928)\n",
      "CART: -155.905581 (43.610206)\n",
      "SVR: -98.922655 (6.806523)\n",
      "--------------------------\n",
      "\u001b[1mPrecisiones con 5 splits\u001b[0m\n",
      "LR: -79.236098 (17.251139)\n",
      "LASSO: -84.923195 (16.955269)\n",
      "EN: -84.856218 (17.119879)\n",
      "KNN: -85.528961 (12.578170)\n",
      "CART: -140.153827 (26.216483)\n",
      "SVR: -98.944177 (17.922976)\n",
      "--------------------------\n",
      "\u001b[1mPrecisiones con 7 splits\u001b[0m\n",
      "LR: -79.398387 (25.232906)\n",
      "LASSO: -85.010004 (23.936658)\n",
      "EN: -84.831052 (24.311248)\n",
      "KNN: -83.931391 (21.766080)\n",
      "CART: -125.009921 (13.271578)\n",
      "SVR: -98.898636 (26.317226)\n",
      "--------------------------\n",
      "\u001b[1mPrecisiones con 10 splits\u001b[0m\n",
      "LR: -78.706191 (22.961839)\n",
      "LASSO: -84.552455 (25.797512)\n",
      "EN: -84.050707 (25.943816)\n",
      "KNN: -83.662835 (21.403294)\n",
      "CART: -137.205628 (42.888238)\n",
      "SVR: -98.907614 (27.604187)\n",
      "--------------------------\n"
     ]
    }
   ],
   "source": [
    "## Algoritmos de control/Test puntual. Usaremos 6 tipos:\n",
    "models = []\n",
    "models.append(('LR', LinearRegression()))\n",
    "models.append(('LASSO', Lasso()))\n",
    "models.append(('EN', ElasticNet()))\n",
    "models.append(('KNN', KNeighborsRegressor()))\n",
    "models.append(('CART', DecisionTreeRegressor()))\n",
    "models.append(('SVR', SVR(gamma='scale')))\n",
    "\n",
    "#En un diccionario 'allresults' vamos guardando los resultados de los modelos para los diversos cv con 3,5,7 y 10 folds\n",
    "\n",
    "allresults = {}\n",
    "names = []\n",
    "for nsplits in (3,5,7,10):\n",
    "    print('\\033[1m' + 'Precisiones con %d splits' % nsplits + '\\033[0m')\n",
    "    results = []\n",
    "    for name, model in models:\n",
    "        kfold = KFold(n_splits=nsplits, shuffle=True, random_state=seed)\n",
    "        cv_results = cross_val_score(model, X_train_3, y_train_3, cv=kfold, scoring='neg_mean_squared_error')\n",
    "        results.append(cv_results)\n",
    "        names.append(name)\n",
    "        msg = \"%s: %f (%f)\" % (name, cv_results.mean(), cv_results.std())\n",
    "        print(msg)\n",
    "    print('--------------------------')\n",
    "    allresults[nsplits] = results"
   ]
  },
  {
   "cell_type": "markdown",
   "metadata": {},
   "source": [
    "**Trabajemos ahora con una estandarización para revisar su capacidad utilizando una copia estandarizada de los datos**.\n",
    "\n",
    "### Estandarización del dataset"
   ]
  },
  {
   "cell_type": "code",
   "execution_count": 23,
   "metadata": {},
   "outputs": [
    {
     "name": "stdout",
     "output_type": "stream",
     "text": [
      "\u001b[1mPrecisiones con 3 splits\u001b[0m\n",
      "ScLR: -80.121124 (9.758865)\n",
      "ScLASSO: -85.372467 (5.677464)\n",
      "ScEN: -83.090676 (6.187728)\n",
      "ScKNN: -85.104436 (12.010044)\n",
      "ScCART: -159.550496 (45.474946)\n",
      "ScSVR: -84.077261 (7.800061)\n",
      "--------------------------\n",
      "\u001b[1mPrecisiones con 5 splits\u001b[0m\n",
      "ScLR: -79.236098 (17.251139)\n",
      "ScLASSO: -84.735586 (16.512164)\n",
      "ScEN: -82.802042 (16.167066)\n",
      "ScKNN: -84.870288 (18.740042)\n",
      "ScCART: -141.578573 (13.110752)\n",
      "ScSVR: -83.075744 (17.169925)\n",
      "--------------------------\n",
      "\u001b[1mPrecisiones con 7 splits\u001b[0m\n",
      "ScLR: -79.398387 (25.232906)\n",
      "ScLASSO: -84.771017 (23.332004)\n",
      "ScEN: -82.794350 (23.050344)\n",
      "ScKNN: -86.271098 (24.469381)\n",
      "ScCART: -120.039512 (28.204832)\n",
      "ScSVR: -82.556296 (25.078474)\n",
      "--------------------------\n",
      "\u001b[1mPrecisiones con 10 splits\u001b[0m\n",
      "ScLR: -78.706191 (22.961839)\n",
      "ScLASSO: -84.751995 (25.020687)\n",
      "ScEN: -82.667479 (24.320250)\n",
      "ScKNN: -85.347426 (21.729970)\n",
      "ScCART: -137.677529 (49.827856)\n",
      "ScSVR: -81.792426 (25.627505)\n",
      "--------------------------\n"
     ]
    }
   ],
   "source": [
    "# Estandarización del dataset\n",
    "pipelines = []\n",
    "pipelines.append(('ScLR', Pipeline([('Scaler', StandardScaler()),('LR', LinearRegression())])))\n",
    "pipelines.append(('ScLASSO', Pipeline([('Scaler', StandardScaler()),('LASSO', Lasso())])))\n",
    "pipelines.append(('ScEN', Pipeline([('Scaler', StandardScaler()),('EN', ElasticNet())])))\n",
    "pipelines.append(('ScKNN', Pipeline([('Scaler', StandardScaler()),('KNN', KNeighborsRegressor())])))\n",
    "pipelines.append(('ScCART', Pipeline([('Scaler', StandardScaler()),('CART', DecisionTreeRegressor())])))\n",
    "pipelines.append(('ScSVR', Pipeline([('Scaler', StandardScaler()),('SVR', SVR(gamma='scale'))])))\n",
    "\n",
    "allresults = {}\n",
    "names = []\n",
    "for nsplits in (3,5,7,10):\n",
    "    print('\\033[1m' + 'Precisiones con %d splits' % nsplits + '\\033[0m')\n",
    "    results = []\n",
    "    for name, model in pipelines:\n",
    "        kfold = KFold(n_splits=nsplits, shuffle=True, random_state=seed)\n",
    "        cv_results = cross_val_score(model, X_train_3, y_train_3, cv=kfold, scoring='neg_mean_squared_error')\n",
    "        results.append(cv_results)\n",
    "        names.append(name)\n",
    "        msg = \"%s: %f (%f)\" % (name, cv_results.mean(), cv_results.std())\n",
    "        print(msg)\n",
    "    print('--------------------------')\n",
    "    allresults[nsplits] = results"
   ]
  },
  {
   "cell_type": "markdown",
   "metadata": {},
   "source": [
    "**Finalmente revisamos cómo funciona si usamos una copia de los datos reescalados**\n",
    "\n",
    "### Reescalado del dataset (entre 0 y 1)"
   ]
  },
  {
   "cell_type": "code",
   "execution_count": 24,
   "metadata": {},
   "outputs": [
    {
     "name": "stdout",
     "output_type": "stream",
     "text": [
      "\u001b[1mPrecisiones con 3 splits\u001b[0m\n",
      "mMLR: -80.121124 (9.758865)\n",
      "mMLASSO: -98.465173 (6.990435)\n",
      "mMEN: -96.441199 (6.875193)\n",
      "mMKNN: -92.738673 (14.733759)\n",
      "mMCART: -157.298683 (47.677917)\n",
      "mMSVR: -84.953870 (7.447067)\n",
      "--------------------------\n",
      "\u001b[1mPrecisiones con 5 splits\u001b[0m\n",
      "mMLR: -79.236098 (17.251139)\n",
      "mMLASSO: -98.241174 (17.811118)\n",
      "mMEN: -96.186933 (17.582000)\n",
      "mMKNN: -87.043668 (16.757002)\n",
      "mMCART: -146.549032 (36.407132)\n",
      "mMSVR: -83.662109 (17.313586)\n",
      "--------------------------\n",
      "\u001b[1mPrecisiones con 7 splits\u001b[0m\n",
      "mMLR: -79.398387 (25.232906)\n",
      "mMLASSO: -98.267631 (26.395707)\n",
      "mMEN: -96.145578 (26.198356)\n",
      "mMKNN: -85.926908 (25.487519)\n",
      "mMCART: -123.962709 (20.143735)\n",
      "mMSVR: -82.891935 (25.671700)\n",
      "--------------------------\n",
      "\u001b[1mPrecisiones con 10 splits\u001b[0m\n",
      "mMLR: -78.706191 (22.961839)\n",
      "mMLASSO: -98.419851 (26.489797)\n",
      "mMEN: -96.305165 (26.353426)\n",
      "mMKNN: -84.235779 (19.344854)\n",
      "mMCART: -144.591520 (32.472342)\n",
      "mMSVR: -82.373002 (25.623695)\n",
      "--------------------------\n"
     ]
    }
   ],
   "source": [
    "# Reescalado del dataset\n",
    "pipelines = []\n",
    "pipelines.append(('mMLR', Pipeline([('Scaler', MinMaxScaler()),('LR', LinearRegression())])))\n",
    "pipelines.append(('mMLASSO', Pipeline([('Scaler', MinMaxScaler()),('LASSO', Lasso())])))\n",
    "pipelines.append(('mMEN', Pipeline([('Scaler', MinMaxScaler()),('EN', ElasticNet())])))\n",
    "pipelines.append(('mMKNN', Pipeline([('Scaler', MinMaxScaler()),('KNN', KNeighborsRegressor())])))\n",
    "pipelines.append(('mMCART', Pipeline([('Scaler', MinMaxScaler()),('CART', DecisionTreeRegressor())])))\n",
    "pipelines.append(('mMSVR', Pipeline([('Scaler', MinMaxScaler()),('SVR', SVR(gamma='scale'))])))\n",
    "\n",
    "allresults = {}\n",
    "names = []\n",
    "for nsplits in (3,5,7,10):\n",
    "    print('\\033[1m' + 'Precisiones con %d splits' % nsplits + '\\033[0m')\n",
    "    results = []\n",
    "    for name, model in pipelines:\n",
    "        kfold = KFold(n_splits=nsplits, shuffle=True, random_state=seed)\n",
    "        cv_results = cross_val_score(model, X_train_3, y_train_3, cv=kfold, scoring='neg_mean_squared_error')\n",
    "        results.append(cv_results)\n",
    "        names.append(name)\n",
    "        msg = \"%s: %f (%f)\" % (name, cv_results.mean(), cv_results.std())\n",
    "        print(msg)\n",
    "    print('--------------------------')\n",
    "    allresults[nsplits] = results"
   ]
  },
  {
   "cell_type": "markdown",
   "metadata": {},
   "source": [
    "**Ninguno de todos estos valores es mejor que los obtenidos en el primer caso**"
   ]
  },
  {
   "cell_type": "markdown",
   "metadata": {},
   "source": [
    "## 3.2- Ensembles (Conjuntos)\n",
    "\n",
    "Podemos probar los mismos ensembles de antes, aunque ya imaginamos que no obtendremos resultados mejores"
   ]
  },
  {
   "cell_type": "code",
   "execution_count": 25,
   "metadata": {},
   "outputs": [
    {
     "name": "stdout",
     "output_type": "stream",
     "text": [
      "\u001b[1mPrecisiones con 3 splits\u001b[0m\n",
      "AB: -78.214620 (2.559773)\n",
      "GBM: -72.390955 (7.297798)\n",
      "RF: -73.434364 (8.070471)\n",
      "ET: -64.198304 (9.905727)\n",
      "--------------------------\n",
      "\u001b[1mPrecisiones con 5 splits\u001b[0m\n",
      "AB: -78.133420 (10.990763)\n",
      "GBM: -63.997574 (11.639926)\n",
      "RF: -68.274407 (12.462424)\n",
      "ET: -59.923653 (12.564410)\n",
      "--------------------------\n",
      "\u001b[1mPrecisiones con 7 splits\u001b[0m\n",
      "AB: -79.587067 (17.056903)\n",
      "GBM: -64.411404 (18.059269)\n",
      "RF: -67.947420 (18.682397)\n",
      "ET: -60.326472 (19.885106)\n",
      "--------------------------\n",
      "\u001b[1mPrecisiones con 10 splits\u001b[0m\n",
      "AB: -78.715875 (17.470056)\n",
      "GBM: -64.215920 (18.277148)\n",
      "RF: -66.598841 (19.762189)\n",
      "ET: -58.316271 (18.672437)\n",
      "--------------------------\n"
     ]
    }
   ],
   "source": [
    "#inicialmente probamos con los datos sin escalar\n",
    "\n",
    "ensembles = []\n",
    "ensembles.append(('AB', AdaBoostRegressor()))\n",
    "ensembles.append(('GBM', GradientBoostingRegressor()))\n",
    "ensembles.append(('RF', RandomForestRegressor(n_estimators=100)))\n",
    "ensembles.append(('ET', ExtraTreesRegressor(n_estimators=100)))\n",
    "\n",
    "allresults = {}\n",
    "names = []\n",
    "for nsplits in (3,5,7,10):\n",
    "    print('\\033[1m' + 'Precisiones con %d splits' % nsplits + '\\033[0m')\n",
    "    results = []\n",
    "    for name, model in ensembles:\n",
    "        kfold = KFold(n_splits=nsplits, shuffle=True, random_state=seed)\n",
    "        cv_results = cross_val_score(model, X_train_3, y_train_3, cv=kfold, scoring='neg_mean_squared_error')\n",
    "        results.append(cv_results)\n",
    "        names.append(name)\n",
    "        msg = \"%s: %f (%f)\" % (name, cv_results.mean(), cv_results.std())\n",
    "        print(msg)\n",
    "    print('--------------------------')\n",
    "    allresults[nsplits] = results"
   ]
  },
  {
   "cell_type": "code",
   "execution_count": 26,
   "metadata": {},
   "outputs": [
    {
     "name": "stdout",
     "output_type": "stream",
     "text": [
      "\u001b[1mPrecisiones con 3 splits\u001b[0m\n",
      "ScaledAB: -76.236754 (1.985699)\n",
      "ScaledGBM: -72.276863 (7.686561)\n",
      "ScaledRF: -73.838998 (7.929962)\n",
      "ScaledET: -64.575966 (8.799219)\n",
      "--------------------------\n",
      "\u001b[1mPrecisiones con 5 splits\u001b[0m\n",
      "ScaledAB: -77.460273 (12.513838)\n",
      "ScaledGBM: -65.452725 (12.253282)\n",
      "ScaledRF: -68.162427 (10.819350)\n",
      "ScaledET: -60.184199 (12.801139)\n",
      "--------------------------\n",
      "\u001b[1mPrecisiones con 7 splits\u001b[0m\n",
      "ScaledAB: -79.311340 (19.386950)\n",
      "ScaledGBM: -64.404265 (18.212167)\n",
      "ScaledRF: -68.723248 (19.110092)\n",
      "ScaledET: -59.751686 (19.962140)\n",
      "--------------------------\n",
      "\u001b[1mPrecisiones con 10 splits\u001b[0m\n",
      "ScaledAB: -78.970791 (19.452798)\n",
      "ScaledGBM: -64.339214 (19.385998)\n",
      "ScaledRF: -64.990721 (18.734023)\n",
      "ScaledET: -57.949791 (19.201063)\n",
      "--------------------------\n"
     ]
    }
   ],
   "source": [
    "#Ahora probamos estandarizando los datos\n",
    "\n",
    "ensembles = []\n",
    "ensembles.append(('ScaledAB', Pipeline([('Scaler', StandardScaler()),('AB', AdaBoostRegressor())])))\n",
    "ensembles.append(('ScaledGBM', Pipeline([('Scaler', StandardScaler()),('GBM', GradientBoostingRegressor())])))\n",
    "ensembles.append(('ScaledRF', Pipeline([('Scaler', StandardScaler()),('RF', RandomForestRegressor(n_estimators=100))])))\n",
    "ensembles.append(('ScaledET', Pipeline([('Scaler', StandardScaler()),('ET', ExtraTreesRegressor(n_estimators=100))])))\n",
    "\n",
    "allresults = {}\n",
    "names = []\n",
    "for nsplits in (3,5,7,10):\n",
    "    print('\\033[1m' + 'Precisiones con %d splits' % nsplits + '\\033[0m')\n",
    "    results = []\n",
    "    for name, model in ensembles:\n",
    "        kfold = KFold(n_splits=nsplits, shuffle=True, random_state=seed)\n",
    "        cv_results = cross_val_score(model, X_train_3, y_train_3, cv=kfold, scoring='neg_mean_squared_error')\n",
    "        results.append(cv_results)\n",
    "        names.append(name)\n",
    "        msg = \"%s: %f (%f)\" % (name, cv_results.mean(), cv_results.std())\n",
    "        print(msg)\n",
    "    print('--------------------------')\n",
    "    allresults[nsplits] = results"
   ]
  },
  {
   "cell_type": "code",
   "execution_count": 27,
   "metadata": {},
   "outputs": [
    {
     "name": "stdout",
     "output_type": "stream",
     "text": [
      "\u001b[1mPrecisiones con 3 splits\u001b[0m\n",
      "ScaledAB: -78.380546 (2.434215)\n",
      "ScaledGBM: -72.794637 (7.266950)\n",
      "ScaledRF: -73.070894 (7.058557)\n",
      "ScaledET: -63.819547 (9.838958)\n",
      "--------------------------\n",
      "\u001b[1mPrecisiones con 5 splits\u001b[0m\n",
      "ScaledAB: -80.342457 (9.468513)\n",
      "ScaledGBM: -64.572084 (11.924554)\n",
      "ScaledRF: -67.563853 (12.384706)\n",
      "ScaledET: -60.868791 (13.089890)\n",
      "--------------------------\n",
      "\u001b[1mPrecisiones con 7 splits\u001b[0m\n",
      "ScaledAB: -79.494589 (17.032939)\n",
      "ScaledGBM: -64.097253 (18.583322)\n",
      "ScaledRF: -67.239586 (17.998541)\n",
      "ScaledET: -59.833522 (20.782954)\n",
      "--------------------------\n",
      "\u001b[1mPrecisiones con 10 splits\u001b[0m\n",
      "ScaledAB: -78.608846 (18.189683)\n",
      "ScaledGBM: -65.276196 (19.059383)\n",
      "ScaledRF: -64.950576 (18.718344)\n",
      "ScaledET: -58.661290 (19.064508)\n",
      "--------------------------\n"
     ]
    }
   ],
   "source": [
    "#Y probamos finalmente reescalando los datos entre 0 y 1\n",
    "\n",
    "ensembles = []\n",
    "ensembles.append(('ScaledAB', Pipeline([('Scaler', MinMaxScaler()),('AB', AdaBoostRegressor())])))\n",
    "ensembles.append(('ScaledGBM', Pipeline([('Scaler', MinMaxScaler()),('GBM', GradientBoostingRegressor())])))\n",
    "ensembles.append(('ScaledRF', Pipeline([('Scaler', MinMaxScaler()),('RF', RandomForestRegressor(n_estimators=100))])))\n",
    "ensembles.append(('ScaledET', Pipeline([('Scaler', MinMaxScaler()),('ET', ExtraTreesRegressor(n_estimators=100))])))\n",
    "\n",
    "allresults = {}\n",
    "names = []\n",
    "for nsplits in (3,5,7,10):\n",
    "    print('\\033[1m' + 'Precisiones con %d splits' % nsplits + '\\033[0m')\n",
    "    results = []\n",
    "    for name, model in ensembles:\n",
    "        kfold = KFold(n_splits=nsplits, shuffle=True, random_state=seed)\n",
    "        cv_results = cross_val_score(model, X_train_3, y_train_3, cv=kfold, scoring='neg_mean_squared_error')\n",
    "        results.append(cv_results)\n",
    "        names.append(name)\n",
    "        msg = \"%s: %f (%f)\" % (name, cv_results.mean(), cv_results.std())\n",
    "        print(msg)\n",
    "    print('--------------------------')\n",
    "    allresults[nsplits] = results"
   ]
  },
  {
   "cell_type": "markdown",
   "metadata": {},
   "source": [
    "Efectivamente no conseguimos mejores resultados que con selección de características. Por tanto:\n",
    "\n",
    "## Conclusión:\n",
    "#### **El mejor modelo obtenido sigue siendo el ensemble ExtraTreesRegressor (ET) con validación cruzada de 10 folds, habiendo realizado una selección de 4 características para PM10 y con los datos sin escalar ni estandarizar, obteniendo un error cuadrático medio negativo de -56,968**"
   ]
  },
  {
   "cell_type": "markdown",
   "metadata": {},
   "source": [
    "## 3.3- Tunning del ExtraTreeRegressor\n",
    "Cogiendo de nuevo el dataset con selección de características, y el modelo ExtraTreesRegressor (ET), vamos a probar a mejorarlo ajustando su número de Estimadores, para ver si obtenemos mejor puntuación con algún número distinto de 100."
   ]
  },
  {
   "cell_type": "code",
   "execution_count": 34,
   "metadata": {},
   "outputs": [
    {
     "name": "stdout",
     "output_type": "stream",
     "text": [
      "-58.443247 (15.457492) with n_estimators: 50\n",
      "-58.040503 (14.092461) with n_estimators: 100\n",
      "-57.365112 (15.189868) with n_estimators: 150\n",
      "-56.258463 (13.910634) with n_estimators: 200\n",
      "-57.814073 (14.774910) with n_estimators: 250\n",
      "-57.777395 (14.129067) with n_estimators: 300\n",
      "-57.669107 (15.140130) with n_estimators: 350\n",
      "-57.626425 (14.213389) with n_estimators: 400\n"
     ]
    }
   ],
   "source": [
    "for num_estimators in (50,100,150,200,250,300,350,400):\n",
    "    model=ExtraTreesRegressor(n_estimators=num_estimators)\n",
    "    kfold = KFold(n_splits=10, shuffle=True, random_state=seed)\n",
    "    cv_results = cross_val_score(model, X_train_1, y_train_1, cv=kfold, scoring='neg_mean_squared_error')\n",
    "    print(\"%f (%f) with n_estimators: %r\" % (cv_results.mean(), cv_results.std(), num_estimators))"
   ]
  },
  {
   "cell_type": "markdown",
   "metadata": {},
   "source": [
    "### Mejoramos el modelo con 200 estimadores."
   ]
  },
  {
   "cell_type": "markdown",
   "metadata": {},
   "source": [
    "# 4) Finalizar el modelo\n",
    "## Predicciones sobre el conjunto de datos de validación"
   ]
  },
  {
   "cell_type": "code",
   "execution_count": 35,
   "metadata": {},
   "outputs": [
    {
     "data": {
      "text/plain": [
       "ExtraTreesRegressor(n_estimators=200)"
      ]
     },
     "execution_count": 35,
     "metadata": {},
     "output_type": "execute_result"
    }
   ],
   "source": [
    "## Preparamos el modelo y lo entrenamos sobre el dataset de entrenamiento\n",
    "## cogiendo el dataset con la selección de 4 características para PM10\n",
    "\n",
    "array = dfMergeadoSelCaractPM10.drop(columns='season_name').values\n",
    "X = array[:,1:]\n",
    "y = array[:,0]\n",
    "validation_size = 0.20\n",
    "seed = 7\n",
    "X_train, X_validation, y_train, y_validation = train_test_split(X, y, test_size=validation_size, random_state=seed)\n",
    "\n",
    "model = ExtraTreesRegressor(n_estimators=200)\n",
    "model.fit(X_train, y_train)"
   ]
  },
  {
   "cell_type": "code",
   "execution_count": 36,
   "metadata": {},
   "outputs": [
    {
     "name": "stdout",
     "output_type": "stream",
     "text": [
      "50.9595580022426\n"
     ]
    }
   ],
   "source": [
    "### Aplicamos predicciones sobre el dataset de validación y obtenemos su error cuadrático medio\n",
    "\n",
    "predicciones = model.predict(X_validation)\n",
    "print(mean_squared_error(y_validation, predicciones))"
   ]
  },
  {
   "cell_type": "markdown",
   "metadata": {},
   "source": [
    "Vamos a pintar los datos PM10 de validación junto a las predicciones realizadas por nuestro algoritmo"
   ]
  },
  {
   "cell_type": "code",
   "execution_count": 37,
   "metadata": {},
   "outputs": [
    {
     "data": {
      "image/png": "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\n",
      "text/plain": [
       "<Figure size 1512x576 with 1 Axes>"
      ]
     },
     "metadata": {
      "needs_background": "light"
     },
     "output_type": "display_data"
    }
   ],
   "source": [
    "plt.figure(figsize=(21, 8))\n",
    "\n",
    "grafica = plt.plot(y_validation,'--r',predicciones,'-og')\n",
    "plt.legend(('Valores validación PM10', 'Predicciones PM10'),\n",
    "           loc='upper right')\n",
    "plt.show;"
   ]
<<<<<<< HEAD
=======
<<<<<<< HEAD
  },
  {
   "cell_type": "markdown",
   "metadata": {},
   "source": [
    "## 5) Guardado del modelo"
   ]
  },
  {
   "cell_type": "code",
   "execution_count": 39,
   "metadata": {},
   "outputs": [
    {
     "data": {
      "text/plain": [
       "ExtraTreesRegressor(n_estimators=200)"
      ]
     },
     "execution_count": 39,
     "metadata": {},
     "output_type": "execute_result"
    }
   ],
   "source": [
    "#Entrenamos el modelo con el dataset completo\n",
    "\n",
    "array = dfMergeadoSelCaractPM10.drop(columns='season_name').values\n",
    "X = array[:,1:]\n",
    "y = array[:,0]\n",
    "\n",
    "model = ExtraTreesRegressor(n_estimators=200)\n",
    "model.fit(X, y)"
   ]
  },
  {
   "cell_type": "code",
   "execution_count": 40,
   "metadata": {},
   "outputs": [
    {
     "data": {
      "text/plain": [
       "['Modelo_finalizado_BarcelonaPM10.sav']"
      ]
     },
     "execution_count": 40,
     "metadata": {},
     "output_type": "execute_result"
    }
   ],
   "source": [
    "#Guardamos el modelo usando la biblioteca Joblib\n",
    "\n",
    "fichero_modeloJoblib = 'Modelo_finalizado_BarcelonaPM10.sav'\n",
    "dump(model, fichero_modeloJoblib)"
   ]
=======
=======
   "execution_count": null,
   "metadata": {},
   "outputs": [],
   "source": []
>>>>>>> 08879d7d5da8be79b6398934c502dc7e1d89c98f
>>>>>>> dev
>>>>>>> dev
  }
 ],
 "metadata": {
  "kernelspec": {
   "display_name": "Python 3",
   "language": "python",
   "name": "python3"
  },
  "language_info": {
   "codemirror_mode": {
    "name": "ipython",
    "version": 3
   },
   "file_extension": ".py",
   "mimetype": "text/x-python",
   "name": "python",
   "nbconvert_exporter": "python",
   "pygments_lexer": "ipython3",
   "version": "3.8.5"
  }
 },
 "nbformat": 4,
 "nbformat_minor": 4
}
