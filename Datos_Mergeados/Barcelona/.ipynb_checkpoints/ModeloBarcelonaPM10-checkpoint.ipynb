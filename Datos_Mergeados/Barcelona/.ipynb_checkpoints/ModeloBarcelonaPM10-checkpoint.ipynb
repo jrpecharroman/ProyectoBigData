{
 "cells": [
  {
   "cell_type": "markdown",
   "metadata": {},
   "source": [
    "# Modelo para predicción PM10 en Barcelona"
   ]
  },
  {
   "cell_type": "markdown",
   "metadata": {},
   "source": [
    "## Preprocesamiento, evaluación de algoritmos, construcción de modelo de predicción"
   ]
  },
  {
   "cell_type": "markdown",
   "metadata": {},
   "source": [
    "Realizamos primero un estudio completo cargando el dataset mergeado trabajado con selección de 4 características de Meteorología, y después lo repetiremo con los datos sin selección de características para comparar."
   ]
  },
  {
   "cell_type": "code",
<<<<<<< HEAD
   "execution_count": null,
   "metadata": {},
   "outputs": [],
   "source": []
=======
   "execution_count": 1,
   "metadata": {},
   "outputs": [],
   "source": [
    "#Importamos las librerías que vamos a usar para los distintos pasos del problema\n",
    "\n",
    "import numpy as np\n",
    "import pandas as pd\n",
    "from numpy import set_printoptions\n",
    "#Visualización\n",
    "from pandas.plotting import scatter_matrix\n",
    "import matplotlib.pyplot as plt\n",
    "import seaborn as sns\n",
    "#Preprocesamiento\n",
    "from sklearn.preprocessing import MinMaxScaler\n",
    "from sklearn.preprocessing import StandardScaler\n",
    "from sklearn.preprocessing import Normalizer\n",
    "from sklearn.preprocessing import Binarizer\n",
    "#Remuestreo\n",
    "from sklearn.model_selection import train_test_split;\n",
    "from sklearn.model_selection import KFold\n",
    "from sklearn.model_selection import cross_val_score\n",
    "#Algoritmos de Regresión Lineal\n",
    "from sklearn.linear_model import LinearRegression\n",
    "from sklearn.linear_model import Lasso\n",
    "from sklearn.linear_model import Ridge\n",
    "from sklearn.linear_model import ElasticNet\n",
    "#Algoritmos de Regresión No Lineal\n",
    "from sklearn.tree import DecisionTreeRegressor\n",
    "from sklearn.neighbors import KNeighborsRegressor\n",
    "from sklearn.svm import SVR\n",
    "#Métricas de evaluación de algoritmos\n",
    "from sklearn import metrics\n",
    "from sklearn.metrics import confusion_matrix\n",
    "from sklearn.metrics import classification_report\n",
    "#Ensamblamiento Regresión\n",
    "from sklearn.ensemble import AdaBoostRegressor\n",
    "from sklearn.ensemble import GradientBoostingRegressor\n",
    "from sklearn.ensemble import RandomForestRegressor\n",
    "from sklearn.ensemble import ExtraTreesRegressor\n",
    "#Tuning\n",
    "from sklearn.model_selection import GridSearchCV\n",
    "from sklearn.model_selection import RandomizedSearchCV\n",
    "#Pipelines\n",
    "from sklearn.pipeline import Pipeline\n",
    "#Metricas\n",
    "from sklearn.metrics import mean_squared_error\n",
    "#Serializar (guardar y cerrar modelo)\n",
    "from joblib import dump, load\n"
   ]
  },
  {
   "cell_type": "markdown",
   "metadata": {},
   "source": [
    "## 1) Carga del dataset mergeado trabajado CON selección de características para PM10"
   ]
  },
  {
   "cell_type": "code",
   "execution_count": 2,
   "metadata": {},
   "outputs": [
    {
     "name": "stdout",
     "output_type": "stream",
     "text": [
      "Index(['pm10', 'year', 'month', 'day', 'tmed', 'racha', 'sol', 'presmin',\n",
      "       'week', 'season', 'season_name', 'estado_trafico', 'diadelasemana',\n",
      "       'findesemana'],\n",
      "      dtype='object')\n",
      "                 pm10  year  month  day  tmed  racha  sol  presmin  week  \\\n",
      "date                                                                       \n",
      "2018-01-01  10.000000  2018      1    1  12.8   18.1  5.1   1017.9     1   \n",
      "2018-01-02  11.000000  2018      1    2  14.6   10.3  3.1   1022.2     1   \n",
      "2018-01-03  10.000000  2018      1    3  17.9   18.3  1.9   1018.7     1   \n",
      "2018-01-04  11.000000  2018      1    4  19.2   20.0  5.9   1015.1     1   \n",
      "2018-01-05  10.000000  2018      1    5  16.4   13.3  6.4   1004.6     1   \n",
      "...               ...   ...    ...  ...   ...    ...  ...      ...   ...   \n",
      "2019-12-27  16.000000  2019     12   27  12.0    8.1  5.1   1026.3    52   \n",
      "2019-12-28  19.000000  2019     12   28  11.0    5.8  5.2   1028.0    52   \n",
      "2019-12-29  23.000000  2019     12   29  12.3    4.2  0.1   1030.3    52   \n",
      "2019-12-30  23.712692  2019     12   30  11.6    6.1  0.7   1031.2     1   \n",
      "2019-12-31  23.712692  2019     12   31  10.8    6.7  1.8   1030.8     1   \n",
      "\n",
      "            season season_name  estado_trafico  diadelasemana  findesemana  \n",
      "date                                                                        \n",
      "2018-01-01       1      Winter        1.501611              0            0  \n",
      "2018-01-02       1      Winter        1.855361              1            0  \n",
      "2018-01-03       1      Winter        1.914663              2            0  \n",
      "2018-01-04       1      Winter        1.917587              3            0  \n",
      "2018-01-05       1      Winter        1.933171              4            0  \n",
      "...            ...         ...             ...            ...          ...  \n",
      "2019-12-27       1      Winter        1.879245              4            0  \n",
      "2019-12-28       1      Winter        1.677568              5            1  \n",
      "2019-12-29       1      Winter        1.567480              6            1  \n",
      "2019-12-30       1      Winter        1.895104              0            0  \n",
      "2019-12-31       1      Winter        1.804372              1            0  \n",
      "\n",
      "[730 rows x 14 columns]\n"
     ]
    }
   ],
   "source": [
    "#cogemos el dataset trabajado anteriormente con los datos mergeados y habiendo hecho una reducción de variables\n",
    "url_fichero_mercscpm10 = './DatosMergeadosBarcelona_ConSeleccionCaract_ParaPM10.csv'\n",
    "dfMergeadoSelCaractPM10 = pd.read_csv(url_fichero_mercscpm10)\n",
    "dfMergeadoSelCaractPM10 = dfMergeadoSelCaractPM10.set_index('date')\n",
    "print(dfMergeadoSelCaractPM10.columns)\n",
    "print(dfMergeadoSelCaractPM10)"
   ]
  },
  {
   "cell_type": "markdown",
   "metadata": {},
   "source": [
    "## 1.1- Evaluación de los algoritmos\n",
    "### Dataset de validación de división (Split-out)\n",
    "**Dejaremos 80-20, preparado para CV de 10-folds** \n",
    "\n",
    "Vamos a separar el dataset en un 80 (train) - 20 (validation). Con el de 80 (train) haremos validación cruzada, y con el de 20 haremos la validación final.\n"
   ]
  },
  {
   "cell_type": "code",
   "execution_count": 3,
   "metadata": {},
   "outputs": [
    {
     "name": "stdout",
     "output_type": "stream",
     "text": [
      "X_Train_1:  (584, 12)\n",
      "X_Validation_1:  (146, 12)\n"
     ]
    }
   ],
   "source": [
    "array1 = dfMergeadoSelCaractPM10.drop(columns=['season_name']).values\n",
    "X_1 = array1[:,1:]\n",
    "y = array1[:,0]\n",
    "validation_size = 0.20\n",
    "seed = 7\n",
    "X_train_1, X_validation_1, y_train_1, y_validation_1 = train_test_split(X_1, y, test_size=validation_size, random_state=seed)\n",
    "print('X_Train_1: ', X_train_1.shape)\n",
    "print('X_Validation_1: ', X_validation_1.shape)"
   ]
  },
  {
   "cell_type": "markdown",
   "metadata": {},
   "source": [
    "Vamos a probar los siguientes algoritmos de clasificación:\n",
    "\n",
    "- Regresión lineal (LR)\n",
    "- Regularización de Regresión Lasso (L1)(LASSO)\n",
    "- Regularización de Regresión ElasticNet (EN)\n",
    "- k-vecinos más cercanos (KNN)\n",
    "- Árboles de decisión de regresión (CART)\n",
    "- Regresión de vectores de soporte (SVR)\n",
    "\n",
    "Usaremos una validación cruzada probando con diversos nº de folds entre 3 y 10 (la cantidad de datos que tenemos no es muy grande, y no sabemos bien con cuántos tendremos más precisión) y mediremos la precisión de los algoritmos mediante la métrica 'neg_mean_squared_error'"
   ]
  },
  {
   "cell_type": "markdown",
   "metadata": {},
   "source": [
    "**Inicialmente vamos a probar los algoritmos sobre los datos sin ningún preprocesamiento: no les hemos estandarizado ni reescalado.**"
   ]
  },
  {
   "cell_type": "code",
   "execution_count": 4,
   "metadata": {},
   "outputs": [
    {
     "name": "stdout",
     "output_type": "stream",
     "text": [
      "\u001b[1mPrecisiones con 3 splits\u001b[0m\n",
      "LR: -78.607484 (9.174554)\n",
      "LASSO: -85.345696 (6.512250)\n",
      "EN: -85.119668 (6.166794)\n",
      "KNN: -75.872737 (7.775086)\n",
      "CART: -152.444388 (7.078687)\n",
      "SVR: -98.935453 (6.807381)\n",
      "--------------------------\n",
      "\u001b[1mPrecisiones con 5 splits\u001b[0m\n",
      "LR: -78.305011 (17.382433)\n",
      "LASSO: -84.769873 (17.175359)\n",
      "EN: -84.622020 (17.405756)\n",
      "KNN: -71.850562 (12.256165)\n",
      "CART: -123.450287 (19.431638)\n",
      "SVR: -98.968683 (17.927207)\n",
      "--------------------------\n",
      "\u001b[1mPrecisiones con 7 splits\u001b[0m\n",
      "LR: -78.682679 (25.156950)\n",
      "LASSO: -84.798637 (24.485431)\n",
      "EN: -84.570337 (24.872268)\n",
      "KNN: -72.001861 (18.080615)\n",
      "CART: -116.280123 (32.412216)\n",
      "SVR: -98.920464 (26.325807)\n",
      "--------------------------\n",
      "\u001b[1mPrecisiones con 10 splits\u001b[0m\n",
      "LR: -78.377317 (22.886359)\n",
      "LASSO: -84.375458 (25.563897)\n",
      "EN: -83.933971 (25.620755)\n",
      "KNN: -68.914821 (14.850001)\n",
      "CART: -146.722493 (35.181549)\n",
      "SVR: -98.930931 (27.604987)\n",
      "--------------------------\n"
     ]
    }
   ],
   "source": [
    "## Algoritmos de control/Test puntual. Usaremos 6 tipos:\n",
    "models = []\n",
    "models.append(('LR', LinearRegression()))\n",
    "models.append(('LASSO', Lasso()))\n",
    "models.append(('EN', ElasticNet()))\n",
    "models.append(('KNN', KNeighborsRegressor()))\n",
    "models.append(('CART', DecisionTreeRegressor()))\n",
    "models.append(('SVR', SVR(gamma='scale')))\n",
    "\n",
    "#En un diccionario 'allresults' vamos guardando los resultados de los modelos para los diversos cv con 3,5,7 y 10 folds\n",
    "\n",
    "allresults = {}\n",
    "names = []\n",
    "for nsplits in (3,5,7,10):\n",
    "    print('\\033[1m' + 'Precisiones con %d splits' % nsplits + '\\033[0m')\n",
    "    results = []\n",
    "    for name, model in models:\n",
    "        kfold = KFold(n_splits=nsplits, shuffle=True, random_state=seed)\n",
    "        cv_results = cross_val_score(model, X_train_1, y_train_1, cv=kfold, scoring='neg_mean_squared_error')\n",
    "        results.append(cv_results)\n",
    "        names.append(name)\n",
    "        msg = \"%s: %f (%f)\" % (name, cv_results.mean(), cv_results.std())\n",
    "        print(msg)\n",
    "    print('--------------------------')\n",
    "    allresults[nsplits] = results"
   ]
  },
  {
   "cell_type": "code",
   "execution_count": 5,
   "metadata": {},
   "outputs": [
    {
     "data": {
      "image/png": "iVBORw0KGgoAAAANSUhEUgAAAX8AAAEVCAYAAAAIK+VbAAAABHNCSVQICAgIfAhkiAAAAAlwSFlzAAALEgAACxIB0t1+/AAAADh0RVh0U29mdHdhcmUAbWF0cGxvdGxpYiB2ZXJzaW9uMy4yLjIsIGh0dHA6Ly9tYXRwbG90bGliLm9yZy+WH4yJAAAgAElEQVR4nO3de5wcZZ3v8c+XEMNFA4mAQC4GuTkwIMqo4IlrRqPECxJA1mRZAscco6jsekVx3GNQZnVdFSUqbmRcNgcdRFcuiohmDeJoECYSgTCiidzGRA03IWowhN/5o56BSqd7ZjI93Z2e+r5fr35N9/PU5anq6u9UPVXdpYjAzMyKZZdGN8DMzOrP4W9mVkAOfzOzAnL4m5kVkMPfzKyAHP5mZgXk8LcRk3S6pB+UKT9U0i8lPXcU5xWSDhmt6eWmOyNNe9fRnnaa/hpJs2ox7SKRdLKk+yVtkvTCIYa9VNIFg9TXZFtqNg7/USTpHyT1pg10g6TrJM1sdLtqJSK+FhGvyZdJ2gv4CvCmiLi3MS3bnqRZ6UN/bj3nGxFHRsQNqQ2LJV1Wz/k3iqRnSPqWpHvSep9VUi9J/ybpwfT4lCQNMslPA++KiGdGxK01bXxBOPxHiaT3Ap8D/hV4DjAd+BJwUiPbNZTR3uONiD9FxKyI+M1oTncUnAk8lP7WXK2OJJpMD/CPwO/L1C0C5gIvAI4G3gC8bZBpPRdYM9oNLLSI8KPKB7AXsAk4bZBhJpD9c1ifHp8DJqS6WUA/cC7wR2AD2QfjdcCvyULrw7lpLQa+BXwDeAz4BfCCXP2HgHWp7k7g5FzdWcBPgQvTdC8ADgZ+BDwIPAB8Ddg7N8404NvAxjTMF3LT6skN9zLgFuBP6e/LcnU3AB9P834M+AGwzyDr6wNpPawH3gIEcEhuXX4auA/4A/BlYPdBprVHmuc84G9AW65uRpr2run1QcCNafjlwBeBy3LDv5EshB5Jy9SSq7sH+CBwG/A4sGsqmw3MSfPekraVX+bWywXAz1L5d4Bnp/fg0bQeZwxzHZ8F/Da1/W7g9ArrYxzw4dw2sgqYNtrvYW68fmBWSdnPgEW51wuBmyp8bjal9+jPwLpU3pLa80h6P96YG+dS4IJhbkuvI/uMPAb8Dnh/o/OkXo+GN2AsPNIH+4mBAKkwzMeAm4D9gH3Txv/xVDcrjf9/gfHAW8mC9uvAs4Ajgc3A89Lwi1OIvCkN//70YR+f6k8DDiQ7sntz+tAckOrOSvM6hyycdgcOAV6dPmj7koXf59Lw44Bfkv2z2BPYDZiZm1ZPej4ZeBg4I013fnr97FR/A1nYHJbmeQPwyUHW5x+A1jTPr5d8YD8HXJPm+SyywPzEIOv+jPThH5eGvShXN4Ntw38l2T+WZwAzyQL4slR3WFqXr07r/VxgLfCMVH8PsJrsn+XuubLZufftspK23ZCmcTDZTsSdZP/wZ6f1uAz4z6HWcVpPjwKHp2EPAI6ssD4+ANwOHA6IbO/72aP5HpbMr1z4/wl4ae51G/DYINPIv//j0zr7cHqfXkkW3gPLfikp/IexLW0AXp6eTwJe1Og8qVtuNboBY+EBnA78fohh1gGvy70+AbgnPZ8F/BUYl14/K22g+Q/HKmBuer6Y3F4SWcg/tRGXmfdq4KT0/CzgviHaOhe4NT0/nuwf0Xb/2Ng2/M8Abi6pXwmclZ7fAHwkV/cO4PsV5v/VfKiksAmyf1IiC+CDc/XHA3cPsjzLefqf2fy0PAP/KGekae9K1lX3BLBHbtzLeDr8/wW4omS9/44UbGRB/5aSed/D0OHfkXv9GeC63OsTgdVDrWOyYHsEOJVBjoLSOHcNbA8l5aP2HpZMo1z4bwWen3t9aHofVGEa+cB+OVlX0i65+m5gcXp+KU+Hf8VtKb2+j6y7aeJQyzHWHu7zHx0PAvsM0c97IJA/AXpvKntqGhGxNT3/a/r7h1z9X4Fn5l7fP/AkIp4k+4AdCCBpgaTVkh6R9AjZXs8+5cZNw+8n6XJJv5P0KFngDQw/Dbg3Ip4YZNnKLd/AMk7Jvc73/f6lZHlKp5VvY366+5J146zKLd/3U/l2JE0D2sm6UQCuJjt6eX2F+T4UEX/Jld1fUv9UW9J6v59tl3GbdTtMpe9zpfe94jqOiD+THeW9Hdgg6VpJz68wv2lkOyOlRvM9HMomYGLu9URgU6REHsKBwP1p/Vdq5zbDlgyXdypZ18+9kn4s6fhhzH9McPiPjpVk3TJzBxlmPdlJqwHTU9lITRt4ImkXYCqwPl1e+RXgXWSH63sDd5DtMQ8o/YB9IpUdHRETyU7SDQx/PzB9GCcwS5cPsmX83bCX6GkbyC1fms6AB8gC8ciI2Ds99oqISiF0Btl2/h1JvyfrE98NWFBhvpMl7ZEry7djm2VMV6dMY9tlHCy8hhNsgxl0HUfE9RHxarIun1+RbQfl3E/WzbRD0x9la8i6mwa8gOGf0F0PTEvb/YBK7RxsWyIibomIk8i6Y68CrhhmG5qew38URMSfyPrrvyhprqQ9JI2X9FpJn0qDdQMfkbSvpH3S8NVc9nespFNSKL+b7ATjTWSH/0HWtYGk/0225z+YZ5HtiT0iaQpZn/CAm8k+QJ+UtKek3ST9rzLT+B5wWLrcdVdJbwaOAL47gmW7AjhL0hEpiD86UJH29r4CXChpv7SMUySdUGFaC4DzgWNyj1OB10t6dn7AyC5N7QUWp0sVjyfrdsm36/WSXiVpPPA+svX+s2Eu1x+AGSWhtSMqrmNJz5H0Rkl7pjZtIutaKecS4OPp+xiSdHRaF6P5HiJpgqTd0stnpG1nYKdiGfDe9N4dSLYuLx3mpH9O1vV3bvqczSJ7ny4vM2zFbSm9x6dL2isitpCdM6m0zsYch/8oiYjPAu8FPkIWvPeT7X1flQa5gCxYbiM72faLVDZSV5Md5g+coDslIrZExJ1k/cYrycLmKLKrMwZzPvAispNw15Jd2TOwXFvJPliHkPWP9qf5biMiHiS7XO99ZN1g5wJviIgHdnTBIuI6spO6PyI7sfejkkE+mMpvSt1Uy8lOXm5D0nFkffpfjIjf5x7XpPHnl5n96WTnEB4ke3++QRamRMRdZEdFS8iOQE4EToyIvw1z0b6Z/j4o6RfDHOcpQ6zjXVL5erKruF5B1idfzmfJQvEHZIHXRXaeYNTew+QusqO0KcD16fnAkcV/kJ18v53syPTaVDaktL7fCLyW7H34ErAgIn5VZtihtqUzgHvSdvR2sve3EDS8LjbbmUhaTHbCqjAbaqNI+gbwq4j46JADmzUR7/mb5Uh6saSDJe0iaQ7Zl/SuGmo8s2bjbyGabWt/sm6vZ5N1cZ0d/jkBG4Pc7WNmVkDu9jEzKyCHv5lZATn8zcwKyOFvZlZADn8zswJy+JuZFZDD38ysgBz+ZmYF5PA3Mysgh7+ZWQE5/M3MCsjhb2ZWQA5/M7MCcvibmRVQ0/ye/z777BMzZsxodDPMzJrKqlWrHoiIfUvLmyb8Z8yYQW9vb6ObYWbWVCTdW67c3T5mZgXk8DczKyCHv5lZATn8zcwKyOFvZlZADn8zswJy+JuZFZDD38ysgJrmS15mRSJpxONGxCi2xMYqh7/ZTmiwAJfkgLequdvHzKyACr3n70NrMyuqQoe/D63NrKjc7WNmVkAOfzOzAnL4m5kVUKH7/MeysX4ye6wvn1mtOfzHqLF+MnusL59ZrdW020fSOZLukrRG0qdy5edJWpvqTqhlG8zMbHs12/OX1A6cBBwdEY9L2i+VHwHMA44EDgSWSzosIrbWqi1mZratWu75nw18MiIeB4iIP6byk4DLI+LxiLgbWAu8pFaNmDx5MpJ2+AGMaLzJkyfXalFsjPG2aY1Uyz7/w4CXS+oENgPvj4hbgCnATbnh+lNZTTz88MN17f+t5kSkFYu3TWukqsJf0nJg/zJVHWnak4DjgBcDV0h6HlBuCyz7CZC0CFgEMH369GqaamZmOVWFf0TMrlQn6Wzg25Ht2tws6UlgH7I9/Wm5QacC6ytMfymwFKCtrc2Xb5iZjZJa9vlfBbwSQNJhwDOAB4BrgHmSJkg6CDgUuLmG7TAzsxK17PP/KvBVSXcAfwPOTEcBayRdAdwJPAG801f6mNlY0gxfQqxZ+EfE34B/rFDXCXTWat5mZo3UDF9C9G/7mJkVkH/ewXZakydP5uGHHx7RuCM57J40aRIPPfTQiOY3EvHRibB4r/rOzyxx+DexsR6OY/06eJ3/aN2XLxbXbXa2k3P4N7GxHo5mVjvu8zczKyCHv5lZATn8zcwKyOFvZlZADn8zswJy+JuZFdCYv9TTX6QxM9vemA9/f5HGzGx77vYxMysgh7+ZWQE5/M3MCmjM9/mb7czq+XtJkyZNqtu8bOfn8Led1li/UmukFyLsLDcDKbpm/1VdNctG1NbWFr29vTs8Xr0/KHWdXx2D8el5/qlusxrT710VmqWdY12zbJ+SVkVEW2l5zfb8JR0DfBnYjexeve+IiJtT3XnAQmAr8E8RcX2t2jGW+TJWMxupWnb7fAo4PyKuk/S69HqWpCOAecCRwIHAckmH+SbuZsXRDDc4H+tqebVPAAOdqHsB69Pzk4DLI+LxiLgbWAu8pIbtMLOdTERUfAyn3qpXyz3/dwPXS/o02T+Zl6XyKcBNueH6U9l2JC0CFgFMnz69di01MyuYqsJf0nJg/zJVHcCrgPdExH9L+nugC5gNlDveK/vvPCKWAkshO+FbTVvNzOxpVYV/RMyuVCdpGfDP6eU3gUvS835gWm7QqTzdJWRmZnVQyz7/9cAr0vNXAr9Jz68B5kmaIOkg4FDg5hq2w8zMStSyz/+twOcl7QpsJvXdR8QaSVcAd5JdAvpOX+ljZlZfNQv/iOgBjq1Q1wl01mreZs1uqEshB6v3FTE2HP55B7OdkAPcas2/6mlmVkAOfzOzAnL4m5kVkMPfzKyAHP5mZgXk8DczKyCHv5lZATn8zcwKyOFvZlZADn8zswJy+JuZFVAhftunmvuF7qhJkybVbV5mZiM15sN/pD+QJck/rmVmY9aYD/+xbqwf1Yz15TNrFId/ExvrRzVjffmsucVHJ8Liveo7v1Hk8DczGwGd/2hddzIkEYtHb3pVXe0j6TRJayQ9KamtpO48SWsl3SXphFz5sZJuT3UXqZ7H9WZmBlR/qecdwCnAjflCSUcA84AjgTnAlySNS9UXk93P99D0mFNlG8zMbAdVFf4R0RcRd5WpOgm4PCIej4i7gbXASyQdAEyMiJWRHS8tA+ZW0wYzM9txtfqS1xTg/tzr/lQ2JT0vLS9L0iJJvZJ6N27cWJOGmpkV0ZAnfCUtB/YvU9UREVdXGq1MWQxSXlZELAWWArS1tfnyDTOzUTLknn9EzI6I1jKPSsEP2R79tNzrqcD6VD61TLmZDaG7u5vW1lbGjRtHa2sr3d3djW6SNbFadftcA8yTNEHSQWQndm+OiA3AY5KOS1f5LAAG+ydiZmTB39HRwZIlS9i8eTNLliyho6PD/wBsxKq91PNkSf3A8cC1kq4HiIg1wBXAncD3gXdGxNY02tnAJWQngdcB11XTBrMi6OzspKuri/b2dsaPH097eztdXV10dnY2umnWpNQs34Rsa2uL3t7eus1vLH9LdCwvG4zN5Rs3bhybN29m/PjxT5Vt2bKF3Xbbja1btw4yZvNplvev3u0c6fwkrYqIttJy/6SzWRNoaWmhp6dnm7Kenh5aWloa1CJrdg5/sybQ0dHBwoULWbFiBVu2bGHFihUsXLiQjo6ORjfNmpR/28esCcyfPx+Ac845h76+PlpaWujs7Hyq3GxHuc+/gmbpdxyJsbxsMPaXb6xrlvev2fv8vedvZjZCzXy/CYe/mdkINPv9JnzC18ysgBz+ZmYF5PA3Mysgh7+ZWQE5/M3MCsjhb2ZWQA5/M7MCcvibmRWQw9/MrID8Dd8xaqivnQ9WvzN8+9DMasvhP0Y5wM1sMNXexvE0SWskPSmpLVf+akmrJN2e/r4yV3dsKl8r6SLV85eRzMwMqL7P/w7gFODGkvIHgBMj4ijgTOD/5eouBhaR3dT9UGBOlW0wM7MdVFW3T0T0wfb9xxFxa+7lGmA3SROAycDEiFiZxlsGzMU3cTczq6t6XO1zKnBrRDwOTAH6c3X9qczMzOpoyD1/ScuB/ctUdUTE1UOMeyTwb8BrBorKDFbxzKSkRWRdREyfPn2oppqZ2TANGf4RMXskE5Y0FbgSWBAR61JxPzA1N9hUYP0g814KLIXsNo4jaYeZmW2vJt0+kvYGrgXOi4ifDpRHxAbgMUnHpat8FgCDHj3UkqSKj+HUm5k1q2ov9TxZUj9wPHCtpOtT1buAQ4B/kbQ6PfZLdWcDlwBrgXU08GRvRIz4YWaDmzx58qA7UCPd8ar0mDx5coOXuLmoWYKsra0tent7G90MawI7yz1Si67e70OzvO8NWC+rIqKttNy/7WNmVkAOfzOzAnL4m5kVkMPfzKyAHP5mZgXk8DczKyCHv5lZATn8zcwKyOFvZlZAvo2jmdkoa4Z7aDv8zcxGWTP8zIS7fczMCsjhb2ZWQA5/M7MCcvibmRWQw9/MrIAc/mZmBeTwNzMroGrv4XuapDWSnpS03W3CJE2XtEnS+3Nlx0q6XdJaSRfJd0Ovm+7ublpbWxk3bhytra10d3c3uklm1iDV7vnfAZwC3Fih/kK2v0H7xcAi4ND0mFNlG2wYuru76ejoYMmSJWzevJklS5bQ0dHhfwBmBVVV+EdEX0TcVa5O0lzgt8CaXNkBwMSIWBnZV+CWAXOraYMNT2dnJ11dXbS3tzN+/Hja29vp6uqis7Oz0U0bEUkVH8OpNyu6mvT5S9oT+CBwfknVFKA/97o/lVWaziJJvZJ6N27cOPoNLZC+vj5mzpy5TdnMmTPp6+trUIuqExEjfpjZMMJf0nJJd5R5nDTIaOcDF0bEptLJlRm24qcxIpZGRFtEtO27775DNdUG0dLSQk9PzzZlPT09tLS0NKhFZtZIQ/6wW0TMHsF0Xwq8SdKngL2BJyVtBv4bmJobbiqwfgTTtx3U0dHBwoUL6erqYubMmfT09LBw4cKm7fYxs+rU5Fc9I+LlA88lLQY2RcQX0uvHJB0H/BxYACypRRtsW/PnzwfgnHPOoa+vj5aWFjo7O58qN7NiqSr8JZ1MFt77AtdKWh0RJwwx2tnApcDuZFcClV4NZDUyf/58h72ZAVWGf0RcCVw5xDCLS173Aq3VzNfMzKrjb/iamRWQw9/MrIAc/mZmBeR7+JpZTcRHJ8Liveo7Pxs2h7+Z1YTOf7Su36iWxLaXl9hg3O1jZlZADn8zswJy+JuZFZDD38ysgBz+ZmYF5PA3Mysgh7+ZWQE5/M3MCsjhb2ZWQA5/M7MCcvibmdVBd3c3ra2tjBs3jtbWVrq7uxvaHv+2j5lZjXV3d9PR0bHdPbSBht1dr6o9f0mnSVoj6UlJbSV1R0tamepvl7RbKj82vV4r6SJJqqYNZmY7u87OTrq6umhvb2f8+PG0t7fT1dVFZ2dnw9pUbbfPHcApwI35Qkm7ApcBb4+II4FZwJZUfTGwCDg0PeZU2QYzs51aX18fM2fO3KZs5syZ9PX1NahFVYZ/RPRFxF1lql4D3BYRv0zDPRgRWyUdAEyMiJWR/dbrMmBuNW0wM9vZtbS00NPTs01ZT08PLS0tDWpR7U74HgaEpOsl/ULSual8CtCfG64/lZmZjVkdHR0sXLiQFStWsGXLFlasWMHChQvp6OhoWJuGPOEraTmwf5mqjoi4epDpzgReDPwF+B9Jq4BHywxb8W4PkhaRdRExffr0oZpqZrZTGjipe84559DX10dLSwudnZ0NO9kLwwj/iJg9gun2Az+OiAcAJH0PeBHZeYCpueGmAusHmfdSYClAW1tb/W4JZGY2yubPn9/QsC9Vq26f64GjJe2RTv6+ArgzIjYAj0k6Ll3lswCodPRgZmY1Uu2lnidL6geOB66VdD1ARDwMfBa4BVgN/CIirk2jnQ1cAqwF1gHXVdMGMzPbcarnDZar0dbWFr29vY1uhpkNk6T638C9SfKsniStioi20nL/vIOZWQE5/M3MCsjhb2ZWQA5/M7MCcvibmRWQw9/MrIAc/mZmBeSbuZhZzdTzdh2TJk2q27zGAoe/mdXESL9w5S9r1Ye7fczMCsjhb2ZWQA5/M7MCcvibmRWQw9/MrIAc/mZmBeTwNzMrIIe/mVkBOfzNzAqo2nv4niZpjaQnJbXlysdL+i9Jt0vqk3Reru7YVL5W0kWq5/e/zcwMqH7P/w7gFODGkvLTgAkRcRRwLPA2STNS3cXAIuDQ9JhTZRvMzGwHVRX+EdEXEXeVqwL2lLQrsDvwN+BRSQcAEyNiZWQ/3rEMmFtNG8zMbMfVqs//W8CfgQ3AfcCnI+IhYArQnxuuP5WVJWmRpF5JvRs3bqxRU83MimfIX/WUtBzYv0xVR0RcXWG0lwBbgQOBScBP0nTK9e9X/Pm+iFgKLAVoa2vzz/yZmY2SIcM/ImaPYLr/AHw/IrYAf5T0U6AN+AkwNTfcVGD9CKZvZmZVqFW3z33AK5XZEzgO+FVEbAAek3RcuspnAVDp6MHMzGqk2ks9T5bUDxwPXCvp+lT1ReCZZFcD3QL8Z0TclurOBi4B1gLrgOuqaYOZme24qu7kFRFXAleWKd9EdrlnuXF6gdZq5mtmZtXxN3zNzArI4W9mVkAOfzOzAnL4m5kVkMPfzKyAHP5mZgXk8DczKyCHv5lZATn8zcwKyOFvZlZADn8zswJy+JuZFZDD38ysgBz+ZmYF5PA3Mysgh7+ZWQE5/M3MCqja2zj+u6RfSbpN0pWS9s7VnSdpraS7JJ2QKz9W0u2p7qJ0L18zM6ujavf8fwi0RsTRwK+B8wAkHQHMA44E5gBfkjQujXMxsAg4ND3mVNkGMzPbQVWFf0T8ICKeSC9vAqam5ycBl0fE4xFxN9nN2l8i6QBgYkSsjIgAlgFzq2mDmZntuNHs838LcF16PgW4P1fXn8qmpOel5WVJWiSpV1Lvxo0bR7GpZtZIkio+hlNv1dt1qAEkLQf2L1PVERFXp2E6gCeArw2MVmb4GKS8rIhYCiwFaGtrqzicmTWX7MDfGmnI8I+I2YPVSzoTeAPwqnj6He0HpuUGmwqsT+VTy5SbmVkdVXu1zxzgg8AbI+IvuaprgHmSJkg6iOzE7s0RsQF4TNJx6SqfBcDV1bTBzMx23JB7/kP4AjAB+GHqi7spIt4eEWskXQHcSdYd9M6I2JrGORu4FNid7BzBddtN1czMaqqq8I+IQwap6wQ6y5T3Aq3VzNfMzKrjb/iamRWQw9/MrIAc/mZmBeTwNzMrIDXLly0kbQTureMs9wEeqOP86mksLxt4+Zqdl290PTci9i0tbJrwrzdJvRHR1uh21MJYXjbw8jU7L199uNvHzKyAHP5mZgXk8K9saaMbUENjednAy9fsvHx14D5/M7MC8p6/mVkBFT78JW0qU7ZY0u8krZZ0p6T5jWjbYMq1O1f3+dT+XXJlz5H0XUm/TMv0vVS+S7qX8h3p3sq3pF9iRdJekpZJWpceyyTtVfulGx5JW9N7NPD4UCq/QVJvbrg2STc0rKHDlH9PJb1O0m8kTU/b418k7Vdh2JD0mdzr90taXLeGD0HS/pIuT9vQnZK+J+mwVPceSZvz25WkWZL+JOnWdI/wT0s6Kvc+PyTp7vR8eeOWbHuSOiStSfc1Xy3pOkmfKBnmGEl96fk96XN3m6QfS3puvdpa+PAfxIURcQzZLSn/Q9L4RjdoOFLgn0x2J7W/y1V9DPhhRLwgIo4APpTK3wwcCBwdEUelcR9JdV3AbyPi4Ig4GLgbuKQOizFcf42IY3KPT+bq9pP02oa1rAqSXgUsAeZExH2p+AHgfRVGeRw4RdI+9Wjfjkg/3X4lcEPajo4APgw8Jw0yH7iFbLvL+0lEvBB4Idn9QiYOvM9kPxn/gfR60PuN1JOk48na+qJ0X/PZwCfJPmN584Cv5163p+FvAD5Sh6YCDv8hRcRvgL8AkxrdlmFqB+4ALib7YA04gNwtNCPitlz5hoh4MpX3R8TDkg4BjgU+npvGx4A2SQfXsP2j5d+p4wdptEh6OfAV4PURsS5X9VXgzZImlxntCbKTiO+pQxN3VDuwJSK+PFAQEasj4idpO3om2ftU9ug6Iv4KrGaQ273uRA4AHoiIxwEi4oGI+DHwiKSX5ob7e+DyMuOvpI7L6fAfgqQXAb+JiD82ui3DNB/oJtvbekPuiOWLQJekFenQ9MBUfgVwYjpE/YykF6byI4DVufswkJ6vBo6sy5IMbfeSbp/8HtZK4HFJ7Y1q3AhMILu50dyI+FVJ3SayfwD/XGHcLwKn70zdckkrsKpC3cC2+hPg8Hy31gBJk8huBnVjzVo4en4ATJP0a0lfkvSKVN5NtrePpOOAB9NOZak5wFX1aarDfzDvkXQX8HNgcYPbMiySngG8DrgqIh4la/trACLieuB5ZHuVzwdulbRvRPQDhwPnAU8C/5O6HUT5+ytXKm+E0m6fb5TUX0Bz7f1vAX4GLKxQfxFwpqSJpRXp/V4G/FPtmjfq5gGXp6PObwOn5epeLuk24PfAdyPi941o4I6IiE1kR8uLgI3ANySdRbaX/6bUJTuP7J9B3gpJfyTrJvo6deLwr+zCiDicrL9umaTdGt2gYZgD7AXcLukeYCa5w+mIeCgivh4RZ5D1s/5dKn88Iq6LiA8A/wrMBdYALyw5abwL8AKgr07LU5WI+BGwG3Bco9syTE+SdQm8WNKHSysj4hGycHhHhfE/R/aPY8+atXDHrSELxG1IOppsj/6HaVudx7ZdPz9J/eBHAWdLOqYOba1aRGyNiBsi4qPAu4BTI+J+4B7gFcCpZEfbee3Ac8nW1cfq1VaH/xAi4ttAL3Bmo9syDPOB/xMRMyJiBnAQ8BpJe0h6paQ9ACQ9CzgYuE/Siwa6gFK4Hw3cGxFrgVvZds/5I8AvUl2z6ATObXQjhivdC/sNZF045Y4APgu8jTJ34YuIh8iCpdKRQyP8CJgg6a0DBZJeDHweWDywrUbEgfMrQmkAAAEeSURBVMCU0qtdIuLXwCfI7hW+U5N0uKRDc0XH8PSPUXYDFwLr0tH2NtK5jXcDCyqc1xl1Dn/YQ1J/7vHeMsN8DHhvfi94J1Da7g8DJwDXDgwQEX8GeoATyfa+etOh9Ergkoi4BdgP+I6kO4DbyE4efiFNYiFwmKS1ktYBh7FzBUtpn/8nSweIiO+RHYI3jRTic4CPSDqppO4BsvM5EyqM/hmyX43cKUT2LdKTgVenSz3XkHWjziJbjrwrSX3jJb4M/J3SJcg7sWcC/5UuZ72N7LzZ4lT3TbJzZeVO9AIQERvI/km8s8btBPwNXzOzQtqZ9mTNzKxOHP5mZgXk8DczKyCHv5lZATn8zcwKyOFvZlZADn8zswJy+JuZFdD/B8k7wBjZl0+7AAAAAElFTkSuQmCC\n",
      "text/plain": [
       "<Figure size 432x288 with 1 Axes>"
      ]
     },
     "metadata": {
      "needs_background": "light"
     },
     "output_type": "display_data"
    }
   ],
   "source": [
    "fig = plt.figure()\n",
    "fig.suptitle('Comparación de Algoritmos con 10 folds')\n",
    "ax = fig.add_subplot(111)\n",
    "plt.boxplot(allresults[10])\n",
    "ax.set_xticklabels(names)\n",
    "plt.show()"
   ]
  },
  {
   "cell_type": "markdown",
   "metadata": {},
   "source": [
    "Claramente, el mejor algoritmo de momento es el KNN con 10 folds para el CV"
   ]
  },
  {
   "cell_type": "markdown",
   "metadata": {},
   "source": [
    "**Trabajemos ahora con una estandarización para revisar su capacidad utilizando una copia estandarizada de los datos**.\n",
    "\n",
    "### Estandarización del dataset\n",
    "Con la sospecha de que las diferentes escalas de los datos en bruto pueden afectar negativamente la capacidad de predicción de algunos de los algoritmos, evaluamos estos mismos algoritmos con una copia estandarizada del conjunto de datos. \n",
    "\n",
    "Es en este punto en donde los datos se transforman de tal manera que cada atributo tiene un **valor medio de 0 y una desviación estándar de 1**. \n",
    "\n",
    "También debemos evitar que se nos escapen datos cuando hacemos transformaciones. Una buena manera de evitarlo es usar **pipelines (tuberías)** que estandaricen los datos y construyan el modelo para cada *fold* en nuestra selección de prueba de validación cruzada. De esa manera podemos obtener una estimación justa de cómo podría funcionar cada modelo con datos estandarizados en datos no visibles."
   ]
  },
  {
   "cell_type": "code",
   "execution_count": 6,
   "metadata": {},
   "outputs": [
    {
     "name": "stdout",
     "output_type": "stream",
     "text": [
      "\u001b[1mPrecisiones con 3 splits\u001b[0m\n",
      "ScLR: -78.607484 (9.174554)\n",
      "ScLASSO: -85.255750 (5.703640)\n",
      "ScEN: -83.936127 (6.403992)\n",
      "ScKNN: -84.190048 (9.071378)\n",
      "ScCART: -140.815251 (8.656848)\n",
      "ScSVR: -83.551187 (7.358538)\n",
      "--------------------------\n",
      "\u001b[1mPrecisiones con 5 splits\u001b[0m\n",
      "ScLR: -78.305011 (17.382433)\n",
      "ScLASSO: -84.731033 (16.515359)\n",
      "ScEN: -83.614488 (16.532458)\n",
      "ScKNN: -82.053599 (13.931684)\n",
      "ScCART: -135.397279 (17.792727)\n",
      "ScSVR: -82.622639 (17.875907)\n",
      "--------------------------\n",
      "\u001b[1mPrecisiones con 7 splits\u001b[0m\n",
      "ScLR: -78.682679 (25.156950)\n",
      "ScLASSO: -84.762925 (23.335770)\n",
      "ScEN: -83.519850 (23.954920)\n",
      "ScKNN: -82.221256 (23.046619)\n",
      "ScCART: -135.508239 (22.608190)\n",
      "ScSVR: -81.666386 (26.008113)\n",
      "--------------------------\n",
      "\u001b[1mPrecisiones con 10 splits\u001b[0m\n",
      "ScLR: -78.377317 (22.886359)\n",
      "ScLASSO: -84.751995 (25.020687)\n",
      "ScEN: -83.574113 (24.150389)\n",
      "ScKNN: -80.854403 (20.794414)\n",
      "ScCART: -139.287425 (37.415961)\n",
      "ScSVR: -81.101814 (25.611428)\n",
      "--------------------------\n"
     ]
    }
   ],
   "source": [
    "# Estandarización del dataset\n",
    "pipelines = []\n",
    "pipelines.append(('ScLR', Pipeline([('Scaler', StandardScaler()),('LR', LinearRegression())])))\n",
    "pipelines.append(('ScLASSO', Pipeline([('Scaler', StandardScaler()),('LASSO', Lasso())])))\n",
    "pipelines.append(('ScEN', Pipeline([('Scaler', StandardScaler()),('EN', ElasticNet())])))\n",
    "pipelines.append(('ScKNN', Pipeline([('Scaler', StandardScaler()),('KNN', KNeighborsRegressor())])))\n",
    "pipelines.append(('ScCART', Pipeline([('Scaler', StandardScaler()),('CART', DecisionTreeRegressor())])))\n",
    "pipelines.append(('ScSVR', Pipeline([('Scaler', StandardScaler()),('SVR', SVR(gamma='scale'))])))\n",
    "\n",
    "allresults = {}\n",
    "names = []\n",
    "for nsplits in (3,5,7,10):\n",
    "    print('\\033[1m' + 'Precisiones con %d splits' % nsplits + '\\033[0m')\n",
    "    results = []\n",
    "    for name, model in pipelines:\n",
    "        kfold = KFold(n_splits=nsplits, shuffle=True, random_state=seed)\n",
    "        cv_results = cross_val_score(model, X_train_1, y_train_1, cv=kfold, scoring='neg_mean_squared_error')\n",
    "        results.append(cv_results)\n",
    "        names.append(name)\n",
    "        msg = \"%s: %f (%f)\" % (name, cv_results.mean(), cv_results.std())\n",
    "        print(msg)\n",
    "    print('--------------------------')\n",
    "    allresults[nsplits] = results"
   ]
  },
  {
   "cell_type": "markdown",
   "metadata": {},
   "source": [
    "En este caso observamos que el LR es el algoritmo de menor error cuando los datos han sido estandarizados. Pero su error es mayor que el del KNN con datos no preprocesados. Por lo que de momento nos quedaríamos con el KNN y datos sin estandarizar."
   ]
  },
  {
   "cell_type": "markdown",
   "metadata": {},
   "source": [
    "**Ahora revisamos cómo funciona si usamos una copia de los datos reescalados**\n",
    "\n",
    "### Reescalado del dataset (entre 0 y 1)\n",
    "Evaluaremos ahora los algoritmos habiendo reescalado los datos entre 0 y 1. Cuando los datos se componen de atributos con diferentes escalas, muchos algoritmos de aprendizaje automático pueden beneficiarse de volver a escalar los atributos para que todos tengan la misma escala\n",
    "\n",
    "Usaremos igualmente pipelines (tuberías) que reescalen los datos y construyan el modelo para cada fold en nuestra selección de prueba de validación cruzada."
   ]
  },
  {
   "cell_type": "code",
   "execution_count": 7,
   "metadata": {},
   "outputs": [
    {
     "name": "stdout",
     "output_type": "stream",
     "text": [
      "\u001b[1mPrecisiones con 3 splits\u001b[0m\n",
      "mMLR: -78.607484 (9.174554)\n",
      "mMLASSO: -98.465173 (6.990435)\n",
      "mMEN: -97.053979 (6.953456)\n",
      "mMKNN: -90.991604 (12.529242)\n",
      "mMCART: -141.449131 (3.281374)\n",
      "mMSVR: -86.246778 (7.171145)\n",
      "--------------------------\n",
      "\u001b[1mPrecisiones con 5 splits\u001b[0m\n",
      "mMLR: -78.305011 (17.382433)\n",
      "mMLASSO: -98.241174 (17.811118)\n",
      "mMEN: -96.842595 (17.717024)\n",
      "mMKNN: -87.510717 (15.694080)\n",
      "mMCART: -129.887295 (20.995061)\n",
      "mMSVR: -85.039041 (17.868373)\n",
      "--------------------------\n",
      "\u001b[1mPrecisiones con 7 splits\u001b[0m\n",
      "mMLR: -78.682679 (25.156950)\n",
      "mMLASSO: -98.267631 (26.395707)\n",
      "mMEN: -96.806101 (26.338080)\n",
      "mMKNN: -88.403610 (23.726904)\n",
      "mMCART: -118.231318 (31.740389)\n",
      "mMSVR: -84.167784 (26.266131)\n",
      "--------------------------\n",
      "\u001b[1mPrecisiones con 10 splits\u001b[0m\n",
      "mMLR: -78.377317 (22.886359)\n",
      "mMLASSO: -98.419851 (26.489797)\n",
      "mMEN: -97.016110 (26.402050)\n",
      "mMKNN: -84.745257 (19.186944)\n",
      "mMCART: -124.876913 (34.678186)\n",
      "mMSVR: -83.678199 (25.774630)\n",
      "--------------------------\n"
     ]
    }
   ],
   "source": [
    "# Reescalado del dataset\n",
    "pipelines = []\n",
    "pipelines.append(('mMLR', Pipeline([('Scaler', MinMaxScaler()),('LR', LinearRegression())])))\n",
    "pipelines.append(('mMLASSO', Pipeline([('Scaler', MinMaxScaler()),('LASSO', Lasso())])))\n",
    "pipelines.append(('mMEN', Pipeline([('Scaler', MinMaxScaler()),('EN', ElasticNet())])))\n",
    "pipelines.append(('mMKNN', Pipeline([('Scaler', MinMaxScaler()),('KNN', KNeighborsRegressor())])))\n",
    "pipelines.append(('mMCART', Pipeline([('Scaler', MinMaxScaler()),('CART', DecisionTreeRegressor())])))\n",
    "pipelines.append(('mMSVR', Pipeline([('Scaler', MinMaxScaler()),('SVR', SVR(gamma='scale'))])))\n",
    "\n",
    "allresults = {}\n",
    "names = []\n",
    "for nsplits in (3,5,7,10):\n",
    "    print('\\033[1m' + 'Precisiones con %d splits' % nsplits + '\\033[0m')\n",
    "    results = []\n",
    "    for name, model in pipelines:\n",
    "        kfold = KFold(n_splits=nsplits, shuffle=True, random_state=seed)\n",
    "        cv_results = cross_val_score(model, X_train_1, y_train_1, cv=kfold, scoring='neg_mean_squared_error')\n",
    "        results.append(cv_results)\n",
    "        names.append(name)\n",
    "        msg = \"%s: %f (%f)\" % (name, cv_results.mean(), cv_results.std())\n",
    "        print(msg)\n",
    "    print('--------------------------')\n",
    "    allresults[nsplits] = results"
   ]
  },
  {
   "cell_type": "markdown",
   "metadata": {},
   "source": [
    "No obtenemos mejores resultados que al inicio.\n",
    "\n",
    "**CONCLUSIÓN: de momento el mejor modelo a usar es el algortimo KNN con 10 folds y con los datos sin escalar ni estandarizar**, obteniendo un error cuadrático medio negativo de -68,915 "
   ]
  },
  {
   "cell_type": "markdown",
   "metadata": {},
   "source": [
    "### Ajuste (Tunning) del Algoritmo KNN\n",
    "Antes de pasar mirar los ensembles, vamos a tratar de mejorar el KNN obtenido. \n",
    "\n",
    "En este caso podemos usar una grid search (búsqueda de cuadrícula) para probar un conjunto de diferentes números de vecinos para el KNN y ver si podemos mejorar la puntuación.\n",
    "\n",
    "Vamos a probar valores k impares de 1 a 21, un rango arbitrario que cubre un valor bueno conocido de 7. Cada valor k (n_neighbors) se evalúa utilizando una validación cruzada de 10 veces en el conjunto de datos de entrenamiento."
   ]
  },
  {
   "cell_type": "code",
   "execution_count": 8,
   "metadata": {},
   "outputs": [
    {
     "name": "stdout",
     "output_type": "stream",
     "text": [
      "Mejor: -68.914821 usando {'n_neighbors': 5}\n",
      "-93.798050 (18.289001) with: {'n_neighbors': 1}\n",
      "-70.700411 (18.565125) with: {'n_neighbors': 3}\n",
      "-68.914821 (14.850001) with: {'n_neighbors': 5}\n",
      "-72.542946 (16.680042) with: {'n_neighbors': 7}\n",
      "-72.483936 (18.514244) with: {'n_neighbors': 9}\n",
      "-73.236459 (19.818261) with: {'n_neighbors': 11}\n",
      "-73.709471 (20.328259) with: {'n_neighbors': 13}\n",
      "-75.412536 (19.352857) with: {'n_neighbors': 15}\n",
      "-75.892285 (20.195490) with: {'n_neighbors': 17}\n",
      "-76.804980 (21.043521) with: {'n_neighbors': 19}\n",
      "-77.683745 (21.491851) with: {'n_neighbors': 21}\n"
     ]
    }
   ],
   "source": [
    "k_values = np.array([1,3,5,7,9,11,13,15,17,19,21])\n",
    "param_grid = dict(n_neighbors=k_values)\n",
    "model = KNeighborsRegressor()\n",
    "kfold = KFold(n_splits=10, shuffle=True, random_state=seed)\n",
    "grid = GridSearchCV(estimator=model, param_grid=param_grid, scoring='neg_mean_squared_error', cv=kfold)\n",
    "grid_result = grid.fit(X_train_1, y_train_1)\n",
    "\n",
    "print(\"Mejor: %f usando %s\" % (grid_result.best_score_, grid_result.best_params_))\n",
    "means = grid_result.cv_results_['mean_test_score']\n",
    "stds = grid_result.cv_results_['std_test_score']\n",
    "params = grid_result.cv_results_['params']\n",
    "for mean, stdev, param in zip(means, stds, params):\n",
    "    print(\"%f (%f) with: %r\" % (mean, stdev, param))"
   ]
  },
  {
   "cell_type": "markdown",
   "metadata": {},
   "source": [
    "Observamos que el mejor valor obtenido es el que ya obtuvimos inicialmente, siendo su nº de k vecinos = 5 . No conseguimos mejorarlo."
   ]
  },
  {
   "cell_type": "markdown",
   "metadata": {},
   "source": [
    "## 1.2- Ensembles (Conjuntos)\n",
    "\n",
    "Vamos ahora a tratar de mejorar el rendimiento de los algoritmos mediante el uso de métodos conjuntos o *ensembles*. Para ello vamos a evaluar 4 algoritmos de ML por conjuntos, 2 métodos de *boosting* o impulso y 2 de *bagging* o embolsado:\n",
    "\n",
    "- **Métodos de *boosting* (impulso)**: AdaBoost (AB) y Gradient Boosting (GBM).\n",
    "- **Métodos de *bagging* (embolsado)**: bosques aleatorios (RF) y árboles adicionales (ET).\n",
    "\n",
    "Usaremos la misma selección de prueba que antes, validación cruzada iterando el nº de folds entre 3 y 10 , y probaremos primero sin escalar y después escalando los datos."
   ]
  },
  {
   "cell_type": "code",
   "execution_count": 9,
   "metadata": {},
   "outputs": [
    {
     "name": "stdout",
     "output_type": "stream",
     "text": [
      "\u001b[1mPrecisiones con 3 splits\u001b[0m\n",
      "AB: -75.073396 (4.595247)\n",
      "GBM: -71.522337 (7.022735)\n",
      "RF: -74.405581 (10.854405)\n",
      "ET: -63.343083 (7.524401)\n",
      "--------------------------\n",
      "\u001b[1mPrecisiones con 5 splits\u001b[0m\n",
      "AB: -78.624528 (14.220212)\n",
      "GBM: -63.902146 (10.623956)\n",
      "RF: -66.690686 (12.813496)\n",
      "ET: -59.098793 (9.332796)\n",
      "--------------------------\n",
      "\u001b[1mPrecisiones con 7 splits\u001b[0m\n",
      "AB: -80.738527 (19.949000)\n",
      "GBM: -65.423105 (17.786415)\n",
      "RF: -67.223890 (18.234882)\n",
      "ET: -60.749608 (19.287105)\n",
      "--------------------------\n",
      "\u001b[1mPrecisiones con 10 splits\u001b[0m\n",
      "AB: -81.765559 (22.822227)\n",
      "GBM: -65.106957 (20.751326)\n",
      "RF: -67.301959 (17.344855)\n",
      "ET: -57.244932 (14.788207)\n",
      "--------------------------\n"
     ]
    }
   ],
   "source": [
    "#inicialmente probamos con los datos sin escalar\n",
    "\n",
    "ensembles = []\n",
    "ensembles.append(('AB', AdaBoostRegressor()))\n",
    "ensembles.append(('GBM', GradientBoostingRegressor()))\n",
    "ensembles.append(('RF', RandomForestRegressor(n_estimators=100)))\n",
    "ensembles.append(('ET', ExtraTreesRegressor(n_estimators=100)))\n",
    "\n",
    "allresults = {}\n",
    "names = []\n",
    "for nsplits in (3,5,7,10):\n",
    "    print('\\033[1m' + 'Precisiones con %d splits' % nsplits + '\\033[0m')\n",
    "    results = []\n",
    "    for name, model in ensembles:\n",
    "        kfold = KFold(n_splits=nsplits, shuffle=True, random_state=seed)\n",
    "        cv_results = cross_val_score(model, X_train_1, y_train_1, cv=kfold, scoring='neg_mean_squared_error')\n",
    "        results.append(cv_results)\n",
    "        names.append(name)\n",
    "        msg = \"%s: %f (%f)\" % (name, cv_results.mean(), cv_results.std())\n",
    "        print(msg)\n",
    "    print('--------------------------')\n",
    "    allresults[nsplits] = results"
   ]
  },
  {
   "cell_type": "code",
   "execution_count": 10,
   "metadata": {},
   "outputs": [
    {
     "data": {
      "image/png": "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\n",
      "text/plain": [
       "<Figure size 432x288 with 1 Axes>"
      ]
     },
     "metadata": {
      "needs_background": "light"
     },
     "output_type": "display_data"
    }
   ],
   "source": [
    "fig = plt.figure()\n",
    "fig.suptitle('Comparación de Algoritmos con 10 folds')\n",
    "ax = fig.add_subplot(111)\n",
    "plt.boxplot(allresults[10])\n",
    "ax.set_xticklabels(names)\n",
    "plt.show()"
   ]
  },
  {
   "cell_type": "markdown",
   "metadata": {},
   "source": [
    "#### Obtenemos mejores valores que con el KNN solo. En concreto **el mejor valor nos lo da ExtraTreesRegressor (ET)**, de nuevo con 10 folds, teniendo un error de **-57,244**"
   ]
  },
  {
   "cell_type": "code",
   "execution_count": 11,
   "metadata": {},
   "outputs": [
    {
     "name": "stdout",
     "output_type": "stream",
     "text": [
      "\u001b[1mPrecisiones con 3 splits\u001b[0m\n",
      "ScaledAB: -77.132351 (5.089745)\n",
      "ScaledGBM: -71.201026 (7.362994)\n",
      "ScaledRF: -77.596859 (13.586144)\n",
      "ScaledET: -62.409991 (6.364560)\n",
      "--------------------------\n",
      "\u001b[1mPrecisiones con 5 splits\u001b[0m\n",
      "ScaledAB: -79.131838 (10.841949)\n",
      "ScaledGBM: -65.812098 (9.992570)\n",
      "ScaledRF: -67.269565 (13.027532)\n",
      "ScaledET: -60.066534 (11.408677)\n",
      "--------------------------\n",
      "\u001b[1mPrecisiones con 7 splits\u001b[0m\n",
      "ScaledAB: -82.071488 (19.867174)\n",
      "ScaledGBM: -65.145652 (17.653108)\n",
      "ScaledRF: -68.466129 (18.707649)\n",
      "ScaledET: -59.658182 (19.547885)\n",
      "--------------------------\n",
      "\u001b[1mPrecisiones con 10 splits\u001b[0m\n",
      "ScaledAB: -78.542918 (19.757179)\n",
      "ScaledGBM: -64.643589 (20.975376)\n",
      "ScaledRF: -65.639443 (18.040247)\n",
      "ScaledET: -58.099384 (14.632226)\n",
      "--------------------------\n"
     ]
    }
   ],
   "source": [
    "#Ahora probamos estandarizando los datos\n",
    "\n",
    "ensembles = []\n",
    "ensembles.append(('ScaledAB', Pipeline([('Scaler', StandardScaler()),('AB', AdaBoostRegressor())])))\n",
    "ensembles.append(('ScaledGBM', Pipeline([('Scaler', StandardScaler()),('GBM', GradientBoostingRegressor())])))\n",
    "ensembles.append(('ScaledRF', Pipeline([('Scaler', StandardScaler()),('RF', RandomForestRegressor(n_estimators=100))])))\n",
    "ensembles.append(('ScaledET', Pipeline([('Scaler', StandardScaler()),('ET', ExtraTreesRegressor(n_estimators=100))])))\n",
    "\n",
    "allresults = {}\n",
    "names = []\n",
    "for nsplits in (3,5,7,10):\n",
    "    print('\\033[1m' + 'Precisiones con %d splits' % nsplits + '\\033[0m')\n",
    "    results = []\n",
    "    for name, model in ensembles:\n",
    "        kfold = KFold(n_splits=nsplits, shuffle=True, random_state=seed)\n",
    "        cv_results = cross_val_score(model, X_train_1, y_train_1, cv=kfold, scoring='neg_mean_squared_error')\n",
    "        results.append(cv_results)\n",
    "        names.append(name)\n",
    "        msg = \"%s: %f (%f)\" % (name, cv_results.mean(), cv_results.std())\n",
    "        print(msg)\n",
    "    print('--------------------------')\n",
    "    allresults[nsplits] = results"
   ]
  },
  {
   "cell_type": "markdown",
   "metadata": {},
   "source": [
    "Y observamos que no obtenemos mejores resultados, por lo que:\n",
    "\n",
    "**CONCLUSIÓN: el mejor modelo obtenido finalmente es el ensemble ExtraTreesRegressor (ET) con 10 folds y con los datos sin escalar ni estandarizar, obteniendo un error cuadrático medio negativo de -57,244**"
   ]
  },
  {
   "cell_type": "markdown",
   "metadata": {},
   "source": [
    "---------------------------------------------------------------------------------------------------------------------\n",
    "\n",
    "\n",
    "## 2) Carga del dataset mergeado trabajado CON selección de características PCA\n",
    "\n",
    "Ahora vamos a realizar el mismo estudio pero cogiendo el dataset trabajado con selección de características mediante PCA, para comprobar si los resultados son mejores o peores\n"
   ]
  },
  {
   "cell_type": "code",
   "execution_count": 12,
   "metadata": {},
   "outputs": [
    {
     "name": "stdout",
     "output_type": "stream",
     "text": [
      "Index(['pm10', 'no2', 'year', 'month', 'day', 'week', 'season', 'season_name',\n",
      "       'estado_trafico', 'diadelasemana', 'findesemana', 'PCA1', 'PCA2',\n",
      "       'PCA3', 'PCA4'],\n",
      "      dtype='object')\n",
      "                 pm10        no2  year  month  day  week  season season_name  \\\n",
      "date                                                                           \n",
      "2018-01-01  10.000000  24.000000  2018      1    1     1       1      Winter   \n",
      "2018-01-02  11.000000  10.000000  2018      1    2     1       1      Winter   \n",
      "2018-01-03  10.000000   7.000000  2018      1    3     1       1      Winter   \n",
      "2018-01-04  11.000000  14.000000  2018      1    4     1       1      Winter   \n",
      "2018-01-05  10.000000  20.000000  2018      1    5     1       1      Winter   \n",
      "...               ...        ...   ...    ...  ...   ...     ...         ...   \n",
      "2019-12-27  16.000000  18.000000  2019     12   27    52       1      Winter   \n",
      "2019-12-28  19.000000  16.000000  2019     12   28    52       1      Winter   \n",
      "2019-12-29  23.000000  17.641379  2019     12   29    52       1      Winter   \n",
      "2019-12-30  23.712692  17.641379  2019     12   30     1       1      Winter   \n",
      "2019-12-31  23.712692  15.000000  2019     12   31     1       1      Winter   \n",
      "\n",
      "            estado_trafico  diadelasemana  findesemana       PCA1       PCA2  \\\n",
      "date                                                                           \n",
      "2018-01-01        1.501611              0            0   7.005353  -7.603868   \n",
      "2018-01-02        1.855361              1            0   6.181395 -10.888625   \n",
      "2018-01-03        1.914663              2            0   6.784913  -5.473179   \n",
      "2018-01-04        1.917587              3            0   6.546647  -0.564344   \n",
      "2018-01-05        1.933171              4            0   5.535736   8.138699   \n",
      "...                    ...            ...          ...        ...        ...   \n",
      "2019-12-27        1.879245              4            0  11.482261 -16.988071   \n",
      "2019-12-28        1.677568              5            1 -10.329821 -20.684155   \n",
      "2019-12-29        1.567480              6            1  12.694422 -21.899737   \n",
      "2019-12-30        1.895104              0            0  11.707394 -22.781803   \n",
      "2019-12-31        1.804372              1            0   2.717637 -22.733396   \n",
      "\n",
      "                PCA3      PCA4  \n",
      "date                            \n",
      "2018-01-01  2.984528 -6.095298  \n",
      "2018-01-02  2.874446 -4.333908  \n",
      "2018-01-03  1.930820 -2.179197  \n",
      "2018-01-04 -0.337029  0.542584  \n",
      "2018-01-05 -3.315116 -1.744549  \n",
      "...              ...       ...  \n",
      "2019-12-27  4.702981 -5.918441  \n",
      "2019-12-28  4.911564 -7.548898  \n",
      "2019-12-29  6.649382 -7.248819  \n",
      "2019-12-30  7.116637 -7.835662  \n",
      "2019-12-31  6.791508 -8.519509  \n",
      "\n",
      "[730 rows x 15 columns]\n"
     ]
    }
   ],
   "source": [
    "#cogemos el dataset trabajado anteriormente con los datos mergeados y habiendo hecho una reducción de variables\n",
    "url_fichero_mercscpca = './DatosMergeadosBarcelona_ConSeleccionCaract_PCA.csv'\n",
    "dfMergeadoSelCaractPCA = pd.read_csv(url_fichero_mercscpca)\n",
    "dfMergeadoSelCaractPCA = dfMergeadoSelCaractPCA.set_index('date')\n",
    "print(dfMergeadoSelCaractPCA.columns)\n",
    "print(dfMergeadoSelCaractPCA)"
   ]
  },
  {
   "cell_type": "markdown",
   "metadata": {},
   "source": [
    "## 2.1- Evaluación de los algoritmos\n",
    "### Dataset de validación de división (Split-out)\n",
    "**Dejaremos 80-20, preparado para CV de 10-folds** \n",
    "\n",
    "Vamos a separar el dataset en un 80 (train) - 20 (validation). Con el de 80 (train) haremos validación cruzada, y con el de 20 haremos la validación final.\n"
   ]
  },
  {
   "cell_type": "code",
   "execution_count": 13,
   "metadata": {},
   "outputs": [
    {
     "name": "stdout",
     "output_type": "stream",
     "text": [
      "X_Train_2:  (584, 12)\n",
      "X_Validation_2:  (146, 12)\n"
     ]
    }
   ],
   "source": [
    "array2 = dfMergeadoSelCaractPCA.drop(columns='season_name').values\n",
    "X_2 = array2[:,2:]\n",
    "y = array2[:,0]\n",
    "validation_size = 0.20\n",
    "seed = 7\n",
    "X_train_2, X_validation_2, y_train_2, y_validation_2 = train_test_split(X_2, y, test_size=validation_size, random_state=seed)\n",
    "print('X_Train_2: ', X_train_2.shape)\n",
    "print('X_Validation_2: ', X_validation_2.shape)"
   ]
  },
  {
   "cell_type": "markdown",
   "metadata": {},
   "source": [
    "Igualmente vamos a probar los siguientes algoritmos de clasificación:\n",
    "\n",
    "- Regresión lineal (LR)\n",
    "- Regularización de Regresión Lasso (L1)(LASSO)\n",
    "- Regularización de Regresión ElasticNet (EN)\n",
    "- k-vecinos más cercanos (KNN)\n",
    "- Árboles de decisión de regresión (CART)\n",
    "- Regresión de vectores de soporte (SVR)\n",
    "\n",
    "Usaremos la validación cruzada de nuevo probando con diversos nº de folds entre 3 y 10 y mediremos la precisión de los algoritmos mediante la métrica 'neg_mean_squared_error'\n",
    "\n",
    "**Inicialmente vamos a probar los algoritmos sobre los datos sin ningún preprocesamiento: no les hemos estandarizado ni reescalado.**"
   ]
  },
  {
   "cell_type": "code",
   "execution_count": 14,
   "metadata": {},
   "outputs": [
    {
     "name": "stdout",
     "output_type": "stream",
     "text": [
      "\u001b[1mPrecisiones con 3 splits\u001b[0m\n",
      "LR: -79.433327 (9.451128)\n",
      "LASSO: -85.396172 (6.545757)\n",
      "EN: -85.429286 (6.114543)\n",
      "KNN: -87.227187 (4.108864)\n",
      "CART: -141.678189 (47.466997)\n",
      "SVR: -98.929159 (6.808944)\n",
      "--------------------------\n",
      "\u001b[1mPrecisiones con 5 splits\u001b[0m\n",
      "LR: -78.754434 (16.686116)\n",
      "LASSO: -84.747451 (16.507560)\n",
      "EN: -84.816982 (16.633673)\n",
      "KNN: -85.924313 (13.440486)\n",
      "CART: -135.033970 (26.794408)\n",
      "SVR: -98.955691 (17.924501)\n",
      "--------------------------\n",
      "\u001b[1mPrecisiones con 7 splits\u001b[0m\n",
      "LR: -78.890073 (24.605007)\n",
      "LASSO: -84.704590 (23.816734)\n",
      "EN: -84.654543 (24.133267)\n",
      "KNN: -86.044603 (23.407225)\n",
      "CART: -127.780000 (22.670775)\n",
      "SVR: -98.912865 (26.322880)\n",
      "--------------------------\n",
      "\u001b[1mPrecisiones con 10 splits\u001b[0m\n",
      "LR: -78.549669 (21.987614)\n",
      "LASSO: -84.381153 (24.967949)\n",
      "EN: -84.097848 (25.001694)\n",
      "KNN: -84.647476 (22.762952)\n",
      "CART: -137.204045 (33.880598)\n",
      "SVR: -98.923560 (27.606556)\n",
      "--------------------------\n"
     ]
    }
   ],
   "source": [
    "## Algoritmos de control/Test puntual. Usaremos 6 tipos:\n",
    "models = []\n",
    "models.append(('LR', LinearRegression()))\n",
    "models.append(('LASSO', Lasso()))\n",
    "models.append(('EN', ElasticNet()))\n",
    "models.append(('KNN', KNeighborsRegressor()))\n",
    "models.append(('CART', DecisionTreeRegressor()))\n",
    "models.append(('SVR', SVR(gamma='scale')))\n",
    "\n",
    "#En un diccionario 'allresults' vamos guardando los resultados de los modelos para los diversos cv con 3,5,7 y 10 folds\n",
    "\n",
    "allresults = {}\n",
    "names = []\n",
    "for nsplits in (3,5,7,10):\n",
    "    print('\\033[1m' + 'Precisiones con %d splits' % nsplits + '\\033[0m')\n",
    "    results = []\n",
    "    for name, model in models:\n",
    "        kfold = KFold(n_splits=nsplits, shuffle=True, random_state=seed)\n",
    "        cv_results = cross_val_score(model, X_train_2, y_train_2, cv=kfold, scoring='neg_mean_squared_error')\n",
    "        results.append(cv_results)\n",
    "        names.append(name)\n",
    "        msg = \"%s: %f (%f)\" % (name, cv_results.mean(), cv_results.std())\n",
    "        print(msg)\n",
    "    print('--------------------------')\n",
    "    allresults[nsplits] = results"
   ]
  },
  {
   "cell_type": "markdown",
   "metadata": {},
   "source": [
    "**Trabajemos ahora con una estandarización para revisar su capacidad utilizando una copia estandarizada de los datos**.\n",
    "\n",
    "### Estandarización del dataset"
   ]
  },
  {
   "cell_type": "code",
   "execution_count": 15,
   "metadata": {},
   "outputs": [
    {
     "name": "stdout",
     "output_type": "stream",
     "text": [
      "\u001b[1mPrecisiones con 3 splits\u001b[0m\n",
      "ScLR: -79.433327 (9.451128)\n",
      "ScLASSO: -86.495599 (5.606270)\n",
      "ScEN: -85.025915 (6.403270)\n",
      "ScKNN: -87.289115 (16.493252)\n",
      "ScCART: -156.500260 (57.056562)\n",
      "ScSVR: -84.965079 (7.145684)\n",
      "--------------------------\n",
      "\u001b[1mPrecisiones con 5 splits\u001b[0m\n",
      "ScLR: -78.754434 (16.686116)\n",
      "ScLASSO: -85.859305 (16.102880)\n",
      "ScEN: -84.871878 (16.138393)\n",
      "ScKNN: -86.492313 (20.342937)\n",
      "ScCART: -115.908234 (25.115497)\n",
      "ScSVR: -83.631693 (17.537074)\n",
      "--------------------------\n",
      "\u001b[1mPrecisiones con 7 splits\u001b[0m\n",
      "ScLR: -78.890073 (24.605007)\n",
      "ScLASSO: -85.757461 (24.141203)\n",
      "ScEN: -84.667443 (24.072440)\n",
      "ScKNN: -85.287650 (27.481276)\n",
      "ScCART: -126.871398 (19.394753)\n",
      "ScSVR: -83.196722 (26.065215)\n",
      "--------------------------\n",
      "\u001b[1mPrecisiones con 10 splits\u001b[0m\n",
      "ScLR: -78.549669 (21.987614)\n",
      "ScLASSO: -85.989303 (24.916537)\n",
      "ScEN: -84.787890 (24.144746)\n",
      "ScKNN: -83.226779 (27.675730)\n",
      "ScCART: -133.667316 (43.358081)\n",
      "ScSVR: -82.335993 (25.307322)\n",
      "--------------------------\n"
     ]
    }
   ],
   "source": [
    "# Estandarización del dataset\n",
    "pipelines = []\n",
    "pipelines.append(('ScLR', Pipeline([('Scaler', StandardScaler()),('LR', LinearRegression())])))\n",
    "pipelines.append(('ScLASSO', Pipeline([('Scaler', StandardScaler()),('LASSO', Lasso())])))\n",
    "pipelines.append(('ScEN', Pipeline([('Scaler', StandardScaler()),('EN', ElasticNet())])))\n",
    "pipelines.append(('ScKNN', Pipeline([('Scaler', StandardScaler()),('KNN', KNeighborsRegressor())])))\n",
    "pipelines.append(('ScCART', Pipeline([('Scaler', StandardScaler()),('CART', DecisionTreeRegressor())])))\n",
    "pipelines.append(('ScSVR', Pipeline([('Scaler', StandardScaler()),('SVR', SVR(gamma='scale'))])))\n",
    "\n",
    "allresults = {}\n",
    "names = []\n",
    "for nsplits in (3,5,7,10):\n",
    "    print('\\033[1m' + 'Precisiones con %d splits' % nsplits + '\\033[0m')\n",
    "    results = []\n",
    "    for name, model in pipelines:\n",
    "        kfold = KFold(n_splits=nsplits, shuffle=True, random_state=seed)\n",
    "        cv_results = cross_val_score(model, X_train_2, y_train_2, cv=kfold, scoring='neg_mean_squared_error')\n",
    "        results.append(cv_results)\n",
    "        names.append(name)\n",
    "        msg = \"%s: %f (%f)\" % (name, cv_results.mean(), cv_results.std())\n",
    "        print(msg)\n",
    "    print('--------------------------')\n",
    "    allresults[nsplits] = results"
   ]
  },
  {
   "cell_type": "markdown",
   "metadata": {},
   "source": [
    "**Finalmente revisamos cómo funciona si usamos una copia de los datos reescalados**\n",
    "\n",
    "### Reescalado del dataset (entre 0 y 1)"
   ]
  },
  {
   "cell_type": "code",
   "execution_count": 16,
   "metadata": {},
   "outputs": [
    {
     "name": "stdout",
     "output_type": "stream",
     "text": [
      "\u001b[1mPrecisiones con 3 splits\u001b[0m\n",
      "mMLR: -79.433327 (9.451128)\n",
      "mMLASSO: -98.465173 (6.990435)\n",
      "mMEN: -98.056608 (7.004074)\n",
      "mMKNN: -95.333436 (13.260266)\n",
      "mMCART: -152.928647 (41.550137)\n",
      "mMSVR: -88.972362 (7.752197)\n",
      "--------------------------\n",
      "\u001b[1mPrecisiones con 5 splits\u001b[0m\n",
      "mMLR: -78.754434 (16.686116)\n",
      "mMLASSO: -98.241174 (17.811118)\n",
      "mMEN: -97.894401 (17.815210)\n",
      "mMKNN: -91.842817 (21.376373)\n",
      "mMCART: -135.758457 (38.104007)\n",
      "mMSVR: -87.681911 (18.291982)\n",
      "--------------------------\n",
      "\u001b[1mPrecisiones con 7 splits\u001b[0m\n",
      "mMLR: -78.890073 (24.605007)\n",
      "mMLASSO: -98.267631 (26.395707)\n",
      "mMEN: -97.876603 (26.428620)\n",
      "mMKNN: -91.933501 (27.013030)\n",
      "mMCART: -130.841841 (20.574133)\n",
      "mMSVR: -87.034197 (26.885305)\n",
      "--------------------------\n",
      "\u001b[1mPrecisiones con 10 splits\u001b[0m\n",
      "mMLR: -78.549669 (21.987614)\n",
      "mMLASSO: -98.419851 (26.489797)\n",
      "mMEN: -98.128612 (26.506506)\n",
      "mMKNN: -88.981946 (24.277317)\n",
      "mMCART: -135.987693 (27.322863)\n",
      "mMSVR: -86.648654 (26.712163)\n",
      "--------------------------\n"
     ]
    }
   ],
   "source": [
    "# Reescalado del dataset\n",
    "pipelines = []\n",
    "pipelines.append(('mMLR', Pipeline([('Scaler', MinMaxScaler()),('LR', LinearRegression())])))\n",
    "pipelines.append(('mMLASSO', Pipeline([('Scaler', MinMaxScaler()),('LASSO', Lasso())])))\n",
    "pipelines.append(('mMEN', Pipeline([('Scaler', MinMaxScaler()),('EN', ElasticNet())])))\n",
    "pipelines.append(('mMKNN', Pipeline([('Scaler', MinMaxScaler()),('KNN', KNeighborsRegressor())])))\n",
    "pipelines.append(('mMCART', Pipeline([('Scaler', MinMaxScaler()),('CART', DecisionTreeRegressor())])))\n",
    "pipelines.append(('mMSVR', Pipeline([('Scaler', MinMaxScaler()),('SVR', SVR(gamma='scale'))])))\n",
    "\n",
    "allresults = {}\n",
    "names = []\n",
    "for nsplits in (3,5,7,10):\n",
    "    print('\\033[1m' + 'Precisiones con %d splits' % nsplits + '\\033[0m')\n",
    "    results = []\n",
    "    for name, model in pipelines:\n",
    "        kfold = KFold(n_splits=nsplits, shuffle=True, random_state=seed)\n",
    "        cv_results = cross_val_score(model, X_train_2, y_train_2, cv=kfold, scoring='neg_mean_squared_error')\n",
    "        results.append(cv_results)\n",
    "        names.append(name)\n",
    "        msg = \"%s: %f (%f)\" % (name, cv_results.mean(), cv_results.std())\n",
    "        print(msg)\n",
    "    print('--------------------------')\n",
    "    allresults[nsplits] = results"
   ]
  },
  {
   "cell_type": "markdown",
   "metadata": {},
   "source": [
    "**Ninguno de todos estos valores es mejor que los obtenidos con los datos con la reducción de variables para PM10**"
   ]
  },
  {
   "cell_type": "markdown",
   "metadata": {},
   "source": [
    "## 2.2- Ensembles (Conjuntos)\n",
    "\n",
    "Podemos probar los mismos ensembles de antes, aunque ya imaginamos que no obtendremos resultados mejores"
   ]
  },
  {
   "cell_type": "code",
   "execution_count": 17,
   "metadata": {},
   "outputs": [
    {
     "name": "stdout",
     "output_type": "stream",
     "text": [
      "\u001b[1mPrecisiones con 3 splits\u001b[0m\n",
      "AB: -82.441988 (1.588741)\n",
      "GBM: -75.362239 (6.733726)\n",
      "RF: -72.298200 (7.494765)\n",
      "ET: -63.700068 (7.306366)\n",
      "--------------------------\n",
      "\u001b[1mPrecisiones con 5 splits\u001b[0m\n",
      "AB: -76.776663 (8.271977)\n",
      "GBM: -66.892984 (6.001767)\n",
      "RF: -69.141177 (8.447510)\n",
      "ET: -60.277568 (11.531230)\n",
      "--------------------------\n",
      "\u001b[1mPrecisiones con 7 splits\u001b[0m\n",
      "AB: -77.607800 (16.133379)\n",
      "GBM: -66.574221 (14.066886)\n",
      "RF: -69.629525 (17.277663)\n",
      "ET: -60.196621 (20.714987)\n",
      "--------------------------\n",
      "\u001b[1mPrecisiones con 10 splits\u001b[0m\n",
      "AB: -78.082061 (19.512703)\n",
      "GBM: -65.640993 (16.104870)\n",
      "RF: -67.007579 (17.685863)\n",
      "ET: -59.014236 (18.836119)\n",
      "--------------------------\n"
     ]
    }
   ],
   "source": [
    "#inicialmente probamos con los datos sin escalar\n",
    "\n",
    "ensembles = []\n",
    "ensembles.append(('AB', AdaBoostRegressor()))\n",
    "ensembles.append(('GBM', GradientBoostingRegressor()))\n",
    "ensembles.append(('RF', RandomForestRegressor(n_estimators=100)))\n",
    "ensembles.append(('ET', ExtraTreesRegressor(n_estimators=100)))\n",
    "\n",
    "allresults = {}\n",
    "names = []\n",
    "for nsplits in (3,5,7,10):\n",
    "    print('\\033[1m' + 'Precisiones con %d splits' % nsplits + '\\033[0m')\n",
    "    results = []\n",
    "    for name, model in ensembles:\n",
    "        kfold = KFold(n_splits=nsplits, shuffle=True, random_state=seed)\n",
    "        cv_results = cross_val_score(model, X_train_2, y_train_2, cv=kfold, scoring='neg_mean_squared_error')\n",
    "        results.append(cv_results)\n",
    "        names.append(name)\n",
    "        msg = \"%s: %f (%f)\" % (name, cv_results.mean(), cv_results.std())\n",
    "        print(msg)\n",
    "    print('--------------------------')\n",
    "    allresults[nsplits] = results"
   ]
  },
  {
   "cell_type": "code",
   "execution_count": 18,
   "metadata": {},
   "outputs": [
    {
     "name": "stdout",
     "output_type": "stream",
     "text": [
      "\u001b[1mPrecisiones con 3 splits\u001b[0m\n",
      "ScaledAB: -79.717027 (2.864590)\n",
      "ScaledGBM: -74.368115 (6.360161)\n",
      "ScaledRF: -71.061780 (5.697568)\n",
      "ScaledET: -61.365903 (7.508648)\n",
      "--------------------------\n",
      "\u001b[1mPrecisiones con 5 splits\u001b[0m\n",
      "ScaledAB: -75.501948 (11.581600)\n",
      "ScaledGBM: -67.131633 (6.141551)\n",
      "ScaledRF: -68.494726 (10.813671)\n",
      "ScaledET: -60.609393 (12.933589)\n",
      "--------------------------\n",
      "\u001b[1mPrecisiones con 7 splits\u001b[0m\n",
      "ScaledAB: -74.752658 (16.884925)\n",
      "ScaledGBM: -67.427981 (15.051862)\n",
      "ScaledRF: -68.376642 (17.152673)\n",
      "ScaledET: -60.630742 (21.439525)\n",
      "--------------------------\n",
      "\u001b[1mPrecisiones con 10 splits\u001b[0m\n",
      "ScaledAB: -79.150110 (20.604449)\n",
      "ScaledGBM: -65.841061 (17.170009)\n",
      "ScaledRF: -67.034473 (18.109681)\n",
      "ScaledET: -58.647042 (18.552127)\n",
      "--------------------------\n"
     ]
    }
   ],
   "source": [
    "#Ahora probamos estandarizando los datos\n",
    "\n",
    "ensembles = []\n",
    "ensembles.append(('ScaledAB', Pipeline([('Scaler', StandardScaler()),('AB', AdaBoostRegressor())])))\n",
    "ensembles.append(('ScaledGBM', Pipeline([('Scaler', StandardScaler()),('GBM', GradientBoostingRegressor())])))\n",
    "ensembles.append(('ScaledRF', Pipeline([('Scaler', StandardScaler()),('RF', RandomForestRegressor(n_estimators=100))])))\n",
    "ensembles.append(('ScaledET', Pipeline([('Scaler', StandardScaler()),('ET', ExtraTreesRegressor(n_estimators=100))])))\n",
    "\n",
    "allresults = {}\n",
    "names = []\n",
    "for nsplits in (3,5,7,10):\n",
    "    print('\\033[1m' + 'Precisiones con %d splits' % nsplits + '\\033[0m')\n",
    "    results = []\n",
    "    for name, model in ensembles:\n",
    "        kfold = KFold(n_splits=nsplits, shuffle=True, random_state=seed)\n",
    "        cv_results = cross_val_score(model, X_train_2, y_train_2, cv=kfold, scoring='neg_mean_squared_error')\n",
    "        results.append(cv_results)\n",
    "        names.append(name)\n",
    "        msg = \"%s: %f (%f)\" % (name, cv_results.mean(), cv_results.std())\n",
    "        print(msg)\n",
    "    print('--------------------------')\n",
    "    allresults[nsplits] = results"
   ]
  },
  {
   "cell_type": "markdown",
   "metadata": {},
   "source": [
    "Efectivamente no conseguimos mejores resultados que con la anterior selección de características. Por tanto:\n",
    "\n",
    "## Conclusión:\n",
    "**El mejor modelo obtenido sigue siendo el ensemble ExtraTreesRegressor (ET) con validación cruzada de 10 folds, habiendo realizado una selección de 4 características y con los datos sin escalar ni estandarizar, obteniendo un error cuadrático medio negativo de -57,244**"
   ]
  },
  {
   "cell_type": "markdown",
   "metadata": {},
   "source": [
    "---------------------------------------------------------------------------------------------------------------------\n",
    "\n",
    "\n",
    "## 3) Carga del dataset mergeado trabajado SIN selección de características para PM10\n",
    "\n",
    "Ahora vamos a realizar el mismo estudio pero cogiendo el dataset trabajado sin selección de características, para comprobar si los resultados son mejores o peores\n"
   ]
  },
  {
   "cell_type": "code",
   "execution_count": 19,
   "metadata": {},
   "outputs": [
    {
     "name": "stdout",
     "output_type": "stream",
     "text": [
      "Index(['pm10', 'no2', 'year', 'month', 'day', 'tmed', 'prec', 'tmin', 'tmax',\n",
      "       'dir', 'velmedia', 'racha', 'sol', 'presmax', 'presmin', 'week',\n",
      "       'season', 'season_name', 'estado_trafico', 'diadelasemana',\n",
      "       'findesemana'],\n",
      "      dtype='object')\n",
      "                 pm10        no2  year  month  day  tmed  prec  tmin  tmax  \\\n",
      "date                                                                         \n",
      "2018-01-01  10.000000  24.000000  2018      1    1  12.8   0.0  10.2  10.2   \n",
      "2018-01-02  11.000000  10.000000  2018      1    2  14.6   0.0  11.4  11.4   \n",
      "2018-01-03  10.000000   7.000000  2018      1    3  17.9   0.0  14.0  14.0   \n",
      "2018-01-04  11.000000  14.000000  2018      1    4  19.2   0.0  16.4  16.4   \n",
      "2018-01-05  10.000000  20.000000  2018      1    5  16.4   0.0  13.7  13.7   \n",
      "...               ...        ...   ...    ...  ...   ...   ...   ...   ...   \n",
      "2019-12-27  16.000000  18.000000  2019     12   27  12.0   0.0   8.5   8.5   \n",
      "2019-12-28  19.000000  16.000000  2019     12   28  11.0   0.0   6.6   6.6   \n",
      "2019-12-29  23.000000  17.641379  2019     12   29  12.3   0.0  10.2  10.2   \n",
      "2019-12-30  23.712692  17.641379  2019     12   30  11.6   0.0   8.8   8.8   \n",
      "2019-12-31  23.712692  15.000000  2019     12   31  10.8   0.0   7.6   7.6   \n",
      "\n",
      "             dir  ...  racha  sol  presmax  presmin  week  season  \\\n",
      "date              ...                                               \n",
      "2018-01-01  31.0  ...   18.1  5.1   1027.2   1017.9     1       1   \n",
      "2018-01-02  30.0  ...   10.3  3.1   1025.4   1022.2     1       1   \n",
      "2018-01-03  31.0  ...   18.3  1.9   1023.0   1018.7     1       1   \n",
      "2018-01-04  31.0  ...   20.0  5.9   1019.0   1015.1     1       1   \n",
      "2018-01-05  30.0  ...   13.3  6.4   1015.2   1004.6     1       1   \n",
      "...          ...  ...    ...  ...      ...      ...   ...     ...   \n",
      "2019-12-27  35.0  ...    8.1  5.1   1030.0   1026.3    52       1   \n",
      "2019-12-28  13.0  ...    5.8  5.2   1032.1   1028.0    52       1   \n",
      "2019-12-29  36.0  ...    4.2  0.1   1033.1   1030.3    52       1   \n",
      "2019-12-30  35.0  ...    6.1  0.7   1033.9   1031.2     1       1   \n",
      "2019-12-31  26.0  ...    6.7  1.8   1033.8   1030.8     1       1   \n",
      "\n",
      "            season_name estado_trafico  diadelasemana  findesemana  \n",
      "date                                                                \n",
      "2018-01-01       Winter       1.501611              0            0  \n",
      "2018-01-02       Winter       1.855361              1            0  \n",
      "2018-01-03       Winter       1.914663              2            0  \n",
      "2018-01-04       Winter       1.917587              3            0  \n",
      "2018-01-05       Winter       1.933171              4            0  \n",
      "...                 ...            ...            ...          ...  \n",
      "2019-12-27       Winter       1.879245              4            0  \n",
      "2019-12-28       Winter       1.677568              5            1  \n",
      "2019-12-29       Winter       1.567480              6            1  \n",
      "2019-12-30       Winter       1.895104              0            0  \n",
      "2019-12-31       Winter       1.804372              1            0  \n",
      "\n",
      "[730 rows x 21 columns]\n"
     ]
    }
   ],
   "source": [
    "#cogemos el dataset trabajado anteriormente con los datos mergeados sin haber hecho una reducción de variables\n",
    "url_fichero_merssc = './DatosMergeadosBarcelona.csv'\n",
    "dfMergeado = pd.read_csv(url_fichero_merssc)\n",
    "dfMergeado = dfMergeado.set_index('date')\n",
    "print(dfMergeado.columns)\n",
    "print(dfMergeado)"
   ]
  },
  {
   "cell_type": "markdown",
   "metadata": {},
   "source": [
    "## 3.1- Evaluación de los algoritmos\n",
    "### Dataset de validación de división (Split-out)\n",
    "**Dejaremos 80-20, preparado para CV de 10-folds** \n",
    "\n",
    "Vamos a separar el dataset en un 80 (train) - 20 (validation). Con el de 80 (train) haremos validación cruzada, y con el de 20 haremos la validación final.\n"
   ]
  },
  {
   "cell_type": "code",
   "execution_count": 20,
   "metadata": {},
   "outputs": [
    {
     "name": "stdout",
     "output_type": "stream",
     "text": [
      "X_Train_3:  (584, 18)\n",
      "X_Validation_3:  (146, 18)\n"
     ]
    }
   ],
   "source": [
    "array3 = dfMergeado.drop(columns='season_name').values\n",
    "X_3 = array3[:,2:]\n",
    "y = array3[:,0]\n",
    "validation_size = 0.20\n",
    "seed = 7\n",
    "X_train_3, X_validation_3, y_train_3, y_validation_3 = train_test_split(X_3, y, test_size=validation_size, random_state=seed)\n",
    "print('X_Train_3: ', X_train_3.shape)\n",
    "print('X_Validation_3: ', X_validation_3.shape)"
   ]
  },
  {
   "cell_type": "markdown",
   "metadata": {},
   "source": [
    "Igualmente vamos a probar los siguientes algoritmos de clasificación:\n",
    "\n",
    "- Regresión lineal (LR)\n",
    "- Regularización de Regresión Lasso (L1)(LASSO)\n",
    "- Regularización de Regresión ElasticNet (EN)\n",
    "- k-vecinos más cercanos (KNN)\n",
    "- Árboles de decisión de regresión (CART)\n",
    "- Regresión de vectores de soporte (SVR)\n",
    "\n",
    "Usaremos la validación cruzada de nuevo probando con diversos nº de folds entre 3 y 10 y mediremos la precisión de los algoritmos mediante la métrica 'neg_mean_squared_error'\n",
    "\n",
    "**Inicialmente vamos a probar los algoritmos sobre los datos sin ningún preprocesamiento: no les hemos estandarizado ni reescalado.**"
   ]
  },
  {
   "cell_type": "code",
   "execution_count": 21,
   "metadata": {},
   "outputs": [
    {
     "name": "stdout",
     "output_type": "stream",
     "text": [
      "\u001b[1mPrecisiones con 3 splits\u001b[0m\n",
      "LR: -80.121124 (9.758865)\n",
      "LASSO: -85.418728 (6.588399)\n",
      "EN: -85.292455 (6.165643)\n",
      "KNN: -83.843571 (7.682928)\n",
      "CART: -154.965344 (35.469438)\n",
      "SVR: -98.922655 (6.806523)\n",
      "--------------------------\n",
      "\u001b[1mPrecisiones con 5 splits\u001b[0m\n",
      "LR: -79.236098 (17.251139)\n",
      "LASSO: -84.923195 (16.955269)\n",
      "EN: -84.856218 (17.119879)\n",
      "KNN: -85.528961 (12.578170)\n",
      "CART: -128.227079 (14.184077)\n",
      "SVR: -98.944177 (17.922976)\n",
      "--------------------------\n",
      "\u001b[1mPrecisiones con 7 splits\u001b[0m\n",
      "LR: -79.398387 (25.232906)\n",
      "LASSO: -85.010004 (23.936658)\n",
      "EN: -84.831052 (24.311248)\n",
      "KNN: -83.931391 (21.766080)\n",
      "CART: -129.172820 (17.163134)\n",
      "SVR: -98.898636 (26.317226)\n",
      "--------------------------\n",
      "\u001b[1mPrecisiones con 10 splits\u001b[0m\n",
      "LR: -78.706191 (22.961839)\n",
      "LASSO: -84.552455 (25.797512)\n",
      "EN: -84.050707 (25.943816)\n",
      "KNN: -83.662835 (21.403294)\n",
      "CART: -149.319727 (36.825097)\n",
      "SVR: -98.907614 (27.604187)\n",
      "--------------------------\n"
     ]
    }
   ],
   "source": [
    "## Algoritmos de control/Test puntual. Usaremos 6 tipos:\n",
    "models = []\n",
    "models.append(('LR', LinearRegression()))\n",
    "models.append(('LASSO', Lasso()))\n",
    "models.append(('EN', ElasticNet()))\n",
    "models.append(('KNN', KNeighborsRegressor()))\n",
    "models.append(('CART', DecisionTreeRegressor()))\n",
    "models.append(('SVR', SVR(gamma='scale')))\n",
    "\n",
    "#En un diccionario 'allresults' vamos guardando los resultados de los modelos para los diversos cv con 3,5,7 y 10 folds\n",
    "\n",
    "allresults = {}\n",
    "names = []\n",
    "for nsplits in (3,5,7,10):\n",
    "    print('\\033[1m' + 'Precisiones con %d splits' % nsplits + '\\033[0m')\n",
    "    results = []\n",
    "    for name, model in models:\n",
    "        kfold = KFold(n_splits=nsplits, shuffle=True, random_state=seed)\n",
    "        cv_results = cross_val_score(model, X_train_3, y_train_3, cv=kfold, scoring='neg_mean_squared_error')\n",
    "        results.append(cv_results)\n",
    "        names.append(name)\n",
    "        msg = \"%s: %f (%f)\" % (name, cv_results.mean(), cv_results.std())\n",
    "        print(msg)\n",
    "    print('--------------------------')\n",
    "    allresults[nsplits] = results"
   ]
  },
  {
   "cell_type": "markdown",
   "metadata": {},
   "source": [
    "**Trabajemos ahora con una estandarización para revisar su capacidad utilizando una copia estandarizada de los datos**.\n",
    "\n",
    "### Estandarización del dataset"
   ]
  },
  {
   "cell_type": "code",
   "execution_count": 22,
   "metadata": {},
   "outputs": [
    {
     "name": "stdout",
     "output_type": "stream",
     "text": [
      "\u001b[1mPrecisiones con 3 splits\u001b[0m\n",
      "ScLR: -80.121124 (9.758865)\n",
      "ScLASSO: -85.372467 (5.677464)\n",
      "ScEN: -83.090676 (6.187728)\n",
      "ScKNN: -85.104436 (12.010044)\n",
      "ScCART: -141.617696 (18.952355)\n",
      "ScSVR: -84.077261 (7.800061)\n",
      "--------------------------\n",
      "\u001b[1mPrecisiones con 5 splits\u001b[0m\n",
      "ScLR: -79.236098 (17.251139)\n",
      "ScLASSO: -84.735586 (16.512164)\n",
      "ScEN: -82.802042 (16.167066)\n",
      "ScKNN: -84.870288 (18.740042)\n",
      "ScCART: -142.299740 (12.275538)\n",
      "ScSVR: -83.075744 (17.169925)\n",
      "--------------------------\n",
      "\u001b[1mPrecisiones con 7 splits\u001b[0m\n",
      "ScLR: -79.398387 (25.232906)\n",
      "ScLASSO: -84.771017 (23.332004)\n",
      "ScEN: -82.794350 (23.050344)\n",
      "ScKNN: -86.271098 (24.469381)\n",
      "ScCART: -124.306207 (22.671580)\n",
      "ScSVR: -82.556296 (25.078474)\n",
      "--------------------------\n",
      "\u001b[1mPrecisiones con 10 splits\u001b[0m\n",
      "ScLR: -78.706191 (22.961839)\n",
      "ScLASSO: -84.751995 (25.020687)\n",
      "ScEN: -82.667479 (24.320250)\n",
      "ScKNN: -85.347426 (21.729970)\n",
      "ScCART: -150.227225 (52.545759)\n",
      "ScSVR: -81.792426 (25.627505)\n",
      "--------------------------\n"
     ]
    }
   ],
   "source": [
    "# Estandarización del dataset\n",
    "pipelines = []\n",
    "pipelines.append(('ScLR', Pipeline([('Scaler', StandardScaler()),('LR', LinearRegression())])))\n",
    "pipelines.append(('ScLASSO', Pipeline([('Scaler', StandardScaler()),('LASSO', Lasso())])))\n",
    "pipelines.append(('ScEN', Pipeline([('Scaler', StandardScaler()),('EN', ElasticNet())])))\n",
    "pipelines.append(('ScKNN', Pipeline([('Scaler', StandardScaler()),('KNN', KNeighborsRegressor())])))\n",
    "pipelines.append(('ScCART', Pipeline([('Scaler', StandardScaler()),('CART', DecisionTreeRegressor())])))\n",
    "pipelines.append(('ScSVR', Pipeline([('Scaler', StandardScaler()),('SVR', SVR(gamma='scale'))])))\n",
    "\n",
    "allresults = {}\n",
    "names = []\n",
    "for nsplits in (3,5,7,10):\n",
    "    print('\\033[1m' + 'Precisiones con %d splits' % nsplits + '\\033[0m')\n",
    "    results = []\n",
    "    for name, model in pipelines:\n",
    "        kfold = KFold(n_splits=nsplits, shuffle=True, random_state=seed)\n",
    "        cv_results = cross_val_score(model, X_train_3, y_train_3, cv=kfold, scoring='neg_mean_squared_error')\n",
    "        results.append(cv_results)\n",
    "        names.append(name)\n",
    "        msg = \"%s: %f (%f)\" % (name, cv_results.mean(), cv_results.std())\n",
    "        print(msg)\n",
    "    print('--------------------------')\n",
    "    allresults[nsplits] = results"
   ]
  },
  {
   "cell_type": "markdown",
   "metadata": {},
   "source": [
    "**Finalmente revisamos cómo funciona si usamos una copia de los datos reescalados**\n",
    "\n",
    "### Reescalado del dataset (entre 0 y 1)"
   ]
  },
  {
   "cell_type": "code",
   "execution_count": 23,
   "metadata": {},
   "outputs": [
    {
     "name": "stdout",
     "output_type": "stream",
     "text": [
      "\u001b[1mPrecisiones con 3 splits\u001b[0m\n",
      "mMLR: -80.121124 (9.758865)\n",
      "mMLASSO: -98.465173 (6.990435)\n",
      "mMEN: -96.441199 (6.875193)\n",
      "mMKNN: -92.738673 (14.733759)\n",
      "mMCART: -132.293803 (12.960365)\n",
      "mMSVR: -84.953870 (7.447067)\n",
      "--------------------------\n",
      "\u001b[1mPrecisiones con 5 splits\u001b[0m\n",
      "mMLR: -79.236098 (17.251139)\n",
      "mMLASSO: -98.241174 (17.811118)\n",
      "mMEN: -96.186933 (17.582000)\n",
      "mMKNN: -87.043668 (16.757002)\n",
      "mMCART: -150.217453 (23.074252)\n",
      "mMSVR: -83.662109 (17.313586)\n",
      "--------------------------\n",
      "\u001b[1mPrecisiones con 7 splits\u001b[0m\n",
      "mMLR: -79.398387 (25.232906)\n",
      "mMLASSO: -98.267631 (26.395707)\n",
      "mMEN: -96.145578 (26.198356)\n",
      "mMKNN: -85.926908 (25.487519)\n",
      "mMCART: -123.062470 (26.093791)\n",
      "mMSVR: -82.891935 (25.671700)\n",
      "--------------------------\n",
      "\u001b[1mPrecisiones con 10 splits\u001b[0m\n",
      "mMLR: -78.706191 (22.961839)\n",
      "mMLASSO: -98.419851 (26.489797)\n",
      "mMEN: -96.305165 (26.353426)\n",
      "mMKNN: -84.235779 (19.344854)\n",
      "mMCART: -151.788471 (54.124255)\n",
      "mMSVR: -82.373002 (25.623695)\n",
      "--------------------------\n"
     ]
    }
   ],
   "source": [
    "# Reescalado del dataset\n",
    "pipelines = []\n",
    "pipelines.append(('mMLR', Pipeline([('Scaler', MinMaxScaler()),('LR', LinearRegression())])))\n",
    "pipelines.append(('mMLASSO', Pipeline([('Scaler', MinMaxScaler()),('LASSO', Lasso())])))\n",
    "pipelines.append(('mMEN', Pipeline([('Scaler', MinMaxScaler()),('EN', ElasticNet())])))\n",
    "pipelines.append(('mMKNN', Pipeline([('Scaler', MinMaxScaler()),('KNN', KNeighborsRegressor())])))\n",
    "pipelines.append(('mMCART', Pipeline([('Scaler', MinMaxScaler()),('CART', DecisionTreeRegressor())])))\n",
    "pipelines.append(('mMSVR', Pipeline([('Scaler', MinMaxScaler()),('SVR', SVR(gamma='scale'))])))\n",
    "\n",
    "allresults = {}\n",
    "names = []\n",
    "for nsplits in (3,5,7,10):\n",
    "    print('\\033[1m' + 'Precisiones con %d splits' % nsplits + '\\033[0m')\n",
    "    results = []\n",
    "    for name, model in pipelines:\n",
    "        kfold = KFold(n_splits=nsplits, shuffle=True, random_state=seed)\n",
    "        cv_results = cross_val_score(model, X_train_3, y_train_3, cv=kfold, scoring='neg_mean_squared_error')\n",
    "        results.append(cv_results)\n",
    "        names.append(name)\n",
    "        msg = \"%s: %f (%f)\" % (name, cv_results.mean(), cv_results.std())\n",
    "        print(msg)\n",
    "    print('--------------------------')\n",
    "    allresults[nsplits] = results"
   ]
  },
  {
   "cell_type": "markdown",
   "metadata": {},
   "source": [
    "**Ninguno de todos estos valores es mejor que los obtenidos en el primer caso**"
   ]
  },
  {
   "cell_type": "markdown",
   "metadata": {},
   "source": [
    "## 3.2- Ensembles (Conjuntos)\n",
    "\n",
    "Podemos probar los mismos ensembles de antes, aunque ya imaginamos que no obtendremos resultados mejores"
   ]
  },
  {
   "cell_type": "code",
   "execution_count": 30,
   "metadata": {},
   "outputs": [
    {
     "name": "stdout",
     "output_type": "stream",
     "text": [
      "\u001b[1mPrecisiones con 3 splits\u001b[0m\n",
      "AB: -78.704700 (2.324023)\n",
      "GBM: -73.196501 (7.617681)\n",
      "RF: -74.878383 (7.921769)\n",
      "ET: -64.093039 (9.504383)\n",
      "--------------------------\n",
      "\u001b[1mPrecisiones con 5 splits\u001b[0m\n",
      "AB: -80.971126 (10.629243)\n",
      "GBM: -65.143248 (12.337168)\n",
      "RF: -68.213155 (11.177199)\n",
      "ET: -61.411323 (11.798102)\n",
      "--------------------------\n",
      "\u001b[1mPrecisiones con 7 splits\u001b[0m\n",
      "AB: -78.930864 (18.747049)\n",
      "GBM: -64.131323 (18.369314)\n",
      "RF: -66.748742 (17.112063)\n",
      "ET: -60.245683 (19.990279)\n",
      "--------------------------\n",
      "\u001b[1mPrecisiones con 10 splits\u001b[0m\n",
      "AB: -77.188534 (19.232300)\n",
      "GBM: -64.441876 (19.426480)\n",
      "RF: -65.682981 (19.665423)\n",
      "ET: -58.214559 (20.161750)\n",
      "--------------------------\n"
     ]
    }
   ],
   "source": [
    "#inicialmente probamos con los datos sin escalar\n",
    "\n",
    "ensembles = []\n",
    "ensembles.append(('AB', AdaBoostRegressor()))\n",
    "ensembles.append(('GBM', GradientBoostingRegressor()))\n",
    "ensembles.append(('RF', RandomForestRegressor(n_estimators=100)))\n",
    "ensembles.append(('ET', ExtraTreesRegressor(n_estimators=100)))\n",
    "\n",
    "allresults = {}\n",
    "names = []\n",
    "for nsplits in (3,5,7,10):\n",
    "    print('\\033[1m' + 'Precisiones con %d splits' % nsplits + '\\033[0m')\n",
    "    results = []\n",
    "    for name, model in ensembles:\n",
    "        kfold = KFold(n_splits=nsplits, shuffle=True, random_state=seed)\n",
    "        cv_results = cross_val_score(model, X_train_3, y_train_3, cv=kfold, scoring='neg_mean_squared_error')\n",
    "        results.append(cv_results)\n",
    "        names.append(name)\n",
    "        msg = \"%s: %f (%f)\" % (name, cv_results.mean(), cv_results.std())\n",
    "        print(msg)\n",
    "    print('--------------------------')\n",
    "    allresults[nsplits] = results"
   ]
  },
  {
   "cell_type": "code",
   "execution_count": 25,
   "metadata": {},
   "outputs": [
    {
     "name": "stdout",
     "output_type": "stream",
     "text": [
      "\u001b[1mPrecisiones con 3 splits\u001b[0m\n",
      "ScaledAB: -77.760496 (1.836935)\n",
      "ScaledGBM: -72.576483 (7.814345)\n",
      "ScaledRF: -72.649549 (6.451514)\n",
      "ScaledET: -65.105924 (8.802195)\n",
      "--------------------------\n",
      "\u001b[1mPrecisiones con 5 splits\u001b[0m\n",
      "ScaledAB: -78.820324 (11.719781)\n",
      "ScaledGBM: -65.816329 (11.347836)\n",
      "ScaledRF: -68.621511 (11.207674)\n",
      "ScaledET: -60.027009 (12.364063)\n",
      "--------------------------\n",
      "\u001b[1mPrecisiones con 7 splits\u001b[0m\n",
      "ScaledAB: -78.231914 (19.545656)\n",
      "ScaledGBM: -64.276260 (18.020116)\n",
      "ScaledRF: -67.872176 (16.844369)\n",
      "ScaledET: -60.020095 (20.198385)\n",
      "--------------------------\n",
      "\u001b[1mPrecisiones con 10 splits\u001b[0m\n",
      "ScaledAB: -77.078322 (16.688355)\n",
      "ScaledGBM: -63.873119 (19.068443)\n",
      "ScaledRF: -64.641094 (17.957820)\n",
      "ScaledET: -58.679164 (18.656656)\n",
      "--------------------------\n"
     ]
    }
   ],
   "source": [
    "#Ahora probamos estandarizando los datos\n",
    "\n",
    "ensembles = []\n",
    "ensembles.append(('ScaledAB', Pipeline([('Scaler', StandardScaler()),('AB', AdaBoostRegressor())])))\n",
    "ensembles.append(('ScaledGBM', Pipeline([('Scaler', StandardScaler()),('GBM', GradientBoostingRegressor())])))\n",
    "ensembles.append(('ScaledRF', Pipeline([('Scaler', StandardScaler()),('RF', RandomForestRegressor(n_estimators=100))])))\n",
    "ensembles.append(('ScaledET', Pipeline([('Scaler', StandardScaler()),('ET', ExtraTreesRegressor(n_estimators=100))])))\n",
    "\n",
    "allresults = {}\n",
    "names = []\n",
    "for nsplits in (3,5,7,10):\n",
    "    print('\\033[1m' + 'Precisiones con %d splits' % nsplits + '\\033[0m')\n",
    "    results = []\n",
    "    for name, model in ensembles:\n",
    "        kfold = KFold(n_splits=nsplits, shuffle=True, random_state=seed)\n",
    "        cv_results = cross_val_score(model, X_train_3, y_train_3, cv=kfold, scoring='neg_mean_squared_error')\n",
    "        results.append(cv_results)\n",
    "        names.append(name)\n",
    "        msg = \"%s: %f (%f)\" % (name, cv_results.mean(), cv_results.std())\n",
    "        print(msg)\n",
    "    print('--------------------------')\n",
    "    allresults[nsplits] = results"
   ]
  },
  {
   "cell_type": "markdown",
   "metadata": {},
   "source": [
    "Efectivamente no conseguimos mejores resultados que con selección de características. Por tanto:\n",
    "\n",
    "## Conclusión:\n",
    "**El mejor modelo obtenido sigue siendo el ensemble ExtraTreesRegressor (ET) con validación cruzada de 10 folds, habiendo realizado una selección de 4 características para PM10 y con los datos sin escalar ni estandarizar, obteniendo un error cuadrático medio negativo de -57,244**"
   ]
  },
  {
   "cell_type": "markdown",
   "metadata": {},
   "source": [
    "## 3.3- Tunning del ExtraTreeRegressor\n",
    "Cogiendo de nuevo el dataset con selección de características, y el modelo ExtraTreesRegressor (ET), vamos a probar a mejorarlo ajustando su número de Estimadores, para ver si obtenemos mejor puntuación con algún número distinto de 100."
   ]
  },
  {
   "cell_type": "code",
   "execution_count": 26,
   "metadata": {},
   "outputs": [
    {
     "name": "stdout",
     "output_type": "stream",
     "text": [
      "-58.757048 (13.733744) with n_estimators: 50\n",
      "-59.244633 (14.645433) with n_estimators: 100\n",
      "-58.676215 (14.970352) with n_estimators: 150\n",
      "-56.625213 (15.397674) with n_estimators: 200\n",
      "-57.420736 (13.842882) with n_estimators: 250\n",
      "-57.417295 (14.526490) with n_estimators: 300\n",
      "-57.439715 (14.951713) with n_estimators: 350\n",
      "-57.972443 (14.829615) with n_estimators: 400\n"
     ]
    }
   ],
   "source": [
    "for num_estimators in (50,100,150,200,250,300,350,400):\n",
    "    model=ExtraTreesRegressor(n_estimators=num_estimators)\n",
    "    kfold = KFold(n_splits=10, shuffle=True, random_state=seed)\n",
    "    cv_results = cross_val_score(model, X_train_1, y_train_1, cv=kfold, scoring='neg_mean_squared_error')\n",
    "    print(\"%f (%f) with n_estimators: %r\" % (cv_results.mean(), cv_results.std(), num_estimators))"
   ]
  },
  {
   "cell_type": "markdown",
   "metadata": {},
   "source": [
    "### Mejoramos el modelo con 200 estimadores."
   ]
  },
  {
   "cell_type": "markdown",
   "metadata": {},
   "source": [
    "# 4) Finalizar el modelo\n",
    "## Predicciones sobre el conjunto de datos de validación"
   ]
  },
  {
   "cell_type": "code",
   "execution_count": 31,
   "metadata": {},
   "outputs": [
    {
     "data": {
      "text/plain": [
       "ExtraTreesRegressor(n_estimators=200)"
      ]
     },
     "execution_count": 31,
     "metadata": {},
     "output_type": "execute_result"
    }
   ],
   "source": [
    "## Preparamos el modelo y lo entrenamos sobre el dataset de entrenamiento\n",
    "\n",
    "array = dfMergeadoSelCaractPM10.drop(columns='season_name').values\n",
    "X = array[:,1:]\n",
    "y = array[:,0]\n",
    "validation_size = 0.20\n",
    "seed = 7\n",
    "X_train, X_validation, y_train, y_validation = train_test_split(X, y, test_size=validation_size, random_state=seed)\n",
    "\n",
    "model = ExtraTreesRegressor(n_estimators=200)\n",
    "model.fit(X_train, y_train)"
   ]
  },
  {
   "cell_type": "code",
   "execution_count": 32,
   "metadata": {},
   "outputs": [
    {
     "name": "stdout",
     "output_type": "stream",
     "text": [
      "51.35509702590541\n"
     ]
    }
   ],
   "source": [
    "### Aplicamos predicciones sobre el dataset de validación y obtenemos su error cuadrático medio\n",
    "\n",
    "predicciones = model.predict(X_validation)\n",
    "print(mean_squared_error(y_validation, predicciones))"
   ]
  },
  {
   "cell_type": "markdown",
   "metadata": {},
   "source": [
    "Vamos a pintar los datos PM10 de validación junto a las predicciones realizadas por nuestro algoritmo"
   ]
  },
  {
   "cell_type": "code",
   "execution_count": 34,
   "metadata": {},
   "outputs": [
    {
     "data": {
      "image/png": "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\n",
      "text/plain": [
       "<Figure size 1512x576 with 1 Axes>"
      ]
     },
     "metadata": {
      "needs_background": "light"
     },
     "output_type": "display_data"
    }
   ],
   "source": [
    "plt.figure(figsize=(21, 8))\n",
    "\n",
    "grafica = plt.plot(y_validation,'--r',predicciones,'-og')\n",
    "plt.legend(('Valores validación PM10', 'Predicciones PM10'),\n",
    "           loc='upper right')\n",
    "plt.show;"
   ]
>>>>>>> dev
  }
 ],
 "metadata": {
  "kernelspec": {
   "display_name": "Python 3",
   "language": "python",
   "name": "python3"
  },
  "language_info": {
   "codemirror_mode": {
    "name": "ipython",
    "version": 3
   },
   "file_extension": ".py",
   "mimetype": "text/x-python",
   "name": "python",
   "nbconvert_exporter": "python",
   "pygments_lexer": "ipython3",
   "version": "3.8.5"
  }
 },
 "nbformat": 4,
 "nbformat_minor": 4
}
