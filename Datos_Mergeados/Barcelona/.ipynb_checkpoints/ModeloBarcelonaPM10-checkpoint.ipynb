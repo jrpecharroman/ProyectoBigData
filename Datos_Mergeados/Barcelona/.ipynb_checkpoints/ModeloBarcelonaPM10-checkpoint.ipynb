{
 "cells": [
  {
   "cell_type": "markdown",
   "metadata": {},
   "source": [
    "# Modelo para predicción PM10 en Barcelona"
   ]
  },
  {
   "cell_type": "markdown",
   "metadata": {},
   "source": [
    "## Preprocesamiento, evaluación de algoritmos, construcción de modelo de predicción"
   ]
  },
  {
   "cell_type": "markdown",
   "metadata": {},
   "source": [
    "Realizamos primero un estudio completo cargando el dataset mergeado trabajado con selección de 4 características de Meteorología."
   ]
  },
  {
   "cell_type": "code",
   "execution_count": 12,
   "metadata": {},
   "outputs": [],
   "source": [
    "#Importamos las librerías que vamos a usar para los distintos pasos del problema\n",
    "\n",
    "import numpy as np\n",
    "import pandas as pd\n",
    "from numpy import set_printoptions\n",
    "#Visualización\n",
    "from pandas.plotting import scatter_matrix\n",
    "import matplotlib.pyplot as plt\n",
    "import seaborn as sns\n",
    "#Preprocesamiento\n",
    "from sklearn.preprocessing import MinMaxScaler\n",
    "from sklearn.preprocessing import StandardScaler\n",
    "from sklearn.preprocessing import Normalizer\n",
    "from sklearn.preprocessing import Binarizer\n",
    "#Remuestreo\n",
    "from sklearn.model_selection import train_test_split;\n",
    "from sklearn.model_selection import KFold\n",
    "from sklearn.model_selection import cross_val_score\n",
    "#Algoritmos de Regresión Lineal\n",
    "from sklearn.linear_model import LinearRegression\n",
    "from sklearn.linear_model import Lasso\n",
    "from sklearn.linear_model import Ridge\n",
    "from sklearn.linear_model import ElasticNet\n",
    "#Algoritmos de Regresión No Lineal\n",
    "from sklearn.tree import DecisionTreeRegressor\n",
    "from sklearn.neighbors import KNeighborsRegressor\n",
    "from sklearn.svm import SVR\n",
    "#Métricas de evaluación de algoritmos\n",
    "from sklearn import metrics\n",
    "from sklearn.metrics import confusion_matrix\n",
    "from sklearn.metrics import classification_report\n",
    "#Ensamblamiento Clasificación \n",
    "from sklearn.ensemble import AdaBoostClassifier\n",
    "from sklearn.ensemble import GradientBoostingClassifier\n",
    "from sklearn.ensemble import BaggingClassifier\n",
    "from sklearn.ensemble import RandomForestClassifier\n",
    "from sklearn.ensemble import ExtraTreesClassifier\n",
    "from sklearn.ensemble import VotingClassifier\n",
    "#Tuning\n",
    "from sklearn.model_selection import GridSearchCV\n",
    "from sklearn.model_selection import RandomizedSearchCV\n",
    "#Pipelines\n",
    "from sklearn.pipeline import Pipeline\n"
   ]
  },
  {
   "cell_type": "markdown",
   "metadata": {},
   "source": [
    "### Carga del dataset mergeado trabajado con selección de características para PM10"
   ]
  },
  {
   "cell_type": "code",
   "execution_count": 2,
   "metadata": {},
   "outputs": [
    {
     "name": "stdout",
     "output_type": "stream",
     "text": [
      "Index(['pm10', 'year', 'month', 'day', 'tmed', 'racha', 'sol', 'presmin',\n",
      "       'week', 'season', 'season_name', 'estado_trafico', 'diadelasemana',\n",
      "       'findesemana'],\n",
      "      dtype='object')\n",
      "                 pm10  year  month  day  tmed  racha  sol  presmin  week  \\\n",
      "date                                                                       \n",
      "2018-01-01  10.000000  2018      1    1  12.8   18.1  5.1   1017.9     1   \n",
      "2018-01-02  11.000000  2018      1    2  14.6   10.3  3.1   1022.2     1   \n",
      "2018-01-03  10.000000  2018      1    3  17.9   18.3  1.9   1018.7     1   \n",
      "2018-01-04  11.000000  2018      1    4  19.2   20.0  5.9   1015.1     1   \n",
      "2018-01-05  10.000000  2018      1    5  16.4   13.3  6.4   1004.6     1   \n",
      "...               ...   ...    ...  ...   ...    ...  ...      ...   ...   \n",
      "2019-12-27  16.000000  2019     12   27  12.0    8.1  5.1   1026.3    52   \n",
      "2019-12-28  19.000000  2019     12   28  11.0    5.8  5.2   1028.0    52   \n",
      "2019-12-29  23.000000  2019     12   29  12.3    4.2  0.1   1030.3    52   \n",
      "2019-12-30  23.712692  2019     12   30  11.6    6.1  0.7   1031.2     1   \n",
      "2019-12-31  23.712692  2019     12   31  10.8    6.7  1.8   1030.8     1   \n",
      "\n",
      "            season season_name  estado_trafico  diadelasemana  findesemana  \n",
      "date                                                                        \n",
      "2018-01-01       1      Winter        1.501611              0            0  \n",
      "2018-01-02       1      Winter        1.855361              1            0  \n",
      "2018-01-03       1      Winter        1.914663              2            0  \n",
      "2018-01-04       1      Winter        1.917587              3            0  \n",
      "2018-01-05       1      Winter        1.933171              4            0  \n",
      "...            ...         ...             ...            ...          ...  \n",
      "2019-12-27       1      Winter        1.879245              4            0  \n",
      "2019-12-28       1      Winter        1.677568              5            1  \n",
      "2019-12-29       1      Winter        1.567480              6            1  \n",
      "2019-12-30       1      Winter        1.895104              0            0  \n",
      "2019-12-31       1      Winter        1.804372              1            0  \n",
      "\n",
      "[730 rows x 14 columns]\n"
     ]
    }
   ],
   "source": [
    "#cogemos el dataset trabajado anteriormente con los datos mergeados y habiendo hecho una reducción de variables\n",
    "url_fichero_mercscpm10 = './DatosMergeadosBarcelona_ConSeleccionCaract_ParaPM10.csv'\n",
    "dfMergeadoSelCaractPM10 = pd.read_csv(url_fichero_mercscpm10)\n",
    "dfMergeadoSelCaractPM10 = dfMergeadoSelCaractPM10.set_index('date')\n",
    "print(dfMergeadoSelCaractPM10.columns)\n",
    "print(dfMergeadoSelCaractPM10)"
   ]
  },
  {
   "cell_type": "markdown",
   "metadata": {},
   "source": [
    "## Evaluación de los algoritmos\n",
    "### Dataset de validación de división (Split-out)\n",
    "**Dejaremos 80-20, preparado para CV de 10-folds** \n",
    "\n",
    "Vamos a separar el dataset en un 80 (train) - 20 (validation). Con el de 80 (train) haremos validación cruzada, y con el de 20 haremos la validación final.\n"
   ]
  },
  {
   "cell_type": "code",
   "execution_count": 5,
   "metadata": {},
   "outputs": [
    {
     "name": "stdout",
     "output_type": "stream",
     "text": [
      "X_Train:  (584, 12)\n",
      "X_Validation:  (146, 12)\n"
     ]
    }
   ],
   "source": [
    "array = dfMergeadoSelCaractPM10.drop(columns='season_name').values\n",
    "X = array[:,1:]\n",
    "y = array[:,0]\n",
    "validation_size = 0.20\n",
    "seed = 7\n",
    "X_train, X_validation, y_train, y_validation = train_test_split(X, y, test_size=validation_size, random_state=seed)\n",
    "print('X_Train: ', X_train.shape)\n",
    "print('X_Validation: ', X_validation.shape)"
   ]
  },
  {
   "cell_type": "markdown",
   "metadata": {},
   "source": [
    "Vamos a probar los siguientes algoritmos de clasificación:\n",
    "\n",
    "- Regresión lineal (LR)\n",
    "- Regularización de Regresión Lasso (L1)(LASSO)\n",
    "- Regularización de Regresión ElasticNet (EN)\n",
    "- k-vecinos más cercanos (KNN)\n",
    "- Árboles de decisión de regresión (CART)\n",
    "- Regresión de vectores de soporte (SVR)\n",
    "\n",
    "Usaremos una validación cruzada probando con diversos nº de folds entre 3 y 10 (la cantidad de datos que tenemos no es muy grande, y no sabemos bien con cuántos tendremos más precisión) y mediremos la precisión de los algoritmos mediante la métrica 'Accuracy'"
   ]
  },
  {
   "cell_type": "markdown",
   "metadata": {},
   "source": [
    "**Inicialmente vamos a probar los algoritmos sobre los datos sin ningún preprocesamiento: no les hemos estandarizado ni reescalado.**"
   ]
  },
  {
   "cell_type": "code",
   "execution_count": 7,
   "metadata": {},
   "outputs": [
    {
     "name": "stdout",
     "output_type": "stream",
     "text": [
      "\u001b[1mPrecisiones con 3 splits\u001b[0m\n",
      "LR: -78.607484 (9.174554)\n",
      "LASSO: -85.345696 (6.512250)\n",
      "EN: -85.119668 (6.166794)\n",
      "KNN: -75.872737 (7.775086)\n",
      "CART: -146.804183 (4.296424)\n",
      "SVR: -98.935453 (6.807381)\n",
      "--------------------------\n",
      "\u001b[1mPrecisiones con 5 splits\u001b[0m\n",
      "LR: -78.305011 (17.382433)\n",
      "LASSO: -84.769873 (17.175359)\n",
      "EN: -84.622020 (17.405756)\n",
      "KNN: -71.850562 (12.256165)\n",
      "CART: -125.101798 (19.037514)\n",
      "SVR: -98.968683 (17.927207)\n",
      "--------------------------\n",
      "\u001b[1mPrecisiones con 7 splits\u001b[0m\n",
      "LR: -78.682679 (25.156950)\n",
      "LASSO: -84.798637 (24.485431)\n",
      "EN: -84.570337 (24.872268)\n",
      "KNN: -72.001861 (18.080615)\n",
      "CART: -122.596615 (34.462156)\n",
      "SVR: -98.920464 (26.325807)\n",
      "--------------------------\n",
      "\u001b[1mPrecisiones con 10 splits\u001b[0m\n",
      "LR: -78.377317 (22.886359)\n",
      "LASSO: -84.375458 (25.563897)\n",
      "EN: -83.933971 (25.620755)\n",
      "KNN: -68.914821 (14.850001)\n",
      "CART: -138.478066 (37.112599)\n",
      "SVR: -98.930931 (27.604987)\n",
      "--------------------------\n"
     ]
    }
   ],
   "source": [
    "## Algoritmos de control/Test puntual. Usaremos 6 tipos:\n",
    "models = []\n",
    "models.append(('LR', LinearRegression()))\n",
    "models.append(('LASSO', Lasso()))\n",
    "models.append(('EN', ElasticNet()))\n",
    "models.append(('KNN', KNeighborsRegressor()))\n",
    "models.append(('CART', DecisionTreeRegressor()))\n",
    "models.append(('SVR', SVR(gamma='scale')))\n",
    "\n",
    "#En un diccionario 'allresults' vamos guardando los resultados de los modelos para los diversos cv con 3,5,7 y 10 folds\n",
    "\n",
    "allresults = {}\n",
    "names = []\n",
    "for nsplits in (3,5,7,10):\n",
    "    print('\\033[1m' + 'Precisiones con %d splits' % nsplits + '\\033[0m')\n",
    "    results = []\n",
    "    for name, model in models:\n",
    "        kfold = KFold(n_splits=nsplits, shuffle=True, random_state=seed)\n",
    "        cv_results = cross_val_score(model, X_train, y_train, cv=kfold, scoring='neg_mean_squared_error')\n",
    "        results.append(cv_results)\n",
    "        names.append(name)\n",
    "        msg = \"%s: %f (%f)\" % (name, cv_results.mean(), cv_results.std())\n",
    "        print(msg)\n",
    "    print('--------------------------')\n",
    "    allresults[nsplits] = results"
   ]
  },
  {
   "cell_type": "code",
   "execution_count": 10,
   "metadata": {},
   "outputs": [
    {
     "data": {
      "image/png": "[encoded data removed]",
      "text/plain": [
       "<Figure size 432x288 with 1 Axes>"
      ]
     },
     "metadata": {
      "needs_background": "light"
     },
     "output_type": "display_data"
    }
   ],
   "source": [
    "fig = plt.figure()\n",
    "fig.suptitle('Comparación de Algoritmos con 10 folds')\n",
    "ax = fig.add_subplot(111)\n",
    "plt.boxplot(allresults[10])\n",
    "ax.set_xticklabels(names)\n",
    "plt.show()"
   ]
  },
  {
   "cell_type": "markdown",
   "metadata": {},
   "source": [
    "Claramente, el mejor algoritmo de momento es el KNN con 10 folds para el CV"
   ]
  },
  {
   "cell_type": "markdown",
   "metadata": {},
   "source": [
    "**Trabajemos ahora con una estandarización para revisar su capacidad utilizando una copia estandarizada de los datos**.\n",
    "\n",
    "### Estandarización del dataset\n",
    "Con la sospecha de que las diferentes escalas de los datos en bruto pueden afectar negativamente la capacidad de predicción de algunos de los algoritmos, evaluamos estos mismos algoritmos con una copia estandarizada del conjunto de datos. \n",
    "\n",
    "Es en este punto en donde los datos se transforman de tal manera que cada atributo tiene un **valor medio de 0 y una desviación estándar de 1**. \n",
    "\n",
    "También debemos evitar que se nos escapen datos cuando hacemos transformaciones. Una buena manera de evitarlo es usar **pipelines (tuberías)** que estandaricen los datos y construyan el modelo para cada *fold* en nuestra selección de prueba de validación cruzada. De esa manera podemos obtener una estimación justa de cómo podría funcionar cada modelo con datos estandarizados en datos no visibles."
   ]
  },
  {
   "cell_type": "code",
   "execution_count": 13,
   "metadata": {},
   "outputs": [
    {
     "name": "stdout",
     "output_type": "stream",
     "text": [
      "\u001b[1mPrecisiones con 3 splits\u001b[0m\n",
      "ScLR: -78.607484 (9.174554)\n",
      "ScLASSO: -85.255750 (5.703640)\n",
      "ScEN: -83.936127 (6.403992)\n",
      "ScKNN: -84.190048 (9.071378)\n",
      "ScCART: -175.925142 (44.184377)\n",
      "ScSVR: -83.551187 (7.358538)\n",
      "--------------------------\n",
      "\u001b[1mPrecisiones con 5 splits\u001b[0m\n",
      "ScLR: -78.305011 (17.382433)\n",
      "ScLASSO: -84.731033 (16.515359)\n",
      "ScEN: -83.614488 (16.532458)\n",
      "ScKNN: -82.053599 (13.931684)\n",
      "ScCART: -137.093504 (16.153559)\n",
      "ScSVR: -82.622639 (17.875907)\n",
      "--------------------------\n",
      "\u001b[1mPrecisiones con 7 splits\u001b[0m\n",
      "ScLR: -78.682679 (25.156950)\n",
      "ScLASSO: -84.762925 (23.335770)\n",
      "ScEN: -83.519850 (23.954920)\n",
      "ScKNN: -82.221256 (23.046619)\n",
      "ScCART: -125.857580 (20.862361)\n",
      "ScSVR: -81.666386 (26.008113)\n",
      "--------------------------\n",
      "\u001b[1mPrecisiones con 10 splits\u001b[0m\n",
      "ScLR: -78.377317 (22.886359)\n",
      "ScLASSO: -84.751995 (25.020687)\n",
      "ScEN: -83.574113 (24.150389)\n",
      "ScKNN: -80.854403 (20.794414)\n",
      "ScCART: -152.553121 (65.089972)\n",
      "ScSVR: -81.101814 (25.611428)\n",
      "--------------------------\n"
     ]
    }
   ],
   "source": [
    "# Estandarización del dataset\n",
    "pipelines = []\n",
    "pipelines.append(('ScLR', Pipeline([('Scaler', StandardScaler()),('LR', LinearRegression())])))\n",
    "pipelines.append(('ScLASSO', Pipeline([('Scaler', StandardScaler()),('LASSO', Lasso())])))\n",
    "pipelines.append(('ScEN', Pipeline([('Scaler', StandardScaler()),('EN', ElasticNet())])))\n",
    "pipelines.append(('ScKNN', Pipeline([('Scaler', StandardScaler()),('KNN', KNeighborsRegressor())])))\n",
    "pipelines.append(('ScCART', Pipeline([('Scaler', StandardScaler()),('CART', DecisionTreeRegressor())])))\n",
    "pipelines.append(('ScSVR', Pipeline([('Scaler', StandardScaler()),('SVR', SVR(gamma='scale'))])))\n",
    "\n",
    "allresults = {}\n",
    "names = []\n",
    "for nsplits in (3,5,7,10):\n",
    "    print('\\033[1m' + 'Precisiones con %d splits' % nsplits + '\\033[0m')\n",
    "    results = []\n",
    "    for name, model in pipelines:\n",
    "        kfold = KFold(n_splits=nsplits, shuffle=True, random_state=seed)\n",
    "        cv_results = cross_val_score(model, X_train, y_train, cv=kfold, scoring='neg_mean_squared_error')\n",
    "        results.append(cv_results)\n",
    "        names.append(name)\n",
    "        msg = \"%s: %f (%f)\" % (name, cv_results.mean(), cv_results.std())\n",
    "        print(msg)\n",
    "    print('--------------------------')\n",
    "    allresults[nsplits] = results"
   ]
  },
  {
   "cell_type": "markdown",
   "metadata": {},
   "source": [
    "En este caso observamos que el LR es el algoritmo de menor error cuando los datos han sido estandarizados. Pero su error es mayor que el del KNN con datos no preprocesados. Por lo que de momento nos quedaríamos con el KNN y datos sin estandarizar."
   ]
  },
  {
   "cell_type": "markdown",
   "metadata": {},
   "source": [
    "**Ahora revisamos cómo funciona si usamos una copia de los datos reescalados**\n",
    "\n",
    "### Reescalado del dataset (entre 0 y 1)\n",
    "Evaluaremos ahora los algoritmos habiendo reescalado los datos entre 0 y 1. Cuando los datos se componen de atributos con diferentes escalas, muchos algoritmos de aprendizaje automático pueden beneficiarse de volver a escalar los atributos para que todos tengan la misma escala\n",
    "\n",
    "Usaremos igualmente pipelines (tuberías) que reescalen los datos y construyan el modelo para cada fold en nuestra selección de prueba de validación cruzada."
   ]
  },
  {
   "cell_type": "code",
   "execution_count": 14,
   "metadata": {},
   "outputs": [
    {
     "name": "stdout",
     "output_type": "stream",
     "text": [
      "\u001b[1mPrecisiones con 3 splits\u001b[0m\n",
      "mMLR: -78.607484 (9.174554)\n",
      "mMLASSO: -98.465173 (6.990435)\n",
      "mMEN: -97.053979 (6.953456)\n",
      "mMKNN: -90.991604 (12.529242)\n",
      "mMCART: -171.688298 (48.547478)\n",
      "mMSVR: -86.246778 (7.171145)\n",
      "--------------------------\n",
      "\u001b[1mPrecisiones con 5 splits\u001b[0m\n",
      "mMLR: -78.305011 (17.382433)\n",
      "mMLASSO: -98.241174 (17.811118)\n",
      "mMEN: -96.842595 (17.717024)\n",
      "mMKNN: -87.510717 (15.694080)\n",
      "mMCART: -143.128577 (32.341237)\n",
      "mMSVR: -85.039041 (17.868373)\n",
      "--------------------------\n",
      "\u001b[1mPrecisiones con 7 splits\u001b[0m\n",
      "mMLR: -78.682679 (25.156950)\n",
      "mMLASSO: -98.267631 (26.395707)\n",
      "mMEN: -96.806101 (26.338080)\n",
      "mMKNN: -88.403610 (23.726904)\n",
      "mMCART: -126.601691 (18.459236)\n",
      "mMSVR: -84.167784 (26.266131)\n",
      "--------------------------\n",
      "\u001b[1mPrecisiones con 10 splits\u001b[0m\n",
      "mMLR: -78.377317 (22.886359)\n",
      "mMLASSO: -98.419851 (26.489797)\n",
      "mMEN: -97.016110 (26.402050)\n",
      "mMKNN: -84.745257 (19.186944)\n",
      "mMCART: -135.759274 (54.164891)\n",
      "mMSVR: -83.678199 (25.774630)\n",
      "--------------------------\n"
     ]
    }
   ],
   "source": [
    "# Reescalado del dataset\n",
    "pipelines = []\n",
    "pipelines.append(('mMLR', Pipeline([('Scaler', MinMaxScaler()),('LR', LinearRegression())])))\n",
    "pipelines.append(('mMLASSO', Pipeline([('Scaler', MinMaxScaler()),('LASSO', Lasso())])))\n",
    "pipelines.append(('mMEN', Pipeline([('Scaler', MinMaxScaler()),('EN', ElasticNet())])))\n",
    "pipelines.append(('mMKNN', Pipeline([('Scaler', MinMaxScaler()),('KNN', KNeighborsRegressor())])))\n",
    "pipelines.append(('mMCART', Pipeline([('Scaler', MinMaxScaler()),('CART', DecisionTreeRegressor())])))\n",
    "pipelines.append(('mMSVR', Pipeline([('Scaler', MinMaxScaler()),('SVR', SVR(gamma='scale'))])))\n",
    "\n",
    "allresults = {}\n",
    "names = []\n",
    "for nsplits in (3,5,7,10):\n",
    "    print('\\033[1m' + 'Precisiones con %d splits' % nsplits + '\\033[0m')\n",
    "    results = []\n",
    "    for name, model in pipelines:\n",
    "        kfold = KFold(n_splits=nsplits, shuffle=True, random_state=seed)\n",
    "        cv_results = cross_val_score(model, X_train, y_train, cv=kfold, scoring='neg_mean_squared_error')\n",
    "        results.append(cv_results)\n",
    "        names.append(name)\n",
    "        msg = \"%s: %f (%f)\" % (name, cv_results.mean(), cv_results.std())\n",
    "        print(msg)\n",
    "    print('--------------------------')\n",
    "    allresults[nsplits] = results"
   ]
  },
  {
   "cell_type": "markdown",
   "metadata": {},
   "source": [
    "No obtenemos mejores resultados que al inicio.\n",
    "\n",
    "**CONCLUSIÓN: de momento el mejor modelo a usar es el algortimo KNN con 10 folds y con los datos sin escalar ni estandarizar**, obteniendo un error cuadrático medio negativo de -68,915 "
   ]
  },
  {
   "cell_type": "code",
   "execution_count": null,
   "metadata": {},
   "outputs": [],
   "source": []
  }
 ],
 "metadata": {
  "kernelspec": {
   "display_name": "Python 3",
   "language": "python",
   "name": "python3"
  },
  "language_info": {
   "codemirror_mode": {
    "name": "ipython",
    "version": 3
   },
   "file_extension": ".py",
   "mimetype": "text/x-python",
   "name": "python",
   "nbconvert_exporter": "python",
   "pygments_lexer": "ipython3",
   "version": "3.8.5"
  }
 },
 "nbformat": 4,
 "nbformat_minor": 4
}
