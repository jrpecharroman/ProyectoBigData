{
 "cells": [
  {
   "cell_type": "markdown",
   "metadata": {},
   "source": [
    "# Modelo para predicción NO2 en Barcelona"
   ]
  },
  {
   "cell_type": "markdown",
   "metadata": {},
   "source": [
    "## Preprocesamiento, evaluación de algoritmos, construcción de modelo de predicción"
   ]
  },
  {
   "cell_type": "markdown",
   "metadata": {},
   "source": [
    "Realizamos primero un estudio completo cargando el dataset mergeado trabajado con selección de 4 características de Meteorología, y después lo repetiremo con los datos sin selección de características para comparar."
   ]
  },
  {
   "cell_type": "code",
   "execution_count": 1,
   "metadata": {},
   "outputs": [],
   "source": [
    "#Importamos las librerías que vamos a usar para los distintos pasos del problema\n",
    "\n",
    "import numpy as np\n",
    "import pandas as pd\n",
    "from numpy import set_printoptions\n",
    "#Visualización\n",
    "from pandas.plotting import scatter_matrix\n",
    "import matplotlib.pyplot as plt\n",
    "import seaborn as sns\n",
    "#Preprocesamiento\n",
    "from sklearn.preprocessing import MinMaxScaler\n",
    "from sklearn.preprocessing import StandardScaler\n",
    "from sklearn.preprocessing import Normalizer\n",
    "from sklearn.preprocessing import Binarizer\n",
    "#Remuestreo\n",
    "from sklearn.model_selection import train_test_split;\n",
    "from sklearn.model_selection import KFold\n",
    "from sklearn.model_selection import cross_val_score\n",
    "#Algoritmos de Regresión Lineal\n",
    "from sklearn.linear_model import LinearRegression\n",
    "from sklearn.linear_model import Lasso\n",
    "from sklearn.linear_model import Ridge\n",
    "from sklearn.linear_model import ElasticNet\n",
    "#Algoritmos de Regresión No Lineal\n",
    "from sklearn.tree import DecisionTreeRegressor\n",
    "from sklearn.neighbors import KNeighborsRegressor\n",
    "from sklearn.svm import SVR\n",
    "#Métricas de evaluación de algoritmos\n",
    "from sklearn import metrics\n",
    "from sklearn.metrics import confusion_matrix\n",
    "from sklearn.metrics import classification_report\n",
    "#Ensamblamiento Regresión\n",
    "from sklearn.ensemble import AdaBoostRegressor\n",
    "from sklearn.ensemble import GradientBoostingRegressor\n",
    "from sklearn.ensemble import RandomForestRegressor\n",
    "from sklearn.ensemble import ExtraTreesRegressor\n",
    "#Tuning\n",
    "from sklearn.model_selection import GridSearchCV\n",
    "from sklearn.model_selection import RandomizedSearchCV\n",
    "#Pipelines\n",
    "from sklearn.pipeline import Pipeline\n",
    "#Metricas\n",
    "from sklearn.metrics import mean_squared_error\n",
    "#Serializar (guardar y cerrar modelo)\n",
    "from joblib import dump\n"
   ]
  },
  {
   "cell_type": "markdown",
   "metadata": {},
   "source": [
    "## 1) Carga del dataset mergeado trabajado CON selección de características para NO2"
   ]
  },
  {
   "cell_type": "code",
   "execution_count": 2,
   "metadata": {},
   "outputs": [
    {
     "name": "stdout",
     "output_type": "stream",
     "text": [
      "Index(['no2', 'year', 'month', 'day', 'tmed', 'velmedia', 'sol', 'presmax',\n",
      "       'week', 'season', 'season_name', 'estado_trafico', 'diadelasemana',\n",
      "       'findesemana'],\n",
      "      dtype='object')\n",
      "                  no2  year  month  day  tmed  velmedia  sol  presmax  week  \\\n",
      "date                                                                          \n",
      "2018-01-01  24.000000  2018      1    1  12.8       4.2  5.1   1027.2     1   \n",
      "2018-01-02  10.000000  2018      1    2  14.6       3.3  3.1   1025.4     1   \n",
      "2018-01-03   7.000000  2018      1    3  17.9       3.9  1.9   1023.0     1   \n",
      "2018-01-04  14.000000  2018      1    4  19.2       5.0  5.9   1019.0     1   \n",
      "2018-01-05  20.000000  2018      1    5  16.4       3.3  6.4   1015.2     1   \n",
      "...               ...   ...    ...  ...   ...       ...  ...      ...   ...   \n",
      "2019-12-27  18.000000  2019     12   27  12.0       1.9  5.1   1030.0    52   \n",
      "2019-12-28  16.000000  2019     12   28  11.0       2.5  5.2   1032.1    52   \n",
      "2019-12-29  17.641379  2019     12   29  12.3       1.9  0.1   1033.1    52   \n",
      "2019-12-30  17.641379  2019     12   30  11.6       1.9  0.7   1033.9     1   \n",
      "2019-12-31  15.000000  2019     12   31  10.8       2.5  1.8   1033.8     1   \n",
      "\n",
      "            season season_name  estado_trafico  diadelasemana  findesemana  \n",
      "date                                                                        \n",
      "2018-01-01       1      Winter        1.501611              0            0  \n",
      "2018-01-02       1      Winter        1.855361              1            0  \n",
      "2018-01-03       1      Winter        1.914663              2            0  \n",
      "2018-01-04       1      Winter        1.917587              3            0  \n",
      "2018-01-05       1      Winter        1.933171              4            0  \n",
      "...            ...         ...             ...            ...          ...  \n",
      "2019-12-27       1      Winter        1.879245              4            0  \n",
      "2019-12-28       1      Winter        1.677568              5            1  \n",
      "2019-12-29       1      Winter        1.567480              6            1  \n",
      "2019-12-30       1      Winter        1.895104              0            0  \n",
      "2019-12-31       1      Winter        1.804372              1            0  \n",
      "\n",
      "[730 rows x 14 columns]\n"
     ]
    }
   ],
   "source": [
    "#cogemos el dataset trabajado anteriormente con los datos mergeados y habiendo hecho una reducción de variables\n",
    "url_fichero_mercscno2 = './DatosMergeadosBarcelona_ConSeleccionCaract_ParaNO2.csv'\n",
    "dfMergeadoSelCaractNO2 = pd.read_csv(url_fichero_mercscno2)\n",
    "dfMergeadoSelCaractNO2 = dfMergeadoSelCaractNO2.set_index('date')\n",
    "print(dfMergeadoSelCaractNO2.columns)\n",
    "print(dfMergeadoSelCaractNO2)"
   ]
  },
  {
   "cell_type": "markdown",
   "metadata": {},
   "source": [
    "## 1.1- Evaluación de los algoritmos\n",
    "### Dataset de validación de división (Split-out)\n",
    "**Dejaremos 80-20, preparado para CV de 10-folds** \n",
    "\n",
    "Vamos a separar el dataset en un 80 (train) - 20 (validation). Con el de 80 (train) haremos validación cruzada, y con el de 20 haremos la validación final.\n"
   ]
  },
  {
   "cell_type": "code",
   "execution_count": 3,
   "metadata": {},
   "outputs": [
    {
     "name": "stdout",
     "output_type": "stream",
     "text": [
      "X_Train_1:  (584, 12)\n",
      "X_Validation_1:  (146, 12)\n"
     ]
    }
   ],
   "source": [
    "array1 = dfMergeadoSelCaractNO2.drop(columns=['season_name']).values\n",
    "X_1 = array1[:,1:]\n",
    "y = array1[:,0]\n",
    "validation_size = 0.20\n",
    "seed = 7\n",
    "X_train_1, X_validation_1, y_train_1, y_validation_1 = train_test_split(X_1, y, test_size=validation_size, random_state=seed)\n",
    "print('X_Train_1: ', X_train_1.shape)\n",
    "print('X_Validation_1: ', X_validation_1.shape)"
   ]
  },
  {
   "cell_type": "markdown",
   "metadata": {},
   "source": [
    "Vamos a probar los siguientes algoritmos de clasificación:\n",
    "\n",
    "- Regresión lineal (LR)\n",
    "- Regularización de Regresión Lasso (L1)(LASSO)\n",
    "- Regularización de Regresión ElasticNet (EN)\n",
    "- k-vecinos más cercanos (KNN)\n",
    "- Árboles de decisión de regresión (CART)\n",
    "- Regresión de vectores de soporte (SVR)\n",
    "\n",
    "Usaremos una validación cruzada probando con diversos nº de folds entre 3 y 10 (la cantidad de datos que tenemos no es muy grande, y no sabemos bien con cuántos tendremos más precisión) y mediremos la precisión de los algoritmos mediante la métrica 'neg_mean_squared_error'"
   ]
  },
  {
   "cell_type": "markdown",
   "metadata": {},
   "source": [
    "**Inicialmente vamos a probar los algoritmos sobre los datos sin ningún preprocesamiento: no les hemos estandarizado ni reescalado.**"
   ]
  },
  {
   "cell_type": "code",
   "execution_count": 4,
   "metadata": {},
   "outputs": [
    {
     "name": "stdout",
     "output_type": "stream",
     "text": [
      "\u001b[1mPrecisiones con 3 splits\u001b[0m\n",
      "LR: -30.923410 (3.068376)\n",
      "LASSO: -32.988884 (2.101545)\n",
      "EN: -32.634587 (2.042402)\n",
      "KNN: -34.198137 (2.302044)\n",
      "CART: -53.279951 (0.992582)\n",
      "SVR: -38.399222 (3.002767)\n",
      "--------------------------\n",
      "\u001b[1mPrecisiones con 5 splits\u001b[0m\n",
      "LR: -30.868952 (3.791346)\n",
      "LASSO: -32.960941 (2.850079)\n",
      "EN: -32.500884 (2.683456)\n",
      "KNN: -35.822464 (2.018052)\n",
      "CART: -55.857694 (6.952345)\n",
      "SVR: -38.326650 (3.375890)\n",
      "--------------------------\n",
      "\u001b[1mPrecisiones con 7 splits\u001b[0m\n",
      "LR: -30.342235 (5.457497)\n",
      "LASSO: -32.429560 (4.905833)\n",
      "EN: -32.048817 (4.905897)\n",
      "KNN: -34.193141 (5.555909)\n",
      "CART: -52.015779 (4.715359)\n",
      "SVR: -38.458959 (6.989455)\n",
      "--------------------------\n",
      "\u001b[1mPrecisiones con 10 splits\u001b[0m\n",
      "LR: -30.493286 (6.318451)\n",
      "LASSO: -32.477697 (4.936893)\n",
      "EN: -32.061443 (4.986737)\n",
      "KNN: -34.833157 (4.572889)\n",
      "CART: -58.196643 (6.837007)\n",
      "SVR: -38.305132 (5.471631)\n",
      "--------------------------\n"
     ]
    }
   ],
   "source": [
    "## Algoritmos de control/Test puntual. Usaremos 6 tipos:\n",
    "models = []\n",
    "models.append(('LR', LinearRegression()))\n",
    "models.append(('LASSO', Lasso()))\n",
    "models.append(('EN', ElasticNet()))\n",
    "models.append(('KNN', KNeighborsRegressor()))\n",
    "models.append(('CART', DecisionTreeRegressor()))\n",
    "models.append(('SVR', SVR(gamma='scale')))\n",
    "\n",
    "#En un diccionario 'allresults' vamos guardando los resultados de los modelos para los diversos cv con 3,5,7 y 10 folds\n",
    "\n",
    "allresults = {}\n",
    "names = []\n",
    "for nsplits in (3,5,7,10):\n",
    "    print('\\033[1m' + 'Precisiones con %d splits' % nsplits + '\\033[0m')\n",
    "    results = []\n",
    "    for name, model in models:\n",
    "        kfold = KFold(n_splits=nsplits, shuffle=True, random_state=seed)\n",
    "        cv_results = cross_val_score(model, X_train_1, y_train_1, cv=kfold, scoring='neg_mean_squared_error')\n",
    "        results.append(cv_results)\n",
    "        names.append(name)\n",
    "        msg = \"%s: %f (%f)\" % (name, cv_results.mean(), cv_results.std())\n",
    "        print(msg)\n",
    "    print('--------------------------')\n",
    "    allresults[nsplits] = results"
   ]
  },
  {
   "cell_type": "code",
   "execution_count": 5,
   "metadata": {},
   "outputs": [
    {
     "data": {
      "image/png": "[encoded data removed]",
      "text/plain": [
       "<Figure size 432x288 with 1 Axes>"
      ]
     },
     "metadata": {
      "needs_background": "light"
     },
     "output_type": "display_data"
    }
   ],
   "source": [
    "fig = plt.figure()\n",
    "fig.suptitle('Comparación de Algoritmos con 7 folds')\n",
    "ax = fig.add_subplot(111)\n",
    "plt.boxplot(allresults[7])\n",
    "ax.set_xticklabels(names)\n",
    "plt.show()"
   ]
  },
  {
   "cell_type": "markdown",
   "metadata": {},
   "source": [
    "El mejor algoritmo de momento es el LR con 7 folds para el CV"
   ]
  },
  {
   "cell_type": "markdown",
   "metadata": {},
   "source": [
    "**Trabajemos ahora con una estandarización para revisar su capacidad utilizando una copia estandarizada de los datos**.\n",
    "\n",
    "### Estandarización del dataset\n",
    "Con la sospecha de que las diferentes escalas de los datos en bruto pueden afectar negativamente la capacidad de predicción de algunos de los algoritmos, evaluamos estos mismos algoritmos con una copia estandarizada del conjunto de datos. \n",
    "\n",
    "Es en este punto en donde los datos se transforman de tal manera que cada atributo tiene un **valor medio de 0 y una desviación estándar de 1**. \n",
    "\n",
    "También debemos evitar que se nos escapen datos cuando hacemos transformaciones. Una buena manera de evitarlo es usar **pipelines (tuberías)** que estandaricen los datos y construyan el modelo para cada *fold* en nuestra selección de prueba de validación cruzada. De esa manera podemos obtener una estimación justa de cómo podría funcionar cada modelo con datos estandarizados en datos no visibles."
   ]
  },
  {
   "cell_type": "code",
   "execution_count": 6,
   "metadata": {},
   "outputs": [
    {
     "name": "stdout",
     "output_type": "stream",
     "text": [
      "\u001b[1mPrecisiones con 3 splits\u001b[0m\n",
      "ScLR: -30.923410 (3.068376)\n",
      "ScLASSO: -34.476133 (3.073473)\n",
      "ScEN: -32.728478 (2.598397)\n",
      "ScKNN: -31.639854 (1.649065)\n",
      "ScCART: -52.184856 (6.052220)\n",
      "ScSVR: -30.660655 (2.236026)\n",
      "--------------------------\n",
      "\u001b[1mPrecisiones con 5 splits\u001b[0m\n",
      "ScLR: -30.868952 (3.791346)\n",
      "ScLASSO: -34.403978 (3.329007)\n",
      "ScEN: -33.043913 (3.301372)\n",
      "ScKNN: -31.874820 (3.230069)\n",
      "ScCART: -56.059862 (5.463326)\n",
      "ScSVR: -30.292747 (3.500396)\n",
      "--------------------------\n",
      "\u001b[1mPrecisiones con 7 splits\u001b[0m\n",
      "ScLR: -30.342235 (5.457497)\n",
      "ScLASSO: -34.206064 (6.260384)\n",
      "ScEN: -32.723815 (6.010955)\n",
      "ScKNN: -31.572397 (4.208912)\n",
      "ScCART: -52.322149 (5.231764)\n",
      "ScSVR: -30.129081 (5.483538)\n",
      "--------------------------\n",
      "\u001b[1mPrecisiones con 10 splits\u001b[0m\n",
      "ScLR: -30.493286 (6.318451)\n",
      "ScLASSO: -34.428540 (5.130497)\n",
      "ScEN: -32.906275 (5.304748)\n",
      "ScKNN: -32.266458 (6.658890)\n",
      "ScCART: -57.528207 (9.578786)\n",
      "ScSVR: -30.100618 (6.081654)\n",
      "--------------------------\n"
     ]
    }
   ],
   "source": [
    "# Estandarización del dataset\n",
    "pipelines = []\n",
    "pipelines.append(('ScLR', Pipeline([('Scaler', StandardScaler()),('LR', LinearRegression())])))\n",
    "pipelines.append(('ScLASSO', Pipeline([('Scaler', StandardScaler()),('LASSO', Lasso())])))\n",
    "pipelines.append(('ScEN', Pipeline([('Scaler', StandardScaler()),('EN', ElasticNet())])))\n",
    "pipelines.append(('ScKNN', Pipeline([('Scaler', StandardScaler()),('KNN', KNeighborsRegressor())])))\n",
    "pipelines.append(('ScCART', Pipeline([('Scaler', StandardScaler()),('CART', DecisionTreeRegressor())])))\n",
    "pipelines.append(('ScSVR', Pipeline([('Scaler', StandardScaler()),('SVR', SVR(gamma='scale'))])))\n",
    "\n",
    "allresults = {}\n",
    "names = []\n",
    "for nsplits in (3,5,7,10):\n",
    "    print('\\033[1m' + 'Precisiones con %d splits' % nsplits + '\\033[0m')\n",
    "    results = []\n",
    "    for name, model in pipelines:\n",
    "        kfold = KFold(n_splits=nsplits, shuffle=True, random_state=seed)\n",
    "        cv_results = cross_val_score(model, X_train_1, y_train_1, cv=kfold, scoring='neg_mean_squared_error')\n",
    "        results.append(cv_results)\n",
    "        names.append(name)\n",
    "        msg = \"%s: %f (%f)\" % (name, cv_results.mean(), cv_results.std())\n",
    "        print(msg)\n",
    "    print('--------------------------')\n",
    "    allresults[nsplits] = results"
   ]
  },
  {
   "cell_type": "markdown",
   "metadata": {},
   "source": [
    "En este caso observamos que el SVR con 10 folds es el algoritmo de menor error cuando los datos han sido estandarizados, y con un error menor que el del LR con datos no preprocesados. Por lo que de momento nos quedaríamos con el SVR y datos estandarizados."
   ]
  },
  {
   "cell_type": "markdown",
   "metadata": {},
   "source": [
    "**Ahora revisamos cómo funciona si usamos una copia de los datos reescalados**\n",
    "\n",
    "### Reescalado del dataset (entre 0 y 1)\n",
    "Evaluaremos ahora los algoritmos habiendo reescalado los datos entre 0 y 1. Cuando los datos se componen de atributos con diferentes escalas, muchos algoritmos de aprendizaje automático pueden beneficiarse de volver a escalar los atributos para que todos tengan la misma escala\n",
    "\n",
    "Usaremos igualmente pipelines (tuberías) que reescalen los datos y construyan el modelo para cada fold en nuestra selección de prueba de validación cruzada."
   ]
  },
  {
   "cell_type": "code",
   "execution_count": 7,
   "metadata": {},
   "outputs": [
    {
     "name": "stdout",
     "output_type": "stream",
     "text": [
      "\u001b[1mPrecisiones con 3 splits\u001b[0m\n",
      "mMLR: -30.923410 (3.068376)\n",
      "mMLASSO: -38.218334 (3.175546)\n",
      "mMEN: -38.022774 (3.151915)\n",
      "mMKNN: -33.678683 (2.828877)\n",
      "mMCART: -52.369690 (6.583706)\n",
      "mMSVR: -31.318452 (2.584974)\n",
      "--------------------------\n",
      "\u001b[1mPrecisiones con 5 splits\u001b[0m\n",
      "mMLR: -30.868952 (3.791346)\n",
      "mMLASSO: -38.176349 (3.322022)\n",
      "mMEN: -38.004996 (3.335112)\n",
      "mMKNN: -33.092812 (3.948954)\n",
      "mMCART: -58.051342 (5.664182)\n",
      "mMSVR: -31.296365 (3.805601)\n",
      "--------------------------\n",
      "\u001b[1mPrecisiones con 7 splits\u001b[0m\n",
      "mMLR: -30.342235 (5.457497)\n",
      "mMLASSO: -38.184250 (6.463941)\n",
      "mMEN: -37.989790 (6.472935)\n",
      "mMKNN: -33.142467 (5.309707)\n",
      "mMCART: -51.823336 (4.107301)\n",
      "mMSVR: -30.776803 (6.019046)\n",
      "--------------------------\n",
      "\u001b[1mPrecisiones con 10 splits\u001b[0m\n",
      "mMLR: -30.493286 (6.318451)\n",
      "mMLASSO: -38.180183 (4.940528)\n",
      "mMEN: -38.009668 (4.928722)\n",
      "mMKNN: -33.282318 (6.084299)\n",
      "mMCART: -55.988364 (10.651905)\n",
      "mMSVR: -31.063303 (5.911982)\n",
      "--------------------------\n"
     ]
    }
   ],
   "source": [
    "# Reescalado del dataset\n",
    "pipelines = []\n",
    "pipelines.append(('mMLR', Pipeline([('Scaler', MinMaxScaler()),('LR', LinearRegression())])))\n",
    "pipelines.append(('mMLASSO', Pipeline([('Scaler', MinMaxScaler()),('LASSO', Lasso())])))\n",
    "pipelines.append(('mMEN', Pipeline([('Scaler', MinMaxScaler()),('EN', ElasticNet())])))\n",
    "pipelines.append(('mMKNN', Pipeline([('Scaler', MinMaxScaler()),('KNN', KNeighborsRegressor())])))\n",
    "pipelines.append(('mMCART', Pipeline([('Scaler', MinMaxScaler()),('CART', DecisionTreeRegressor())])))\n",
    "pipelines.append(('mMSVR', Pipeline([('Scaler', MinMaxScaler()),('SVR', SVR(gamma='scale'))])))\n",
    "\n",
    "allresults = {}\n",
    "names = []\n",
    "for nsplits in (3,5,7,10):\n",
    "    print('\\033[1m' + 'Precisiones con %d splits' % nsplits + '\\033[0m')\n",
    "    results = []\n",
    "    for name, model in pipelines:\n",
    "        kfold = KFold(n_splits=nsplits, shuffle=True, random_state=seed)\n",
    "        cv_results = cross_val_score(model, X_train_1, y_train_1, cv=kfold, scoring='neg_mean_squared_error')\n",
    "        results.append(cv_results)\n",
    "        names.append(name)\n",
    "        msg = \"%s: %f (%f)\" % (name, cv_results.mean(), cv_results.std())\n",
    "        print(msg)\n",
    "    print('--------------------------')\n",
    "    allresults[nsplits] = results"
   ]
  },
  {
   "cell_type": "markdown",
   "metadata": {},
   "source": [
    "No obtenemos mejores resultados que en el caso anterior.\n",
    "\n",
    "**CONCLUSIÓN: de momento el mejor modelo a usar es el algortimo SVR con 10 folds y con los datos estandarizados**, obteniendo un error cuadrático medio negativo de -30,101 "
   ]
  },
  {
   "cell_type": "markdown",
   "metadata": {},
   "source": [
    "## 1.2- Ensembles (Conjuntos)\n",
    "\n",
    "Vamos ahora a tratar de mejorar el rendimiento de los algoritmos mediante el uso de métodos conjuntos o *ensembles*. Para ello vamos a evaluar 4 algoritmos de ML por conjuntos, 2 métodos de *boosting* o impulso y 2 de *bagging* o embolsado:\n",
    "\n",
    "- **Métodos de *boosting* (impulso)**: AdaBoost (AB) y Gradient Boosting (GBM).\n",
    "- **Métodos de *bagging* (embolsado)**: bosques aleatorios (RF) y árboles adicionales (ET).\n",
    "\n",
    "Usaremos la misma selección de prueba que antes, validación cruzada iterando el nº de folds entre 3 y 10 , y probaremos primero sin escalar y después escalando los datos."
   ]
  },
  {
   "cell_type": "code",
   "execution_count": 8,
   "metadata": {},
   "outputs": [
    {
     "name": "stdout",
     "output_type": "stream",
     "text": [
      "\u001b[1mPrecisiones con 3 splits\u001b[0m\n",
      "AB: -31.930880 (2.747873)\n",
      "GBM: -29.999677 (0.862924)\n",
      "RF: -29.492170 (2.423915)\n",
      "ET: -28.930458 (2.292367)\n",
      "--------------------------\n",
      "\u001b[1mPrecisiones con 5 splits\u001b[0m\n",
      "AB: -31.700986 (2.518178)\n",
      "GBM: -28.869045 (3.422911)\n",
      "RF: -28.735780 (3.432163)\n",
      "ET: -28.078177 (3.259498)\n",
      "--------------------------\n",
      "\u001b[1mPrecisiones con 7 splits\u001b[0m\n",
      "AB: -32.275250 (5.282922)\n",
      "GBM: -28.668570 (3.672520)\n",
      "RF: -28.501970 (4.683820)\n",
      "ET: -28.040185 (4.414423)\n",
      "--------------------------\n",
      "\u001b[1mPrecisiones con 10 splits\u001b[0m\n",
      "AB: -31.323753 (4.742588)\n",
      "GBM: -28.763292 (5.693224)\n",
      "RF: -28.157726 (5.031293)\n",
      "ET: -27.988709 (4.165046)\n",
      "--------------------------\n"
     ]
    }
   ],
   "source": [
    "#inicialmente probamos con los datos sin escalar\n",
    "\n",
    "ensembles = []\n",
    "ensembles.append(('AB', AdaBoostRegressor()))\n",
    "ensembles.append(('GBM', GradientBoostingRegressor()))\n",
    "ensembles.append(('RF', RandomForestRegressor(n_estimators=100)))\n",
    "ensembles.append(('ET', ExtraTreesRegressor(n_estimators=100)))\n",
    "\n",
    "allresults = {}\n",
    "names = []\n",
    "for nsplits in (3,5,7,10):\n",
    "    print('\\033[1m' + 'Precisiones con %d splits' % nsplits + '\\033[0m')\n",
    "    results = []\n",
    "    for name, model in ensembles:\n",
    "        kfold = KFold(n_splits=nsplits, shuffle=True, random_state=seed)\n",
    "        cv_results = cross_val_score(model, X_train_1, y_train_1, cv=kfold, scoring='neg_mean_squared_error')\n",
    "        results.append(cv_results)\n",
    "        names.append(name)\n",
    "        msg = \"%s: %f (%f)\" % (name, cv_results.mean(), cv_results.std())\n",
    "        print(msg)\n",
    "    print('--------------------------')\n",
    "    allresults[nsplits] = results"
   ]
  },
  {
   "cell_type": "code",
   "execution_count": 9,
   "metadata": {},
   "outputs": [
    {
     "data": {
      "image/png": "[encoded data removed]",
      "text/plain": [
       "<Figure size 432x288 with 1 Axes>"
      ]
     },
     "metadata": {
      "needs_background": "light"
     },
     "output_type": "display_data"
    }
   ],
   "source": [
    "fig = plt.figure()\n",
    "fig.suptitle('Comparación de Algoritmos con 10 folds')\n",
    "ax = fig.add_subplot(111)\n",
    "plt.boxplot(allresults[10])\n",
    "ax.set_xticklabels(names)\n",
    "plt.show()"
   ]
  },
  {
   "cell_type": "markdown",
   "metadata": {},
   "source": [
    "#### Obtenemos mejores valores que con el SVR solo. En concreto **el mejor valor nos lo da ExtraTreesRegressor (ET)**, con 10 folds, teniendo un error de **-27,989**"
   ]
  },
  {
   "cell_type": "code",
   "execution_count": 10,
   "metadata": {},
   "outputs": [
    {
     "name": "stdout",
     "output_type": "stream",
     "text": [
      "\u001b[1mPrecisiones con 3 splits\u001b[0m\n",
      "ScaledAB: -31.696459 (2.623664)\n",
      "ScaledGBM: -30.363554 (1.175760)\n",
      "ScaledRF: -29.885361 (1.503302)\n",
      "ScaledET: -29.026410 (1.943375)\n",
      "--------------------------\n",
      "\u001b[1mPrecisiones con 5 splits\u001b[0m\n",
      "ScaledAB: -33.318880 (1.640232)\n",
      "ScaledGBM: -29.016433 (3.398035)\n",
      "ScaledRF: -28.428044 (3.702390)\n",
      "ScaledET: -27.777376 (3.348371)\n",
      "--------------------------\n",
      "\u001b[1mPrecisiones con 7 splits\u001b[0m\n",
      "ScaledAB: -31.830332 (5.792890)\n",
      "ScaledGBM: -28.804614 (3.950154)\n",
      "ScaledRF: -28.499502 (4.277997)\n",
      "ScaledET: -27.846978 (4.041895)\n",
      "--------------------------\n",
      "\u001b[1mPrecisiones con 10 splits\u001b[0m\n",
      "ScaledAB: -32.208759 (6.184336)\n",
      "ScaledGBM: -28.483291 (5.148721)\n",
      "ScaledRF: -27.736758 (4.941201)\n",
      "ScaledET: -27.651824 (4.178354)\n",
      "--------------------------\n"
     ]
    }
   ],
   "source": [
    "#Ahora probamos estandarizando los datos\n",
    "\n",
    "ensembles = []\n",
    "ensembles.append(('ScaledAB', Pipeline([('Scaler', StandardScaler()),('AB', AdaBoostRegressor())])))\n",
    "ensembles.append(('ScaledGBM', Pipeline([('Scaler', StandardScaler()),('GBM', GradientBoostingRegressor())])))\n",
    "ensembles.append(('ScaledRF', Pipeline([('Scaler', StandardScaler()),('RF', RandomForestRegressor(n_estimators=100))])))\n",
    "ensembles.append(('ScaledET', Pipeline([('Scaler', StandardScaler()),('ET', ExtraTreesRegressor(n_estimators=100))])))\n",
    "\n",
    "allresults = {}\n",
    "names = []\n",
    "for nsplits in (3,5,7,10):\n",
    "    print('\\033[1m' + 'Precisiones con %d splits' % nsplits + '\\033[0m')\n",
    "    results = []\n",
    "    for name, model in ensembles:\n",
    "        kfold = KFold(n_splits=nsplits, shuffle=True, random_state=seed)\n",
    "        cv_results = cross_val_score(model, X_train_1, y_train_1, cv=kfold, scoring='neg_mean_squared_error')\n",
    "        results.append(cv_results)\n",
    "        names.append(name)\n",
    "        msg = \"%s: %f (%f)\" % (name, cv_results.mean(), cv_results.std())\n",
    "        print(msg)\n",
    "    print('--------------------------')\n",
    "    allresults[nsplits] = results"
   ]
  },
  {
   "cell_type": "code",
   "execution_count": 11,
   "metadata": {},
   "outputs": [
    {
     "name": "stdout",
     "output_type": "stream",
     "text": [
      "\u001b[1mPrecisiones con 3 splits\u001b[0m\n",
      "ScaledAB: -31.924235 (2.151581)\n",
      "ScaledGBM: -30.223547 (1.150318)\n",
      "ScaledRF: -29.641684 (1.885023)\n",
      "ScaledET: -29.032776 (1.583729)\n",
      "--------------------------\n",
      "\u001b[1mPrecisiones con 5 splits\u001b[0m\n",
      "ScaledAB: -32.455845 (2.352533)\n",
      "ScaledGBM: -28.988703 (3.489860)\n",
      "ScaledRF: -28.868604 (3.719525)\n",
      "ScaledET: -28.202851 (3.424965)\n",
      "--------------------------\n",
      "\u001b[1mPrecisiones con 7 splits\u001b[0m\n",
      "ScaledAB: -30.838110 (5.798261)\n",
      "ScaledGBM: -28.711959 (3.792456)\n",
      "ScaledRF: -28.883773 (4.546579)\n",
      "ScaledET: -28.224596 (4.238194)\n",
      "--------------------------\n",
      "\u001b[1mPrecisiones con 10 splits\u001b[0m\n",
      "ScaledAB: -31.855499 (4.883415)\n",
      "ScaledGBM: -28.702282 (5.518331)\n",
      "ScaledRF: -27.767011 (4.366827)\n",
      "ScaledET: -28.119354 (4.223476)\n",
      "--------------------------\n"
     ]
    }
   ],
   "source": [
    "#Y probamos finalmente reescalando los datos entre 0 y 1\n",
    "\n",
    "ensembles = []\n",
    "ensembles.append(('ScaledAB', Pipeline([('Scaler', MinMaxScaler()),('AB', AdaBoostRegressor())])))\n",
    "ensembles.append(('ScaledGBM', Pipeline([('Scaler', MinMaxScaler()),('GBM', GradientBoostingRegressor())])))\n",
    "ensembles.append(('ScaledRF', Pipeline([('Scaler', MinMaxScaler()),('RF', RandomForestRegressor(n_estimators=100))])))\n",
    "ensembles.append(('ScaledET', Pipeline([('Scaler', MinMaxScaler()),('ET', ExtraTreesRegressor(n_estimators=100))])))\n",
    "\n",
    "allresults = {}\n",
    "names = []\n",
    "for nsplits in (3,5,7,10):\n",
    "    print('\\033[1m' + 'Precisiones con %d splits' % nsplits + '\\033[0m')\n",
    "    results = []\n",
    "    for name, model in ensembles:\n",
    "        kfold = KFold(n_splits=nsplits, shuffle=True, random_state=seed)\n",
    "        cv_results = cross_val_score(model, X_train_1, y_train_1, cv=kfold, scoring='neg_mean_squared_error')\n",
    "        results.append(cv_results)\n",
    "        names.append(name)\n",
    "        msg = \"%s: %f (%f)\" % (name, cv_results.mean(), cv_results.std())\n",
    "        print(msg)\n",
    "    print('--------------------------')\n",
    "    allresults[nsplits] = results"
   ]
  },
  {
   "cell_type": "markdown",
   "metadata": {},
   "source": [
    "Observamos que obtenemos mejores resultados con los datos estandarizados, con el ET con 10 folds, por lo que:\n",
    "\n",
    "#### **CONCLUSIÓN: el mejor modelo obtenido finalmente en el caso 1 (con seleccion de 4 características para NO2) es el ensemble ExtraTreesRegressor (ET) con 10 folds y con los datos estandarizados, obteniendo un error cuadrático medio negativo de -27,652**"
   ]
  },
  {
   "cell_type": "markdown",
   "metadata": {},
   "source": [
    "---------------------------------------------------------------------------------------------------------------------\n",
    "\n",
    "\n",
    "## 2) Carga del dataset mergeado trabajado CON selección de características PCA\n",
    "\n",
    "Ahora vamos a realizar el mismo estudio pero cogiendo el dataset trabajado con selección de características mediante PCA, para comprobar si los resultados son mejores o peores\n"
   ]
  },
  {
   "cell_type": "code",
   "execution_count": 12,
   "metadata": {},
   "outputs": [
    {
     "name": "stdout",
     "output_type": "stream",
     "text": [
      "Index(['pm10', 'no2', 'year', 'month', 'day', 'week', 'season', 'season_name',\n",
      "       'estado_trafico', 'diadelasemana', 'findesemana', 'PCA1', 'PCA2',\n",
      "       'PCA3', 'PCA4'],\n",
      "      dtype='object')\n",
      "                 pm10        no2  year  month  day  week  season season_name  \\\n",
      "date                                                                           \n",
      "2018-01-01  10.000000  24.000000  2018      1    1     1       1      Winter   \n",
      "2018-01-02  11.000000  10.000000  2018      1    2     1       1      Winter   \n",
      "2018-01-03  10.000000   7.000000  2018      1    3     1       1      Winter   \n",
      "2018-01-04  11.000000  14.000000  2018      1    4     1       1      Winter   \n",
      "2018-01-05  10.000000  20.000000  2018      1    5     1       1      Winter   \n",
      "...               ...        ...   ...    ...  ...   ...     ...         ...   \n",
      "2019-12-27  16.000000  18.000000  2019     12   27    52       1      Winter   \n",
      "2019-12-28  19.000000  16.000000  2019     12   28    52       1      Winter   \n",
      "2019-12-29  23.000000  17.641379  2019     12   29    52       1      Winter   \n",
      "2019-12-30  23.712692  17.641379  2019     12   30     1       1      Winter   \n",
      "2019-12-31  23.712692  15.000000  2019     12   31     1       1      Winter   \n",
      "\n",
      "            estado_trafico  diadelasemana  findesemana       PCA1       PCA2  \\\n",
      "date                                                                           \n",
      "2018-01-01        1.501611              0            0   7.005353  -7.603868   \n",
      "2018-01-02        1.855361              1            0   6.181395 -10.888625   \n",
      "2018-01-03        1.914663              2            0   6.784913  -5.473179   \n",
      "2018-01-04        1.917587              3            0   6.546647  -0.564344   \n",
      "2018-01-05        1.933171              4            0   5.535736   8.138699   \n",
      "...                    ...            ...          ...        ...        ...   \n",
      "2019-12-27        1.879245              4            0  11.482261 -16.988071   \n",
      "2019-12-28        1.677568              5            1 -10.329821 -20.684155   \n",
      "2019-12-29        1.567480              6            1  12.694422 -21.899737   \n",
      "2019-12-30        1.895104              0            0  11.707394 -22.781803   \n",
      "2019-12-31        1.804372              1            0   2.717637 -22.733396   \n",
      "\n",
      "                PCA3      PCA4  \n",
      "date                            \n",
      "2018-01-01  2.984528 -6.095298  \n",
      "2018-01-02  2.874446 -4.333908  \n",
      "2018-01-03  1.930820 -2.179197  \n",
      "2018-01-04 -0.337029  0.542584  \n",
      "2018-01-05 -3.315116 -1.744549  \n",
      "...              ...       ...  \n",
      "2019-12-27  4.702981 -5.918441  \n",
      "2019-12-28  4.911564 -7.548898  \n",
      "2019-12-29  6.649382 -7.248819  \n",
      "2019-12-30  7.116637 -7.835662  \n",
      "2019-12-31  6.791508 -8.519509  \n",
      "\n",
      "[730 rows x 15 columns]\n"
     ]
    }
   ],
   "source": [
    "#cogemos el dataset trabajado anteriormente con los datos mergeados y habiendo hecho una reducción de variables\n",
    "url_fichero_mercscpca = './DatosMergeadosBarcelona_ConSeleccionCaract_PCA.csv'\n",
    "dfMergeadoSelCaractPCA = pd.read_csv(url_fichero_mercscpca)\n",
    "dfMergeadoSelCaractPCA = dfMergeadoSelCaractPCA.set_index('date')\n",
    "print(dfMergeadoSelCaractPCA.columns)\n",
    "print(dfMergeadoSelCaractPCA)"
   ]
  },
  {
   "cell_type": "markdown",
   "metadata": {},
   "source": [
    "## 2.1- Evaluación de los algoritmos\n",
    "### Dataset de validación de división (Split-out)\n",
    "**Dejaremos 80-20, preparado para CV de 10-folds** \n",
    "\n",
    "Vamos a separar el dataset en un 80 (train) - 20 (validation). Con el de 80 (train) haremos validación cruzada, y con el de 20 haremos la validación final.\n"
   ]
  },
  {
   "cell_type": "code",
   "execution_count": 13,
   "metadata": {},
   "outputs": [
    {
     "name": "stdout",
     "output_type": "stream",
     "text": [
      "X_Train_2:  (584, 12)\n",
      "X_Validation_2:  (146, 12)\n"
     ]
    }
   ],
   "source": [
    "array2 = dfMergeadoSelCaractPCA.drop(columns='season_name').values\n",
    "X_2 = array2[:,2:]\n",
    "y = array2[:,1]\n",
    "validation_size = 0.20\n",
    "seed = 7\n",
    "X_train_2, X_validation_2, y_train_2, y_validation_2 = train_test_split(X_2, y, test_size=validation_size, random_state=seed)\n",
    "print('X_Train_2: ', X_train_2.shape)\n",
    "print('X_Validation_2: ', X_validation_2.shape)"
   ]
  },
  {
   "cell_type": "markdown",
   "metadata": {},
   "source": [
    "Igualmente vamos a probar los siguientes algoritmos de clasificación:\n",
    "\n",
    "- Regresión lineal (LR)\n",
    "- Regularización de Regresión Lasso (L1)(LASSO)\n",
    "- Regularización de Regresión ElasticNet (EN)\n",
    "- k-vecinos más cercanos (KNN)\n",
    "- Árboles de decisión de regresión (CART)\n",
    "- Regresión de vectores de soporte (SVR)\n",
    "\n",
    "Usaremos la validación cruzada de nuevo probando con diversos nº de folds entre 3 y 10 y mediremos la precisión de los algoritmos mediante la métrica 'neg_mean_squared_error'\n",
    "\n",
    "**Inicialmente vamos a probar los algoritmos sobre los datos sin ningún preprocesamiento: no les hemos estandarizado ni reescalado.**"
   ]
  },
  {
   "cell_type": "code",
   "execution_count": 14,
   "metadata": {},
   "outputs": [
    {
     "name": "stdout",
     "output_type": "stream",
     "text": [
      "\u001b[1mPrecisiones con 3 splits\u001b[0m\n",
      "LR: -32.486933 (2.230390)\n",
      "LASSO: -34.830200 (2.067892)\n",
      "EN: -34.792652 (1.899781)\n",
      "KNN: -34.712938 (0.895745)\n",
      "CART: -53.757939 (3.283069)\n",
      "SVR: -38.388163 (2.997456)\n",
      "--------------------------\n",
      "\u001b[1mPrecisiones con 5 splits\u001b[0m\n",
      "LR: -32.714583 (4.222740)\n",
      "LASSO: -34.745991 (3.190414)\n",
      "EN: -34.634758 (3.249476)\n",
      "KNN: -36.032861 (2.511026)\n",
      "CART: -51.292347 (4.641454)\n",
      "SVR: -38.316852 (3.368440)\n",
      "--------------------------\n",
      "\u001b[1mPrecisiones con 7 splits\u001b[0m\n",
      "LR: -32.229033 (6.004060)\n",
      "LASSO: -34.382622 (5.225770)\n",
      "EN: -34.268984 (5.292587)\n",
      "KNN: -35.314490 (2.855266)\n",
      "CART: -60.228410 (7.469017)\n",
      "SVR: -38.445988 (6.983011)\n",
      "--------------------------\n",
      "\u001b[1mPrecisiones con 10 splits\u001b[0m\n",
      "LR: -32.401561 (6.122571)\n",
      "LASSO: -34.433959 (5.104582)\n",
      "EN: -34.300412 (5.169516)\n",
      "KNN: -35.892004 (5.372318)\n",
      "CART: -54.333931 (10.427382)\n",
      "SVR: -38.305435 (5.478330)\n",
      "--------------------------\n"
     ]
    }
   ],
   "source": [
    "## Algoritmos de control/Test puntual. Usaremos 6 tipos:\n",
    "models = []\n",
    "models.append(('LR', LinearRegression()))\n",
    "models.append(('LASSO', Lasso()))\n",
    "models.append(('EN', ElasticNet()))\n",
    "models.append(('KNN', KNeighborsRegressor()))\n",
    "models.append(('CART', DecisionTreeRegressor()))\n",
    "models.append(('SVR', SVR(gamma='scale')))\n",
    "\n",
    "#En un diccionario 'allresults' vamos guardando los resultados de los modelos para los diversos cv con 3,5,7 y 10 folds\n",
    "\n",
    "allresults = {}\n",
    "names = []\n",
    "for nsplits in (3,5,7,10):\n",
    "    print('\\033[1m' + 'Precisiones con %d splits' % nsplits + '\\033[0m')\n",
    "    results = []\n",
    "    for name, model in models:\n",
    "        kfold = KFold(n_splits=nsplits, shuffle=True, random_state=seed)\n",
    "        cv_results = cross_val_score(model, X_train_2, y_train_2, cv=kfold, scoring='neg_mean_squared_error')\n",
    "        results.append(cv_results)\n",
    "        names.append(name)\n",
    "        msg = \"%s: %f (%f)\" % (name, cv_results.mean(), cv_results.std())\n",
    "        print(msg)\n",
    "    print('--------------------------')\n",
    "    allresults[nsplits] = results"
   ]
  },
  {
   "cell_type": "markdown",
   "metadata": {},
   "source": [
    "**Trabajemos ahora con una estandarización para revisar su capacidad utilizando una copia estandarizada de los datos.**\n",
    "\n",
    "### Estandarización del dataset"
   ]
  },
  {
   "cell_type": "code",
   "execution_count": 15,
   "metadata": {},
   "outputs": [
    {
     "name": "stdout",
     "output_type": "stream",
     "text": [
      "\u001b[1mPrecisiones con 3 splits\u001b[0m\n",
      "ScLR: -32.486933 (2.230390)\n",
      "ScLASSO: -35.363126 (3.149906)\n",
      "ScEN: -34.023851 (2.652748)\n",
      "ScKNN: -34.484655 (0.810194)\n",
      "ScCART: -53.691399 (3.235229)\n",
      "ScSVR: -32.201351 (2.392947)\n",
      "--------------------------\n",
      "\u001b[1mPrecisiones con 5 splits\u001b[0m\n",
      "ScLR: -32.714583 (4.222740)\n",
      "ScLASSO: -35.180265 (3.354934)\n",
      "ScEN: -34.215547 (3.295573)\n",
      "ScKNN: -33.656374 (3.167453)\n",
      "ScCART: -48.509348 (5.514172)\n",
      "ScSVR: -32.089110 (3.386701)\n",
      "--------------------------\n",
      "\u001b[1mPrecisiones con 7 splits\u001b[0m\n",
      "ScLR: -32.229033 (6.004060)\n",
      "ScLASSO: -35.147903 (6.422138)\n",
      "ScEN: -34.035140 (6.167514)\n",
      "ScKNN: -33.220345 (4.493090)\n",
      "ScCART: -58.011695 (7.224727)\n",
      "ScSVR: -31.646276 (5.474756)\n",
      "--------------------------\n",
      "\u001b[1mPrecisiones con 10 splits\u001b[0m\n",
      "ScLR: -32.401561 (6.122571)\n",
      "ScLASSO: -35.235282 (4.894941)\n",
      "ScEN: -34.148671 (4.957487)\n",
      "ScKNN: -32.886946 (4.400933)\n",
      "ScCART: -57.973708 (13.132417)\n",
      "ScSVR: -31.757653 (5.863129)\n",
      "--------------------------\n"
     ]
    }
   ],
   "source": [
    "# Estandarización del dataset\n",
    "pipelines = []\n",
    "pipelines.append(('ScLR', Pipeline([('Scaler', StandardScaler()),('LR', LinearRegression())])))\n",
    "pipelines.append(('ScLASSO', Pipeline([('Scaler', StandardScaler()),('LASSO', Lasso())])))\n",
    "pipelines.append(('ScEN', Pipeline([('Scaler', StandardScaler()),('EN', ElasticNet())])))\n",
    "pipelines.append(('ScKNN', Pipeline([('Scaler', StandardScaler()),('KNN', KNeighborsRegressor())])))\n",
    "pipelines.append(('ScCART', Pipeline([('Scaler', StandardScaler()),('CART', DecisionTreeRegressor())])))\n",
    "pipelines.append(('ScSVR', Pipeline([('Scaler', StandardScaler()),('SVR', SVR(gamma='scale'))])))\n",
    "\n",
    "allresults = {}\n",
    "names = []\n",
    "for nsplits in (3,5,7,10):\n",
    "    print('\\033[1m' + 'Precisiones con %d splits' % nsplits + '\\033[0m')\n",
    "    results = []\n",
    "    for name, model in pipelines:\n",
    "        kfold = KFold(n_splits=nsplits, shuffle=True, random_state=seed)\n",
    "        cv_results = cross_val_score(model, X_train_2, y_train_2, cv=kfold, scoring='neg_mean_squared_error')\n",
    "        results.append(cv_results)\n",
    "        names.append(name)\n",
    "        msg = \"%s: %f (%f)\" % (name, cv_results.mean(), cv_results.std())\n",
    "        print(msg)\n",
    "    print('--------------------------')\n",
    "    allresults[nsplits] = results"
   ]
  },
  {
   "cell_type": "markdown",
   "metadata": {},
   "source": [
    "**Finalmente revisamos cómo funciona si usamos una copia de los datos reescalados**\n",
    "\n",
    "### Reescalado del dataset (entre 0 y 1)"
   ]
  },
  {
   "cell_type": "code",
   "execution_count": 16,
   "metadata": {},
   "outputs": [
    {
     "name": "stdout",
     "output_type": "stream",
     "text": [
      "\u001b[1mPrecisiones con 3 splits\u001b[0m\n",
      "mMLR: -32.486933 (2.230390)\n",
      "mMLASSO: -38.218334 (3.175546)\n",
      "mMEN: -38.022774 (3.151915)\n",
      "mMKNN: -34.815485 (3.506034)\n",
      "mMCART: -54.394720 (2.777054)\n",
      "mMSVR: -32.639077 (2.516532)\n",
      "--------------------------\n",
      "\u001b[1mPrecisiones con 5 splits\u001b[0m\n",
      "mMLR: -32.714583 (4.222740)\n",
      "mMLASSO: -38.176349 (3.322022)\n",
      "mMEN: -38.004996 (3.335112)\n",
      "mMKNN: -35.210636 (5.361535)\n",
      "mMCART: -46.862748 (3.847228)\n",
      "mMSVR: -32.790269 (4.343769)\n",
      "--------------------------\n",
      "\u001b[1mPrecisiones con 7 splits\u001b[0m\n",
      "mMLR: -32.229033 (6.004060)\n",
      "mMLASSO: -38.184250 (6.463941)\n",
      "mMEN: -37.989790 (6.472935)\n",
      "mMKNN: -34.563678 (6.759386)\n",
      "mMCART: -58.085016 (7.240083)\n",
      "mMSVR: -32.285659 (6.219067)\n",
      "--------------------------\n",
      "\u001b[1mPrecisiones con 10 splits\u001b[0m\n",
      "mMLR: -32.401561 (6.122571)\n",
      "mMLASSO: -38.180183 (4.940528)\n",
      "mMEN: -38.009668 (4.928722)\n",
      "mMKNN: -34.725877 (7.041861)\n",
      "mMCART: -54.259080 (9.232230)\n",
      "mMSVR: -32.583979 (6.107023)\n",
      "--------------------------\n"
     ]
    }
   ],
   "source": [
    "# Reescalado del dataset\n",
    "pipelines = []\n",
    "pipelines.append(('mMLR', Pipeline([('Scaler', MinMaxScaler()),('LR', LinearRegression())])))\n",
    "pipelines.append(('mMLASSO', Pipeline([('Scaler', MinMaxScaler()),('LASSO', Lasso())])))\n",
    "pipelines.append(('mMEN', Pipeline([('Scaler', MinMaxScaler()),('EN', ElasticNet())])))\n",
    "pipelines.append(('mMKNN', Pipeline([('Scaler', MinMaxScaler()),('KNN', KNeighborsRegressor())])))\n",
    "pipelines.append(('mMCART', Pipeline([('Scaler', MinMaxScaler()),('CART', DecisionTreeRegressor())])))\n",
    "pipelines.append(('mMSVR', Pipeline([('Scaler', MinMaxScaler()),('SVR', SVR(gamma='scale'))])))\n",
    "\n",
    "allresults = {}\n",
    "names = []\n",
    "for nsplits in (3,5,7,10):\n",
    "    print('\\033[1m' + 'Precisiones con %d splits' % nsplits + '\\033[0m')\n",
    "    results = []\n",
    "    for name, model in pipelines:\n",
    "        kfold = KFold(n_splits=nsplits, shuffle=True, random_state=seed)\n",
    "        cv_results = cross_val_score(model, X_train_2, y_train_2, cv=kfold, scoring='neg_mean_squared_error')\n",
    "        results.append(cv_results)\n",
    "        names.append(name)\n",
    "        msg = \"%s: %f (%f)\" % (name, cv_results.mean(), cv_results.std())\n",
    "        print(msg)\n",
    "    print('--------------------------')\n",
    "    allresults[nsplits] = results"
   ]
  },
  {
   "cell_type": "markdown",
   "metadata": {},
   "source": [
    "**Ninguno de todos estos valores es mejor que los obtenidos con los datos con la selección de variables para NO2**"
   ]
  },
  {
   "cell_type": "markdown",
   "metadata": {},
   "source": [
    "## 2.2- Ensembles (Conjuntos)\n",
    "\n",
    "Podemos probar los mismos ensembles de antes, aunque ya imaginamos que no obtendremos resultados mejores"
   ]
  },
  {
   "cell_type": "code",
   "execution_count": 17,
   "metadata": {},
   "outputs": [
    {
     "name": "stdout",
     "output_type": "stream",
     "text": [
      "\u001b[1mPrecisiones con 3 splits\u001b[0m\n",
      "AB: -31.924991 (1.402258)\n",
      "GBM: -30.236419 (1.468417)\n",
      "RF: -31.047117 (1.244929)\n",
      "ET: -29.485666 (1.215095)\n",
      "--------------------------\n",
      "\u001b[1mPrecisiones con 5 splits\u001b[0m\n",
      "AB: -31.633098 (2.545163)\n",
      "GBM: -29.340000 (1.265613)\n",
      "RF: -29.950785 (3.720791)\n",
      "ET: -29.429978 (3.082316)\n",
      "--------------------------\n",
      "\u001b[1mPrecisiones con 7 splits\u001b[0m\n",
      "AB: -30.856967 (4.860487)\n",
      "GBM: -29.581560 (3.952497)\n",
      "RF: -30.275073 (4.508046)\n",
      "ET: -28.828302 (3.884509)\n",
      "--------------------------\n",
      "\u001b[1mPrecisiones con 10 splits\u001b[0m\n",
      "AB: -31.402106 (5.187750)\n",
      "GBM: -29.074105 (4.729122)\n",
      "RF: -29.657425 (5.049647)\n",
      "ET: -29.087437 (3.396388)\n",
      "--------------------------\n"
     ]
    }
   ],
   "source": [
    "#inicialmente probamos con los datos sin escalar\n",
    "\n",
    "ensembles = []\n",
    "ensembles.append(('AB', AdaBoostRegressor()))\n",
    "ensembles.append(('GBM', GradientBoostingRegressor()))\n",
    "ensembles.append(('RF', RandomForestRegressor(n_estimators=100)))\n",
    "ensembles.append(('ET', ExtraTreesRegressor(n_estimators=100)))\n",
    "\n",
    "allresults = {}\n",
    "names = []\n",
    "for nsplits in (3,5,7,10):\n",
    "    print('\\033[1m' + 'Precisiones con %d splits' % nsplits + '\\033[0m')\n",
    "    results = []\n",
    "    for name, model in ensembles:\n",
    "        kfold = KFold(n_splits=nsplits, shuffle=True, random_state=seed)\n",
    "        cv_results = cross_val_score(model, X_train_2, y_train_2, cv=kfold, scoring='neg_mean_squared_error')\n",
    "        results.append(cv_results)\n",
    "        names.append(name)\n",
    "        msg = \"%s: %f (%f)\" % (name, cv_results.mean(), cv_results.std())\n",
    "        print(msg)\n",
    "    print('--------------------------')\n",
    "    allresults[nsplits] = results"
   ]
  },
  {
   "cell_type": "code",
   "execution_count": 18,
   "metadata": {},
   "outputs": [
    {
     "name": "stdout",
     "output_type": "stream",
     "text": [
      "\u001b[1mPrecisiones con 3 splits\u001b[0m\n",
      "ScaledAB: -31.432438 (1.920221)\n",
      "ScaledGBM: -30.258309 (1.490103)\n",
      "ScaledRF: -30.473467 (1.571236)\n",
      "ScaledET: -29.173288 (1.869365)\n",
      "--------------------------\n",
      "\u001b[1mPrecisiones con 5 splits\u001b[0m\n",
      "ScaledAB: -31.751332 (2.942185)\n",
      "ScaledGBM: -29.374186 (1.342089)\n",
      "ScaledRF: -30.186607 (3.043332)\n",
      "ScaledET: -29.459074 (3.385358)\n",
      "--------------------------\n",
      "\u001b[1mPrecisiones con 7 splits\u001b[0m\n",
      "ScaledAB: -31.332756 (5.172802)\n",
      "ScaledGBM: -29.598632 (3.927217)\n",
      "ScaledRF: -29.362131 (4.223491)\n",
      "ScaledET: -29.167074 (4.433483)\n",
      "--------------------------\n",
      "\u001b[1mPrecisiones con 10 splits\u001b[0m\n",
      "ScaledAB: -30.941629 (3.885659)\n",
      "ScaledGBM: -29.003502 (4.729930)\n",
      "ScaledRF: -29.921479 (5.389100)\n",
      "ScaledET: -29.193060 (3.959111)\n",
      "--------------------------\n"
     ]
    }
   ],
   "source": [
    "#Ahora probamos estandarizando los datos\n",
    "\n",
    "ensembles = []\n",
    "ensembles.append(('ScaledAB', Pipeline([('Scaler', StandardScaler()),('AB', AdaBoostRegressor())])))\n",
    "ensembles.append(('ScaledGBM', Pipeline([('Scaler', StandardScaler()),('GBM', GradientBoostingRegressor())])))\n",
    "ensembles.append(('ScaledRF', Pipeline([('Scaler', StandardScaler()),('RF', RandomForestRegressor(n_estimators=100))])))\n",
    "ensembles.append(('ScaledET', Pipeline([('Scaler', StandardScaler()),('ET', ExtraTreesRegressor(n_estimators=100))])))\n",
    "\n",
    "allresults = {}\n",
    "names = []\n",
    "for nsplits in (3,5,7,10):\n",
    "    print('\\033[1m' + 'Precisiones con %d splits' % nsplits + '\\033[0m')\n",
    "    results = []\n",
    "    for name, model in ensembles:\n",
    "        kfold = KFold(n_splits=nsplits, shuffle=True, random_state=seed)\n",
    "        cv_results = cross_val_score(model, X_train_2, y_train_2, cv=kfold, scoring='neg_mean_squared_error')\n",
    "        results.append(cv_results)\n",
    "        names.append(name)\n",
    "        msg = \"%s: %f (%f)\" % (name, cv_results.mean(), cv_results.std())\n",
    "        print(msg)\n",
    "    print('--------------------------')\n",
    "    allresults[nsplits] = results"
   ]
  },
  {
   "cell_type": "markdown",
   "metadata": {},
   "source": [
    "Efectivamente no conseguimos mejores resultados que con la anterior selección de características. Por tanto:\n",
    "\n",
    "## Conclusión:\n",
    "**El mejor modelo obtenido sigue siendo el ensemble ExtraTreesRegressor (ET) con validación cruzada de 10 folds, habiendo realizado una selección de 4 características y con los datos estandarizados, obteniendo un error cuadrático medio negativo de -27,652**"
   ]
  },
  {
   "cell_type": "markdown",
   "metadata": {},
   "source": [
    "---------------------------------------------------------------------------------------------------------------------\n",
    "\n",
    "\n",
    "## 3) Carga del dataset mergeado trabajado SIN selección de características para NO2\n",
    "\n",
    "Ahora vamos a realizar el mismo estudio pero cogiendo el dataset trabajado sin selección de características, para comprobar si los resultados son mejores o peores\n"
   ]
  },
  {
   "cell_type": "code",
   "execution_count": 19,
   "metadata": {},
   "outputs": [
    {
     "name": "stdout",
     "output_type": "stream",
     "text": [
      "Index(['pm10', 'no2', 'year', 'month', 'day', 'tmed', 'prec', 'tmin', 'tmax',\n",
      "       'dir', 'velmedia', 'racha', 'sol', 'presmax', 'presmin', 'week',\n",
      "       'season', 'season_name', 'estado_trafico', 'diadelasemana',\n",
      "       'findesemana'],\n",
      "      dtype='object')\n",
      "                 pm10        no2  year  month  day  tmed  prec  tmin  tmax  \\\n",
      "date                                                                         \n",
      "2018-01-01  10.000000  24.000000  2018      1    1  12.8   0.0  10.2  10.2   \n",
      "2018-01-02  11.000000  10.000000  2018      1    2  14.6   0.0  11.4  11.4   \n",
      "2018-01-03  10.000000   7.000000  2018      1    3  17.9   0.0  14.0  14.0   \n",
      "2018-01-04  11.000000  14.000000  2018      1    4  19.2   0.0  16.4  16.4   \n",
      "2018-01-05  10.000000  20.000000  2018      1    5  16.4   0.0  13.7  13.7   \n",
      "...               ...        ...   ...    ...  ...   ...   ...   ...   ...   \n",
      "2019-12-27  16.000000  18.000000  2019     12   27  12.0   0.0   8.5   8.5   \n",
      "2019-12-28  19.000000  16.000000  2019     12   28  11.0   0.0   6.6   6.6   \n",
      "2019-12-29  23.000000  17.641379  2019     12   29  12.3   0.0  10.2  10.2   \n",
      "2019-12-30  23.712692  17.641379  2019     12   30  11.6   0.0   8.8   8.8   \n",
      "2019-12-31  23.712692  15.000000  2019     12   31  10.8   0.0   7.6   7.6   \n",
      "\n",
      "             dir  ...  racha  sol  presmax  presmin  week  season  \\\n",
      "date              ...                                               \n",
      "2018-01-01  31.0  ...   18.1  5.1   1027.2   1017.9     1       1   \n",
      "2018-01-02  30.0  ...   10.3  3.1   1025.4   1022.2     1       1   \n",
      "2018-01-03  31.0  ...   18.3  1.9   1023.0   1018.7     1       1   \n",
      "2018-01-04  31.0  ...   20.0  5.9   1019.0   1015.1     1       1   \n",
      "2018-01-05  30.0  ...   13.3  6.4   1015.2   1004.6     1       1   \n",
      "...          ...  ...    ...  ...      ...      ...   ...     ...   \n",
      "2019-12-27  35.0  ...    8.1  5.1   1030.0   1026.3    52       1   \n",
      "2019-12-28  13.0  ...    5.8  5.2   1032.1   1028.0    52       1   \n",
      "2019-12-29  36.0  ...    4.2  0.1   1033.1   1030.3    52       1   \n",
      "2019-12-30  35.0  ...    6.1  0.7   1033.9   1031.2     1       1   \n",
      "2019-12-31  26.0  ...    6.7  1.8   1033.8   1030.8     1       1   \n",
      "\n",
      "            season_name estado_trafico  diadelasemana  findesemana  \n",
      "date                                                                \n",
      "2018-01-01       Winter       1.501611              0            0  \n",
      "2018-01-02       Winter       1.855361              1            0  \n",
      "2018-01-03       Winter       1.914663              2            0  \n",
      "2018-01-04       Winter       1.917587              3            0  \n",
      "2018-01-05       Winter       1.933171              4            0  \n",
      "...                 ...            ...            ...          ...  \n",
      "2019-12-27       Winter       1.879245              4            0  \n",
      "2019-12-28       Winter       1.677568              5            1  \n",
      "2019-12-29       Winter       1.567480              6            1  \n",
      "2019-12-30       Winter       1.895104              0            0  \n",
      "2019-12-31       Winter       1.804372              1            0  \n",
      "\n",
      "[730 rows x 21 columns]\n"
     ]
    }
   ],
   "source": [
    "#cogemos el dataset trabajado anteriormente con los datos mergeados sin haber hecho una reducción de variables\n",
    "url_fichero_merssc = './DatosMergeadosBarcelona.csv'\n",
    "dfMergeado = pd.read_csv(url_fichero_merssc)\n",
    "dfMergeado = dfMergeado.set_index('date')\n",
    "print(dfMergeado.columns)\n",
    "print(dfMergeado)"
   ]
  },
  {
   "cell_type": "markdown",
   "metadata": {},
   "source": [
    "## 3.1- Evaluación de los algoritmos\n",
    "### Dataset de validación de división (Split-out)\n",
    "**Dejaremos 80-20, preparado para CV de 10-folds** \n",
    "\n",
    "Vamos a separar el dataset en un 80 (train) - 20 (validation). Con el de 80 (train) haremos validación cruzada, y con el de 20 haremos la validación final.\n"
   ]
  },
  {
   "cell_type": "code",
   "execution_count": 20,
   "metadata": {},
   "outputs": [
    {
     "name": "stdout",
     "output_type": "stream",
     "text": [
      "X_Train_3:  (584, 18)\n",
      "X_Validation_3:  (146, 18)\n"
     ]
    }
   ],
   "source": [
    "array3 = dfMergeado.drop(columns='season_name').values\n",
    "X_3 = array3[:,2:]\n",
    "y = array3[:,1]\n",
    "validation_size = 0.20\n",
    "seed = 7\n",
    "X_train_3, X_validation_3, y_train_3, y_validation_3 = train_test_split(X_3, y, test_size=validation_size, random_state=seed)\n",
    "print('X_Train_3: ', X_train_3.shape)\n",
    "print('X_Validation_3: ', X_validation_3.shape)"
   ]
  },
  {
   "cell_type": "markdown",
   "metadata": {},
   "source": [
    "Igualmente vamos a probar los siguientes algoritmos de clasificación:\n",
    "\n",
    "- Regresión lineal (LR)\n",
    "- Regularización de Regresión Lasso (L1)(LASSO)\n",
    "- Regularización de Regresión ElasticNet (EN)\n",
    "- k-vecinos más cercanos (KNN)\n",
    "- Árboles de decisión de regresión (CART)\n",
    "- Regresión de vectores de soporte (SVR)\n",
    "\n",
    "Usaremos la validación cruzada de nuevo probando con diversos nº de folds entre 3 y 10 y mediremos la precisión de los algoritmos mediante la métrica 'neg_mean_squared_error'\n",
    "\n",
    "**Inicialmente vamos a probar los algoritmos sobre los datos sin ningún preprocesamiento: no les hemos estandarizado ni reescalado.**"
   ]
  },
  {
   "cell_type": "code",
   "execution_count": 21,
   "metadata": {},
   "outputs": [
    {
     "name": "stdout",
     "output_type": "stream",
     "text": [
      "\u001b[1mPrecisiones con 3 splits\u001b[0m\n",
      "LR: -30.470708 (3.505067)\n",
      "LASSO: -32.274177 (2.115105)\n",
      "EN: -32.162812 (2.269496)\n",
      "KNN: -34.458688 (1.288787)\n",
      "CART: -59.014079 (5.557180)\n",
      "SVR: -38.383548 (2.997806)\n",
      "--------------------------\n",
      "\u001b[1mPrecisiones con 5 splits\u001b[0m\n",
      "LR: -30.808948 (3.802732)\n",
      "LASSO: -32.353415 (2.873446)\n",
      "EN: -32.103753 (2.760849)\n",
      "KNN: -36.720589 (2.175997)\n",
      "CART: -64.637835 (5.164110)\n",
      "SVR: -38.313478 (3.371803)\n",
      "--------------------------\n",
      "\u001b[1mPrecisiones con 7 splits\u001b[0m\n",
      "LR: -30.176413 (6.090606)\n",
      "LASSO: -31.836327 (4.930501)\n",
      "EN: -31.583026 (4.886811)\n",
      "KNN: -35.147712 (3.469404)\n",
      "CART: -53.517865 (8.546307)\n",
      "SVR: -38.440208 (6.986264)\n",
      "--------------------------\n",
      "\u001b[1mPrecisiones con 10 splits\u001b[0m\n",
      "LR: -30.340353 (6.099222)\n",
      "LASSO: -31.863863 (4.606054)\n",
      "EN: -31.635839 (4.629844)\n",
      "KNN: -35.853327 (5.223230)\n",
      "CART: -53.492851 (5.661352)\n",
      "SVR: -38.299641 (5.480236)\n",
      "--------------------------\n"
     ]
    }
   ],
   "source": [
    "## Algoritmos de control/Test puntual. Usaremos 6 tipos:\n",
    "models = []\n",
    "models.append(('LR', LinearRegression()))\n",
    "models.append(('LASSO', Lasso()))\n",
    "models.append(('EN', ElasticNet()))\n",
    "models.append(('KNN', KNeighborsRegressor()))\n",
    "models.append(('CART', DecisionTreeRegressor()))\n",
    "models.append(('SVR', SVR(gamma='scale')))\n",
    "\n",
    "#En un diccionario 'allresults' vamos guardando los resultados de los modelos para los diversos cv con 3,5,7 y 10 folds\n",
    "\n",
    "allresults = {}\n",
    "names = []\n",
    "for nsplits in (3,5,7,10):\n",
    "    print('\\033[1m' + 'Precisiones con %d splits' % nsplits + '\\033[0m')\n",
    "    results = []\n",
    "    for name, model in models:\n",
    "        kfold = KFold(n_splits=nsplits, shuffle=True, random_state=seed)\n",
    "        cv_results = cross_val_score(model, X_train_3, y_train_3, cv=kfold, scoring='neg_mean_squared_error')\n",
    "        results.append(cv_results)\n",
    "        names.append(name)\n",
    "        msg = \"%s: %f (%f)\" % (name, cv_results.mean(), cv_results.std())\n",
    "        print(msg)\n",
    "    print('--------------------------')\n",
    "    allresults[nsplits] = results"
   ]
  },
  {
   "cell_type": "markdown",
   "metadata": {},
   "source": [
    "**Trabajemos ahora con una estandarización para revisar su capacidad utilizando una copia estandarizada de los datos**.\n",
    "\n",
    "### Estandarización del dataset"
   ]
  },
  {
   "cell_type": "code",
   "execution_count": 22,
   "metadata": {},
   "outputs": [
    {
     "name": "stdout",
     "output_type": "stream",
     "text": [
      "\u001b[1mPrecisiones con 3 splits\u001b[0m\n",
      "ScLR: -30.470708 (3.505067)\n",
      "ScLASSO: -33.815058 (2.967873)\n",
      "ScEN: -31.753290 (2.464381)\n",
      "ScKNN: -31.752318 (1.733634)\n",
      "ScCART: -61.760917 (7.186973)\n",
      "ScSVR: -30.416231 (2.268180)\n",
      "--------------------------\n",
      "\u001b[1mPrecisiones con 5 splits\u001b[0m\n",
      "ScLR: -30.808948 (3.802732)\n",
      "ScLASSO: -33.950611 (3.320366)\n",
      "ScEN: -32.087473 (3.346676)\n",
      "ScKNN: -32.474782 (3.259128)\n",
      "ScCART: -60.888047 (6.736833)\n",
      "ScSVR: -30.311637 (3.149990)\n",
      "--------------------------\n",
      "\u001b[1mPrecisiones con 7 splits\u001b[0m\n",
      "ScLR: -30.176413 (6.090606)\n",
      "ScLASSO: -33.653898 (6.274859)\n",
      "ScEN: -31.798611 (5.838540)\n",
      "ScKNN: -31.529595 (5.915912)\n",
      "ScCART: -51.788174 (7.847417)\n",
      "ScSVR: -30.050953 (5.734506)\n",
      "--------------------------\n",
      "\u001b[1mPrecisiones con 10 splits\u001b[0m\n",
      "ScLR: -30.340353 (6.099222)\n",
      "ScLASSO: -33.903404 (5.028003)\n",
      "ScEN: -32.008944 (5.206789)\n",
      "ScKNN: -31.879258 (5.721894)\n",
      "ScCART: -56.290072 (6.928898)\n",
      "ScSVR: -30.047197 (6.077982)\n",
      "--------------------------\n"
     ]
    }
   ],
   "source": [
    "# Estandarización del dataset\n",
    "pipelines = []\n",
    "pipelines.append(('ScLR', Pipeline([('Scaler', StandardScaler()),('LR', LinearRegression())])))\n",
    "pipelines.append(('ScLASSO', Pipeline([('Scaler', StandardScaler()),('LASSO', Lasso())])))\n",
    "pipelines.append(('ScEN', Pipeline([('Scaler', StandardScaler()),('EN', ElasticNet())])))\n",
    "pipelines.append(('ScKNN', Pipeline([('Scaler', StandardScaler()),('KNN', KNeighborsRegressor())])))\n",
    "pipelines.append(('ScCART', Pipeline([('Scaler', StandardScaler()),('CART', DecisionTreeRegressor())])))\n",
    "pipelines.append(('ScSVR', Pipeline([('Scaler', StandardScaler()),('SVR', SVR(gamma='scale'))])))\n",
    "\n",
    "allresults = {}\n",
    "names = []\n",
    "for nsplits in (3,5,7,10):\n",
    "    print('\\033[1m' + 'Precisiones con %d splits' % nsplits + '\\033[0m')\n",
    "    results = []\n",
    "    for name, model in pipelines:\n",
    "        kfold = KFold(n_splits=nsplits, shuffle=True, random_state=seed)\n",
    "        cv_results = cross_val_score(model, X_train_3, y_train_3, cv=kfold, scoring='neg_mean_squared_error')\n",
    "        results.append(cv_results)\n",
    "        names.append(name)\n",
    "        msg = \"%s: %f (%f)\" % (name, cv_results.mean(), cv_results.std())\n",
    "        print(msg)\n",
    "    print('--------------------------')\n",
    "    allresults[nsplits] = results"
   ]
  },
  {
   "cell_type": "markdown",
   "metadata": {},
   "source": [
    "**Finalmente revisamos cómo funciona si usamos una copia de los datos reescalados**\n",
    "\n",
    "### Reescalado del dataset (entre 0 y 1)"
   ]
  },
  {
   "cell_type": "code",
   "execution_count": 23,
   "metadata": {},
   "outputs": [
    {
     "name": "stdout",
     "output_type": "stream",
     "text": [
      "\u001b[1mPrecisiones con 3 splits\u001b[0m\n",
      "mMLR: -30.470708 (3.505067)\n",
      "mMLASSO: -38.218334 (3.175546)\n",
      "mMEN: -38.022774 (3.151915)\n",
      "mMKNN: -33.693163 (2.901541)\n",
      "mMCART: -58.158729 (3.222659)\n",
      "mMSVR: -31.066475 (2.512985)\n",
      "--------------------------\n",
      "\u001b[1mPrecisiones con 5 splits\u001b[0m\n",
      "mMLR: -30.808948 (3.802732)\n",
      "mMLASSO: -38.176349 (3.322022)\n",
      "mMEN: -38.004996 (3.335112)\n",
      "mMKNN: -32.034885 (3.138988)\n",
      "mMCART: -60.759503 (3.583162)\n",
      "mMSVR: -31.276744 (3.985368)\n",
      "--------------------------\n",
      "\u001b[1mPrecisiones con 7 splits\u001b[0m\n",
      "mMLR: -30.176413 (6.090606)\n",
      "mMLASSO: -38.184250 (6.463941)\n",
      "mMEN: -37.989790 (6.472935)\n",
      "mMKNN: -32.133154 (4.613478)\n",
      "mMCART: -53.221192 (6.445623)\n",
      "mMSVR: -30.890246 (6.243477)\n",
      "--------------------------\n",
      "\u001b[1mPrecisiones con 10 splits\u001b[0m\n",
      "mMLR: -30.340353 (6.099222)\n",
      "mMLASSO: -38.180183 (4.940528)\n",
      "mMEN: -38.009668 (4.928722)\n",
      "mMKNN: -31.699974 (5.329092)\n",
      "mMCART: -56.539909 (5.556605)\n",
      "mMSVR: -31.138001 (6.312751)\n",
      "--------------------------\n"
     ]
    }
   ],
   "source": [
    "# Reescalado del dataset\n",
    "pipelines = []\n",
    "pipelines.append(('mMLR', Pipeline([('Scaler', MinMaxScaler()),('LR', LinearRegression())])))\n",
    "pipelines.append(('mMLASSO', Pipeline([('Scaler', MinMaxScaler()),('LASSO', Lasso())])))\n",
    "pipelines.append(('mMEN', Pipeline([('Scaler', MinMaxScaler()),('EN', ElasticNet())])))\n",
    "pipelines.append(('mMKNN', Pipeline([('Scaler', MinMaxScaler()),('KNN', KNeighborsRegressor())])))\n",
    "pipelines.append(('mMCART', Pipeline([('Scaler', MinMaxScaler()),('CART', DecisionTreeRegressor())])))\n",
    "pipelines.append(('mMSVR', Pipeline([('Scaler', MinMaxScaler()),('SVR', SVR(gamma='scale'))])))\n",
    "\n",
    "allresults = {}\n",
    "names = []\n",
    "for nsplits in (3,5,7,10):\n",
    "    print('\\033[1m' + 'Precisiones con %d splits' % nsplits + '\\033[0m')\n",
    "    results = []\n",
    "    for name, model in pipelines:\n",
    "        kfold = KFold(n_splits=nsplits, shuffle=True, random_state=seed)\n",
    "        cv_results = cross_val_score(model, X_train_3, y_train_3, cv=kfold, scoring='neg_mean_squared_error')\n",
    "        results.append(cv_results)\n",
    "        names.append(name)\n",
    "        msg = \"%s: %f (%f)\" % (name, cv_results.mean(), cv_results.std())\n",
    "        print(msg)\n",
    "    print('--------------------------')\n",
    "    allresults[nsplits] = results"
   ]
  },
  {
   "cell_type": "markdown",
   "metadata": {},
   "source": [
    "**Ninguno de todos estos valores es mejor que los obtenidos en el primer caso**"
   ]
  },
  {
   "cell_type": "markdown",
   "metadata": {},
   "source": [
    "## 3.2- Ensembles (Conjuntos)\n",
    "\n",
    "Podemos probar los mismos ensembles de antes."
   ]
  },
  {
   "cell_type": "code",
   "execution_count": 24,
   "metadata": {},
   "outputs": [
    {
     "name": "stdout",
     "output_type": "stream",
     "text": [
      "\u001b[1mPrecisiones con 3 splits\u001b[0m\n",
      "AB: -30.323254 (2.139518)\n",
      "GBM: -29.853399 (0.590470)\n",
      "RF: -29.460304 (1.368722)\n",
      "ET: -27.974132 (1.349826)\n",
      "--------------------------\n",
      "\u001b[1mPrecisiones con 5 splits\u001b[0m\n",
      "AB: -31.080641 (2.758827)\n",
      "GBM: -28.649901 (2.195027)\n",
      "RF: -28.919547 (2.924055)\n",
      "ET: -28.490642 (2.845950)\n",
      "--------------------------\n",
      "\u001b[1mPrecisiones con 7 splits\u001b[0m\n",
      "AB: -30.533448 (5.019099)\n",
      "GBM: -28.792935 (4.030486)\n",
      "RF: -28.049783 (4.056667)\n",
      "ET: -27.420478 (4.135152)\n",
      "--------------------------\n",
      "\u001b[1mPrecisiones con 10 splits\u001b[0m\n",
      "AB: -30.598660 (5.534734)\n",
      "GBM: -28.270630 (5.837878)\n",
      "RF: -28.376166 (5.172415)\n",
      "ET: -27.290099 (4.292777)\n",
      "--------------------------\n"
     ]
    }
   ],
   "source": [
    "#inicialmente probamos con los datos sin escalar\n",
    "\n",
    "ensembles = []\n",
    "ensembles.append(('AB', AdaBoostRegressor()))\n",
    "ensembles.append(('GBM', GradientBoostingRegressor()))\n",
    "ensembles.append(('RF', RandomForestRegressor(n_estimators=100)))\n",
    "ensembles.append(('ET', ExtraTreesRegressor(n_estimators=100)))\n",
    "\n",
    "allresults = {}\n",
    "names = []\n",
    "for nsplits in (3,5,7,10):\n",
    "    print('\\033[1m' + 'Precisiones con %d splits' % nsplits + '\\033[0m')\n",
    "    results = []\n",
    "    for name, model in ensembles:\n",
    "        kfold = KFold(n_splits=nsplits, shuffle=True, random_state=seed)\n",
    "        cv_results = cross_val_score(model, X_train_3, y_train_3, cv=kfold, scoring='neg_mean_squared_error')\n",
    "        results.append(cv_results)\n",
    "        names.append(name)\n",
    "        msg = \"%s: %f (%f)\" % (name, cv_results.mean(), cv_results.std())\n",
    "        print(msg)\n",
    "    print('--------------------------')\n",
    "    allresults[nsplits] = results"
   ]
  },
  {
   "cell_type": "code",
   "execution_count": 25,
   "metadata": {},
   "outputs": [
    {
     "name": "stdout",
     "output_type": "stream",
     "text": [
      "\u001b[1mPrecisiones con 3 splits\u001b[0m\n",
      "ScaledAB: -30.851999 (1.984920)\n",
      "ScaledGBM: -29.785120 (0.547136)\n",
      "ScaledRF: -29.137040 (1.584775)\n",
      "ScaledET: -27.558860 (1.511024)\n",
      "--------------------------\n",
      "\u001b[1mPrecisiones con 5 splits\u001b[0m\n",
      "ScaledAB: -30.656349 (3.051512)\n",
      "ScaledGBM: -28.836337 (2.002521)\n",
      "ScaledRF: -28.677393 (3.181101)\n",
      "ScaledET: -28.310753 (2.738732)\n",
      "--------------------------\n",
      "\u001b[1mPrecisiones con 7 splits\u001b[0m\n",
      "ScaledAB: -31.289134 (5.628545)\n",
      "ScaledGBM: -28.770925 (4.000305)\n",
      "ScaledRF: -28.006044 (3.877039)\n",
      "ScaledET: -26.838729 (4.034944)\n",
      "--------------------------\n",
      "\u001b[1mPrecisiones con 10 splits\u001b[0m\n",
      "ScaledAB: -31.384574 (5.878854)\n",
      "ScaledGBM: -28.317572 (5.850629)\n",
      "ScaledRF: -28.113521 (4.694180)\n",
      "ScaledET: -26.714972 (4.046869)\n",
      "--------------------------\n"
     ]
    }
   ],
   "source": [
    "#Ahora probamos estandarizando los datos\n",
    "\n",
    "ensembles = []\n",
    "ensembles.append(('ScaledAB', Pipeline([('Scaler', StandardScaler()),('AB', AdaBoostRegressor())])))\n",
    "ensembles.append(('ScaledGBM', Pipeline([('Scaler', StandardScaler()),('GBM', GradientBoostingRegressor())])))\n",
    "ensembles.append(('ScaledRF', Pipeline([('Scaler', StandardScaler()),('RF', RandomForestRegressor(n_estimators=100))])))\n",
    "ensembles.append(('ScaledET', Pipeline([('Scaler', StandardScaler()),('ET', ExtraTreesRegressor(n_estimators=100))])))\n",
    "\n",
    "allresults = {}\n",
    "names = []\n",
    "for nsplits in (3,5,7,10):\n",
    "    print('\\033[1m' + 'Precisiones con %d splits' % nsplits + '\\033[0m')\n",
    "    results = []\n",
    "    for name, model in ensembles:\n",
    "        kfold = KFold(n_splits=nsplits, shuffle=True, random_state=seed)\n",
    "        cv_results = cross_val_score(model, X_train_3, y_train_3, cv=kfold, scoring='neg_mean_squared_error')\n",
    "        results.append(cv_results)\n",
    "        names.append(name)\n",
    "        msg = \"%s: %f (%f)\" % (name, cv_results.mean(), cv_results.std())\n",
    "        print(msg)\n",
    "    print('--------------------------')\n",
    "    allresults[nsplits] = results"
   ]
  },
  {
   "cell_type": "code",
   "execution_count": 26,
   "metadata": {},
   "outputs": [
    {
     "name": "stdout",
     "output_type": "stream",
     "text": [
      "\u001b[1mPrecisiones con 3 splits\u001b[0m\n",
      "ScaledAB: -30.967196 (2.025448)\n",
      "ScaledGBM: -29.564270 (0.422777)\n",
      "ScaledRF: -29.207776 (1.752515)\n",
      "ScaledET: -27.504746 (1.963513)\n",
      "--------------------------\n",
      "\u001b[1mPrecisiones con 5 splits\u001b[0m\n",
      "ScaledAB: -30.596439 (2.855061)\n",
      "ScaledGBM: -28.667286 (2.028866)\n",
      "ScaledRF: -28.611674 (2.711696)\n",
      "ScaledET: -27.934411 (3.164982)\n",
      "--------------------------\n",
      "\u001b[1mPrecisiones con 7 splits\u001b[0m\n",
      "ScaledAB: -30.687024 (5.892252)\n",
      "ScaledGBM: -28.824244 (3.987896)\n",
      "ScaledRF: -28.026263 (4.254088)\n",
      "ScaledET: -27.194336 (4.492796)\n",
      "--------------------------\n",
      "\u001b[1mPrecisiones con 10 splits\u001b[0m\n",
      "ScaledAB: -30.529094 (5.740159)\n",
      "ScaledGBM: -28.309389 (5.852211)\n",
      "ScaledRF: -28.031845 (4.877340)\n",
      "ScaledET: -27.081634 (3.609266)\n",
      "--------------------------\n"
     ]
    }
   ],
   "source": [
    "#Y probamos finalmente reescalando los datos entre 0 y 1\n",
    "\n",
    "ensembles = []\n",
    "ensembles.append(('ScaledAB', Pipeline([('Scaler', MinMaxScaler()),('AB', AdaBoostRegressor())])))\n",
    "ensembles.append(('ScaledGBM', Pipeline([('Scaler', MinMaxScaler()),('GBM', GradientBoostingRegressor())])))\n",
    "ensembles.append(('ScaledRF', Pipeline([('Scaler', MinMaxScaler()),('RF', RandomForestRegressor(n_estimators=100))])))\n",
    "ensembles.append(('ScaledET', Pipeline([('Scaler', MinMaxScaler()),('ET', ExtraTreesRegressor(n_estimators=100))])))\n",
    "\n",
    "allresults = {}\n",
    "names = []\n",
    "for nsplits in (3,5,7,10):\n",
    "    print('\\033[1m' + 'Precisiones con %d splits' % nsplits + '\\033[0m')\n",
    "    results = []\n",
    "    for name, model in ensembles:\n",
    "        kfold = KFold(n_splits=nsplits, shuffle=True, random_state=seed)\n",
    "        cv_results = cross_val_score(model, X_train_3, y_train_3, cv=kfold, scoring='neg_mean_squared_error')\n",
    "        results.append(cv_results)\n",
    "        names.append(name)\n",
    "        msg = \"%s: %f (%f)\" % (name, cv_results.mean(), cv_results.std())\n",
    "        print(msg)\n",
    "    print('--------------------------')\n",
    "    allresults[nsplits] = results"
   ]
  },
  {
   "cell_type": "markdown",
   "metadata": {},
   "source": [
    "Obtenemos **un mejor valor** con el ET con 10 folds **con los datos estandarizados sin selección de características** que con selección de características. Por tanto:\n",
    "\n",
    "## Conclusión:\n",
    "#### **El mejor modelo obtenido es el ensemble ExtraTreesRegressor (ET) con validación cruzada de 10 folds, sin reducción de características y con los datos estandarizados, obteniendo un error cuadrático medio negativo de -26,715**"
   ]
  },
  {
   "cell_type": "markdown",
   "metadata": {},
   "source": [
    "## 3.3- Tunning del ExtraTreeRegressor\n",
    "Cogiendo de nuevo el dataset sin selección de características, y el modelo ExtraTreesRegressor (ET) con los datos estandarizados, vamos a probar a mejorarlo ajustando su número de Estimadores, para ver si obtenemos mejor puntuación con algún número distinto de 100."
   ]
  },
  {
   "cell_type": "code",
   "execution_count": 27,
   "metadata": {},
   "outputs": [
    {
     "name": "stdout",
     "output_type": "stream",
     "text": [
      "-27.357599 (3.773826) with n_estimators: 50\n",
      "-27.297273 (3.603852) with n_estimators: 100\n",
      "-26.705009 (3.677764) with n_estimators: 150\n",
      "-26.874330 (4.128633) with n_estimators: 200\n",
      "-26.673140 (3.996317) with n_estimators: 250\n",
      "-26.555089 (3.896045) with n_estimators: 300\n",
      "-26.667914 (3.836557) with n_estimators: 350\n",
      "-26.813850 (4.048015) with n_estimators: 400\n"
     ]
    }
   ],
   "source": [
    "for num_estimators in (50,100,150,200,250,300,350,400):\n",
    "    model=Pipeline([('Scaler', StandardScaler()),('ET', ExtraTreesRegressor(n_estimators=num_estimators))])\n",
    "    kfold = KFold(n_splits=10, shuffle=True, random_state=seed)\n",
    "    cv_results = cross_val_score(model, X_train_3, y_train_3, cv=kfold, scoring='neg_mean_squared_error')\n",
    "    print(\"%f (%f) with n_estimators: %r\" % (cv_results.mean(), cv_results.std(), num_estimators))"
   ]
  },
  {
   "cell_type": "markdown",
   "metadata": {},
   "source": [
    "### Mejoramos el modelo con 300 estimadores."
   ]
  },
  {
   "cell_type": "markdown",
   "metadata": {},
   "source": [
    "# 4) Finalizar el modelo\n",
    "## Predicciones sobre el conjunto de datos de validación"
   ]
  },
  {
   "cell_type": "code",
   "execution_count": 28,
   "metadata": {},
   "outputs": [
    {
     "data": {
      "text/plain": [
       "ExtraTreesRegressor(n_estimators=300)"
      ]
     },
     "execution_count": 28,
     "metadata": {},
     "output_type": "execute_result"
    }
   ],
   "source": [
    "## Preparamos el modelo y lo entrenamos sobre el dataset de entrenamiento\n",
    "## cogiendo el dataset sin selección de características\n",
    "\n",
    "array = dfMergeado.drop(columns='season_name').values\n",
    "X = array[:,2:]\n",
    "y = array[:,1]\n",
    "validation_size = 0.20\n",
    "seed = 7\n",
    "X_train, X_validation, y_train, y_validation = train_test_split(X, y, test_size=validation_size, random_state=seed)\n",
    "\n",
    "model = ExtraTreesRegressor(n_estimators=300)\n",
    "model.fit(X_train, y_train)"
   ]
  },
  {
   "cell_type": "code",
   "execution_count": 29,
   "metadata": {},
   "outputs": [
    {
     "name": "stdout",
     "output_type": "stream",
     "text": [
      "27.889160854646835\n"
     ]
    }
   ],
   "source": [
    "### Aplicamos predicciones sobre el dataset de validación y obtenemos su error cuadrático medio\n",
    "\n",
    "predicciones = model.predict(X_validation)\n",
    "print(mean_squared_error(y_validation, predicciones))"
   ]
  },
  {
   "cell_type": "markdown",
   "metadata": {},
   "source": [
    "Vamos a pintar los datos NO2 de validación junto a las predicciones realizadas por nuestro algoritmo"
   ]
  },
  {
   "cell_type": "code",
   "execution_count": 30,
   "metadata": {},
   "outputs": [
    {
     "data": {
      "image/png": "[encoded data removed]",
      "text/plain": [
       "<Figure size 1512x576 with 1 Axes>"
      ]
     },
     "metadata": {
      "needs_background": "light"
     },
     "output_type": "display_data"
    }
   ],
   "source": [
    "plt.figure(figsize=(21, 8))\n",
    "\n",
    "grafica = plt.plot(y_validation,'--r',predicciones,'-og')\n",
    "plt.legend(('Valores validación NO2', 'Predicciones NO2'),\n",
    "           loc='upper right')\n",
    "plt.show;"
   ]
  },
  {
   "cell_type": "code",
   "execution_count": 31,
   "metadata": {},
   "outputs": [],
   "source": [
    "## 5) Guardado del modelo"
   ]
  },
  {
   "cell_type": "code",
   "execution_count": 32,
   "metadata": {},
   "outputs": [
    {
     "data": {
      "text/plain": [
       "ExtraTreesRegressor(n_estimators=300)"
      ]
     },
     "execution_count": 32,
     "metadata": {},
     "output_type": "execute_result"
    }
   ],
   "source": [
    "#Entrenamos el modelo con el dataset completo\n",
    "\n",
    "array = dfMergeado.drop(columns='season_name').values\n",
    "X = array[:,2:]\n",
    "y = array[:,1]\n",
    "\n",
    "model = ExtraTreesRegressor(n_estimators=300)\n",
    "model.fit(X, y)"
   ]
  },
  {
   "cell_type": "code",
   "execution_count": 33,
   "metadata": {},
   "outputs": [
    {
     "data": {
      "text/plain": [
       "['Modelo_finalizado_BarcelonaNO2.sav']"
      ]
     },
     "execution_count": 33,
     "metadata": {},
     "output_type": "execute_result"
    }
   ],
   "source": [
    "#Guardamos el modelo usando la biblioteca Joblib\n",
    "\n",
    "fichero_modeloJoblib = 'Modelo_finalizado_BarcelonaNO2.sav'\n",
    "dump(model, fichero_modeloJoblib)"
   ]
  }
 ],
 "metadata": {
  "kernelspec": {
   "display_name": "Python 3",
   "language": "python",
   "name": "python3"
  },
  "language_info": {
   "codemirror_mode": {
    "name": "ipython",
    "version": 3
   },
   "file_extension": ".py",
   "mimetype": "text/x-python",
   "name": "python",
   "nbconvert_exporter": "python",
   "pygments_lexer": "ipython3",
   "version": "3.8.5"
  }
 },
 "nbformat": 4,
 "nbformat_minor": 4
}
