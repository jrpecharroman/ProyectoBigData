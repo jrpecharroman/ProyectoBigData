{
 "cells": [
  {
   "cell_type": "markdown",
   "metadata": {},
   "source": [
    "# Modelo para predicción PM10 en Barcelona"
   ]
  },
  {
   "cell_type": "markdown",
   "metadata": {},
   "source": [
    "## Preprocesamiento, evaluación de algoritmos, construcción de modelo de predicción"
   ]
  },
  {
   "cell_type": "markdown",
   "metadata": {},
   "source": [
    "Realizamos primero un estudio completo cargando el dataset mergeado trabajado con selección de 5 características, y después lo repetiremos con los datos sin selección de características para comparar."
   ]
  },
  {
   "cell_type": "code",
<<<<<<< HEAD
   "execution_count": null,
   "metadata": {},
   "outputs": [],
   "source": []
=======
   "execution_count": 1,
   "metadata": {},
   "outputs": [],
   "source": [
    "#Importamos las librerías que vamos a usar para los distintos pasos del problema\n",
    "\n",
    "import numpy as np\n",
    "import pandas as pd\n",
    "from numpy import set_printoptions\n",
    "#Visualización\n",
    "from pandas.plotting import scatter_matrix\n",
    "import matplotlib.pyplot as plt\n",
    "import seaborn as sns\n",
    "#Preprocesamiento\n",
    "from sklearn.preprocessing import MinMaxScaler\n",
    "from sklearn.preprocessing import StandardScaler\n",
    "from sklearn.preprocessing import Normalizer\n",
    "from sklearn.preprocessing import Binarizer\n",
    "#Remuestreo\n",
    "from sklearn.model_selection import train_test_split;\n",
    "from sklearn.model_selection import KFold\n",
    "from sklearn.model_selection import cross_val_score\n",
    "#Algoritmos de Regresión Lineal\n",
    "from sklearn.linear_model import LinearRegression\n",
    "from sklearn.linear_model import Lasso\n",
    "from sklearn.linear_model import Ridge\n",
    "from sklearn.linear_model import ElasticNet\n",
    "#Algoritmos de Regresión No Lineal\n",
    "from sklearn.tree import DecisionTreeRegressor\n",
    "from sklearn.neighbors import KNeighborsRegressor\n",
    "from sklearn.svm import SVR\n",
    "#Métricas de evaluación de algoritmos\n",
    "from sklearn import metrics\n",
    "from sklearn.metrics import confusion_matrix\n",
    "from sklearn.metrics import classification_report\n",
    "#Ensamblamiento Regresión\n",
    "from sklearn.ensemble import AdaBoostRegressor\n",
    "from sklearn.ensemble import GradientBoostingRegressor\n",
    "from sklearn.ensemble import RandomForestRegressor\n",
    "from sklearn.ensemble import ExtraTreesRegressor\n",
    "#Tuning\n",
    "from sklearn.model_selection import GridSearchCV\n",
    "from sklearn.model_selection import RandomizedSearchCV\n",
    "#Pipelines\n",
    "from sklearn.pipeline import Pipeline\n",
    "#Metricas\n",
    "from sklearn.metrics import mean_squared_error\n",
    "#Serializar (guardar y cerrar modelo)\n",
    "from joblib import dump\n"
   ]
  },
  {
   "cell_type": "markdown",
   "metadata": {},
   "source": [
    "## 1) Carga del dataset mergeado trabajado CON selección de características para PM10"
   ]
  },
  {
   "cell_type": "code",
   "execution_count": 2,
   "metadata": {},
   "outputs": [
    {
     "name": "stdout",
     "output_type": "stream",
     "text": [
      "Index(['pm10', 'year', 'month', 'day', 'tmed', 'racha', 'sol', 'presmin',\n",
      "       'week', 'season', 'season_name', 'estado_trafico', 'diadelasemana',\n",
      "       'findesemana'],\n",
      "      dtype='object')\n",
      "                 pm10  year  month  day  tmed  racha  sol  presmin  week  \\\n",
      "date                                                                       \n",
      "2018-01-01  10.000000  2018      1    1  12.8   18.1  5.1   1017.9     1   \n",
      "2018-01-02  11.000000  2018      1    2  14.6   10.3  3.1   1022.2     1   \n",
      "2018-01-03  10.000000  2018      1    3  17.9   18.3  1.9   1018.7     1   \n",
      "2018-01-04  11.000000  2018      1    4  19.2   20.0  5.9   1015.1     1   \n",
      "2018-01-05  10.000000  2018      1    5  16.4   13.3  6.4   1004.6     1   \n",
      "...               ...   ...    ...  ...   ...    ...  ...      ...   ...   \n",
      "2019-12-27  16.000000  2019     12   27  12.0    8.1  5.1   1026.3    52   \n",
      "2019-12-28  19.000000  2019     12   28  11.0    5.8  5.2   1028.0    52   \n",
      "2019-12-29  23.000000  2019     12   29  12.3    4.2  0.1   1030.3    52   \n",
      "2019-12-30  23.712692  2019     12   30  11.6    6.1  0.7   1031.2     1   \n",
      "2019-12-31  23.712692  2019     12   31  10.8    6.7  1.8   1030.8     1   \n",
      "\n",
      "            season season_name  estado_trafico  diadelasemana  findesemana  \n",
      "date                                                                        \n",
      "2018-01-01       1      Winter        1.501611              0            0  \n",
      "2018-01-02       1      Winter        1.855361              1            0  \n",
      "2018-01-03       1      Winter        1.914663              2            0  \n",
      "2018-01-04       1      Winter        1.917587              3            0  \n",
      "2018-01-05       1      Winter        1.933171              4            0  \n",
      "...            ...         ...             ...            ...          ...  \n",
      "2019-12-27       1      Winter        1.879245              4            0  \n",
      "2019-12-28       1      Winter        1.677568              5            1  \n",
      "2019-12-29       1      Winter        1.567480              6            1  \n",
      "2019-12-30       1      Winter        1.895104              0            0  \n",
      "2019-12-31       1      Winter        1.804372              1            0  \n",
      "\n",
      "[730 rows x 14 columns]\n"
     ]
    }
   ],
   "source": [
    "#cogemos el dataset trabajado anteriormente con los datos mergeados y habiendo hecho una reducción de variables\n",
    "url_fichero_mercscpm10 = './DatosMergeadosBarcelona_ConSeleccionCaract_ParaPM10.csv'\n",
    "dfMergeadoSelCaractPM10 = pd.read_csv(url_fichero_mercscpm10)\n",
    "dfMergeadoSelCaractPM10 = dfMergeadoSelCaractPM10.set_index('date')\n",
    "print(dfMergeadoSelCaractPM10.columns)\n",
    "print(dfMergeadoSelCaractPM10)"
   ]
  },
  {
   "cell_type": "code",
   "execution_count": 3,
   "metadata": {},
   "outputs": [
    {
     "name": "stdout",
     "output_type": "stream",
     "text": [
      "Index(['pm10', 'tmed', 'racha', 'sol', 'presmin', 'estado_trafico'], dtype='object')\n"
     ]
    }
   ],
   "source": [
    "#Eliminamos todos los campos que no son de meteorología o de tráfico (los que son de fechas)\n",
    "dfMergeadoSelCaractPM10 = dfMergeadoSelCaractPM10.drop(columns=['year','month','day','week','season','season_name','diadelasemana',\n",
    "       'findesemana'])\n",
    "print(dfMergeadoSelCaractPM10.columns)"
   ]
  },
  {
   "cell_type": "markdown",
   "metadata": {},
   "source": [
    "## 1.1- Evaluación de los algoritmos\n",
    "### Dataset de validación de división (Split-out)\n",
    "**Dejaremos 80-20, preparado para CV de 10-folds** \n",
    "\n",
    "Vamos a separar el dataset en un 80 (train) - 20 (validation). Con el de 80 (train) haremos validación cruzada, y con el de 20 haremos la validación final.\n"
   ]
  },
  {
   "cell_type": "code",
   "execution_count": 4,
   "metadata": {},
   "outputs": [
    {
     "name": "stdout",
     "output_type": "stream",
     "text": [
      "X_Train_1:  (584, 5)\n",
      "X_Validation_1:  (146, 5)\n"
     ]
    }
   ],
   "source": [
    "array1 = dfMergeadoSelCaractPM10.values\n",
    "X_1 = array1[:,1:]\n",
    "y = array1[:,0]\n",
    "validation_size = 0.20\n",
    "seed = 7\n",
    "X_train_1, X_validation_1, y_train_1, y_validation_1 = train_test_split(X_1, y, test_size=validation_size, random_state=seed)\n",
    "print('X_Train_1: ', X_train_1.shape)\n",
    "print('X_Validation_1: ', X_validation_1.shape)"
   ]
  },
  {
   "cell_type": "markdown",
   "metadata": {},
   "source": [
    "Vamos a probar los siguientes algoritmos de clasificación:\n",
    "\n",
    "- Regresión lineal (LR)\n",
    "- Regularización de Regresión Lasso (L1)(LASSO)\n",
    "- Regularización de Regresión ElasticNet (EN)\n",
    "- k-vecinos más cercanos (KNN)\n",
    "- Árboles de decisión de regresión (CART)\n",
    "- Regresión de vectores de soporte (SVR)\n",
    "\n",
    "Usaremos una validación cruzada probando con diversos nº de folds entre 3 y 10 (la cantidad de datos que tenemos no es muy grande, y no sabemos bien con cuántos tendremos más precisión) y mediremos la precisión de los algoritmos mediante la métrica 'neg_mean_squared_error'"
   ]
  },
  {
   "cell_type": "markdown",
   "metadata": {},
   "source": [
    "**Inicialmente vamos a probar los algoritmos sobre los datos sin ningún preprocesamiento: no les hemos estandarizado ni reescalado.**"
   ]
  },
  {
   "cell_type": "code",
   "execution_count": 5,
   "metadata": {},
   "outputs": [
    {
     "name": "stdout",
     "output_type": "stream",
     "text": [
      "\u001b[1mPrecisiones con 3 splits\u001b[0m\n",
      "LR: -82.300280 (6.405321)\n",
      "LASSO: -85.542625 (6.348708)\n",
      "EN: -85.416931 (6.411972)\n",
      "KNN: -87.416846 (8.989332)\n",
      "CART: -151.958175 (20.336340)\n",
      "SVR: -98.857962 (6.805024)\n",
      "--------------------------\n",
      "\u001b[1mPrecisiones con 5 splits\u001b[0m\n",
      "LR: -81.880501 (15.469253)\n",
      "LASSO: -84.914173 (17.001188)\n",
      "EN: -84.807784 (17.073346)\n",
      "KNN: -88.771330 (12.912546)\n",
      "CART: -156.861996 (32.134220)\n",
      "SVR: -98.843226 (17.910999)\n",
      "--------------------------\n",
      "\u001b[1mPrecisiones con 7 splits\u001b[0m\n",
      "LR: -82.132102 (21.285544)\n",
      "LASSO: -85.101384 (23.325285)\n",
      "EN: -84.992495 (23.397211)\n",
      "KNN: -91.000966 (24.268355)\n",
      "CART: -142.407355 (25.389671)\n",
      "SVR: -98.807182 (26.302856)\n",
      "--------------------------\n",
      "\u001b[1mPrecisiones con 10 splits\u001b[0m\n",
      "LR: -82.073616 (22.275282)\n",
      "LASSO: -84.793881 (25.288101)\n",
      "EN: -84.700881 (25.288132)\n",
      "KNN: -86.847849 (21.658284)\n",
      "CART: -174.453425 (47.638382)\n",
      "SVR: -98.820679 (27.610155)\n",
      "--------------------------\n"
     ]
    }
   ],
   "source": [
    "## Algoritmos de control/Test puntual. Usaremos 6 tipos:\n",
    "models = []\n",
    "models.append(('LR', LinearRegression()))\n",
    "models.append(('LASSO', Lasso()))\n",
    "models.append(('EN', ElasticNet()))\n",
    "models.append(('KNN', KNeighborsRegressor()))\n",
    "models.append(('CART', DecisionTreeRegressor()))\n",
    "models.append(('SVR', SVR(gamma='scale')))\n",
    "\n",
    "#En un diccionario 'allresults' vamos guardando los resultados de los modelos para los diversos cv con 3,5,7 y 10 folds\n",
    "\n",
    "allresults = {}\n",
    "names = []\n",
    "for nsplits in (3,5,7,10):\n",
    "    print('\\033[1m' + 'Precisiones con %d splits' % nsplits + '\\033[0m')\n",
    "    results = []\n",
    "    for name, model in models:\n",
    "        kfold = KFold(n_splits=nsplits, shuffle=True, random_state=seed)\n",
    "        cv_results = cross_val_score(model, X_train_1, y_train_1, cv=kfold, scoring='neg_mean_squared_error')\n",
    "        results.append(cv_results)\n",
    "        names.append(name)\n",
    "        msg = \"%s: %f (%f)\" % (name, cv_results.mean(), cv_results.std())\n",
    "        print(msg)\n",
    "    print('--------------------------')\n",
    "    allresults[nsplits] = results"
   ]
  },
  {
   "cell_type": "code",
   "execution_count": 6,
   "metadata": {},
   "outputs": [
    {
     "data": {
      "image/png": "iVBORw0KGgoAAAANSUhEUgAAAX8AAAEVCAYAAAAIK+VbAAAABHNCSVQICAgIfAhkiAAAAAlwSFlzAAALEgAACxIB0t1+/AAAADh0RVh0U29mdHdhcmUAbWF0cGxvdGxpYiB2ZXJzaW9uMy4yLjIsIGh0dHA6Ly9tYXRwbG90bGliLm9yZy+WH4yJAAAgAElEQVR4nO3de5wcZZ3v8c+XIRJBA0RAICEGue2QAdGMCnuCEo2YVZSAsJJlRY5zzIo6Hq8gDrsGJAfOekGJiieS1eWog+yuCIoxyDIRRsPCBBASAhrkkiFBuYRLxOAQfvtHPRMqw/Tcerp7puv7fr3qNd3P81TVr6q7fl311NM9igjMzKxYdqh1AGZmVn1O/mZmBeTkb2ZWQE7+ZmYF5ORvZlZATv5mZgXk5G+jRtKpkq7tp/wgSb+R9KpRXFdIOnC0lpdb7vS07B1He9lp+WskHVOJZdcTSa+UdIOkpyV9eZC2x0jqHqD+u5LOH/0oxzcn/wqS9HeSuiRtlrRR0jJJs2odV6VExPcj4th8maRdgW8DJ0XEA7WJ7MVSwghJZ1ZzvRExIyJWpBgWSvpeNddfK7kP1c256R8HmGUB8CgwKSI+VaUwC6UiZzcGkj4JfBb4ELAc+AswFzge6KxhaAOStGNEPDday4uIJ4FjRmt5o+j9wOPp7z9XemWjvV/Hsd2GuB9eBdwV/hZq5USEp1GegF2BzcDJA7TZCfgqsCFNXwV2SnXHAN3AmcAfgY3APOAdwG/JktbncstaCPw78EPgaeBW4DW5+s8C96a6u4ATcnWnA78CLkrLPR84ALgeeIzs7Ov7ZAdt7zz7AT8CHkltvp5bVmeu3V8DtwBPpr9/natbAXwhrftp4FpgjwH212fSftgAfAAI4MDcvvwS8CDwB+BbwEsHWNbOaZ2nkH0oN+fqpqdl75ie7w/ckNpfB3wD+F6u/buBNcATaZsac3X3A2cBdwDPkp1s3Q/MITsR+AvQk94rv8ntl/OBX6fynwCvSK/BU2k/Th/iPj4d+H2K/T7g1BL7owH4XO49sgrYbzRfw777dZDj57tpv/wl7YM5DOF4yc3/WrJj4GmyY+Jy4PxUtwfw0/R6PQ7cCOxQ65xRi6nmAdTjlA7s5wZ6owPnATcBewF7poP9C6numDT/PwETgA+SJdofAC8HZgBbgFen9gvTwXJSav/pdLBPSPUnA/uSdfO9F/gTsE+qOz2tq5UsOb0UOBB4Wzrg9iRLfl9N7RuA35B9WOwCTARm5ZbVmR5PBjYB70vLnZ+evyLVryBLNgenda4ALhxgf/4BaErr/AHbJ/+vAlendb6cLGFeMMC+fx/ZB0lDantxrm462yf/lWQfLC8BZpEl4O+luoPTvnxb2u9nAuuAl6T6+4HbyT4sX5orm5N73b7XJ7YVaRkHkJ1E3EX2gT8n7cfLgO8Mto/TfnoKOCS13QeYUWJ/fAa4EzgEEPCatIzRfA179+tDZCc232HgD/vvkhL2EI+X7vT4JcADwCfSa3IS2bHRm/wvIDs5mJCmowHVOmfUJE/VOoB6nIBTgYcHaXMv8I7c87cD96fHxwB/BhrS85enA+eNufargHnp8ULgplzdDmTJ7egS674dOD49Ph14cJBY5wG3pcdHkX0QveiDje2T//uAm/vUrwROT49XAOfk6j4M/LzE+v8ln1RSsgmyDymRJeADcvVHAfcNsD3X8cKH2fy0Pb0flL1JakdgGtkH4865eb/HC8n/H4Er+uz3h4Bj0vP7gQ/0Wff9DJ7823LPvwwsyz1/F3D7YPuYLPk/AbyHAa6C0jz39L4f+pSP5mv4MqA57ddXkl2pLh8gpu+yffIf7HjpTf5vIrsyUK7tr3kh+Z8HXEU6cSjy5Bu+lfEYsMcgI0b2JTtD6fVAKtu2jIjYmh7/Of39Q67+z2QHVK/1vQ8i4nmys6t9ASSdJul2SU9IeoLsDHqP/uZN7feSdLmkhyQ9RZbwetvvBzwQg/fb9t2+3m2cknv+cO7xM322p++y8jHml7snWTfOqtz2/TyVv4ik/YDZZN0okCWCicA7S6z38Yh4Jle2vk/9tljSfl/P9tu43b4dor6vc6nXveQ+jog/kV3lfQjYKOkaSX9VYn37kSXXvkbtNYyIzRHRFRHPRcQfgI8Cx0qaVCKmwWLpe7zk2z0UKdPn2vb6ItmV1bWSfi/ps0Ncf91x8q+MlWTdMvMGaLOB7KZWr2mpbKT2630gaQdgKrAhDa/8NtnB9oqI2A1YTXbG3KvvTbULUtnhETEJ+Ptc+/XAtCEMhey7fZBt40ND3qIXbCS3fWk5vR4lS4gzImK3NO0aEaU+SN5H9r7/iaSHyfrEJwKnlVjvZEk758rycWy3jZKU6vPbONANy3JvZg64jyNieUS8jazL526y90F/1pN1Mw1r+WXq3XYN2Kp0LKWOl43AlPRa5NtmK414OiI+FRGvJruK+qSktw497Prh5F8BkY1w+SfgG5LmSdpZ0gRJfyOpd2RJO3COpD0l7ZHalzPsb6akE1NS/jjZDcabyC7/g6xrA0n/k+zMfyAvJ7vR9oSkKWR9wr1uJjvALpS0i6SJkv5HP8v4GXBwGu66o6T3AoeS3WwbriuA0yUdmhLx53sr0tn2t4GLJO2VtnGKpLeXWNZpwLnAEbnpPcA7Jb0i3zCyoaldwEJJL5F0FFnCyMf1TklvlTQB+BTZfv/1ELfrD8D09GE9EiX3cRon/25Ju6SYNgNbSyznUuAL6fsYknR42hej9hpKeqOkQyTtkJZ9MbAiHStDMdTjZSVZV93HUswnAm/IxXGcpAPTh8NTZPuk1H6pa07+FRIRXwE+CZxDlnjXk519/zg1OZ8ssdxBdrPt1lQ2UleRXeb33qA7MSJ6IuIusn7jlWTJ5jCy0RkDORd4HdkIj2vIRvb0btdWsgR4INnomu603u1ExGPAcWQJ8TGym6HHRcSjw92wiFhGdlP3erJL9uv7NDkrld+UuqmuI7t5uR1JR5L16X8jIh7OTVen+ef3s/pTye4hPEb2+vyQLJkSEfeQXRUtJrsCeRfwroj4yxA37d/S38ck3TrEebYZZB/vkMo3kI1qeTNZn3x/vkL2QXYtWUJcSnafYNReQ+DVZN1xT5NdeT5L//u7lCEdL2nfn0h232MT2XvzR7kmB5G9PzaTHRPfjPS9i6LR9l1jNh5JWkh2A+vvax1LvZP0Q+DuiPj8oI3NxjCf+ZsNQNLrJR2Quit6v6T348HmMxvr/A1fs4HtTdZt8AqyLq4zIuK22oZkVj53+5iZFZC7fczMCsjJ38ysgJz8zcwKyMnfzKyAnPzNzArIyd/MrICc/M3MCsjJ38ysgJz8zcwKyMnfzKyAnPzNzArIyd/MrICc/M3MCsjJ38ysgMbN7/nvscceMX369FqHYWY2rqxaterRiNizb/m4Sf7Tp0+nq6ur1mGYmY0rkh7or9zdPmZmBeTkb2ZWQE7+ZmYF5ORvZlZATv5mZgXk5G9mVkBO/mZmBeTkb2ZWQOPmS16VIGnE80bEKEZiZlZdhU7+AyVwSU7wZla33O1jZlZAhT7zr2f13qVV79tnVmlO/nWq3ru06n37zCrN3T5mZgVU98l/8uTJSBr2BIxovsmTJ3vbvH1lG0n8+e03G0zdd/ts2rSpql0A1Tz46nnboP63byDu1rJKq/szfzMze7G6P/OPz0+ChbtWd31mZmNc3Sd/nftU1bsOYmHVVmdmNiLu9jEzq4L29naamppoaGigqamJ9vb2msZT92f+Zma11t7eTltbG0uXLmXWrFl0dnbS0tICwPz582sSkyrVJSLpCOBbwETgOeDDEXFzqjsbaAG2Ah+LiOWDLa+5uTm6urpGEkf1u32qtb4q3st4YZ1PVnFddb59I+TRPuNPU1MTixcvZvbs2dvKOjo6aG1tZfXq1RVdt6RVEdH8ovIKJv9rgYsiYpmkdwBnRsQxkg4F2oE3APsC1wEHR8TWgZbn5F/bdXl9Y8d4idNe0NDQwJYtW5gwYcK2sp6eHiZOnMjWrQOmvrKVSv6V7PMPoHfoy67AhvT4eODyiHg2Iu4D1pF9EJiZ1aXGxkY6Ozu3K+vs7KSxsbFGEVU2+X8c+KKk9cCXgLNT+RRgfa5ddyp7EUkLJHVJ6nrkkUcqGKqZWeW0tbXR0tJCR0cHPT09dHR00NLSQltbW81iKuuGr6TrgL37qWoD3gp8IiL+Q9LfAkuBOUB/X6Ps9xo2IpYASyDr9ikjzpHOOmy777571dZlZuND703d1tZW1q5dS2NjI4sWLarZzV6obJ//k8BuERHKsu+TETEp3ewlIi5I7ZYDCyNi5UDLG2mffz2r9z7xel/fSI2XOG1sqEWf/wbgzenxW4DfpcdXA6dI2knS/sBBwM0VjMPMzPqo5Dj/DwJfk7QjsAVYABARayRdAdxFNgT0I4ON9DGrR5MnT2bTpk0jmnckXZm77747jz/++IjWZ/WnYsk/IjqBmSXqFgGLKrVus/GgyL9aarXnn3cwMysgJ38zswLyb/vYmOZhumaV4eQ/ztVzcvRwRrPKcfIfx5wcxzf/oyGrJSd/sxrxPxqyWvINXzOzAnLyNzMrICd/M7MCcp+/WQ3V82gtG9uc/M1qxKO1xrdyfptpJEb7t5mc/M3MRmC8/zaT+/zNzArIyd/MrICc/M3MCsjJ38ysgJz8zcwKyMnfzKyAPNTTzGwExvuvsjr5m5mNxMInax1BWcrq9pF0sqQ1kp6X1Nyn7mxJ6yTdI+ntufKZku5MdRfL/1XazKzqyu3zXw2cCNyQL5R0KHAKMAOYC3xTUkOqvgRYAByUprllxmBmZsNUVvKPiLURcU8/VccDl0fEsxFxH7AOeIOkfYBJEbEysu9FXwbMKycGMzMbvkqN9pkCrM89705lU9LjvuX9krRAUpekrkceeaQigZqZFdGgN3wlXQfs3U9VW0RcVWq2fspigPJ+RcQSYAlAc3OzfwLRzGyUDJr8I2LOCJbbDeyXez4V2JDKp/ZTbmZmVVSpbp+rgVMk7SRpf7IbuzdHxEbgaUlHplE+pwGlrh7MzKxCyh3qeYKkbuAo4BpJywEiYg1wBXAX8HPgIxGxNc12BnAp2U3ge4Fl5cRgZmbDp/Hy34Sam5ujq6ur1mGYmY0rklZFRHPfcv+2j5mNCe3t7TQ1NdHQ0EBTUxPt7e21Dqmu+ecdzKzm2tvbaWtrY+nSpcyaNYvOzk5aWloAmD9/fo2jq0/u9jGzmmtqamLx4sXMnj17W1lHRwetra2sXr26hpGNf6W6fZz8zazmGhoa2LJlCxMmTNhW1tPTw8SJE9m6desAc9pg3OdvZmNWY2MjnZ2d25V1dnbS2NhYo4jqn5O/mdVcW1sbLS0tdHR00NPTQ0dHBy0tLbS1tdU6tLrlG75mVnO9N3VbW1tZu3YtjY2NLFq0yDd7K8h9/mZmdcx9/kPkscY2Vvm9aaPJ3T45HmtsY5XfmzbqImJcTDNnzoxKmzFjRlx//fXblV1//fUxY8aMiq/bbCB+b9pIAV3RT051n3+OxxrbWOX3po2U+/yHwGONbazye9NGm5N/jsca21jl96aNNt/wzfFYYxur/N600eY+fzOzOuY+f6v7ceL1vn1mo8ndPgVR7+PE6337zEZdf+M/x+JUjXH+9azex4nX+/aZjRQe519s9T5OvN63z2ykKtLnL+lkSWskPS+pOVf+NkmrJN2Z/r4lVzczla+TdLEklRODDU29jxOv9+0zG23l3vBdDZwI3NCn/FHgXRFxGPB+4P/n6i4BFgAHpWlumTHYENT7OPF63z6z0VbWDd+IWAvQ9+Q9Im7LPV0DTJS0EzAZmBQRK9N8lwHzgGXlxGGDq/dx4vW+fWajbVT6/CWtAD4dES/qlJd0EvChiJiTuoYujIg5qe5o4KyIOK7EcheQXSUwbdq0mQ888EDZsZqZFUmpPv9Bz/wlXQfs3U9VW0RcNci8M4D/CxzbW9RPs5KfPhGxBFgC2Q3fwWI1M7OhGTT5956lD5ekqcCVwGkRcW8q7gam5ppNBTaMZPlmZjZyFfmGr6TdgGuAsyPiV73lEbEReFrSkWmUz2nAgFcPZmY2+sod6nmCpG7gKOAaSctT1UeBA4F/lHR7mvZKdWcAlwLrgHvxzV4zs6rzl7zMzOqYf9jNzMy2cfI3MysgJ38zswJy8jczKyAnfzOzAnLyNzMrICd/M7MCcvI3MysgJ38zsypob2+nqamJhoYGmpqaaG9vr2k8/gfuZmYV1t7eTltbG0uXLmXWrFl0dnbS0tICULP/OeGfdzAzq7CmpiYWL17M7Nmzt5V1dHTQ2trK6tWrK7ruUj/v4ORvZlZhDQ0NbNmyhQkTJmwr6+npYeLEiWzdurWi6/Zv+5iZ1UhjYyOdnZ3blXV2dtLY2FijiJz8zcwqrq2tjZaWFjo6Oujp6aGjo4OWlhba2tpqFpNv+JqZVVjvTd3W1lbWrl1LY2MjixYtqtnNXnCfv5lZXXOfv5mZbePkb2ZWQE7+ZmYF5ORvZlZAZSV/SSdLWiPpeUkv/gaZNE3SZkmfzpXNlHSnpHWSLpakcmIwM7PhK/fMfzVwInBDifqLgGV9yi4BFgAHpWlumTGYmdkwlZX8I2JtRNzTX52kecDvgTW5sn2ASRGxMrIxppcB88qJwczMhq8iff6SdgHOAs7tUzUF6M49705lpZazQFKXpK5HHnlk9AM1MyuoQZO/pOskre5nOn6A2c4FLoqIzX0X10/bkt8yi4glEdEcEc177rnnYKGamdkQDfrzDhExZwTLfSNwkqR/BnYDnpe0BfgPYGqu3VRgwwiWb2ZmZajIb/tExNG9jyUtBDZHxNfT86clHQn8F3AasLgSMZiZWWnlDvU8QVI3cBRwjaTlQ5jtDOBSYB1wLy8eDWRmZhVW1pl/RFwJXDlIm4V9nncBTeWs18zMyuNv+JqZFZCTv5lZATn5m5kVkJO/mVkBOfmbmRWQk7+ZWQE5+ZuZFZCTv5lVxOTJk5FUtWny5Mm13uRxpSI/72BmtmnTJrJfbq8O/1+o4fGZv5lZATn5m5kVkJO/mVkBOfmbmRWQk7+ZWQE5+ZuZFZCTv5lZAXmcv5lVRHx+EizctbrrsyFz8jezitC5T1X9S17b/99AG4i7fczMCqjcf+B+sqQ1kp6X1Nyn7nBJK1P9nZImpvKZ6fk6SRfL38k2M6u6cs/8VwMnAjfkCyXtCHwP+FBEzACOAXpS9SXAAuCgNM0tMwYzMxumspJ/RKyNiHv6qToWuCMifpPaPRYRWyXtA0yKiJWRdQZeBswrJwYzMxu+SvX5HwyEpOWSbpV0ZiqfAnTn2nWnMjMzq6JBR/tIug7Yu5+qtoi4aoDlzgJeDzwD/KekVcBT/bQtORxA0gKyLiKmTZs2WKhmZjZEgyb/iJgzguV2A7+MiEcBJP0MeB3ZfYCpuXZTgQ0DrHsJsASgubm5emPGzMzqXKW6fZYDh0vaOd38fTNwV0RsBJ6WdGQa5XMaUOrqwczMKqTcoZ4nSOoGjgKukbQcICI2AV8BbgFuB26NiGvSbGcAlwLrgHuBZeXEYGZmw6dqfgOvHM3NzdHV1VXrMMxsiCRV/xu+4ySfVZOkVRHR3Lfc3/A1MysgJ38zswJy8jczKyAnfzOzAnLyNzMrICd/M7MC8j9zMbOKqeYvtu++++5VW1c9cPI3s4rwmPuxzd0+ZmYF5ORvZlZATv5mZgXk5G9mVkBO/mZmBeTkb2ZWQE7+ZmYF5ORvZlZATv5mZgXk5G9mVkBO/mZmBeTkb2ZWQGUlf0knS1oj6XlJzbnyCZL+VdKdktZKOjtXNzOVr5N0sar5s39mZgaUf+a/GjgRuKFP+cnAThFxGDAT+AdJ01PdJcAC4KA0zS0zBjMzG6aykn9ErI2Ie/qrAnaRtCPwUuAvwFOS9gEmRcTKyH7v9TJgXjkxmJnZ8FWqz//fgT8BG4EHgS9FxOPAFKA71647lZmZWRUN+s9cJF0H7N1PVVtEXFVitjcAW4F9gd2BG9Ny+uvfL/kfHyQtIOsiYtq0aYOFamZmQzRo8o+IOSNY7t8BP4+IHuCPkn4FNAM3AlNz7aYCGwZY9xJgCUBzc7P/LZCZ2SipVLfPg8BblNkFOBK4OyI2Ak9LOjKN8jkNKHX1YGZmFVLuUM8TJHUDRwHXSFqeqr4BvIxsNNAtwHci4o5UdwZwKbAOuBdYVk4MZmY2fGX9A/eIuBK4sp/yzWTDPfubpwtoKme9ZmZWHn/D18ysgJz8zcwKyMnfzKyAnPzNzArIyd/MrICc/M3MCsjJ38ysgJz8zcwKyMnfzKyAnPzNzArIyd/MrICc/M3MCsjJ38ysgJz8zcwKyMnfzKyAnPzNzArIyd/MrICc/M3MCsjJ38ysgJz8zcwKqKzkL+mLku6WdIekKyXtlqs7W9I6SfdIenuufKakO1PdxZJUTgxmZjZ85Z75/wJoiojDgd8CZwNIOhQ4BZgBzAW+KakhzXMJsAA4KE1zy4zBzMyGqazkHxHXRsRz6elNwNT0+Hjg8oh4NiLuA9YBb5C0DzApIlZGRACXAfPKicHMzIZvNPv8PwAsS4+nAOtzdd2pbEp63LfczMyqaMfBGki6Dti7n6q2iLgqtWkDngO+3ztbP+1jgPJS615A1kXEtGnTBgvVzMyGaNDkHxFzBqqX9H7gOOCtqSsHsjP6/XLNpgIbUvnUfspLrXsJsASgubm55IeEmZkNT7mjfeYCZwHvjohnclVXA6dI2knS/mQ3dm+OiI3A05KOTKN8TgOuKicGMzMbvkHP/AfxdWAn4BdpxOZNEfGhiFgj6QrgLrLuoI9ExNY0zxnAd4GXkt0jWPaipZqZWUWVlfwj4sAB6hYBi/op7wKaylmvmZmVx9/wNbMxob29naamJhoaGmhqaqK9vb3WIdW1crt9zMzK1t7eTltbG0uXLmXWrFl0dnbS0tICwPz582scXX3SCwN0xrbm5ubo6uqqdRhmVgFNTU0sXryY2bNnbyvr6OigtbWV1atX1zCy8U/SqohoflG5k7+Z1VpDQwNbtmxhwoQJ28p6enqYOHEiW7duHWBOG0yp5O8+fzOrucbGRjo7O7cr6+zspLGxsUYR1T8nfzOruba2NlpaWujo6KCnp4eOjg5aWlpoa2urdWh1yzd8zazmem/qtra2snbtWhobG1m0aJFv9laQ+/zNzOqY+/zNzGwbJ38zswJy8jczKyAnfzOzAnLyNzMroHEz2kfSI8ADVVzlHsCjVVxfNdXztoG3b7zz9o2uV0XEnn0Lx03yrzZJXf0Nj6oH9bxt4O0b77x91eFuHzOzAnLyNzMrICf/0pbUOoAKqudtA2/feOftqwL3+ZuZFZDP/M3MCqjwyV/S5n7KFkp6SNLtku6SNOZ+WrC/uHN1X0vx75Are6Wkn0r6Tdqmn6XyHSRdLGm1pDsl3SJp/1S3q6TLJN2bpssk7Vr5rRsaSVvTa9Q7fTaVr5DUlWvXLGlFzQIdovxrKukdkn4naVp6Pz4jaa8SbUPSl3PPPy1pYdUCH4SkvSVdnt5Dd0n6maSDU90nJG3Jv68kHSPpSUm3Sbpb0pckHZZ7nR+XdF96fF3ttuzFJLVJWiPpjhTfMkkX9GlzhKS16fH96bi7Q9IvJb2qWrEWPvkP4KKIOAI4Hvh/kiYMNsNYkBL+CcB64E25qvOAX0TEayLiUOCzqfy9wL7A4RFxWJr3iVS3FPh9RBwQEQcA9wGXVmEzhurPEXFEbrowV7eXpL+pWWRlkPRWYDEwNyIeTMWPAp8qMcuzwImS9qhGfMMhScCVwIr0PjoU+BzwytRkPnAL2fsu78aIeC3wWuA4YFLv6wxcDXwmPZ9TlQ0ZAklHkcX6uog4HJgDXEh2jOWdAvwg93x2ar8COKcKoQJO/oOKiN8BzwC71zqWIZoNrAYuITuweu0DdPc+iYg7cuUbI+L5VN4dEZskHQjMBL6QW8Z5QLOkAyoY/2j5IlU8kEaLpKOBbwPvjIh7c1X/ArxX0uR+ZnuO7CbiJ6oQ4nDNBnoi4lu9BRFxe0TcmN5HLyN7nfq9uo6IPwO3A1OqEWyZ9gEejYhnASLi0Yj4JfCEpDfm2v0tcHk/86+kitvp5D8ISa8DfhcRf6x1LEM0H2gnO9s6LnfF8g1gqaSOdGm6byq/AnhXukT9sqTXpvJDgdsjYts/UE2PbwdmVGVLBvfSPt0++TOslcCzkmaXmnkM2gm4CpgXEXf3qdtM9gHwv0vM+w3g1LHULZc0AatK1PW+V28EDsl3a/WStDtwEHBDxSIcPdcC+0n6raRvSnpzKm8nO9tH0pHAY+mksq+5wI+rE6qT/0A+Ieke4L+AhTWOZUgkvQR4B/DjiHiKLPZjASJiOfBqsrPKvwJuk7RnRHQDhwBnA88D/5m6HQT0NxSsVHkt9O32+WGf+vMZX2f/PcCvgZYS9RcD75c0qW9Fer0vAz5WufBG3SnA5emq80fAybm6oyXdATwM/DQiHq5FgMMREZvJrpYXAI8AP5R0OtlZ/kmpS/YUsg+DvA5JfyTrJvoBVeLkX9pFEXEIWX/dZZIm1jqgIZgL7ArcKel+YBa5y+mIeDwifhAR7yPrZ31TKn82IpZFxGeA/wPMA9YAr+1z03gH4DXA2iptT1ki4npgInBkrWMZoufJugReL+lzfSsj4gmy5PDhEvN/leyDY5eKRTh8a8gS4nYkHU52Rv+L9F49he27fm5M/eCHAWdIOqIKsZYtIrZGxIqI+DzwUeA9EbEeuB94M/AesqvtvNnAq8j21XnVitXJfxAR8SOgC3h/rWMZgvnA/4qI6RExHdgfOFbSzpLeImlnAEkvBw4AHpT0ut4uoJTcDwceiIh1wG1sf+Z8DnBrqhsvFgFn1jqIoYqIZ8huGp4qqb8rgK8A/0A//387Ih4nSyylrhxq4XpgJ0kf7C2Q9Hrga8DC3vdqROwLTOk72iUifgtcAJxVzaBHQtIhkg7KFR3BCz9G2Q5cBNybrra3k+5tfBw4rcR9nVHn5A87S+rOTZ/sp815wCfzZ8FjQN+4Pwe8Hbimt0FE/AnoBN5FdvbVlS6lVwKXRsQtwF7ATyaSICQAAAC7SURBVCStBu4gu3n49bSIFuBgSesk3QsczNhKLH37/C/s2yAifkZ2CT5upCQ+FzhH0vF96h4lu5+zU4nZv0z2q5FjQmTfIj0BeFsa6rmGrBv1GLLtyLuS1Dfex7eANykNQR7DXgb8axrOegfZfbOFqe7fyO6V9XejF4CI2Ej2IfGRCscJ+Bu+ZmaFNJbOZM3MrEqc/M3MCsjJ38ysgJz8zcwKyMnfzKyAnPzNzArIyd/MrICc/M3MCui/AXdami/s/Fm/AAAAAElFTkSuQmCC\n",
      "text/plain": [
       "<Figure size 432x288 with 1 Axes>"
      ]
     },
     "metadata": {
      "needs_background": "light"
     },
     "output_type": "display_data"
    }
   ],
   "source": [
    "fig = plt.figure()\n",
    "fig.suptitle('Comparación de Algoritmos con 5 folds')\n",
    "ax = fig.add_subplot(111)\n",
    "plt.boxplot(allresults[5])\n",
    "ax.set_xticklabels(names)\n",
    "plt.show()"
   ]
  },
  {
   "cell_type": "markdown",
   "metadata": {},
   "source": [
    "El mejor algoritmo de momento es el LR con 5 folds para el CV"
   ]
  },
  {
   "cell_type": "markdown",
   "metadata": {},
   "source": [
    "**Trabajemos ahora con una estandarización para revisar su capacidad utilizando una copia estandarizada de los datos**.\n",
    "\n",
    "### Estandarización del dataset\n",
    "Con la sospecha de que las diferentes escalas de los datos en bruto pueden afectar negativamente la capacidad de predicción de algunos de los algoritmos, evaluamos estos mismos algoritmos con una copia estandarizada del conjunto de datos. \n",
    "\n",
    "Es en este punto en donde los datos se transforman de tal manera que cada atributo tiene un **valor medio de 0 y una desviación estándar de 1**. \n",
    "\n",
    "También debemos evitar que se nos escapen datos cuando hacemos transformaciones. Una buena manera de evitarlo es usar **pipelines (tuberías)** que estandaricen los datos y construyan el modelo para cada *fold* en nuestra selección de prueba de validación cruzada. De esa manera podemos obtener una estimación justa de cómo podría funcionar cada modelo con datos estandarizados en datos no visibles."
   ]
  },
  {
   "cell_type": "code",
   "execution_count": 7,
   "metadata": {},
   "outputs": [
    {
     "name": "stdout",
     "output_type": "stream",
     "text": [
      "\u001b[1mPrecisiones con 3 splits\u001b[0m\n",
      "ScLR: -82.300280 (6.405321)\n",
      "ScLASSO: -86.132046 (5.888187)\n",
      "ScEN: -85.265430 (6.233771)\n",
      "ScKNN: -92.126462 (6.223382)\n",
      "ScCART: -159.431849 (30.624155)\n",
      "ScSVR: -84.833815 (6.586296)\n",
      "--------------------------\n",
      "\u001b[1mPrecisiones con 5 splits\u001b[0m\n",
      "ScLR: -81.880501 (15.469253)\n",
      "ScLASSO: -85.626277 (16.642298)\n",
      "ScEN: -84.834264 (16.597568)\n",
      "ScKNN: -94.328365 (16.959826)\n",
      "ScCART: -163.701231 (26.842756)\n",
      "ScSVR: -83.976070 (15.463997)\n",
      "--------------------------\n",
      "\u001b[1mPrecisiones con 7 splits\u001b[0m\n",
      "ScLR: -82.132102 (21.285544)\n",
      "ScLASSO: -85.792799 (23.312858)\n",
      "ScEN: -84.974048 (23.735104)\n",
      "ScKNN: -94.476283 (24.374712)\n",
      "ScCART: -138.363702 (26.996401)\n",
      "ScSVR: -83.773176 (22.327867)\n",
      "--------------------------\n",
      "\u001b[1mPrecisiones con 10 splits\u001b[0m\n",
      "ScLR: -82.073616 (22.275282)\n",
      "ScLASSO: -85.622424 (25.022626)\n",
      "ScEN: -84.940526 (24.567407)\n",
      "ScKNN: -94.279051 (26.069486)\n",
      "ScCART: -164.349145 (50.699493)\n",
      "ScSVR: -83.809570 (23.874651)\n",
      "--------------------------\n"
     ]
    }
   ],
   "source": [
    "# Estandarización del dataset\n",
    "pipelines = []\n",
    "pipelines.append(('ScLR', Pipeline([('Scaler', StandardScaler()),('LR', LinearRegression())])))\n",
    "pipelines.append(('ScLASSO', Pipeline([('Scaler', StandardScaler()),('LASSO', Lasso())])))\n",
    "pipelines.append(('ScEN', Pipeline([('Scaler', StandardScaler()),('EN', ElasticNet())])))\n",
    "pipelines.append(('ScKNN', Pipeline([('Scaler', StandardScaler()),('KNN', KNeighborsRegressor())])))\n",
    "pipelines.append(('ScCART', Pipeline([('Scaler', StandardScaler()),('CART', DecisionTreeRegressor())])))\n",
    "pipelines.append(('ScSVR', Pipeline([('Scaler', StandardScaler()),('SVR', SVR(gamma='scale'))])))\n",
    "\n",
    "allresults = {}\n",
    "names = []\n",
    "for nsplits in (3,5,7,10):\n",
    "    print('\\033[1m' + 'Precisiones con %d splits' % nsplits + '\\033[0m')\n",
    "    results = []\n",
    "    for name, model in pipelines:\n",
    "        kfold = KFold(n_splits=nsplits, shuffle=True, random_state=seed)\n",
    "        cv_results = cross_val_score(model, X_train_1, y_train_1, cv=kfold, scoring='neg_mean_squared_error')\n",
    "        results.append(cv_results)\n",
    "        names.append(name)\n",
    "        msg = \"%s: %f (%f)\" % (name, cv_results.mean(), cv_results.std())\n",
    "        print(msg)\n",
    "    print('--------------------------')\n",
    "    allresults[nsplits] = results"
   ]
  },
  {
   "cell_type": "markdown",
   "metadata": {},
   "source": [
    "No obtenemos valores mejores. Nos seguimos quedando con LR con 5 folds y los datos sin escalar."
   ]
  },
  {
   "cell_type": "markdown",
   "metadata": {},
   "source": [
    "**Ahora revisamos cómo funciona si usamos una copia de los datos reescalados**\n",
    "\n",
    "### Reescalado del dataset (entre 0 y 1)\n",
    "Evaluaremos ahora los algoritmos habiendo reescalado los datos entre 0 y 1. Cuando los datos se componen de atributos con diferentes escalas, muchos algoritmos de aprendizaje automático pueden beneficiarse de volver a escalar los atributos para que todos tengan la misma escala\n",
    "\n",
    "Usaremos igualmente pipelines (tuberías) que reescalen los datos y construyan el modelo para cada fold en nuestra selección de prueba de validación cruzada."
   ]
  },
  {
   "cell_type": "code",
   "execution_count": 8,
   "metadata": {},
   "outputs": [
    {
     "name": "stdout",
     "output_type": "stream",
     "text": [
      "\u001b[1mPrecisiones con 3 splits\u001b[0m\n",
      "mMLR: -82.300280 (6.405321)\n",
      "mMLASSO: -98.465173 (6.990435)\n",
      "mMEN: -97.343721 (7.002646)\n",
      "mMKNN: -92.347795 (7.612103)\n",
      "mMCART: -159.416559 (29.409611)\n",
      "mMSVR: -84.188262 (6.267320)\n",
      "--------------------------\n",
      "\u001b[1mPrecisiones con 5 splits\u001b[0m\n",
      "mMLR: -81.880501 (15.469253)\n",
      "mMLASSO: -98.241174 (17.811118)\n",
      "mMEN: -97.110268 (17.749635)\n",
      "mMKNN: -92.512718 (17.073189)\n",
      "mMCART: -159.685524 (31.490427)\n",
      "mMSVR: -83.421326 (15.034200)\n",
      "--------------------------\n",
      "\u001b[1mPrecisiones con 7 splits\u001b[0m\n",
      "mMLR: -82.132102 (21.285544)\n",
      "mMLASSO: -98.267631 (26.395707)\n",
      "mMEN: -97.138042 (26.316466)\n",
      "mMKNN: -93.729377 (25.215025)\n",
      "mMCART: -141.704100 (25.711453)\n",
      "mMSVR: -83.271099 (22.857570)\n",
      "--------------------------\n",
      "\u001b[1mPrecisiones con 10 splits\u001b[0m\n",
      "mMLR: -82.073616 (22.275282)\n",
      "mMLASSO: -98.419851 (26.489797)\n",
      "mMEN: -97.266920 (26.384006)\n",
      "mMKNN: -94.277932 (22.608960)\n",
      "mMCART: -184.176108 (57.056315)\n",
      "mMSVR: -83.353957 (23.810833)\n",
      "--------------------------\n"
     ]
    }
   ],
   "source": [
    "# Reescalado del dataset\n",
    "pipelines = []\n",
    "pipelines.append(('mMLR', Pipeline([('Scaler', MinMaxScaler()),('LR', LinearRegression())])))\n",
    "pipelines.append(('mMLASSO', Pipeline([('Scaler', MinMaxScaler()),('LASSO', Lasso())])))\n",
    "pipelines.append(('mMEN', Pipeline([('Scaler', MinMaxScaler()),('EN', ElasticNet())])))\n",
    "pipelines.append(('mMKNN', Pipeline([('Scaler', MinMaxScaler()),('KNN', KNeighborsRegressor())])))\n",
    "pipelines.append(('mMCART', Pipeline([('Scaler', MinMaxScaler()),('CART', DecisionTreeRegressor())])))\n",
    "pipelines.append(('mMSVR', Pipeline([('Scaler', MinMaxScaler()),('SVR', SVR(gamma='scale'))])))\n",
    "\n",
    "allresults = {}\n",
    "names = []\n",
    "for nsplits in (3,5,7,10):\n",
    "    print('\\033[1m' + 'Precisiones con %d splits' % nsplits + '\\033[0m')\n",
    "    results = []\n",
    "    for name, model in pipelines:\n",
    "        kfold = KFold(n_splits=nsplits, shuffle=True, random_state=seed)\n",
    "        cv_results = cross_val_score(model, X_train_1, y_train_1, cv=kfold, scoring='neg_mean_squared_error')\n",
    "        results.append(cv_results)\n",
    "        names.append(name)\n",
    "        msg = \"%s: %f (%f)\" % (name, cv_results.mean(), cv_results.std())\n",
    "        print(msg)\n",
    "    print('--------------------------')\n",
    "    allresults[nsplits] = results"
   ]
  },
  {
   "cell_type": "markdown",
   "metadata": {},
   "source": [
    "No obtenemos mejores resultados que al inicio.\n",
    "\n",
    "**CONCLUSIÓN: de momento el mejor modelo a usar es el algortimo LR con 5 folds y con los datos sin escalar ni estandarizar**, obteniendo un error cuadrático medio negativo de -81,881 "
   ]
  },
  {
   "cell_type": "markdown",
   "metadata": {},
   "source": [
    "## 1.2- Ensembles (Conjuntos)\n",
    "\n",
    "Vamos ahora a tratar de mejorar el rendimiento de los algoritmos mediante el uso de métodos conjuntos o *ensembles*. Para ello vamos a evaluar 4 algoritmos de ML por conjuntos, 2 métodos de *boosting* o impulso y 2 de *bagging* o embolsado:\n",
    "\n",
    "- **Métodos de *boosting* (impulso)**: AdaBoost (AB) y Gradient Boosting (GBM).\n",
    "- **Métodos de *bagging* (embolsado)**: bosques aleatorios (RF) y árboles adicionales (ET).\n",
    "\n",
    "Usaremos la misma selección de prueba que antes, validación cruzada iterando el nº de folds entre 3 y 10 , y probaremos primero sin escalar y después escalando los datos."
   ]
  },
  {
   "cell_type": "code",
   "execution_count": 9,
   "metadata": {},
   "outputs": [
    {
     "name": "stdout",
     "output_type": "stream",
     "text": [
      "\u001b[1mPrecisiones con 3 splits\u001b[0m\n",
      "AB: -86.036507 (8.080326)\n",
      "GBM: -89.500524 (9.025487)\n",
      "RF: -85.606147 (7.941826)\n",
      "ET: -85.042338 (5.943205)\n",
      "--------------------------\n",
      "\u001b[1mPrecisiones con 5 splits\u001b[0m\n",
      "AB: -88.967499 (10.252454)\n",
      "GBM: -83.823525 (14.510383)\n",
      "RF: -81.028796 (14.825623)\n",
      "ET: -80.574227 (13.413616)\n",
      "--------------------------\n",
      "\u001b[1mPrecisiones con 7 splits\u001b[0m\n",
      "AB: -89.591759 (19.481998)\n",
      "GBM: -85.120613 (18.478573)\n",
      "RF: -82.483113 (19.717088)\n",
      "ET: -84.754239 (22.409961)\n",
      "--------------------------\n",
      "\u001b[1mPrecisiones con 10 splits\u001b[0m\n",
      "AB: -91.426708 (21.592948)\n",
      "GBM: -84.447041 (24.583517)\n",
      "RF: -83.622763 (21.076796)\n",
      "ET: -83.870849 (23.054342)\n",
      "--------------------------\n"
     ]
    }
   ],
   "source": [
    "#inicialmente probamos con los datos sin escalar\n",
    "\n",
    "ensembles = []\n",
    "ensembles.append(('AB', AdaBoostRegressor()))\n",
    "ensembles.append(('GBM', GradientBoostingRegressor()))\n",
    "ensembles.append(('RF', RandomForestRegressor(n_estimators=100)))\n",
    "ensembles.append(('ET', ExtraTreesRegressor(n_estimators=100)))\n",
    "\n",
    "allresults = {}\n",
    "names = []\n",
    "for nsplits in (3,5,7,10):\n",
    "    print('\\033[1m' + 'Precisiones con %d splits' % nsplits + '\\033[0m')\n",
    "    results = []\n",
    "    for name, model in ensembles:\n",
    "        kfold = KFold(n_splits=nsplits, shuffle=True, random_state=seed)\n",
    "        cv_results = cross_val_score(model, X_train_1, y_train_1, cv=kfold, scoring='neg_mean_squared_error')\n",
    "        results.append(cv_results)\n",
    "        names.append(name)\n",
    "        msg = \"%s: %f (%f)\" % (name, cv_results.mean(), cv_results.std())\n",
    "        print(msg)\n",
    "    print('--------------------------')\n",
    "    allresults[nsplits] = results"
   ]
  },
  {
   "cell_type": "code",
   "execution_count": 10,
   "metadata": {},
   "outputs": [
    {
     "data": {
      "image/png": "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\n",
      "text/plain": [
       "<Figure size 432x288 with 1 Axes>"
      ]
     },
     "metadata": {
      "needs_background": "light"
     },
     "output_type": "display_data"
    }
   ],
   "source": [
    "fig = plt.figure()\n",
    "fig.suptitle('Comparación de Algoritmos con 5 folds')\n",
    "ax = fig.add_subplot(111)\n",
    "plt.boxplot(allresults[5])\n",
    "ax.set_xticklabels(names)\n",
    "plt.show()"
   ]
  },
  {
   "cell_type": "markdown",
   "metadata": {},
   "source": [
    "#### Obtenemos mejores valores que con el LR solo. En concreto **el mejor valor nos lo da ExtraTreesRegressor (ET)**, de nuevo con 5 folds, teniendo un error de **-80.574**"
   ]
  },
  {
   "cell_type": "code",
   "execution_count": 11,
   "metadata": {},
   "outputs": [
    {
     "name": "stdout",
     "output_type": "stream",
     "text": [
      "\u001b[1mPrecisiones con 3 splits\u001b[0m\n",
      "ScaledAB: -84.955462 (7.179233)\n",
      "ScaledGBM: -88.967102 (9.087878)\n",
      "ScaledRF: -85.913692 (7.203754)\n",
      "ScaledET: -83.818000 (5.779447)\n",
      "--------------------------\n",
      "\u001b[1mPrecisiones con 5 splits\u001b[0m\n",
      "ScaledAB: -88.107979 (12.958907)\n",
      "ScaledGBM: -85.408279 (13.005476)\n",
      "ScaledRF: -82.153252 (15.296582)\n",
      "ScaledET: -81.604216 (13.646482)\n",
      "--------------------------\n",
      "\u001b[1mPrecisiones con 7 splits\u001b[0m\n",
      "ScaledAB: -86.753015 (18.574552)\n",
      "ScaledGBM: -84.335339 (18.786479)\n",
      "ScaledRF: -84.255234 (21.280266)\n",
      "ScaledET: -83.458077 (21.276390)\n",
      "--------------------------\n",
      "\u001b[1mPrecisiones con 10 splits\u001b[0m\n",
      "ScaledAB: -88.651975 (20.802139)\n",
      "ScaledGBM: -84.113941 (24.802220)\n",
      "ScaledRF: -82.132280 (22.292043)\n",
      "ScaledET: -82.757447 (22.426534)\n",
      "--------------------------\n"
     ]
    }
   ],
   "source": [
    "#Ahora probamos estandarizando los datos\n",
    "\n",
    "ensembles = []\n",
    "ensembles.append(('ScaledAB', Pipeline([('Scaler', StandardScaler()),('AB', AdaBoostRegressor())])))\n",
    "ensembles.append(('ScaledGBM', Pipeline([('Scaler', StandardScaler()),('GBM', GradientBoostingRegressor())])))\n",
    "ensembles.append(('ScaledRF', Pipeline([('Scaler', StandardScaler()),('RF', RandomForestRegressor(n_estimators=100))])))\n",
    "ensembles.append(('ScaledET', Pipeline([('Scaler', StandardScaler()),('ET', ExtraTreesRegressor(n_estimators=100))])))\n",
    "\n",
    "allresults = {}\n",
    "names = []\n",
    "for nsplits in (3,5,7,10):\n",
    "    print('\\033[1m' + 'Precisiones con %d splits' % nsplits + '\\033[0m')\n",
    "    results = []\n",
    "    for name, model in ensembles:\n",
    "        kfold = KFold(n_splits=nsplits, shuffle=True, random_state=seed)\n",
    "        cv_results = cross_val_score(model, X_train_1, y_train_1, cv=kfold, scoring='neg_mean_squared_error')\n",
    "        results.append(cv_results)\n",
    "        names.append(name)\n",
    "        msg = \"%s: %f (%f)\" % (name, cv_results.mean(), cv_results.std())\n",
    "        print(msg)\n",
    "    print('--------------------------')\n",
    "    allresults[nsplits] = results"
   ]
  },
  {
   "cell_type": "code",
   "execution_count": 12,
   "metadata": {},
   "outputs": [
    {
     "name": "stdout",
     "output_type": "stream",
     "text": [
      "\u001b[1mPrecisiones con 3 splits\u001b[0m\n",
      "ScaledAB: -87.605082 (4.887706)\n",
      "ScaledGBM: -88.819500 (8.968046)\n",
      "ScaledRF: -85.689780 (7.928447)\n",
      "ScaledET: -85.361256 (6.509770)\n",
      "--------------------------\n",
      "\u001b[1mPrecisiones con 5 splits\u001b[0m\n",
      "ScaledAB: -86.743882 (14.708730)\n",
      "ScaledGBM: -83.464126 (14.290245)\n",
      "ScaledRF: -80.929566 (12.869516)\n",
      "ScaledET: -82.604578 (14.379843)\n",
      "--------------------------\n",
      "\u001b[1mPrecisiones con 7 splits\u001b[0m\n",
      "ScaledAB: -88.316588 (16.759146)\n",
      "ScaledGBM: -84.944312 (18.709308)\n",
      "ScaledRF: -85.058043 (19.386559)\n",
      "ScaledET: -83.466470 (20.599374)\n",
      "--------------------------\n",
      "\u001b[1mPrecisiones con 10 splits\u001b[0m\n",
      "ScaledAB: -91.820796 (19.506180)\n",
      "ScaledGBM: -84.729436 (25.383649)\n",
      "ScaledRF: -83.573861 (20.669964)\n",
      "ScaledET: -82.188206 (22.923688)\n",
      "--------------------------\n"
     ]
    }
   ],
   "source": [
    "#Y probamos finalmente reescalando los datos entre 0 y 1\n",
    "\n",
    "ensembles = []\n",
    "ensembles.append(('ScaledAB', Pipeline([('Scaler', MinMaxScaler()),('AB', AdaBoostRegressor())])))\n",
    "ensembles.append(('ScaledGBM', Pipeline([('Scaler', MinMaxScaler()),('GBM', GradientBoostingRegressor())])))\n",
    "ensembles.append(('ScaledRF', Pipeline([('Scaler', MinMaxScaler()),('RF', RandomForestRegressor(n_estimators=100))])))\n",
    "ensembles.append(('ScaledET', Pipeline([('Scaler', MinMaxScaler()),('ET', ExtraTreesRegressor(n_estimators=100))])))\n",
    "\n",
    "allresults = {}\n",
    "names = []\n",
    "for nsplits in (3,5,7,10):\n",
    "    print('\\033[1m' + 'Precisiones con %d splits' % nsplits + '\\033[0m')\n",
    "    results = []\n",
    "    for name, model in ensembles:\n",
    "        kfold = KFold(n_splits=nsplits, shuffle=True, random_state=seed)\n",
    "        cv_results = cross_val_score(model, X_train_1, y_train_1, cv=kfold, scoring='neg_mean_squared_error')\n",
    "        results.append(cv_results)\n",
    "        names.append(name)\n",
    "        msg = \"%s: %f (%f)\" % (name, cv_results.mean(), cv_results.std())\n",
    "        print(msg)\n",
    "    print('--------------------------')\n",
    "    allresults[nsplits] = results"
   ]
  },
  {
   "cell_type": "markdown",
   "metadata": {},
   "source": [
    "Y observamos que no obtenemos mejores resultados, por lo que:\n",
    "\n",
    "#### **CONCLUSIÓN: el mejor modelo obtenido finalmente es el ensemble ExtraTreesRegressor (ET) con 5 folds y con los datos sin escalar ni estandarizar, obteniendo un error cuadrático medio negativo de -80,574**"
   ]
  },
  {
   "cell_type": "markdown",
   "metadata": {},
   "source": [
    "---------------------------------------------------------------------------------------------------------------------\n",
    "\n",
    "\n",
    "## 2) Carga del dataset mergeado trabajado CON selección de características PCA\n",
    "\n",
    "Ahora vamos a realizar el mismo estudio pero cogiendo el dataset trabajado con selección de características mediante PCA, para comprobar si los resultados son mejores o peores\n"
   ]
  },
  {
   "cell_type": "code",
   "execution_count": 13,
   "metadata": {},
   "outputs": [
    {
     "name": "stdout",
     "output_type": "stream",
     "text": [
      "Index(['pm10', 'no2', 'year', 'month', 'day', 'week', 'season', 'season_name',\n",
      "       'diadelasemana', 'findesemana', 'PCA1', 'PCA2', 'PCA3', 'PCA4', 'PCA5'],\n",
      "      dtype='object')\n",
      "                 pm10        no2  year  month  day  week  season season_name  \\\n",
      "date                                                                           \n",
      "2018-01-01  10.000000  24.000000  2018      1    1     1       1      Winter   \n",
      "2018-01-02  11.000000  10.000000  2018      1    2     1       1      Winter   \n",
      "2018-01-03  10.000000   7.000000  2018      1    3     1       1      Winter   \n",
      "2018-01-04  11.000000  14.000000  2018      1    4     1       1      Winter   \n",
      "2018-01-05  10.000000  20.000000  2018      1    5     1       1      Winter   \n",
      "...               ...        ...   ...    ...  ...   ...     ...         ...   \n",
      "2019-12-27  16.000000  18.000000  2019     12   27    52       1      Winter   \n",
      "2019-12-28  19.000000  16.000000  2019     12   28    52       1      Winter   \n",
      "2019-12-29  23.000000  17.641379  2019     12   29    52       1      Winter   \n",
      "2019-12-30  23.712692  17.641379  2019     12   30     1       1      Winter   \n",
      "2019-12-31  23.712692  15.000000  2019     12   31     1       1      Winter   \n",
      "\n",
      "            diadelasemana  findesemana       PCA1       PCA2      PCA3  \\\n",
      "date                                                                     \n",
      "2018-01-01              0            0   7.005026  -7.604518  2.983877   \n",
      "2018-01-02              1            0   6.181327 -10.888738  2.874374   \n",
      "2018-01-03              2            0   6.784890  -5.473226  1.930779   \n",
      "2018-01-04              3            0   6.546627  -0.564400 -0.337102   \n",
      "2018-01-05              4            0   5.535733   8.138664 -3.315162   \n",
      "...                   ...          ...        ...        ...       ...   \n",
      "2019-12-27              4            0  11.482208 -16.988137  4.702992   \n",
      "2019-12-28              5            1 -10.330017 -20.684481  4.911319   \n",
      "2019-12-29              6            1  12.694137 -21.900263  6.648917   \n",
      "2019-12-30              0            0  11.707351 -22.781833  7.116705   \n",
      "2019-12-31              1            0   2.717529 -22.733547  6.791452   \n",
      "\n",
      "                PCA4       PCA5  \n",
      "date                             \n",
      "2018-01-01 -6.094242   9.566149  \n",
      "2018-01-02 -4.333692   2.991142  \n",
      "2018-01-03 -2.179050  10.559993  \n",
      "2018-01-04  0.542702  10.658898  \n",
      "2018-01-05 -1.744504   2.732664  \n",
      "...              ...        ...  \n",
      "2019-12-27 -5.918299   0.853851  \n",
      "2019-12-28 -7.548369  -1.161545  \n",
      "2019-12-29 -7.247959  -0.491891  \n",
      "2019-12-30 -7.835533   1.038368  \n",
      "2019-12-31 -8.519201   1.077157  \n",
      "\n",
      "[730 rows x 15 columns]\n"
     ]
    }
   ],
   "source": [
    "#cogemos el dataset trabajado anteriormente con los datos mergeados y habiendo hecho una reducción de variables\n",
    "url_fichero_mercscpca = './DatosMergeadosBarcelona_ConSeleccionCaract_PCA.csv'\n",
    "dfMergeadoSelCaractPCA = pd.read_csv(url_fichero_mercscpca)\n",
    "dfMergeadoSelCaractPCA = dfMergeadoSelCaractPCA.set_index('date')\n",
    "print(dfMergeadoSelCaractPCA.columns)\n",
    "print(dfMergeadoSelCaractPCA)"
   ]
  },
  {
   "cell_type": "code",
   "execution_count": 14,
   "metadata": {},
   "outputs": [
    {
     "name": "stdout",
     "output_type": "stream",
     "text": [
      "Index(['pm10', 'no2', 'PCA1', 'PCA2', 'PCA3', 'PCA4', 'PCA5'], dtype='object')\n"
     ]
    }
   ],
   "source": [
    "#Eliminamos todos los campos que no son de meteorología o de tráfico (los que son de fechas)\n",
    "dfMergeadoSelCaractPCA = dfMergeadoSelCaractPCA.drop(columns=['year','month','day','week','season','season_name','diadelasemana',\n",
    "       'findesemana'])\n",
    "print(dfMergeadoSelCaractPCA.columns)"
   ]
  },
  {
   "cell_type": "markdown",
   "metadata": {},
   "source": [
    "## 2.1- Evaluación de los algoritmos\n",
    "### Dataset de validación de división (Split-out)\n",
    "**Dejaremos 80-20, preparado para CV de 10-folds** \n",
    "\n",
    "Vamos a separar el dataset en un 80 (train) - 20 (validation). Con el de 80 (train) haremos validación cruzada, y con el de 20 haremos la validación final.\n"
   ]
  },
  {
   "cell_type": "code",
   "execution_count": 15,
   "metadata": {},
   "outputs": [
    {
     "name": "stdout",
     "output_type": "stream",
     "text": [
      "X_Train_2:  (584, 5)\n",
      "X_Validation_2:  (146, 5)\n"
     ]
    }
   ],
   "source": [
    "array2 = dfMergeadoSelCaractPCA.values\n",
    "X_2 = array2[:,2:]\n",
    "y = array2[:,0]\n",
    "validation_size = 0.20\n",
    "seed = 7\n",
    "X_train_2, X_validation_2, y_train_2, y_validation_2 = train_test_split(X_2, y, test_size=validation_size, random_state=seed)\n",
    "print('X_Train_2: ', X_train_2.shape)\n",
    "print('X_Validation_2: ', X_validation_2.shape)"
   ]
  },
  {
   "cell_type": "markdown",
   "metadata": {},
   "source": [
    "Igualmente vamos a probar los siguientes algoritmos de clasificación:\n",
    "\n",
    "- Regresión lineal (LR)\n",
    "- Regularización de Regresión Lasso (L1)(LASSO)\n",
    "- Regularización de Regresión ElasticNet (EN)\n",
    "- k-vecinos más cercanos (KNN)\n",
    "- Árboles de decisión de regresión (CART)\n",
    "- Regresión de vectores de soporte (SVR)\n",
    "\n",
    "Usaremos la validación cruzada de nuevo probando con diversos nº de folds entre 3 y 10 y mediremos la precisión de los algoritmos mediante la métrica 'neg_mean_squared_error'\n",
    "\n",
    "**Inicialmente vamos a probar los algoritmos sobre los datos sin ningún preprocesamiento: no les hemos estandarizado ni reescalado.**"
   ]
  },
  {
   "cell_type": "code",
   "execution_count": 16,
   "metadata": {},
   "outputs": [
    {
     "name": "stdout",
     "output_type": "stream",
     "text": [
      "\u001b[1mPrecisiones con 3 splits\u001b[0m\n",
      "LR: -84.811311 (6.621789)\n",
      "LASSO: -84.977728 (6.576594)\n",
      "EN: -84.847067 (6.611959)\n",
      "KNN: -88.163262 (5.740679)\n",
      "CART: -173.397210 (16.495389)\n",
      "SVR: -86.887919 (7.344153)\n",
      "--------------------------\n",
      "\u001b[1mPrecisiones con 5 splits\u001b[0m\n",
      "LR: -84.549670 (17.266091)\n",
      "LASSO: -84.673720 (16.916239)\n",
      "EN: -84.562178 (17.065724)\n",
      "KNN: -84.873491 (12.147775)\n",
      "CART: -170.522375 (17.837206)\n",
      "SVR: -86.886777 (17.861717)\n",
      "--------------------------\n",
      "\u001b[1mPrecisiones con 7 splits\u001b[0m\n",
      "LR: -84.656443 (23.038232)\n",
      "LASSO: -84.783123 (22.915992)\n",
      "EN: -84.662303 (22.985942)\n",
      "KNN: -87.029496 (20.694746)\n",
      "CART: -167.271496 (22.515977)\n",
      "SVR: -86.819582 (25.612378)\n",
      "--------------------------\n",
      "\u001b[1mPrecisiones con 10 splits\u001b[0m\n",
      "LR: -84.395539 (25.403536)\n",
      "LASSO: -84.507757 (25.203389)\n",
      "EN: -84.402250 (25.283975)\n",
      "KNN: -85.329916 (19.263988)\n",
      "CART: -168.002726 (47.177102)\n",
      "SVR: -86.741555 (27.471536)\n",
      "--------------------------\n"
     ]
    }
   ],
   "source": [
    "## Algoritmos de control/Test puntual. Usaremos 6 tipos:\n",
    "models = []\n",
    "models.append(('LR', LinearRegression()))\n",
    "models.append(('LASSO', Lasso()))\n",
    "models.append(('EN', ElasticNet()))\n",
    "models.append(('KNN', KNeighborsRegressor()))\n",
    "models.append(('CART', DecisionTreeRegressor()))\n",
    "models.append(('SVR', SVR(gamma='scale')))\n",
    "\n",
    "#En un diccionario 'allresults' vamos guardando los resultados de los modelos para los diversos cv con 3,5,7 y 10 folds\n",
    "\n",
    "allresults = {}\n",
    "names = []\n",
    "for nsplits in (3,5,7,10):\n",
    "    print('\\033[1m' + 'Precisiones con %d splits' % nsplits + '\\033[0m')\n",
    "    results = []\n",
    "    for name, model in models:\n",
    "        kfold = KFold(n_splits=nsplits, shuffle=True, random_state=seed)\n",
    "        cv_results = cross_val_score(model, X_train_2, y_train_2, cv=kfold, scoring='neg_mean_squared_error')\n",
    "        results.append(cv_results)\n",
    "        names.append(name)\n",
    "        msg = \"%s: %f (%f)\" % (name, cv_results.mean(), cv_results.std())\n",
    "        print(msg)\n",
    "    print('--------------------------')\n",
    "    allresults[nsplits] = results"
   ]
  },
  {
   "cell_type": "markdown",
   "metadata": {},
   "source": [
    "**Trabajemos ahora con una estandarización para revisar su capacidad utilizando una copia estandarizada de los datos**.\n",
    "\n",
    "### Estandarización del dataset"
   ]
  },
  {
   "cell_type": "code",
   "execution_count": 17,
   "metadata": {},
   "outputs": [
    {
     "name": "stdout",
     "output_type": "stream",
     "text": [
      "\u001b[1mPrecisiones con 3 splits\u001b[0m\n",
      "ScLR: -84.811311 (6.621789)\n",
      "ScLASSO: -88.675236 (5.744042)\n",
      "ScEN: -88.130454 (6.413308)\n",
      "ScKNN: -88.784610 (6.994361)\n",
      "ScCART: -166.730600 (15.940566)\n",
      "ScSVR: -88.063724 (7.680176)\n",
      "--------------------------\n",
      "\u001b[1mPrecisiones con 5 splits\u001b[0m\n",
      "ScLR: -84.549670 (17.266091)\n",
      "ScLASSO: -87.964973 (16.393151)\n",
      "ScEN: -87.774781 (17.005126)\n",
      "ScKNN: -91.635223 (16.343683)\n",
      "ScCART: -171.079843 (17.743110)\n",
      "ScSVR: -87.929408 (17.666540)\n",
      "--------------------------\n",
      "\u001b[1mPrecisiones con 7 splits\u001b[0m\n",
      "ScLR: -84.656443 (23.038232)\n",
      "ScLASSO: -88.073558 (24.294159)\n",
      "ScEN: -87.877481 (24.374058)\n",
      "ScKNN: -91.332330 (24.588494)\n",
      "ScCART: -162.566918 (17.929947)\n",
      "ScSVR: -87.694656 (25.313942)\n",
      "--------------------------\n",
      "\u001b[1mPrecisiones con 10 splits\u001b[0m\n",
      "ScLR: -84.395539 (25.403536)\n",
      "ScLASSO: -88.072814 (25.411985)\n",
      "ScEN: -87.801289 (25.504290)\n",
      "ScKNN: -90.891559 (24.939780)\n",
      "ScCART: -167.716117 (51.948117)\n",
      "ScSVR: -87.338870 (27.365630)\n",
      "--------------------------\n"
     ]
    }
   ],
   "source": [
    "# Estandarización del dataset\n",
    "pipelines = []\n",
    "pipelines.append(('ScLR', Pipeline([('Scaler', StandardScaler()),('LR', LinearRegression())])))\n",
    "pipelines.append(('ScLASSO', Pipeline([('Scaler', StandardScaler()),('LASSO', Lasso())])))\n",
    "pipelines.append(('ScEN', Pipeline([('Scaler', StandardScaler()),('EN', ElasticNet())])))\n",
    "pipelines.append(('ScKNN', Pipeline([('Scaler', StandardScaler()),('KNN', KNeighborsRegressor())])))\n",
    "pipelines.append(('ScCART', Pipeline([('Scaler', StandardScaler()),('CART', DecisionTreeRegressor())])))\n",
    "pipelines.append(('ScSVR', Pipeline([('Scaler', StandardScaler()),('SVR', SVR(gamma='scale'))])))\n",
    "\n",
    "allresults = {}\n",
    "names = []\n",
    "for nsplits in (3,5,7,10):\n",
    "    print('\\033[1m' + 'Precisiones con %d splits' % nsplits + '\\033[0m')\n",
    "    results = []\n",
    "    for name, model in pipelines:\n",
    "        kfold = KFold(n_splits=nsplits, shuffle=True, random_state=seed)\n",
    "        cv_results = cross_val_score(model, X_train_2, y_train_2, cv=kfold, scoring='neg_mean_squared_error')\n",
    "        results.append(cv_results)\n",
    "        names.append(name)\n",
    "        msg = \"%s: %f (%f)\" % (name, cv_results.mean(), cv_results.std())\n",
    "        print(msg)\n",
    "    print('--------------------------')\n",
    "    allresults[nsplits] = results"
   ]
  },
  {
   "cell_type": "markdown",
   "metadata": {},
   "source": [
    "**Finalmente revisamos cómo funciona si usamos una copia de los datos reescalados**\n",
    "\n",
    "### Reescalado del dataset (entre 0 y 1)"
   ]
  },
  {
   "cell_type": "code",
   "execution_count": 18,
   "metadata": {},
   "outputs": [
    {
     "name": "stdout",
     "output_type": "stream",
     "text": [
      "\u001b[1mPrecisiones con 3 splits\u001b[0m\n",
      "mMLR: -84.811311 (6.621789)\n",
      "mMLASSO: -98.465173 (6.990435)\n",
      "mMEN: -98.359685 (7.051898)\n",
      "mMKNN: -89.642701 (4.348054)\n",
      "mMCART: -174.272352 (19.786767)\n",
      "mMSVR: -86.880391 (7.547581)\n",
      "--------------------------\n",
      "\u001b[1mPrecisiones con 5 splits\u001b[0m\n",
      "mMLR: -84.549670 (17.266091)\n",
      "mMLASSO: -98.241174 (17.811118)\n",
      "mMEN: -98.175187 (17.845624)\n",
      "mMKNN: -88.918510 (15.662668)\n",
      "mMCART: -168.114581 (22.754616)\n",
      "mMSVR: -87.057471 (17.647554)\n",
      "--------------------------\n",
      "\u001b[1mPrecisiones con 7 splits\u001b[0m\n",
      "mMLR: -84.656443 (23.038232)\n",
      "mMLASSO: -98.267631 (26.395707)\n",
      "mMEN: -98.217747 (26.409328)\n",
      "mMKNN: -87.994386 (22.877272)\n",
      "mMCART: -157.694767 (21.202589)\n",
      "mMSVR: -86.732119 (25.162861)\n",
      "--------------------------\n",
      "\u001b[1mPrecisiones con 10 splits\u001b[0m\n",
      "mMLR: -84.395539 (25.403536)\n",
      "mMLASSO: -98.419851 (26.489797)\n",
      "mMEN: -98.384371 (26.484896)\n",
      "mMKNN: -87.504208 (26.358474)\n",
      "mMCART: -165.020456 (50.913421)\n",
      "mMSVR: -86.453288 (27.141208)\n",
      "--------------------------\n"
     ]
    }
   ],
   "source": [
    "# Reescalado del dataset\n",
    "pipelines = []\n",
    "pipelines.append(('mMLR', Pipeline([('Scaler', MinMaxScaler()),('LR', LinearRegression())])))\n",
    "pipelines.append(('mMLASSO', Pipeline([('Scaler', MinMaxScaler()),('LASSO', Lasso())])))\n",
    "pipelines.append(('mMEN', Pipeline([('Scaler', MinMaxScaler()),('EN', ElasticNet())])))\n",
    "pipelines.append(('mMKNN', Pipeline([('Scaler', MinMaxScaler()),('KNN', KNeighborsRegressor())])))\n",
    "pipelines.append(('mMCART', Pipeline([('Scaler', MinMaxScaler()),('CART', DecisionTreeRegressor())])))\n",
    "pipelines.append(('mMSVR', Pipeline([('Scaler', MinMaxScaler()),('SVR', SVR(gamma='scale'))])))\n",
    "\n",
    "allresults = {}\n",
    "names = []\n",
    "for nsplits in (3,5,7,10):\n",
    "    print('\\033[1m' + 'Precisiones con %d splits' % nsplits + '\\033[0m')\n",
    "    results = []\n",
    "    for name, model in pipelines:\n",
    "        kfold = KFold(n_splits=nsplits, shuffle=True, random_state=seed)\n",
    "        cv_results = cross_val_score(model, X_train_2, y_train_2, cv=kfold, scoring='neg_mean_squared_error')\n",
    "        results.append(cv_results)\n",
    "        names.append(name)\n",
    "        msg = \"%s: %f (%f)\" % (name, cv_results.mean(), cv_results.std())\n",
    "        print(msg)\n",
    "    print('--------------------------')\n",
    "    allresults[nsplits] = results"
   ]
  },
  {
   "cell_type": "markdown",
   "metadata": {},
   "source": [
    "**Ninguno de todos estos valores es mejor que los obtenidos con los datos con la reducción de variables para PM10**"
   ]
  },
  {
   "cell_type": "markdown",
   "metadata": {},
   "source": [
    "## 2.2- Ensembles (Conjuntos)\n",
    "\n",
    "Podemos probar los mismos ensembles de antes, aunque ya imaginamos que no obtendremos resultados mejores"
   ]
  },
  {
   "cell_type": "code",
   "execution_count": 19,
   "metadata": {},
   "outputs": [
    {
     "name": "stdout",
     "output_type": "stream",
     "text": [
      "\u001b[1mPrecisiones con 3 splits\u001b[0m\n",
      "AB: -97.094188 (4.129014)\n",
      "GBM: -92.465247 (5.424477)\n",
      "RF: -85.583424 (2.821545)\n",
      "ET: -85.566386 (3.303302)\n",
      "--------------------------\n",
      "\u001b[1mPrecisiones con 5 splits\u001b[0m\n",
      "AB: -94.680592 (9.629703)\n",
      "GBM: -88.860501 (13.476623)\n",
      "RF: -83.335207 (14.379556)\n",
      "ET: -81.752757 (14.326425)\n",
      "--------------------------\n",
      "\u001b[1mPrecisiones con 7 splits\u001b[0m\n",
      "AB: -102.882311 (21.842821)\n",
      "GBM: -87.941478 (22.179425)\n",
      "RF: -83.354312 (22.845762)\n",
      "ET: -82.006991 (23.531805)\n",
      "--------------------------\n",
      "\u001b[1mPrecisiones con 10 splits\u001b[0m\n",
      "AB: -95.344919 (22.291059)\n",
      "GBM: -89.525204 (23.093459)\n",
      "RF: -83.068129 (19.331606)\n",
      "ET: -80.956347 (21.369516)\n",
      "--------------------------\n"
     ]
    }
   ],
   "source": [
    "#inicialmente probamos con los datos sin escalar\n",
    "\n",
    "ensembles = []\n",
    "ensembles.append(('AB', AdaBoostRegressor()))\n",
    "ensembles.append(('GBM', GradientBoostingRegressor()))\n",
    "ensembles.append(('RF', RandomForestRegressor(n_estimators=100)))\n",
    "ensembles.append(('ET', ExtraTreesRegressor(n_estimators=100)))\n",
    "\n",
    "allresults = {}\n",
    "names = []\n",
    "for nsplits in (3,5,7,10):\n",
    "    print('\\033[1m' + 'Precisiones con %d splits' % nsplits + '\\033[0m')\n",
    "    results = []\n",
    "    for name, model in ensembles:\n",
    "        kfold = KFold(n_splits=nsplits, shuffle=True, random_state=seed)\n",
    "        cv_results = cross_val_score(model, X_train_2, y_train_2, cv=kfold, scoring='neg_mean_squared_error')\n",
    "        results.append(cv_results)\n",
    "        names.append(name)\n",
    "        msg = \"%s: %f (%f)\" % (name, cv_results.mean(), cv_results.std())\n",
    "        print(msg)\n",
    "    print('--------------------------')\n",
    "    allresults[nsplits] = results"
   ]
  },
  {
   "cell_type": "code",
   "execution_count": 20,
   "metadata": {},
   "outputs": [
    {
     "name": "stdout",
     "output_type": "stream",
     "text": [
      "\u001b[1mPrecisiones con 3 splits\u001b[0m\n",
      "ScaledAB: -96.506735 (5.634427)\n",
      "ScaledGBM: -92.776681 (5.826521)\n",
      "ScaledRF: -85.769369 (3.997161)\n",
      "ScaledET: -86.456786 (4.053361)\n",
      "--------------------------\n",
      "\u001b[1mPrecisiones con 5 splits\u001b[0m\n",
      "ScaledAB: -93.291441 (14.315433)\n",
      "ScaledGBM: -89.188872 (13.009384)\n",
      "ScaledRF: -81.871988 (14.059080)\n",
      "ScaledET: -82.080685 (16.822665)\n",
      "--------------------------\n",
      "\u001b[1mPrecisiones con 7 splits\u001b[0m\n",
      "ScaledAB: -94.542233 (21.440154)\n",
      "ScaledGBM: -87.900334 (22.226187)\n",
      "ScaledRF: -83.239845 (21.482795)\n",
      "ScaledET: -81.446299 (24.392056)\n",
      "--------------------------\n",
      "\u001b[1mPrecisiones con 10 splits\u001b[0m\n",
      "ScaledAB: -93.189505 (21.318337)\n",
      "ScaledGBM: -88.507012 (22.784416)\n",
      "ScaledRF: -81.933192 (20.568204)\n",
      "ScaledET: -81.366282 (21.027877)\n",
      "--------------------------\n"
     ]
    }
   ],
   "source": [
    "#Ahora probamos estandarizando los datos\n",
    "\n",
    "ensembles = []\n",
    "ensembles.append(('ScaledAB', Pipeline([('Scaler', StandardScaler()),('AB', AdaBoostRegressor())])))\n",
    "ensembles.append(('ScaledGBM', Pipeline([('Scaler', StandardScaler()),('GBM', GradientBoostingRegressor())])))\n",
    "ensembles.append(('ScaledRF', Pipeline([('Scaler', StandardScaler()),('RF', RandomForestRegressor(n_estimators=100))])))\n",
    "ensembles.append(('ScaledET', Pipeline([('Scaler', StandardScaler()),('ET', ExtraTreesRegressor(n_estimators=100))])))\n",
    "\n",
    "allresults = {}\n",
    "names = []\n",
    "for nsplits in (3,5,7,10):\n",
    "    print('\\033[1m' + 'Precisiones con %d splits' % nsplits + '\\033[0m')\n",
    "    results = []\n",
    "    for name, model in ensembles:\n",
    "        kfold = KFold(n_splits=nsplits, shuffle=True, random_state=seed)\n",
    "        cv_results = cross_val_score(model, X_train_2, y_train_2, cv=kfold, scoring='neg_mean_squared_error')\n",
    "        results.append(cv_results)\n",
    "        names.append(name)\n",
    "        msg = \"%s: %f (%f)\" % (name, cv_results.mean(), cv_results.std())\n",
    "        print(msg)\n",
    "    print('--------------------------')\n",
    "    allresults[nsplits] = results"
   ]
  },
  {
   "cell_type": "markdown",
   "metadata": {},
   "source": [
    "Efectivamente no conseguimos mejores resultados que con la anterior selección de características. Por tanto:\n",
    "\n",
    "#### **Conclusión:**\n",
    "#### El mejor modelo obtenido sigue siendo el **ExtraTreesRegressor (ET)** con validación cruzada de **5 folds**, habiendo realizado una **selección de 5 características** y con los **datos sin escalar ni estandarizar**, obteniendo un error cuadrático medio negativo de **-80,574**"
   ]
  },
  {
   "cell_type": "markdown",
   "metadata": {},
   "source": [
    "---------------------------------------------------------------------------------------------------------------------\n",
    "\n",
    "\n",
    "## 3) Carga del dataset mergeado trabajado SIN selección de características para PM10\n",
    "\n",
    "Ahora vamos a realizar el mismo estudio pero cogiendo el dataset trabajado sin selección de características, para comprobar si los resultados son mejores o peores\n"
   ]
  },
  {
   "cell_type": "code",
   "execution_count": 21,
   "metadata": {},
   "outputs": [
    {
     "name": "stdout",
     "output_type": "stream",
     "text": [
      "Index(['pm10', 'no2', 'year', 'month', 'day', 'tmed', 'prec', 'tmin', 'tmax',\n",
      "       'dir', 'velmedia', 'racha', 'sol', 'presmax', 'presmin', 'week',\n",
      "       'season', 'season_name', 'estado_trafico', 'diadelasemana',\n",
      "       'findesemana'],\n",
      "      dtype='object')\n",
      "                 pm10        no2  year  month  day  tmed  prec  tmin  tmax  \\\n",
      "date                                                                         \n",
      "2018-01-01  10.000000  24.000000  2018      1    1  12.8   0.0  10.2  10.2   \n",
      "2018-01-02  11.000000  10.000000  2018      1    2  14.6   0.0  11.4  11.4   \n",
      "2018-01-03  10.000000   7.000000  2018      1    3  17.9   0.0  14.0  14.0   \n",
      "2018-01-04  11.000000  14.000000  2018      1    4  19.2   0.0  16.4  16.4   \n",
      "2018-01-05  10.000000  20.000000  2018      1    5  16.4   0.0  13.7  13.7   \n",
      "...               ...        ...   ...    ...  ...   ...   ...   ...   ...   \n",
      "2019-12-27  16.000000  18.000000  2019     12   27  12.0   0.0   8.5   8.5   \n",
      "2019-12-28  19.000000  16.000000  2019     12   28  11.0   0.0   6.6   6.6   \n",
      "2019-12-29  23.000000  17.641379  2019     12   29  12.3   0.0  10.2  10.2   \n",
      "2019-12-30  23.712692  17.641379  2019     12   30  11.6   0.0   8.8   8.8   \n",
      "2019-12-31  23.712692  15.000000  2019     12   31  10.8   0.0   7.6   7.6   \n",
      "\n",
      "             dir  ...  racha  sol  presmax  presmin  week  season  \\\n",
      "date              ...                                               \n",
      "2018-01-01  31.0  ...   18.1  5.1   1027.2   1017.9     1       1   \n",
      "2018-01-02  30.0  ...   10.3  3.1   1025.4   1022.2     1       1   \n",
      "2018-01-03  31.0  ...   18.3  1.9   1023.0   1018.7     1       1   \n",
      "2018-01-04  31.0  ...   20.0  5.9   1019.0   1015.1     1       1   \n",
      "2018-01-05  30.0  ...   13.3  6.4   1015.2   1004.6     1       1   \n",
      "...          ...  ...    ...  ...      ...      ...   ...     ...   \n",
      "2019-12-27  35.0  ...    8.1  5.1   1030.0   1026.3    52       1   \n",
      "2019-12-28  13.0  ...    5.8  5.2   1032.1   1028.0    52       1   \n",
      "2019-12-29  36.0  ...    4.2  0.1   1033.1   1030.3    52       1   \n",
      "2019-12-30  35.0  ...    6.1  0.7   1033.9   1031.2     1       1   \n",
      "2019-12-31  26.0  ...    6.7  1.8   1033.8   1030.8     1       1   \n",
      "\n",
      "            season_name estado_trafico  diadelasemana  findesemana  \n",
      "date                                                                \n",
      "2018-01-01       Winter       1.501611              0            0  \n",
      "2018-01-02       Winter       1.855361              1            0  \n",
      "2018-01-03       Winter       1.914663              2            0  \n",
      "2018-01-04       Winter       1.917587              3            0  \n",
      "2018-01-05       Winter       1.933171              4            0  \n",
      "...                 ...            ...            ...          ...  \n",
      "2019-12-27       Winter       1.879245              4            0  \n",
      "2019-12-28       Winter       1.677568              5            1  \n",
      "2019-12-29       Winter       1.567480              6            1  \n",
      "2019-12-30       Winter       1.895104              0            0  \n",
      "2019-12-31       Winter       1.804372              1            0  \n",
      "\n",
      "[730 rows x 21 columns]\n"
     ]
    }
   ],
   "source": [
    "#cogemos el dataset trabajado anteriormente con los datos mergeados sin haber hecho una reducción de variables\n",
    "url_fichero_merssc = './DatosMergeadosBarcelona.csv'\n",
    "dfMergeado = pd.read_csv(url_fichero_merssc)\n",
    "dfMergeado = dfMergeado.set_index('date')\n",
    "print(dfMergeado.columns)\n",
    "print(dfMergeado)"
   ]
  },
  {
   "cell_type": "code",
   "execution_count": 22,
   "metadata": {},
   "outputs": [
    {
     "name": "stdout",
     "output_type": "stream",
     "text": [
      "Index(['pm10', 'no2', 'tmed', 'prec', 'tmin', 'tmax', 'dir', 'velmedia',\n",
      "       'racha', 'sol', 'presmax', 'presmin', 'estado_trafico'],\n",
      "      dtype='object')\n"
     ]
    }
   ],
   "source": [
    "#Eliminamos todos los campos que no son de meteorología o de tráfico (los que son de fechas)\n",
    "dfMergeado = dfMergeado.drop(columns=['year','month','day','week','season','season_name','diadelasemana',\n",
    "       'findesemana'])\n",
    "print(dfMergeado.columns)"
   ]
  },
  {
   "cell_type": "markdown",
   "metadata": {},
   "source": [
    "## 3.1- Evaluación de los algoritmos\n",
    "### Dataset de validación de división (Split-out)\n",
    "**Dejaremos 80-20, preparado para CV de 10-folds** \n",
    "\n",
    "Vamos a separar el dataset en un 80 (train) - 20 (validation). Con el de 80 (train) haremos validación cruzada, y con el de 20 haremos la validación final.\n"
   ]
  },
  {
   "cell_type": "code",
   "execution_count": 23,
   "metadata": {},
   "outputs": [
    {
     "name": "stdout",
     "output_type": "stream",
     "text": [
      "X_Train_3:  (584, 11)\n",
      "X_Validation_3:  (146, 11)\n"
     ]
    }
   ],
   "source": [
    "array3 = dfMergeado.values\n",
    "X_3 = array3[:,2:]\n",
    "y = array3[:,0]\n",
    "validation_size = 0.20\n",
    "seed = 7\n",
    "X_train_3, X_validation_3, y_train_3, y_validation_3 = train_test_split(X_3, y, test_size=validation_size, random_state=seed)\n",
    "print('X_Train_3: ', X_train_3.shape)\n",
    "print('X_Validation_3: ', X_validation_3.shape)"
   ]
  },
  {
   "cell_type": "markdown",
   "metadata": {},
   "source": [
    "Igualmente vamos a probar los siguientes algoritmos de clasificación:\n",
    "\n",
    "- Regresión lineal (LR)\n",
    "- Regularización de Regresión Lasso (L1)(LASSO)\n",
    "- Regularización de Regresión ElasticNet (EN)\n",
    "- k-vecinos más cercanos (KNN)\n",
    "- Árboles de decisión de regresión (CART)\n",
    "- Regresión de vectores de soporte (SVR)\n",
    "\n",
    "Usaremos la validación cruzada de nuevo probando con diversos nº de folds entre 3 y 10 y mediremos la precisión de los algoritmos mediante la métrica 'neg_mean_squared_error'\n",
    "\n",
    "**Inicialmente vamos a probar los algoritmos sobre los datos sin ningún preprocesamiento: no les hemos estandarizado ni reescalado.**"
   ]
  },
  {
   "cell_type": "code",
   "execution_count": 24,
   "metadata": {},
   "outputs": [
    {
     "name": "stdout",
     "output_type": "stream",
     "text": [
      "\u001b[1mPrecisiones con 3 splits\u001b[0m\n",
      "LR: -82.674654 (6.479423)\n",
      "LASSO: -85.438851 (6.425381)\n",
      "EN: -85.319842 (6.474539)\n",
      "KNN: -88.130704 (7.821694)\n",
      "CART: -161.902800 (32.043373)\n",
      "SVR: -98.859929 (6.797321)\n",
      "--------------------------\n",
      "\u001b[1mPrecisiones con 5 splits\u001b[0m\n",
      "LR: -82.229545 (15.125750)\n",
      "LASSO: -84.944293 (16.903316)\n",
      "EN: -84.850863 (16.951849)\n",
      "KNN: -88.328034 (10.456643)\n",
      "CART: -136.844411 (28.053218)\n",
      "SVR: -98.830322 (17.904543)\n",
      "--------------------------\n",
      "\u001b[1mPrecisiones con 7 splits\u001b[0m\n",
      "LR: -82.439325 (20.914649)\n",
      "LASSO: -85.184347 (22.867794)\n",
      "EN: -85.058509 (22.893168)\n",
      "KNN: -88.296040 (22.295107)\n",
      "CART: -171.508134 (38.817742)\n",
      "SVR: -98.794668 (26.286830)\n",
      "--------------------------\n",
      "\u001b[1mPrecisiones con 10 splits\u001b[0m\n",
      "LR: -82.208267 (22.287354)\n",
      "LASSO: -84.879180 (25.661489)\n",
      "EN: -84.671498 (25.695424)\n",
      "KNN: -85.551688 (18.700799)\n",
      "CART: -158.559984 (29.259394)\n",
      "SVR: -98.805605 (27.608919)\n",
      "--------------------------\n"
     ]
    }
   ],
   "source": [
    "## Algoritmos de control/Test puntual. Usaremos 6 tipos:\n",
    "models = []\n",
    "models.append(('LR', LinearRegression()))\n",
    "models.append(('LASSO', Lasso()))\n",
    "models.append(('EN', ElasticNet()))\n",
    "models.append(('KNN', KNeighborsRegressor()))\n",
    "models.append(('CART', DecisionTreeRegressor()))\n",
    "models.append(('SVR', SVR(gamma='scale')))\n",
    "\n",
    "#En un diccionario 'allresults' vamos guardando los resultados de los modelos para los diversos cv con 3,5,7 y 10 folds\n",
    "\n",
    "allresults = {}\n",
    "names = []\n",
    "for nsplits in (3,5,7,10):\n",
    "    print('\\033[1m' + 'Precisiones con %d splits' % nsplits + '\\033[0m')\n",
    "    results = []\n",
    "    for name, model in models:\n",
    "        kfold = KFold(n_splits=nsplits, shuffle=True, random_state=seed)\n",
    "        cv_results = cross_val_score(model, X_train_3, y_train_3, cv=kfold, scoring='neg_mean_squared_error')\n",
    "        results.append(cv_results)\n",
    "        names.append(name)\n",
    "        msg = \"%s: %f (%f)\" % (name, cv_results.mean(), cv_results.std())\n",
    "        print(msg)\n",
    "    print('--------------------------')\n",
    "    allresults[nsplits] = results"
   ]
  },
  {
   "cell_type": "markdown",
   "metadata": {},
   "source": [
    "**Trabajemos ahora con una estandarización para revisar su capacidad utilizando una copia estandarizada de los datos**.\n",
    "\n",
    "### Estandarización del dataset"
   ]
  },
  {
   "cell_type": "code",
   "execution_count": 25,
   "metadata": {},
   "outputs": [
    {
     "name": "stdout",
     "output_type": "stream",
     "text": [
      "\u001b[1mPrecisiones con 3 splits\u001b[0m\n",
      "ScLR: -82.674654 (6.479423)\n",
      "ScLASSO: -86.207366 (5.870372)\n",
      "ScEN: -84.489432 (5.888819)\n",
      "ScKNN: -94.352644 (9.655976)\n",
      "ScCART: -168.050831 (38.487002)\n",
      "ScSVR: -85.712744 (7.053032)\n",
      "--------------------------\n",
      "\u001b[1mPrecisiones con 5 splits\u001b[0m\n",
      "ScLR: -82.229545 (15.125750)\n",
      "ScLASSO: -85.626278 (16.642297)\n",
      "ScEN: -84.061271 (16.256762)\n",
      "ScKNN: -92.368824 (12.766410)\n",
      "ScCART: -141.200660 (32.462812)\n",
      "ScSVR: -85.158140 (15.231599)\n",
      "--------------------------\n",
      "\u001b[1mPrecisiones con 7 splits\u001b[0m\n",
      "ScLR: -82.439325 (20.914649)\n",
      "ScLASSO: -85.795529 (23.311580)\n",
      "ScEN: -84.266281 (22.790685)\n",
      "ScKNN: -93.376322 (21.914574)\n",
      "ScCART: -179.071895 (17.768415)\n",
      "ScSVR: -85.022463 (22.499386)\n",
      "--------------------------\n",
      "\u001b[1mPrecisiones con 10 splits\u001b[0m\n",
      "ScLR: -82.208267 (22.287354)\n",
      "ScLASSO: -85.622424 (25.022626)\n",
      "ScEN: -84.093989 (24.731961)\n",
      "ScKNN: -95.638427 (21.371176)\n",
      "ScCART: -167.723881 (22.649682)\n",
      "ScSVR: -84.538150 (24.496810)\n",
      "--------------------------\n"
     ]
    }
   ],
   "source": [
    "# Estandarización del dataset\n",
    "pipelines = []\n",
    "pipelines.append(('ScLR', Pipeline([('Scaler', StandardScaler()),('LR', LinearRegression())])))\n",
    "pipelines.append(('ScLASSO', Pipeline([('Scaler', StandardScaler()),('LASSO', Lasso())])))\n",
    "pipelines.append(('ScEN', Pipeline([('Scaler', StandardScaler()),('EN', ElasticNet())])))\n",
    "pipelines.append(('ScKNN', Pipeline([('Scaler', StandardScaler()),('KNN', KNeighborsRegressor())])))\n",
    "pipelines.append(('ScCART', Pipeline([('Scaler', StandardScaler()),('CART', DecisionTreeRegressor())])))\n",
    "pipelines.append(('ScSVR', Pipeline([('Scaler', StandardScaler()),('SVR', SVR(gamma='scale'))])))\n",
    "\n",
    "allresults = {}\n",
    "names = []\n",
    "for nsplits in (3,5,7,10):\n",
    "    print('\\033[1m' + 'Precisiones con %d splits' % nsplits + '\\033[0m')\n",
    "    results = []\n",
    "    for name, model in pipelines:\n",
    "        kfold = KFold(n_splits=nsplits, shuffle=True, random_state=seed)\n",
    "        cv_results = cross_val_score(model, X_train_3, y_train_3, cv=kfold, scoring='neg_mean_squared_error')\n",
    "        results.append(cv_results)\n",
    "        names.append(name)\n",
    "        msg = \"%s: %f (%f)\" % (name, cv_results.mean(), cv_results.std())\n",
    "        print(msg)\n",
    "    print('--------------------------')\n",
    "    allresults[nsplits] = results"
   ]
  },
  {
   "cell_type": "markdown",
   "metadata": {},
   "source": [
    "**Finalmente revisamos cómo funciona si usamos una copia de los datos reescalados**\n",
    "\n",
    "### Reescalado del dataset (entre 0 y 1)"
   ]
  },
  {
   "cell_type": "code",
   "execution_count": 26,
   "metadata": {},
   "outputs": [
    {
     "name": "stdout",
     "output_type": "stream",
     "text": [
      "\u001b[1mPrecisiones con 3 splits\u001b[0m\n",
      "mMLR: -82.674654 (6.479423)\n",
      "mMLASSO: -98.465173 (6.990435)\n",
      "mMEN: -96.737127 (6.921953)\n",
      "mMKNN: -92.333366 (6.220789)\n",
      "mMCART: -169.996707 (45.243836)\n",
      "mMSVR: -83.954220 (6.322719)\n",
      "--------------------------\n",
      "\u001b[1mPrecisiones con 5 splits\u001b[0m\n",
      "mMLR: -82.229545 (15.125750)\n",
      "mMLASSO: -98.241174 (17.811118)\n",
      "mMEN: -96.461199 (17.613797)\n",
      "mMKNN: -96.465211 (9.893951)\n",
      "mMCART: -140.222142 (36.818346)\n",
      "mMSVR: -83.613772 (14.675977)\n",
      "--------------------------\n",
      "\u001b[1mPrecisiones con 7 splits\u001b[0m\n",
      "mMLR: -82.439325 (20.914649)\n",
      "mMLASSO: -98.267631 (26.395707)\n",
      "mMEN: -96.486244 (26.174039)\n",
      "mMKNN: -99.087286 (19.767152)\n",
      "mMCART: -167.518677 (20.478933)\n",
      "mMSVR: -83.367401 (22.422954)\n",
      "--------------------------\n",
      "\u001b[1mPrecisiones con 10 splits\u001b[0m\n",
      "mMLR: -82.208267 (22.287354)\n",
      "mMLASSO: -98.419851 (26.489797)\n",
      "mMEN: -96.566051 (26.339376)\n",
      "mMKNN: -97.016916 (21.519720)\n",
      "mMCART: -154.825469 (26.214008)\n",
      "mMSVR: -83.118761 (24.170187)\n",
      "--------------------------\n"
     ]
    }
   ],
   "source": [
    "# Reescalado del dataset\n",
    "pipelines = []\n",
    "pipelines.append(('mMLR', Pipeline([('Scaler', MinMaxScaler()),('LR', LinearRegression())])))\n",
    "pipelines.append(('mMLASSO', Pipeline([('Scaler', MinMaxScaler()),('LASSO', Lasso())])))\n",
    "pipelines.append(('mMEN', Pipeline([('Scaler', MinMaxScaler()),('EN', ElasticNet())])))\n",
    "pipelines.append(('mMKNN', Pipeline([('Scaler', MinMaxScaler()),('KNN', KNeighborsRegressor())])))\n",
    "pipelines.append(('mMCART', Pipeline([('Scaler', MinMaxScaler()),('CART', DecisionTreeRegressor())])))\n",
    "pipelines.append(('mMSVR', Pipeline([('Scaler', MinMaxScaler()),('SVR', SVR(gamma='scale'))])))\n",
    "\n",
    "allresults = {}\n",
    "names = []\n",
    "for nsplits in (3,5,7,10):\n",
    "    print('\\033[1m' + 'Precisiones con %d splits' % nsplits + '\\033[0m')\n",
    "    results = []\n",
    "    for name, model in pipelines:\n",
    "        kfold = KFold(n_splits=nsplits, shuffle=True, random_state=seed)\n",
    "        cv_results = cross_val_score(model, X_train_3, y_train_3, cv=kfold, scoring='neg_mean_squared_error')\n",
    "        results.append(cv_results)\n",
    "        names.append(name)\n",
    "        msg = \"%s: %f (%f)\" % (name, cv_results.mean(), cv_results.std())\n",
    "        print(msg)\n",
    "    print('--------------------------')\n",
    "    allresults[nsplits] = results"
   ]
  },
  {
   "cell_type": "markdown",
   "metadata": {},
   "source": [
    "**Ninguno de todos estos valores es mejor que los obtenidos en el primer caso**"
   ]
  },
  {
   "cell_type": "markdown",
   "metadata": {},
   "source": [
    "## 3.2- Ensembles (Conjuntos)\n",
    "\n",
    "Podemos probar los mismos ensembles de antes"
   ]
  },
  {
   "cell_type": "code",
   "execution_count": 27,
   "metadata": {},
   "outputs": [
    {
     "name": "stdout",
     "output_type": "stream",
     "text": [
      "\u001b[1mPrecisiones con 3 splits\u001b[0m\n",
      "AB: -85.146578 (2.941135)\n",
      "GBM: -81.984609 (6.652388)\n",
      "RF: -80.886092 (4.176590)\n",
      "ET: -78.795091 (7.314475)\n",
      "--------------------------\n",
      "\u001b[1mPrecisiones con 5 splits\u001b[0m\n",
      "AB: -86.001424 (10.041587)\n",
      "GBM: -79.565481 (12.768330)\n",
      "RF: -76.341177 (12.150087)\n",
      "ET: -77.492342 (12.342786)\n",
      "--------------------------\n",
      "\u001b[1mPrecisiones con 7 splits\u001b[0m\n",
      "AB: -84.158951 (16.778459)\n",
      "GBM: -78.709338 (15.845653)\n",
      "RF: -78.877393 (18.628239)\n",
      "ET: -77.406967 (19.112930)\n",
      "--------------------------\n",
      "\u001b[1mPrecisiones con 10 splits\u001b[0m\n",
      "AB: -85.651700 (17.485475)\n",
      "GBM: -79.398208 (22.610253)\n",
      "RF: -77.978526 (19.747441)\n",
      "ET: -75.976735 (21.896994)\n",
      "--------------------------\n"
     ]
    }
   ],
   "source": [
    "#inicialmente probamos con los datos sin escalar\n",
    "\n",
    "ensembles = []\n",
    "ensembles.append(('AB', AdaBoostRegressor()))\n",
    "ensembles.append(('GBM', GradientBoostingRegressor()))\n",
    "ensembles.append(('RF', RandomForestRegressor(n_estimators=100)))\n",
    "ensembles.append(('ET', ExtraTreesRegressor(n_estimators=100)))\n",
    "\n",
    "allresults = {}\n",
    "names = []\n",
    "for nsplits in (3,5,7,10):\n",
    "    print('\\033[1m' + 'Precisiones con %d splits' % nsplits + '\\033[0m')\n",
    "    results = []\n",
    "    for name, model in ensembles:\n",
    "        kfold = KFold(n_splits=nsplits, shuffle=True, random_state=seed)\n",
    "        cv_results = cross_val_score(model, X_train_3, y_train_3, cv=kfold, scoring='neg_mean_squared_error')\n",
    "        results.append(cv_results)\n",
    "        names.append(name)\n",
    "        msg = \"%s: %f (%f)\" % (name, cv_results.mean(), cv_results.std())\n",
    "        print(msg)\n",
    "    print('--------------------------')\n",
    "    allresults[nsplits] = results"
   ]
  },
  {
   "cell_type": "code",
   "execution_count": 28,
   "metadata": {},
   "outputs": [
    {
     "name": "stdout",
     "output_type": "stream",
     "text": [
      "\u001b[1mPrecisiones con 3 splits\u001b[0m\n",
      "ScaledAB: -83.954666 (4.909215)\n",
      "ScaledGBM: -82.107224 (7.091411)\n",
      "ScaledRF: -80.258973 (6.381838)\n",
      "ScaledET: -79.869739 (6.711098)\n",
      "--------------------------\n",
      "\u001b[1mPrecisiones con 5 splits\u001b[0m\n",
      "ScaledAB: -84.299450 (11.137073)\n",
      "ScaledGBM: -80.583568 (12.766265)\n",
      "ScaledRF: -76.942986 (11.512086)\n",
      "ScaledET: -76.701689 (14.319100)\n",
      "--------------------------\n",
      "\u001b[1mPrecisiones con 7 splits\u001b[0m\n",
      "ScaledAB: -84.751301 (17.915076)\n",
      "ScaledGBM: -78.492645 (15.241372)\n",
      "ScaledRF: -79.344047 (18.730392)\n",
      "ScaledET: -78.867377 (20.226619)\n",
      "--------------------------\n",
      "\u001b[1mPrecisiones con 10 splits\u001b[0m\n",
      "ScaledAB: -84.250047 (17.119937)\n",
      "ScaledGBM: -79.452632 (23.203956)\n",
      "ScaledRF: -76.545893 (20.855496)\n",
      "ScaledET: -76.873168 (20.934991)\n",
      "--------------------------\n"
     ]
    }
   ],
   "source": [
    "#Ahora probamos estandarizando los datos\n",
    "\n",
    "ensembles = []\n",
    "ensembles.append(('ScaledAB', Pipeline([('Scaler', StandardScaler()),('AB', AdaBoostRegressor())])))\n",
    "ensembles.append(('ScaledGBM', Pipeline([('Scaler', StandardScaler()),('GBM', GradientBoostingRegressor())])))\n",
    "ensembles.append(('ScaledRF', Pipeline([('Scaler', StandardScaler()),('RF', RandomForestRegressor(n_estimators=100))])))\n",
    "ensembles.append(('ScaledET', Pipeline([('Scaler', StandardScaler()),('ET', ExtraTreesRegressor(n_estimators=100))])))\n",
    "\n",
    "allresults = {}\n",
    "names = []\n",
    "for nsplits in (3,5,7,10):\n",
    "    print('\\033[1m' + 'Precisiones con %d splits' % nsplits + '\\033[0m')\n",
    "    results = []\n",
    "    for name, model in ensembles:\n",
    "        kfold = KFold(n_splits=nsplits, shuffle=True, random_state=seed)\n",
    "        cv_results = cross_val_score(model, X_train_3, y_train_3, cv=kfold, scoring='neg_mean_squared_error')\n",
    "        results.append(cv_results)\n",
    "        names.append(name)\n",
    "        msg = \"%s: %f (%f)\" % (name, cv_results.mean(), cv_results.std())\n",
    "        print(msg)\n",
    "    print('--------------------------')\n",
    "    allresults[nsplits] = results"
   ]
  },
  {
   "cell_type": "code",
   "execution_count": 29,
   "metadata": {},
   "outputs": [
    {
     "name": "stdout",
     "output_type": "stream",
     "text": [
      "\u001b[1mPrecisiones con 3 splits\u001b[0m\n",
      "ScaledAB: -82.585246 (3.773255)\n",
      "ScaledGBM: -82.098111 (7.015804)\n",
      "ScaledRF: -79.669532 (5.841629)\n",
      "ScaledET: -79.442468 (6.631640)\n",
      "--------------------------\n",
      "\u001b[1mPrecisiones con 5 splits\u001b[0m\n",
      "ScaledAB: -83.755748 (7.401887)\n",
      "ScaledGBM: -79.382892 (12.563070)\n",
      "ScaledRF: -76.750670 (10.365249)\n",
      "ScaledET: -76.988081 (12.604008)\n",
      "--------------------------\n",
      "\u001b[1mPrecisiones con 7 splits\u001b[0m\n",
      "ScaledAB: -86.128181 (17.447273)\n",
      "ScaledGBM: -78.261520 (15.618579)\n",
      "ScaledRF: -76.746592 (19.110259)\n",
      "ScaledET: -77.259444 (20.681946)\n",
      "--------------------------\n",
      "\u001b[1mPrecisiones con 10 splits\u001b[0m\n",
      "ScaledAB: -85.359094 (18.103744)\n",
      "ScaledGBM: -79.094276 (23.344197)\n",
      "ScaledRF: -79.315529 (21.128697)\n",
      "ScaledET: -74.172305 (21.374051)\n",
      "--------------------------\n"
     ]
    }
   ],
   "source": [
    "#Y probamos finalmente reescalando los datos entre 0 y 1\n",
    "\n",
    "ensembles = []\n",
    "ensembles.append(('ScaledAB', Pipeline([('Scaler', MinMaxScaler()),('AB', AdaBoostRegressor())])))\n",
    "ensembles.append(('ScaledGBM', Pipeline([('Scaler', MinMaxScaler()),('GBM', GradientBoostingRegressor())])))\n",
    "ensembles.append(('ScaledRF', Pipeline([('Scaler', MinMaxScaler()),('RF', RandomForestRegressor(n_estimators=100))])))\n",
    "ensembles.append(('ScaledET', Pipeline([('Scaler', MinMaxScaler()),('ET', ExtraTreesRegressor(n_estimators=100))])))\n",
    "\n",
    "allresults = {}\n",
    "names = []\n",
    "for nsplits in (3,5,7,10):\n",
    "    print('\\033[1m' + 'Precisiones con %d splits' % nsplits + '\\033[0m')\n",
    "    results = []\n",
    "    for name, model in ensembles:\n",
    "        kfold = KFold(n_splits=nsplits, shuffle=True, random_state=seed)\n",
    "        cv_results = cross_val_score(model, X_train_3, y_train_3, cv=kfold, scoring='neg_mean_squared_error')\n",
    "        results.append(cv_results)\n",
    "        names.append(name)\n",
    "        msg = \"%s: %f (%f)\" % (name, cv_results.mean(), cv_results.std())\n",
    "        print(msg)\n",
    "    print('--------------------------')\n",
    "    allresults[nsplits] = results"
   ]
  },
  {
   "cell_type": "markdown",
   "metadata": {},
   "source": [
    "Pues obtenemos mejores resultados con los tres, y el mejor resulta ser el ET con 10 folds habiendo reescalado los datos. Por tanto:\n",
    "\n",
    "## Resumen:\n",
    "- Con Seleccion Caracteristicas PM10\n",
    "    - Sin escalado: LR 5 folds (81,881)\n",
    "    - Estandarizando: no mejora\n",
    "    - Reescalando: no mejora\n",
    "\n",
    "    Ensembles:\n",
    "    - Sin escalado: ET 5 folds (80.574)\n",
    "    - Estandarizando: no mejora\n",
    "    - Reescalando: no mejora\n",
    "\n",
    "- Con Seleccion Caracteristicas PCA\n",
    "\n",
    "    Nada mejora\n",
    "\n",
    "- Sin Seleccion Caracteristicas\n",
    "    - Sin escalado: no mejora\n",
    "    - Estandarizando: no mejora\n",
    "    - Reescalando: no mejora\n",
    "\n",
    "    Ensembles:\n",
    "    - Sin escalado: ET 10 folds (75.977)\n",
    "    - Estandarizando: No mejora\n",
    "    - Reescalando: ET 10 folds (74.172)\n",
    "\n",
    "## Conclusión:\n",
    "### El mejor modelo obtenido es el ensemble ExtraTreesRegressor (ET) con validación cruzada de 10 folds, sin selección de características y con los datos rescalados entre 0 y 1, obteniendo un error cuadrático medio negativo de -74.172"
   ]
  },
  {
   "cell_type": "markdown",
   "metadata": {},
   "source": [
    "## 3.3- Tunning del ExtraTreeRegressor\n",
    "Cogiendo de nuevo el dataset con selección de características, y el modelo ExtraTreesRegressor (ET), vamos a probar a mejorarlo ajustando su número de Estimadores, para ver si obtenemos mejor puntuación con algún número distinto de 100."
   ]
  },
  {
   "cell_type": "code",
   "execution_count": 30,
   "metadata": {},
   "outputs": [
    {
     "name": "stdout",
     "output_type": "stream",
     "text": [
      "-75.487321 (20.956221) with n_estimators: 50\n",
      "-75.736334 (22.535691) with n_estimators: 100\n",
      "-75.614177 (22.535807) with n_estimators: 150\n",
      "-75.822445 (22.559897) with n_estimators: 200\n",
      "-75.265547 (22.297968) with n_estimators: 250\n",
      "-75.022056 (22.215841) with n_estimators: 300\n",
      "-75.384573 (22.378609) with n_estimators: 350\n",
      "-74.613456 (22.275496) with n_estimators: 400\n"
     ]
    }
   ],
   "source": [
    "for num_estimators in (50,100,150,200,250,300,350,400):\n",
    "    model=Pipeline([('Scaler', MinMaxScaler()),('ET', ExtraTreesRegressor(n_estimators=num_estimators))])\n",
    "    kfold = KFold(n_splits=10, shuffle=True, random_state=seed)\n",
    "    cv_results = cross_val_score(model, X_train_3, y_train_3, cv=kfold, scoring='neg_mean_squared_error')\n",
    "    print(\"%f (%f) with n_estimators: %r\" % (cv_results.mean(), cv_results.std(), num_estimators))"
   ]
  },
  {
   "cell_type": "markdown",
   "metadata": {},
   "source": [
    "### Mejoramos el modelo con 400 estimadores."
   ]
  },
  {
   "cell_type": "markdown",
   "metadata": {},
   "source": [
    "# 4) Finalizar el modelo\n",
    "## Predicciones sobre el conjunto de datos de validación"
   ]
  },
  {
   "cell_type": "code",
   "execution_count": 31,
   "metadata": {},
   "outputs": [
    {
     "data": {
      "text/plain": [
       "Pipeline(steps=[('Scaler', MinMaxScaler()),\n",
       "                ('ET', ExtraTreesRegressor(n_estimators=400))])"
      ]
     },
     "execution_count": 31,
     "metadata": {},
     "output_type": "execute_result"
    }
   ],
   "source": [
    "## Preparamos el modelo y lo entrenamos sobre el dataset de entrenamiento\n",
    "## cogiendo el dataset sin la selección de características\n",
    "\n",
    "array = dfMergeado.values\n",
    "X = array[:,2:]\n",
    "y = array[:,0]\n",
    "validation_size = 0.20\n",
    "seed = 7\n",
    "X_train, X_validation, y_train, y_validation = train_test_split(X, y, test_size=validation_size, random_state=seed)\n",
    "\n",
    "model=Pipeline([('Scaler', MinMaxScaler()),('ET', ExtraTreesRegressor(n_estimators=400))])\n",
    "model.fit(X_train, y_train)"
   ]
  },
  {
   "cell_type": "code",
   "execution_count": 32,
   "metadata": {},
   "outputs": [
    {
     "name": "stdout",
     "output_type": "stream",
     "text": [
      "66.26858034541398\n"
     ]
    }
   ],
   "source": [
    "### Aplicamos predicciones sobre el dataset de validación y obtenemos su error cuadrático medio\n",
    "\n",
    "predicciones = model.predict(X_validation)\n",
    "print(mean_squared_error(y_validation, predicciones))"
   ]
  },
  {
   "cell_type": "markdown",
   "metadata": {},
   "source": [
    "Vamos a pintar los datos PM10 de validación junto a las predicciones realizadas por nuestro algoritmo"
   ]
  },
  {
   "cell_type": "code",
   "execution_count": 33,
   "metadata": {},
   "outputs": [
    {
     "data": {
      "image/png": "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\n",
      "text/plain": [
       "<Figure size 1512x576 with 1 Axes>"
      ]
     },
     "metadata": {
      "needs_background": "light"
     },
     "output_type": "display_data"
    }
   ],
   "source": [
    "plt.figure(figsize=(21, 8))\n",
    "\n",
    "grafica = plt.plot(y_validation,'--r',predicciones,'-og')\n",
    "plt.legend(('Valores validación PM10', 'Predicciones PM10'),\n",
    "           loc='upper right')\n",
    "plt.show;"
   ]
<<<<<<< HEAD
>>>>>>> dev
=======
  },
  {
   "cell_type": "markdown",
   "metadata": {},
   "source": [
    "## 5) Guardado del modelo"
   ]
  },
  {
   "cell_type": "code",
   "execution_count": 34,
   "metadata": {},
   "outputs": [
    {
     "data": {
      "text/plain": [
       "Pipeline(steps=[('Scaler', MinMaxScaler()),\n",
       "                ('ET', ExtraTreesRegressor(n_estimators=400))])"
      ]
     },
     "execution_count": 34,
     "metadata": {},
     "output_type": "execute_result"
    }
   ],
   "source": [
    "#Entrenamos el modelo con el dataset completo\n",
    "\n",
    "array = dfMergeado.values\n",
    "X = array[:,2:]\n",
    "y = array[:,0]\n",
    "\n",
    "model=Pipeline([('Scaler', MinMaxScaler()),('ET', ExtraTreesRegressor(n_estimators=400))])\n",
    "model.fit(X, y)"
   ]
  },
  {
   "cell_type": "code",
   "execution_count": 35,
   "metadata": {},
   "outputs": [
    {
     "data": {
      "text/plain": [
       "['Modelo_finalizado_BarcelonaPM10.sav']"
      ]
     },
     "execution_count": 35,
     "metadata": {},
     "output_type": "execute_result"
    }
   ],
   "source": [
    "#Guardamos el modelo usando la biblioteca Joblib\n",
    "\n",
    "fichero_modeloJoblib = 'Modelo_finalizado_BarcelonaPM10.sav'\n",
    "dump(model, fichero_modeloJoblib)"
   ]
<<<<<<< HEAD
  },
  {
   "cell_type": "code",
   "execution_count": null,
   "metadata": {},
   "outputs": [],
   "source": []
=======
>>>>>>> dev
>>>>>>> adc43366935e7b791c030c928f364bad0088a578
  }
 ],
 "metadata": {
  "kernelspec": {
   "display_name": "Python 3",
   "language": "python",
   "name": "python3"
  },
  "language_info": {
   "codemirror_mode": {
    "name": "ipython",
    "version": 3
   },
   "file_extension": ".py",
   "mimetype": "text/x-python",
   "name": "python",
   "nbconvert_exporter": "python",
   "pygments_lexer": "ipython3",
   "version": "3.8.2"
  }
 },
 "nbformat": 4,
 "nbformat_minor": 4
}
