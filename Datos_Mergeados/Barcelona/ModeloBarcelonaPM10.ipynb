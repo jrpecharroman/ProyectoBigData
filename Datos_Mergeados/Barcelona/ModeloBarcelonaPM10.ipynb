{
 "cells": [
  {
   "cell_type": "markdown",
   "metadata": {},
   "source": [
    "# Modelo para predicción PM10 en Barcelona"
   ]
  },
  {
   "cell_type": "markdown",
   "metadata": {},
   "source": [
    "## Preprocesamiento, evaluación de algoritmos, construcción de modelo de predicción"
   ]
  },
  {
   "cell_type": "markdown",
   "metadata": {},
   "source": [
    "Realizamos primero un estudio completo cargando el dataset mergeado trabajado con selección de 4 características de Meteorología."
   ]
  },
  {
   "cell_type": "code",
   "execution_count": 2,
   "metadata": {},
   "outputs": [],
   "source": [
    "#Importamos las librerías que vamos a usar para los distintos pasos del problema\n",
    "\n",
    "import numpy as np\n",
    "import pandas as pd\n",
    "from numpy import set_printoptions\n",
    "#Visualización\n",
    "from pandas.plotting import scatter_matrix\n",
    "import matplotlib.pyplot as plt\n",
    "import seaborn as sns\n",
    "#Preprocesamiento\n",
    "from sklearn.preprocessing import MinMaxScaler\n",
    "from sklearn.preprocessing import StandardScaler\n",
    "from sklearn.preprocessing import Normalizer\n",
    "from sklearn.preprocessing import Binarizer\n",
    "#Remuestreo\n",
    "from sklearn.model_selection import train_test_split;\n",
    "from sklearn.model_selection import KFold\n",
    "from sklearn.model_selection import cross_val_score\n",
    "#Algoritmos de Regresión Lineal\n",
    "from sklearn.linear_model import LinearRegression\n",
    "from sklearn.linear_model import Lasso\n",
    "from sklearn.linear_model import Ridge\n",
    "from sklearn.linear_model import ElasticNet\n",
    "#Algoritmos de Regresión No Lineal\n",
    "from sklearn.tree import DecisionTreeRegressor\n",
    "from sklearn.neighbors import KNeighborsRegressor\n",
    "from sklearn.svm import SVR\n",
    "#Métricas de evaluación de algoritmos\n",
    "from sklearn import metrics\n",
    "from sklearn.metrics import confusion_matrix\n",
    "from sklearn.metrics import classification_report\n",
    "#Ensamblamiento Clasificación \n",
    "from sklearn.ensemble import AdaBoostClassifier\n",
    "from sklearn.ensemble import GradientBoostingClassifier\n",
    "from sklearn.ensemble import BaggingClassifier\n",
    "from sklearn.ensemble import RandomForestClassifier\n",
    "from sklearn.ensemble import ExtraTreesClassifier\n",
    "from sklearn.ensemble import VotingClassifier\n",
    "#Tuning\n",
    "from sklearn.model_selection import GridSearchCV\n",
    "from sklearn.model_selection import RandomizedSearchCV\n"
   ]
  },
  {
   "cell_type": "markdown",
   "metadata": {},
   "source": [
    "### Carga del dataset mergeado trabajado con selección de características para PM10"
   ]
  },
  {
   "cell_type": "code",
   "execution_count": 3,
   "metadata": {},
   "outputs": [
    {
     "name": "stdout",
     "output_type": "stream",
     "text": [
      "                 pm10  year_x  month_x  day   month-day  ndia indicativo  \\\n",
      "date                                                                       \n",
      "2018-01-01  10.000000    2018        1    1  1900-01-01     1      0201D   \n",
      "2018-01-02  11.000000    2018        1    2  1900-01-02     2      0201D   \n",
      "2018-01-03  10.000000    2018        1    3  1900-01-03     3      0201D   \n",
      "2018-01-04  11.000000    2018        1    4  1900-01-04     4      0201D   \n",
      "2018-01-05  10.000000    2018        1    5  1900-01-05     5      0201D   \n",
      "...               ...     ...      ...  ...         ...   ...        ...   \n",
      "2019-12-27  16.000000    2019       12   27  1900-12-27   726      0201D   \n",
      "2019-12-28  19.000000    2019       12   28  1900-12-28   727      0201D   \n",
      "2019-12-29  23.000000    2019       12   29  1900-12-29   728      0201D   \n",
      "2019-12-30  23.712692    2019       12   30  1900-12-30   729      0201D   \n",
      "2019-12-31  23.712692    2019       12   31  1900-12-31   730      0201D   \n",
      "\n",
      "               nombre  altitud  tmed  racha  sol  presmin  week  season  \\\n",
      "date                                                                      \n",
      "2018-01-01  BARCELONA      6.0  12.8   18.1  5.1   1017.9     1       1   \n",
      "2018-01-02  BARCELONA      6.0  14.6   10.3  3.1   1022.2     1       1   \n",
      "2018-01-03  BARCELONA      6.0  17.9   18.3  1.9   1018.7     1       1   \n",
      "2018-01-04  BARCELONA      6.0  19.2   20.0  5.9   1015.1     1       1   \n",
      "2018-01-05  BARCELONA      6.0  16.4   13.3  6.4   1004.6     1       1   \n",
      "...               ...      ...   ...    ...  ...      ...   ...     ...   \n",
      "2019-12-27  BARCELONA      6.0  12.0    8.1  5.1   1026.3    52       1   \n",
      "2019-12-28  BARCELONA      6.0  11.0    5.8  5.2   1028.0    52       1   \n",
      "2019-12-29  BARCELONA      6.0  12.3    4.2  0.1   1030.3    52       1   \n",
      "2019-12-30  BARCELONA      6.0  11.6    6.1  0.7   1031.2     1       1   \n",
      "2019-12-31  BARCELONA      6.0  10.8    6.7  1.8   1030.8     1       1   \n",
      "\n",
      "           season_name  Estado_Actual  diadelasemana  findesemana  \n",
      "date                                                               \n",
      "2018-01-01      Winter       1.501611              0            0  \n",
      "2018-01-02      Winter       1.855361              1            0  \n",
      "2018-01-03      Winter       1.914663              2            0  \n",
      "2018-01-04      Winter       1.917587              3            0  \n",
      "2018-01-05      Winter       1.933171              4            0  \n",
      "...                ...            ...            ...          ...  \n",
      "2019-12-27      Winter       1.879245              4            0  \n",
      "2019-12-28      Winter       1.677568              5            1  \n",
      "2019-12-29      Winter       1.567480              6            1  \n",
      "2019-12-30      Winter       1.895104              0            0  \n",
      "2019-12-31      Winter       1.804372              1            0  \n",
      "\n",
      "[730 rows x 19 columns]\n"
     ]
    }
   ],
   "source": [
    "#cogemos el dataset trabajado anteriormente con los datos mergeados y habiendo hecho una reducción de variables\n",
    "url_fichero_mercscpm10 = './DatosMergeadosBarcelona_ConSeleccionCaract_ParaPM10.csv'\n",
    "dfMergeadoSelCaractPM10 = pd.read_csv(url_fichero_mercscpm10)\n",
    "dfMergeadoSelCaractPM10 = dfMergeadoSelCaractPM10.set_index('date')\n",
    "print(dfMergeadoSelCaractPM10)"
   ]
  }
 ],
 "metadata": {
  "kernelspec": {
   "display_name": "Python 3",
   "language": "python",
   "name": "python3"
  },
  "language_info": {
   "codemirror_mode": {
    "name": "ipython",
    "version": 3
   },
   "file_extension": ".py",
   "mimetype": "text/x-python",
   "name": "python",
   "nbconvert_exporter": "python",
   "pygments_lexer": "ipython3",
   "version": "3.8.5"
  }
 },
 "nbformat": 4,
 "nbformat_minor": 4
}
